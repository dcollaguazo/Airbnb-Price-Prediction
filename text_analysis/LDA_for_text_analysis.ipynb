{
 "cells": [
  {
   "cell_type": "code",
   "execution_count": 252,
   "metadata": {},
   "outputs": [
    {
     "name": "stderr",
     "output_type": "stream",
     "text": [
      "[nltk_data] Downloading package stopwords to\n",
      "[nltk_data]     /Users/danielacollaguazo/nltk_data...\n",
      "[nltk_data]   Package stopwords is already up-to-date!\n"
     ]
    }
   ],
   "source": [
    "# Run in python console\n",
    "import nltk; nltk.download('stopwords')\n",
    "import spacy\n",
    "\n",
    "import re\n",
    "import os\n",
    "import numpy as np\n",
    "import pandas as pd\n",
    "import zipfile\n",
    "\n",
    "from pprint import pprint\n",
    "\n",
    "# Gensim\n",
    "import gensim\n",
    "import gensim.corpora as corpora\n",
    "from gensim.utils import simple_preprocess\n",
    "from gensim.models import CoherenceModel\n",
    "\n",
    "# spacy for lemmatization\n",
    "import spacy\n",
    "import en_core_web_sm\n",
    "\n",
    "# Plotting tools\n",
    "import pyLDAvis\n",
    "import pyLDAvis.gensim  # don't skip this\n",
    "import matplotlib.pyplot as plt\n",
    "%matplotlib inline\n",
    "\n",
    "# NLTK Stop words\n",
    "from nltk.corpus import stopwords\n",
    "stop_words = stopwords.words('english')\n",
    "\n",
    "from langdetect import detect\n",
    "\n",
    "# Enable logging for gensim - optional\n",
    "import logging\n",
    "logging.basicConfig(format='%(asctime)s : %(levelname)s : %(message)s', level=logging.ERROR)\n",
    "\n",
    "import warnings\n",
    "warnings.filterwarnings(\"ignore\",category=DeprecationWarning)\n",
    "\n",
    "\n",
    "import shutil\n",
    "import glob\n",
    "from tika import parser"
   ]
  },
  {
   "cell_type": "markdown",
   "metadata": {},
   "source": [
    "## Importing data into DataFrame"
   ]
  },
  {
   "cell_type": "code",
   "execution_count": 2,
   "metadata": {},
   "outputs": [],
   "source": [
    "def create_data_frame(csv_path):\n",
    "    df = pd.read_csv(csv_path)\n",
    "    return df"
   ]
  },
  {
   "cell_type": "code",
   "execution_count": 3,
   "metadata": {},
   "outputs": [
    {
     "name": "stderr",
     "output_type": "stream",
     "text": [
      "/Users/danielacollaguazo/anaconda/envs/GTWorkshops/lib/python3.7/site-packages/IPython/core/interactiveshell.py:3254: DtypeWarning: Columns (61,62) have mixed types. Specify dtype option on import or set low_memory=False.\n",
      "  if (await self.run_code(code, result,  async_=asy)):\n"
     ]
    }
   ],
   "source": [
    "path = '../data/austin-airbnb/'\n",
    "calendar_csv = os.path.join(path,'calendar.csv')\n",
    "listings_csv = os.path.join(path,'listings.csv')\n",
    "neighborhoods_csv = os.path.join(path,'neighborhoods.csv')\n",
    "\n",
    "calendar_df = create_data_frame(calendar_csv)\n",
    "listings_df = create_data_frame(listings_csv)\n",
    "neighborhoods_df = create_data_frame(neighborhoods_csv)"
   ]
  },
  {
   "cell_type": "markdown",
   "metadata": {},
   "source": [
    "## Exploring DataFrames"
   ]
  },
  {
   "cell_type": "code",
   "execution_count": 4,
   "metadata": {},
   "outputs": [],
   "source": [
    "# calendar_df.head()\n",
    "# calendar_df.shape\n",
    "# neighborhoods_df.head()"
   ]
  },
  {
   "cell_type": "code",
   "execution_count": 5,
   "metadata": {},
   "outputs": [
    {
     "data": {
      "text/plain": [
       "id                                                int64\n",
       "listing_url                                      object\n",
       "scrape_id                                         int64\n",
       "last_scraped                                     object\n",
       "name                                             object\n",
       "summary                                          object\n",
       "space                                            object\n",
       "description                                      object\n",
       "experiences_offered                              object\n",
       "neighborhood_overview                            object\n",
       "notes                                            object\n",
       "transit                                          object\n",
       "access                                           object\n",
       "interaction                                      object\n",
       "house_rules                                      object\n",
       "thumbnail_url                                   float64\n",
       "medium_url                                      float64\n",
       "picture_url                                      object\n",
       "xl_picture_url                                  float64\n",
       "host_id                                           int64\n",
       "host_url                                         object\n",
       "host_name                                        object\n",
       "host_since                                       object\n",
       "host_location                                    object\n",
       "host_about                                       object\n",
       "host_response_time                               object\n",
       "host_response_rate                               object\n",
       "host_acceptance_rate                             object\n",
       "host_is_superhost                                object\n",
       "host_thumbnail_url                               object\n",
       "                                                 ...   \n",
       "has_availability                                 object\n",
       "availability_30                                   int64\n",
       "availability_60                                   int64\n",
       "availability_90                                   int64\n",
       "availability_365                                  int64\n",
       "calendar_last_scraped                            object\n",
       "number_of_reviews                                 int64\n",
       "number_of_reviews_ltm                             int64\n",
       "first_review                                     object\n",
       "last_review                                      object\n",
       "review_scores_rating                            float64\n",
       "review_scores_accuracy                          float64\n",
       "review_scores_cleanliness                       float64\n",
       "review_scores_checkin                           float64\n",
       "review_scores_communication                     float64\n",
       "review_scores_location                          float64\n",
       "review_scores_value                             float64\n",
       "requires_license                                 object\n",
       "license                                          object\n",
       "jurisdiction_names                               object\n",
       "instant_bookable                                 object\n",
       "is_business_travel_ready                         object\n",
       "cancellation_policy                              object\n",
       "require_guest_profile_picture                    object\n",
       "require_guest_phone_verification                 object\n",
       "calculated_host_listings_count                    int64\n",
       "calculated_host_listings_count_entire_homes       int64\n",
       "calculated_host_listings_count_private_rooms      int64\n",
       "calculated_host_listings_count_shared_rooms       int64\n",
       "reviews_per_month                               float64\n",
       "Length: 106, dtype: object"
      ]
     },
     "execution_count": 5,
     "metadata": {},
     "output_type": "execute_result"
    }
   ],
   "source": [
    "# listings_df.head()\n",
    "# Looking for text in the data\n",
    "listings_df.dtypes\n",
    "\n",
    "# # iterating the columns \n",
    "# for col in listings_df.columns: \n",
    "#     print(col)"
   ]
  },
  {
   "cell_type": "code",
   "execution_count": 253,
   "metadata": {},
   "outputs": [],
   "source": [
    "def predict_lang(x):\n",
    "    lang=''\n",
    "    txt_len=len(x)\n",
    "    if txt_len>50:\n",
    "        try:\n",
    "            lang=detect(x)\n",
    "        except Exception as e:\n",
    "            lang=''\n",
    "    return lang"
   ]
  },
  {
   "cell_type": "code",
   "execution_count": 256,
   "metadata": {},
   "outputs": [],
   "source": [
    "listings_df['content'] = listings_df['name'] + listings_df['summary']\n",
    "listings_df.dropna(subset=['content'], how='any', axis=0, inplace=True)\n",
    "listings_df['content_lang'] = listings_df.content.apply(lambda x: predict_lang(x))"
   ]
  },
  {
   "cell_type": "code",
   "execution_count": 257,
   "metadata": {},
   "outputs": [
    {
     "data": {
      "text/plain": [
       "(11244, 108)"
      ]
     },
     "execution_count": 257,
     "metadata": {},
     "output_type": "execute_result"
    }
   ],
   "source": [
    "listings_df.shape"
   ]
  },
  {
   "cell_type": "code",
   "execution_count": 258,
   "metadata": {},
   "outputs": [],
   "source": [
    "# getting only text in English\n",
    "listings_df=listings_df[listings_df.content_lang=='en']"
   ]
  },
  {
   "cell_type": "code",
   "execution_count": 260,
   "metadata": {},
   "outputs": [],
   "source": [
    "def generate_list_content(df):\n",
    "#     df['content'] = df['name'] + df['summary']\n",
    "#     df['content'] = df['content'].replace(np.nan, '', regex=True)\n",
    "    \n",
    "    # Convert to list\n",
    "    data = df['content'].values.tolist()\n",
    "\n",
    "    # Remove Emails\n",
    "    data = [re.sub('\\S*@\\S*\\s?', '', sent) for sent in data]\n",
    "\n",
    "    # Remove new line characters\n",
    "    data = [re.sub('\\s+', ' ', sent) for sent in data]\n",
    "\n",
    "    # Remove distracting single quotes\n",
    "    data = [re.sub(\"\\'\", \"\", sent) for sent in data]\n",
    "    \n",
    "    \n",
    "    return data"
   ]
  },
  {
   "cell_type": "code",
   "execution_count": 261,
   "metadata": {},
   "outputs": [],
   "source": [
    "lst_texts = generate_list_content(listings_df)\n",
    "# listings_df['content']"
   ]
  },
  {
   "cell_type": "code",
   "execution_count": 263,
   "metadata": {},
   "outputs": [
    {
     "data": {
      "text/plain": [
       "11169"
      ]
     },
     "execution_count": 263,
     "metadata": {},
     "output_type": "execute_result"
    }
   ],
   "source": [
    "len(lst_texts)"
   ]
  },
  {
   "cell_type": "markdown",
   "metadata": {},
   "source": [
    "## Tokenize words and clean up text"
   ]
  },
  {
   "cell_type": "code",
   "execution_count": 264,
   "metadata": {},
   "outputs": [],
   "source": [
    "# here we are tokenizing each document.\n",
    "def content_to_words(lst_texts):\n",
    "    for text in lst_texts:\n",
    "        yield(gensim.utils.simple_preprocess(str(text), deacc=True))\n",
    "        \n",
    "# data_words is a list where each element is the tokenized document\n",
    "tokenized_content = list(content_to_words(lst_texts))"
   ]
  },
  {
   "cell_type": "markdown",
   "metadata": {},
   "source": [
    "## Create bigram and trigrams"
   ]
  },
  {
   "cell_type": "code",
   "execution_count": 265,
   "metadata": {},
   "outputs": [],
   "source": [
    "# Build the bigram and trigram models\n",
    "bigram = gensim.models.Phrases(tokenized_content, min_count=10, threshold=100) # higher threshold fewer phrases.\n",
    "trigram = gensim.models.Phrases(bigram[tokenized_content], threshold=100)  \n",
    "\n",
    "\n",
    "# Faster way to get a sentence clubbed as a trigram/bigram\n",
    "bigram_mod = gensim.models.phrases.Phraser(bigram)\n",
    "trigram_mod = gensim.models.phrases.Phraser(trigram)"
   ]
  },
  {
   "cell_type": "markdown",
   "metadata": {},
   "source": [
    "## Remove Stopwords, Make Bigrams and Lemmatize"
   ]
  },
  {
   "cell_type": "code",
   "execution_count": 266,
   "metadata": {},
   "outputs": [],
   "source": [
    "# Define functions for stopwords, bigrams, trigrams and lemmatization\n",
    "def remove_stopwords(tokenized_content):\n",
    "    return [[word for word in simple_preprocess(str(doc)) if word not in stop_words] for doc in tokenized_content]\n",
    "\n",
    "def make_bigrams(tokenized_content):\n",
    "    return [bigram_mod[doc] for doc in tokenized_content]\n",
    "\n",
    "def make_trigrams(tokenized_content):\n",
    "    return [trigram_mod[bigram_mod[doc]] for doc in tokenized_content]\n",
    "\n",
    "def lemmatization(tokenized_content, allowed_postags=['NOUN', 'ADJ', 'VERB', 'ADV']):\n",
    "    \"\"\"https://spacy.io/api/annotation\"\"\"\n",
    "    texts_out = []\n",
    "    for sent in tokenized_content:\n",
    "        doc = nlp(\" \".join(sent)) \n",
    "        texts_out.append([token.lemma_ for token in doc if token.pos_ in allowed_postags])\n",
    "    return texts_out\n",
    "nlp = en_core_web_sm.load(disable=['parser', 'ner'])"
   ]
  },
  {
   "cell_type": "code",
   "execution_count": 267,
   "metadata": {},
   "outputs": [],
   "source": [
    "# Remove Stop Words\n",
    "tokenized_content_nostops = remove_stopwords(tokenized_content)\n",
    "\n",
    "# Form Bigrams\n",
    "tokenized_content_bigrams = make_bigrams(tokenized_content_nostops)\n",
    "\n",
    "# Do lemmatization keeping only noun, adj, vb, adv\n",
    "tokenized_content_lemmatized = lemmatization(tokenized_content_bigrams, \n",
    "                                             allowed_postags=['NOUN', 'ADJ', 'VERB', 'ADV'])"
   ]
  },
  {
   "cell_type": "markdown",
   "metadata": {},
   "source": [
    "## Create the Dictionary and Corpus needed for Topic Modeling"
   ]
  },
  {
   "cell_type": "code",
   "execution_count": 268,
   "metadata": {},
   "outputs": [],
   "source": [
    "# Create Dictionary:\n",
    "# Mapping from word IDs to words. \n",
    "# It is used to determine the vocabulary size, as well as for debugging and topic printing.\n",
    "id2word = corpora.Dictionary(tokenized_content_lemmatized)\n",
    "# print(len(id2word)) # corpus has 14118 unique tokens\n",
    "\n",
    "# Term Document Frequency\n",
    "# Convert document (a list of words) into the bag-of-words format = list of (token_id, token_count) 2-tuples.\n",
    "# Word with their corresponding id\n",
    "corpus = [id2word.doc2bow(text) for text in tokenized_content_lemmatized]\n",
    "\n",
    "# View\n",
    "# print(corpus[:1])"
   ]
  },
  {
   "cell_type": "markdown",
   "metadata": {},
   "source": [
    "## Build list of topic models"
   ]
  },
  {
   "cell_type": "code",
   "execution_count": 269,
   "metadata": {},
   "outputs": [],
   "source": [
    "def build_topics(num_topics):\n",
    "    list_models=[]\n",
    "    for n in num_topics:\n",
    "        topic_name = 'lda_model_' + str(n)\n",
    "        topic_name = gensim.models.ldamodel.LdaModel(corpus=corpus, id2word=id2word, \n",
    "                                                     num_topics=n, random_state=100, \n",
    "                                                     update_every=1, chunksize=100, \n",
    "                                                     passes=10, alpha='auto', \n",
    "                                                     per_word_topics=True)\n",
    "        list_models.append(topic_name)\n",
    "    return list_models\n",
    "\n",
    "num_topics = [2,3,4,5,6,7,8,9,10,11,12,13,14,15,16,17,18,19,20]\n",
    "models = build_topics(num_topics)"
   ]
  },
  {
   "cell_type": "markdown",
   "metadata": {},
   "source": [
    "## Compute Model Perplexity and Coherence Score for all models"
   ]
  },
  {
   "cell_type": "code",
   "execution_count": 270,
   "metadata": {},
   "outputs": [],
   "source": [
    "def calc_perplexity_coherence(models):\n",
    "    list_perplexity = []\n",
    "    list_coherence = []\n",
    "    \n",
    "    for model in models:\n",
    "        list_perplexity.append(model.log_perplexity(corpus))\n",
    "        coherence_model_lda = CoherenceModel(model=model, texts=tokenized_content_lemmatized, \n",
    "                                             dictionary=id2word, coherence='c_v')\n",
    "        list_coherence.append(coherence_model_lda.get_coherence())\n",
    "    return list_perplexity, list_coherence\n",
    "\n",
    "x = calc_perplexity_coherence(models)      "
   ]
  },
  {
   "cell_type": "code",
   "execution_count": 271,
   "metadata": {},
   "outputs": [
    {
     "data": {
      "text/html": [
       "<div>\n",
       "<style scoped>\n",
       "    .dataframe tbody tr th:only-of-type {\n",
       "        vertical-align: middle;\n",
       "    }\n",
       "\n",
       "    .dataframe tbody tr th {\n",
       "        vertical-align: top;\n",
       "    }\n",
       "\n",
       "    .dataframe thead th {\n",
       "        text-align: right;\n",
       "    }\n",
       "</style>\n",
       "<table border=\"1\" class=\"dataframe\">\n",
       "  <thead>\n",
       "    <tr style=\"text-align: right;\">\n",
       "      <th></th>\n",
       "      <th>Perplexity</th>\n",
       "      <th>Coherence</th>\n",
       "      <th>Number of topics</th>\n",
       "    </tr>\n",
       "  </thead>\n",
       "  <tbody>\n",
       "    <tr>\n",
       "      <th>0</th>\n",
       "      <td>-6.802208</td>\n",
       "      <td>0.363775</td>\n",
       "      <td>2</td>\n",
       "    </tr>\n",
       "    <tr>\n",
       "      <th>1</th>\n",
       "      <td>-6.814640</td>\n",
       "      <td>0.481708</td>\n",
       "      <td>3</td>\n",
       "    </tr>\n",
       "    <tr>\n",
       "      <th>2</th>\n",
       "      <td>-6.851684</td>\n",
       "      <td>0.509196</td>\n",
       "      <td>4</td>\n",
       "    </tr>\n",
       "    <tr>\n",
       "      <th>3</th>\n",
       "      <td>-6.867068</td>\n",
       "      <td>0.377042</td>\n",
       "      <td>5</td>\n",
       "    </tr>\n",
       "    <tr>\n",
       "      <th>4</th>\n",
       "      <td>-6.908345</td>\n",
       "      <td>0.367520</td>\n",
       "      <td>6</td>\n",
       "    </tr>\n",
       "    <tr>\n",
       "      <th>5</th>\n",
       "      <td>-6.936621</td>\n",
       "      <td>0.435445</td>\n",
       "      <td>7</td>\n",
       "    </tr>\n",
       "    <tr>\n",
       "      <th>6</th>\n",
       "      <td>-6.987970</td>\n",
       "      <td>0.358415</td>\n",
       "      <td>8</td>\n",
       "    </tr>\n",
       "    <tr>\n",
       "      <th>7</th>\n",
       "      <td>-7.059409</td>\n",
       "      <td>0.425991</td>\n",
       "      <td>9</td>\n",
       "    </tr>\n",
       "    <tr>\n",
       "      <th>8</th>\n",
       "      <td>-7.171324</td>\n",
       "      <td>0.352549</td>\n",
       "      <td>10</td>\n",
       "    </tr>\n",
       "    <tr>\n",
       "      <th>9</th>\n",
       "      <td>-7.342536</td>\n",
       "      <td>0.394595</td>\n",
       "      <td>11</td>\n",
       "    </tr>\n",
       "    <tr>\n",
       "      <th>10</th>\n",
       "      <td>-7.660093</td>\n",
       "      <td>0.371067</td>\n",
       "      <td>12</td>\n",
       "    </tr>\n",
       "    <tr>\n",
       "      <th>11</th>\n",
       "      <td>-8.185748</td>\n",
       "      <td>0.375349</td>\n",
       "      <td>13</td>\n",
       "    </tr>\n",
       "    <tr>\n",
       "      <th>12</th>\n",
       "      <td>-8.831407</td>\n",
       "      <td>0.362163</td>\n",
       "      <td>14</td>\n",
       "    </tr>\n",
       "    <tr>\n",
       "      <th>13</th>\n",
       "      <td>-9.608494</td>\n",
       "      <td>0.325132</td>\n",
       "      <td>15</td>\n",
       "    </tr>\n",
       "    <tr>\n",
       "      <th>14</th>\n",
       "      <td>-10.273770</td>\n",
       "      <td>0.348226</td>\n",
       "      <td>16</td>\n",
       "    </tr>\n",
       "    <tr>\n",
       "      <th>15</th>\n",
       "      <td>-10.639489</td>\n",
       "      <td>0.356174</td>\n",
       "      <td>17</td>\n",
       "    </tr>\n",
       "    <tr>\n",
       "      <th>16</th>\n",
       "      <td>-11.188421</td>\n",
       "      <td>0.328627</td>\n",
       "      <td>18</td>\n",
       "    </tr>\n",
       "    <tr>\n",
       "      <th>17</th>\n",
       "      <td>-11.412537</td>\n",
       "      <td>0.318268</td>\n",
       "      <td>19</td>\n",
       "    </tr>\n",
       "    <tr>\n",
       "      <th>18</th>\n",
       "      <td>-11.665379</td>\n",
       "      <td>0.329766</td>\n",
       "      <td>20</td>\n",
       "    </tr>\n",
       "  </tbody>\n",
       "</table>\n",
       "</div>"
      ],
      "text/plain": [
       "    Perplexity  Coherence  Number of topics\n",
       "0    -6.802208   0.363775                 2\n",
       "1    -6.814640   0.481708                 3\n",
       "2    -6.851684   0.509196                 4\n",
       "3    -6.867068   0.377042                 5\n",
       "4    -6.908345   0.367520                 6\n",
       "5    -6.936621   0.435445                 7\n",
       "6    -6.987970   0.358415                 8\n",
       "7    -7.059409   0.425991                 9\n",
       "8    -7.171324   0.352549                10\n",
       "9    -7.342536   0.394595                11\n",
       "10   -7.660093   0.371067                12\n",
       "11   -8.185748   0.375349                13\n",
       "12   -8.831407   0.362163                14\n",
       "13   -9.608494   0.325132                15\n",
       "14  -10.273770   0.348226                16\n",
       "15  -10.639489   0.356174                17\n",
       "16  -11.188421   0.328627                18\n",
       "17  -11.412537   0.318268                19\n",
       "18  -11.665379   0.329766                20"
      ]
     },
     "execution_count": 271,
     "metadata": {},
     "output_type": "execute_result"
    }
   ],
   "source": [
    "df_metrics = pd.DataFrame(list(x)).transpose()\n",
    "df_metrics.columns = ['Perplexity','Coherence']\n",
    "df_metrics['Number of topics'] = num_topics\n",
    "df_metrics"
   ]
  },
  {
   "cell_type": "markdown",
   "metadata": {},
   "source": [
    "## Graphic of number of Topics and Perplexity"
   ]
  },
  {
   "cell_type": "code",
   "execution_count": 272,
   "metadata": {},
   "outputs": [
    {
     "data": {
      "image/png": "[encoded data removed]",
      "text/plain": [
       "<Figure size 432x288 with 1 Axes>"
      ]
     },
     "metadata": {
      "needs_background": "light"
     },
     "output_type": "display_data"
    }
   ],
   "source": [
    "# Perplexity needs to be as low as possible \n",
    "plt.plot( 'Number of topics', 'Perplexity', data=df_metrics, color='skyblue')\n",
    "plt.xlabel(\"Number of Topics\")\n",
    "plt.ylabel(\"Perplexity\")\n",
    "plt.show()"
   ]
  },
  {
   "cell_type": "markdown",
   "metadata": {},
   "source": [
    "## Graphic of number of Topics and Coherence"
   ]
  },
  {
   "cell_type": "code",
   "execution_count": 273,
   "metadata": {},
   "outputs": [
    {
     "data": {
      "image/png": "[encoded data removed]",
      "text/plain": [
       "<Figure size 432x288 with 1 Axes>"
      ]
     },
     "metadata": {
      "needs_background": "light"
     },
     "output_type": "display_data"
    }
   ],
   "source": [
    "# Perplexity needs to be as low as possible \n",
    "plt.plot( 'Number of topics', 'Coherence', data=df_metrics, color='orange')\n",
    "plt.xlabel(\"Number of Topics\")\n",
    "plt.ylabel(\"Coherence\")\n",
    "plt.show()"
   ]
  },
  {
   "cell_type": "markdown",
   "metadata": {},
   "source": [
    "## Most salient topic per file using results of Model of choice"
   ]
  },
  {
   "cell_type": "code",
   "execution_count": 37,
   "metadata": {},
   "outputs": [],
   "source": [
    "# def format_topics_sentences(ldamodel=None, corpus=corpus, texts=lst_texts):\n",
    "#     # Init output\n",
    "#     sent_topics_df = pd.DataFrame()\n",
    "\n",
    "#     # Get main topic in each document\n",
    "#     for i, row_list in enumerate(ldamodel[corpus]):\n",
    "#         row = row_list[0] if ldamodel.per_word_topics else row_list            \n",
    "#         print(row)\n",
    "#         row = sorted(row, key=lambda x: (x[1]), reverse=True)\n",
    "#         # Get the Dominant topic, Perc Contribution and Keywords for each document\n",
    "#         for j, (topic_num, prop_topic) in enumerate(row):\n",
    "#             if j == 0:  # => dominant topic\n",
    "#                 wp = ldamodel.show_topic(topic_num)\n",
    "#                 topic_keywords = \", \".join([word for word, prop in wp])\n",
    "#                 sent_topics_df = sent_topics_df.append(pd.Series([int(topic_num) + 1, \n",
    "#                                                                   round(prop_topic,4), \n",
    "#                                                                   topic_keywords]), ignore_index=True)\n",
    "#             else:\n",
    "#                 break\n",
    "#     sent_topics_df.columns = ['Dominant_Topic', 'Perc_Contribution', 'Topic_Keywords']\n",
    "\n",
    "#     # Add original text to the end of the output\n",
    "# #     contents = pd.Series(texts)\n",
    "#     sent_topics_df = pd.concat([listings_df,sent_topics_df], axis=1, sort=False)\n",
    "#     return(sent_topics_df)"
   ]
  },
  {
   "cell_type": "markdown",
   "metadata": {},
   "source": [
    "## DataFrame with scores of all topics"
   ]
  },
  {
   "cell_type": "code",
   "execution_count": 274,
   "metadata": {},
   "outputs": [],
   "source": [
    "def format_topics_sentences(ldamodel=None, corpus=corpus, texts=lst_texts):\n",
    "    # Init output\n",
    "    sent_topics_df = list()\n",
    "\n",
    "    # Get main topic in each document\n",
    "    for i, row_list in enumerate(ldamodel[corpus]):\n",
    "        row = row_list[0] if ldamodel.per_word_topics else row_list            \n",
    "        row = sorted(row, key=lambda x: (x[1]), reverse=True)\n",
    "        sent_topics_df.append(row)\n",
    "        \n",
    "    sent_topics_df = pd.DataFrame(sent_topics_df)\n",
    "    sent_topics_df.columns = ['Dominant_Topic_1', 'Dominant_Topic_2', 'Dominant_Topic_3','Dominant_Topic_4']\n",
    "    sent_topics_df = pd.concat([listings_df.id,sent_topics_df], axis=1, sort=False)\n",
    "    sent_topics_df.set_index('id',inplace=True)\n",
    "    \n",
    "    df_n_cols = sent_topics_df.shape[1]\n",
    "    \n",
    "    return sent_topics_df, df_n_cols"
   ]
  },
  {
   "cell_type": "code",
   "execution_count": 275,
   "metadata": {},
   "outputs": [],
   "source": [
    "sent_topics_df, df_n_cols = format_topics_sentences(ldamodel=models[2], corpus=corpus, texts=lst_texts)"
   ]
  },
  {
   "cell_type": "code",
   "execution_count": 276,
   "metadata": {},
   "outputs": [
    {
     "data": {
      "text/html": [
       "<div>\n",
       "<style scoped>\n",
       "    .dataframe tbody tr th:only-of-type {\n",
       "        vertical-align: middle;\n",
       "    }\n",
       "\n",
       "    .dataframe tbody tr th {\n",
       "        vertical-align: top;\n",
       "    }\n",
       "\n",
       "    .dataframe thead th {\n",
       "        text-align: right;\n",
       "    }\n",
       "</style>\n",
       "<table border=\"1\" class=\"dataframe\">\n",
       "  <thead>\n",
       "    <tr style=\"text-align: right;\">\n",
       "      <th></th>\n",
       "      <th>Dominant_Topic_1</th>\n",
       "      <th>Dominant_Topic_2</th>\n",
       "      <th>Dominant_Topic_3</th>\n",
       "      <th>Dominant_Topic_4</th>\n",
       "    </tr>\n",
       "    <tr>\n",
       "      <th>id</th>\n",
       "      <th></th>\n",
       "      <th></th>\n",
       "      <th></th>\n",
       "      <th></th>\n",
       "    </tr>\n",
       "  </thead>\n",
       "  <tbody>\n",
       "    <tr>\n",
       "      <th>2265.0</th>\n",
       "      <td>(1, 0.7008473)</td>\n",
       "      <td>(2, 0.1430584)</td>\n",
       "      <td>(0, 0.13544367)</td>\n",
       "      <td>(3, 0.020650616)</td>\n",
       "    </tr>\n",
       "    <tr>\n",
       "      <th>5245.0</th>\n",
       "      <td>(1, 0.6823926)</td>\n",
       "      <td>(0, 0.10962439)</td>\n",
       "      <td>(2, 0.10536952)</td>\n",
       "      <td>(3, 0.1026135)</td>\n",
       "    </tr>\n",
       "    <tr>\n",
       "      <th>5456.0</th>\n",
       "      <td>(1, 0.55133057)</td>\n",
       "      <td>(0, 0.27828813)</td>\n",
       "      <td>(3, 0.12623918)</td>\n",
       "      <td>(2, 0.044142075)</td>\n",
       "    </tr>\n",
       "    <tr>\n",
       "      <th>NaN</th>\n",
       "      <td>(1, 0.9201705)</td>\n",
       "      <td>(0, 0.03157466)</td>\n",
       "      <td>(2, 0.027566724)</td>\n",
       "      <td>(3, 0.020688113)</td>\n",
       "    </tr>\n",
       "    <tr>\n",
       "      <th>6413.0</th>\n",
       "      <td>(1, 0.47267914)</td>\n",
       "      <td>(0, 0.33425727)</td>\n",
       "      <td>(2, 0.10902779)</td>\n",
       "      <td>(3, 0.084035814)</td>\n",
       "    </tr>\n",
       "  </tbody>\n",
       "</table>\n",
       "</div>"
      ],
      "text/plain": [
       "       Dominant_Topic_1 Dominant_Topic_2  Dominant_Topic_3  Dominant_Topic_4\n",
       "id                                                                          \n",
       "2265.0   (1, 0.7008473)   (2, 0.1430584)   (0, 0.13544367)  (3, 0.020650616)\n",
       "5245.0   (1, 0.6823926)  (0, 0.10962439)   (2, 0.10536952)    (3, 0.1026135)\n",
       "5456.0  (1, 0.55133057)  (0, 0.27828813)   (3, 0.12623918)  (2, 0.044142075)\n",
       "NaN      (1, 0.9201705)  (0, 0.03157466)  (2, 0.027566724)  (3, 0.020688113)\n",
       "6413.0  (1, 0.47267914)  (0, 0.33425727)   (2, 0.10902779)  (3, 0.084035814)"
      ]
     },
     "execution_count": 276,
     "metadata": {},
     "output_type": "execute_result"
    }
   ],
   "source": [
    "sent_topics_df.head()"
   ]
  },
  {
   "cell_type": "code",
   "execution_count": 277,
   "metadata": {},
   "outputs": [],
   "source": [
    "for i in range(df_n_cols):\n",
    "    col = 'score_dom_topic_' + str(i)\n",
    "    sent_topics_df[col] = pd.DataFrame(sent_topics_df.iloc[:,i].tolist(), index=sent_topics_df.index)[1]"
   ]
  },
  {
   "cell_type": "code",
   "execution_count": 278,
   "metadata": {},
   "outputs": [
    {
     "data": {
      "text/html": [
       "<div>\n",
       "<style scoped>\n",
       "    .dataframe tbody tr th:only-of-type {\n",
       "        vertical-align: middle;\n",
       "    }\n",
       "\n",
       "    .dataframe tbody tr th {\n",
       "        vertical-align: top;\n",
       "    }\n",
       "\n",
       "    .dataframe thead th {\n",
       "        text-align: right;\n",
       "    }\n",
       "</style>\n",
       "<table border=\"1\" class=\"dataframe\">\n",
       "  <thead>\n",
       "    <tr style=\"text-align: right;\">\n",
       "      <th></th>\n",
       "      <th>Dominant_Topic_1</th>\n",
       "      <th>Dominant_Topic_2</th>\n",
       "      <th>Dominant_Topic_3</th>\n",
       "      <th>Dominant_Topic_4</th>\n",
       "      <th>score_dom_topic_0</th>\n",
       "      <th>score_dom_topic_1</th>\n",
       "      <th>score_dom_topic_2</th>\n",
       "      <th>score_dom_topic_3</th>\n",
       "    </tr>\n",
       "    <tr>\n",
       "      <th>id</th>\n",
       "      <th></th>\n",
       "      <th></th>\n",
       "      <th></th>\n",
       "      <th></th>\n",
       "      <th></th>\n",
       "      <th></th>\n",
       "      <th></th>\n",
       "      <th></th>\n",
       "    </tr>\n",
       "  </thead>\n",
       "  <tbody>\n",
       "    <tr>\n",
       "      <th>2265.0</th>\n",
       "      <td>(1, 0.7008473)</td>\n",
       "      <td>(2, 0.1430584)</td>\n",
       "      <td>(0, 0.13544367)</td>\n",
       "      <td>(3, 0.020650616)</td>\n",
       "      <td>0.700847</td>\n",
       "      <td>0.143058</td>\n",
       "      <td>0.135444</td>\n",
       "      <td>0.020651</td>\n",
       "    </tr>\n",
       "    <tr>\n",
       "      <th>5245.0</th>\n",
       "      <td>(1, 0.6823926)</td>\n",
       "      <td>(0, 0.10962439)</td>\n",
       "      <td>(2, 0.10536952)</td>\n",
       "      <td>(3, 0.1026135)</td>\n",
       "      <td>0.682393</td>\n",
       "      <td>0.109624</td>\n",
       "      <td>0.105370</td>\n",
       "      <td>0.102614</td>\n",
       "    </tr>\n",
       "    <tr>\n",
       "      <th>5456.0</th>\n",
       "      <td>(1, 0.55133057)</td>\n",
       "      <td>(0, 0.27828813)</td>\n",
       "      <td>(3, 0.12623918)</td>\n",
       "      <td>(2, 0.044142075)</td>\n",
       "      <td>0.551331</td>\n",
       "      <td>0.278288</td>\n",
       "      <td>0.126239</td>\n",
       "      <td>0.044142</td>\n",
       "    </tr>\n",
       "    <tr>\n",
       "      <th>NaN</th>\n",
       "      <td>(1, 0.9201705)</td>\n",
       "      <td>(0, 0.03157466)</td>\n",
       "      <td>(2, 0.027566724)</td>\n",
       "      <td>(3, 0.020688113)</td>\n",
       "      <td>0.920170</td>\n",
       "      <td>0.031575</td>\n",
       "      <td>0.027567</td>\n",
       "      <td>0.020688</td>\n",
       "    </tr>\n",
       "    <tr>\n",
       "      <th>6413.0</th>\n",
       "      <td>(1, 0.47267914)</td>\n",
       "      <td>(0, 0.33425727)</td>\n",
       "      <td>(2, 0.10902779)</td>\n",
       "      <td>(3, 0.084035814)</td>\n",
       "      <td>0.472679</td>\n",
       "      <td>0.334257</td>\n",
       "      <td>0.109028</td>\n",
       "      <td>0.084036</td>\n",
       "    </tr>\n",
       "  </tbody>\n",
       "</table>\n",
       "</div>"
      ],
      "text/plain": [
       "       Dominant_Topic_1 Dominant_Topic_2  Dominant_Topic_3  Dominant_Topic_4  \\\n",
       "id                                                                             \n",
       "2265.0   (1, 0.7008473)   (2, 0.1430584)   (0, 0.13544367)  (3, 0.020650616)   \n",
       "5245.0   (1, 0.6823926)  (0, 0.10962439)   (2, 0.10536952)    (3, 0.1026135)   \n",
       "5456.0  (1, 0.55133057)  (0, 0.27828813)   (3, 0.12623918)  (2, 0.044142075)   \n",
       "NaN      (1, 0.9201705)  (0, 0.03157466)  (2, 0.027566724)  (3, 0.020688113)   \n",
       "6413.0  (1, 0.47267914)  (0, 0.33425727)   (2, 0.10902779)  (3, 0.084035814)   \n",
       "\n",
       "        score_dom_topic_0  score_dom_topic_1  score_dom_topic_2  \\\n",
       "id                                                                \n",
       "2265.0           0.700847           0.143058           0.135444   \n",
       "5245.0           0.682393           0.109624           0.105370   \n",
       "5456.0           0.551331           0.278288           0.126239   \n",
       "NaN              0.920170           0.031575           0.027567   \n",
       "6413.0           0.472679           0.334257           0.109028   \n",
       "\n",
       "        score_dom_topic_3  \n",
       "id                         \n",
       "2265.0           0.020651  \n",
       "5245.0           0.102614  \n",
       "5456.0           0.044142  \n",
       "NaN              0.020688  \n",
       "6413.0           0.084036  "
      ]
     },
     "execution_count": 278,
     "metadata": {},
     "output_type": "execute_result"
    }
   ],
   "source": [
    "sent_topics_df.head()"
   ]
  },
  {
   "cell_type": "code",
   "execution_count": 279,
   "metadata": {},
   "outputs": [],
   "source": [
    "cols_2_drop = ['Dominant_Topic_1', 'Dominant_Topic_2','Dominant_Topic_3','Dominant_Topic_4']\n",
    "sent_topics_df.drop(columns=cols_2_drop, inplace=True)"
   ]
  },
  {
   "cell_type": "code",
   "execution_count": 280,
   "metadata": {},
   "outputs": [
    {
     "data": {
      "text/html": [
       "<div>\n",
       "<style scoped>\n",
       "    .dataframe tbody tr th:only-of-type {\n",
       "        vertical-align: middle;\n",
       "    }\n",
       "\n",
       "    .dataframe tbody tr th {\n",
       "        vertical-align: top;\n",
       "    }\n",
       "\n",
       "    .dataframe thead th {\n",
       "        text-align: right;\n",
       "    }\n",
       "</style>\n",
       "<table border=\"1\" class=\"dataframe\">\n",
       "  <thead>\n",
       "    <tr style=\"text-align: right;\">\n",
       "      <th></th>\n",
       "      <th>score_dom_topic_0</th>\n",
       "      <th>score_dom_topic_1</th>\n",
       "      <th>score_dom_topic_2</th>\n",
       "      <th>score_dom_topic_3</th>\n",
       "    </tr>\n",
       "    <tr>\n",
       "      <th>id</th>\n",
       "      <th></th>\n",
       "      <th></th>\n",
       "      <th></th>\n",
       "      <th></th>\n",
       "    </tr>\n",
       "  </thead>\n",
       "  <tbody>\n",
       "    <tr>\n",
       "      <th>2265.0</th>\n",
       "      <td>0.700847</td>\n",
       "      <td>0.143058</td>\n",
       "      <td>0.135444</td>\n",
       "      <td>0.020651</td>\n",
       "    </tr>\n",
       "    <tr>\n",
       "      <th>5245.0</th>\n",
       "      <td>0.682393</td>\n",
       "      <td>0.109624</td>\n",
       "      <td>0.105370</td>\n",
       "      <td>0.102614</td>\n",
       "    </tr>\n",
       "    <tr>\n",
       "      <th>5456.0</th>\n",
       "      <td>0.551331</td>\n",
       "      <td>0.278288</td>\n",
       "      <td>0.126239</td>\n",
       "      <td>0.044142</td>\n",
       "    </tr>\n",
       "    <tr>\n",
       "      <th>NaN</th>\n",
       "      <td>0.920170</td>\n",
       "      <td>0.031575</td>\n",
       "      <td>0.027567</td>\n",
       "      <td>0.020688</td>\n",
       "    </tr>\n",
       "    <tr>\n",
       "      <th>6413.0</th>\n",
       "      <td>0.472679</td>\n",
       "      <td>0.334257</td>\n",
       "      <td>0.109028</td>\n",
       "      <td>0.084036</td>\n",
       "    </tr>\n",
       "  </tbody>\n",
       "</table>\n",
       "</div>"
      ],
      "text/plain": [
       "        score_dom_topic_0  score_dom_topic_1  score_dom_topic_2  \\\n",
       "id                                                                \n",
       "2265.0           0.700847           0.143058           0.135444   \n",
       "5245.0           0.682393           0.109624           0.105370   \n",
       "5456.0           0.551331           0.278288           0.126239   \n",
       "NaN              0.920170           0.031575           0.027567   \n",
       "6413.0           0.472679           0.334257           0.109028   \n",
       "\n",
       "        score_dom_topic_3  \n",
       "id                         \n",
       "2265.0           0.020651  \n",
       "5245.0           0.102614  \n",
       "5456.0           0.044142  \n",
       "NaN              0.020688  \n",
       "6413.0           0.084036  "
      ]
     },
     "execution_count": 280,
     "metadata": {},
     "output_type": "execute_result"
    }
   ],
   "source": [
    "sent_topics_df.head()"
   ]
  },
  {
   "cell_type": "markdown",
   "metadata": {},
   "source": [
    "### Visualize the topics"
   ]
  },
  {
   "cell_type": "code",
   "execution_count": 281,
   "metadata": {},
   "outputs": [
    {
     "name": "stderr",
     "output_type": "stream",
     "text": [
      "/Users/danielacollaguazo/anaconda/envs/GTWorkshops/lib/python3.7/site-packages/pyLDAvis/_prepare.py:257: FutureWarning: Sorting because non-concatenation axis is not aligned. A future version\n",
      "of pandas will change to not sort by default.\n",
      "\n",
      "To accept the future behavior, pass 'sort=False'.\n",
      "\n",
      "To retain the current behavior and silence the warning, pass 'sort=True'.\n",
      "\n",
      "  return pd.concat([default_term_info] + list(topic_dfs))\n"
     ]
    },
    {
     "data": {
      "text/html": [
       "\n",
       "<link rel=\"stylesheet\" type=\"text/css\" href=\"https://cdn.rawgit.com/bmabey/pyLDAvis/files/ldavis.v1.0.0.css\">\n",
       "\n",
       "\n",
       "<div id=\"ldavis_el39591405545480502563178941893\"></div>\n",
       "<script type=\"text/javascript\">\n",
       "\n",
       "var ldavis_el39591405545480502563178941893_data = {\"mdsDat\": {\"x\": [0.25774560279859626, -0.027420861809262953, 0.10750221871963145, -0.3378269597089646], \"y\": [0.26272939487472713, -0.13534272601504177, -0.2570305675771428, 0.12964389871745763], \"topics\": [1, 2, 3, 4], \"cluster\": [1, 1, 1, 1], \"Freq\": [66.29264831542969, 12.891779899597168, 12.869588851928711, 7.945974349975586]}, \"tinfo\": {\"Category\": [\"Default\", \"Default\", \"Default\", \"Default\", \"Default\", \"Default\", \"Default\", \"Default\", \"Default\", \"Default\", \"Default\", \"Default\", \"Default\", \"Default\", \"Default\", \"Default\", \"Default\", \"Default\", \"Default\", \"Default\", \"Default\", \"Default\", \"Default\", \"Default\", \"Default\", \"Default\", \"Default\", \"Default\", \"Default\", \"Default\", \"Topic1\", \"Topic1\", \"Topic1\", \"Topic1\", \"Topic1\", \"Topic1\", \"Topic1\", \"Topic1\", \"Topic1\", \"Topic1\", \"Topic1\", \"Topic1\", \"Topic1\", \"Topic1\", \"Topic1\", \"Topic1\", \"Topic1\", \"Topic1\", \"Topic1\", \"Topic1\", \"Topic1\", \"Topic1\", \"Topic1\", \"Topic1\", \"Topic1\", \"Topic1\", \"Topic1\", \"Topic1\", \"Topic1\", \"Topic1\", \"Topic1\", \"Topic1\", \"Topic1\", \"Topic1\", \"Topic2\", \"Topic2\", \"Topic2\", \"Topic2\", \"Topic2\", \"Topic2\", \"Topic2\", \"Topic2\", \"Topic2\", \"Topic2\", \"Topic2\", \"Topic2\", \"Topic2\", \"Topic2\", \"Topic2\", \"Topic2\", \"Topic2\", \"Topic2\", \"Topic2\", \"Topic2\", \"Topic2\", \"Topic2\", \"Topic2\", \"Topic2\", \"Topic2\", \"Topic2\", \"Topic2\", \"Topic2\", \"Topic2\", \"Topic2\", \"Topic2\", \"Topic2\", \"Topic2\", \"Topic2\", \"Topic2\", \"Topic2\", \"Topic2\", \"Topic2\", \"Topic2\", \"Topic2\", \"Topic2\", \"Topic3\", \"Topic3\", \"Topic3\", \"Topic3\", \"Topic3\", \"Topic3\", \"Topic3\", \"Topic3\", \"Topic3\", \"Topic3\", \"Topic3\", \"Topic3\", \"Topic3\", \"Topic3\", \"Topic3\", \"Topic3\", \"Topic3\", \"Topic3\", \"Topic3\", \"Topic3\", \"Topic3\", \"Topic3\", \"Topic3\", \"Topic3\", \"Topic3\", \"Topic3\", \"Topic3\", \"Topic3\", \"Topic3\", \"Topic3\", \"Topic3\", \"Topic3\", \"Topic3\", \"Topic3\", \"Topic3\", \"Topic3\", \"Topic3\", \"Topic3\", \"Topic3\", \"Topic3\", \"Topic3\", \"Topic4\", \"Topic4\", \"Topic4\", \"Topic4\", \"Topic4\", \"Topic4\", \"Topic4\", \"Topic4\", \"Topic4\", \"Topic4\", \"Topic4\", \"Topic4\", \"Topic4\", \"Topic4\", \"Topic4\", \"Topic4\", \"Topic4\", \"Topic4\", \"Topic4\", \"Topic4\", \"Topic4\", \"Topic4\", \"Topic4\", \"Topic4\", \"Topic4\", \"Topic4\", \"Topic4\", \"Topic4\", \"Topic4\", \"Topic4\", \"Topic4\", \"Topic4\", \"Topic4\", \"Topic4\", \"Topic4\", \"Topic4\"], \"Freq\": [3097.0, 8104.0, 2382.0, 1546.0, 1407.0, 1236.0, 4424.0, 1124.0, 1296.0, 853.0, 1693.0, 759.0, 829.0, 664.0, 806.0, 761.0, 3768.0, 921.0, 914.0, 3531.0, 1934.0, 3339.0, 3278.0, 3200.0, 2248.0, 502.0, 1043.0, 554.0, 476.0, 475.0, 8104.259765625, 3767.590576171875, 3530.416748046875, 3338.52587890625, 3278.247802734375, 3200.3486328125, 2587.092041015625, 2445.43017578125, 2280.652587890625, 2046.46484375, 2024.1033935546875, 1945.9940185546875, 1768.7535400390625, 1733.79541015625, 1676.795166015625, 1684.3619384765625, 1665.51123046875, 1647.37890625, 1662.929931640625, 1614.516357421875, 1581.07470703125, 1549.780029296875, 1480.751708984375, 1418.7620849609375, 1417.622314453125, 1396.2818603515625, 1333.966552734375, 1300.5479736328125, 1288.8800048828125, 1262.2821044921875, 1855.23828125, 2889.73681640625, 1575.76708984375, 1487.9334716796875, 828.4133911132812, 805.739990234375, 761.222412109375, 547.1091918945312, 426.51165771484375, 366.271240234375, 342.0820617675781, 350.37786865234375, 317.8923645019531, 296.82000732421875, 275.9288635253906, 267.5927734375, 236.94970703125, 243.47340393066406, 242.4034423828125, 221.4456024169922, 205.98971557617188, 204.46714782714844, 201.87098693847656, 207.78826904296875, 186.66368103027344, 184.80328369140625, 179.55853271484375, 181.2216033935547, 176.58392333984375, 179.03025817871094, 199.75732421875, 167.10592651367188, 169.2321014404297, 171.21339416503906, 504.1689453125, 519.8167114257812, 634.4898071289062, 269.93450927734375, 774.3342895507812, 502.2496643066406, 436.16461181640625, 355.783935546875, 587.0958251953125, 285.68829345703125, 212.8714141845703, 3096.649658203125, 579.5128784179688, 544.9585571289062, 517.3333129882812, 469.8911437988281, 483.42523193359375, 432.6789855957031, 417.8150329589844, 402.3545227050781, 356.3058166503906, 360.0358581542969, 338.51904296875, 344.69879150390625, 313.5487060546875, 302.277587890625, 302.669921875, 284.11004638671875, 282.19976806640625, 280.6714172363281, 280.70599365234375, 265.3402099609375, 264.9990539550781, 256.28106689453125, 257.8846130371094, 258.09869384765625, 256.19091796875, 262.12786865234375, 255.4524688720703, 255.4524688720703, 255.4524688720703, 255.4524688720703, 1324.0621337890625, 1211.18310546875, 636.821533203125, 519.8116455078125, 1163.327392578125, 947.1011352539062, 453.9560546875, 445.72796630859375, 392.9136047363281, 321.22943115234375, 852.3543090820312, 758.5431518554688, 664.2494506835938, 501.7931213378906, 476.2929992675781, 474.90631103515625, 473.8628234863281, 472.576416015625, 439.41387939453125, 404.22576904296875, 411.9223937988281, 309.24359130859375, 304.15289306640625, 275.3232727050781, 258.1609191894531, 250.1818084716797, 232.5579833984375, 213.5912322998047, 204.0952606201172, 189.76580810546875, 182.3207244873047, 185.86561584472656, 161.0211639404297, 157.2435302734375, 156.71522521972656, 150.22512817382812, 178.50758361816406, 147.80029296875, 146.44467163085938, 199.12998962402344, 194.3150634765625, 674.6254272460938, 385.6584777832031, 703.5896606445312, 611.8615112304688, 175.78280639648438], \"Term\": [\"stay\", \"downtown\", \"space\", \"place\", \"guest\", \"right\", \"home\", \"wifi\", \"relax\", \"day\", \"modern\", \"complimentary\", \"view\", \"sure\", \"property\", \"feature\", \"room\", \"clean\", \"outdoor\", \"walk\", \"bathroom\", \"minute\", \"bedroom\", \"private\", \"coffee\", \"web\", \"comfortable\", \"couch\", \"surf\", \"cotton_sheet\", \"downtown\", \"room\", \"walk\", \"minute\", \"bedroom\", \"private\", \"locate\", \"restaurant\", \"away\", \"bed\", \"perfect\", \"apartment\", \"area\", \"pool\", \"mile\", \"access\", \"full\", \"neighborhood\", \"live\", \"bar\", \"close\", \"distance\", \"great\", \"parking\", \"include\", \"large\", \"location\", \"quiet\", \"beautiful\", \"heart\", \"coffee\", \"home\", \"enjoy\", \"bathroom\", \"view\", \"property\", \"feature\", \"deck\", \"luxury\", \"light\", \"comfort\", \"option\", \"high\", \"site\", \"rooftop\", \"furniture\", \"art\", \"building\", \"watch\", \"stylish\", \"window\", \"wonderful\", \"lounge\", \"vintage\", \"way\", \"sit\", \"ceiling\", \"fill\", \"connect\", \"resort\", \"fast\", \"finish\", \"change\", \"vibe\", \"feel\", \"open\", \"outdoor\", \"find\", \"modern\", \"make\", \"city\", \"family\", \"home\", \"enjoy\", \"local\", \"stay\", \"time\", \"check\", \"sonder\", \"host\", \"be\", \"sond\", \"run\", \"love\", \"essentials_provide\", \"friend\", \"company\", \"travel\", \"train\", \"star\", \"person\", \"expect\", \"email\", \"phone\", \"play\", \"average_rating\", \"staff\", \"manage\", \"ability\", \"interact\", \"wont_need\", \"combined\", \"proper_disinfection\", \"uncertainty\", \"technique\", \"fast_company\", \"place\", \"guest\", \"clean\", \"design\", \"space\", \"home\", \"comfortable\", \"bathroom\", \"coffee\", \"make\", \"day\", \"complimentary\", \"sure\", \"web\", \"surf\", \"cotton_sheet\", \"mattresses_fitte\", \"restful_slumber\", \"high_quality\", \"night\", \"hide\", \"start\", \"hdtv_youll\", \"retreat\", \"little\", \"set\", \"part\", \"able\", \"dog\", \"luxurious\", \"cool\", \"peaceful\", \"weekend\", \"airbnb\", \"s\", \"heat\", \"end\", \"still\", \"call\", \"accommodation\", \"eat\", \"wifi\", \"couch\", \"relax\", \"right\", \"cable\"], \"Total\": [3097.0, 8104.0, 2382.0, 1546.0, 1407.0, 1236.0, 4424.0, 1124.0, 1296.0, 853.0, 1693.0, 759.0, 829.0, 664.0, 806.0, 761.0, 3768.0, 921.0, 914.0, 3531.0, 1934.0, 3339.0, 3278.0, 3200.0, 2248.0, 502.0, 1043.0, 554.0, 476.0, 475.0, 8104.90966796875, 3768.234130859375, 3531.06103515625, 3339.166748046875, 3278.890625, 3200.989501953125, 2587.74462890625, 2446.07421875, 2281.298095703125, 2047.1087646484375, 2024.7642822265625, 1946.63916015625, 1769.4090576171875, 1734.44482421875, 1677.438720703125, 1685.01318359375, 1666.1578369140625, 1648.022216796875, 1663.5797119140625, 1615.1591796875, 1581.7230224609375, 1550.4200439453125, 1481.4002685546875, 1419.4044189453125, 1418.2740478515625, 1396.935302734375, 1334.6109619140625, 1301.189208984375, 1289.53173828125, 1262.9351806640625, 2248.84423828125, 4424.130859375, 1861.8717041015625, 1934.101318359375, 829.0763549804688, 806.405517578125, 761.8844604492188, 547.7686767578125, 427.17327880859375, 366.926513671875, 342.7527160644531, 351.0843505859375, 318.5464782714844, 297.5115661621094, 276.5833435058594, 268.27752685546875, 237.61180114746094, 244.18382263183594, 243.12794494628906, 222.1363525390625, 206.64468383789062, 205.12890625, 202.54356384277344, 208.50308227539062, 187.3173828125, 185.45346069335938, 180.2010040283203, 181.87171936035156, 177.2299041748047, 179.69937133789062, 200.51455688476562, 167.7613067626953, 169.90911865234375, 171.9055633544922, 583.8920288085938, 657.1207885742188, 914.7914428710938, 311.11480712890625, 1693.36962890625, 947.506591796875, 797.028564453125, 762.8162231445312, 4424.130859375, 1861.8717041015625, 835.465576171875, 3097.360107421875, 580.2073974609375, 545.637451171875, 518.0116577148438, 470.5918273925781, 484.1659240722656, 433.3608703613281, 418.533203125, 403.072998046875, 356.97222900390625, 360.7710266113281, 339.21734619140625, 345.4407958984375, 314.2254333496094, 302.9466247558594, 303.3405456542969, 284.77630615234375, 282.86419677734375, 281.3370666503906, 281.4024353027344, 266.0039978027344, 265.6648254394531, 256.9468078613281, 258.5546569824219, 258.77020263671875, 256.8595275878906, 262.818603515625, 256.1336669921875, 256.1336669921875, 256.1336669921875, 256.1336669921875, 1546.2132568359375, 1407.1900634765625, 921.7996826171875, 716.6966552734375, 2382.99169921875, 4424.130859375, 1043.0838623046875, 1934.101318359375, 2248.84423828125, 947.506591796875, 853.049072265625, 759.2352294921875, 664.9321899414062, 502.46685791015625, 476.9654541015625, 475.5807189941406, 474.5372619628906, 473.2497253417969, 440.1005859375, 404.9485778808594, 412.6734924316406, 309.92626953125, 304.90411376953125, 276.05462646484375, 258.89984130859375, 250.94601440429688, 233.29592895507812, 214.29920959472656, 204.80462646484375, 190.50453186035156, 183.0476837158203, 186.6067352294922, 161.73541259765625, 157.9618377685547, 157.4364013671875, 150.97146606445312, 179.40127563476562, 148.5613250732422, 147.19886779785156, 200.16647338867188, 199.72256469726562, 1124.5701904296875, 554.2940673828125, 1296.1748046875, 1236.280517578125, 378.03509521484375], \"loglift\": [30.0, 29.0, 28.0, 27.0, 26.0, 25.0, 24.0, 23.0, 22.0, 21.0, 20.0, 19.0, 18.0, 17.0, 16.0, 15.0, 14.0, 13.0, 12.0, 11.0, 10.0, 9.0, 8.0, 7.0, 6.0, 5.0, 4.0, 3.0, 2.0, 1.0, 0.41100001335144043, 0.4108999967575073, 0.4108999967575073, 0.4108999967575073, 0.4108999967575073, 0.4108999967575073, 0.4108000099658966, 0.4108000099658966, 0.4108000099658966, 0.4108000099658966, 0.4108000099658966, 0.4108000099658966, 0.4106999933719635, 0.4106999933719635, 0.4106999933719635, 0.4106999933719635, 0.4106999933719635, 0.4106999933719635, 0.4106999933719635, 0.4106999933719635, 0.4106999933719635, 0.4106999933719635, 0.4106999933719635, 0.4106000065803528, 0.4106000065803528, 0.4106000065803528, 0.4106000065803528, 0.4106000065803528, 0.4106000065803528, 0.4106000065803528, 0.21870000660419464, -0.014800000004470348, 0.2442999929189682, 0.14880000054836273, 2.047800064086914, 2.047800064086914, 2.0476999282836914, 2.0473999977111816, 2.046999931335449, 2.046799898147583, 2.046600103378296, 2.046600103378296, 2.0464999675750732, 2.046299934387207, 2.0462000370025635, 2.0460000038146973, 2.045799970626831, 2.0457000732421875, 2.045599937438965, 2.0455000400543213, 2.0453999042510986, 2.045300006866455, 2.045300006866455, 2.045099973678589, 2.045099973678589, 2.045099973678589, 2.0450000762939453, 2.0450000762939453, 2.0448999404907227, 2.044800043106079, 2.044800043106079, 2.0446999073028564, 2.044600009918213, 2.0445001125335693, 1.9018000364303589, 1.8142000436782837, 1.6827000379562378, 1.906599998474121, 1.2661000490188599, 1.4138000011444092, 1.4457000494003296, 1.2858999967575073, 0.02889999933540821, 0.17409999668598175, 0.6812999844551086, 2.050100088119507, 2.049099922180176, 2.049099922180176, 2.0490000247955322, 2.048799991607666, 2.048799991607666, 2.0487000942230225, 2.0485999584198, 2.0485000610351562, 2.0483999252319336, 2.04830002784729, 2.0481998920440674, 2.0481998920440674, 2.048099994659424, 2.048099994659424, 2.048099994659424, 2.0480000972747803, 2.0480000972747803, 2.0478999614715576, 2.047800064086914, 2.047800064086914, 2.047800064086914, 2.0476999282836914, 2.0476999282836914, 2.0476999282836914, 2.0476999282836914, 2.0476999282836914, 2.047600030899048, 2.047600030899048, 2.047600030899048, 2.047600030899048, 1.8952000141143799, 1.9003000259399414, 1.6805000305175781, 1.729099988937378, 1.3331999778747559, 0.508899986743927, 1.218400001525879, 0.5825999975204468, 0.30570000410079956, 0.9685999751091003, 2.5316998958587646, 2.531599998474121, 2.5315001010894775, 2.5311999320983887, 2.531100034713745, 2.531100034713745, 2.531100034713745, 2.531100034713745, 2.530900001525879, 2.5306999683380127, 2.5306999683380127, 2.5302999019622803, 2.5299999713897705, 2.529900074005127, 2.529599905014038, 2.5295000076293945, 2.5292999744415283, 2.5292000770568848, 2.5290000438690186, 2.528599977493286, 2.5285000801086426, 2.5285000801086426, 2.52810001373291, 2.527899980545044, 2.527899980545044, 2.5274999141693115, 2.5274999141693115, 2.527400016784668, 2.527400016784668, 2.5272998809814453, 2.5051000118255615, 2.0215001106262207, 2.169800043106079, 1.9214999675750732, 1.8291000127792358, 1.766800045967102], \"logprob\": [30.0, 29.0, 28.0, 27.0, 26.0, 25.0, 24.0, 23.0, 22.0, 21.0, 20.0, 19.0, 18.0, 17.0, 16.0, 15.0, 14.0, 13.0, 12.0, 11.0, 10.0, 9.0, 8.0, 7.0, 6.0, 5.0, 4.0, 3.0, 2.0, 1.0, -3.1700000762939453, -3.936000108718872, -4.000999927520752, -4.0569000244140625, -4.075099945068359, -4.099100112915039, -4.3119001388549805, -4.368199825286865, -4.437900066375732, -4.546299934387207, -4.557300090789795, -4.59660005569458, -4.6921000480651855, -4.712100028991699, -4.745500087738037, -4.741000175476074, -4.752299785614014, -4.763199806213379, -4.753799915313721, -4.783400058746338, -4.804299831390381, -4.8242998123168945, -4.869800090789795, -4.912600040435791, -4.913400173187256, -4.928599834442139, -4.9741997718811035, -4.999599933624268, -5.008600234985352, -5.0295000076293945, -4.644400119781494, -4.201200008392334, -4.807600021362305, -4.864999771118164, -3.8131000995635986, -3.84089994430542, -3.897700071334839, -4.228000164031982, -4.4770002365112305, -4.629300117492676, -4.6975998878479, -4.673600196838379, -4.770899772644043, -4.8394999504089355, -4.912499904632568, -4.94320011138916, -5.064799785614014, -5.037600040435791, -5.042099952697754, -5.132500171661377, -5.204800128936768, -5.212299823760986, -5.224999904632568, -5.196100234985352, -5.303299903869629, -5.313399791717529, -5.342199802398682, -5.332900047302246, -5.35890007019043, -5.345099925994873, -5.235599994659424, -5.414000034332275, -5.401400089263916, -5.389699935913086, -4.309700012207031, -4.279200077056885, -4.079800128936768, -4.934500217437744, -3.88070011138916, -4.313600063323975, -4.454599857330322, -4.658299922943115, -4.15749979019165, -4.877799987792969, -5.171999931335449, -2.4928998947143555, -4.168700218200684, -4.230199813842773, -4.282199859619141, -4.378399848937988, -4.349999904632568, -4.460899829864502, -4.4959001541137695, -4.533599853515625, -4.655099868774414, -4.644700050354004, -4.706399917602539, -4.688300132751465, -4.7829999923706055, -4.8196001052856445, -4.818299770355225, -4.8815999031066895, -4.888299942016602, -4.893799781799316, -4.893599987030029, -4.949900150299072, -4.951200008392334, -4.9847002029418945, -4.978400230407715, -4.97760009765625, -4.985000133514404, -4.962100028991699, -4.9878997802734375, -4.9878997802734375, -4.9878997802734375, -4.9878997802734375, -3.3424999713897705, -3.4316000938415527, -4.074399948120117, -4.277500152587891, -3.47189998626709, -3.677500009536743, -4.412899971008301, -4.43120002746582, -4.557300090789795, -4.758800029754639, -3.3006999492645264, -3.41729998588562, -3.550100088119507, -3.8304998874664307, -3.882699966430664, -3.8856000900268555, -3.8877999782562256, -3.890500068664551, -3.9632999897003174, -4.046800136566162, -4.027900218963623, -4.314599990844727, -4.331200122833252, -4.430799961090088, -4.495100021362305, -4.526500225067139, -4.599599838256836, -4.684700012207031, -4.730100154876709, -4.8028998374938965, -4.8429999351501465, -4.823699951171875, -4.967199802398682, -4.990900039672852, -4.99429988861084, -5.036600112915039, -4.864099979400635, -5.0528998374938965, -5.062099933624268, -4.754799842834473, -4.779300212860107, -3.534600019454956, -4.093800067901611, -3.492500066757202, -3.632200002670288, -4.879499912261963]}, \"token.table\": {\"Topic\": [3, 4, 1, 4, 4, 1, 1, 2, 3, 1, 1, 1, 3, 3, 1, 1, 1, 2, 1, 4, 4, 2, 2, 3, 1, 2, 1, 3, 1, 1, 3, 3, 2, 1, 3, 3, 4, 2, 4, 4, 1, 4, 4, 2, 2, 3, 1, 4, 1, 2, 4, 3, 4, 1, 2, 3, 3, 1, 2, 3, 2, 3, 2, 2, 3, 2, 2, 4, 2, 3, 1, 2, 1, 1, 3, 4, 1, 4, 4, 2, 4, 1, 2, 3, 3, 1, 3, 1, 2, 4, 1, 1, 2, 1, 1, 2, 3, 4, 2, 1, 2, 3, 3, 4, 1, 1, 1, 2, 1, 4, 1, 2, 2, 1, 2, 1, 4, 4, 1, 3, 3, 1, 3, 3, 1, 1, 3, 2, 1, 1, 2, 4, 2, 1, 4, 4, 1, 4, 2, 1, 3, 4, 4, 2, 2, 3, 3, 1, 3, 3, 3, 4, 3, 4, 2, 4, 4, 3, 3, 3, 3, 3, 2, 2, 2, 1, 2, 2, 4, 4, 1, 4, 2, 2, 3], \"Freq\": [0.9978547692298889, 0.9986037611961365, 0.9993987083435059, 0.9941725134849548, 0.9939109683036804, 0.9996716380119324, 0.9997687935829163, 0.9974251985549927, 0.9962256550788879, 0.9998693466186523, 0.9999014735221863, 0.7693495750427246, 0.23059804737567902, 0.9975919127464294, 0.9995876550674438, 0.999458372592926, 0.9997283816337585, 0.995151937007904, 0.5343419313430786, 0.4655652344226837, 0.9918554425239563, 0.9988845586776733, 0.9946494102478027, 0.9988317489624023, 0.4516776502132416, 0.547031819820404, 0.30917781591415405, 0.691039502620697, 0.9995428919792175, 0.8248681426048279, 0.17475643754005432, 0.9968852996826172, 0.9978039264678955, 0.5646717548370361, 0.43524783849716187, 0.9993592500686646, 0.9996901750564575, 0.9987027645111084, 0.9942764639854431, 0.9987789392471313, 0.3030882179737091, 0.6963812708854675, 0.9987702369689941, 0.998596727848053, 0.2734769284725189, 0.7255510091781616, 0.9997290968894958, 0.9960712194442749, 0.9998877644538879, 0.025034727528691292, 0.971347451210022, 0.9969448447227478, 0.9977632761001587, 0.8464600443840027, 0.15360885858535767, 0.9972764849662781, 0.9972739815711975, 0.516507089138031, 0.4666917026042938, 0.017042113468050957, 0.9974338412284851, 0.9955739378929138, 0.9988391399383545, 0.8631733059883118, 0.1352989822626114, 0.9952069520950317, 0.8678468465805054, 0.13178415596485138, 0.9954619407653809, 0.9978628158569336, 0.9999052882194519, 0.9989655017852783, 0.9997298121452332, 0.1392846703529358, 0.8605802655220032, 0.9970347881317139, 0.9992595314979553, 0.9935652613639832, 0.998367965221405, 0.9982844591140747, 0.9974992275238037, 0.653235673904419, 0.13268142938613892, 0.21405334770679474, 0.998742401599884, 0.9998067617416382, 0.9970235824584961, 0.999330461025238, 0.9974749088287354, 0.9965243935585022, 0.9996515512466431, 0.7444950938224792, 0.2549476623535156, 0.9997122287750244, 0.999542236328125, 0.997316300868988, 0.9973379373550415, 0.9973515868186951, 0.9995943307876587, 0.1308698058128357, 0.5298116207122803, 0.3387839198112488, 0.9963151812553406, 0.9988678097724915, 0.9997384548187256, 0.9999500513076782, 0.5427048802375793, 0.4570768177509308, 0.9993797540664673, 0.9976575374603271, 0.20848526060581207, 0.7913309335708618, 0.9969114065170288, 0.30608069896698, 0.6930541396141052, 0.9997150897979736, 0.9987315535545349, 0.9967485666275024, 0.9996225237846375, 0.9988773465156555, 0.9988018870353699, 0.14357657730579376, 0.8562855124473572, 0.998569905757904, 0.9997435212135315, 0.9996908903121948, 0.9955739378929138, 0.99949711561203, 0.999854564666748, 0.3572049140930176, 0.09952361136674881, 0.5431365966796875, 0.9961081147193909, 0.9995608329772949, 0.9994723200798035, 0.9961796402931213, 0.5047398209571838, 0.49503329396247864, 0.9978908896446228, 0.999937891960144, 0.9987260103225708, 0.9972280859947205, 0.9962301850318909, 0.9975548386573792, 0.9982805252075195, 0.999167263507843, 0.9980470538139343, 0.5115418434143066, 0.4880419969558716, 0.9974974989891052, 0.9968752861022949, 0.9970113039016724, 0.9998837113380432, 0.9962216019630432, 0.9948844313621521, 0.998598039150238, 0.9979758262634277, 0.9955739378929138, 0.999642550945282, 0.9992825984954834, 0.9987239837646484, 0.9955739378929138, 0.9947322010993958, 0.9987017512321472, 0.9975871443748474, 0.9996995329856873, 0.9953606724739075, 0.99830561876297, 0.9990708827972412, 0.9954530000686646, 0.40015289187431335, 0.6002293229103088, 0.9968802332878113, 0.9944965839385986, 0.99665367603302], \"Term\": [\"ability\", \"able\", \"access\", \"accommodation\", \"airbnb\", \"apartment\", \"area\", \"art\", \"average_rating\", \"away\", \"bar\", \"bathroom\", \"bathroom\", \"be\", \"beautiful\", \"bed\", \"bedroom\", \"building\", \"cable\", \"cable\", \"call\", \"ceiling\", \"change\", \"check\", \"city\", \"city\", \"clean\", \"clean\", \"close\", \"coffee\", \"coffee\", \"combined\", \"comfort\", \"comfortable\", \"comfortable\", \"company\", \"complimentary\", \"connect\", \"cool\", \"cotton_sheet\", \"couch\", \"couch\", \"day\", \"deck\", \"design\", \"design\", \"distance\", \"dog\", \"downtown\", \"eat\", \"eat\", \"email\", \"end\", \"enjoy\", \"enjoy\", \"essentials_provide\", \"expect\", \"family\", \"family\", \"family\", \"fast\", \"fast_company\", \"feature\", \"feel\", \"feel\", \"fill\", \"find\", \"find\", \"finish\", \"friend\", \"full\", \"furniture\", \"great\", \"guest\", \"guest\", \"hdtv_youll\", \"heart\", \"heat\", \"hide\", \"high\", \"high_quality\", \"home\", \"home\", \"home\", \"host\", \"include\", \"interact\", \"large\", \"light\", \"little\", \"live\", \"local\", \"local\", \"locate\", \"location\", \"lounge\", \"love\", \"luxurious\", \"luxury\", \"make\", \"make\", \"make\", \"manage\", \"mattresses_fitte\", \"mile\", \"minute\", \"modern\", \"modern\", \"neighborhood\", \"night\", \"open\", \"open\", \"option\", \"outdoor\", \"outdoor\", \"parking\", \"part\", \"peaceful\", \"perfect\", \"person\", \"phone\", \"place\", \"place\", \"play\", \"pool\", \"private\", \"proper_disinfection\", \"property\", \"quiet\", \"relax\", \"relax\", \"relax\", \"resort\", \"restaurant\", \"restful_slumber\", \"retreat\", \"right\", \"right\", \"rooftop\", \"room\", \"run\", \"s\", \"set\", \"sit\", \"site\", \"sond\", \"sonder\", \"space\", \"space\", \"staff\", \"star\", \"start\", \"stay\", \"still\", \"stylish\", \"sure\", \"surf\", \"technique\", \"time\", \"train\", \"travel\", \"uncertainty\", \"vibe\", \"view\", \"vintage\", \"walk\", \"watch\", \"way\", \"web\", \"weekend\", \"wifi\", \"wifi\", \"window\", \"wonderful\", \"wont_need\"]}, \"R\": 30, \"lambda.step\": 0.01, \"plot.opts\": {\"xlab\": \"PC1\", \"ylab\": \"PC2\"}, \"topic.order\": [2, 3, 1, 4]};\n",
       "\n",
       "function LDAvis_load_lib(url, callback){\n",
       "  var s = document.createElement('script');\n",
       "  s.src = url;\n",
       "  s.async = true;\n",
       "  s.onreadystatechange = s.onload = callback;\n",
       "  s.onerror = function(){console.warn(\"failed to load library \" + url);};\n",
       "  document.getElementsByTagName(\"head\")[0].appendChild(s);\n",
       "}\n",
       "\n",
       "if(typeof(LDAvis) !== \"undefined\"){\n",
       "   // already loaded: just create the visualization\n",
       "   !function(LDAvis){\n",
       "       new LDAvis(\"#\" + \"ldavis_el39591405545480502563178941893\", ldavis_el39591405545480502563178941893_data);\n",
       "   }(LDAvis);\n",
       "}else if(typeof define === \"function\" && define.amd){\n",
       "   // require.js is available: use it to load d3/LDAvis\n",
       "   require.config({paths: {d3: \"https://cdnjs.cloudflare.com/ajax/libs/d3/3.5.5/d3.min\"}});\n",
       "   require([\"d3\"], function(d3){\n",
       "      window.d3 = d3;\n",
       "      LDAvis_load_lib(\"https://cdn.rawgit.com/bmabey/pyLDAvis/files/ldavis.v1.0.0.js\", function(){\n",
       "        new LDAvis(\"#\" + \"ldavis_el39591405545480502563178941893\", ldavis_el39591405545480502563178941893_data);\n",
       "      });\n",
       "    });\n",
       "}else{\n",
       "    // require.js not available: dynamically load d3 & LDAvis\n",
       "    LDAvis_load_lib(\"https://cdnjs.cloudflare.com/ajax/libs/d3/3.5.5/d3.min.js\", function(){\n",
       "         LDAvis_load_lib(\"https://cdn.rawgit.com/bmabey/pyLDAvis/files/ldavis.v1.0.0.js\", function(){\n",
       "                 new LDAvis(\"#\" + \"ldavis_el39591405545480502563178941893\", ldavis_el39591405545480502563178941893_data);\n",
       "            })\n",
       "         });\n",
       "}\n",
       "</script>"
      ],
      "text/plain": [
       "PreparedData(topic_coordinates=              x         y  topics  cluster       Freq\n",
       "topic                                                \n",
       "1      0.257746  0.262729       1        1  66.292648\n",
       "2     -0.027421 -0.135343       2        1  12.891780\n",
       "0      0.107502 -0.257031       3        1  12.869589\n",
       "3     -0.337827  0.129644       4        1   7.945974, topic_info=     Category         Freq              Term        Total  loglift  logprob\n",
       "83    Default  3097.000000              stay  3097.000000  30.0000  30.0000\n",
       "9     Default  8104.000000          downtown  8104.000000  29.0000  29.0000\n",
       "27    Default  2382.000000             space  2382.000000  28.0000  28.0000\n",
       "239   Default  1546.000000             place  1546.000000  27.0000  27.0000\n",
       "127   Default  1407.000000             guest  1407.000000  26.0000  26.0000\n",
       "669   Default  1236.000000             right  1236.000000  25.0000  25.0000\n",
       "13    Default  4424.000000              home  4424.000000  24.0000  24.0000\n",
       "45    Default  1124.000000              wifi  1124.000000  23.0000  23.0000\n",
       "183   Default  1296.000000             relax  1296.000000  22.0000  22.0000\n",
       "190   Default   853.000000               day   853.000000  21.0000  21.0000\n",
       "121   Default  1693.000000            modern  1693.000000  20.0000  20.0000\n",
       "1273  Default   759.000000     complimentary   759.000000  19.0000  19.0000\n",
       "174   Default   829.000000              view   829.000000  18.0000  18.0000\n",
       "1776  Default   664.000000              sure   664.000000  17.0000  17.0000\n",
       "105   Default   806.000000          property   806.000000  16.0000  16.0000\n",
       "116   Default   761.000000           feature   761.000000  15.0000  15.0000\n",
       "123   Default  3768.000000              room  3768.000000  14.0000  14.0000\n",
       "31    Default   921.000000             clean   921.000000  13.0000  13.0000\n",
       "98    Default   914.000000           outdoor   914.000000  12.0000  12.0000\n",
       "30    Default  3531.000000              walk  3531.000000  11.0000  11.0000\n",
       "460   Default  1934.000000          bathroom  1934.000000  10.0000  10.0000\n",
       "221   Default  3339.000000            minute  3339.000000   9.0000   9.0000\n",
       "141   Default  3278.000000           bedroom  3278.000000   8.0000   8.0000\n",
       "61    Default  3200.000000           private  3200.000000   7.0000   7.0000\n",
       "51    Default  2248.000000            coffee  2248.000000   6.0000   6.0000\n",
       "2618  Default   502.000000               web   502.000000   5.0000   5.0000\n",
       "71    Default  1043.000000       comfortable  1043.000000   4.0000   4.0000\n",
       "609   Default   554.000000             couch   554.000000   3.0000   3.0000\n",
       "4663  Default   476.000000              surf   476.000000   2.0000   2.0000\n",
       "1555  Default   475.000000      cotton_sheet   475.000000   1.0000   1.0000\n",
       "...       ...          ...               ...          ...      ...      ...\n",
       "7329   Topic4   473.862823  mattresses_fitte   474.537262   2.5311  -3.8878\n",
       "7330   Topic4   472.576416   restful_slumber   473.249725   2.5311  -3.8905\n",
       "1250   Topic4   439.413879      high_quality   440.100586   2.5309  -3.9633\n",
       "97     Topic4   404.225769             night   404.948578   2.5307  -4.0468\n",
       "559    Topic4   411.922394              hide   412.673492   2.5307  -4.0279\n",
       "1019   Topic4   309.243591             start   309.926270   2.5303  -4.3146\n",
       "7866   Topic4   304.152893        hdtv_youll   304.904114   2.5300  -4.3312\n",
       "294    Topic4   275.323273           retreat   276.054626   2.5299  -4.4308\n",
       "529    Topic4   258.160919            little   258.899841   2.5296  -4.4951\n",
       "812    Topic4   250.181808               set   250.946014   2.5295  -4.5265\n",
       "605    Topic4   232.557983              part   233.295929   2.5293  -4.5996\n",
       "518    Topic4   213.591232              able   214.299210   2.5292  -4.6847\n",
       "769    Topic4   204.095261               dog   204.804626   2.5290  -4.7301\n",
       "485    Topic4   189.765808         luxurious   190.504532   2.5286  -4.8029\n",
       "285    Topic4   182.320724              cool   183.047684   2.5285  -4.8430\n",
       "292    Topic4   185.865616          peaceful   186.606735   2.5285  -4.8237\n",
       "297    Topic4   161.021164           weekend   161.735413   2.5281  -4.9672\n",
       "349    Topic4   157.243530            airbnb   157.961838   2.5279  -4.9909\n",
       "515    Topic4   156.715225                 s   157.436401   2.5279  -4.9943\n",
       "1363   Topic4   150.225128              heat   150.971466   2.5275  -5.0366\n",
       "287    Topic4   178.507584               end   179.401276   2.5275  -4.8641\n",
       "566    Topic4   147.800293             still   148.561325   2.5274  -5.0529\n",
       "949    Topic4   146.444672              call   147.198868   2.5274  -5.0621\n",
       "356    Topic4   199.129990     accommodation   200.166473   2.5273  -4.7548\n",
       "818    Topic4   194.315063               eat   199.722565   2.5051  -4.7793\n",
       "45     Topic4   674.625427              wifi  1124.570190   2.0215  -3.5346\n",
       "609    Topic4   385.658478             couch   554.294067   2.1698  -4.0938\n",
       "183    Topic4   703.589661             relax  1296.174805   1.9215  -3.4925\n",
       "669    Topic4   611.861511             right  1236.280518   1.8291  -3.6322\n",
       "1428   Topic4   175.782806             cable   378.035095   1.7668  -4.8795\n",
       "\n",
       "[182 rows x 6 columns], token_table=      Topic      Freq            Term\n",
       "term                                 \n",
       "2641      3  0.997855         ability\n",
       "518       4  0.998604            able\n",
       "185       1  0.999399          access\n",
       "356       4  0.994173   accommodation\n",
       "349       4  0.993911          airbnb\n",
       "47        1  0.999672       apartment\n",
       "126       1  0.999769            area\n",
       "0         2  0.997425             art\n",
       "4838      3  0.996226  average_rating\n",
       "139       1  0.999869            away\n",
       "479       1  0.999901             bar\n",
       "460       1  0.769350        bathroom\n",
       "460       3  0.230598        bathroom\n",
       "66        3  0.997592              be\n",
       "1         1  0.999588       beautiful\n",
       "304       1  0.999458             bed\n",
       "141       1  0.999728         bedroom\n",
       "1165      2  0.995152        building\n",
       "1428      1  0.534342           cable\n",
       "1428      4  0.465565           cable\n",
       "949       4  0.991855            call\n",
       "321       2  0.998885         ceiling\n",
       "390       2  0.994649          change\n",
       "1034      3  0.998832           check\n",
       "219       1  0.451678            city\n",
       "219       2  0.547032            city\n",
       "31        1  0.309178           clean\n",
       "31        3  0.691040           clean\n",
       "68        1  0.999543           close\n",
       "51        1  0.824868          coffee\n",
       "...     ...       ...             ...\n",
       "7314      3  0.999167            sond\n",
       "7315      3  0.998047          sonder\n",
       "27        1  0.511542           space\n",
       "27        3  0.488042           space\n",
       "3764      3  0.997497           staff\n",
       "1853      3  0.996875            star\n",
       "1019      4  0.997011           start\n",
       "83        3  0.999884            stay\n",
       "566       4  0.996222           still\n",
       "488       2  0.994884         stylish\n",
       "1776      4  0.998598            sure\n",
       "4663      4  0.997976            surf\n",
       "7316      3  0.995574       technique\n",
       "244       3  0.999643            time\n",
       "1595      3  0.999283           train\n",
       "201       3  0.998724          travel\n",
       "7317      3  0.995574     uncertainty\n",
       "996       2  0.994732            vibe\n",
       "174       2  0.998702            view\n",
       "700       2  0.997587         vintage\n",
       "30        1  0.999700            walk\n",
       "456       2  0.995361           watch\n",
       "1054      2  0.998306             way\n",
       "2618      4  0.999071             web\n",
       "297       4  0.995453         weekend\n",
       "45        1  0.400153            wifi\n",
       "45        4  0.600229            wifi\n",
       "175       2  0.996880          window\n",
       "521       2  0.994497       wonderful\n",
       "5248      3  0.996654       wont_need\n",
       "\n",
       "[175 rows x 3 columns], R=30, lambda_step=0.01, plot_opts={'xlab': 'PC1', 'ylab': 'PC2'}, topic_order=[2, 3, 1, 4])"
      ]
     },
     "execution_count": 281,
     "metadata": {},
     "output_type": "execute_result"
    }
   ],
   "source": [
    "# Visualize the topics\n",
    "pyLDAvis.enable_notebook()\n",
    "vis = pyLDAvis.gensim.prepare(models[2], corpus, id2word)\n",
    "vis"
   ]
  }
 ],
 "metadata": {
  "kernelspec": {
   "display_name": "Python 3",
   "language": "python",
   "name": "python3"
  },
  "language_info": {
   "codemirror_mode": {
    "name": "ipython",
    "version": 3
   },
   "file_extension": ".py",
   "mimetype": "text/x-python",
   "name": "python",
   "nbconvert_exporter": "python",
   "pygments_lexer": "ipython3",
   "version": "3.7.7"
  }
 },
 "nbformat": 4,
 "nbformat_minor": 4
}

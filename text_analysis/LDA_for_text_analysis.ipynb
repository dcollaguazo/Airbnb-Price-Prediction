{
 "cells": [
  {
   "cell_type": "code",
   "execution_count": 3,
   "metadata": {},
   "outputs": [
    {
     "name": "stderr",
     "output_type": "stream",
     "text": [
      "[nltk_data] Downloading package stopwords to\n",
      "[nltk_data]     /Users/danielacollaguazo/nltk_data...\n",
      "[nltk_data]   Package stopwords is already up-to-date!\n"
     ]
    }
   ],
   "source": [
    "# Run in python console\n",
    "import nltk; nltk.download('stopwords')\n",
    "import spacy\n",
    "\n",
    "import re\n",
    "import os\n",
    "import numpy as np\n",
    "import pandas as pd\n",
    "import zipfile\n",
    "\n",
    "from pprint import pprint\n",
    "\n",
    "# Gensim\n",
    "import gensim\n",
    "import gensim.corpora as corpora\n",
    "from gensim.utils import simple_preprocess\n",
    "from gensim.models import CoherenceModel\n",
    "\n",
    "# spacy for lemmatization\n",
    "import spacy\n",
    "import en_core_web_sm\n",
    "\n",
    "# Plotting tools\n",
    "import pyLDAvis\n",
    "import pyLDAvis.gensim  # don't skip this\n",
    "import matplotlib.pyplot as plt\n",
    "%matplotlib inline\n",
    "\n",
    "# NLTK Stop words\n",
    "from nltk.corpus import stopwords\n",
    "stop_words = stopwords.words('english')\n",
    "\n",
    "# Enable logging for gensim - optional\n",
    "import logging\n",
    "logging.basicConfig(format='%(asctime)s : %(levelname)s : %(message)s', level=logging.ERROR)\n",
    "\n",
    "import warnings\n",
    "warnings.filterwarnings(\"ignore\",category=DeprecationWarning)\n",
    "\n",
    "\n",
    "import shutil\n",
    "import glob\n",
    "from tika import parser"
   ]
  },
  {
   "cell_type": "markdown",
   "metadata": {},
   "source": [
    "## Importing data into DataFrame"
   ]
  },
  {
   "cell_type": "code",
   "execution_count": 5,
   "metadata": {},
   "outputs": [],
   "source": [
    "def create_data_frame(csv_path):\n",
    "    df = pd.read_csv(csv_path)\n",
    "    return df"
   ]
  },
  {
   "cell_type": "code",
   "execution_count": 11,
   "metadata": {},
   "outputs": [],
   "source": [
    "path = '../data/austin-airbnb/'\n",
    "calendar_csv = os.path.join(path,'calendar.csv')\n",
    "listings_csv = os.path.join(path,'listings.csv')\n",
    "neighborhoods_csv = os.path.join(path,'neighborhoods.csv')\n",
    "\n",
    "calendar_df = create_data_frame(calendar_csv)\n",
    "listings_df = create_data_frame(listings_csv)\n",
    "neighborhoods_df = create_data_frame(neighborhoods_csv)"
   ]
  },
  {
   "cell_type": "markdown",
   "metadata": {},
   "source": [
    "## Exploring DataFrames"
   ]
  },
  {
   "cell_type": "code",
   "execution_count": 18,
   "metadata": {},
   "outputs": [
    {
     "data": {
      "text/html": [
       "<div>\n",
       "<style scoped>\n",
       "    .dataframe tbody tr th:only-of-type {\n",
       "        vertical-align: middle;\n",
       "    }\n",
       "\n",
       "    .dataframe tbody tr th {\n",
       "        vertical-align: top;\n",
       "    }\n",
       "\n",
       "    .dataframe thead th {\n",
       "        text-align: right;\n",
       "    }\n",
       "</style>\n",
       "<table border=\"1\" class=\"dataframe\">\n",
       "  <thead>\n",
       "    <tr style=\"text-align: right;\">\n",
       "      <th></th>\n",
       "      <th>listing_id</th>\n",
       "      <th>date</th>\n",
       "      <th>available</th>\n",
       "      <th>price</th>\n",
       "      <th>adjusted_price</th>\n",
       "      <th>minimum_nights</th>\n",
       "      <th>maximum_nights</th>\n",
       "    </tr>\n",
       "  </thead>\n",
       "  <tbody>\n",
       "    <tr>\n",
       "      <th>0</th>\n",
       "      <td>155359</td>\n",
       "      <td>2020-03-17</td>\n",
       "      <td>f</td>\n",
       "      <td>$90.00</td>\n",
       "      <td>$90.00</td>\n",
       "      <td>90</td>\n",
       "      <td>830</td>\n",
       "    </tr>\n",
       "    <tr>\n",
       "      <th>1</th>\n",
       "      <td>154103</td>\n",
       "      <td>2020-03-17</td>\n",
       "      <td>f</td>\n",
       "      <td>$475.00</td>\n",
       "      <td>$475.00</td>\n",
       "      <td>3</td>\n",
       "      <td>60</td>\n",
       "    </tr>\n",
       "    <tr>\n",
       "      <th>2</th>\n",
       "      <td>154103</td>\n",
       "      <td>2020-03-18</td>\n",
       "      <td>f</td>\n",
       "      <td>$475.00</td>\n",
       "      <td>$475.00</td>\n",
       "      <td>3</td>\n",
       "      <td>60</td>\n",
       "    </tr>\n",
       "    <tr>\n",
       "      <th>3</th>\n",
       "      <td>154103</td>\n",
       "      <td>2020-03-19</td>\n",
       "      <td>t</td>\n",
       "      <td>$475.00</td>\n",
       "      <td>$475.00</td>\n",
       "      <td>3</td>\n",
       "      <td>60</td>\n",
       "    </tr>\n",
       "    <tr>\n",
       "      <th>4</th>\n",
       "      <td>154103</td>\n",
       "      <td>2020-03-20</td>\n",
       "      <td>t</td>\n",
       "      <td>$475.00</td>\n",
       "      <td>$475.00</td>\n",
       "      <td>3</td>\n",
       "      <td>60</td>\n",
       "    </tr>\n",
       "  </tbody>\n",
       "</table>\n",
       "</div>"
      ],
      "text/plain": [
       "   listing_id        date available    price adjusted_price  minimum_nights  \\\n",
       "0      155359  2020-03-17         f   $90.00         $90.00              90   \n",
       "1      154103  2020-03-17         f  $475.00        $475.00               3   \n",
       "2      154103  2020-03-18         f  $475.00        $475.00               3   \n",
       "3      154103  2020-03-19         t  $475.00        $475.00               3   \n",
       "4      154103  2020-03-20         t  $475.00        $475.00               3   \n",
       "\n",
       "   maximum_nights  \n",
       "0             830  \n",
       "1              60  \n",
       "2              60  \n",
       "3              60  \n",
       "4              60  "
      ]
     },
     "execution_count": 18,
     "metadata": {},
     "output_type": "execute_result"
    }
   ],
   "source": [
    "# calendar_df.head()\n",
    "# calendar_df.shape\n",
    "# neighborhoods_df.head()"
   ]
  },
  {
   "cell_type": "code",
   "execution_count": 38,
   "metadata": {},
   "outputs": [
    {
     "data": {
      "text/plain": [
       "state                 object\n",
       "zipcode              float64\n",
       "market                object\n",
       "smart_location        object\n",
       "country_code          object\n",
       "country               object\n",
       "latitude             float64\n",
       "longitude            float64\n",
       "is_location_exact     object\n",
       "property_type         object\n",
       "room_type             object\n",
       "accommodates           int64\n",
       "bathrooms            float64\n",
       "bedrooms             float64\n",
       "beds                 float64\n",
       "bed_type              object\n",
       "amenities             object\n",
       "square_feet          float64\n",
       "price                 object\n",
       "weekly_price          object\n",
       "dtype: object"
      ]
     },
     "execution_count": 38,
     "metadata": {},
     "output_type": "execute_result"
    }
   ],
   "source": [
    "# listings_df.head()\n",
    "# Looking for text in the data\n",
    "listings_df.dtypes\n",
    "\n",
    "# # iterating the columns \n",
    "# for col in listings_df.columns: \n",
    "#     print(col)"
   ]
  },
  {
   "cell_type": "code",
   "execution_count": 54,
   "metadata": {},
   "outputs": [],
   "source": [
    "def generate_list_content(df):\n",
    "    df['content'] = df['name'] + df['summary']\n",
    "    df['content'] = df['content'].replace(np.nan, '', regex=True)\n",
    "    \n",
    "    # Convert to list\n",
    "    data = df['content'].values.tolist()\n",
    "\n",
    "    # Remove Emails\n",
    "    data = [re.sub('\\S*@\\S*\\s?', '', sent) for sent in data]\n",
    "\n",
    "    # Remove new line characters\n",
    "    data = [re.sub('\\s+', ' ', sent) for sent in data]\n",
    "\n",
    "    # Remove distracting single quotes\n",
    "    data = [re.sub(\"\\'\", \"\", sent) for sent in data]\n",
    "    return data"
   ]
  },
  {
   "cell_type": "code",
   "execution_count": 55,
   "metadata": {},
   "outputs": [],
   "source": [
    "lst_texts = generate_list_content(listings_df)\n",
    "# listings_df['content']"
   ]
  },
  {
   "cell_type": "code",
   "execution_count": 56,
   "metadata": {},
   "outputs": [
    {
     "data": {
      "text/plain": [
       "11668"
      ]
     },
     "execution_count": 56,
     "metadata": {},
     "output_type": "execute_result"
    }
   ],
   "source": [
    "len(lst_texts)"
   ]
  },
  {
   "cell_type": "markdown",
   "metadata": {},
   "source": [
    "## Tokenize words and clean up text"
   ]
  },
  {
   "cell_type": "code",
   "execution_count": 57,
   "metadata": {},
   "outputs": [],
   "source": [
    "# here we are tokenizing each document.\n",
    "def content_to_words(lst_texts):\n",
    "    for text in lst_texts:\n",
    "        yield(gensim.utils.simple_preprocess(str(text), deacc=True))\n",
    "        \n",
    "# data_words is a list where each element is the tokenized document\n",
    "tokenized_content = list(content_to_words(lst_texts))"
   ]
  },
  {
   "cell_type": "markdown",
   "metadata": {},
   "source": [
    "## Create bigram and trigrams"
   ]
  },
  {
   "cell_type": "code",
   "execution_count": 58,
   "metadata": {},
   "outputs": [],
   "source": [
    "# Build the bigram and trigram models\n",
    "bigram = gensim.models.Phrases(tokenized_content, min_count=10, threshold=100) # higher threshold fewer phrases.\n",
    "trigram = gensim.models.Phrases(bigram[tokenized_content], threshold=100)  \n",
    "\n",
    "\n",
    "# Faster way to get a sentence clubbed as a trigram/bigram\n",
    "bigram_mod = gensim.models.phrases.Phraser(bigram)\n",
    "trigram_mod = gensim.models.phrases.Phraser(trigram)"
   ]
  },
  {
   "cell_type": "markdown",
   "metadata": {},
   "source": [
    "## Remove Stopwords, Make Bigrams and Lemmatize"
   ]
  },
  {
   "cell_type": "code",
   "execution_count": 59,
   "metadata": {},
   "outputs": [],
   "source": [
    "# Define functions for stopwords, bigrams, trigrams and lemmatization\n",
    "def remove_stopwords(tokenized_content):\n",
    "    return [[word for word in simple_preprocess(str(doc)) if word not in stop_words] for doc in tokenized_content]\n",
    "\n",
    "def make_bigrams(tokenized_content):\n",
    "    return [bigram_mod[doc] for doc in tokenized_content]\n",
    "\n",
    "def make_trigrams(tokenized_content):\n",
    "    return [trigram_mod[bigram_mod[doc]] for doc in tokenized_content]\n",
    "\n",
    "def lemmatization(tokenized_content, allowed_postags=['NOUN', 'ADJ', 'VERB', 'ADV']):\n",
    "    \"\"\"https://spacy.io/api/annotation\"\"\"\n",
    "    texts_out = []\n",
    "    for sent in tokenized_content:\n",
    "        doc = nlp(\" \".join(sent)) \n",
    "        texts_out.append([token.lemma_ for token in doc if token.pos_ in allowed_postags])\n",
    "    return texts_out\n",
    "nlp = en_core_web_sm.load(disable=['parser', 'ner'])"
   ]
  },
  {
   "cell_type": "code",
   "execution_count": 60,
   "metadata": {},
   "outputs": [],
   "source": [
    "# Remove Stop Words\n",
    "tokenized_content_nostops = remove_stopwords(tokenized_content)\n",
    "\n",
    "# Form Bigrams\n",
    "tokenized_content_bigrams = make_bigrams(tokenized_content_nostops)\n",
    "\n",
    "# Do lemmatization keeping only noun, adj, vb, adv\n",
    "tokenized_content_lemmatized = lemmatization(tokenized_content_bigrams, \n",
    "                                             allowed_postags=['NOUN', 'ADJ', 'VERB', 'ADV'])"
   ]
  },
  {
   "cell_type": "markdown",
   "metadata": {},
   "source": [
    "## Create the Dictionary and Corpus needed for Topic Modeling"
   ]
  },
  {
   "cell_type": "code",
   "execution_count": 61,
   "metadata": {},
   "outputs": [],
   "source": [
    "# Create Dictionary:\n",
    "# Mapping from word IDs to words. \n",
    "# It is used to determine the vocabulary size, as well as for debugging and topic printing.\n",
    "id2word = corpora.Dictionary(tokenized_content_lemmatized)\n",
    "# print(len(id2word)) # corpus has 14118 unique tokens\n",
    "\n",
    "# Term Document Frequency\n",
    "# word with their corresponding id\n",
    "corpus = [id2word.doc2bow(text) for text in tokenized_content_lemmatized]\n",
    "\n",
    "# View\n",
    "# print(corpus[:1])"
   ]
  },
  {
   "cell_type": "markdown",
   "metadata": {},
   "source": [
    "## Build list of topic models"
   ]
  },
  {
   "cell_type": "code",
   "execution_count": 62,
   "metadata": {},
   "outputs": [],
   "source": [
    "def build_topics(num_topics):\n",
    "    list_models=[]\n",
    "    for n in num_topics:\n",
    "        topic_name = 'lda_model_' + str(n)\n",
    "        topic_name = gensim.models.ldamodel.LdaModel(corpus=corpus, id2word=id2word, \n",
    "                                                     num_topics=n, random_state=100, \n",
    "                                                     update_every=1, chunksize=100, \n",
    "                                                     passes=10, alpha='auto', \n",
    "                                                     per_word_topics=True)\n",
    "        list_models.append(topic_name)\n",
    "    return list_models\n",
    "\n",
    "num_topics = [2,3,4,5,6,7,8,9,10,11,12,13,14,15,16,17,18,19,20]\n",
    "models = build_topics(num_topics)"
   ]
  },
  {
   "cell_type": "markdown",
   "metadata": {},
   "source": [
    "## Compute Model Perplexity and Coherence Score for all models"
   ]
  },
  {
   "cell_type": "code",
   "execution_count": 63,
   "metadata": {},
   "outputs": [],
   "source": [
    "def calc_perplexity_coherence(models):\n",
    "    list_perplexity = []\n",
    "    list_coherence = []\n",
    "    \n",
    "    for model in models:\n",
    "        list_perplexity.append(model.log_perplexity(corpus))\n",
    "        coherence_model_lda = CoherenceModel(model=model, texts=tokenized_content_lemmatized, \n",
    "                                             dictionary=id2word, coherence='c_v')\n",
    "        list_coherence.append(coherence_model_lda.get_coherence())\n",
    "    return list_perplexity, list_coherence\n",
    "\n",
    "x = calc_perplexity_coherence(models)      "
   ]
  },
  {
   "cell_type": "code",
   "execution_count": 64,
   "metadata": {},
   "outputs": [
    {
     "data": {
      "text/html": [
       "<div>\n",
       "<style scoped>\n",
       "    .dataframe tbody tr th:only-of-type {\n",
       "        vertical-align: middle;\n",
       "    }\n",
       "\n",
       "    .dataframe tbody tr th {\n",
       "        vertical-align: top;\n",
       "    }\n",
       "\n",
       "    .dataframe thead th {\n",
       "        text-align: right;\n",
       "    }\n",
       "</style>\n",
       "<table border=\"1\" class=\"dataframe\">\n",
       "  <thead>\n",
       "    <tr style=\"text-align: right;\">\n",
       "      <th></th>\n",
       "      <th>Perplexity</th>\n",
       "      <th>Coherence</th>\n",
       "      <th>Number of topics</th>\n",
       "    </tr>\n",
       "  </thead>\n",
       "  <tbody>\n",
       "    <tr>\n",
       "      <th>0</th>\n",
       "      <td>-6.801890</td>\n",
       "      <td>0.359327</td>\n",
       "      <td>2</td>\n",
       "    </tr>\n",
       "    <tr>\n",
       "      <th>1</th>\n",
       "      <td>-6.807519</td>\n",
       "      <td>0.439506</td>\n",
       "      <td>3</td>\n",
       "    </tr>\n",
       "    <tr>\n",
       "      <th>2</th>\n",
       "      <td>-6.836878</td>\n",
       "      <td>0.617671</td>\n",
       "      <td>4</td>\n",
       "    </tr>\n",
       "    <tr>\n",
       "      <th>3</th>\n",
       "      <td>-6.883125</td>\n",
       "      <td>0.511435</td>\n",
       "      <td>5</td>\n",
       "    </tr>\n",
       "    <tr>\n",
       "      <th>4</th>\n",
       "      <td>-6.912688</td>\n",
       "      <td>0.453797</td>\n",
       "      <td>6</td>\n",
       "    </tr>\n",
       "    <tr>\n",
       "      <th>5</th>\n",
       "      <td>-6.950171</td>\n",
       "      <td>0.367938</td>\n",
       "      <td>7</td>\n",
       "    </tr>\n",
       "    <tr>\n",
       "      <th>6</th>\n",
       "      <td>-7.013678</td>\n",
       "      <td>0.283422</td>\n",
       "      <td>8</td>\n",
       "    </tr>\n",
       "    <tr>\n",
       "      <th>7</th>\n",
       "      <td>-7.067778</td>\n",
       "      <td>0.405479</td>\n",
       "      <td>9</td>\n",
       "    </tr>\n",
       "    <tr>\n",
       "      <th>8</th>\n",
       "      <td>-7.172729</td>\n",
       "      <td>0.414645</td>\n",
       "      <td>10</td>\n",
       "    </tr>\n",
       "    <tr>\n",
       "      <th>9</th>\n",
       "      <td>-7.359690</td>\n",
       "      <td>0.362026</td>\n",
       "      <td>11</td>\n",
       "    </tr>\n",
       "    <tr>\n",
       "      <th>10</th>\n",
       "      <td>-7.690313</td>\n",
       "      <td>0.325821</td>\n",
       "      <td>12</td>\n",
       "    </tr>\n",
       "    <tr>\n",
       "      <th>11</th>\n",
       "      <td>-8.165208</td>\n",
       "      <td>0.351864</td>\n",
       "      <td>13</td>\n",
       "    </tr>\n",
       "    <tr>\n",
       "      <th>12</th>\n",
       "      <td>-8.908231</td>\n",
       "      <td>0.331585</td>\n",
       "      <td>14</td>\n",
       "    </tr>\n",
       "    <tr>\n",
       "      <th>13</th>\n",
       "      <td>-9.899777</td>\n",
       "      <td>0.370215</td>\n",
       "      <td>15</td>\n",
       "    </tr>\n",
       "    <tr>\n",
       "      <th>14</th>\n",
       "      <td>-10.774760</td>\n",
       "      <td>0.359734</td>\n",
       "      <td>16</td>\n",
       "    </tr>\n",
       "    <tr>\n",
       "      <th>15</th>\n",
       "      <td>-11.403621</td>\n",
       "      <td>0.311840</td>\n",
       "      <td>17</td>\n",
       "    </tr>\n",
       "    <tr>\n",
       "      <th>16</th>\n",
       "      <td>-11.655029</td>\n",
       "      <td>0.308840</td>\n",
       "      <td>18</td>\n",
       "    </tr>\n",
       "    <tr>\n",
       "      <th>17</th>\n",
       "      <td>-11.972163</td>\n",
       "      <td>0.311097</td>\n",
       "      <td>19</td>\n",
       "    </tr>\n",
       "    <tr>\n",
       "      <th>18</th>\n",
       "      <td>-12.228835</td>\n",
       "      <td>0.303749</td>\n",
       "      <td>20</td>\n",
       "    </tr>\n",
       "  </tbody>\n",
       "</table>\n",
       "</div>"
      ],
      "text/plain": [
       "    Perplexity  Coherence  Number of topics\n",
       "0    -6.801890   0.359327                 2\n",
       "1    -6.807519   0.439506                 3\n",
       "2    -6.836878   0.617671                 4\n",
       "3    -6.883125   0.511435                 5\n",
       "4    -6.912688   0.453797                 6\n",
       "5    -6.950171   0.367938                 7\n",
       "6    -7.013678   0.283422                 8\n",
       "7    -7.067778   0.405479                 9\n",
       "8    -7.172729   0.414645                10\n",
       "9    -7.359690   0.362026                11\n",
       "10   -7.690313   0.325821                12\n",
       "11   -8.165208   0.351864                13\n",
       "12   -8.908231   0.331585                14\n",
       "13   -9.899777   0.370215                15\n",
       "14  -10.774760   0.359734                16\n",
       "15  -11.403621   0.311840                17\n",
       "16  -11.655029   0.308840                18\n",
       "17  -11.972163   0.311097                19\n",
       "18  -12.228835   0.303749                20"
      ]
     },
     "execution_count": 64,
     "metadata": {},
     "output_type": "execute_result"
    }
   ],
   "source": [
    "df_metrics = pd.DataFrame(list(x)).transpose()\n",
    "df_metrics.columns = ['Perplexity','Coherence']\n",
    "df_metrics['Number of topics'] = num_topics\n",
    "df_metrics"
   ]
  },
  {
   "cell_type": "markdown",
   "metadata": {},
   "source": [
    "## Graphic of number of Topics and Perplexity"
   ]
  },
  {
   "cell_type": "code",
   "execution_count": 65,
   "metadata": {},
   "outputs": [
    {
     "data": {
      "image/png": "[encoded data removed]",
      "text/plain": [
       "<Figure size 432x288 with 1 Axes>"
      ]
     },
     "metadata": {
      "needs_background": "light"
     },
     "output_type": "display_data"
    }
   ],
   "source": [
    "# Perplexity needs to be as low as possible \n",
    "plt.plot( 'Number of topics', 'Perplexity', data=df_metrics, color='skyblue')\n",
    "plt.xlabel(\"Number of Topics\")\n",
    "plt.ylabel(\"Perplexity\")\n",
    "plt.show()"
   ]
  },
  {
   "cell_type": "markdown",
   "metadata": {},
   "source": [
    "## Graphic of number of Topics and Coherence"
   ]
  },
  {
   "cell_type": "code",
   "execution_count": 66,
   "metadata": {},
   "outputs": [
    {
     "data": {
      "image/png": "[encoded data removed]",
      "text/plain": [
       "<Figure size 432x288 with 1 Axes>"
      ]
     },
     "metadata": {
      "needs_background": "light"
     },
     "output_type": "display_data"
    }
   ],
   "source": [
    "# Perplexity needs to be as low as possible \n",
    "plt.plot( 'Number of topics', 'Coherence', data=df_metrics, color='orange')\n",
    "plt.xlabel(\"Number of Topics\")\n",
    "plt.ylabel(\"Coherence\")\n",
    "plt.show()"
   ]
  },
  {
   "cell_type": "markdown",
   "metadata": {},
   "source": [
    "## Most salient topic per file using results of Model of choice"
   ]
  },
  {
   "cell_type": "code",
   "execution_count": 67,
   "metadata": {},
   "outputs": [],
   "source": [
    "def format_topics_sentences(ldamodel=None, corpus=corpus, texts=lst_texts):\n",
    "    # Init output\n",
    "    sent_topics_df = pd.DataFrame()\n",
    "\n",
    "    # Get main topic in each document\n",
    "    for i, row_list in enumerate(ldamodel[corpus]):\n",
    "        row = row_list[0] if ldamodel.per_word_topics else row_list            \n",
    "        # print(row)\n",
    "        row = sorted(row, key=lambda x: (x[1]), reverse=True)\n",
    "        # Get the Dominant topic, Perc Contribution and Keywords for each document\n",
    "        for j, (topic_num, prop_topic) in enumerate(row):\n",
    "            if j == 0:  # => dominant topic\n",
    "                wp = ldamodel.show_topic(topic_num)\n",
    "                topic_keywords = \", \".join([word for word, prop in wp])\n",
    "                sent_topics_df = sent_topics_df.append(pd.Series([int(topic_num) + 1, \n",
    "                                                                  round(prop_topic,4), \n",
    "                                                                  topic_keywords]), ignore_index=True)\n",
    "            else:\n",
    "                break\n",
    "    sent_topics_df.columns = ['Dominant_Topic', 'Perc_Contribution', 'Topic_Keywords']\n",
    "\n",
    "    # Add original text to the end of the output\n",
    "#     contents = pd.Series(texts)\n",
    "    sent_topics_df = pd.concat([listings_df,sent_topics_df], axis=1)\n",
    "    return(sent_topics_df)"
   ]
  },
  {
   "cell_type": "code",
   "execution_count": 69,
   "metadata": {},
   "outputs": [],
   "source": [
    "# choosing the model\n",
    "df_topic_sents_keywords = format_topics_sentences(ldamodel=models[2], corpus=corpus, texts=lst_texts)\n",
    "\n",
    "# Format\n",
    "df_dominant_topic = df_topic_sents_keywords\n",
    "df_dominant_topic.to_csv('results/dominant_topic.csv', index=False)"
   ]
  },
  {
   "cell_type": "markdown",
   "metadata": {},
   "source": [
    "### Visualize the topics"
   ]
  },
  {
   "cell_type": "code",
   "execution_count": 70,
   "metadata": {},
   "outputs": [
    {
     "data": {
      "text/html": [
       "\n",
       "<link rel=\"stylesheet\" type=\"text/css\" href=\"https://cdn.rawgit.com/bmabey/pyLDAvis/files/ldavis.v1.0.0.css\">\n",
       "\n",
       "\n",
       "<div id=\"ldavis_el123052736240161511001429\"></div>\n",
       "<script type=\"text/javascript\">\n",
       "\n",
       "var ldavis_el123052736240161511001429_data = {\"mdsDat\": {\"x\": [0.2582529171760368, 0.2167312910060233, -0.2450618844762678, -0.04318486690826647, -0.18673745679752593], \"y\": [-0.02074861633228181, -0.11115713780024183, -0.2948825885927225, 0.2569267998242429, 0.16986154290100347], \"topics\": [1, 2, 3, 4, 5], \"cluster\": [1, 1, 1, 1, 1], \"Freq\": [47.57341766357422, 23.884000778198242, 11.175029754638672, 9.632884979248047, 7.734669208526611]}, \"tinfo\": {\"Term\": [\"stay\", \"downtown\", \"room\", \"bedroom\", \"coffee\", \"private\", \"home\", \"place\", \"bed\", \"space\", \"bathroom\", \"relax\", \"walk\", \"minute\", \"area\", \"full\", \"music\", \"guest\", \"parking\", \"large\", \"family\", \"complimentary\", \"locate\", \"wifi\", \"restaurant\", \"include\", \"free\", \"away\", \"sure\", \"kitchen\", \"downtown\", \"walk\", \"minute\", \"locate\", \"restaurant\", \"away\", \"mile\", \"neighborhood\", \"bar\", \"close\", \"distance\", \"great\", \"right\", \"location\", \"quiet\", \"beautiful\", \"heart\", \"easy\", \"offer\", \"spacious\", \"shop\", \"day\", \"amenity\", \"domain\", \"outdoor\", \"short\", \"view\", \"drive\", \"local\", \"city\", \"apartment\", \"make\", \"modern\", \"enjoy\", \"perfect\", \"home\", \"pool\", \"access\", \"room\", \"bedroom\", \"private\", \"bed\", \"bathroom\", \"full\", \"parking\", \"large\", \"wifi\", \"free\", \"kitchen\", \"living\", \"available\", \"street\", \"unit\", \"tv\", \"share\", \"floor\", \"couch\", \"yard\", \"community\", \"cable\", \"desk\", \"suite\", \"light\", \"rent\", \"car\", \"fully\", \"master\", \"entire\", \"area\", \"front\", \"include\", \"new\", \"dining\", \"live\", \"guest\", \"house\", \"sleep\", \"space\", \"coffee\", \"complimentary\", \"sure\", \"open\", \"web\", \"surf\", \"cotton_sheet\", \"mattresses_fitte\", \"restful_slumber\", \"high_quality\", \"bright\", \"trail\", \"oasis\", \"start\", \"size\", \"hdtv_youll\", \"little\", \"step\", \"door\", \"next\", \"breakfast\", \"hot\", \"historic\", \"dog\", \"eat\", \"art\", \"chic\", \"separate\", \"vintage\", \"upscale\", \"relax\", \"style\", \"feature\", \"deck\", \"lot\", \"provide\", \"time\", \"check\", \"sonder\", \"host\", \"sond\", \"company\", \"train\", \"person\", \"star\", \"expect\", \"email\", \"phone\", \"much\", \"average_rating\", \"staff\", \"combined\", \"ability\", \"interact\", \"manage\", \"wont_need\", \"proper_disinfection\", \"uncertainty\", \"technique\", \"fast_company\", \"know\", \"would\", \"stylish\", \"way\", \"call\", \"stay\", \"essentials_provide\", \"design\", \"run\", \"space\", \"clean\", \"guest\", \"place\", \"comfortable\", \"home\", \"music\", \"family\", \"people\", \"love\", \"group\", \"friend\", \"use\", \"trip\", \"work\", \"play\", \"big\", \"fun\", \"back\", \"part\", \"comfy\", \"super\", \"believe\", \"additional\", \"water\", \"cute\", \"game\", \"vibe\", \"multiple\", \"party\", \"capital\", \"movie\", \"happy\", \"neighbor\", \"natural\", \"drink\", \"technology\", \"thousand\", \"place\", \"lot\", \"good\", \"property\"], \"Freq\": [3087.0, 7994.0, 3692.0, 3179.0, 2029.0, 3105.0, 4509.0, 1686.0, 2006.0, 2379.0, 1958.0, 1308.0, 3497.0, 3276.0, 1701.0, 1601.0, 820.0, 1512.0, 1398.0, 1350.0, 741.0, 857.0, 2529.0, 1294.0, 2417.0, 1376.0, 1194.0, 2265.0, 748.0, 1089.0, 7993.37353515625, 3496.291748046875, 3275.900146484375, 2528.642578125, 2416.656005859375, 2264.593017578125, 1630.731201171875, 1615.126708984375, 1601.7667236328125, 1551.3935546875, 1548.55419921875, 1458.4981689453125, 1388.97412109375, 1331.5013427734375, 1276.6805419921875, 1273.8900146484375, 1245.2545166015625, 1224.5576171875, 1146.8602294921875, 1137.4095458984375, 1091.2020263671875, 1076.9337158203125, 1042.0855712890625, 934.2984008789062, 938.4278564453125, 865.4632568359375, 863.8328247070312, 845.1064453125, 838.5952758789062, 799.3076782226562, 1883.441650390625, 1044.495849609375, 1665.9781494140625, 1792.923583984375, 1884.2750244140625, 3912.6396484375, 1587.08984375, 1275.2774658203125, 3691.93896484375, 3179.009521484375, 3105.019775390625, 2005.78564453125, 1957.7967529296875, 1600.5953369140625, 1397.8787841796875, 1349.955810546875, 1293.8138427734375, 1194.166748046875, 1088.8638916015625, 986.0232543945312, 947.5218505859375, 904.474365234375, 854.386474609375, 824.1917114257812, 754.8886108398438, 667.0997924804688, 644.8020629882812, 537.8840942382812, 461.2997131347656, 416.6436462402344, 396.8094787597656, 388.70660400390625, 372.7386169433594, 362.1832580566406, 358.17620849609375, 353.27777099609375, 347.14678955078125, 340.5104064941406, 1676.209716796875, 367.7864074707031, 1280.879150390625, 780.2391967773438, 591.1171264648438, 919.98486328125, 878.4019165039062, 608.9091186523438, 558.9695434570312, 799.6072387695312, 2028.6175537109375, 856.7232055664062, 748.1016235351562, 601.831298828125, 562.5242919921875, 534.2008056640625, 532.5811157226562, 531.4981689453125, 530.1748046875, 494.3838806152344, 386.4212341308594, 370.2717590332031, 356.78094482421875, 349.3687744140625, 351.1688537597656, 340.1566162109375, 292.1334533691406, 280.1291809082031, 276.76171875, 263.2793273925781, 256.3995361328125, 253.05323791503906, 247.73443603515625, 228.32872009277344, 219.62855529785156, 214.19943237304688, 215.10635375976562, 200.73004150390625, 195.8009490966797, 189.4564971923828, 1250.8582763671875, 322.9678039550781, 630.3171997070312, 413.3423156738281, 303.4413146972656, 650.8350219726562, 571.0342407226562, 535.86181640625, 488.6761474609375, 479.9416809082031, 411.3236389160156, 325.8179931640625, 301.8775329589844, 288.3755187988281, 287.6544189453125, 269.4776611328125, 266.8421325683594, 266.558349609375, 270.9242858886719, 250.74411010742188, 250.76666259765625, 247.759765625, 243.41835021972656, 243.61532592773438, 241.91751098632812, 241.78538513183594, 241.13417053222656, 241.13417053222656, 241.13417053222656, 241.13417053222656, 209.48507690429688, 191.57986450195312, 190.6483154296875, 159.24790954589844, 154.03668212890625, 3041.189697265625, 330.5445251464844, 573.6100463867188, 361.3724060058594, 972.4096069335938, 500.9190368652344, 633.722412109375, 583.6007690429688, 383.6742248535156, 596.3007202148438, 819.8886108398438, 740.8693237304688, 531.7698974609375, 473.6413879394531, 449.7387390136719, 421.057861328125, 413.90936279296875, 403.33087158203125, 388.9510498046875, 340.00604248046875, 336.244873046875, 327.5993957519531, 312.5968017578125, 291.5297546386719, 275.2402038574219, 273.41485595703125, 248.84942626953125, 228.75787353515625, 216.61669921875, 214.45692443847656, 193.5961456298828, 175.61965942382812, 157.19004821777344, 142.71937561035156, 142.5877685546875, 139.8524932861328, 131.17848205566406, 129.73655700683594, 126.83564758300781, 126.56983947753906, 186.39759826660156, 188.43734741210938, 1102.2681884765625, 250.0509796142578, 267.1158447265625, 206.3834991455078], \"Total\": [3087.0, 7994.0, 3692.0, 3179.0, 2029.0, 3105.0, 4509.0, 1686.0, 2006.0, 2379.0, 1958.0, 1308.0, 3497.0, 3276.0, 1701.0, 1601.0, 820.0, 1512.0, 1398.0, 1350.0, 741.0, 857.0, 2529.0, 1294.0, 2417.0, 1376.0, 1194.0, 2265.0, 748.0, 1089.0, 7994.12451171875, 3497.041259765625, 3276.647216796875, 2529.391357421875, 2417.405029296875, 2265.34326171875, 1631.481689453125, 1615.8748779296875, 1602.517822265625, 1552.142822265625, 1549.302978515625, 1459.2498779296875, 1389.7327880859375, 1332.250244140625, 1277.4295654296875, 1274.6412353515625, 1246.0030517578125, 1225.3128662109375, 1147.6109619140625, 1138.1630859375, 1091.950927734375, 1077.695556640625, 1042.840576171875, 935.0491943359375, 939.1822509765625, 866.2155151367188, 864.5851440429688, 845.8578491210938, 839.345947265625, 800.0580444335938, 1911.7203369140625, 1048.7037353515625, 1709.8828125, 1848.3929443359375, 1993.148681640625, 4509.525390625, 1697.099365234375, 1661.25048828125, 3692.687744140625, 3179.760986328125, 3105.77099609375, 2006.5357666015625, 1958.6588134765625, 1601.3458251953125, 1398.629638671875, 1350.70947265625, 1294.6004638671875, 1194.92138671875, 1089.614013671875, 986.7716674804688, 948.2769775390625, 905.231689453125, 855.1399536132812, 824.9443359375, 755.6363525390625, 667.8489990234375, 645.5953369140625, 538.64013671875, 462.0629577636719, 417.42730712890625, 397.57171630859375, 389.46246337890625, 373.49505615234375, 362.9377746582031, 358.9343566894531, 354.0299072265625, 347.8951721191406, 341.2709045410156, 1701.37109375, 368.9854736328125, 1376.3546142578125, 910.6610107421875, 734.1192016601562, 1616.12060546875, 1512.7095947265625, 935.639404296875, 795.9678344726562, 2379.22802734375, 2029.424560546875, 857.4927368164062, 748.8711547851562, 602.6149291992188, 563.287841796875, 534.9624633789062, 533.3444213867188, 532.2615966796875, 530.9371948242188, 495.16778564453125, 387.2061462402344, 371.0492248535156, 357.5604553222656, 350.1339111328125, 351.949462890625, 340.9664611816406, 292.9191589355469, 280.9096374511719, 277.54864501953125, 264.0582275390625, 257.1769714355469, 253.8394012451172, 248.51165771484375, 229.1047821044922, 220.3993682861328, 214.9725799560547, 215.8876953125, 201.5133819580078, 196.58018493652344, 190.23391723632812, 1308.782958984375, 340.6734313964844, 714.0233154296875, 515.14990234375, 554.0726318359375, 651.649169921875, 571.820556640625, 536.6441040039062, 489.4565734863281, 480.74395751953125, 412.10650634765625, 326.5908203125, 302.6549072265625, 289.1495361328125, 288.42840576171875, 270.2497863769531, 267.6130676269531, 267.3298034667969, 271.7362976074219, 251.51492309570312, 251.53863525390625, 248.5419464111328, 244.19252014160156, 244.39048767089844, 242.68939208984375, 242.5583038330078, 241.91770935058594, 241.91770935058594, 241.91770935058594, 241.91770935058594, 210.27783203125, 192.36703491210938, 191.45697021484375, 160.03668212890625, 154.84213256835938, 3087.34375, 350.9123840332031, 686.09326171875, 406.26959228515625, 2379.22802734375, 938.5691528320312, 1512.7095947265625, 1686.4583740234375, 1029.0206298828125, 4509.525390625, 820.6456909179688, 741.6210327148438, 532.5263671875, 474.39727783203125, 450.4904479980469, 421.8107604980469, 414.6688232421875, 404.1061096191406, 389.7067565917969, 340.7535400390625, 337.0033874511719, 328.3583679199219, 313.3572082519531, 292.29278564453125, 276.0007019042969, 274.17083740234375, 249.61569213867188, 229.51979064941406, 217.3739776611328, 215.2244873046875, 194.3626251220703, 176.38641357421875, 157.94654846191406, 143.47010803222656, 143.3440399169922, 140.60076904296875, 131.93431091308594, 130.4928741455078, 127.59141540527344, 127.32781982421875, 187.87892150878906, 190.94967651367188, 1686.4583740234375, 554.0726318359375, 1258.99658203125, 834.6954956054688], \"Category\": [\"Default\", \"Default\", \"Default\", \"Default\", \"Default\", \"Default\", \"Default\", \"Default\", \"Default\", \"Default\", \"Default\", \"Default\", \"Default\", \"Default\", \"Default\", \"Default\", \"Default\", \"Default\", \"Default\", \"Default\", \"Default\", \"Default\", \"Default\", \"Default\", \"Default\", \"Default\", \"Default\", \"Default\", \"Default\", \"Default\", \"Topic1\", \"Topic1\", \"Topic1\", \"Topic1\", \"Topic1\", \"Topic1\", \"Topic1\", \"Topic1\", \"Topic1\", \"Topic1\", \"Topic1\", \"Topic1\", \"Topic1\", \"Topic1\", \"Topic1\", \"Topic1\", \"Topic1\", \"Topic1\", \"Topic1\", \"Topic1\", \"Topic1\", \"Topic1\", \"Topic1\", \"Topic1\", \"Topic1\", \"Topic1\", \"Topic1\", \"Topic1\", \"Topic1\", \"Topic1\", \"Topic1\", \"Topic1\", \"Topic1\", \"Topic1\", \"Topic1\", \"Topic1\", \"Topic1\", \"Topic1\", \"Topic2\", \"Topic2\", \"Topic2\", \"Topic2\", \"Topic2\", \"Topic2\", \"Topic2\", \"Topic2\", \"Topic2\", \"Topic2\", \"Topic2\", \"Topic2\", \"Topic2\", \"Topic2\", \"Topic2\", \"Topic2\", \"Topic2\", \"Topic2\", \"Topic2\", \"Topic2\", \"Topic2\", \"Topic2\", \"Topic2\", \"Topic2\", \"Topic2\", \"Topic2\", \"Topic2\", \"Topic2\", \"Topic2\", \"Topic2\", \"Topic2\", \"Topic2\", \"Topic2\", \"Topic2\", \"Topic2\", \"Topic2\", \"Topic2\", \"Topic2\", \"Topic2\", \"Topic2\", \"Topic3\", \"Topic3\", \"Topic3\", \"Topic3\", \"Topic3\", \"Topic3\", \"Topic3\", \"Topic3\", \"Topic3\", \"Topic3\", \"Topic3\", \"Topic3\", \"Topic3\", \"Topic3\", \"Topic3\", \"Topic3\", \"Topic3\", \"Topic3\", \"Topic3\", \"Topic3\", \"Topic3\", \"Topic3\", \"Topic3\", \"Topic3\", \"Topic3\", \"Topic3\", \"Topic3\", \"Topic3\", \"Topic3\", \"Topic3\", \"Topic3\", \"Topic3\", \"Topic3\", \"Topic3\", \"Topic3\", \"Topic4\", \"Topic4\", \"Topic4\", \"Topic4\", \"Topic4\", \"Topic4\", \"Topic4\", \"Topic4\", \"Topic4\", \"Topic4\", \"Topic4\", \"Topic4\", \"Topic4\", \"Topic4\", \"Topic4\", \"Topic4\", \"Topic4\", \"Topic4\", \"Topic4\", \"Topic4\", \"Topic4\", \"Topic4\", \"Topic4\", \"Topic4\", \"Topic4\", \"Topic4\", \"Topic4\", \"Topic4\", \"Topic4\", \"Topic4\", \"Topic4\", \"Topic4\", \"Topic4\", \"Topic4\", \"Topic4\", \"Topic4\", \"Topic4\", \"Topic4\", \"Topic4\", \"Topic4\", \"Topic5\", \"Topic5\", \"Topic5\", \"Topic5\", \"Topic5\", \"Topic5\", \"Topic5\", \"Topic5\", \"Topic5\", \"Topic5\", \"Topic5\", \"Topic5\", \"Topic5\", \"Topic5\", \"Topic5\", \"Topic5\", \"Topic5\", \"Topic5\", \"Topic5\", \"Topic5\", \"Topic5\", \"Topic5\", \"Topic5\", \"Topic5\", \"Topic5\", \"Topic5\", \"Topic5\", \"Topic5\", \"Topic5\", \"Topic5\", \"Topic5\", \"Topic5\", \"Topic5\", \"Topic5\", \"Topic5\", \"Topic5\"], \"logprob\": [30.0, 29.0, 28.0, 27.0, 26.0, 25.0, 24.0, 23.0, 22.0, 21.0, 20.0, 19.0, 18.0, 17.0, 16.0, 15.0, 14.0, 13.0, 12.0, 11.0, 10.0, 9.0, 8.0, 7.0, 6.0, 5.0, 4.0, 3.0, 2.0, 1.0, -2.852799892425537, -3.6796998977661133, -3.744800090789795, -4.003699779510498, -4.048999786376953, -4.113999843597412, -4.442299842834473, -4.452000141143799, -4.460299968719482, -4.492199897766113, -4.494100093841553, -4.553999900817871, -4.602799892425537, -4.645100116729736, -4.687099933624268, -4.689300060272217, -4.711999893188477, -4.728799819946289, -4.794300079345703, -4.802599906921387, -4.844099998474121, -4.8572998046875, -4.890100002288818, -4.999300003051758, -4.994900226593018, -5.075900077819824, -5.077700138092041, -5.099699974060059, -5.107399940490723, -5.155399799346924, -4.298299789428711, -4.887800216674805, -4.421000003814697, -4.347499847412109, -4.297800064086914, -3.567199945449829, -4.4695000648498535, -4.688199996948242, -2.936199903488159, -3.085700035095215, -3.109299898147583, -3.546299934387207, -3.570499897003174, -3.771899938583374, -3.907399892807007, -3.942199945449829, -3.9846999645233154, -4.064899921417236, -4.157199859619141, -4.256400108337402, -4.296199798583984, -4.342700004577637, -4.399700164794922, -4.435699939727783, -4.523499965667725, -4.64709997177124, -4.681099891662598, -4.862400054931641, -5.015999794006348, -5.117800235748291, -5.166600227355957, -5.18720006942749, -5.2291998863220215, -5.257900238037109, -5.269000053405762, -5.282800197601318, -5.300300121307373, -5.3196001052856445, -3.725800037384033, -5.242599964141846, -3.994800090789795, -4.490499973297119, -4.76800012588501, -4.325699806213379, -4.372000217437744, -4.738399982452393, -4.823999881744385, -4.46589994430542, -2.775399923324585, -3.637399911880493, -3.7730000019073486, -3.990600109100342, -4.05810022354126, -4.109799861907959, -4.112800121307373, -4.114799976348877, -4.117300033569336, -4.18720006942749, -4.433599948883057, -4.47629976272583, -4.513400077819824, -4.53439998626709, -4.529300212860107, -4.561100006103516, -4.7133002281188965, -4.755300045013428, -4.767399787902832, -4.817299842834473, -4.843800067901611, -4.856900215148926, -4.878200054168701, -4.959700107574463, -4.998600006103516, -5.023600101470947, -5.019400119781494, -5.088600158691406, -5.113399982452393, -5.146399974822998, -3.259000062942505, -4.61299991607666, -3.9442999362945557, -4.366300106048584, -4.675300121307373, -3.7637999057769775, -3.8945999145507812, -3.958199977874756, -4.050300121307373, -4.068399906158447, -4.222700119018555, -4.455699920654297, -4.5320000648498535, -4.5777997970581055, -4.5802998542785645, -4.645599842071533, -4.655399799346924, -4.656400203704834, -4.640200138092041, -4.717599868774414, -4.71750020980835, -4.729599952697754, -4.747300148010254, -4.746399879455566, -4.753399848937988, -4.754000186920166, -4.756700038909912, -4.756700038909912, -4.756700038909912, -4.756700038909912, -4.89739990234375, -4.986700057983398, -4.991600036621094, -5.171599864959717, -5.204800128936768, -2.2219998836517334, -4.441299915313721, -3.8901000022888184, -4.352099895477295, -3.362299919128418, -4.025599956512451, -3.7904000282287598, -3.87280011177063, -4.292200088500977, -3.851300001144409, -3.3134000301361084, -3.4147000312805176, -3.7464001178741455, -3.8620998859405518, -3.9138998985290527, -3.97979998588562, -3.9969000816345215, -4.022799968719482, -4.059100151062012, -4.193600177764893, -4.204699993133545, -4.230800151824951, -4.277699947357178, -4.347400188446045, -4.404900074005127, -4.411600112915039, -4.50570011138916, -4.589900016784668, -4.644400119781494, -4.6545000076293945, -4.756800174713135, -4.8541998863220215, -4.965099811553955, -5.061699867248535, -5.062600135803223, -5.081999778747559, -5.145999908447266, -5.157100200653076, -5.179699897766113, -5.18179988861084, -4.7947001457214355, -4.78380012512207, -3.017400026321411, -4.500899791717529, -4.434899806976318, -4.692800045013428], \"loglift\": [30.0, 29.0, 28.0, 27.0, 26.0, 25.0, 24.0, 23.0, 22.0, 21.0, 20.0, 19.0, 18.0, 17.0, 16.0, 15.0, 14.0, 13.0, 12.0, 11.0, 10.0, 9.0, 8.0, 7.0, 6.0, 5.0, 4.0, 3.0, 2.0, 1.0, 0.7427999973297119, 0.7426999807357788, 0.7426999807357788, 0.7426000237464905, 0.7426000237464905, 0.7426000237464905, 0.7423999905586243, 0.7423999905586243, 0.7423999905586243, 0.7423999905586243, 0.7423999905586243, 0.7423999905586243, 0.7423999905586243, 0.7422999739646912, 0.7422999739646912, 0.7422999739646912, 0.7422999739646912, 0.7422999739646912, 0.7422000169754028, 0.7422000169754028, 0.7422000169754028, 0.7422000169754028, 0.7422000169754028, 0.7421000003814697, 0.7421000003814697, 0.7419999837875366, 0.7419999837875366, 0.7419999837875366, 0.7419999837875366, 0.7419999837875366, 0.7279999852180481, 0.7389000058174133, 0.7168999910354614, 0.7124000191688538, 0.6866999864578247, 0.6008999943733215, 0.6758999824523926, 0.47850000858306885, 1.4318000078201294, 1.4316999912261963, 1.4316999912261963, 1.4315999746322632, 1.43149995803833, 1.43149995803833, 1.431399941444397, 1.431399941444397, 1.431399941444397, 1.4313000440597534, 1.4313000440597534, 1.4312000274658203, 1.4312000274658203, 1.4311000108718872, 1.4311000108718872, 1.430999994277954, 1.430999994277954, 1.430799961090088, 1.4306999444961548, 1.4306000471115112, 1.430299997329712, 1.4300999641418457, 1.4299999475479126, 1.4299999475479126, 1.429900050163269, 1.429900050163269, 1.429800033569336, 1.429800033569336, 1.429800033569336, 1.4297000169754028, 1.417099952697754, 1.4286999702453613, 1.3601000308990479, 1.277400016784668, 1.2152999639511108, 0.8684999942779541, 0.8884000182151794, 1.0024000406265259, 1.0785000324249268, 0.3416000008583069, 2.1910998821258545, 2.1905999183654785, 2.190500020980835, 2.190200090408325, 2.1900999546051025, 2.1900999546051025, 2.1900999546051025, 2.1900999546051025, 2.1900999546051025, 2.1898999214172363, 2.189500093460083, 2.1893999576568604, 2.189300060272217, 2.189300060272217, 2.189300060272217, 2.1891000270843506, 2.188800096511841, 2.188699960708618, 2.1886000633239746, 2.188499927520752, 2.188499927520752, 2.1884000301361084, 2.1884000301361084, 2.1881000995635986, 2.187999963760376, 2.1879000663757324, 2.1879000663757324, 2.1875998973846436, 2.1875, 2.1874001026153564, 2.146199941635132, 2.1380999088287354, 2.066800117492676, 1.9713000059127808, 1.589400053024292, 2.33870005607605, 2.338599920272827, 2.3385000228881836, 2.338399887084961, 2.3382999897003174, 2.338099956512451, 2.337599992752075, 2.337399959564209, 2.3373000621795654, 2.3373000621795654, 2.337100028991699, 2.337100028991699, 2.337100028991699, 2.3369998931884766, 2.336899995803833, 2.336899995803833, 2.3368000984191895, 2.3368000984191895, 2.3368000984191895, 2.3368000984191895, 2.3368000984191895, 2.336699962615967, 2.336699962615967, 2.336699962615967, 2.336699962615967, 2.336199998855591, 2.335900068283081, 2.3357999324798584, 2.3350000381469727, 2.3348000049591064, 2.324899911880493, 2.2802000045776367, 2.160900115966797, 2.222899913787842, 1.445199966430664, 1.7121000289916992, 1.4699000120162964, 1.2788000106811523, 1.3533999919891357, 0.31679999828338623, 2.558500051498413, 2.5583999156951904, 2.558000087738037, 2.5578999519348145, 2.557800054550171, 2.5576999187469482, 2.5576000213623047, 2.557499885559082, 2.557499885559082, 2.557300090789795, 2.5571999549865723, 2.5571000576019287, 2.556999921798706, 2.55679988861084, 2.5566999912261963, 2.5566999912261963, 2.5564000606536865, 2.5560998916625977, 2.555999994277954, 2.5559000968933105, 2.555500030517578, 2.5550999641418457, 2.5546998977661133, 2.5541999340057373, 2.5541999340057373, 2.5541000366210938, 2.5536999702453613, 2.5536000728607178, 2.553499937057495, 2.553499937057495, 2.551500082015991, 2.5462000370025635, 2.134200096130371, 1.763800024986267, 1.0090999603271484, 1.1620999574661255]}, \"token.table\": {\"Topic\": [4, 1, 2, 5, 1, 1, 2, 1, 2, 3, 2, 4, 1, 5, 1, 2, 1, 2, 2, 5, 5, 3, 3, 2, 4, 5, 2, 4, 3, 1, 1, 2, 4, 1, 3, 4, 1, 2, 4, 5, 2, 4, 3, 3, 2, 5, 1, 1, 2, 3, 3, 4, 2, 2, 3, 1, 3, 1, 3, 1, 5, 1, 1, 3, 4, 1, 3, 2, 4, 5, 4, 5, 4, 1, 3, 2, 2, 5, 1, 2, 2, 2, 5, 5, 1, 5, 1, 5, 2, 4, 5, 3, 1, 3, 3, 1, 4, 4, 3, 1, 2, 1, 2, 4, 2, 4, 2, 2, 3, 1, 2, 2, 1, 1, 1, 3, 5, 5, 1, 4, 4, 2, 3, 1, 1, 1, 3, 5, 4, 5, 5, 5, 5, 1, 2, 3, 3, 3, 1, 3, 1, 2, 5, 5, 5, 1, 5, 4, 4, 4, 5, 5, 1, 2, 2, 4, 1, 2, 5, 4, 1, 1, 3, 2, 1, 3, 1, 2, 3, 4, 3, 2, 1, 1, 3, 1, 2, 4, 4, 1, 2, 4, 1, 4, 4, 3, 1, 4, 3, 2, 1, 3, 4, 2, 5, 3, 3, 4, 1, 5, 1, 2, 3, 5, 4, 3, 4, 5, 2, 4, 2, 3, 5, 5, 1, 3, 1, 5, 4, 3, 2, 4, 5, 4, 2], \"Freq\": [0.9951164722442627, 0.7674941420555115, 0.2317531257867813, 0.997735321521759, 0.9991939663887024, 0.9849767088890076, 0.014646493829786777, 0.014694031327962875, 0.9850878715515137, 0.9954757690429688, 0.9997079372406006, 0.9979526996612549, 0.999848484992981, 0.9988600611686707, 0.9996768832206726, 0.9996636509895325, 0.9994969367980957, 0.9997329711914062, 0.9997606873512268, 0.9975334405899048, 0.9970226287841797, 0.9954234957695007, 0.9968850016593933, 0.9989763498306274, 0.9945613741874695, 0.9975998997688293, 0.9973968863487244, 0.998799741268158, 0.9958881735801697, 0.9986775517463684, 0.11719967424869537, 0.3494681119918823, 0.5337912440299988, 0.9992637038230896, 0.9997907876968384, 0.9978194832801819, 0.5199118256568909, 0.1068977564573288, 0.3731703758239746, 0.996374249458313, 0.9976995587348938, 0.9981909394264221, 0.9994253516197205, 0.9993542432785034, 0.9990778565406799, 0.9943106770515442, 0.9993546009063721, 0.01164709497243166, 0.18441234529018402, 0.8017084002494812, 0.1632431149482727, 0.8366209268569946, 0.9985619783401489, 0.8050463795661926, 0.19342908263206482, 0.9998044371604919, 0.9951778054237366, 0.9988779425621033, 0.998023271560669, 0.9998593330383301, 0.997425377368927, 0.9989858269691467, 0.9997446537017822, 0.9981879591941833, 0.9977091550827026, 0.9700318574905396, 0.029755577445030212, 0.9992061853408813, 0.9432554244995117, 0.05699428543448448, 0.9953754544258118, 0.9991626143455505, 0.996206521987915, 0.11624269932508469, 0.8823240995407104, 0.9987287521362305, 0.9992288947105408, 0.998077929019928, 0.0027101337909698486, 0.9973292350769043, 0.9997840523719788, 0.9970908761024475, 0.9989085793495178, 0.9981343150138855, 0.7871347665786743, 0.2120736539363861, 0.9991434812545776, 0.9989113211631775, 0.5804154276847839, 0.41911548376083374, 0.9929183721542358, 0.9971655011177063, 0.9991949796676636, 0.9976416230201721, 0.9979411363601685, 0.8677188158035278, 0.13216468691825867, 0.9984524846076965, 0.9966931939125061, 0.3484248220920563, 0.6508917808532715, 0.06902290880680084, 0.9307194352149963, 0.9984021782875061, 0.9994364976882935, 0.9939231276512146, 0.9994747638702393, 0.9986745119094849, 0.9968620538711548, 0.4306609332561493, 0.5692644715309143, 0.9992179870605469, 0.9995878338813782, 0.9998452663421631, 0.9998121857643127, 0.5468597412109375, 0.451204389333725, 0.9991625547409058, 0.9955146908760071, 0.003814232535660267, 0.9971593618392944, 0.9974268674850464, 0.9976297616958618, 0.9997047781944275, 0.9998024702072144, 0.974335789680481, 0.025147922337055206, 0.9957271218299866, 0.9972903728485107, 0.9940071702003479, 0.9992132186889648, 0.995364785194397, 0.996222972869873, 0.9994585514068604, 0.8565207123756409, 0.1427534520626068, 0.9959924221038818, 0.9984325766563416, 0.9994676113128662, 0.9989795684814453, 0.9987412095069885, 0.9995498061180115, 0.9989982843399048, 0.9967232942581177, 0.9990115761756897, 0.9452380537986755, 0.054185621440410614, 0.9960244297981262, 0.998766303062439, 0.3462878167629242, 0.6534403562545776, 0.9977886080741882, 0.9351249933242798, 0.06422723829746246, 0.9997517466545105, 0.996206521987915, 0.5570893883705139, 0.1952807903289795, 0.2467965930700302, 0.9990038275718689, 0.9996637105941772, 0.043551910668611526, 0.955849826335907, 0.9974161386489868, 0.9998324513435364, 0.9982348084449768, 0.9994727373123169, 0.9998137354850769, 0.10830246657133102, 0.8885725140571594, 0.9974523782730103, 0.9991578459739685, 0.9991291761398315, 0.998596727848053, 0.9973022937774658, 0.29649439454078674, 0.7022897005081177, 0.997314989566803, 0.9990671873092651, 0.2551247775554657, 0.33624351024627686, 0.4085358679294586, 0.9989780783653259, 0.9978586435317993, 0.998514711856842, 0.9967615008354187, 0.01489953976124525, 0.9849891066551208, 0.9967617988586426, 0.9986393451690674, 0.04990116134285927, 0.9481220841407776, 0.9976131916046143, 0.9988125562667847, 0.9957295060157776, 0.9988366961479187, 0.9982008934020996, 0.996206521987915, 0.005322576966136694, 0.9899992942810059, 0.005236981902271509, 0.005236981902271509, 0.005236981902271509, 0.9845526218414307, 0.9985650181770325, 0.9971722960472107, 0.9978361129760742, 0.9972628355026245, 0.9988552927970886, 0.996206521987915, 0.9986669421195984, 0.9935137033462524, 0.9983870983123779, 0.9978092908859253, 0.9993231892585754, 0.9970486164093018, 0.9997022747993469, 0.9982795715332031, 0.9935222268104553, 0.9994890093803406, 0.9995361566543579, 0.9976982474327087, 0.998186469078064, 0.998091995716095, 0.9988115429878235], \"Term\": [\"ability\", \"access\", \"access\", \"additional\", \"amenity\", \"apartment\", \"apartment\", \"area\", \"area\", \"art\", \"available\", \"average_rating\", \"away\", \"back\", \"bar\", \"bathroom\", \"beautiful\", \"bed\", \"bedroom\", \"believe\", \"big\", \"breakfast\", \"bright\", \"cable\", \"call\", \"capital\", \"car\", \"check\", \"chic\", \"city\", \"clean\", \"clean\", \"clean\", \"close\", \"coffee\", \"combined\", \"comfortable\", \"comfortable\", \"comfortable\", \"comfy\", \"community\", \"company\", \"complimentary\", \"cotton_sheet\", \"couch\", \"cute\", \"day\", \"deck\", \"deck\", \"deck\", \"design\", \"design\", \"desk\", \"dining\", \"dining\", \"distance\", \"dog\", \"domain\", \"door\", \"downtown\", \"drink\", \"drive\", \"easy\", \"eat\", \"email\", \"enjoy\", \"enjoy\", \"entire\", \"essentials_provide\", \"essentials_provide\", \"expect\", \"family\", \"fast_company\", \"feature\", \"feature\", \"floor\", \"free\", \"friend\", \"front\", \"front\", \"full\", \"fully\", \"fun\", \"game\", \"good\", \"good\", \"great\", \"group\", \"guest\", \"guest\", \"happy\", \"hdtv_youll\", \"heart\", \"high_quality\", \"historic\", \"home\", \"home\", \"host\", \"hot\", \"house\", \"house\", \"include\", \"include\", \"interact\", \"kitchen\", \"know\", \"large\", \"light\", \"little\", \"live\", \"live\", \"living\", \"local\", \"locate\", \"location\", \"lot\", \"lot\", \"love\", \"make\", \"make\", \"manage\", \"master\", \"mattresses_fitte\", \"mile\", \"minute\", \"modern\", \"modern\", \"movie\", \"much\", \"multiple\", \"music\", \"natural\", \"neighbor\", \"neighborhood\", \"new\", \"new\", \"next\", \"oasis\", \"offer\", \"open\", \"outdoor\", \"parking\", \"part\", \"party\", \"people\", \"perfect\", \"perfect\", \"person\", \"phone\", \"place\", \"place\", \"play\", \"pool\", \"pool\", \"private\", \"proper_disinfection\", \"property\", \"property\", \"property\", \"provide\", \"quiet\", \"relax\", \"relax\", \"rent\", \"restaurant\", \"restful_slumber\", \"right\", \"room\", \"run\", \"run\", \"separate\", \"share\", \"shop\", \"short\", \"size\", \"sleep\", \"sleep\", \"sond\", \"sonder\", \"space\", \"space\", \"space\", \"spacious\", \"staff\", \"star\", \"start\", \"stay\", \"stay\", \"step\", \"street\", \"style\", \"style\", \"stylish\", \"suite\", \"super\", \"sure\", \"surf\", \"technique\", \"technology\", \"technology\", \"thousand\", \"thousand\", \"thousand\", \"thousand\", \"time\", \"trail\", \"train\", \"trip\", \"tv\", \"uncertainty\", \"unit\", \"upscale\", \"use\", \"vibe\", \"view\", \"vintage\", \"walk\", \"water\", \"way\", \"web\", \"wifi\", \"wont_need\", \"work\", \"would\", \"yard\"]}, \"R\": 30, \"lambda.step\": 0.01, \"plot.opts\": {\"xlab\": \"PC1\", \"ylab\": \"PC2\"}, \"topic.order\": [2, 3, 5, 1, 4]};\n",
       "\n",
       "function LDAvis_load_lib(url, callback){\n",
       "  var s = document.createElement('script');\n",
       "  s.src = url;\n",
       "  s.async = true;\n",
       "  s.onreadystatechange = s.onload = callback;\n",
       "  s.onerror = function(){console.warn(\"failed to load library \" + url);};\n",
       "  document.getElementsByTagName(\"head\")[0].appendChild(s);\n",
       "}\n",
       "\n",
       "if(typeof(LDAvis) !== \"undefined\"){\n",
       "   // already loaded: just create the visualization\n",
       "   !function(LDAvis){\n",
       "       new LDAvis(\"#\" + \"ldavis_el123052736240161511001429\", ldavis_el123052736240161511001429_data);\n",
       "   }(LDAvis);\n",
       "}else if(typeof define === \"function\" && define.amd){\n",
       "   // require.js is available: use it to load d3/LDAvis\n",
       "   require.config({paths: {d3: \"https://cdnjs.cloudflare.com/ajax/libs/d3/3.5.5/d3.min\"}});\n",
       "   require([\"d3\"], function(d3){\n",
       "      window.d3 = d3;\n",
       "      LDAvis_load_lib(\"https://cdn.rawgit.com/bmabey/pyLDAvis/files/ldavis.v1.0.0.js\", function(){\n",
       "        new LDAvis(\"#\" + \"ldavis_el123052736240161511001429\", ldavis_el123052736240161511001429_data);\n",
       "      });\n",
       "    });\n",
       "}else{\n",
       "    // require.js not available: dynamically load d3 & LDAvis\n",
       "    LDAvis_load_lib(\"https://cdnjs.cloudflare.com/ajax/libs/d3/3.5.5/d3.min.js\", function(){\n",
       "         LDAvis_load_lib(\"https://cdn.rawgit.com/bmabey/pyLDAvis/files/ldavis.v1.0.0.js\", function(){\n",
       "                 new LDAvis(\"#\" + \"ldavis_el123052736240161511001429\", ldavis_el123052736240161511001429_data);\n",
       "            })\n",
       "         });\n",
       "}\n",
       "</script>"
      ],
      "text/plain": [
       "PreparedData(topic_coordinates=              x         y  topics  cluster       Freq\n",
       "topic                                                \n",
       "1      0.258253 -0.020749       1        1  47.573418\n",
       "2      0.216731 -0.111157       2        1  23.884001\n",
       "4     -0.245062 -0.294883       3        1  11.175030\n",
       "0     -0.043185  0.256927       4        1   9.632885\n",
       "3     -0.186737  0.169862       5        1   7.734669, topic_info=          Term         Freq        Total Category  logprob  loglift\n",
       "83        stay  3087.000000  3087.000000  Default  30.0000  30.0000\n",
       "9     downtown  7994.000000  7994.000000  Default  29.0000  29.0000\n",
       "123       room  3692.000000  3692.000000  Default  28.0000  28.0000\n",
       "141    bedroom  3179.000000  3179.000000  Default  27.0000  27.0000\n",
       "51      coffee  2029.000000  2029.000000  Default  26.0000  26.0000\n",
       "...        ...          ...          ...      ...      ...      ...\n",
       "6939  thousand   188.437347   190.949677   Topic5  -4.7838   2.5462\n",
       "239      place  1102.268188  1686.458374   Topic5  -3.0174   2.1342\n",
       "16         lot   250.050980   554.072632   Topic5  -4.5009   1.7638\n",
       "276       good   267.115845  1258.996582   Topic5  -4.4349   1.0091\n",
       "105   property   206.383499   834.695496   Topic5  -4.6928   1.1621\n",
       "\n",
       "[219 rows x 6 columns], token_table=      Topic      Freq        Term\n",
       "term                             \n",
       "2641      4  0.995116     ability\n",
       "185       1  0.767494      access\n",
       "185       2  0.231753      access\n",
       "37        5  0.997735  additional\n",
       "46        1  0.999194     amenity\n",
       "...     ...       ...         ...\n",
       "45        2  0.999536        wifi\n",
       "5259      4  0.997698   wont_need\n",
       "247       5  0.998186        work\n",
       "815       4  0.998092       would\n",
       "176       2  0.998812        yard\n",
       "\n",
       "[225 rows x 3 columns], R=30, lambda_step=0.01, plot_opts={'xlab': 'PC1', 'ylab': 'PC2'}, topic_order=[2, 3, 5, 1, 4])"
      ]
     },
     "execution_count": 70,
     "metadata": {},
     "output_type": "execute_result"
    }
   ],
   "source": [
    "# Visualize the topics\n",
    "pyLDAvis.enable_notebook()\n",
    "vis = pyLDAvis.gensim.prepare(models[3], corpus, id2word)\n",
    "vis"
   ]
  }
 ],
 "metadata": {
  "kernelspec": {
   "display_name": "Python 3",
   "language": "python",
   "name": "python3"
  },
  "language_info": {
   "codemirror_mode": {
    "name": "ipython",
    "version": 3
   },
   "file_extension": ".py",
   "mimetype": "text/x-python",
   "name": "python",
   "nbconvert_exporter": "python",
   "pygments_lexer": "ipython3",
   "version": "3.7.7"
  }
 },
 "nbformat": 4,
 "nbformat_minor": 4
}

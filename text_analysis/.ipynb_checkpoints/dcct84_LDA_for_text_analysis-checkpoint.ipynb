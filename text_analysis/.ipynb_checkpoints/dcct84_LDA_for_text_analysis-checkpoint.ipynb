{
 "cells": [
  {
   "cell_type": "code",
   "execution_count": 1,
   "metadata": {},
   "outputs": [
    {
     "name": "stderr",
     "output_type": "stream",
     "text": [
      "[nltk_data] Downloading package stopwords to\n",
      "[nltk_data]     /Users/danielacollaguazo/nltk_data...\n",
      "[nltk_data]   Package stopwords is already up-to-date!\n"
     ]
    }
   ],
   "source": [
    "# Run in python console\n",
    "import nltk; nltk.download('stopwords')\n",
    "import spacy\n",
    "\n",
    "import re\n",
    "import os\n",
    "import numpy as np\n",
    "import pandas as pd\n",
    "import zipfile\n",
    "\n",
    "from pprint import pprint\n",
    "\n",
    "# Gensim\n",
    "import gensim\n",
    "import gensim.corpora as corpora\n",
    "from gensim.utils import simple_preprocess\n",
    "from gensim.models import CoherenceModel\n",
    "\n",
    "# spacy for lemmatization\n",
    "import spacy\n",
    "import en_core_web_sm\n",
    "\n",
    "# Plotting tools\n",
    "import pyLDAvis\n",
    "import pyLDAvis.gensim  # don't skip this\n",
    "import matplotlib.pyplot as plt\n",
    "%matplotlib inline\n",
    "\n",
    "# NLTK Stop words\n",
    "from nltk.corpus import stopwords\n",
    "stop_words = stopwords.words('english')\n",
    "\n",
    "# Enable logging for gensim - optional\n",
    "import logging\n",
    "logging.basicConfig(format='%(asctime)s : %(levelname)s : %(message)s', level=logging.ERROR)\n",
    "\n",
    "import warnings\n",
    "warnings.filterwarnings(\"ignore\",category=DeprecationWarning)\n",
    "\n",
    "\n",
    "import shutil\n",
    "import glob\n",
    "from tika import parser"
   ]
  },
  {
   "cell_type": "markdown",
   "metadata": {},
   "source": [
    "## Creating a DataFrame of Corpus and its metadata"
   ]
  },
  {
   "cell_type": "code",
   "execution_count": null,
   "metadata": {},
   "outputs": [],
   "source": [
    "# importing AirBnb dataset from Kaggle - source https://www.kaggle.com/dgomonov/new-york-city-airbnb-open-data/data\n",
    "airbnb_data_path = './data/'\n",
    "\n",
    "df = pd.read_csv(airbnb_data_path)\n",
    "df.head()"
   ]
  },
  {
   "cell_type": "code",
   "execution_count": 2,
   "metadata": {},
   "outputs": [],
   "source": [
    "# def transform_pdf_to_txt(pdf_name):\n",
    "# #     print(pdf_name,txt_name)\n",
    "#     try:\n",
    "#         parsed = parser.from_file(pdf_name, xmlContent=False)\n",
    "#         parsed_txt = parsed['content']\n",
    "#         str_len = len(parsed_txt)\n",
    "# #         print(str_len)\n",
    "# #         Removing Table of Contents, etc.\n",
    "#         if(parsed_txt.find('Contents')!= -1):\n",
    "#             str_start = parsed_txt.find('Contents')\n",
    "#             parsed_txt = parsed_txt[str_start:str_len]\n",
    "\n",
    "# #         Search and removing References starting from the half of the document\n",
    "#         if(parsed_txt.find('References',int(str_len*.5),str_len)!= -1):\n",
    "#             str_end = parsed_txt.find('References',int(str_len*.5),str_len)  \n",
    "#             to_cut = str_len - str_end\n",
    "#             parsed_txt = parsed_txt[0:-to_cut]\n",
    "            \n",
    "#         parsed_txt = re.sub(r\"(?:https?|ftp)://[\\w_-]+(?:\\.[\\w_-]+)+(?:[\\w.,@?^=%&:/~+#-]*[\\w@?^=%&/~+#-])?\",\n",
    "#                             \"\", parsed_txt)\n",
    "#         # removing extra spaces\n",
    "#         parsed_txt = re.sub(r\"\\s{2,}\",\" \",parsed_txt)\n",
    "#         # removing breaks with words\n",
    "#         parsed_txt = re.sub(r\"-\\n\",\"\",parsed_txt)\n",
    "#         # removing extra breaks\n",
    "#         parsed_txt = re.sub(r\"\\n\",\" \",parsed_txt)\n",
    "        \n",
    "#         return parsed_txt\n",
    "\n",
    "#     except Exception as e:\n",
    "#         print(e)\n",
    "        "
   ]
  },
  {
   "cell_type": "code",
   "execution_count": 3,
   "metadata": {},
   "outputs": [],
   "source": [
    "# def extract_subclass_from_folder(x):\n",
    "#     try:\n",
    "#         return x.split(\"/\")[2]\n",
    "#     except:\n",
    "#         return np.nan"
   ]
  },
  {
   "cell_type": "code",
   "execution_count": 4,
   "metadata": {},
   "outputs": [],
   "source": [
    "def extract_files_with_label(path):\n",
    "    paths_list = glob.glob(pathname,  recursive = True)\n",
    "    roots_list = list(map(lambda x: os.path.dirname(x), paths_list))\n",
    "    filen_list = list(map(lambda x: x.split(\"/\")[-1] if x[-1] else np.nan, paths_list))\n",
    "    content_list = list(map(transform_pdf_to_txt, paths_list))\n",
    "    parent_class_list = list(map(lambda x: x.split(\"/\")[1] if x[1] else np.nan, roots_list))\n",
    "    sub_class_list = list(map(lambda x: extract_subclass_from_folder(x), roots_list))\n",
    "    \n",
    "    df = pd.DataFrame(data=zip(*[roots_list, filen_list, content_list, parent_class_list, sub_class_list]), \n",
    "                      columns=['path', 'filename', 'content', 'parent_class', 'secondary_class'])\n",
    "    \n",
    "    return df"
   ]
  },
  {
   "cell_type": "code",
   "execution_count": 5,
   "metadata": {},
   "outputs": [],
   "source": [
    "# # path = os.path.join(os.getcwd(),'abs_summ_techniques_classification')\n",
    "# path = 'abs_summ_techniques_classification'\n",
    "# pathname = path + '/**/*.pdf'\n",
    "\n",
    "# lit_review_df = extract_files_with_label(pathname)"
   ]
  },
  {
   "cell_type": "code",
   "execution_count": 6,
   "metadata": {},
   "outputs": [
    {
     "data": {
      "text/plain": [
       "(145, 5)"
      ]
     },
     "execution_count": 6,
     "metadata": {},
     "output_type": "execute_result"
    }
   ],
   "source": [
    "# lit_review_df.shape\n",
    "# # lit_review_df.to_csv('test.csv')"
   ]
  },
  {
   "cell_type": "code",
   "execution_count": 7,
   "metadata": {},
   "outputs": [],
   "source": [
    "def generate_list_content(df):\n",
    "    \n",
    "    # Convert to list\n",
    "    data = df['content'].values.tolist()\n",
    "\n",
    "    # Remove Emails\n",
    "    data = [re.sub('\\S*@\\S*\\s?', '', sent) for sent in data]\n",
    "\n",
    "    # Remove new line characters\n",
    "    data = [re.sub('\\s+', ' ', sent) for sent in data]\n",
    "\n",
    "    # Remove distracting single quotes\n",
    "    data = [re.sub(\"\\'\", \"\", sent) for sent in data]\n",
    "    return data"
   ]
  },
  {
   "cell_type": "code",
   "execution_count": 8,
   "metadata": {},
   "outputs": [],
   "source": [
    "lst_texts = generate_list_content(lit_review_df)"
   ]
  },
  {
   "cell_type": "code",
   "execution_count": 9,
   "metadata": {},
   "outputs": [
    {
     "data": {
      "text/plain": [
       "145"
      ]
     },
     "execution_count": 9,
     "metadata": {},
     "output_type": "execute_result"
    }
   ],
   "source": [
    "len(lst_texts)"
   ]
  },
  {
   "cell_type": "markdown",
   "metadata": {},
   "source": [
    "## Tokenize words and clean up text"
   ]
  },
  {
   "cell_type": "code",
   "execution_count": 10,
   "metadata": {},
   "outputs": [],
   "source": [
    "# here we are tokenizing each document.\n",
    "def content_to_words(lst_texts):\n",
    "    for text in lst_texts:\n",
    "        yield(gensim.utils.simple_preprocess(str(text), deacc=True))\n",
    "        \n",
    "# data_words is a list where each element is the tokenized document\n",
    "tokenized_content = list(content_to_words(lst_texts))"
   ]
  },
  {
   "cell_type": "markdown",
   "metadata": {},
   "source": [
    "## Create bigram and trigrams"
   ]
  },
  {
   "cell_type": "code",
   "execution_count": 11,
   "metadata": {},
   "outputs": [],
   "source": [
    "# Build the bigram and trigram models\n",
    "bigram = gensim.models.Phrases(tokenized_content, min_count=10, threshold=100) # higher threshold fewer phrases.\n",
    "trigram = gensim.models.Phrases(bigram[tokenized_content], threshold=100)  \n",
    "\n",
    "\n",
    "# Faster way to get a sentence clubbed as a trigram/bigram\n",
    "bigram_mod = gensim.models.phrases.Phraser(bigram)\n",
    "trigram_mod = gensim.models.phrases.Phraser(trigram)"
   ]
  },
  {
   "cell_type": "markdown",
   "metadata": {},
   "source": [
    "## Remove Stopwords, Make Bigrams and Lemmatize"
   ]
  },
  {
   "cell_type": "code",
   "execution_count": 12,
   "metadata": {},
   "outputs": [],
   "source": [
    "# Define functions for stopwords, bigrams, trigrams and lemmatization\n",
    "def remove_stopwords(tokenized_content):\n",
    "    return [[word for word in simple_preprocess(str(doc)) if word not in stop_words] for doc in tokenized_content]\n",
    "\n",
    "def make_bigrams(tokenized_content):\n",
    "    return [bigram_mod[doc] for doc in tokenized_content]\n",
    "\n",
    "def make_trigrams(tokenized_content):\n",
    "    return [trigram_mod[bigram_mod[doc]] for doc in tokenized_content]\n",
    "\n",
    "def lemmatization(tokenized_content, allowed_postags=['NOUN', 'ADJ', 'VERB', 'ADV']):\n",
    "    \"\"\"https://spacy.io/api/annotation\"\"\"\n",
    "    texts_out = []\n",
    "    for sent in tokenized_content:\n",
    "        doc = nlp(\" \".join(sent)) \n",
    "        texts_out.append([token.lemma_ for token in doc if token.pos_ in allowed_postags])\n",
    "    return texts_out\n",
    "nlp = en_core_web_sm.load(disable=['parser', 'ner'])"
   ]
  },
  {
   "cell_type": "code",
   "execution_count": 13,
   "metadata": {},
   "outputs": [],
   "source": [
    "# Remove Stop Words\n",
    "tokenized_content_nostops = remove_stopwords(tokenized_content)\n",
    "\n",
    "# Form Bigrams\n",
    "tokenized_content_bigrams = make_bigrams(tokenized_content_nostops)\n",
    "\n",
    "# Do lemmatization keeping only noun, adj, vb, adv\n",
    "tokenized_content_lemmatized = lemmatization(tokenized_content_bigrams, \n",
    "                                             allowed_postags=['NOUN', 'ADJ', 'VERB', 'ADV'])"
   ]
  },
  {
   "cell_type": "markdown",
   "metadata": {},
   "source": [
    "## Create the Dictionary and Corpus needed for Topic Modeling"
   ]
  },
  {
   "cell_type": "code",
   "execution_count": 14,
   "metadata": {},
   "outputs": [],
   "source": [
    "# Create Dictionary:\n",
    "# Mapping from word IDs to words. \n",
    "# It is used to determine the vocabulary size, as well as for debugging and topic printing.\n",
    "id2word = corpora.Dictionary(tokenized_content_lemmatized)\n",
    "# print(len(id2word)) # corpus has 14118 unique tokens\n",
    "\n",
    "# Term Document Frequency\n",
    "# word with their corresponding id\n",
    "corpus = [id2word.doc2bow(text) for text in tokenized_content_lemmatized]\n",
    "\n",
    "# View\n",
    "# print(corpus[:1])"
   ]
  },
  {
   "cell_type": "markdown",
   "metadata": {},
   "source": [
    "## Build list of topic models"
   ]
  },
  {
   "cell_type": "code",
   "execution_count": 15,
   "metadata": {},
   "outputs": [],
   "source": [
    "def build_topics(num_topics):\n",
    "    list_models=[]\n",
    "    for n in num_topics:\n",
    "        topic_name = 'lda_model_' + str(n)\n",
    "        topic_name = gensim.models.ldamodel.LdaModel(corpus=corpus, id2word=id2word, \n",
    "                                                     num_topics=n, random_state=100, \n",
    "                                                     update_every=1, chunksize=100, \n",
    "                                                     passes=10, alpha='auto', \n",
    "                                                     per_word_topics=True)\n",
    "        list_models.append(topic_name)\n",
    "    return list_models\n",
    "\n",
    "num_topics = [2,3,4,5,6,7,8,9,10]\n",
    "models = build_topics(num_topics)"
   ]
  },
  {
   "cell_type": "markdown",
   "metadata": {},
   "source": [
    "## Compute Model Perplexity and Coherence Score for all models"
   ]
  },
  {
   "cell_type": "code",
   "execution_count": 16,
   "metadata": {},
   "outputs": [],
   "source": [
    "def calc_perplexity_coherence(models):\n",
    "    list_perplexity = []\n",
    "    list_coherence = []\n",
    "    \n",
    "    for model in models:\n",
    "        list_perplexity.append(model.log_perplexity(corpus))\n",
    "        coherence_model_lda = CoherenceModel(model=model, texts=tokenized_content_lemmatized, \n",
    "                                             dictionary=id2word, coherence='c_v')\n",
    "        list_coherence.append(coherence_model_lda.get_coherence())\n",
    "    return list_perplexity, list_coherence\n",
    "\n",
    "x = calc_perplexity_coherence(models)      "
   ]
  },
  {
   "cell_type": "code",
   "execution_count": 17,
   "metadata": {},
   "outputs": [
    {
     "data": {
      "text/html": [
       "<div>\n",
       "<style scoped>\n",
       "    .dataframe tbody tr th:only-of-type {\n",
       "        vertical-align: middle;\n",
       "    }\n",
       "\n",
       "    .dataframe tbody tr th {\n",
       "        vertical-align: top;\n",
       "    }\n",
       "\n",
       "    .dataframe thead th {\n",
       "        text-align: right;\n",
       "    }\n",
       "</style>\n",
       "<table border=\"1\" class=\"dataframe\">\n",
       "  <thead>\n",
       "    <tr style=\"text-align: right;\">\n",
       "      <th></th>\n",
       "      <th>Perplexity</th>\n",
       "      <th>Coherence</th>\n",
       "      <th>Number of topics</th>\n",
       "    </tr>\n",
       "  </thead>\n",
       "  <tbody>\n",
       "    <tr>\n",
       "      <th>0</th>\n",
       "      <td>-7.191401</td>\n",
       "      <td>0.326328</td>\n",
       "      <td>2</td>\n",
       "    </tr>\n",
       "    <tr>\n",
       "      <th>1</th>\n",
       "      <td>-7.159435</td>\n",
       "      <td>0.317467</td>\n",
       "      <td>3</td>\n",
       "    </tr>\n",
       "    <tr>\n",
       "      <th>2</th>\n",
       "      <td>-7.128551</td>\n",
       "      <td>0.344860</td>\n",
       "      <td>4</td>\n",
       "    </tr>\n",
       "    <tr>\n",
       "      <th>3</th>\n",
       "      <td>-7.118279</td>\n",
       "      <td>0.361287</td>\n",
       "      <td>5</td>\n",
       "    </tr>\n",
       "    <tr>\n",
       "      <th>4</th>\n",
       "      <td>-7.102447</td>\n",
       "      <td>0.359980</td>\n",
       "      <td>6</td>\n",
       "    </tr>\n",
       "    <tr>\n",
       "      <th>5</th>\n",
       "      <td>-7.082181</td>\n",
       "      <td>0.344748</td>\n",
       "      <td>7</td>\n",
       "    </tr>\n",
       "    <tr>\n",
       "      <th>6</th>\n",
       "      <td>-7.075918</td>\n",
       "      <td>0.379703</td>\n",
       "      <td>8</td>\n",
       "    </tr>\n",
       "    <tr>\n",
       "      <th>7</th>\n",
       "      <td>-7.060697</td>\n",
       "      <td>0.399855</td>\n",
       "      <td>9</td>\n",
       "    </tr>\n",
       "    <tr>\n",
       "      <th>8</th>\n",
       "      <td>-7.062630</td>\n",
       "      <td>0.365826</td>\n",
       "      <td>10</td>\n",
       "    </tr>\n",
       "  </tbody>\n",
       "</table>\n",
       "</div>"
      ],
      "text/plain": [
       "   Perplexity  Coherence  Number of topics\n",
       "0   -7.191401   0.326328                 2\n",
       "1   -7.159435   0.317467                 3\n",
       "2   -7.128551   0.344860                 4\n",
       "3   -7.118279   0.361287                 5\n",
       "4   -7.102447   0.359980                 6\n",
       "5   -7.082181   0.344748                 7\n",
       "6   -7.075918   0.379703                 8\n",
       "7   -7.060697   0.399855                 9\n",
       "8   -7.062630   0.365826                10"
      ]
     },
     "execution_count": 17,
     "metadata": {},
     "output_type": "execute_result"
    }
   ],
   "source": [
    "df_metrics = pd.DataFrame(list(x)).transpose()\n",
    "df_metrics.columns = ['Perplexity','Coherence']\n",
    "df_metrics['Number of topics'] = num_topics\n",
    "df_metrics"
   ]
  },
  {
   "cell_type": "markdown",
   "metadata": {},
   "source": [
    "## Graphic of number of Topics and Perplexity"
   ]
  },
  {
   "cell_type": "code",
   "execution_count": 18,
   "metadata": {},
   "outputs": [
    {
     "data": {
      "image/png": "[encoded data removed]",
      "text/plain": [
       "<Figure size 432x288 with 1 Axes>"
      ]
     },
     "metadata": {
      "needs_background": "light"
     },
     "output_type": "display_data"
    }
   ],
   "source": [
    "# Perplexity needs to be as low as possible \n",
    "plt.plot( 'Number of topics', 'Perplexity', data=df_metrics, color='skyblue')\n",
    "plt.xlabel(\"Number of Topics\")\n",
    "plt.ylabel(\"Perplexity\")\n",
    "plt.show()"
   ]
  },
  {
   "cell_type": "markdown",
   "metadata": {},
   "source": [
    "## Graphic of number of Topics and Coherence"
   ]
  },
  {
   "cell_type": "code",
   "execution_count": 19,
   "metadata": {},
   "outputs": [
    {
     "data": {
      "image/png": "[encoded data removed]",
      "text/plain": [
       "<Figure size 432x288 with 1 Axes>"
      ]
     },
     "metadata": {
      "needs_background": "light"
     },
     "output_type": "display_data"
    }
   ],
   "source": [
    "# Perplexity needs to be as low as possible \n",
    "plt.plot( 'Number of topics', 'Coherence', data=df_metrics, color='orange')\n",
    "plt.xlabel(\"Number of Topics\")\n",
    "plt.ylabel(\"Coherence\")\n",
    "plt.show()"
   ]
  },
  {
   "cell_type": "markdown",
   "metadata": {},
   "source": [
    "## Most salient topic per file using results of Model of choice"
   ]
  },
  {
   "cell_type": "code",
   "execution_count": 20,
   "metadata": {},
   "outputs": [],
   "source": [
    "def format_topics_sentences(ldamodel=None, corpus=corpus, texts=lst_texts):\n",
    "    # Init output\n",
    "    sent_topics_df = pd.DataFrame()\n",
    "\n",
    "    # Get main topic in each document\n",
    "    for i, row_list in enumerate(ldamodel[corpus]):\n",
    "        row = row_list[0] if ldamodel.per_word_topics else row_list            \n",
    "        # print(row)\n",
    "        row = sorted(row, key=lambda x: (x[1]), reverse=True)\n",
    "        # Get the Dominant topic, Perc Contribution and Keywords for each document\n",
    "        for j, (topic_num, prop_topic) in enumerate(row):\n",
    "            if j == 0:  # => dominant topic\n",
    "                wp = ldamodel.show_topic(topic_num)\n",
    "                topic_keywords = \", \".join([word for word, prop in wp])\n",
    "                sent_topics_df = sent_topics_df.append(pd.Series([int(topic_num) + 1, \n",
    "                                                                  round(prop_topic,4), \n",
    "                                                                  topic_keywords]), ignore_index=True)\n",
    "            else:\n",
    "                break\n",
    "    sent_topics_df.columns = ['Dominant_Topic', 'Perc_Contribution', 'Topic_Keywords']\n",
    "\n",
    "    # Add original text to the end of the output\n",
    "#     contents = pd.Series(texts)\n",
    "    sent_topics_df = pd.concat([lit_review_df,sent_topics_df], axis=1)\n",
    "    return(sent_topics_df)"
   ]
  },
  {
   "cell_type": "code",
   "execution_count": 21,
   "metadata": {},
   "outputs": [],
   "source": [
    "# choosing the model\n",
    "df_topic_sents_keywords = format_topics_sentences(ldamodel=models[3], corpus=corpus, texts=lst_texts)\n",
    "\n",
    "# Format\n",
    "df_dominant_topic = df_topic_sents_keywords\n",
    "df_dominant_topic.to_csv('dominant_topic.csv', index=False)"
   ]
  },
  {
   "cell_type": "markdown",
   "metadata": {},
   "source": [
    "### Grouping topics per class"
   ]
  },
  {
   "cell_type": "code",
   "execution_count": 22,
   "metadata": {},
   "outputs": [],
   "source": [
    "df_topic_semantic_b = df_dominant_topic[df_dominant_topic['parent_class']=='semantic_based']\n",
    "df_topic_disc_reth = df_dominant_topic[df_dominant_topic['parent_class']=='discourse_and_rethoric_sturcure_absed']\n",
    "df_topic_nn = df_dominant_topic[df_dominant_topic['parent_class']=='deep_learning_with_neural_networks']\n",
    "df_topic_structured_b = df_dominant_topic[df_dominant_topic['parent_class']=='structured_based_approach']\n",
    "df_topic_not_classified = df_dominant_topic[df_dominant_topic['parent_class']=='not_classified']"
   ]
  },
  {
   "cell_type": "code",
   "execution_count": 23,
   "metadata": {},
   "outputs": [
    {
     "data": {
      "text/plain": [
       "<matplotlib.axes._subplots.AxesSubplot at 0x1411ac550>"
      ]
     },
     "execution_count": 23,
     "metadata": {},
     "output_type": "execute_result"
    },
    {
     "data": {
      "image/png": "[encoded data removed]",
      "text/plain": [
       "<Figure size 432x288 with 1 Axes>"
      ]
     },
     "metadata": {
      "needs_background": "light"
     },
     "output_type": "display_data"
    }
   ],
   "source": [
    "df_topic_semantic_b['Dominant_Topic'].value_counts().plot(kind=\"bar\")"
   ]
  },
  {
   "cell_type": "code",
   "execution_count": 24,
   "metadata": {},
   "outputs": [
    {
     "data": {
      "text/plain": [
       "<matplotlib.axes._subplots.AxesSubplot at 0x141c0efd0>"
      ]
     },
     "execution_count": 24,
     "metadata": {},
     "output_type": "execute_result"
    },
    {
     "data": {
      "image/png": "[encoded data removed]",
      "text/plain": [
       "<Figure size 432x288 with 1 Axes>"
      ]
     },
     "metadata": {
      "needs_background": "light"
     },
     "output_type": "display_data"
    }
   ],
   "source": [
    "df_topic_disc_reth['Dominant_Topic'].value_counts().plot(kind=\"bar\")"
   ]
  },
  {
   "cell_type": "code",
   "execution_count": 25,
   "metadata": {},
   "outputs": [
    {
     "data": {
      "text/plain": [
       "<matplotlib.axes._subplots.AxesSubplot at 0x1485f0610>"
      ]
     },
     "execution_count": 25,
     "metadata": {},
     "output_type": "execute_result"
    },
    {
     "data": {
      "image/png": "[encoded data removed]",
      "text/plain": [
       "<Figure size 432x288 with 1 Axes>"
      ]
     },
     "metadata": {
      "needs_background": "light"
     },
     "output_type": "display_data"
    }
   ],
   "source": [
    "df_topic_nn['Dominant_Topic'].value_counts().plot(kind=\"bar\")"
   ]
  },
  {
   "cell_type": "code",
   "execution_count": 26,
   "metadata": {},
   "outputs": [
    {
     "data": {
      "text/plain": [
       "<matplotlib.axes._subplots.AxesSubplot at 0x148a2f250>"
      ]
     },
     "execution_count": 26,
     "metadata": {},
     "output_type": "execute_result"
    },
    {
     "data": {
      "image/png": "[encoded data removed]",
      "text/plain": [
       "<Figure size 432x288 with 1 Axes>"
      ]
     },
     "metadata": {
      "needs_background": "light"
     },
     "output_type": "display_data"
    }
   ],
   "source": [
    "df_topic_structured_b['Dominant_Topic'].value_counts().plot(kind=\"bar\")"
   ]
  },
  {
   "cell_type": "code",
   "execution_count": 27,
   "metadata": {},
   "outputs": [
    {
     "data": {
      "text/plain": [
       "<matplotlib.axes._subplots.AxesSubplot at 0x14873ee90>"
      ]
     },
     "execution_count": 27,
     "metadata": {},
     "output_type": "execute_result"
    },
    {
     "data": {
      "image/png": "[encoded data removed]",
      "text/plain": [
       "<Figure size 432x288 with 1 Axes>"
      ]
     },
     "metadata": {
      "needs_background": "light"
     },
     "output_type": "display_data"
    }
   ],
   "source": [
    "df_topic_not_classified['Dominant_Topic'].value_counts().plot(kind=\"bar\")"
   ]
  },
  {
   "cell_type": "markdown",
   "metadata": {},
   "source": [
    "### Visualize the topics"
   ]
  },
  {
   "cell_type": "code",
   "execution_count": 28,
   "metadata": {},
   "outputs": [
    {
     "data": {
      "text/html": [
       "\n",
       "<link rel=\"stylesheet\" type=\"text/css\" href=\"https://cdn.rawgit.com/bmabey/pyLDAvis/files/ldavis.v1.0.0.css\">\n",
       "\n",
       "\n",
       "<div id=\"ldavis_el295355106181921966630116\"></div>\n",
       "<script type=\"text/javascript\">\n",
       "\n",
       "var ldavis_el295355106181921966630116_data = {\"mdsDat\": {\"x\": [0.029579450649472892, 0.04312368615855994, 0.07001727182574535, 0.06711029827467456, -0.2098307069084526], \"y\": [0.07971074433134734, -0.046369858044231445, 0.05552048920129283, -0.08265803479489792, -0.0062033406935107305], \"topics\": [1, 2, 3, 4, 5], \"cluster\": [1, 1, 1, 1, 1], \"Freq\": [35.34148025512695, 32.48584747314453, 15.123414993286133, 11.563122749328613, 5.486132621765137]}, \"tinfo\": {\"Term\": [\"sentence\", \"ontology\", \"summary\", \"summarization\", \"document\", \"phrase\", \"tree\", \"datum\", \"web\", \"concept\", \"use\", \"user\", \"semantic\", \"abstractive\", \"query\", \"entity\", \"link\", \"graph\", \"information\", \"term\", \"approach\", \"base\", \"meeting\", \"dbpedia\", \"template\", \"system\", \"extraction\", \"source\", \"create\", \"extract\", \"caption\", \"personality\", \"movie\", \"joke\", \"stylistic\", \"decoder\", \"pointer\", \"lstm\", \"stack\", \"affective\", \"gigaword\", \"optimisation\", \"artefact\", \"czech\", \"image_captione\", \"rush\", \"pronunciation\", \"referential\", \"lexicalisation\", \"narrative\", \"poem\", \"creativity\", \"thread\", \"phoneme\", \"encoder\", \"tactical\", \"poetry\", \"eos\", \"funny\", \"trait\", \"planner\", \"creative\", \"patient\", \"realisation\", \"attention\", \"convolutional\", \"judgement\", \"nlg\", \"decode\", \"embedding\", \"model\", \"training\", \"predict\", \"target\", \"image\", \"copy\", \"style\", \"rnn\", \"variation\", \"dialogue\", \"train\", \"sequence\", \"learn\", \"see\", \"question\", \"report\", \"compression\", \"output\", \"speech\", \"language\", \"task\", \"constraint\", \"word\", \"datum\", \"use\", \"generation\", \"example\", \"system\", \"also\", \"text\", \"work\", \"input\", \"feature\", \"base\", \"dataset\", \"set\", \"result\", \"evaluation\", \"source\", \"approach\", \"sentence\", \"generate\", \"different\", \"show\", \"table\", \"give\", \"opinosis\", \"trim\", \"\\u03c3gap\", \"collapsible\", \"trimmer\", \"summery\", \"rnnlm\", \"init\", \"connector\", \"mdt\", \"prog\", \"wine\", \"ijircce_doi\", \"ijircce\", \"november_copyright\", \"right_reserved\", \"ijrest\", \"tedious\", \"ontologie\", \"texminer\", \"very_low_low\", \"dimp\", \"role_labelling\", \"heuristic_rule\", \"pid\", \"sid\", \"fsgm\", \"non_supported_supported\", \"competitor\", \"cg\", \"citation\", \"collapse\", \"hit\", \"lsa\", \"popularity\", \"document\", \"graph\", \"synset\", \"duplicate\", \"summarization\", \"relevance\", \"frame\", \"candidate\", \"rouge\", \"path\", \"redundancy\", \"summary\", \"abstractive\", \"semantic\", \"rich\", \"redundant\", \"sentence\", \"technique\", \"ontological\", \"cluster\", \"method\", \"duc\", \"similarity\", \"rank\", \"extractive\", \"reduce\", \"base\", \"concept\", \"text\", \"score\", \"use\", \"information\", \"generate\", \"word\", \"approach\", \"propose\", \"system\", \"important\", \"set\", \"result\", \"ontology\", \"model\", \"also\", \"camera\", \"aht\", \"photo_quality\", \"lattice\", \"wound\", \"bulldozer\", \"verbalization\", \"palestinian\", \"simfinder\", \"injure\", \"suicide\", \"suboptimal\", \"newsblaster\", \"quantifier\", \"microplanne\", \"informativity\", \"dirt\", \"shopper\", \"alternative_verbalization\", \"compre\", \"bomber\", \"multigen\", \"dole\", \"pression\", \"polarity_strength\", \"product_per\", \"edu\", \"hormone\", \"foreach\", \"militant\", \"graphic\", \"nuclearity\", \"samplerank\", \"proposition\", \"rater\", \"linearization\", \"paraphrase\", \"subtree\", \"subgraph\", \"polarity\", \"tree\", \"depth\", \"evaluative\", \"preference\", \"fusion\", \"aspect\", \"sea\", \"controversial\", \"child\", \"opinion\", \"user\", \"alignment\", \"picture\", \"theme\", \"participant\", \"review\", \"tailor\", \"response\", \"discourse\", \"mead\", \"product\", \"sentence\", \"node\", \"feature\", \"edge\", \"relation\", \"study\", \"information\", \"dependency\", \"system\", \"figure\", \"first\", \"select\", \"evaluation\", \"structure\", \"summary\", \"compression\", \"use\", \"input\", \"set\", \"score\", \"generate\", \"show\", \"summarization\", \"text\", \"word\", \"result\", \"base\", \"also\", \"compendiume\", \"concreteness\", \"lesion\", \"twcenmt\", \"chip\", \"malaysia_airline\", \"agaramond\", \"compendium\", \"combinability\", \"helvetica_condense\", \"mathematica\", \"minion\", \"bsu\", \"dominant_speaker\", \"hypernym_labele\", \"stonesan\", \"cgtime\", \"univer\", \"partial_tree\", \"plate\", \"conversational\", \"topic_segment\", \"roman\", \"lcseg\", \"hypernyms\", \"eurb\", \"boldcondense\", \"vagrounde\", \"cmmib_cmmib\", \"lettergothic\", \"franklingothic\", \"meeting\", \"pas\", \"mono\", \"bold\", \"bolditalic\", \"italic\", \"regular\", \"human_authored\", \"arialnarrow\", \"trigger\", \"entailment\", \"revision\", \"pyramid\", \"template\", \"false\", \"chunk\", \"community\", \"true\", \"phrase\", \"remote\", \"create\", \"summary\", \"meet\", \"segment\", \"body\", \"sentence\", \"blank\", \"summarization\", \"abstractive\", \"system\", \"approach\", \"generate\", \"semantic\", \"extract\", \"information\", \"extractive\", \"base\", \"use\", \"score\", \"word\", \"text\", \"contain\", \"document\", \"evaluation\", \"generation\", \"structure\", \"result\", \"graph\", \"select\", \"method\", \"dbpedia\", \"infobox\", \"interlink\", \"redirect\", \"vio\", \"generalizable\", \"interlinking\", \"umbel\", \"science_services\", \"sunitha\", \"edition\", \"ink\", \"datatype\", \"meat\", \"hydrogen\", \"band\", \"tinh\", \"dump\", \"pagelink\", \"infoboxe\", \"opencyc\", \"indegree\", \"dl_conjunctive\", \"artist\", \"chinatime\", \"sue_ate\", \"wikipedia\", \"client\", \"ikipedia\", \"biscuit\", \"rdf\", \"identifier\", \"generalization_version\", \"fia\", \"web\", \"ontology\", \"milk\", \"vietnamese\", \"chinese\", \"query\", \"fuzzy\", \"link\", \"publisher\", \"axiom\", \"key\", \"retrieve\", \"page\", \"entity\", \"class\", \"category\", \"news\", \"agent\", \"property\", \"concept\", \"fig\", \"extraction\", \"element\", \"data\", \"datum\", \"term\", \"phrase\", \"layer\", \"event\", \"use\", \"article\", \"source\", \"step\", \"base\", \"information\", \"follow\", \"knowledge\", \"approach\", \"domain\", \"different\", \"user\", \"semantic\", \"extract\"], \"Freq\": [8822.0, 1177.0, 5319.0, 3769.0, 3233.0, 1455.0, 1126.0, 1368.0, 474.0, 839.0, 5893.0, 1212.0, 1961.0, 1671.0, 425.0, 663.0, 492.0, 1929.0, 2705.0, 943.0, 2633.0, 3837.0, 359.0, 234.0, 644.0, 3655.0, 623.0, 1135.0, 889.0, 1104.0, 135.53868103027344, 104.36101531982422, 87.8572006225586, 80.29066467285156, 73.9872817993164, 278.8636779785156, 63.666839599609375, 126.74169921875, 54.864463806152344, 47.948402404785156, 49.867156982421875, 46.91697311401367, 44.164817810058594, 44.237247467041016, 43.68274688720703, 46.996490478515625, 41.00564956665039, 40.531856536865234, 39.10673904418945, 98.04781341552734, 34.45800018310547, 32.64472198486328, 35.24018859863281, 30.749237060546875, 262.50030517578125, 29.954660415649414, 29.961938858032227, 34.7923583984375, 27.66570472717285, 27.5983829498291, 46.48812484741211, 61.771209716796875, 83.73029327392578, 146.68226623535156, 475.8961486816406, 58.434268951416016, 127.35865020751953, 306.4442138671875, 152.20314025878906, 202.812255859375, 2708.869140625, 557.3489990234375, 177.35862731933594, 287.81573486328125, 244.91184997558594, 119.35086059570312, 153.4459991455078, 70.426513671875, 172.43698120117188, 87.62876892089844, 402.3843078613281, 437.8150329589844, 407.2249755859375, 503.7517395019531, 466.47027587890625, 302.84259033203125, 705.4150390625, 551.1065063476562, 307.9557189941406, 681.68798828125, 730.4598388671875, 345.12274169921875, 1665.87548828125, 741.5950927734375, 2203.791748046875, 806.3832397460938, 700.1238403320312, 1399.904541015625, 852.7627563476562, 1413.3197021484375, 751.65478515625, 672.29150390625, 802.6140747070312, 1129.048828125, 422.9161376953125, 679.8988037109375, 639.2286987304688, 607.3557739257812, 508.052001953125, 714.5332641601562, 1136.8409423828125, 727.8324584960938, 530.2053833007812, 549.8890991210938, 507.029052734375, 496.2713928222656, 251.17576599121094, 76.22201538085938, 70.4711685180664, 39.59859085083008, 39.02252197265625, 38.964962005615234, 34.68522262573242, 31.1652774810791, 26.8433837890625, 26.5210018157959, 26.578447341918945, 26.444704055786133, 24.421056747436523, 24.42104721069336, 24.41890525817871, 24.418848037719727, 24.41864585876465, 22.56734275817871, 22.66643524169922, 21.991626739501953, 21.407670974731445, 20.521535873413086, 20.37055778503418, 18.8695068359375, 18.669795989990234, 18.669795989990234, 18.547996520996094, 18.537235260009766, 17.719491958618164, 17.140933990478516, 48.810516357421875, 72.57709503173828, 30.7996768951416, 30.52180290222168, 38.1246452331543, 2572.657470703125, 1514.753662109375, 103.93926239013672, 45.95101547241211, 2611.23876953125, 166.72463989257812, 188.97488403320312, 407.8529968261719, 379.7683410644531, 549.073974609375, 272.92974853515625, 3149.21484375, 1092.648681640625, 1256.4415283203125, 247.7426300048828, 148.09043884277344, 4629.166015625, 675.8008422851562, 44.13306427001953, 495.1982421875, 1124.3792724609375, 264.8979797363281, 583.791015625, 550.9187622070312, 526.7947998046875, 270.6435546875, 1806.30419921875, 500.037841796875, 1839.9339599609375, 1067.7103271484375, 2354.63720703125, 1248.3612060546875, 1328.1536865234375, 1486.4180908203125, 1062.7752685546875, 580.6513671875, 1040.491943359375, 440.8542175292969, 662.1337280273438, 606.119384765625, 491.2991943359375, 688.5538940429688, 505.74530029296875, 107.74427032470703, 26.473854064941406, 24.393739700317383, 108.5395736694336, 22.53645133972168, 22.19097137451172, 22.190940856933594, 20.219188690185547, 19.989042282104492, 17.45489501953125, 15.810066223144531, 18.68421173095703, 15.584108352661133, 15.57252311706543, 15.571732521057129, 16.60161590576172, 13.609594345092773, 13.38221549987793, 13.381926536560059, 17.806732177734375, 11.929106712341309, 11.17981243133545, 11.17967700958252, 17.66733169555664, 18.81736183166504, 10.595732688903809, 9.248016357421875, 8.977457046508789, 8.9773588180542, 8.977343559265137, 93.45637512207031, 30.735740661621094, 27.90259552001953, 78.72427368164062, 80.71280670166016, 80.7076416015625, 315.043701171875, 100.47119903564453, 67.3875961303711, 95.54287719726562, 766.9199829101562, 57.59628677368164, 125.56270599365234, 128.1649627685547, 297.3500671386719, 385.0542907714844, 92.14710235595703, 65.87864685058594, 138.6208038330078, 250.0338134765625, 627.3421020507812, 235.17271423339844, 79.49527740478516, 176.9031982421875, 133.96917724609375, 245.598876953125, 77.04497528076172, 72.91651916503906, 209.767578125, 57.650875091552734, 114.01483917236328, 1887.33740234375, 404.3251647949219, 516.4736938476562, 203.31747436523438, 257.9745178222656, 238.92739868164062, 487.99407958984375, 190.97039794921875, 540.8714599609375, 260.23828125, 301.4531555175781, 274.80267333984375, 327.633056640625, 287.4651794433594, 552.4346313476562, 276.81878662109375, 505.2087707519531, 290.7584228515625, 329.7003173828125, 329.8495178222656, 358.9699401855469, 282.49468994140625, 327.252197265625, 326.1395568847656, 303.3573303222656, 270.1981201171875, 281.8341369628906, 262.8930358886719, 74.19335174560547, 27.64991569519043, 27.20143699645996, 26.48326301574707, 24.420024871826172, 23.24101448059082, 19.89832305908203, 45.405364990234375, 18.65424156188965, 16.60568618774414, 16.605390548706055, 16.60529899597168, 27.437538146972656, 15.181062698364258, 13.755910873413086, 13.313228607177734, 13.313127517700195, 13.313066482543945, 12.956174850463867, 11.542875289916992, 11.711226463317871, 10.46312427520752, 10.461000442504883, 10.020977973937988, 25.457242965698242, 10.020732879638672, 10.020743370056152, 10.020691871643066, 10.020597457885742, 10.020468711853027, 16.602758407592773, 320.0395202636719, 88.55059051513672, 17.335325241088867, 190.36077880859375, 26.335500717163086, 58.41499328613281, 145.50494384765625, 25.488414764404297, 24.721542358398438, 46.00166702270508, 66.00686645507812, 94.4700698852539, 88.74555969238281, 363.0770568847656, 139.23928833007812, 112.1017837524414, 109.1368179321289, 138.87603759765625, 531.8765258789062, 34.480594635009766, 350.195068359375, 1174.8330078125, 65.3090591430664, 109.68971252441406, 78.51332092285156, 1168.0196533203125, 46.39998245239258, 647.8308715820312, 379.3170166015625, 607.0125732421875, 491.7724304199219, 493.2625427246094, 346.05572509765625, 241.62387084960938, 385.46380615234375, 200.6014862060547, 426.7259521484375, 522.8245239257812, 317.15972900390625, 421.4114074707031, 427.537109375, 211.52703857421875, 325.35443115234375, 221.38632202148438, 215.45652770996094, 198.8985137939453, 221.61692810058594, 223.89537048339844, 185.29049682617188, 202.3345947265625, 233.65628051757812, 75.48255157470703, 30.074970245361328, 26.519437789916992, 20.816696166992188, 25.193065643310547, 17.561504364013672, 15.627204895019531, 15.627021789550781, 14.91321086883545, 15.370516777038574, 13.692861557006836, 13.691170692443848, 14.305238723754883, 12.957791328430176, 12.208085060119629, 11.959626197814941, 11.758447647094727, 11.75832748413086, 11.758320808410645, 11.758273124694824, 11.75822639465332, 15.166998863220215, 11.747061729431152, 11.889769554138184, 11.975613594055176, 10.378620147705078, 10.265775680541992, 9.824077606201172, 10.604105949401855, 118.57006072998047, 55.423622131347656, 22.60287857055664, 17.172277450561523, 303.9596252441406, 645.757568359375, 23.270870208740234, 52.161781311035156, 115.8952407836914, 224.7998504638672, 78.05252075195312, 233.53237915039062, 15.480735778808594, 25.69468116760254, 130.5126495361328, 81.7839584350586, 134.71597290039062, 204.8658447265625, 105.3013916015625, 136.9219970703125, 115.11474609375, 71.1734390258789, 106.67292022705078, 192.7035369873047, 99.89163970947266, 147.9066925048828, 91.43556213378906, 85.70330810546875, 213.08154296875, 172.75698852539062, 203.89234924316406, 80.528076171875, 102.16419219970703, 307.32672119140625, 117.46456146240234, 138.56492614746094, 121.05467224121094, 193.77281188964844, 155.2068328857422, 124.6988525390625, 100.49407196044922, 131.539306640625, 110.9780044555664, 113.70716857910156, 111.9115982055664, 111.56564331054688, 109.9957504272461], \"Total\": [8822.0, 1177.0, 5319.0, 3769.0, 3233.0, 1455.0, 1126.0, 1368.0, 474.0, 839.0, 5893.0, 1212.0, 1961.0, 1671.0, 425.0, 663.0, 492.0, 1929.0, 2705.0, 943.0, 2633.0, 3837.0, 359.0, 234.0, 644.0, 3655.0, 623.0, 1135.0, 889.0, 1104.0, 136.44778442382812, 105.10265350341797, 88.54984283447266, 80.97218322753906, 74.66837310791016, 281.77880859375, 64.3946762084961, 128.2427520751953, 55.56317138671875, 48.628929138183594, 50.583900451660156, 47.598350524902344, 44.84479904174805, 44.92022705078125, 44.36103439331055, 47.7374382019043, 41.68704605102539, 41.21337127685547, 39.78461837768555, 99.95113372802734, 35.138038635253906, 33.32238006591797, 35.976749420166016, 31.428997039794922, 268.3843688964844, 30.63174057006836, 30.640907287597656, 35.63961410522461, 28.342409133911133, 28.275684356689453, 47.73496627807617, 63.63153076171875, 86.8504638671875, 154.97860717773438, 526.1505737304688, 60.638458251953125, 135.5863800048828, 339.8714904785156, 164.05874633789062, 224.17562866210938, 3810.8486328125, 700.9772338867188, 205.19581604003906, 351.55572509765625, 302.92138671875, 135.732666015625, 180.27249145507812, 75.37395477294922, 208.91737365722656, 96.63526916503906, 564.8551025390625, 626.2515258789062, 578.5345458984375, 752.2293701171875, 691.5036010742188, 416.8058776855469, 1187.029296875, 882.7398681640625, 434.0132141113281, 1195.2215576171875, 1311.5955810546875, 505.15155029296875, 3897.887939453125, 1368.6185302734375, 5893.7890625, 1564.5120849609375, 1370.6702880859375, 3655.06103515625, 1845.7509765625, 4055.191162109375, 1638.26416015625, 1402.86279296875, 1904.9166259765625, 3837.685791015625, 765.4169921875, 1955.412109375, 1821.0057373046875, 1642.135986328125, 1135.4344482421875, 2633.235595703125, 8822.7177734375, 2929.52197265625, 1334.570556640625, 1508.4017333984375, 1177.0545654296875, 1250.236328125, 253.43809509277344, 76.946044921875, 71.19551849365234, 40.32181167602539, 39.74382781982422, 39.68889617919922, 35.4090461730957, 31.956771850585938, 27.565711975097656, 27.24372100830078, 27.306737899780273, 27.223247528076172, 25.141963958740234, 25.141969680786133, 25.141746520996094, 25.141708374023438, 25.1417293548584, 23.29048728942871, 23.407699584960938, 22.716312408447266, 22.138402938842773, 21.242509841918945, 21.10976219177246, 19.59105682373047, 19.391664505004883, 19.391664505004883, 19.270885467529297, 19.26743507385254, 18.441621780395508, 17.863908767700195, 51.04165267944336, 76.37332916259766, 32.14865493774414, 31.96613121032715, 40.41015625, 3233.363525390625, 1929.4866943359375, 117.2265853881836, 49.90534210205078, 3769.9267578125, 197.30294799804688, 228.2202911376953, 527.1166381835938, 492.6614074707031, 743.565673828125, 347.22320556640625, 5319.39453125, 1671.9429931640625, 1961.686767578125, 325.81329345703125, 184.1885986328125, 8822.7177734375, 1069.937744140625, 48.30180358886719, 753.641357421875, 1936.5430908203125, 382.7534484863281, 965.53564453125, 905.5584106445312, 860.4303588867188, 394.907470703125, 3837.685791015625, 839.033935546875, 4055.191162109375, 2173.07666015625, 5893.7890625, 2705.929931640625, 2929.52197265625, 3897.887939453125, 2633.235595703125, 1147.843505859375, 3655.06103515625, 919.54736328125, 1955.412109375, 1821.0057373046875, 1177.474609375, 3810.8486328125, 1845.7509765625, 108.78474426269531, 27.21662139892578, 25.132976531982422, 111.9405288696289, 23.276790618896484, 22.930511474609375, 22.930522918701172, 20.9591007232666, 20.728174209594727, 18.218297958374023, 16.552921295166016, 19.563400268554688, 16.323352813720703, 16.319936752319336, 16.321752548217773, 17.48883819580078, 14.34933090209961, 14.12103271484375, 14.120964050292969, 18.82169532775879, 12.668670654296875, 11.918582916259766, 11.91858196258545, 18.872465133666992, 20.121158599853516, 11.338210105895996, 9.998085021972656, 9.716158866882324, 9.716145515441895, 9.716137886047363, 102.30999755859375, 33.345603942871094, 30.28799819946289, 86.65727996826172, 89.25957489013672, 90.00484466552734, 369.1189270019531, 119.54141235351562, 78.4029541015625, 116.176513671875, 1126.4315185546875, 68.08383178710938, 159.7512969970703, 167.02191162109375, 442.00830078125, 595.6432495117188, 121.59337615966797, 83.26628112792969, 202.12545776367188, 407.27642822265625, 1212.5716552734375, 387.2152099609375, 107.594482421875, 286.4617919921875, 207.932861328125, 450.20050048828125, 106.45857238769531, 99.95934295654297, 382.5639953613281, 74.58450317382812, 183.90432739257812, 8822.7177734375, 1076.2664794921875, 1904.9166259765625, 467.8628845214844, 734.232421875, 669.5219116210938, 2705.929931640625, 477.6969909667969, 3655.06103515625, 889.3241577148438, 1219.833740234375, 1064.4310302734375, 1642.135986328125, 1229.9990234375, 5319.39453125, 1187.029296875, 5893.7890625, 1402.86279296875, 1955.412109375, 2173.07666015625, 2929.52197265625, 1508.4017333984375, 3769.9267578125, 4055.191162109375, 3897.887939453125, 1821.0057373046875, 3837.685791015625, 1845.7509765625, 75.0251235961914, 28.42583656311035, 27.9851131439209, 27.25177764892578, 25.187294006347656, 24.007354736328125, 20.665830612182617, 47.18083572387695, 19.43075180053711, 17.37303352355957, 17.373071670532227, 17.37314796447754, 28.74649429321289, 15.947433471679688, 14.522218704223633, 14.080002784729004, 14.080060958862305, 14.080046653747559, 13.729549407958984, 12.30830192565918, 12.558255195617676, 11.229411125183105, 11.228414535522461, 10.786849021911621, 27.403398513793945, 10.786985397338867, 10.787020683288574, 10.787046432495117, 10.787055969238281, 10.787116050720215, 17.939741134643555, 359.99212646484375, 98.3655776977539, 18.86324119567871, 217.55397033691406, 29.008590698242188, 66.01566314697266, 177.6827850341797, 28.52717399597168, 27.639087677001953, 54.44746780395508, 82.36572265625, 131.85643005371094, 123.22795867919922, 644.11474609375, 211.38418579101562, 167.28134155273438, 178.99642944335938, 247.5395050048828, 1455.107177734375, 43.90949630737305, 889.2385864257812, 5319.39453125, 104.44611358642578, 217.99041748046875, 145.57460021972656, 8822.7177734375, 67.69623565673828, 3769.9267578125, 1671.9429931640625, 3655.06103515625, 2633.235595703125, 2929.52197265625, 1961.686767578125, 1104.4913330078125, 2705.929931640625, 860.4303588867188, 3837.685791015625, 5893.7890625, 2173.07666015625, 3897.887939453125, 4055.191162109375, 998.1353149414062, 3233.363525390625, 1642.135986328125, 1564.5120849609375, 1229.9990234375, 1821.0057373046875, 1929.4866943359375, 1064.4310302734375, 1936.5430908203125, 234.5743408203125, 76.25897216796875, 30.841808319091797, 27.28309440612793, 21.578327178955078, 26.1429386138916, 18.32312774658203, 16.38852882385254, 16.388553619384766, 15.673604011535645, 16.176158905029297, 14.453930854797363, 14.453670501708984, 15.121017456054688, 13.731003761291504, 12.972317695617676, 12.720575332641602, 12.519347190856934, 12.519362449645996, 12.519360542297363, 12.519364356994629, 12.519372940063477, 16.157787322998047, 12.519451141357422, 12.718274116516113, 12.840007781982422, 11.143046379089355, 11.03392219543457, 10.584744453430176, 11.464790344238281, 132.0391387939453, 63.5082893371582, 25.06622314453125, 19.297138214111328, 474.4855041503906, 1177.474609375, 27.188268661499023, 69.34961700439453, 186.10653686523438, 425.55908203125, 122.24626922607422, 492.1601867675781, 17.696279525756836, 35.18452453613281, 321.41961669921875, 169.4793701171875, 363.33599853515625, 663.643310546875, 257.1544494628906, 408.96685791015625, 323.305419921875, 163.36094665527344, 302.0972595214844, 839.033935546875, 309.927734375, 623.64111328125, 295.9403991699219, 267.4417724609375, 1368.6185302734375, 943.5638427734375, 1455.107177734375, 247.6022491455078, 435.03009033203125, 5893.7890625, 611.538818359375, 1135.4344482421875, 775.2434692382812, 3837.685791015625, 2705.929931640625, 1124.39794921875, 483.93731689453125, 2633.235595703125, 914.9127197265625, 1334.570556640625, 1212.5716552734375, 1961.686767578125, 1104.4913330078125], \"Category\": [\"Default\", \"Default\", \"Default\", \"Default\", \"Default\", \"Default\", \"Default\", \"Default\", \"Default\", \"Default\", \"Default\", \"Default\", \"Default\", \"Default\", \"Default\", \"Default\", \"Default\", \"Default\", \"Default\", \"Default\", \"Default\", \"Default\", \"Default\", \"Default\", \"Default\", \"Default\", \"Default\", \"Default\", \"Default\", \"Default\", \"Topic1\", \"Topic1\", \"Topic1\", \"Topic1\", \"Topic1\", \"Topic1\", \"Topic1\", \"Topic1\", \"Topic1\", \"Topic1\", \"Topic1\", \"Topic1\", \"Topic1\", \"Topic1\", \"Topic1\", \"Topic1\", \"Topic1\", \"Topic1\", \"Topic1\", \"Topic1\", \"Topic1\", \"Topic1\", \"Topic1\", \"Topic1\", \"Topic1\", \"Topic1\", \"Topic1\", \"Topic1\", \"Topic1\", \"Topic1\", \"Topic1\", \"Topic1\", \"Topic1\", \"Topic1\", \"Topic1\", \"Topic1\", \"Topic1\", \"Topic1\", \"Topic1\", \"Topic1\", \"Topic1\", \"Topic1\", \"Topic1\", \"Topic1\", \"Topic1\", \"Topic1\", \"Topic1\", \"Topic1\", \"Topic1\", \"Topic1\", \"Topic1\", \"Topic1\", \"Topic1\", \"Topic1\", \"Topic1\", \"Topic1\", \"Topic1\", \"Topic1\", \"Topic1\", \"Topic1\", \"Topic1\", \"Topic1\", \"Topic1\", \"Topic1\", \"Topic1\", \"Topic1\", \"Topic1\", \"Topic1\", \"Topic1\", \"Topic1\", \"Topic1\", \"Topic1\", \"Topic1\", \"Topic1\", \"Topic1\", \"Topic1\", \"Topic1\", \"Topic1\", \"Topic1\", \"Topic1\", \"Topic1\", \"Topic1\", \"Topic1\", \"Topic1\", \"Topic1\", \"Topic1\", \"Topic2\", \"Topic2\", \"Topic2\", \"Topic2\", \"Topic2\", \"Topic2\", \"Topic2\", \"Topic2\", \"Topic2\", \"Topic2\", \"Topic2\", \"Topic2\", \"Topic2\", \"Topic2\", \"Topic2\", \"Topic2\", \"Topic2\", \"Topic2\", \"Topic2\", \"Topic2\", \"Topic2\", \"Topic2\", \"Topic2\", \"Topic2\", \"Topic2\", \"Topic2\", \"Topic2\", \"Topic2\", \"Topic2\", \"Topic2\", \"Topic2\", \"Topic2\", \"Topic2\", \"Topic2\", \"Topic2\", \"Topic2\", \"Topic2\", \"Topic2\", \"Topic2\", \"Topic2\", \"Topic2\", \"Topic2\", \"Topic2\", \"Topic2\", \"Topic2\", \"Topic2\", \"Topic2\", \"Topic2\", \"Topic2\", \"Topic2\", \"Topic2\", \"Topic2\", \"Topic2\", \"Topic2\", \"Topic2\", \"Topic2\", \"Topic2\", \"Topic2\", \"Topic2\", \"Topic2\", \"Topic2\", \"Topic2\", \"Topic2\", \"Topic2\", \"Topic2\", \"Topic2\", \"Topic2\", \"Topic2\", \"Topic2\", \"Topic2\", \"Topic2\", \"Topic2\", \"Topic2\", \"Topic2\", \"Topic2\", \"Topic2\", \"Topic2\", \"Topic2\", \"Topic3\", \"Topic3\", \"Topic3\", \"Topic3\", \"Topic3\", \"Topic3\", \"Topic3\", \"Topic3\", \"Topic3\", \"Topic3\", \"Topic3\", \"Topic3\", \"Topic3\", \"Topic3\", \"Topic3\", \"Topic3\", \"Topic3\", \"Topic3\", \"Topic3\", \"Topic3\", \"Topic3\", \"Topic3\", \"Topic3\", \"Topic3\", \"Topic3\", \"Topic3\", \"Topic3\", \"Topic3\", \"Topic3\", \"Topic3\", \"Topic3\", \"Topic3\", \"Topic3\", \"Topic3\", \"Topic3\", \"Topic3\", \"Topic3\", \"Topic3\", \"Topic3\", \"Topic3\", \"Topic3\", \"Topic3\", \"Topic3\", \"Topic3\", \"Topic3\", \"Topic3\", \"Topic3\", \"Topic3\", \"Topic3\", \"Topic3\", \"Topic3\", \"Topic3\", \"Topic3\", \"Topic3\", \"Topic3\", \"Topic3\", \"Topic3\", \"Topic3\", \"Topic3\", \"Topic3\", \"Topic3\", \"Topic3\", \"Topic3\", \"Topic3\", \"Topic3\", \"Topic3\", \"Topic3\", \"Topic3\", \"Topic3\", \"Topic3\", \"Topic3\", \"Topic3\", \"Topic3\", \"Topic3\", \"Topic3\", \"Topic3\", \"Topic3\", \"Topic3\", \"Topic3\", \"Topic3\", \"Topic3\", \"Topic3\", \"Topic3\", \"Topic3\", \"Topic3\", \"Topic3\", \"Topic3\", \"Topic3\", \"Topic3\", \"Topic4\", \"Topic4\", \"Topic4\", \"Topic4\", \"Topic4\", \"Topic4\", \"Topic4\", \"Topic4\", \"Topic4\", \"Topic4\", \"Topic4\", \"Topic4\", \"Topic4\", \"Topic4\", \"Topic4\", \"Topic4\", \"Topic4\", \"Topic4\", \"Topic4\", \"Topic4\", \"Topic4\", \"Topic4\", \"Topic4\", \"Topic4\", \"Topic4\", \"Topic4\", \"Topic4\", \"Topic4\", \"Topic4\", \"Topic4\", \"Topic4\", \"Topic4\", \"Topic4\", \"Topic4\", \"Topic4\", \"Topic4\", \"Topic4\", \"Topic4\", \"Topic4\", \"Topic4\", \"Topic4\", \"Topic4\", \"Topic4\", \"Topic4\", \"Topic4\", \"Topic4\", \"Topic4\", \"Topic4\", \"Topic4\", \"Topic4\", \"Topic4\", \"Topic4\", \"Topic4\", \"Topic4\", \"Topic4\", \"Topic4\", \"Topic4\", \"Topic4\", \"Topic4\", \"Topic4\", \"Topic4\", \"Topic4\", \"Topic4\", \"Topic4\", \"Topic4\", \"Topic4\", \"Topic4\", \"Topic4\", \"Topic4\", \"Topic4\", \"Topic4\", \"Topic4\", \"Topic4\", \"Topic4\", \"Topic4\", \"Topic4\", \"Topic4\", \"Topic4\", \"Topic4\", \"Topic4\", \"Topic4\", \"Topic5\", \"Topic5\", \"Topic5\", \"Topic5\", \"Topic5\", \"Topic5\", \"Topic5\", \"Topic5\", \"Topic5\", \"Topic5\", \"Topic5\", \"Topic5\", \"Topic5\", \"Topic5\", \"Topic5\", \"Topic5\", \"Topic5\", \"Topic5\", \"Topic5\", \"Topic5\", \"Topic5\", \"Topic5\", \"Topic5\", \"Topic5\", \"Topic5\", \"Topic5\", \"Topic5\", \"Topic5\", \"Topic5\", \"Topic5\", \"Topic5\", \"Topic5\", \"Topic5\", \"Topic5\", \"Topic5\", \"Topic5\", \"Topic5\", \"Topic5\", \"Topic5\", \"Topic5\", \"Topic5\", \"Topic5\", \"Topic5\", \"Topic5\", \"Topic5\", \"Topic5\", \"Topic5\", \"Topic5\", \"Topic5\", \"Topic5\", \"Topic5\", \"Topic5\", \"Topic5\", \"Topic5\", \"Topic5\", \"Topic5\", \"Topic5\", \"Topic5\", \"Topic5\", \"Topic5\", \"Topic5\", \"Topic5\", \"Topic5\", \"Topic5\", \"Topic5\", \"Topic5\", \"Topic5\", \"Topic5\", \"Topic5\", \"Topic5\", \"Topic5\", \"Topic5\", \"Topic5\", \"Topic5\", \"Topic5\", \"Topic5\", \"Topic5\"], \"logprob\": [30.0, 29.0, 28.0, 27.0, 26.0, 25.0, 24.0, 23.0, 22.0, 21.0, 20.0, 19.0, 18.0, 17.0, 16.0, 15.0, 14.0, 13.0, 12.0, 11.0, 10.0, 9.0, 8.0, 7.0, 6.0, 5.0, 4.0, 3.0, 2.0, 1.0, -6.981299877166748, -7.242700099945068, -7.41480016708374, -7.504899978637695, -7.586599826812744, -6.259799957275391, -7.7368998527526855, -7.048399925231934, -7.885700225830078, -8.020400047302246, -7.981200218200684, -8.042099952697754, -8.10260009765625, -8.100899696350098, -8.11359977722168, -8.040399551391602, -8.176799774169922, -8.188400268554688, -8.224200248718262, -7.305099964141846, -8.350799560546875, -8.404800415039062, -8.328300476074219, -8.464699745178223, -6.320300102233887, -8.490799903869629, -8.490599632263184, -8.341099739074707, -8.570300102233887, -8.572799682617188, -8.051300048828125, -7.767099857330322, -7.462900161743164, -6.902200222015381, -5.725299835205078, -7.8225998878479, -7.043499946594238, -6.165500164031982, -6.865300178527832, -6.578199863433838, -3.9862000942230225, -5.567299842834473, -6.712299823760986, -6.2281999588012695, -6.389599800109863, -7.108399868011475, -6.8572001457214355, -7.635900020599365, -6.740499973297119, -7.417399883270264, -5.893099784851074, -5.808700084686279, -5.881199836730957, -5.668399810791016, -5.745299816131592, -6.177299976348877, -5.331699848175049, -5.57859992980957, -6.160600185394287, -5.365900039672852, -5.296800136566162, -6.046599864959717, -4.472400188446045, -5.281700134277344, -4.192599773406982, -5.197999954223633, -5.339300155639648, -4.646399974822998, -5.142000198364258, -4.6367998123168945, -5.268199920654297, -5.379799842834473, -5.202600002288818, -4.861400127410889, -5.843299865722656, -5.368599891662598, -5.430300235748291, -5.481400012969971, -5.659900188446045, -5.318900108337402, -4.854499816894531, -5.3003997802734375, -5.617300033569336, -5.5808000564575195, -5.661900043487549, -5.6834001541137695, -6.280099868774414, -7.472599983215332, -7.55109977722168, -8.1274995803833, -8.14210033416748, -8.143600463867188, -8.260000228881836, -8.366999626159668, -8.516200065612793, -8.528300285339355, -8.526200294494629, -8.531200408935547, -8.610799789428711, -8.610799789428711, -8.610899925231934, -8.610899925231934, -8.610899925231934, -8.689800262451172, -8.685400009155273, -8.71560001373291, -8.742500305175781, -8.784799575805664, -8.792200088500977, -8.86870002746582, -8.879400253295898, -8.879400253295898, -8.885899543762207, -8.886500358581543, -8.931599617004395, -8.964799880981445, -7.918300151824951, -7.521599769592285, -8.378800392150879, -8.387800216674805, -8.165399551391602, -3.9535999298095703, -4.48330020904541, -7.162499904632568, -7.978700160980225, -3.938699960708618, -6.689899921417236, -6.564599990844727, -5.795400142669678, -5.866700172424316, -5.498000144958496, -6.197000026702881, -3.7513999938964844, -4.809899806976318, -4.670199871063232, -6.293900012969971, -6.8084001541137695, -3.3661000728607178, -5.29040002822876, -8.019100189208984, -5.60129976272583, -4.781300067901611, -6.226900100708008, -5.436699867248535, -5.494699954986572, -5.5395002365112305, -6.20550012588501, -4.307199954986572, -5.591599941253662, -4.28879976272583, -4.833000183105469, -4.042099952697754, -4.676700115203857, -4.614699840545654, -4.502099990844727, -4.837600231170654, -5.4421000480651855, -4.858799934387207, -5.71750020980835, -5.310800075531006, -5.399199962615967, -5.6092000007629395, -5.271699905395508, -5.5802001953125, -6.3618998527526855, -7.765500068664551, -7.847400188446045, -6.354599952697754, -7.926599979400635, -7.941999912261963, -7.941999912261963, -8.035099983215332, -8.046500205993652, -8.182100296020508, -8.281100273132324, -8.11400032043457, -8.295499801635742, -8.296199798583984, -8.296199798583984, -8.232199668884277, -8.430899620056152, -8.447799682617188, -8.447799682617188, -8.162099838256836, -8.562700271606445, -8.627599716186523, -8.627599716186523, -8.170000076293945, -8.106900215148926, -8.681300163269043, -8.817299842834473, -8.847000122070312, -8.847000122070312, -8.847000122070312, -6.504199981689453, -7.616300106048584, -7.7129998207092285, -6.67579984664917, -6.6508002281188965, -6.650899887084961, -5.289000034332275, -6.43179988861084, -6.831200122833252, -6.482100009918213, -4.3993000984191895, -6.9882001876831055, -6.208899974822998, -6.188399791717529, -5.346799850463867, -5.0883002281188965, -6.5183000564575195, -6.853899955749512, -6.110000133514404, -5.520100116729736, -4.600200176239014, -5.581399917602539, -6.665999889373779, -5.866099834442139, -6.144100189208984, -5.538000106811523, -6.697299957275391, -6.752399921417236, -5.695700168609619, -6.987299919128418, -6.3053998947143555, -3.498800039291382, -5.0395002365112305, -4.7947001457214355, -5.726900100708008, -5.488800048828125, -5.565499782562256, -4.851399898529053, -5.789599895477295, -4.748499870300293, -5.480100154876709, -5.333099842071533, -5.425600051879883, -5.249800205230713, -5.3805999755859375, -4.727399826049805, -5.418300151824951, -4.816699981689453, -5.369200229644775, -5.243500232696533, -5.243100166320801, -5.1585001945495605, -5.3979997634887695, -5.250999927520752, -5.25439977645874, -5.3267998695373535, -5.442500114440918, -5.400400161743164, -5.46999979019165, -6.466599941253662, -7.453700065612793, -7.46999979019165, -7.496799945831299, -7.577899932861328, -7.627399921417236, -7.782599925994873, -6.957600116729736, -7.8471999168396, -7.963500022888184, -7.963600158691406, -7.963600158691406, -7.461400032043457, -8.053199768066406, -8.151800155639648, -8.184499740600586, -8.184499740600586, -8.184499740600586, -8.211700439453125, -8.327199935913086, -8.312700271606445, -8.425399780273438, -8.425600051879883, -8.468600273132324, -7.536300182342529, -8.468600273132324, -8.468600273132324, -8.468600273132324, -8.468600273132324, -8.468600273132324, -7.963699817657471, -5.004799842834473, -6.289700031280518, -7.920499801635742, -5.524400234222412, -7.502399921417236, -6.705699920654297, -5.793099880218506, -7.535099983215332, -7.5655999183654785, -6.9446001052856445, -6.583499908447266, -6.224999904632568, -6.287499904632568, -4.878699779510498, -5.837100028991699, -6.053899765014648, -6.080699920654297, -5.839700222015381, -4.4969000816345215, -7.232900142669678, -4.91480016708374, -3.704400062561035, -6.594099998474121, -6.0756001472473145, -6.409999847412109, -3.710200071334839, -6.935999870300293, -4.299600124359131, -4.83489990234375, -4.364699840545654, -4.575300216674805, -4.572199821472168, -4.926700115203857, -5.285900115966797, -4.81879997253418, -5.4720001220703125, -4.717100143432617, -4.513999938964844, -5.013899803161621, -4.729700088500977, -4.715199947357178, -5.418900012969971, -4.988399982452393, -5.3734002113342285, -5.4004998207092285, -5.480500221252441, -5.372300148010254, -5.362100124359131, -5.551400184631348, -5.463399887084961, -4.573800086975098, -5.703800201416016, -6.624000072479248, -6.749800205230713, -6.9918999671936035, -6.80109977722168, -7.1620001792907715, -7.27869987487793, -7.27869987487793, -7.325399875640869, -7.295199871063232, -7.410799980163574, -7.410900115966797, -7.367099761962891, -7.466000080108643, -7.525599956512451, -7.54610013961792, -7.5630998611450195, -7.5630998611450195, -7.5630998611450195, -7.5630998611450195, -7.5630998611450195, -7.308599948883057, -7.5640997886657715, -7.552000045776367, -7.5447998046875, -7.687900066375732, -7.69890022277832, -7.742800235748291, -7.666399955749512, -5.252200126647949, -6.012700080871582, -6.909599781036377, -7.1844000816345215, -4.310800075531006, -3.557300090789795, -6.880499839782715, -6.073299884796143, -5.275000095367432, -4.612500190734863, -5.670300006866455, -4.574399948120117, -7.288099765777588, -6.781400203704834, -5.156199932098389, -5.623600006103516, -5.124499797821045, -4.7052998542785645, -5.3709001541137695, -5.10830020904541, -5.281799793243408, -5.762599945068359, -5.357900142669678, -4.766499996185303, -5.423600196838379, -5.031099796295166, -5.51200008392334, -5.5767998695373535, -4.665999889373779, -4.875800132751465, -4.710100173950195, -5.639100074768066, -5.401100158691406, -4.299799919128418, -5.261499881744385, -5.09630012512207, -5.231400012969971, -4.761000156402588, -4.982900142669678, -5.2017998695373535, -5.417600154876709, -5.148399829864502, -5.318399906158447, -5.294099807739258, -5.309999942779541, -5.3130998611450195, -5.327199935913086], \"loglift\": [30.0, 29.0, 28.0, 27.0, 26.0, 25.0, 24.0, 23.0, 22.0, 21.0, 20.0, 19.0, 18.0, 17.0, 16.0, 15.0, 14.0, 13.0, 12.0, 11.0, 10.0, 9.0, 8.0, 7.0, 6.0, 5.0, 4.0, 3.0, 2.0, 1.0, 1.033400058746338, 1.0329999923706055, 1.0322999954223633, 1.0317000150680542, 1.030900001525879, 1.0297000408172607, 1.0286999940872192, 1.0283000469207764, 1.027500033378601, 1.0260000228881836, 1.0257999897003174, 1.0256999731063843, 1.0247999429702759, 1.0247999429702759, 1.0247000455856323, 1.0245000123977661, 1.0235999822616577, 1.0233999490737915, 1.0228999853134155, 1.020900011062622, 1.0205999612808228, 1.0196000337600708, 1.0194000005722046, 1.0182000398635864, 1.017899990081787, 1.017799973487854, 1.017699956893921, 1.0161000490188599, 1.0159000158309937, 1.0159000158309937, 1.0135999917984009, 1.0104000568389893, 1.003499984741211, 0.9850999712944031, 0.9397000074386597, 1.003100037574768, 0.9775000214576721, 0.9366000294685364, 0.9650999903678894, 0.9399999976158142, 0.6988000273704529, 0.8108000159263611, 0.8942999839782715, 0.8400999903678894, 0.8274999856948853, 0.9114999771118164, 0.8790000081062317, 0.9721999764442444, 0.8482000231742859, 0.942300021648407, 0.7009999752044678, 0.682200014591217, 0.6890000104904175, 0.63919997215271, 0.646399974822998, 0.7207000255584717, 0.5196999907493591, 0.5690000057220459, 0.6970000267028809, 0.47859999537467957, 0.454800009727478, 0.6592000126838684, 0.1899999976158142, 0.42739999294281006, 0.05640000104904175, 0.3772999942302704, 0.3682999908924103, 0.0803999975323677, 0.2680000066757202, -0.013899999670684338, 0.26100000739097595, 0.304500013589859, 0.17579999566078186, -0.1834000051021576, 0.44690001010894775, -0.016300000250339508, -0.006800000090152025, 0.045499999076128006, 0.23589999973773956, -0.26420000195503235, -1.0089999437332153, -0.352400004863739, 0.11699999868869781, 0.03099999949336052, 0.19789999723434448, 0.1160999983549118, 1.115399956703186, 1.11489999294281, 1.1140999794006348, 1.1062999963760376, 1.1060999631881714, 1.1059999465942383, 1.103700041770935, 1.0993000268936157, 1.0978000164031982, 1.097499966621399, 1.0973000526428223, 1.0953999757766724, 1.0952999591827393, 1.0952999591827393, 1.0951999425888062, 1.0951999425888062, 1.0951999425888062, 1.0928000211715698, 1.0922000408172607, 1.0918999910354614, 1.0908000469207764, 1.0898000001907349, 1.0887000560760498, 1.0867999792099, 1.086400032043457, 1.086400032043457, 1.0860999822616577, 1.0857000350952148, 1.0844000577926636, 1.0830999612808228, 1.079699993133545, 1.0734000205993652, 1.0815000534057617, 1.0780999660491943, 1.066100001335144, 0.895799994468689, 0.8823999762535095, 1.00409996509552, 1.0418000221252441, 0.757099986076355, 0.9559999704360962, 0.935699999332428, 0.867900013923645, 0.8640999794006348, 0.8210999965667725, 0.8835999965667725, 0.6001999974250793, 0.6990000009536743, 0.6787999868392944, 0.8503999710083008, 0.9061999917030334, 0.47940000891685486, 0.664900004863739, 1.03410005569458, 0.7044000029563904, 0.5806999802589417, 0.7562999725341797, 0.6212000250816345, 0.6273999810218811, 0.6337000131607056, 0.7465000152587891, 0.3707999885082245, 0.6068000197410583, 0.33410000801086426, 0.41370001435279846, 0.2069000005722046, 0.3508000075817108, 0.33329999446868896, 0.16030000150203705, 0.21699999272823334, 0.44290000200271606, -0.13210000097751617, 0.38920000195503235, 0.04149999842047691, 0.024299999698996544, 0.25029999017715454, -0.5866000056266785, -0.17020000517368317, 1.8792999982833862, 1.861299991607666, 1.8590999841690063, 1.8581000566482544, 1.856600046157837, 1.8560999631881714, 1.8560999631881714, 1.8530000448226929, 1.8525999784469604, 1.8460999727249146, 1.843000054359436, 1.842900037765503, 1.8425999879837036, 1.8420000076293945, 1.8418999910354614, 1.836899995803833, 1.8359999656677246, 1.8351999521255493, 1.8351999521255493, 1.8335000276565552, 1.8287999629974365, 1.8249000310897827, 1.8249000310897827, 1.8229000568389893, 1.8219000101089478, 1.8212000131607056, 1.8108999729156494, 1.8099000453948975, 1.8098000288009644, 1.8098000288009644, 1.7984000444412231, 1.8073999881744385, 1.8069000244140625, 1.7928999662399292, 1.7883000373840332, 1.7798999547958374, 1.7304999828338623, 1.7151000499725342, 1.7374999523162842, 1.6934000253677368, 1.5045000314712524, 1.72160005569458, 1.6481000185012817, 1.6240999698638916, 1.4924999475479126, 1.4527000188827515, 1.6116000413894653, 1.6547000408172607, 1.5118000507354736, 1.4010000228881836, 1.2299000024795532, 1.3903000354766846, 1.586300015449524, 1.4069000482559204, 1.4493000507354736, 1.2828999757766724, 1.565600037574768, 1.5735000371932983, 1.2879999876022339, 1.6313999891281128, 1.4107999801635742, 0.3467999994754791, 0.9099000096321106, 0.5838000178337097, 1.0555000305175781, 0.8429999947547913, 0.8585000038146973, 0.17599999904632568, 0.972100019454956, -0.021800000220537186, 0.660099983215332, 0.491100013256073, 0.5347999930381775, 0.27709999680519104, 0.43529999256134033, -0.375900000333786, 0.43309998512268066, -0.567799985408783, 0.3151000142097473, 0.1088000014424324, 0.003700000001117587, -0.21040000021457672, 0.21379999816417694, -0.5551999807357788, -0.6315000057220459, -0.6643999814987183, -0.019099999219179153, -0.7224000096321106, -0.05999999865889549, 2.146199941635132, 2.129699945449829, 2.1289000511169434, 2.128700017929077, 2.1263999938964844, 2.1249001026153564, 2.119499921798706, 2.11899995803833, 2.1166000366210938, 2.1122000217437744, 2.1122000217437744, 2.1120998859405518, 2.1106998920440674, 2.108099937438965, 2.103100061416626, 2.1013998985290527, 2.101300001144409, 2.101300001144409, 2.099400043487549, 2.093100070953369, 2.0875000953674316, 2.086699962615967, 2.0866000652313232, 2.083699941635132, 2.083699941635132, 2.083699941635132, 2.083699941635132, 2.083699941635132, 2.0836000442504883, 2.0836000442504883, 2.079900026321411, 2.0397000312805176, 2.0522000789642334, 2.0729000568389893, 2.0237998962402344, 2.060699939727783, 2.0350000858306885, 1.9575999975204468, 2.0446999073028564, 2.045799970626831, 1.988800048828125, 1.9358999729156494, 1.8238999843597412, 1.8291000127792358, 1.5841000080108643, 1.73989999294281, 1.757099986076355, 1.662600040435791, 1.5793999433517456, 1.1509000062942505, 1.9155999422073364, 1.2254999876022339, 0.6470999717712402, 1.6878000497817993, 1.4706000089645386, 1.5398999452590942, 0.13529999554157257, 1.7796000242233276, 0.3962000012397766, 0.6740000247955322, 0.3619999885559082, 0.47940000891685486, 0.3758000135421753, 0.42239999771118164, 0.6376000046730042, 0.2085999995470047, 0.701200008392334, -0.03909999877214432, -0.26510000228881836, 0.2328999936580658, -0.06719999760389328, -0.09239999949932098, 0.6057999730110168, -0.13899999856948853, 0.1535000056028366, 0.17479999363422394, 0.3353999853134155, 0.05119999870657921, 0.0035000001080334187, 0.4090999960899353, -0.10140000283718109, 2.8989999294281006, 2.892699956893921, 2.8777999877929688, 2.8745999336242676, 2.867000102996826, 2.8659000396728516, 2.8605000972747803, 2.8554000854492188, 2.8554000854492188, 2.8531999588012695, 2.851900100708008, 2.848900079727173, 2.8487000465393066, 2.8475000858306885, 2.8450000286102295, 2.8422000408172607, 2.8413000106811523, 2.8401999473571777, 2.8401999473571777, 2.8401999473571777, 2.8401999473571777, 2.8401999473571777, 2.8396999835968018, 2.8392999172210693, 2.835599899291992, 2.8333001136779785, 2.831899881362915, 2.8308000564575195, 2.828399896621704, 2.824899911880493, 2.7953999042510986, 2.7667999267578125, 2.799499988555908, 2.78629994392395, 2.4576001167297363, 2.3022000789642334, 2.7474000453948975, 2.6180999279022217, 2.42930006980896, 2.2648000717163086, 2.4542999267578125, 2.1575000286102295, 2.769200086593628, 2.588599920272827, 2.001699924468994, 2.174299955368042, 1.9107999801635742, 1.7275999784469604, 2.0100998878479004, 1.8086999654769897, 1.870300054550171, 2.0720999240875244, 1.8619999885559082, 1.4318000078201294, 1.7706999778747559, 1.4639999866485596, 1.7283999919891357, 1.7648999691009521, 1.0430999994277954, 1.205199956893921, 0.9376999735832214, 1.7797000408172607, 1.4541000127792358, -0.05079999938607216, 1.253100037574768, 0.7994999885559082, 1.0460000038146973, -0.08299999684095383, 0.04450000077486038, 0.7038000226020813, 1.3310999870300293, -0.09369999915361404, 0.7935000061988831, 0.44020000100135803, 0.5202000141143799, 0.035999998450279236, 0.5961999893188477]}, \"token.table\": {\"Topic\": [1, 2, 3, 4, 5, 1, 4, 1, 2, 4, 5, 3, 1, 2, 3, 4, 1, 2, 3, 4, 5, 3, 1, 2, 3, 4, 5, 2, 4, 1, 1, 2, 3, 4, 5, 5, 1, 2, 3, 4, 5, 1, 2, 3, 4, 5, 2, 3, 5, 5, 1, 2, 3, 4, 5, 5, 2, 3, 4, 1, 2, 3, 4, 5, 1, 2, 3, 4, 4, 2, 4, 3, 2, 4, 3, 1, 3, 1, 2, 3, 4, 5, 1, 1, 2, 3, 4, 5, 2, 4, 1, 2, 3, 5, 5, 2, 4, 5, 4, 2, 4, 2, 3, 4, 1, 2, 3, 5, 5, 1, 2, 3, 4, 5, 4, 2, 3, 2, 4, 1, 2, 3, 4, 5, 2, 4, 4, 2, 1, 3, 1, 2, 3, 4, 1, 2, 3, 4, 5, 4, 2, 1, 2, 3, 4, 1, 2, 3, 4, 5, 1, 3, 4, 1, 2, 1, 2, 3, 4, 1, 2, 3, 4, 5, 1, 4, 1, 1, 1, 2, 3, 4, 5, 1, 2, 3, 4, 5, 5, 1, 2, 3, 4, 5, 5, 1, 2, 3, 4, 1, 2, 5, 1, 2, 3, 4, 1, 2, 3, 1, 3, 4, 1, 2, 3, 4, 5, 2, 3, 1, 2, 3, 4, 5, 1, 2, 3, 4, 5, 3, 1, 2, 3, 4, 5, 4, 1, 2, 3, 4, 5, 1, 2, 4, 1, 2, 3, 4, 5, 5, 3, 1, 2, 3, 4, 5, 1, 2, 1, 2, 2, 4, 1, 2, 3, 4, 5, 1, 4, 1, 2, 3, 4, 5, 1, 2, 3, 4, 1, 2, 3, 4, 5, 1, 2, 3, 4, 5, 1, 2, 3, 4, 5, 1, 2, 3, 4, 5, 1, 2, 3, 4, 1, 2, 4, 1, 2, 3, 4, 5, 2, 5, 1, 2, 4, 5, 1, 2, 3, 4, 1, 2, 3, 4, 5, 1, 2, 3, 4, 5, 3, 1, 2, 3, 4, 2, 4, 2, 1, 1, 2, 3, 4, 5, 1, 2, 4, 5, 5, 2, 5, 1, 2, 3, 4, 5, 1, 2, 3, 4, 5, 1, 1, 2, 3, 4, 5, 1, 2, 3, 4, 5, 1, 2, 3, 5, 4, 2, 2, 3, 1, 4, 5, 4, 2, 4, 2, 5, 2, 2, 2, 5, 1, 2, 3, 4, 5, 1, 1, 2, 3, 4, 5, 5, 5, 5, 1, 2, 3, 4, 5, 3, 2, 3, 5, 1, 2, 3, 4, 5, 5, 5, 2, 3, 4, 1, 1, 2, 1, 2, 3, 4, 5, 1, 2, 3, 4, 5, 1, 2, 3, 4, 5, 1, 3, 1, 2, 5, 4, 1, 2, 3, 4, 5, 4, 4, 1, 1, 2, 3, 4, 1, 2, 3, 4, 5, 1, 2, 1, 2, 4, 4, 2, 1, 2, 3, 5, 1, 2, 3, 4, 5, 1, 2, 4, 1, 2, 3, 4, 5, 3, 3, 2, 5, 4, 1, 2, 3, 4, 5, 2, 4, 1, 3, 1, 4, 1, 2, 3, 4, 5, 3, 1, 2, 3, 4, 1, 2, 3, 4, 5, 2, 2, 1, 3, 4, 2, 3, 2, 1, 2, 3, 4, 5, 5, 1, 2, 3, 4, 2, 4, 1, 1, 2, 3, 4, 5, 1, 2, 3, 4, 5, 5, 3, 1, 2, 3, 4, 4, 1, 2, 3, 4, 2, 4, 1, 2, 3, 4, 5, 1, 2, 1, 1, 3, 1, 2, 3, 4, 5, 1, 3, 4, 5, 2, 1, 2, 4, 1, 1, 1, 1, 3, 1, 3, 1, 2, 1, 2, 3, 1, 2, 3, 5, 1, 3, 1, 2, 3, 4, 5, 3, 2, 1, 1, 2, 3, 4, 5, 1, 2, 3, 4, 5, 1, 2, 3, 4, 5, 1, 2, 4, 3, 1, 2, 3, 4, 5, 1, 2, 3, 4, 5, 1, 2, 3, 4, 5, 1, 3, 3, 5, 1, 2, 4, 5, 1, 2, 3, 4, 5, 1, 2, 3, 4, 1, 2, 3, 4, 1, 1, 2, 4, 5, 1, 2, 3, 4, 5, 1, 2, 4, 5, 3, 4, 5, 1, 2, 3, 4, 5, 1, 3, 1, 2, 3, 4, 5, 1, 2, 3, 4, 5, 1, 2, 3, 5, 1, 2, 3, 4, 1, 2, 3, 4, 5, 2, 1, 2, 2, 2, 4, 1, 2, 4, 1, 1, 3, 4, 5, 1, 2, 3, 4, 1, 3, 1, 2, 3, 4, 5, 1, 2, 3, 4, 1, 2, 3, 4, 5, 1, 2, 3, 4, 5, 1, 2, 3, 4, 5, 1, 2, 3, 4, 1, 2, 3, 4, 5, 3, 1, 2, 3, 4, 5, 2, 3, 1, 2, 3, 4, 5, 1, 2, 3, 4, 5, 1, 2, 3, 4, 5, 1, 1, 2, 3, 4, 5, 4, 1, 2, 3, 4, 5, 1, 2, 3, 4, 5, 1, 2, 3, 4, 5, 1, 2, 3, 3, 2, 3, 4, 5, 3, 1, 2, 3, 4, 5, 1, 2, 3, 4, 5, 2, 5, 2, 3, 5, 1, 2, 3, 4, 5, 1, 2, 3, 4, 5, 1, 1, 2, 3, 1, 2, 3, 4, 5, 1, 2, 3, 4, 5, 1, 2, 3, 4, 5, 2, 1, 2, 3, 4, 5, 1, 2, 3, 4, 5, 2, 1, 2, 3, 4, 5, 1, 2, 3, 4, 5, 1, 5, 4, 1, 2, 3, 4, 1, 2, 3, 4, 1, 1, 2, 3, 4, 2, 3, 4, 2, 2, 1, 2, 3, 4, 4, 5, 4, 1, 2, 3, 4, 5, 1, 2, 3, 4, 5, 4, 1, 2, 3, 4, 5, 3, 2, 4, 5, 5, 1, 2, 3, 4, 5, 5, 2, 1, 2, 3, 4, 5, 1, 2, 3, 4, 5, 3, 2], \"Freq\": [0.0580163337290287, 0.6537304520606995, 0.060408759862184525, 0.2266823649406433, 0.0011962130665779114, 0.9870667457580566, 0.9677810668945312, 0.09794262796640396, 0.45298463106155396, 0.012242828495800495, 0.4346204102039337, 0.9552986025810242, 0.30990517139434814, 0.010330173186957836, 0.6068976521492004, 0.07231120765209198, 0.4621425271034241, 0.27414315938949585, 0.14248943328857422, 0.08831093460321426, 0.033048879355192184, 0.9206170439720154, 0.27152907848358154, 0.40368586778640747, 0.08848429471254349, 0.18684238195419312, 0.05012844130396843, 0.0723612904548645, 0.9045161008834839, 0.9811617136001587, 0.19949674606323242, 0.2927042245864868, 0.181509330868721, 0.1340879648923874, 0.19132064282894135, 0.9585084915161133, 0.10744686424732208, 0.13598744571208954, 0.6463600397109985, 0.09905257821083069, 0.011752001009881496, 0.9046840071678162, 0.06462028622627258, 0.003801193321123719, 0.020906561985611916, 0.007602386642247438, 0.17052951455116272, 0.08526475727558136, 0.7389612197875977, 0.9250467419624329, 0.2941877245903015, 0.4705961048603058, 0.07348178327083588, 0.11126497387886047, 0.05055129900574684, 0.9594593048095703, 0.13294683396816254, 0.17726244032382965, 0.6795060038566589, 0.04808531329035759, 0.24729588627815247, 0.11677861213684082, 0.542677104473114, 0.04808531329035759, 0.03217592462897301, 0.0689484104514122, 0.022982802242040634, 0.8733465075492859, 0.9270400404930115, 0.06894509494304657, 0.8962861895561218, 0.9472185373306274, 0.03478685021400452, 0.9392449855804443, 0.959420382976532, 0.00919246580451727, 0.9927862882614136, 0.14418061077594757, 0.7740222215652466, 0.005691340193152428, 0.06450185179710388, 0.011382680386304855, 0.9967182874679565, 0.09536225348711014, 0.3643327057361603, 0.14671115577220917, 0.05868446081876755, 0.3349904716014862, 0.9516394138336182, 0.9232914447784424, 0.21768657863140106, 0.03957938030362129, 0.6876916885375977, 0.054421644657850266, 0.9435242414474487, 0.09671879559755325, 0.27940985560417175, 0.6232988834381104, 0.9528613686561584, 0.32280945777893066, 0.6695307493209839, 0.9600002765655518, 0.019591841846704483, 0.019591841846704483, 0.2683212459087372, 0.27220994234085083, 0.046664562076330185, 0.40831491351127625, 0.9062960147857666, 0.01592269353568554, 0.6568110585212708, 0.09553615748882294, 0.2242445945739746, 0.006634455639868975, 0.9270370006561279, 0.9558310508728027, 0.0392807275056839, 0.9920189380645752, 0.9778314232826233, 0.2234681397676468, 0.11732077598571777, 0.01676011085510254, 0.608950674533844, 0.02793351747095585, 0.021195046603679657, 0.9537770748138428, 0.9863362908363342, 0.97605299949646, 0.05313017591834068, 0.9563431739807129, 0.5939196348190308, 0.13142050802707672, 0.23335565626621246, 0.041279520839452744, 0.022645091637969017, 0.5959234237670898, 0.025028785690665245, 0.1263357698917389, 0.2300264537334442, 0.9850193858146667, 0.9794777035713196, 0.6829633712768555, 0.12075584381818771, 0.12075584381818771, 0.07522495090961456, 0.2705044150352478, 0.28653430938720703, 0.16931572556495667, 0.2123960554599762, 0.06211582571268082, 0.2041642814874649, 0.7926377654075623, 0.9555467367172241, 0.9564886689186096, 0.032982368022203445, 0.8767233490943909, 0.08840908110141754, 0.007367423269897699, 0.029469693079590797, 0.19454845786094666, 0.3396163880825043, 0.03935951739549637, 0.3935951590538025, 0.03261217102408409, 0.9743596911430359, 0.015715479850769043, 0.990325391292572, 0.9795141816139221, 0.4412175416946411, 0.13460874557495117, 0.05982610583305359, 0.04113044962286949, 0.32156533002853394, 0.5526399612426758, 0.28219911456108093, 0.011758296750485897, 0.04964614287018776, 0.10321171581745148, 0.9686120748519897, 0.5421525239944458, 0.15343940258026123, 0.05333845689892769, 0.09571695327758789, 0.1556313931941986, 0.9975515604019165, 0.9264973998069763, 0.01219075545668602, 0.04876302182674408, 0.01219075545668602, 0.9901383519172668, 0.0035488829016685486, 0.0035488829016685486, 0.2805125415325165, 0.15700329840183258, 0.3998350501060486, 0.16119004786014557, 0.10281442105770111, 0.044063325971364975, 0.8518909215927124, 0.9106405973434448, 0.06208913400769234, 0.020696377381682396, 0.3971315026283264, 0.29672467708587646, 0.1221366673707962, 0.09890822321176529, 0.08542073518037796, 0.9885837435722351, 0.9756552577018738, 0.17252016067504883, 0.1829759180545807, 0.5489277839660645, 0.09671584516763687, 0.9283449053764343, 0.05938088893890381, 0.79576575756073, 0.03958725929260254, 0.10051452368497849, 0.004948407411575317, 0.9229285717010498, 0.3300861418247223, 0.4339211583137512, 0.056836023926734924, 0.05792902410030365, 0.12132304906845093, 0.9405902028083801, 0.11756915599107742, 0.6923516988754272, 0.06531620025634766, 0.12540709972381592, 0.9585164189338684, 0.040075868368148804, 0.9217450022697449, 0.040075868368148804, 0.010686892084777355, 0.3697664439678192, 0.4338878095149994, 0.1731276512145996, 0.012824269942939281, 0.9272906184196472, 0.9001723527908325, 0.1723320037126541, 0.3210105895996094, 0.16219481825828552, 0.030411528423428535, 0.3074943423271179, 0.9055399894714355, 0.09367655217647552, 0.9799378514289856, 0.018629997968673706, 0.19425556063652039, 0.8013042211532593, 0.25314804911613464, 0.27273687720298767, 0.14314918220043182, 0.021095668897032738, 0.3089008629322052, 0.982053279876709, 0.927043080329895, 0.3696405291557312, 0.29534703493118286, 0.19973985850811005, 0.1345808207988739, 0.0006089629605412483, 0.16901271045207977, 0.02503892034292221, 0.7887259721755981, 0.018779190257191658, 0.22757045924663544, 0.19768747687339783, 0.14251887798309326, 0.1953887790441513, 0.2344665378332138, 0.5106990337371826, 0.16050541400909424, 0.18166294693946838, 0.10068066418170929, 0.04596291482448578, 0.1566331833600998, 0.3413335978984833, 0.1837950199842453, 0.21910539269447327, 0.09959335625171661, 0.16195212304592133, 0.30145543813705444, 0.166762575507164, 0.1330893635749817, 0.23731598258018494, 0.048812784254550934, 0.6124842166900635, 0.10576102882623672, 0.23360402882099152, 0.09461445361375809, 0.2459975928068161, 0.657570481300354, 0.421540766954422, 0.21365764737129211, 0.27087798714637756, 0.09239249676465988, 0.0015748720616102219, 0.051821157336235046, 0.8809596300125122, 0.19359351694583893, 0.35492146015167236, 0.12906233966350555, 0.3226558566093445, 0.2608722448348999, 0.28448569774627686, 0.29235684871673584, 0.1619207113981247, 0.33939051628112793, 0.2541329860687256, 0.2467549443244934, 0.15002045035362244, 0.009837405756115913, 0.31038832664489746, 0.2828180193901062, 0.17164741456508636, 0.12362170964479446, 0.11117060482501984, 0.9262932538986206, 0.12707020342350006, 0.8281472325325012, 0.030672119930386543, 0.01314519438892603, 0.055742163211107254, 0.9476168155670166, 0.9859432578086853, 0.9879188537597656, 0.004524801857769489, 0.09954564273357391, 0.6719330549240112, 0.20814089477062225, 0.0158368069678545, 0.008180208504199982, 0.3108479380607605, 0.03272083401679993, 0.6380562782287598, 0.9562811851501465, 0.07978864759206772, 0.9175693988800049, 0.24850471317768097, 0.45331627130508423, 0.12254559248685837, 0.16828684508800507, 0.007168405223637819, 0.5151765942573547, 0.22626861929893494, 0.11696937680244446, 0.13742303848266602, 0.003835061565041542, 0.9884567856788635, 0.39672499895095825, 0.32073935866355896, 0.192763552069664, 0.04959062486886978, 0.04079228639602661, 0.01347508653998375, 0.7851828932762146, 0.07566779106855392, 0.11609305441379547, 0.009847178123891354, 0.03909686207771301, 0.03909686207771301, 0.9090020656585693, 0.009774215519428253, 0.9785280227661133, 0.9698302745819092, 0.9642705321311951, 0.9262920022010803, 0.10516288876533508, 0.87635737657547, 0.9467625617980957, 0.9640400409698486, 0.03649182245135307, 0.9122955799102783, 0.11022183299064636, 0.8660286664962769, 0.9545791745185852, 0.9545793533325195, 0.9545882940292358, 0.9447559118270874, 0.8087906837463379, 0.05281898379325867, 0.05612017214298248, 0.03301186487078667, 0.046216610819101334, 0.9918614625930786, 0.2044484168291092, 0.4795837700366974, 0.1609487533569336, 0.1478988528251648, 0.0076124407351017, 0.9585144519805908, 0.9834908246994019, 0.9585154056549072, 0.15854069590568542, 0.4612092673778534, 0.18034465610980988, 0.14228010177612305, 0.057281602174043655, 0.9720485806465149, 0.970060408115387, 0.933127760887146, 0.9685946702957153, 0.47902047634124756, 0.23594610393047333, 0.20743297040462494, 0.056313417851924896, 0.021384842693805695, 0.972705602645874, 0.9823650121688843, 0.0605916827917099, 0.045443762093782425, 0.8785793781280518, 0.987993597984314, 0.9366722702980042, 0.05900297686457634, 0.15244869887828827, 0.32045337557792664, 0.06222395598888397, 0.059112757444381714, 0.4075669050216675, 0.17564257979393005, 0.38021454215049744, 0.17150981724262238, 0.06199149787425995, 0.20663833618164062, 0.5706055164337158, 0.15896634757518768, 0.10290978848934174, 0.09203314781188965, 0.076136514544487, 0.026799945160746574, 0.9737313389778137, 0.6704301238059998, 0.004038735758513212, 0.3271375894546509, 0.927054762840271, 0.7035016417503357, 0.18149304389953613, 0.0812397450208664, 0.029384588822722435, 0.003457010490819812, 0.9647986888885498, 0.9270318150520325, 0.9802783727645874, 0.04444205388426781, 0.022221026942133904, 0.8999515771865845, 0.03333153948187828, 0.07924249023199081, 0.23975934088230133, 0.12191152572631836, 0.0833062082529068, 0.4754549562931061, 0.03128311038017273, 0.9697763919830322, 0.9903093576431274, 0.007797711528837681, 0.9580397605895996, 0.9785258769989014, 0.9910540580749512, 0.12066850066184998, 0.10726089030504227, 0.7776414155960083, 0.9258636236190796, 0.13404041528701782, 0.13404041528701782, 0.08616883307695389, 0.6223304867744446, 0.028722945600748062, 0.01111135445535183, 0.10000218451023102, 0.888908326625824, 0.21326662600040436, 0.580415666103363, 0.07694122940301895, 0.10430958122015, 0.024786435067653656, 0.9802868962287903, 0.9262939691543579, 0.11034170538187027, 0.845953106880188, 0.9785215854644775, 0.7108652591705322, 0.18079961836338043, 0.046971164643764496, 0.045134302228689194, 0.016531750559806824, 0.0530131570994854, 0.9012237191200256, 0.9937905669212341, 0.922928512096405, 0.9804791212081909, 0.010004889219999313, 0.02474440447986126, 0.37116605043411255, 0.07114016264677048, 0.17939692735671997, 0.355700820684433, 0.9801908135414124, 0.9003403186798096, 0.04119203984737396, 0.017653731629252434, 0.038249749690294266, 0.01672448217868805, 0.4190412163734436, 0.3753717243671417, 0.14866206049919128, 0.03995293006300926, 0.9861198663711548, 0.9545876383781433, 0.029988961294293404, 0.9296577572822571, 0.029988961294293404, 0.91093909740448, 0.08281264454126358, 0.982582688331604, 0.0016985504189506173, 0.4169941246509552, 0.007643477059900761, 0.02547825686633587, 0.5486317873001099, 0.9585151076316833, 0.15223075449466705, 0.21852479875087738, 0.6138337254524231, 0.014732008799910545, 0.9903799295425415, 0.007891473360359669, 0.9874292016029358, 0.6241929531097412, 0.13594038784503937, 0.15406577289104462, 0.02378956787288189, 0.061173174530267715, 0.002752273343503475, 0.4128410220146179, 0.052293192595243454, 0.1596318632364273, 0.3715569078922272, 0.9585152864456177, 0.9542394280433655, 0.11107531189918518, 0.021673232316970825, 0.853383481502533, 0.013545770198106766, 0.9468628168106079, 0.19717903435230255, 0.028855467215180397, 0.6444388031959534, 0.1298496127128601, 0.09149542450904846, 0.904788076877594, 0.0067243557423353195, 0.7383342385292053, 0.056484587490558624, 0.17214350402355194, 0.025552552193403244, 0.9671796560287476, 0.03454212844371796, 0.9895088076591492, 0.9863502979278564, 0.9549207091331482, 0.15394054353237152, 0.20754484832286835, 0.13263627886772156, 0.365608811378479, 0.14019586145877838, 0.1765889823436737, 0.7342383861541748, 0.009294156916439533, 0.07435325533151627, 0.9798024296760559, 0.9636541604995728, 0.020949004217982292, 0.9749516844749451, 0.9676123261451721, 0.9790832996368408, 0.9938709735870361, 0.1721518337726593, 0.8263288140296936, 0.049698926508426666, 0.9442796111106873, 0.04949250817298889, 0.9403576850891113, 0.8625906705856323, 0.09259448200464249, 0.0438605435192585, 0.2155405879020691, 0.005987238604575396, 0.7663665413856506, 0.011974477209150791, 0.052987247705459595, 0.9537704586982727, 0.1631283015012741, 0.15225307643413544, 0.6198875308036804, 0.03806326910853386, 0.027188049629330635, 0.970170795917511, 0.9887669682502747, 0.9835189580917358, 0.2581949830055237, 0.2284032702445984, 0.15557903051376343, 0.0033101921435445547, 0.35419055819511414, 0.279654860496521, 0.5061665773391724, 0.038332752883434296, 0.12545263767242432, 0.05052953585982323, 0.04615884646773338, 0.03461913391947746, 0.9116371870040894, 0.11301810294389725, 0.847635805606842, 0.08926545828580856, 0.18664595484733582, 0.7222387194633484, 0.9803959727287292, 0.09399399906396866, 0.36657658219337463, 0.007049549836665392, 0.00469970004633069, 0.5287162661552429, 0.6738938093185425, 0.05350659042596817, 0.17208875715732574, 0.033260852098464966, 0.06796783208847046, 0.1402449607849121, 0.6084643602371216, 0.12699346244335175, 0.1159505546092987, 0.007730036973953247, 0.0896262377500534, 0.9074656963348389, 0.09845565259456635, 0.9012479186058044, 0.9485180377960205, 0.006452503614127636, 0.04516752436757088, 0.9896238446235657, 0.14940208196640015, 0.6862366795539856, 0.10888626426458359, 0.04811253771185875, 0.010128955356776714, 0.037439893931150436, 0.7862377762794495, 0.07775977998971939, 0.09791972488164902, 0.07057982683181763, 0.8035241961479187, 0.05972139537334442, 0.06515061110258102, 0.9948227405548096, 0.07316409051418304, 0.09567612409591675, 0.8216890692710876, 0.011256014928221703, 0.18522745370864868, 0.324148029088974, 0.3513873815536499, 0.1280248612165451, 0.010895732790231705, 0.08616191893815994, 0.8464140892028809, 0.055751826614141464, 0.010136695578694344, 0.15941882133483887, 0.7743199467658997, 0.04554823413491249, 0.7269571423530579, 0.16074629127979279, 0.04078637436032295, 0.059979960322380066, 0.011995991691946983, 0.2701098322868347, 0.7302969098091125, 0.35090500116348267, 0.33278313279151917, 0.14826971292495728, 0.12191065400838852, 0.04612835496664047, 0.1357097327709198, 0.35402539372444153, 0.017701270058751106, 0.005900423042476177, 0.48383471369743347, 0.20213216543197632, 0.2376718819141388, 0.5464231967926025, 0.013327395543456078, 0.17443214356899261, 0.03033602610230446, 0.075840063393116, 0.7128965854644775, 0.13197742402553558, 0.7611721158027649, 0.03376166895031929, 0.03990015387535095, 0.03376166895031929, 0.9545890688896179, 0.9287027716636658, 0.05306873098015785, 0.9884479641914368, 0.9474289417266846, 0.8905977010726929, 0.1055491641163826, 0.7713208198547363, 0.12381728738546371, 0.9845522046089172, 0.0330163799226284, 0.9244585633277893, 0.0330163799226284, 0.9762911796569824, 0.21076108515262604, 0.4914690852165222, 0.15185841917991638, 0.14587612450122833, 0.23849983513355255, 0.7566201686859131, 0.6700084209442139, 0.17414900660514832, 0.09704487025737762, 0.04254021495580673, 0.0159525815397501, 0.18349429965019226, 0.21560581028461456, 0.09633450955152512, 0.5046093463897705, 0.17004390060901642, 0.38987964391708374, 0.25835397839546204, 0.17380177974700928, 0.007515752222388983, 0.08615034818649292, 0.6402653455734253, 0.03976169973611832, 0.17637881636619568, 0.05709372088313103, 0.1288718581199646, 0.524668276309967, 0.21387967467308044, 0.1323855072259903, 0.00011334376176819205, 0.699399471282959, 0.21077792346477509, 0.05269448086619377, 0.0367264561355114, 0.34775277972221375, 0.33854755759239197, 0.16876238584518433, 0.0894952043890953, 0.05574272572994232, 0.9206125736236572, 0.36462435126304626, 0.28374403715133667, 0.1869528442621231, 0.10342072695493698, 0.06099170818924904, 0.9798024296760559, 0.9648703336715698, 0.09010542184114456, 0.6048456430435181, 0.12635473906993866, 0.14189015328884125, 0.03728500381112099, 0.4474058449268341, 0.25717028975486755, 0.06517329066991806, 0.10744785517454147, 0.12242010235786438, 0.7096558213233948, 0.1566772609949112, 0.013824463821947575, 0.1152038648724556, 0.006912231910973787, 0.9898642897605896, 0.2786221504211426, 0.3405381739139557, 0.10964297503232956, 0.11609256267547607, 0.1560799926519394, 0.923295259475708, 0.22520342469215393, 0.3333336114883423, 0.2333335131406784, 0.16178874671459198, 0.04634150117635727, 0.3569711446762085, 0.1792323738336563, 0.3569711446762085, 0.10007140785455704, 0.00896161887794733, 0.8487151861190796, 0.08875452727079391, 0.027735790237784386, 0.02218863181769848, 0.01664147339761257, 0.9910487532615662, 0.12754622101783752, 0.8545596599578857, 0.9712013006210327, 0.07528771460056305, 0.8365302085876465, 0.08365301787853241, 0.9345788955688477, 0.966596782207489, 0.04535897076129913, 0.6925864219665527, 0.08673908561468124, 0.1718866229057312, 0.003448342904448509, 0.08309216052293777, 0.5919846892356873, 0.10377120971679688, 0.22088980674743652, 0.00018799131794366986, 0.9826425909996033, 0.957023024559021, 0.8871707916259766, 0.0426524393260479, 0.06824390590190887, 0.3830305337905884, 0.2845369577407837, 0.14801394939422607, 0.1660711020231247, 0.01833074726164341, 0.4307361841201782, 0.2123945653438568, 0.16736692190170288, 0.12913590669631958, 0.06116963550448418, 0.9793762564659119, 0.2066531628370285, 0.065753273665905, 0.7232860326766968, 0.8192157745361328, 0.09386847913265228, 0.02560049295425415, 0.028444992378354073, 0.03413398936390877, 0.5565739870071411, 0.24169035255908966, 0.12198882550001144, 0.07014357298612595, 0.009149162098765373, 0.26637062430381775, 0.6318124532699585, 0.0327121838927269, 0.05233949422836304, 0.015888774767518044, 0.9875276684761047, 0.12109643220901489, 0.1288590282201767, 0.1257539838552475, 0.5635641813278198, 0.060548216104507446, 0.19712497293949127, 0.4716162085533142, 0.08160550147294998, 0.06676813960075378, 0.1833474189043045, 0.9684670567512512, 0.3484422564506531, 0.4537394046783447, 0.08039078116416931, 0.10554373264312744, 0.01183667965233326, 0.14312554895877838, 0.1885068118572235, 0.6178834438323975, 0.045381270349025726, 0.006981733720749617, 0.9728505611419678, 0.943353533744812, 0.8905186653137207, 0.7116869688034058, 0.19296984374523163, 0.04779987037181854, 0.04779987037181854, 0.7946049571037292, 0.0784618929028511, 0.045650556683540344, 0.0813150480389595, 0.9902501106262207, 0.09765351563692093, 0.14026595652103424, 0.6809113621711731, 0.0807860940694809, 0.09183163195848465, 0.05509898066520691, 0.844851016998291, 0.9877051115036011, 0.9812844395637512, 0.20198796689510345, 0.20198796689510345, 0.03231807425618172, 0.5615265369415283, 0.9540662169456482, 0.976292610168457, 0.9232923984527588, 0.3739529848098755, 0.3995731770992279, 0.0856834203004837, 0.08873748034238815, 0.05208873376250267, 0.16328932344913483, 0.18885481357574463, 0.5170828700065613, 0.037935901433229446, 0.09236567467451096, 0.9270378351211548, 0.8232920169830322, 0.13402427732944489, 0.014359744265675545, 0.014359744265675545, 0.009573162533342838, 0.9594199061393738, 0.948577880859375, 0.2307150512933731, 0.7498238682746887, 0.9731987118721008, 0.09694711118936539, 0.1707112193107605, 0.0632263794541359, 0.029505643993616104, 0.6406939625740051, 0.8974206447601318, 0.9550660848617554, 0.42741096019744873, 0.3812321126461029, 0.07773440331220627, 0.10800720751285553, 0.005387532990425825, 0.4590224325656891, 0.2942138612270355, 0.1226908341050148, 0.10132676362991333, 0.023195281624794006, 0.98810875415802, 0.9832079410552979], \"Term\": [\"abstractive\", \"abstractive\", \"abstractive\", \"abstractive\", \"abstractive\", \"affective\", \"agaramond\", \"agent\", \"agent\", \"agent\", \"agent\", \"aht\", \"alignment\", \"alignment\", \"alignment\", \"alignment\", \"also\", \"also\", \"also\", \"also\", \"also\", \"alternative_verbalization\", \"approach\", \"approach\", \"approach\", \"approach\", \"approach\", \"arialnarrow\", \"arialnarrow\", \"artefact\", \"article\", \"article\", \"article\", \"article\", \"article\", \"artist\", \"aspect\", \"aspect\", \"aspect\", \"aspect\", \"aspect\", \"attention\", \"attention\", \"attention\", \"attention\", \"attention\", \"axiom\", \"axiom\", \"axiom\", \"band\", \"base\", \"base\", \"base\", \"base\", \"base\", \"biscuit\", \"blank\", \"blank\", \"blank\", \"body\", \"body\", \"body\", \"body\", \"body\", \"bold\", \"bold\", \"bold\", \"bold\", \"boldcondense\", \"bolditalic\", \"bolditalic\", \"bomber\", \"bsu\", \"bsu\", \"bulldozer\", \"camera\", \"camera\", \"candidate\", \"candidate\", \"candidate\", \"candidate\", \"candidate\", \"caption\", \"category\", \"category\", \"category\", \"category\", \"category\", \"cg\", \"cgtime\", \"child\", \"child\", \"child\", \"child\", \"chinatime\", \"chinese\", \"chinese\", \"chinese\", \"chip\", \"chunk\", \"chunk\", \"citation\", \"citation\", \"citation\", \"class\", \"class\", \"class\", \"class\", \"client\", \"cluster\", \"cluster\", \"cluster\", \"cluster\", \"cluster\", \"cmmib_cmmib\", \"collapse\", \"collapse\", \"collapsible\", \"combinability\", \"community\", \"community\", \"community\", \"community\", \"community\", \"compendium\", \"compendium\", \"compendiume\", \"competitor\", \"compre\", \"compre\", \"compression\", \"compression\", \"compression\", \"compression\", \"concept\", \"concept\", \"concept\", \"concept\", \"concept\", \"concreteness\", \"connector\", \"constraint\", \"constraint\", \"constraint\", \"constraint\", \"contain\", \"contain\", \"contain\", \"contain\", \"contain\", \"controversial\", \"controversial\", \"conversational\", \"convolutional\", \"convolutional\", \"copy\", \"copy\", \"copy\", \"copy\", \"create\", \"create\", \"create\", \"create\", \"create\", \"creative\", \"creative\", \"creativity\", \"czech\", \"data\", \"data\", \"data\", \"data\", \"data\", \"dataset\", \"dataset\", \"dataset\", \"dataset\", \"dataset\", \"datatype\", \"datum\", \"datum\", \"datum\", \"datum\", \"datum\", \"dbpedia\", \"decode\", \"decode\", \"decode\", \"decode\", \"decoder\", \"decoder\", \"decoder\", \"dependency\", \"dependency\", \"dependency\", \"dependency\", \"depth\", \"depth\", \"depth\", \"dialogue\", \"dialogue\", \"dialogue\", \"different\", \"different\", \"different\", \"different\", \"different\", \"dimp\", \"dirt\", \"discourse\", \"discourse\", \"discourse\", \"discourse\", \"dl_conjunctive\", \"document\", \"document\", \"document\", \"document\", \"document\", \"dole\", \"domain\", \"domain\", \"domain\", \"domain\", \"domain\", \"dominant_speaker\", \"duc\", \"duc\", \"duc\", \"duc\", \"dump\", \"duplicate\", \"duplicate\", \"duplicate\", \"edge\", \"edge\", \"edge\", \"edge\", \"edge\", \"edition\", \"edu\", \"element\", \"element\", \"element\", \"element\", \"element\", \"embedding\", \"embedding\", \"encoder\", \"encoder\", \"entailment\", \"entailment\", \"entity\", \"entity\", \"entity\", \"entity\", \"entity\", \"eos\", \"eurb\", \"evaluation\", \"evaluation\", \"evaluation\", \"evaluation\", \"evaluation\", \"evaluative\", \"evaluative\", \"evaluative\", \"evaluative\", \"event\", \"event\", \"event\", \"event\", \"event\", \"example\", \"example\", \"example\", \"example\", \"example\", \"extract\", \"extract\", \"extract\", \"extract\", \"extract\", \"extraction\", \"extraction\", \"extraction\", \"extraction\", \"extraction\", \"extractive\", \"extractive\", \"extractive\", \"extractive\", \"false\", \"false\", \"false\", \"feature\", \"feature\", \"feature\", \"feature\", \"feature\", \"fia\", \"fia\", \"fig\", \"fig\", \"fig\", \"fig\", \"figure\", \"figure\", \"figure\", \"figure\", \"first\", \"first\", \"first\", \"first\", \"first\", \"follow\", \"follow\", \"follow\", \"follow\", \"follow\", \"foreach\", \"frame\", \"frame\", \"frame\", \"frame\", \"franklingothic\", \"franklingothic\", \"fsgm\", \"funny\", \"fusion\", \"fusion\", \"fusion\", \"fusion\", \"fusion\", \"fuzzy\", \"fuzzy\", \"fuzzy\", \"fuzzy\", \"generalizable\", \"generalization_version\", \"generalization_version\", \"generate\", \"generate\", \"generate\", \"generate\", \"generate\", \"generation\", \"generation\", \"generation\", \"generation\", \"generation\", \"gigaword\", \"give\", \"give\", \"give\", \"give\", \"give\", \"graph\", \"graph\", \"graph\", \"graph\", \"graph\", \"graphic\", \"graphic\", \"graphic\", \"graphic\", \"helvetica_condense\", \"heuristic_rule\", \"hit\", \"hormone\", \"human_authored\", \"human_authored\", \"hydrogen\", \"hypernym_labele\", \"hypernyms\", \"hypernyms\", \"identifier\", \"identifier\", \"ijircce\", \"ijircce_doi\", \"ijrest\", \"ikipedia\", \"image\", \"image\", \"image\", \"image\", \"image\", \"image_captione\", \"important\", \"important\", \"important\", \"important\", \"important\", \"indegree\", \"infobox\", \"infoboxe\", \"information\", \"information\", \"information\", \"information\", \"information\", \"informativity\", \"init\", \"injure\", \"ink\", \"input\", \"input\", \"input\", \"input\", \"input\", \"interlink\", \"interlinking\", \"italic\", \"italic\", \"italic\", \"joke\", \"judgement\", \"judgement\", \"key\", \"key\", \"key\", \"key\", \"key\", \"knowledge\", \"knowledge\", \"knowledge\", \"knowledge\", \"knowledge\", \"language\", \"language\", \"language\", \"language\", \"language\", \"lattice\", \"lattice\", \"layer\", \"layer\", \"layer\", \"lcseg\", \"learn\", \"learn\", \"learn\", \"learn\", \"learn\", \"lesion\", \"lettergothic\", \"lexicalisation\", \"linearization\", \"linearization\", \"linearization\", \"linearization\", \"link\", \"link\", \"link\", \"link\", \"link\", \"lsa\", \"lsa\", \"lstm\", \"lstm\", \"malaysia_airline\", \"mathematica\", \"mdt\", \"mead\", \"mead\", \"mead\", \"meat\", \"meet\", \"meet\", \"meet\", \"meet\", \"meet\", \"meeting\", \"meeting\", \"meeting\", \"method\", \"method\", \"method\", \"method\", \"method\", \"microplanne\", \"militant\", \"milk\", \"milk\", \"minion\", \"model\", \"model\", \"model\", \"model\", \"model\", \"mono\", \"mono\", \"movie\", \"multigen\", \"narrative\", \"narrative\", \"news\", \"news\", \"news\", \"news\", \"news\", \"newsblaster\", \"nlg\", \"nlg\", \"nlg\", \"nlg\", \"node\", \"node\", \"node\", \"node\", \"node\", \"non_supported_supported\", \"november_copyright\", \"nuclearity\", \"nuclearity\", \"nuclearity\", \"ontological\", \"ontological\", \"ontologie\", \"ontology\", \"ontology\", \"ontology\", \"ontology\", \"ontology\", \"opencyc\", \"opinion\", \"opinion\", \"opinion\", \"opinion\", \"opinosis\", \"opinosis\", \"optimisation\", \"output\", \"output\", \"output\", \"output\", \"output\", \"page\", \"page\", \"page\", \"page\", \"page\", \"pagelink\", \"palestinian\", \"paraphrase\", \"paraphrase\", \"paraphrase\", \"paraphrase\", \"partial_tree\", \"participant\", \"participant\", \"participant\", \"participant\", \"pas\", \"pas\", \"path\", \"path\", \"path\", \"path\", \"path\", \"patient\", \"patient\", \"personality\", \"phoneme\", \"photo_quality\", \"phrase\", \"phrase\", \"phrase\", \"phrase\", \"phrase\", \"picture\", \"picture\", \"picture\", \"picture\", \"pid\", \"planner\", \"planner\", \"plate\", \"poem\", \"poetry\", \"pointer\", \"polarity\", \"polarity\", \"polarity_strength\", \"polarity_strength\", \"popularity\", \"popularity\", \"predict\", \"predict\", \"predict\", \"preference\", \"preference\", \"preference\", \"preference\", \"pression\", \"pression\", \"product\", \"product\", \"product\", \"product\", \"product\", \"product_per\", \"prog\", \"pronunciation\", \"property\", \"property\", \"property\", \"property\", \"property\", \"propose\", \"propose\", \"propose\", \"propose\", \"propose\", \"proposition\", \"proposition\", \"proposition\", \"publisher\", \"publisher\", \"pyramid\", \"pyramid\", \"pyramid\", \"quantifier\", \"query\", \"query\", \"query\", \"query\", \"query\", \"question\", \"question\", \"question\", \"question\", \"question\", \"rank\", \"rank\", \"rank\", \"rank\", \"rank\", \"rater\", \"rater\", \"rdf\", \"rdf\", \"realisation\", \"realisation\", \"realisation\", \"redirect\", \"reduce\", \"reduce\", \"reduce\", \"reduce\", \"reduce\", \"redundancy\", \"redundancy\", \"redundancy\", \"redundancy\", \"redundant\", \"redundant\", \"redundant\", \"redundant\", \"referential\", \"regular\", \"regular\", \"regular\", \"regular\", \"relation\", \"relation\", \"relation\", \"relation\", \"relation\", \"relevance\", \"relevance\", \"relevance\", \"relevance\", \"remote\", \"remote\", \"remote\", \"report\", \"report\", \"report\", \"report\", \"report\", \"response\", \"response\", \"result\", \"result\", \"result\", \"result\", \"result\", \"retrieve\", \"retrieve\", \"retrieve\", \"retrieve\", \"retrieve\", \"review\", \"review\", \"review\", \"review\", \"revision\", \"revision\", \"revision\", \"revision\", \"rich\", \"rich\", \"rich\", \"rich\", \"rich\", \"right_reserved\", \"rnn\", \"rnn\", \"rnnlm\", \"role_labelling\", \"roman\", \"rouge\", \"rouge\", \"rouge\", \"rush\", \"samplerank\", \"samplerank\", \"samplerank\", \"science_services\", \"score\", \"score\", \"score\", \"score\", \"sea\", \"sea\", \"see\", \"see\", \"see\", \"see\", \"see\", \"segment\", \"segment\", \"segment\", \"segment\", \"select\", \"select\", \"select\", \"select\", \"select\", \"semantic\", \"semantic\", \"semantic\", \"semantic\", \"semantic\", \"sentence\", \"sentence\", \"sentence\", \"sentence\", \"sentence\", \"sequence\", \"sequence\", \"sequence\", \"sequence\", \"set\", \"set\", \"set\", \"set\", \"set\", \"shopper\", \"show\", \"show\", \"show\", \"show\", \"show\", \"sid\", \"simfinder\", \"similarity\", \"similarity\", \"similarity\", \"similarity\", \"similarity\", \"source\", \"source\", \"source\", \"source\", \"source\", \"speech\", \"speech\", \"speech\", \"speech\", \"speech\", \"stack\", \"step\", \"step\", \"step\", \"step\", \"step\", \"stonesan\", \"structure\", \"structure\", \"structure\", \"structure\", \"structure\", \"study\", \"study\", \"study\", \"study\", \"study\", \"style\", \"style\", \"style\", \"style\", \"style\", \"stylistic\", \"subgraph\", \"subgraph\", \"suboptimal\", \"subtree\", \"subtree\", \"subtree\", \"sue_ate\", \"suicide\", \"summarization\", \"summarization\", \"summarization\", \"summarization\", \"summarization\", \"summary\", \"summary\", \"summary\", \"summary\", \"summary\", \"summery\", \"sunitha\", \"synset\", \"synset\", \"synset\", \"system\", \"system\", \"system\", \"system\", \"system\", \"table\", \"table\", \"table\", \"table\", \"table\", \"tactical\", \"tailor\", \"tailor\", \"tailor\", \"target\", \"target\", \"target\", \"target\", \"target\", \"task\", \"task\", \"task\", \"task\", \"task\", \"technique\", \"technique\", \"technique\", \"technique\", \"technique\", \"tedious\", \"template\", \"template\", \"template\", \"template\", \"template\", \"term\", \"term\", \"term\", \"term\", \"term\", \"texminer\", \"text\", \"text\", \"text\", \"text\", \"text\", \"theme\", \"theme\", \"theme\", \"theme\", \"theme\", \"thread\", \"tinh\", \"topic_segment\", \"train\", \"train\", \"train\", \"train\", \"training\", \"training\", \"training\", \"training\", \"trait\", \"tree\", \"tree\", \"tree\", \"tree\", \"trigger\", \"trigger\", \"trigger\", \"trim\", \"trimmer\", \"true\", \"true\", \"true\", \"true\", \"twcenmt\", \"umbel\", \"univer\", \"use\", \"use\", \"use\", \"use\", \"use\", \"user\", \"user\", \"user\", \"user\", \"user\", \"vagrounde\", \"variation\", \"variation\", \"variation\", \"variation\", \"variation\", \"verbalization\", \"very_low_low\", \"vietnamese\", \"vietnamese\", \"vio\", \"web\", \"web\", \"web\", \"web\", \"web\", \"wikipedia\", \"wine\", \"word\", \"word\", \"word\", \"word\", \"word\", \"work\", \"work\", \"work\", \"work\", \"work\", \"wound\", \"\\u03c3gap\"]}, \"R\": 30, \"lambda.step\": 0.01, \"plot.opts\": {\"xlab\": \"PC1\", \"ylab\": \"PC2\"}, \"topic.order\": [4, 5, 2, 3, 1]};\n",
       "\n",
       "function LDAvis_load_lib(url, callback){\n",
       "  var s = document.createElement('script');\n",
       "  s.src = url;\n",
       "  s.async = true;\n",
       "  s.onreadystatechange = s.onload = callback;\n",
       "  s.onerror = function(){console.warn(\"failed to load library \" + url);};\n",
       "  document.getElementsByTagName(\"head\")[0].appendChild(s);\n",
       "}\n",
       "\n",
       "if(typeof(LDAvis) !== \"undefined\"){\n",
       "   // already loaded: just create the visualization\n",
       "   !function(LDAvis){\n",
       "       new LDAvis(\"#\" + \"ldavis_el295355106181921966630116\", ldavis_el295355106181921966630116_data);\n",
       "   }(LDAvis);\n",
       "}else if(typeof define === \"function\" && define.amd){\n",
       "   // require.js is available: use it to load d3/LDAvis\n",
       "   require.config({paths: {d3: \"https://cdnjs.cloudflare.com/ajax/libs/d3/3.5.5/d3.min\"}});\n",
       "   require([\"d3\"], function(d3){\n",
       "      window.d3 = d3;\n",
       "      LDAvis_load_lib(\"https://cdn.rawgit.com/bmabey/pyLDAvis/files/ldavis.v1.0.0.js\", function(){\n",
       "        new LDAvis(\"#\" + \"ldavis_el295355106181921966630116\", ldavis_el295355106181921966630116_data);\n",
       "      });\n",
       "    });\n",
       "}else{\n",
       "    // require.js not available: dynamically load d3 & LDAvis\n",
       "    LDAvis_load_lib(\"https://cdnjs.cloudflare.com/ajax/libs/d3/3.5.5/d3.min.js\", function(){\n",
       "         LDAvis_load_lib(\"https://cdn.rawgit.com/bmabey/pyLDAvis/files/ldavis.v1.0.0.js\", function(){\n",
       "                 new LDAvis(\"#\" + \"ldavis_el295355106181921966630116\", ldavis_el295355106181921966630116_data);\n",
       "            })\n",
       "         });\n",
       "}\n",
       "</script>"
      ],
      "text/plain": [
       "PreparedData(topic_coordinates=              x         y  topics  cluster       Freq\n",
       "topic                                                \n",
       "3      0.029579  0.079711       1        1  35.341480\n",
       "4      0.043124 -0.046370       2        1  32.485847\n",
       "1      0.070017  0.055520       3        1  15.123415\n",
       "2      0.067110 -0.082658       4        1  11.563123\n",
       "0     -0.209831 -0.006203       5        1   5.486133, topic_info=              Term         Freq        Total Category  logprob  loglift\n",
       "355       sentence  8822.000000  8822.000000  Default  30.0000  30.0000\n",
       "271       ontology  1177.000000  1177.000000  Default  29.0000  29.0000\n",
       "387        summary  5319.000000  5319.000000  Default  28.0000  28.0000\n",
       "385  summarization  3769.000000  3769.000000  Default  27.0000  27.0000\n",
       "109       document  3233.000000  3233.000000  Default  26.0000  26.0000\n",
       "..             ...          ...          ...      ...      ...      ...\n",
       "110         domain   110.978004   914.912720   Topic5  -5.3184   0.7935\n",
       "96       different   113.707169  1334.570557   Topic5  -5.2941   0.4402\n",
       "421           user   111.911598  1212.571655   Topic5  -5.3100   0.5202\n",
       "353       semantic   111.565643  1961.686768   Topic5  -5.3131   0.0360\n",
       "140        extract   109.995750  1104.491333   Topic5  -5.3272   0.5962\n",
       "\n",
       "[441 rows x 6 columns], token_table=       Topic      Freq         Term\n",
       "term                               \n",
       "3          1  0.058016  abstractive\n",
       "3          2  0.653730  abstractive\n",
       "3          3  0.060409  abstractive\n",
       "3          4  0.226682  abstractive\n",
       "3          5  0.001196  abstractive\n",
       "...      ...       ...          ...\n",
       "872        3  0.122691         work\n",
       "872        4  0.101327         work\n",
       "872        5  0.023195         work\n",
       "9773       3  0.988109        wound\n",
       "10829      2  0.983208         σgap\n",
       "\n",
       "[947 rows x 3 columns], R=30, lambda_step=0.01, plot_opts={'xlab': 'PC1', 'ylab': 'PC2'}, topic_order=[4, 5, 2, 3, 1])"
      ]
     },
     "execution_count": 28,
     "metadata": {},
     "output_type": "execute_result"
    }
   ],
   "source": [
    "# Visualize the topics\n",
    "pyLDAvis.enable_notebook()\n",
    "vis = pyLDAvis.gensim.prepare(models[3], corpus, id2word)\n",
    "vis"
   ]
  }
 ],
 "metadata": {
  "kernelspec": {
   "display_name": "Python 3",
   "language": "python",
   "name": "python3"
  },
  "language_info": {
   "codemirror_mode": {
    "name": "ipython",
    "version": 3
   },
   "file_extension": ".py",
   "mimetype": "text/x-python",
   "name": "python",
   "nbconvert_exporter": "python",
   "pygments_lexer": "ipython3",
   "version": "3.7.7"
  }
 },
 "nbformat": 4,
 "nbformat_minor": 4
}

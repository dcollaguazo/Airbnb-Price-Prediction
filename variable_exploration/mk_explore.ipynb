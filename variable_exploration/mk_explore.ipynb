{
 "cells": [
  {
   "cell_type": "markdown",
   "metadata": {},
   "source": [
    "# Exploring the Data\n",
    "This is using NY data. Looks like inside aribnb data is same format so it can be used for other cities\n"
   ]
  },
  {
   "cell_type": "code",
   "execution_count": 56,
   "metadata": {},
   "outputs": [],
   "source": [
    "import os\n",
    "import io\n",
    "import re\n",
    "import numpy as np;\n",
    "import pandas as pd;\n",
    "import matplotlib;\n",
    "import matplotlib.pyplot as plt;\n",
    "import seaborn as sns;\n",
    "\n",
    "import warnings\n",
    "warnings.filterwarnings('ignore')"
   ]
  },
  {
   "cell_type": "code",
   "execution_count": 57,
   "metadata": {},
   "outputs": [],
   "source": [
    "#read data, specify index so it's easier to join and search using loc\n",
    "path = '../data/new-york-city-airbnb-open-data/'\n",
    "listings_csv = os.path.join(path,'listings.csv')\n",
    "\n",
    "listings = pd.read_csv(listings_csv, index_col = 'id')"
   ]
  },
  {
   "cell_type": "code",
   "execution_count": 58,
   "metadata": {},
   "outputs": [
    {
     "output_type": "execute_result",
     "data": {
      "text/plain": "(50796, 105)"
     },
     "metadata": {},
     "execution_count": 58
    }
   ],
   "source": [
    "#shape\n",
    "listings.shape"
   ]
  },
  {
   "cell_type": "code",
   "execution_count": 59,
   "metadata": {},
   "outputs": [],
   "source": [
    "#to get all columns, set option\n",
    "pd.set_option('display.max_columns', 107)\n",
    "#to get text with no truncation\n",
    "pd.set_option('display.max_colwidth', -1)"
   ]
  },
  {
   "cell_type": "code",
   "execution_count": 60,
   "metadata": {},
   "outputs": [],
   "source": [
    "#get all columns exported into a file\n",
    "buffer = io.StringIO()\n",
    "listings.info(buf=buffer, verbose=True, null_counts=True)\n",
    "s = buffer.getvalue()\n",
    "\n",
    "with open('listings_info.txt', 'w',encoding=\"utf-8\") as f:\n",
    "    f.write(s)"
   ]
  },
  {
   "cell_type": "code",
   "execution_count": 61,
   "metadata": {},
   "outputs": [],
   "source": [
    "#clean up exported file from above so it can be imported to dataframe easily\n",
    "with open('listings_info.txt', 'r') as f:\n",
    "    lines = f.readlines()\n",
    "with open('listings_info_clean.txt', 'w') as f:\n",
    "    line_number = 0\n",
    "    for line in lines:\n",
    "        line_number = line_number + 1\n",
    "        if line_number not in [1,2,3,109,110]:\n",
    "            line1 = re.sub(' +', ' ', line)\n",
    "            f.write(line1)"
   ]
  },
  {
   "cell_type": "code",
   "execution_count": 65,
   "metadata": {},
   "outputs": [],
   "source": [
    "#read the output from cell above to data frame so it can be queried later\n",
    "listing_columns = pd.read_csv(\"listings_info_clean.txt\", delimiter=' ', header=None)"
   ]
  },
  {
   "cell_type": "code",
   "execution_count": 66,
   "metadata": {},
   "outputs": [
    {
     "output_type": "execute_result",
     "data": {
      "text/plain": "              0      1         2       3\n0  listing_url   50796  non-null  object\n1  scrape_id     50796  non-null  int64 \n2  last_scraped  50796  non-null  object\n3  name          50779  non-null  object\n4  summary       48341  non-null  object",
      "text/html": "<div>\n<style scoped>\n    .dataframe tbody tr th:only-of-type {\n        vertical-align: middle;\n    }\n\n    .dataframe tbody tr th {\n        vertical-align: top;\n    }\n\n    .dataframe thead th {\n        text-align: right;\n    }\n</style>\n<table border=\"1\" class=\"dataframe\">\n  <thead>\n    <tr style=\"text-align: right;\">\n      <th></th>\n      <th>0</th>\n      <th>1</th>\n      <th>2</th>\n      <th>3</th>\n    </tr>\n  </thead>\n  <tbody>\n    <tr>\n      <th>0</th>\n      <td>listing_url</td>\n      <td>50796</td>\n      <td>non-null</td>\n      <td>object</td>\n    </tr>\n    <tr>\n      <th>1</th>\n      <td>scrape_id</td>\n      <td>50796</td>\n      <td>non-null</td>\n      <td>int64</td>\n    </tr>\n    <tr>\n      <th>2</th>\n      <td>last_scraped</td>\n      <td>50796</td>\n      <td>non-null</td>\n      <td>object</td>\n    </tr>\n    <tr>\n      <th>3</th>\n      <td>name</td>\n      <td>50779</td>\n      <td>non-null</td>\n      <td>object</td>\n    </tr>\n    <tr>\n      <th>4</th>\n      <td>summary</td>\n      <td>48341</td>\n      <td>non-null</td>\n      <td>object</td>\n    </tr>\n  </tbody>\n</table>\n</div>"
     },
     "metadata": {},
     "execution_count": 66
    }
   ],
   "source": [
    "listing_columns.head()"
   ]
  },
  {
   "cell_type": "code",
   "execution_count": 67,
   "metadata": {},
   "outputs": [
    {
     "output_type": "execute_result",
     "data": {
      "text/plain": "['notes',\n 'thumbnail_url',\n 'medium_url',\n 'xl_picture_url',\n 'square_feet',\n 'weekly_price',\n 'monthly_price',\n 'license',\n 'jurisdiction_names']"
     },
     "metadata": {},
     "execution_count": 67
    }
   ],
   "source": [
    "#filter columns with 50% blank\n",
    "filt = (listing_columns[1] < 25000)\n",
    "remove_columns = listing_columns[0][filt].tolist()\n",
    "remove_columns"
   ]
  },
  {
   "cell_type": "code",
   "execution_count": 68,
   "metadata": {},
   "outputs": [
    {
     "output_type": "execute_result",
     "data": {
      "text/plain": "(50796, 96)"
     },
     "metadata": {},
     "execution_count": 68
    }
   ],
   "source": [
    "listings.drop(remove_columns, inplace=True, axis=1)\n",
    "#chek if columns are removed\n",
    "listings.shape"
   ]
  },
  {
   "cell_type": "code",
   "execution_count": null,
   "metadata": {},
   "outputs": [],
   "source": [
    "#show all columns for one listing\n",
    "listings.loc[702825]"
   ]
  },
  {
   "cell_type": "code",
   "execution_count": null,
   "metadata": {},
   "outputs": [],
   "source": [
    "#new df with only int and float columns, exclude object type\n",
    "listings_int_float = listings.select_dtypes(exclude=['object'], );\n",
    "listings_int_float.head()"
   ]
  },
  {
   "cell_type": "code",
   "execution_count": null,
   "metadata": {},
   "outputs": [],
   "source": [
    "#new df, select only few\n",
    "listings_select = listings[[#'id','scrape_id','host_id','host_listings_count',\n",
    "                          'host_total_listings_count','neighbourhood_cleansed',\n",
    "                          #'latitude','longitude',\n",
    "                          'accommodates','bathrooms',\n",
    "                          'bedrooms','beds','guests_included',\n",
    "                          'minimum_nights','maximum_nights',\n",
    "                          #'minimum_minimum_nights','maximum_minimum_nights',\n",
    "                          #'minimum_maximum_nights','maximum_maximum_nights',\n",
    "                          #'minimum_nights_avg_ntm','maximum_nights_avg_ntm',\n",
    "                          'availability_30','availability_60',\n",
    "                          #'availability_90','availability_365',\n",
    "                          'number_of_reviews','number_of_reviews_ltm'#,\n",
    "                          #'review_scores_rating','review_scores_accuracy',\n",
    "                          #'review_scores_cleanliness','review_scores_checkin',\n",
    "                          #'review_scores_communication',\n",
    "                          #'review_scores_location','review_scores_value','reviews_per_month',\n",
    "                          #'calculated_host_listings_count',\n",
    "                          #'calculated_host_listings_count_entire_homes',\n",
    "                          #'calculated_host_listings_count_private_rooms',\n",
    "                          #'calculated_host_listings_count_shared_rooms'\n",
    "                         ]]\n",
    "\n"
   ]
  },
  {
   "cell_type": "code",
   "execution_count": null,
   "metadata": {},
   "outputs": [],
   "source": [
    "# Using the Seaborn Pairplot to get cross plots between different attributes\n",
    "sns.pairplot(listings_select);"
   ]
  },
  {
   "cell_type": "code",
   "execution_count": null,
   "metadata": {},
   "outputs": [],
   "source": [
    "#heatmap for all int/float columns\n",
    "plt.figure(figsize=(12,10))\n",
    "correlations = listings_int_float.corr()\n",
    "sns.heatmap(correlations,\n",
    "           cmap='coolwarm');"
   ]
  },
  {
   "cell_type": "code",
   "execution_count": null,
   "metadata": {},
   "outputs": [],
   "source": []
  }
 ],
 "metadata": {
  "kernelspec": {
   "display_name": "Python 3",
   "language": "python",
   "name": "python3"
  },
  "language_info": {
   "codemirror_mode": {
    "name": "ipython",
    "version": 3
   },
   "file_extension": ".py",
   "mimetype": "text/x-python",
   "name": "python",
   "nbconvert_exporter": "python",
   "pygments_lexer": "ipython3",
   "version": "3.7.3-final"
  }
 },
 "nbformat": 4,
 "nbformat_minor": 2
}
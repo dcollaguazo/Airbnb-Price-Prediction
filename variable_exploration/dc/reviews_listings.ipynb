{
 "cells": [
  {
   "cell_type": "markdown",
   "metadata": {},
   "source": [
    "# How do star ratings work for stays?\n",
    "\n",
    "Source: https://www.airbnb.com/help/article/1257/how-do-star-ratings-work-for-stays\n",
    "\n",
    "\n",
    "In addition to written reviews, guests can submit an overall star rating and a set of category star ratings for their stay.\n",
    "\n",
    "Hosts can view their star ratings on their Progress page, under Reviews. Hosts using professional hosting tools can find reviews and quality details on their Performance page, under Quality.\n",
    "\n",
    "Guests can give ratings on:\n",
    "\n",
    "- **Overall experience.** Overall, how was the stay?\n",
    "- **Cleanliness.** Did guests feel that the space was clean and tidy?\n",
    "- **Accuracy.** How accurately did the listing page represent the space? For example, guests should be able to find up-to-date info and photos in the listing description.\n",
    "- **Value.** Did the guest feel that the listing provided good value for the price?\n",
    "- **Communication.** How well did you communicate before and during the stay? Guests often care that their host responds quickly, reliably, and frequently to their messages and questions.\n",
    "- **Check-in.** How smoothly did check-in go?\n",
    "- **Location.** How did guests feel about the neighborhood? This may mean that there's an accurate description for proximity and access to transportation, shopping centers, city center, etc., and a description that includes special considerations, like noise, and family safety.\n",
    "- **Amenities.** How did guests feel about the amenities that were available during their stay? Guests often care that all the amenities listed are available, working, and in good condition.\n",
    "\n",
    "In each category, hosts are able to see how often they get 5 stars, how guests rated nearby hosts, and, in some cases, tips to help improve the listing.\n",
    "\n",
    "The number of stars displayed at the top of a listing page is an aggregate of the primary scores guests have given for that listing. At the bottom of a listing page there's an aggregate for each category rating. A host needs to receive star ratings from at least 3 guests before their aggregate score appears.\n",
    "\n",
    "## Our contribution\n",
    "\n",
    "- Apply Bayesian Averaging in each type of rating because the data we use seems to have a broader spectrum of ratings from: 3-10\n",
    "- Determine what type of rating contributes the most to predicting price\n",
    "- Determine polarity in reviews\n",
    "- Determine the connection between review's polarity and rating (WIP)"
   ]
  },
  {
   "cell_type": "code",
   "execution_count": 1,
   "metadata": {},
   "outputs": [],
   "source": [
    "import pandas as pd\n",
    "import datetime\n",
    "from re import sub\n",
    "import warnings\n",
    "\n",
    "from sklearn import preprocessing\n",
    "from sklearn.model_selection import train_test_split as tts\n",
    "from sklearn.ensemble import RandomForestRegressor\n",
    "from sklearn.model_selection import cross_val_score\n",
    "from sklearn.feature_selection import SelectFromModel\n",
    "\n",
    "import numpy as np\n",
    "\n",
    "warnings.filterwarnings(\"ignore\")\n",
    "\n",
    "import seaborn as sns\n",
    "# import matplotlib as plt\n",
    "import matplotlib.pyplot as plt\n",
    "\n",
    "from yellowbrick.features import rank2d\n",
    "from yellowbrick.classifier import confusion_matrix\n",
    "from yellowbrick.classifier import classification_report\n",
    "from yellowbrick.regressor import prediction_error, ResidualsPlot\n",
    "\n",
    "# Change pandas viewing options\n",
    "pd.set_option('display.max_rows', 500)\n",
    "pd.set_option('display.max_columns', 500)\n",
    "pd.set_option('display.width', 1000)"
   ]
  },
  {
   "cell_type": "markdown",
   "metadata": {},
   "source": [
    "## Importing Data"
   ]
  },
  {
   "cell_type": "code",
   "execution_count": 2,
   "metadata": {},
   "outputs": [],
   "source": [
    "df_listings = pd.read_csv(\"../../data/new-york-city-airbnb-open-data/listings.csv\")\n",
    "df_cal = pd.read_csv(\"../../data/new-york-city-airbnb-open-data/calendar.csv\")\n",
    "df_reviews_w_polarity = pd.read_csv('output/reviews_with_sentiment_and_lang.csv')"
   ]
  },
  {
   "cell_type": "code",
   "execution_count": 3,
   "metadata": {},
   "outputs": [],
   "source": [
    "cols_to_keep = ['id','host_acceptance_rate','number_of_reviews',\n",
    "                'number_of_reviews_ltm','review_scores_rating', \n",
    "                'review_scores_accuracy','review_scores_cleanliness', \n",
    "                'review_scores_checkin', 'review_scores_communication',\n",
    "                'review_scores_location', 'review_scores_value','price']\n",
    "\n",
    "df_listings = df_listings[cols_to_keep]"
   ]
  },
  {
   "cell_type": "markdown",
   "metadata": {},
   "source": [
    "## Applying Bayesian Averaging to Normalize rating columns\n",
    "Source: based on https://stackoverflow.com/questions/54357300/bayesian-averaging-in-a-dataframe\n",
    "\n",
    "Bayesian Average\n",
    "\n",
    "S = score of the listing normalized using BA<br />\n",
    "R = average of user ratings for each listing<br />\n",
    "C = average of user ratings for all listings<br />\n",
    "w = weight assigned to R and computed as v/(v+m), where v is the number of user ratings for each listing, and m is average number of reviews for all listings."
   ]
  },
  {
   "cell_type": "code",
   "execution_count": 4,
   "metadata": {},
   "outputs": [],
   "source": [
    "# number_of_reviews == v\n",
    "# calculating the mean and median of \"number_of_reviews\"\n",
    "m = np.mean(df_listings['number_of_reviews'])\n",
    "md = np.median(df_listings['number_of_reviews'])\n",
    "\n",
    "# print(m,md)\n",
    "\n",
    "# calculating w\n",
    "df_listings['w'] = df_listings['number_of_reviews']/(df_listings['number_of_reviews'] + m)"
   ]
  },
  {
   "cell_type": "code",
   "execution_count": 5,
   "metadata": {},
   "outputs": [],
   "source": [
    "def bayesian_averaging_rev_scores(col):\n",
    "    df = df_listings[col]\n",
    "    df = df_listings[['id','number_of_reviews', col]]\n",
    "\n",
    "    # renaming column\n",
    "    df.rename(columns={\"id\": \"listing_id\"}, inplace=True)\n",
    "\n",
    "    temp = df.groupby('listing_id', \n",
    "                            as_index=False\n",
    "                           ).agg({col: lambda x: x.mean(skipna=False)})\n",
    "\n",
    "    # calculating R\n",
    "    df = pd.merge(left=df, right=temp, \n",
    "                           how='left', on='listing_id')\n",
    "\n",
    "    # Calculating C\n",
    "    col_C = col + '_x'\n",
    "    col_C_= col + '_y'\n",
    "    C = df[col_C].mean()\n",
    "    \n",
    "    # Calculating S\n",
    "    col_S = col + '_norm'\n",
    "    df[col_S] = df_listings['w']*df[col_C] + (1 - df_listings['w'])*C\n",
    "\n",
    "    df = df.drop(['number_of_reviews', col_C, col_C_], axis=1)\n",
    "    \n",
    "    return df"
   ]
  },
  {
   "cell_type": "code",
   "execution_count": 6,
   "metadata": {},
   "outputs": [],
   "source": [
    "df_1 = bayesian_averaging_rev_scores('review_scores_value')\n",
    "df_2 = bayesian_averaging_rev_scores('review_scores_location')\n",
    "df_3 = bayesian_averaging_rev_scores('review_scores_communication')\n",
    "df_4 = bayesian_averaging_rev_scores('review_scores_checkin')\n",
    "df_5 = bayesian_averaging_rev_scores('review_scores_cleanliness')\n",
    "df_6 = bayesian_averaging_rev_scores('review_scores_accuracy')\n",
    "df_7 = bayesian_averaging_rev_scores('review_scores_rating')"
   ]
  },
  {
   "cell_type": "code",
   "execution_count": 7,
   "metadata": {},
   "outputs": [],
   "source": [
    "dfs = pd.concat([df_1, df_2, df_3, df_4,df_5, df_6, df_7], axis=1)"
   ]
  },
  {
   "cell_type": "code",
   "execution_count": 8,
   "metadata": {},
   "outputs": [],
   "source": [
    "# removing duplicated columns\n",
    "dfs = dfs.loc[:,~dfs.columns.duplicated()]"
   ]
  },
  {
   "cell_type": "code",
   "execution_count": 9,
   "metadata": {},
   "outputs": [
    {
     "data": {
      "text/html": [
       "<div>\n",
       "<style scoped>\n",
       "    .dataframe tbody tr th:only-of-type {\n",
       "        vertical-align: middle;\n",
       "    }\n",
       "\n",
       "    .dataframe tbody tr th {\n",
       "        vertical-align: top;\n",
       "    }\n",
       "\n",
       "    .dataframe thead th {\n",
       "        text-align: right;\n",
       "    }\n",
       "</style>\n",
       "<table border=\"1\" class=\"dataframe\">\n",
       "  <thead>\n",
       "    <tr style=\"text-align: right;\">\n",
       "      <th></th>\n",
       "      <th>listing_id</th>\n",
       "      <th>review_scores_value_norm</th>\n",
       "      <th>review_scores_location_norm</th>\n",
       "      <th>review_scores_communication_norm</th>\n",
       "      <th>review_scores_checkin_norm</th>\n",
       "      <th>review_scores_cleanliness_norm</th>\n",
       "      <th>review_scores_accuracy_norm</th>\n",
       "      <th>review_scores_rating_norm</th>\n",
       "    </tr>\n",
       "  </thead>\n",
       "  <tbody>\n",
       "    <tr>\n",
       "      <th>0</th>\n",
       "      <td>2060</td>\n",
       "      <td>NaN</td>\n",
       "      <td>NaN</td>\n",
       "      <td>NaN</td>\n",
       "      <td>NaN</td>\n",
       "      <td>NaN</td>\n",
       "      <td>NaN</td>\n",
       "      <td>93.370047</td>\n",
       "    </tr>\n",
       "    <tr>\n",
       "      <th>1</th>\n",
       "      <td>2595</td>\n",
       "      <td>9.132591</td>\n",
       "      <td>9.862660</td>\n",
       "      <td>9.910794</td>\n",
       "      <td>9.909003</td>\n",
       "      <td>9.097538</td>\n",
       "      <td>9.210564</td>\n",
       "      <td>93.966758</td>\n",
       "    </tr>\n",
       "    <tr>\n",
       "      <th>2</th>\n",
       "      <td>3831</td>\n",
       "      <td>8.102845</td>\n",
       "      <td>9.970312</td>\n",
       "      <td>9.980717</td>\n",
       "      <td>9.980330</td>\n",
       "      <td>9.021084</td>\n",
       "      <td>9.045516</td>\n",
       "      <td>90.289551</td>\n",
       "    </tr>\n",
       "    <tr>\n",
       "      <th>3</th>\n",
       "      <td>5099</td>\n",
       "      <td>9.094002</td>\n",
       "      <td>9.902631</td>\n",
       "      <td>9.936756</td>\n",
       "      <td>9.935486</td>\n",
       "      <td>9.069151</td>\n",
       "      <td>9.905974</td>\n",
       "      <td>90.949664</td>\n",
       "    </tr>\n",
       "    <tr>\n",
       "      <th>4</th>\n",
       "      <td>5114</td>\n",
       "      <td>9.846219</td>\n",
       "      <td>9.899712</td>\n",
       "      <td>9.934860</td>\n",
       "      <td>9.933552</td>\n",
       "      <td>9.820622</td>\n",
       "      <td>9.903156</td>\n",
       "      <td>93.975726</td>\n",
       "    </tr>\n",
       "  </tbody>\n",
       "</table>\n",
       "</div>"
      ],
      "text/plain": [
       "   listing_id  review_scores_value_norm  review_scores_location_norm  review_scores_communication_norm  review_scores_checkin_norm  review_scores_cleanliness_norm  review_scores_accuracy_norm  review_scores_rating_norm\n",
       "0        2060                       NaN                          NaN                               NaN                         NaN                             NaN                          NaN                  93.370047\n",
       "1        2595                  9.132591                     9.862660                          9.910794                    9.909003                        9.097538                     9.210564                  93.966758\n",
       "2        3831                  8.102845                     9.970312                          9.980717                    9.980330                        9.021084                     9.045516                  90.289551\n",
       "3        5099                  9.094002                     9.902631                          9.936756                    9.935486                        9.069151                     9.905974                  90.949664\n",
       "4        5114                  9.846219                     9.899712                          9.934860                    9.933552                        9.820622                     9.903156                  93.975726"
      ]
     },
     "execution_count": 9,
     "metadata": {},
     "output_type": "execute_result"
    }
   ],
   "source": [
    "dfs.head()"
   ]
  },
  {
   "cell_type": "markdown",
   "metadata": {},
   "source": [
    "## Applying Bayesian Averaging to normalize polarity\n",
    "Source: based on https://stackoverflow.com/questions/54357300/bayesian-averaging-in-a-dataframe\n",
    "\n",
    "Bayesian Average\n",
    "\n",
    "S = score of the polarity normalized using BA<br />\n",
    "R = average of polarity for each listing<br />\n",
    "C = average of polarity of all listings<br />\n",
    "w = weight assigned to R and computed as v/(v+m), where v is the number of user reviews for each listing, and m is average number of reviews for all listings."
   ]
  },
  {
   "cell_type": "code",
   "execution_count": 10,
   "metadata": {},
   "outputs": [],
   "source": [
    "# getting only reviews in English\n",
    "df_rev_eng=df_reviews_w_polarity[df_reviews_w_polarity.review_lang=='en']\n",
    "\n",
    "# slicing DF\n",
    "df_rev_pol = df_rev_eng.loc[:,['id','listing_id','polarity']]"
   ]
  },
  {
   "cell_type": "code",
   "execution_count": 11,
   "metadata": {},
   "outputs": [],
   "source": [
    "# counting number of reviews per listing\n",
    "df_counts = df_rev_pol.listing_id.value_counts().rename_axis('listing_id').reset_index(name='counts')"
   ]
  },
  {
   "cell_type": "code",
   "execution_count": 12,
   "metadata": {},
   "outputs": [
    {
     "data": {
      "text/html": [
       "<div>\n",
       "<style scoped>\n",
       "    .dataframe tbody tr th:only-of-type {\n",
       "        vertical-align: middle;\n",
       "    }\n",
       "\n",
       "    .dataframe tbody tr th {\n",
       "        vertical-align: top;\n",
       "    }\n",
       "\n",
       "    .dataframe thead th {\n",
       "        text-align: right;\n",
       "    }\n",
       "</style>\n",
       "<table border=\"1\" class=\"dataframe\">\n",
       "  <thead>\n",
       "    <tr style=\"text-align: right;\">\n",
       "      <th></th>\n",
       "      <th>listing_id</th>\n",
       "      <th>counts</th>\n",
       "    </tr>\n",
       "  </thead>\n",
       "  <tbody>\n",
       "    <tr>\n",
       "      <th>0</th>\n",
       "      <td>9145202</td>\n",
       "      <td>544</td>\n",
       "    </tr>\n",
       "    <tr>\n",
       "      <th>1</th>\n",
       "      <td>834190</td>\n",
       "      <td>518</td>\n",
       "    </tr>\n",
       "    <tr>\n",
       "      <th>2</th>\n",
       "      <td>105790</td>\n",
       "      <td>502</td>\n",
       "    </tr>\n",
       "    <tr>\n",
       "      <th>3</th>\n",
       "      <td>903972</td>\n",
       "      <td>490</td>\n",
       "    </tr>\n",
       "    <tr>\n",
       "      <th>4</th>\n",
       "      <td>195233</td>\n",
       "      <td>481</td>\n",
       "    </tr>\n",
       "  </tbody>\n",
       "</table>\n",
       "</div>"
      ],
      "text/plain": [
       "   listing_id  counts\n",
       "0     9145202     544\n",
       "1      834190     518\n",
       "2      105790     502\n",
       "3      903972     490\n",
       "4      195233     481"
      ]
     },
     "execution_count": 12,
     "metadata": {},
     "output_type": "execute_result"
    }
   ],
   "source": [
    "df_counts.head()"
   ]
  },
  {
   "cell_type": "code",
   "execution_count": 13,
   "metadata": {},
   "outputs": [],
   "source": [
    "# calculating the mean and median of \"number_of_reviews\"\n",
    "m = np.mean(df_counts['counts'])\n",
    "md = np.median(df_counts['counts'])"
   ]
  },
  {
   "cell_type": "code",
   "execution_count": 14,
   "metadata": {},
   "outputs": [],
   "source": [
    "# merging df_counts with df_rev_pol\n",
    "df_rev_pol = pd.merge(left=df_rev_pol, right=df_counts, how='left', on='listing_id')"
   ]
  },
  {
   "cell_type": "code",
   "execution_count": 15,
   "metadata": {},
   "outputs": [
    {
     "data": {
      "text/html": [
       "<div>\n",
       "<style scoped>\n",
       "    .dataframe tbody tr th:only-of-type {\n",
       "        vertical-align: middle;\n",
       "    }\n",
       "\n",
       "    .dataframe tbody tr th {\n",
       "        vertical-align: top;\n",
       "    }\n",
       "\n",
       "    .dataframe thead th {\n",
       "        text-align: right;\n",
       "    }\n",
       "</style>\n",
       "<table border=\"1\" class=\"dataframe\">\n",
       "  <thead>\n",
       "    <tr style=\"text-align: right;\">\n",
       "      <th></th>\n",
       "      <th>id</th>\n",
       "      <th>listing_id</th>\n",
       "      <th>polarity</th>\n",
       "      <th>counts</th>\n",
       "    </tr>\n",
       "  </thead>\n",
       "  <tbody>\n",
       "    <tr>\n",
       "      <th>0</th>\n",
       "      <td>158</td>\n",
       "      <td>2060</td>\n",
       "      <td>0.8928</td>\n",
       "      <td>1</td>\n",
       "    </tr>\n",
       "    <tr>\n",
       "      <th>1</th>\n",
       "      <td>19760</td>\n",
       "      <td>2595</td>\n",
       "      <td>0.9248</td>\n",
       "      <td>41</td>\n",
       "    </tr>\n",
       "    <tr>\n",
       "      <th>2</th>\n",
       "      <td>34320</td>\n",
       "      <td>2595</td>\n",
       "      <td>0.9229</td>\n",
       "      <td>41</td>\n",
       "    </tr>\n",
       "    <tr>\n",
       "      <th>3</th>\n",
       "      <td>46312</td>\n",
       "      <td>2595</td>\n",
       "      <td>0.9464</td>\n",
       "      <td>41</td>\n",
       "    </tr>\n",
       "    <tr>\n",
       "      <th>4</th>\n",
       "      <td>1238204</td>\n",
       "      <td>2595</td>\n",
       "      <td>0.9869</td>\n",
       "      <td>41</td>\n",
       "    </tr>\n",
       "  </tbody>\n",
       "</table>\n",
       "</div>"
      ],
      "text/plain": [
       "        id  listing_id  polarity  counts\n",
       "0      158        2060    0.8928       1\n",
       "1    19760        2595    0.9248      41\n",
       "2    34320        2595    0.9229      41\n",
       "3    46312        2595    0.9464      41\n",
       "4  1238204        2595    0.9869      41"
      ]
     },
     "execution_count": 15,
     "metadata": {},
     "output_type": "execute_result"
    }
   ],
   "source": [
    "df_rev_pol.head()"
   ]
  },
  {
   "cell_type": "code",
   "execution_count": 16,
   "metadata": {},
   "outputs": [],
   "source": [
    "# calculating w\n",
    "df_rev_pol['w'] = df_rev_pol['counts']/(df_rev_pol['counts'] + m)"
   ]
  },
  {
   "cell_type": "code",
   "execution_count": 17,
   "metadata": {},
   "outputs": [
    {
     "data": {
      "text/html": [
       "<div>\n",
       "<style scoped>\n",
       "    .dataframe tbody tr th:only-of-type {\n",
       "        vertical-align: middle;\n",
       "    }\n",
       "\n",
       "    .dataframe tbody tr th {\n",
       "        vertical-align: top;\n",
       "    }\n",
       "\n",
       "    .dataframe thead th {\n",
       "        text-align: right;\n",
       "    }\n",
       "</style>\n",
       "<table border=\"1\" class=\"dataframe\">\n",
       "  <thead>\n",
       "    <tr style=\"text-align: right;\">\n",
       "      <th></th>\n",
       "      <th>id</th>\n",
       "      <th>listing_id</th>\n",
       "      <th>polarity</th>\n",
       "      <th>counts</th>\n",
       "      <th>w</th>\n",
       "    </tr>\n",
       "  </thead>\n",
       "  <tbody>\n",
       "    <tr>\n",
       "      <th>0</th>\n",
       "      <td>158</td>\n",
       "      <td>2060</td>\n",
       "      <td>0.8928</td>\n",
       "      <td>1</td>\n",
       "      <td>0.037397</td>\n",
       "    </tr>\n",
       "    <tr>\n",
       "      <th>1</th>\n",
       "      <td>19760</td>\n",
       "      <td>2595</td>\n",
       "      <td>0.9248</td>\n",
       "      <td>41</td>\n",
       "      <td>0.614322</td>\n",
       "    </tr>\n",
       "    <tr>\n",
       "      <th>2</th>\n",
       "      <td>34320</td>\n",
       "      <td>2595</td>\n",
       "      <td>0.9229</td>\n",
       "      <td>41</td>\n",
       "      <td>0.614322</td>\n",
       "    </tr>\n",
       "    <tr>\n",
       "      <th>3</th>\n",
       "      <td>46312</td>\n",
       "      <td>2595</td>\n",
       "      <td>0.9464</td>\n",
       "      <td>41</td>\n",
       "      <td>0.614322</td>\n",
       "    </tr>\n",
       "    <tr>\n",
       "      <th>4</th>\n",
       "      <td>1238204</td>\n",
       "      <td>2595</td>\n",
       "      <td>0.9869</td>\n",
       "      <td>41</td>\n",
       "      <td>0.614322</td>\n",
       "    </tr>\n",
       "  </tbody>\n",
       "</table>\n",
       "</div>"
      ],
      "text/plain": [
       "        id  listing_id  polarity  counts         w\n",
       "0      158        2060    0.8928       1  0.037397\n",
       "1    19760        2595    0.9248      41  0.614322\n",
       "2    34320        2595    0.9229      41  0.614322\n",
       "3    46312        2595    0.9464      41  0.614322\n",
       "4  1238204        2595    0.9869      41  0.614322"
      ]
     },
     "execution_count": 17,
     "metadata": {},
     "output_type": "execute_result"
    }
   ],
   "source": [
    "df_rev_pol.head()"
   ]
  },
  {
   "cell_type": "code",
   "execution_count": 18,
   "metadata": {},
   "outputs": [],
   "source": [
    "# calculating R: average of polarity for each listing\n",
    "R = df_rev_pol.groupby('listing_id', \n",
    "                            as_index=False\n",
    "                           ).agg({'polarity': lambda x: x.mean(skipna=False)})"
   ]
  },
  {
   "cell_type": "code",
   "execution_count": 19,
   "metadata": {},
   "outputs": [],
   "source": [
    "df_rev_pol = pd.merge(left=df_rev_pol, right=R, \n",
    "                           how='left', on='listing_id')"
   ]
  },
  {
   "cell_type": "code",
   "execution_count": 20,
   "metadata": {},
   "outputs": [
    {
     "data": {
      "text/html": [
       "<div>\n",
       "<style scoped>\n",
       "    .dataframe tbody tr th:only-of-type {\n",
       "        vertical-align: middle;\n",
       "    }\n",
       "\n",
       "    .dataframe tbody tr th {\n",
       "        vertical-align: top;\n",
       "    }\n",
       "\n",
       "    .dataframe thead th {\n",
       "        text-align: right;\n",
       "    }\n",
       "</style>\n",
       "<table border=\"1\" class=\"dataframe\">\n",
       "  <thead>\n",
       "    <tr style=\"text-align: right;\">\n",
       "      <th></th>\n",
       "      <th>id</th>\n",
       "      <th>listing_id</th>\n",
       "      <th>polarity_x</th>\n",
       "      <th>counts</th>\n",
       "      <th>w</th>\n",
       "      <th>polarity_y</th>\n",
       "    </tr>\n",
       "  </thead>\n",
       "  <tbody>\n",
       "    <tr>\n",
       "      <th>0</th>\n",
       "      <td>158</td>\n",
       "      <td>2060</td>\n",
       "      <td>0.8928</td>\n",
       "      <td>1</td>\n",
       "      <td>0.037397</td>\n",
       "      <td>0.8928</td>\n",
       "    </tr>\n",
       "    <tr>\n",
       "      <th>1</th>\n",
       "      <td>19760</td>\n",
       "      <td>2595</td>\n",
       "      <td>0.9248</td>\n",
       "      <td>41</td>\n",
       "      <td>0.614322</td>\n",
       "      <td>0.8151</td>\n",
       "    </tr>\n",
       "    <tr>\n",
       "      <th>2</th>\n",
       "      <td>34320</td>\n",
       "      <td>2595</td>\n",
       "      <td>0.9229</td>\n",
       "      <td>41</td>\n",
       "      <td>0.614322</td>\n",
       "      <td>0.8151</td>\n",
       "    </tr>\n",
       "    <tr>\n",
       "      <th>3</th>\n",
       "      <td>46312</td>\n",
       "      <td>2595</td>\n",
       "      <td>0.9464</td>\n",
       "      <td>41</td>\n",
       "      <td>0.614322</td>\n",
       "      <td>0.8151</td>\n",
       "    </tr>\n",
       "    <tr>\n",
       "      <th>4</th>\n",
       "      <td>1238204</td>\n",
       "      <td>2595</td>\n",
       "      <td>0.9869</td>\n",
       "      <td>41</td>\n",
       "      <td>0.614322</td>\n",
       "      <td>0.8151</td>\n",
       "    </tr>\n",
       "  </tbody>\n",
       "</table>\n",
       "</div>"
      ],
      "text/plain": [
       "        id  listing_id  polarity_x  counts         w  polarity_y\n",
       "0      158        2060      0.8928       1  0.037397      0.8928\n",
       "1    19760        2595      0.9248      41  0.614322      0.8151\n",
       "2    34320        2595      0.9229      41  0.614322      0.8151\n",
       "3    46312        2595      0.9464      41  0.614322      0.8151\n",
       "4  1238204        2595      0.9869      41  0.614322      0.8151"
      ]
     },
     "execution_count": 20,
     "metadata": {},
     "output_type": "execute_result"
    }
   ],
   "source": [
    "df_rev_pol.head()"
   ]
  },
  {
   "cell_type": "code",
   "execution_count": 21,
   "metadata": {},
   "outputs": [],
   "source": [
    "# Calculating C = average of polarity for all listings\n",
    "df_rev_pol['C'] = df_rev_pol['polarity_y'].mean()"
   ]
  },
  {
   "cell_type": "code",
   "execution_count": 22,
   "metadata": {},
   "outputs": [
    {
     "data": {
      "text/html": [
       "<div>\n",
       "<style scoped>\n",
       "    .dataframe tbody tr th:only-of-type {\n",
       "        vertical-align: middle;\n",
       "    }\n",
       "\n",
       "    .dataframe tbody tr th {\n",
       "        vertical-align: top;\n",
       "    }\n",
       "\n",
       "    .dataframe thead th {\n",
       "        text-align: right;\n",
       "    }\n",
       "</style>\n",
       "<table border=\"1\" class=\"dataframe\">\n",
       "  <thead>\n",
       "    <tr style=\"text-align: right;\">\n",
       "      <th></th>\n",
       "      <th>id</th>\n",
       "      <th>listing_id</th>\n",
       "      <th>polarity_x</th>\n",
       "      <th>counts</th>\n",
       "      <th>w</th>\n",
       "      <th>polarity_y</th>\n",
       "      <th>C</th>\n",
       "    </tr>\n",
       "  </thead>\n",
       "  <tbody>\n",
       "    <tr>\n",
       "      <th>0</th>\n",
       "      <td>158</td>\n",
       "      <td>2060</td>\n",
       "      <td>0.8928</td>\n",
       "      <td>1</td>\n",
       "      <td>0.037397</td>\n",
       "      <td>0.8928</td>\n",
       "      <td>0.843182</td>\n",
       "    </tr>\n",
       "    <tr>\n",
       "      <th>1</th>\n",
       "      <td>19760</td>\n",
       "      <td>2595</td>\n",
       "      <td>0.9248</td>\n",
       "      <td>41</td>\n",
       "      <td>0.614322</td>\n",
       "      <td>0.8151</td>\n",
       "      <td>0.843182</td>\n",
       "    </tr>\n",
       "    <tr>\n",
       "      <th>2</th>\n",
       "      <td>34320</td>\n",
       "      <td>2595</td>\n",
       "      <td>0.9229</td>\n",
       "      <td>41</td>\n",
       "      <td>0.614322</td>\n",
       "      <td>0.8151</td>\n",
       "      <td>0.843182</td>\n",
       "    </tr>\n",
       "    <tr>\n",
       "      <th>3</th>\n",
       "      <td>46312</td>\n",
       "      <td>2595</td>\n",
       "      <td>0.9464</td>\n",
       "      <td>41</td>\n",
       "      <td>0.614322</td>\n",
       "      <td>0.8151</td>\n",
       "      <td>0.843182</td>\n",
       "    </tr>\n",
       "    <tr>\n",
       "      <th>4</th>\n",
       "      <td>1238204</td>\n",
       "      <td>2595</td>\n",
       "      <td>0.9869</td>\n",
       "      <td>41</td>\n",
       "      <td>0.614322</td>\n",
       "      <td>0.8151</td>\n",
       "      <td>0.843182</td>\n",
       "    </tr>\n",
       "  </tbody>\n",
       "</table>\n",
       "</div>"
      ],
      "text/plain": [
       "        id  listing_id  polarity_x  counts         w  polarity_y         C\n",
       "0      158        2060      0.8928       1  0.037397      0.8928  0.843182\n",
       "1    19760        2595      0.9248      41  0.614322      0.8151  0.843182\n",
       "2    34320        2595      0.9229      41  0.614322      0.8151  0.843182\n",
       "3    46312        2595      0.9464      41  0.614322      0.8151  0.843182\n",
       "4  1238204        2595      0.9869      41  0.614322      0.8151  0.843182"
      ]
     },
     "execution_count": 22,
     "metadata": {},
     "output_type": "execute_result"
    }
   ],
   "source": [
    "df_rev_pol.head()"
   ]
  },
  {
   "cell_type": "code",
   "execution_count": 23,
   "metadata": {},
   "outputs": [],
   "source": [
    "# Calculating S = polarity normalized using BA\n",
    "# col_S = col + '_norm'\n",
    "df_rev_pol['polarity_norm'] = df_rev_pol['w']*df_rev_pol['C'] + (1 - df_rev_pol['w'])*df_rev_pol['C']"
   ]
  },
  {
   "cell_type": "code",
   "execution_count": 24,
   "metadata": {},
   "outputs": [
    {
     "data": {
      "text/html": [
       "<div>\n",
       "<style scoped>\n",
       "    .dataframe tbody tr th:only-of-type {\n",
       "        vertical-align: middle;\n",
       "    }\n",
       "\n",
       "    .dataframe tbody tr th {\n",
       "        vertical-align: top;\n",
       "    }\n",
       "\n",
       "    .dataframe thead th {\n",
       "        text-align: right;\n",
       "    }\n",
       "</style>\n",
       "<table border=\"1\" class=\"dataframe\">\n",
       "  <thead>\n",
       "    <tr style=\"text-align: right;\">\n",
       "      <th></th>\n",
       "      <th>id</th>\n",
       "      <th>listing_id</th>\n",
       "      <th>polarity_x</th>\n",
       "      <th>counts</th>\n",
       "      <th>w</th>\n",
       "      <th>polarity_y</th>\n",
       "      <th>C</th>\n",
       "      <th>polarity_norm</th>\n",
       "    </tr>\n",
       "  </thead>\n",
       "  <tbody>\n",
       "    <tr>\n",
       "      <th>0</th>\n",
       "      <td>158</td>\n",
       "      <td>2060</td>\n",
       "      <td>0.8928</td>\n",
       "      <td>1</td>\n",
       "      <td>0.037397</td>\n",
       "      <td>0.8928</td>\n",
       "      <td>0.843182</td>\n",
       "      <td>0.843182</td>\n",
       "    </tr>\n",
       "    <tr>\n",
       "      <th>1</th>\n",
       "      <td>19760</td>\n",
       "      <td>2595</td>\n",
       "      <td>0.9248</td>\n",
       "      <td>41</td>\n",
       "      <td>0.614322</td>\n",
       "      <td>0.8151</td>\n",
       "      <td>0.843182</td>\n",
       "      <td>0.843182</td>\n",
       "    </tr>\n",
       "    <tr>\n",
       "      <th>2</th>\n",
       "      <td>34320</td>\n",
       "      <td>2595</td>\n",
       "      <td>0.9229</td>\n",
       "      <td>41</td>\n",
       "      <td>0.614322</td>\n",
       "      <td>0.8151</td>\n",
       "      <td>0.843182</td>\n",
       "      <td>0.843182</td>\n",
       "    </tr>\n",
       "    <tr>\n",
       "      <th>3</th>\n",
       "      <td>46312</td>\n",
       "      <td>2595</td>\n",
       "      <td>0.9464</td>\n",
       "      <td>41</td>\n",
       "      <td>0.614322</td>\n",
       "      <td>0.8151</td>\n",
       "      <td>0.843182</td>\n",
       "      <td>0.843182</td>\n",
       "    </tr>\n",
       "    <tr>\n",
       "      <th>4</th>\n",
       "      <td>1238204</td>\n",
       "      <td>2595</td>\n",
       "      <td>0.9869</td>\n",
       "      <td>41</td>\n",
       "      <td>0.614322</td>\n",
       "      <td>0.8151</td>\n",
       "      <td>0.843182</td>\n",
       "      <td>0.843182</td>\n",
       "    </tr>\n",
       "  </tbody>\n",
       "</table>\n",
       "</div>"
      ],
      "text/plain": [
       "        id  listing_id  polarity_x  counts         w  polarity_y         C  polarity_norm\n",
       "0      158        2060      0.8928       1  0.037397      0.8928  0.843182       0.843182\n",
       "1    19760        2595      0.9248      41  0.614322      0.8151  0.843182       0.843182\n",
       "2    34320        2595      0.9229      41  0.614322      0.8151  0.843182       0.843182\n",
       "3    46312        2595      0.9464      41  0.614322      0.8151  0.843182       0.843182\n",
       "4  1238204        2595      0.9869      41  0.614322      0.8151  0.843182       0.843182"
      ]
     },
     "execution_count": 24,
     "metadata": {},
     "output_type": "execute_result"
    }
   ],
   "source": [
    "df_rev_pol.head()"
   ]
  },
  {
   "cell_type": "code",
   "execution_count": 25,
   "metadata": {},
   "outputs": [],
   "source": [
    "df_rev_pol = df_rev_pol.drop(['id','polarity_x','counts','w','polarity_y','C'], axis=1)"
   ]
  },
  {
   "cell_type": "code",
   "execution_count": 26,
   "metadata": {},
   "outputs": [
    {
     "data": {
      "text/html": [
       "<div>\n",
       "<style scoped>\n",
       "    .dataframe tbody tr th:only-of-type {\n",
       "        vertical-align: middle;\n",
       "    }\n",
       "\n",
       "    .dataframe tbody tr th {\n",
       "        vertical-align: top;\n",
       "    }\n",
       "\n",
       "    .dataframe thead th {\n",
       "        text-align: right;\n",
       "    }\n",
       "</style>\n",
       "<table border=\"1\" class=\"dataframe\">\n",
       "  <thead>\n",
       "    <tr style=\"text-align: right;\">\n",
       "      <th></th>\n",
       "      <th>listing_id</th>\n",
       "      <th>polarity_norm</th>\n",
       "    </tr>\n",
       "  </thead>\n",
       "  <tbody>\n",
       "    <tr>\n",
       "      <th>0</th>\n",
       "      <td>2060</td>\n",
       "      <td>0.843182</td>\n",
       "    </tr>\n",
       "    <tr>\n",
       "      <th>1</th>\n",
       "      <td>2595</td>\n",
       "      <td>0.843182</td>\n",
       "    </tr>\n",
       "    <tr>\n",
       "      <th>2</th>\n",
       "      <td>2595</td>\n",
       "      <td>0.843182</td>\n",
       "    </tr>\n",
       "    <tr>\n",
       "      <th>3</th>\n",
       "      <td>2595</td>\n",
       "      <td>0.843182</td>\n",
       "    </tr>\n",
       "    <tr>\n",
       "      <th>4</th>\n",
       "      <td>2595</td>\n",
       "      <td>0.843182</td>\n",
       "    </tr>\n",
       "  </tbody>\n",
       "</table>\n",
       "</div>"
      ],
      "text/plain": [
       "   listing_id  polarity_norm\n",
       "0        2060       0.843182\n",
       "1        2595       0.843182\n",
       "2        2595       0.843182\n",
       "3        2595       0.843182\n",
       "4        2595       0.843182"
      ]
     },
     "execution_count": 26,
     "metadata": {},
     "output_type": "execute_result"
    }
   ],
   "source": [
    "df_rev_pol.head()"
   ]
  },
  {
   "cell_type": "markdown",
   "metadata": {},
   "source": [
    "# Modeling"
   ]
  },
  {
   "cell_type": "code",
   "execution_count": 27,
   "metadata": {},
   "outputs": [],
   "source": [
    "# adding polairty normalized to the features\n",
    "dfs = pd.merge(left=dfs, right=df_rev_pol, on='listing_id')"
   ]
  },
  {
   "cell_type": "code",
   "execution_count": 28,
   "metadata": {},
   "outputs": [
    {
     "data": {
      "text/html": [
       "<div>\n",
       "<style scoped>\n",
       "    .dataframe tbody tr th:only-of-type {\n",
       "        vertical-align: middle;\n",
       "    }\n",
       "\n",
       "    .dataframe tbody tr th {\n",
       "        vertical-align: top;\n",
       "    }\n",
       "\n",
       "    .dataframe thead th {\n",
       "        text-align: right;\n",
       "    }\n",
       "</style>\n",
       "<table border=\"1\" class=\"dataframe\">\n",
       "  <thead>\n",
       "    <tr style=\"text-align: right;\">\n",
       "      <th></th>\n",
       "      <th>listing_id</th>\n",
       "      <th>review_scores_value_norm</th>\n",
       "      <th>review_scores_location_norm</th>\n",
       "      <th>review_scores_communication_norm</th>\n",
       "      <th>review_scores_checkin_norm</th>\n",
       "      <th>review_scores_cleanliness_norm</th>\n",
       "      <th>review_scores_accuracy_norm</th>\n",
       "      <th>review_scores_rating_norm</th>\n",
       "      <th>polarity_norm</th>\n",
       "    </tr>\n",
       "  </thead>\n",
       "  <tbody>\n",
       "    <tr>\n",
       "      <th>0</th>\n",
       "      <td>2060</td>\n",
       "      <td>NaN</td>\n",
       "      <td>NaN</td>\n",
       "      <td>NaN</td>\n",
       "      <td>NaN</td>\n",
       "      <td>NaN</td>\n",
       "      <td>NaN</td>\n",
       "      <td>93.370047</td>\n",
       "      <td>0.843182</td>\n",
       "    </tr>\n",
       "    <tr>\n",
       "      <th>1</th>\n",
       "      <td>2595</td>\n",
       "      <td>9.132591</td>\n",
       "      <td>9.86266</td>\n",
       "      <td>9.910794</td>\n",
       "      <td>9.909003</td>\n",
       "      <td>9.097538</td>\n",
       "      <td>9.210564</td>\n",
       "      <td>93.966758</td>\n",
       "      <td>0.843182</td>\n",
       "    </tr>\n",
       "    <tr>\n",
       "      <th>2</th>\n",
       "      <td>2595</td>\n",
       "      <td>9.132591</td>\n",
       "      <td>9.86266</td>\n",
       "      <td>9.910794</td>\n",
       "      <td>9.909003</td>\n",
       "      <td>9.097538</td>\n",
       "      <td>9.210564</td>\n",
       "      <td>93.966758</td>\n",
       "      <td>0.843182</td>\n",
       "    </tr>\n",
       "    <tr>\n",
       "      <th>3</th>\n",
       "      <td>2595</td>\n",
       "      <td>9.132591</td>\n",
       "      <td>9.86266</td>\n",
       "      <td>9.910794</td>\n",
       "      <td>9.909003</td>\n",
       "      <td>9.097538</td>\n",
       "      <td>9.210564</td>\n",
       "      <td>93.966758</td>\n",
       "      <td>0.843182</td>\n",
       "    </tr>\n",
       "    <tr>\n",
       "      <th>4</th>\n",
       "      <td>2595</td>\n",
       "      <td>9.132591</td>\n",
       "      <td>9.86266</td>\n",
       "      <td>9.910794</td>\n",
       "      <td>9.909003</td>\n",
       "      <td>9.097538</td>\n",
       "      <td>9.210564</td>\n",
       "      <td>93.966758</td>\n",
       "      <td>0.843182</td>\n",
       "    </tr>\n",
       "  </tbody>\n",
       "</table>\n",
       "</div>"
      ],
      "text/plain": [
       "   listing_id  review_scores_value_norm  review_scores_location_norm  review_scores_communication_norm  review_scores_checkin_norm  review_scores_cleanliness_norm  review_scores_accuracy_norm  review_scores_rating_norm  polarity_norm\n",
       "0        2060                       NaN                          NaN                               NaN                         NaN                             NaN                          NaN                  93.370047       0.843182\n",
       "1        2595                  9.132591                      9.86266                          9.910794                    9.909003                        9.097538                     9.210564                  93.966758       0.843182\n",
       "2        2595                  9.132591                      9.86266                          9.910794                    9.909003                        9.097538                     9.210564                  93.966758       0.843182\n",
       "3        2595                  9.132591                      9.86266                          9.910794                    9.909003                        9.097538                     9.210564                  93.966758       0.843182\n",
       "4        2595                  9.132591                      9.86266                          9.910794                    9.909003                        9.097538                     9.210564                  93.966758       0.843182"
      ]
     },
     "execution_count": 28,
     "metadata": {},
     "output_type": "execute_result"
    }
   ],
   "source": [
    "dfs.head()"
   ]
  },
  {
   "cell_type": "markdown",
   "metadata": {},
   "source": [
    "## Cleaning and setting up the target variable"
   ]
  },
  {
   "cell_type": "code",
   "execution_count": 29,
   "metadata": {},
   "outputs": [],
   "source": [
    "# renaming id column\n",
    "df_listings.rename(columns={\"id\": \"listing_id\"}, inplace=True)\n",
    "\n",
    "# slicing dataframe to contain price and listing_id\n",
    "df_price = df_listings.loc[:,['listing_id','price']]\n",
    "\n",
    "# formatting price to float values\n",
    "df_price.price = [float(sub(r'[^\\d.]', '', r['price'])) for i, r in df_listings.iterrows()]"
   ]
  },
  {
   "cell_type": "markdown",
   "metadata": {},
   "source": [
    "## Merging DataFrames to Drop Null Values"
   ]
  },
  {
   "cell_type": "code",
   "execution_count": 30,
   "metadata": {},
   "outputs": [],
   "source": [
    "# merging colums wit normalized ratings and the price column\n",
    "df_temp = pd.merge(left=dfs, right=df_price, on='listing_id')\n",
    "\n",
    "# remove null values\n",
    "df_temp = df_temp.dropna()\n",
    "\n",
    "df_temp = df_temp.set_index('listing_id')"
   ]
  },
  {
   "cell_type": "markdown",
   "metadata": {},
   "source": [
    "## Defining the target and the features"
   ]
  },
  {
   "cell_type": "code",
   "execution_count": 31,
   "metadata": {},
   "outputs": [],
   "source": [
    "# target\n",
    "y = df_temp.price\n",
    "\n",
    "# features\n",
    "X = df_temp.loc[:, df_temp.columns != 'price']"
   ]
  },
  {
   "cell_type": "code",
   "execution_count": 32,
   "metadata": {},
   "outputs": [
    {
     "data": {
      "text/plain": [
       "(1008024,)"
      ]
     },
     "execution_count": 32,
     "metadata": {},
     "output_type": "execute_result"
    }
   ],
   "source": [
    "y.shape"
   ]
  },
  {
   "cell_type": "markdown",
   "metadata": {},
   "source": [
    "## Splitting training and testing"
   ]
  },
  {
   "cell_type": "code",
   "execution_count": 33,
   "metadata": {},
   "outputs": [],
   "source": [
    "Xr_train, Xr_test, yr_train, yr_test = tts(X, y, test_size=0.2)"
   ]
  },
  {
   "cell_type": "markdown",
   "metadata": {},
   "source": [
    "## Linear Regression"
   ]
  },
  {
   "cell_type": "code",
   "execution_count": 34,
   "metadata": {},
   "outputs": [
    {
     "data": {
      "image/png": "[encoded data removed]",
      "text/plain": [
       "<Figure size 648x432 with 1 Axes>"
      ]
     },
     "metadata": {},
     "output_type": "display_data"
    }
   ],
   "source": [
    "from sklearn.linear_model import LinearRegression\n",
    "\n",
    "model = LinearRegression()\n",
    "model.fit(Xr_train, yr_train)\n",
    "\n",
    "_, ax = plt.subplots(figsize=(9,6))\n",
    "_ = prediction_error(model, Xr_test, yr_test, is_fitted=True, ax=ax)"
   ]
  },
  {
   "cell_type": "markdown",
   "metadata": {},
   "source": [
    "## Random Forest"
   ]
  },
  {
   "cell_type": "code",
   "execution_count": 35,
   "metadata": {},
   "outputs": [
    {
     "data": {
      "image/png": "[encoded data removed]",
      "text/plain": [
       "<Figure size 576x396 with 2 Axes>"
      ]
     },
     "metadata": {},
     "output_type": "display_data"
    }
   ],
   "source": [
    "model = RandomForestRegressor()\n",
    "oz = ResidualsPlot(model)\n",
    "\n",
    "oz.fit(Xr_train, yr_train)\n",
    "oz.score(Xr_test, yr_test)\n",
    "_ = oz.show()"
   ]
  }
 ],
 "metadata": {
  "kernelspec": {
   "display_name": "Python 3",
   "language": "python",
   "name": "python3"
  },
  "language_info": {
   "codemirror_mode": {
    "name": "ipython",
    "version": 3
   },
   "file_extension": ".py",
   "mimetype": "text/x-python",
   "name": "python",
   "nbconvert_exporter": "python",
   "pygments_lexer": "ipython3",
   "version": "3.7.7"
  }
 },
 "nbformat": 4,
 "nbformat_minor": 4
}

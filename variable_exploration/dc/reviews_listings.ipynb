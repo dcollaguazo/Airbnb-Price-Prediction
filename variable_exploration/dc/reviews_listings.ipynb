{
 "cells": [
  {
   "cell_type": "markdown",
   "metadata": {},
   "source": [
    "# How do star ratings work for stays?\n",
    "\n",
    "In addition to written reviews, guests can submit an overall star rating and a set of category star ratings for their stay.\n",
    "\n",
    "Hosts can view their star ratings on their Progress page, under Reviews. Hosts using professional hosting tools can find reviews and quality details on their Performance page, under Quality.\n",
    "\n",
    "Guests can give ratings on:\n",
    "\n",
    "- **Overall experience.** Overall, how was the stay?\n",
    "- **Cleanliness.** Did guests feel that the space was clean and tidy?\n",
    "- **Accuracy.** How accurately did the listing page represent the space? For example, guests should be able to find up-to-date info and photos in the listing description.\n",
    "- **Value.** Did the guest feel that the listing provided good value for the price?\n",
    "- **Communication.** How well did you communicate before and during the stay? Guests often care that their host responds quickly, reliably, and frequently to their messages and questions.\n",
    "- **Check-in.** How smoothly did check-in go?\n",
    "- **Location.** How did guests feel about the neighborhood? This may mean that there's an accurate description for proximity and access to transportation, shopping centers, city center, etc., and a description that includes special considerations, like noise, and family safety.\n",
    "- **Amenities.** How did guests feel about the amenities that were available during their stay? Guests often care that all the amenities listed are available, working, and in good condition.\n",
    "\n",
    "In each category, hosts are able to see how often they get 5 stars, how guests rated nearby hosts, and, in some cases, tips to help improve the listing.\n",
    "\n",
    "The number of stars displayed at the top of a listing page is an aggregate of the primary scores guests have given for that listing. At the bottom of a listing page there's an aggregate for each category rating. A host needs to receive star ratings from at least 3 guests before their aggregate score appears.\n",
    "\n",
    "## Our contribution\n",
    "\n",
    "- Apply Bayesian Averaging in each type of rating because the data we use seems to have a broader spectrum of ratings from: 3-10\n",
    "- Determine what type of rating contributes the most to predicting price\n",
    "- Determine polarity in reviews\n",
    "- Determine the connection between review's polarity and rating (WIP)"
   ]
  },
  {
   "cell_type": "code",
   "execution_count": 1,
   "metadata": {},
   "outputs": [],
   "source": [
    "import pandas as pd\n",
    "import datetime\n",
    "from re import sub\n",
    "import warnings\n",
    "\n",
    "from sklearn import preprocessing\n",
    "from sklearn.model_selection import train_test_split as tts\n",
    "from sklearn.ensemble import RandomForestRegressor\n",
    "from sklearn.model_selection import cross_val_score\n",
    "from sklearn.feature_selection import SelectFromModel\n",
    "\n",
    "import numpy as np\n",
    "\n",
    "warnings.filterwarnings(\"ignore\")\n",
    "\n",
    "import seaborn as sns\n",
    "# import matplotlib as plt\n",
    "import matplotlib.pyplot as plt\n",
    "\n",
    "from yellowbrick.features import rank2d\n",
    "from yellowbrick.classifier import confusion_matrix\n",
    "from yellowbrick.classifier import classification_report\n",
    "from yellowbrick.regressor import prediction_error, ResidualsPlot\n",
    "\n",
    "# Change pandas viewing options\n",
    "pd.set_option('display.max_rows', 500)\n",
    "pd.set_option('display.max_columns', 500)\n",
    "pd.set_option('display.width', 1000)"
   ]
  },
  {
   "cell_type": "markdown",
   "metadata": {},
   "source": [
    "## Importing Data"
   ]
  },
  {
   "cell_type": "code",
   "execution_count": 2,
   "metadata": {},
   "outputs": [],
   "source": [
    "df_listings = pd.read_csv(\"../../data/new-york-city-airbnb-open-data/listings.csv\")\n",
    "df_cal = pd.read_csv(\"../../data/new-york-city-airbnb-open-data/calendar.csv\")\n",
    "df_reviews_w_polarity = pd.read_csv('output/reviews_with_sentiment_and_lang.csv')"
   ]
  },
  {
   "cell_type": "code",
   "execution_count": 3,
   "metadata": {},
   "outputs": [],
   "source": [
    "cols_to_keep = ['id','host_acceptance_rate','number_of_reviews',\n",
    "                'number_of_reviews_ltm','review_scores_rating', \n",
    "                'review_scores_accuracy','review_scores_cleanliness', \n",
    "                'review_scores_checkin', 'review_scores_communication',\n",
    "                'review_scores_location', 'review_scores_value','price']\n",
    "\n",
    "df_listings = df_listings[cols_to_keep]"
   ]
  },
  {
   "cell_type": "markdown",
   "metadata": {},
   "source": [
    "This tutorial is based on this Stackoverflow entry https://stackoverflow.com/questions/54357300/bayesian-averaging-in-a-dataframe"
   ]
  },
  {
   "cell_type": "markdown",
   "metadata": {},
   "source": [
    "## Applying Bayesian Averaging to Normalize rating columns"
   ]
  },
  {
   "cell_type": "code",
   "execution_count": 4,
   "metadata": {},
   "outputs": [],
   "source": [
    "# number_of_reviews == v\n",
    "# calculating the mean and median of \"number_of_reviews\"\n",
    "m = np.mean(df_listings['number_of_reviews'])\n",
    "md = np.median(df_listings['number_of_reviews'])"
   ]
  },
  {
   "cell_type": "code",
   "execution_count": 5,
   "metadata": {},
   "outputs": [],
   "source": [
    "# print(m,md)"
   ]
  },
  {
   "cell_type": "code",
   "execution_count": 6,
   "metadata": {},
   "outputs": [],
   "source": [
    "# calculating w\n",
    "df_listings['w'] = df_listings['number_of_reviews']/(df_listings['number_of_reviews'] + m)"
   ]
  },
  {
   "cell_type": "code",
   "execution_count": 7,
   "metadata": {},
   "outputs": [],
   "source": [
    "# df_listings.head()"
   ]
  },
  {
   "cell_type": "markdown",
   "metadata": {},
   "source": [
    "**Normalizing: review_score_value**"
   ]
  },
  {
   "cell_type": "code",
   "execution_count": 8,
   "metadata": {},
   "outputs": [],
   "source": [
    "df_1 = df_listings[['id','number_of_reviews','review_scores_value']]\n",
    "\n",
    "# renaming column\n",
    "df_1.rename(columns={\"id\": \"listing_id\"}, inplace=True)\n",
    "\n",
    "temp_rsv = df_1.groupby('listing_id', \n",
    "                        as_index=False\n",
    "                       ).agg({'review_scores_value': lambda x: x.mean(skipna=False)})\n",
    "\n",
    "# review_scores_value_x == R\n",
    "df_1 = pd.merge(left=df_1, right=temp_rsv, \n",
    "                       how='left', on='listing_id')\n",
    "\n",
    "# average of review_scores_value column\n",
    "C = df_1['review_scores_value_x'].mean()\n",
    "\n",
    "df_1['review_score_value_norm'] = df_listings['w']*df_1['review_scores_value_x'] + (1 - df_listings['w'])*C\n",
    "\n",
    "df_1 = df_1.drop(['number_of_reviews','review_scores_value_x', 'review_scores_value_y'], axis=1)"
   ]
  },
  {
   "cell_type": "markdown",
   "metadata": {},
   "source": [
    "**Normalizing: review_scores_location**"
   ]
  },
  {
   "cell_type": "code",
   "execution_count": 9,
   "metadata": {},
   "outputs": [],
   "source": [
    "df_2 = df_listings[['id','number_of_reviews','review_scores_location']]\n",
    "\n",
    "# renaming column\n",
    "df_2.rename(columns={\"id\": \"listing_id\"}, inplace=True)\n",
    "\n",
    "temp_rsl = df_2.groupby('listing_id', \n",
    "                        as_index=False\n",
    "                       ).agg({'review_scores_location': lambda x: x.mean(skipna=False)})\n",
    "\n",
    "# review_scores_location_x == R\n",
    "df_2 = pd.merge(left=df_2, right=temp_rsl, \n",
    "                       how='left', on='listing_id')\n",
    "\n",
    "# average of review_scores_location column\n",
    "C = df_2['review_scores_location_x'].mean()\n",
    "\n",
    "df_2['review_location_norm'] = df_listings['w']*df_2['review_scores_location_x'] + (1 - df_listings['w'])*C\n",
    "\n",
    "df_2 = df_2.drop(['listing_id','number_of_reviews','review_scores_location_x', 'review_scores_location_y'], axis=1)"
   ]
  },
  {
   "cell_type": "markdown",
   "metadata": {},
   "source": [
    "**Normalizing: review_scores_communication**"
   ]
  },
  {
   "cell_type": "code",
   "execution_count": 10,
   "metadata": {},
   "outputs": [],
   "source": [
    "df_3 = df_listings[['id','number_of_reviews','review_scores_communication']]\n",
    "\n",
    "# renaming column\n",
    "df_3.rename(columns={\"id\": \"listing_id\"}, inplace=True)\n",
    "\n",
    "temp_rsc = df_3.groupby('listing_id', \n",
    "                        as_index=False\n",
    "                       ).agg({'review_scores_communication': lambda x: x.mean(skipna=False)})\n",
    "\n",
    "# review_scores_communication_x == R\n",
    "df_3 = pd.merge(left=df_3, right=temp_rsc, \n",
    "                       how='left', on='listing_id')\n",
    "\n",
    "# average of review_scores_communication column\n",
    "C = df_3['review_scores_communication_x'].mean()\n",
    "\n",
    "df_3['review_scores_comm_norm'] = df_listings['w']*df_3['review_scores_communication_x'] + (1 - df_listings['w'])*C\n",
    "\n",
    "df_3 = df_3.drop(['listing_id','number_of_reviews','review_scores_communication_x', 'review_scores_communication_y'], axis=1)"
   ]
  },
  {
   "cell_type": "markdown",
   "metadata": {},
   "source": [
    "**Normalizing: review_scores_checkin**"
   ]
  },
  {
   "cell_type": "code",
   "execution_count": 11,
   "metadata": {},
   "outputs": [],
   "source": [
    "df_4 = df_listings[['id','number_of_reviews','review_scores_checkin']]\n",
    "\n",
    "# renaming column\n",
    "df_4.rename(columns={\"id\": \"listing_id\"}, inplace=True)\n",
    "\n",
    "temp_rsck = df_4.groupby('listing_id', \n",
    "                        as_index=False\n",
    "                       ).agg({'review_scores_checkin': lambda x: x.mean(skipna=False)})\n",
    "\n",
    "# review_scores_checkin_x == R\n",
    "df_4 = pd.merge(left=df_4, right=temp_rsck, \n",
    "                       how='left', on='listing_id')\n",
    "\n",
    "# average of review_scores_checkin column\n",
    "C = df_4['review_scores_checkin_x'].mean()\n",
    "\n",
    "df_4['review_scores_checkin_norm'] = df_listings['w']*df_4['review_scores_checkin_x'] + (1 - df_listings['w'])*C\n",
    "\n",
    "df_4 = df_4.drop(['listing_id','number_of_reviews','review_scores_checkin_x', 'review_scores_checkin_y'], axis=1)"
   ]
  },
  {
   "cell_type": "markdown",
   "metadata": {},
   "source": [
    "**Normalizing: review_scores_cleanliness**"
   ]
  },
  {
   "cell_type": "code",
   "execution_count": 12,
   "metadata": {},
   "outputs": [],
   "source": [
    "df_5 = df_listings[['id','number_of_reviews','review_scores_cleanliness']]\n",
    "\n",
    "# renaming column\n",
    "df_5.rename(columns={\"id\": \"listing_id\"}, inplace=True)\n",
    "\n",
    "temp_rscl = df_5.groupby('listing_id', \n",
    "                        as_index=False\n",
    "                       ).agg({'review_scores_cleanliness': lambda x: x.mean(skipna=False)})\n",
    "\n",
    "# review_scores_cleanliness_x == R\n",
    "df_5 = pd.merge(left=df_5, right=temp_rscl, \n",
    "                       how='left', on='listing_id')\n",
    "\n",
    "# average of review_scores_cleanliness column\n",
    "C = df_5['review_scores_cleanliness_x'].mean()\n",
    "\n",
    "df_5['review_scores_cleanliness_norm'] = df_listings['w']*df_5['review_scores_cleanliness_x'] + (1 - df_listings['w'])*C\n",
    "\n",
    "df_5 = df_5.drop(['listing_id','number_of_reviews','review_scores_cleanliness_x', 'review_scores_cleanliness_y'], axis=1)"
   ]
  },
  {
   "cell_type": "markdown",
   "metadata": {},
   "source": [
    "**Normalizing: review_scores_accuracy**"
   ]
  },
  {
   "cell_type": "code",
   "execution_count": 13,
   "metadata": {},
   "outputs": [],
   "source": [
    "df_6 = df_listings[['id','number_of_reviews','review_scores_accuracy']]\n",
    "\n",
    "# renaming column\n",
    "df_6.rename(columns={\"id\": \"listing_id\"}, inplace=True)\n",
    "\n",
    "temp_rsa = df_6.groupby('listing_id', \n",
    "                        as_index=False\n",
    "                       ).agg({'review_scores_accuracy': lambda x: x.mean(skipna=False)})\n",
    "\n",
    "# review_scores_accuracy_x == R\n",
    "df_6 = pd.merge(left=df_6, right=temp_rsa, \n",
    "                       how='left', on='listing_id')\n",
    "\n",
    "# average of review_scores_accuracy column\n",
    "C = df_6['review_scores_accuracy_x'].mean()\n",
    "\n",
    "df_6['review_scores_accuracy_norm'] = df_listings['w']*df_6['review_scores_accuracy_x'] + (1 - df_listings['w'])*C\n",
    "\n",
    "df_6 = df_6.drop(['listing_id','number_of_reviews','review_scores_accuracy_x', 'review_scores_accuracy_y'], axis=1)"
   ]
  },
  {
   "cell_type": "markdown",
   "metadata": {},
   "source": [
    "**Normalizing: review_scores_rating**"
   ]
  },
  {
   "cell_type": "code",
   "execution_count": 14,
   "metadata": {},
   "outputs": [],
   "source": [
    "df_7 = df_listings[['id','number_of_reviews','review_scores_rating']]\n",
    "\n",
    "# renaming column\n",
    "df_7.rename(columns={\"id\": \"listing_id\"}, inplace=True)\n",
    "\n",
    "temp_rsr = df_7.groupby('listing_id', \n",
    "                        as_index=False\n",
    "                       ).agg({'review_scores_rating': lambda x: x.mean(skipna=False)})\n",
    "\n",
    "# review_scores_rating_x == R\n",
    "df_7 = pd.merge(left=df_7, right=temp_rsr, \n",
    "                       how='left', on='listing_id')\n",
    "\n",
    "# average of review_scores_rating column\n",
    "C = df_7['review_scores_rating_x'].mean()\n",
    "\n",
    "df_7['review_scores_rating_norm'] = df_listings['w']*df_7['review_scores_rating_x'] + (1 - df_listings['w'])*C\n",
    "\n",
    "df_7 = df_7.drop(['listing_id','number_of_reviews','review_scores_rating_x', 'review_scores_rating_y'], axis=1)"
   ]
  },
  {
   "cell_type": "markdown",
   "metadata": {},
   "source": [
    "## Setting our features up"
   ]
  },
  {
   "cell_type": "code",
   "execution_count": 15,
   "metadata": {},
   "outputs": [],
   "source": [
    "dfs = pd.concat([df_1, df_2, df_3, df_4,df_5, df_6, df_7], axis=1)"
   ]
  },
  {
   "cell_type": "markdown",
   "metadata": {},
   "source": [
    "## Cleaning and setting up the target variable"
   ]
  },
  {
   "cell_type": "code",
   "execution_count": 16,
   "metadata": {},
   "outputs": [],
   "source": [
    "# renaming id column\n",
    "df_listings.rename(columns={\"id\": \"listing_id\"}, inplace=True)\n",
    "\n",
    "# slicing dataframe to contain price and listing_id\n",
    "df_price = df_listings.loc[:,['listing_id','price']]\n",
    "\n",
    "# formatting price to float values\n",
    "df_price.price = [float(sub(r'[^\\d.]', '', r['price'])) for i, r in df_listings.iterrows()]"
   ]
  },
  {
   "cell_type": "markdown",
   "metadata": {},
   "source": [
    "## Merging DataFrames to Drop Null Values"
   ]
  },
  {
   "cell_type": "code",
   "execution_count": 17,
   "metadata": {},
   "outputs": [],
   "source": [
    "# merging colums wit normalized ratings and the price column\n",
    "df_temp = pd.merge(left=dfs, right=df_price, on='listing_id')\n",
    "\n",
    "# remove null values\n",
    "df_temp = df_temp.dropna()\n",
    "\n",
    "df_temp = df_temp.set_index('listing_id')"
   ]
  },
  {
   "cell_type": "markdown",
   "metadata": {},
   "source": [
    "## Defining the target and the features"
   ]
  },
  {
   "cell_type": "code",
   "execution_count": 18,
   "metadata": {},
   "outputs": [],
   "source": [
    "# target\n",
    "y = df_temp.price\n",
    "\n",
    "# features\n",
    "X = df_temp.loc[:, df_temp.columns != 'price']"
   ]
  },
  {
   "cell_type": "markdown",
   "metadata": {},
   "source": [
    "## Splitting trainin and testing"
   ]
  },
  {
   "cell_type": "code",
   "execution_count": 19,
   "metadata": {},
   "outputs": [],
   "source": [
    "Xr_train, Xr_test, yr_train, yr_test = tts(X, y, test_size=0.2)"
   ]
  },
  {
   "cell_type": "markdown",
   "metadata": {},
   "source": [
    "## Linear Regression"
   ]
  },
  {
   "cell_type": "code",
   "execution_count": 20,
   "metadata": {},
   "outputs": [
    {
     "data": {
      "image/png": "[encoded data removed]",
      "text/plain": [
       "<Figure size 648x432 with 1 Axes>"
      ]
     },
     "metadata": {},
     "output_type": "display_data"
    }
   ],
   "source": [
    "from sklearn.linear_model import LinearRegression\n",
    "\n",
    "model = LinearRegression()\n",
    "model.fit(Xr_train, yr_train)\n",
    "\n",
    "_, ax = plt.subplots(figsize=(9,6))\n",
    "_ = prediction_error(model, Xr_test, yr_test, is_fitted=True, ax=ax)"
   ]
  },
  {
   "cell_type": "markdown",
   "metadata": {},
   "source": [
    "## Random Forest"
   ]
  },
  {
   "cell_type": "code",
   "execution_count": 21,
   "metadata": {},
   "outputs": [
    {
     "data": {
      "image/png": "[encoded data removed]",
      "text/plain": [
       "<Figure size 576x396 with 2 Axes>"
      ]
     },
     "metadata": {},
     "output_type": "display_data"
    }
   ],
   "source": [
    "model = RandomForestRegressor()\n",
    "oz = ResidualsPlot(model)\n",
    "\n",
    "oz.fit(Xr_train, yr_train)\n",
    "oz.score(Xr_test, yr_test)\n",
    "_ = oz.show()"
   ]
  }
 ],
 "metadata": {
  "kernelspec": {
   "display_name": "Python 3",
   "language": "python",
   "name": "python3"
  },
  "language_info": {
   "codemirror_mode": {
    "name": "ipython",
    "version": 3
   },
   "file_extension": ".py",
   "mimetype": "text/x-python",
   "name": "python",
   "nbconvert_exporter": "python",
   "pygments_lexer": "ipython3",
   "version": "3.7.7"
  }
 },
 "nbformat": 4,
 "nbformat_minor": 4
}

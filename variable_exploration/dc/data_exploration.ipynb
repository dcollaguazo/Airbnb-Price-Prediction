{
 "cells": [
  {
   "cell_type": "code",
   "execution_count": 56,
   "metadata": {},
   "outputs": [
    {
     "name": "stderr",
     "output_type": "stream",
     "text": [
      "[nltk_data] Downloading package vader_lexicon to\n",
      "[nltk_data]     /home/ec2-user/nltk_data...\n",
      "[nltk_data]   Package vader_lexicon is already up-to-date!\n"
     ]
    }
   ],
   "source": [
    "import pandas as pd\n",
    "import datetime\n",
    "from re import sub\n",
    "from decimal import Decimal\n",
    "\n",
    "import nltk\n",
    "from nltk.sentiment.vader import SentimentIntensityAnalyzer\n",
    "nltk.downloader.download('vader_lexicon')\n",
    "\n",
    "from langdetect import detect\n",
    "\n",
    "from sklearn import preprocessing\n",
    "\n",
    "import warnings\n",
    "warnings.filterwarnings(\"ignore\")\n",
    "\n",
    "import boto3\n",
    "from boto3 import session\n",
    "from sagemaker import get_execution_role \n",
    "\n",
    "import seaborn as sns\n",
    "import matplotlib as plt\n",
    "\n",
    "# Change pandas viewing options\n",
    "pd.set_option('display.max_rows', 500)\n",
    "pd.set_option('display.max_columns', 500)\n",
    "pd.set_option('display.width', 1000)"
   ]
  },
  {
   "cell_type": "code",
   "execution_count": 57,
   "metadata": {},
   "outputs": [],
   "source": [
    "# import sys\n",
    "# !{sys.executable} -m pip install seaborn"
   ]
  },
  {
   "cell_type": "code",
   "execution_count": 35,
   "metadata": {},
   "outputs": [],
   "source": [
    "role = get_execution_role() \n",
    "\n",
    "bucket = 'data-for-tests-with-sagemaker' \n",
    "\n",
    "data_key_listings = 'sagemaker/airbnb_data/listings.csv' \n",
    "data_listings_loc = 's3://{}/{}'.format(bucket, data_key_listings) \n",
    "\n",
    "data_key_reviews = 'sagemaker/airbnb_data/reviews.csv' \n",
    "data_reviews_loc = 's3://{}/{}'.format(bucket, data_key_reviews) \n",
    "\n",
    "df_listings = pd.read_csv(data_listings_loc)\n",
    "df_reviews = pd.read_csv(data_reviews_loc)"
   ]
  },
  {
   "cell_type": "markdown",
   "metadata": {},
   "source": [
    "# Importing Data "
   ]
  },
  {
   "cell_type": "code",
   "execution_count": 8,
   "metadata": {},
   "outputs": [],
   "source": [
    "# df_listings = pd.read_csv(\"../../data/new-york-city-airbnb-open-data/listings.csv\")\n",
    "# df_neighborhoods = pd.read_csv(\"../../data/new-york-city-airbnb-open-data/neighbourhoods.csv\")\n",
    "# df_reviews = pd.read_csv(\"../../data/new-york-city-airbnb-open-data/reviews.csv\")\n",
    "# df_calendar = pd.read_csv(\"../../data/new-york-city-airbnb-open-data/calendar.csv\")\n",
    "# df_listings.rename(columns = {'id':'listing_id'}, inplace = True) "
   ]
  },
  {
   "cell_type": "markdown",
   "metadata": {},
   "source": [
    "# Exploring Listings Dataframe"
   ]
  },
  {
   "cell_type": "code",
   "execution_count": null,
   "metadata": {},
   "outputs": [],
   "source": [
    "# df_listings.shape\n",
    "# list(df_listings.columns)\n",
    "# df_listings.describe()\n",
    "# df_listings.dtypes\n",
    "# df_listings.head()\n",
    "# list(df_listings.columns)\n",
    "df_listings.last_scraped.value_counts()\n",
    "# df_listings.host_response_time"
   ]
  },
  {
   "cell_type": "markdown",
   "metadata": {},
   "source": [
    "## Dropping columns with majority NaN values"
   ]
  },
  {
   "cell_type": "code",
   "execution_count": 10,
   "metadata": {},
   "outputs": [],
   "source": [
    "percent_missing = df_listings.isna().sum() * 100 / len(df_listings)\n",
    "missing_value_df = pd.DataFrame({'column_name': df_listings.columns,\n",
    "                                 'percent_missing': percent_missing.astype('int64')}).reset_index()"
   ]
  },
  {
   "cell_type": "code",
   "execution_count": 11,
   "metadata": {},
   "outputs": [
    {
     "data": {
      "text/plain": [
       "0      72\n",
       "22      7\n",
       "20      4\n",
       "99      3\n",
       "34      3\n",
       "100     3\n",
       "40      2\n",
       "27      2\n",
       "37      2\n",
       "39      1\n",
       "47      1\n",
       "59      1\n",
       "89      1\n",
       "90      1\n",
       "14      1\n",
       "4       1\n",
       "2       1\n",
       "Name: percent_missing, dtype: int64"
      ]
     },
     "execution_count": 11,
     "metadata": {},
     "output_type": "execute_result"
    }
   ],
   "source": [
    "# exploring missing values percentage \n",
    "# missing_value_df.iloc[21:40,:]\n",
    "missing_value_df['percent_missing'].value_counts()"
   ]
  },
  {
   "cell_type": "code",
   "execution_count": 12,
   "metadata": {},
   "outputs": [],
   "source": [
    "# creating a list of columns to be dropped. In this case all of those with more than 30% of missing values\n",
    "columns_with_nulls_drop = list(missing_value_df[missing_value_df['percent_missing']>50]['column_name'])"
   ]
  },
  {
   "cell_type": "code",
   "execution_count": 13,
   "metadata": {},
   "outputs": [
    {
     "data": {
      "text/plain": [
       "['notes',\n",
       " 'thumbnail_url',\n",
       " 'medium_url',\n",
       " 'xl_picture_url',\n",
       " 'square_feet',\n",
       " 'weekly_price',\n",
       " 'monthly_price',\n",
       " 'license',\n",
       " 'jurisdiction_names']"
      ]
     },
     "execution_count": 13,
     "metadata": {},
     "output_type": "execute_result"
    }
   ],
   "source": [
    "columns_with_nulls_drop"
   ]
  },
  {
   "cell_type": "code",
   "execution_count": 14,
   "metadata": {},
   "outputs": [],
   "source": [
    "# dropping columns with X% of missing values \n",
    "df_listings.drop(columns_with_nulls_drop, axis=1, inplace=True)"
   ]
  },
  {
   "cell_type": "markdown",
   "metadata": {},
   "source": [
    "## Encoding binary values"
   ]
  },
  {
   "cell_type": "code",
   "execution_count": 15,
   "metadata": {},
   "outputs": [],
   "source": [
    "# Encoding true and false values\n",
    "df_listings.replace({'f': 0, 't': 1}, inplace=True)"
   ]
  },
  {
   "cell_type": "code",
   "execution_count": null,
   "metadata": {},
   "outputs": [],
   "source": [
    "# df_listings.head()"
   ]
  },
  {
   "cell_type": "markdown",
   "metadata": {},
   "source": [
    "## Transform dates to datetime"
   ]
  },
  {
   "cell_type": "code",
   "execution_count": 16,
   "metadata": {},
   "outputs": [],
   "source": [
    "df_listings.loc[:,['last_scraped','host_since',\n",
    "                 'calendar_last_scraped','first_review','last_review']] = df_listings.loc[:,['last_scraped','host_since',\n",
    "                 'calendar_last_scraped','first_review','last_review']].apply(pd.to_datetime, errors='coerce')"
   ]
  },
  {
   "cell_type": "code",
   "execution_count": 17,
   "metadata": {},
   "outputs": [
    {
     "data": {
      "text/plain": [
       "0    https://www.airbnb.com/rooms/2060\n",
       "1    https://www.airbnb.com/rooms/2595\n",
       "2    https://www.airbnb.com/rooms/3831\n",
       "3    https://www.airbnb.com/rooms/5099\n",
       "4    https://www.airbnb.com/rooms/5114\n",
       "Name: listing_url, dtype: object"
      ]
     },
     "execution_count": 17,
     "metadata": {},
     "output_type": "execute_result"
    }
   ],
   "source": [
    "# df_listings.iloc[0:20,:].dtypes\n",
    "df_listings.listing_url.head()"
   ]
  },
  {
   "cell_type": "code",
   "execution_count": null,
   "metadata": {},
   "outputs": [],
   "source": [
    "# df_listings.dtypes"
   ]
  },
  {
   "cell_type": "markdown",
   "metadata": {},
   "source": [
    "## Separating columns for NLP"
   ]
  },
  {
   "cell_type": "code",
   "execution_count": 18,
   "metadata": {},
   "outputs": [],
   "source": [
    "df_listings_for_NLP = df_listings.select_dtypes(include=['object'])\n",
    "df_listings_non_text = df_listings.select_dtypes(exclude=['object'])"
   ]
  },
  {
   "cell_type": "markdown",
   "metadata": {},
   "source": [
    "## Working with numerical data"
   ]
  },
  {
   "cell_type": "markdown",
   "metadata": {},
   "source": [
    "host_listings_count and host_total_listings_count are always the same except in 5 cases where they are NaN. Therefore\n",
    "those columns will be dropped"
   ]
  },
  {
   "cell_type": "code",
   "execution_count": 19,
   "metadata": {},
   "outputs": [
    {
     "name": "stdout",
     "output_type": "stream",
     "text": [
      "5\n"
     ]
    },
    {
     "data": {
      "text/html": [
       "<div>\n",
       "<style scoped>\n",
       "    .dataframe tbody tr th:only-of-type {\n",
       "        vertical-align: middle;\n",
       "    }\n",
       "\n",
       "    .dataframe tbody tr th {\n",
       "        vertical-align: top;\n",
       "    }\n",
       "\n",
       "    .dataframe thead th {\n",
       "        text-align: right;\n",
       "    }\n",
       "</style>\n",
       "<table border=\"1\" class=\"dataframe\">\n",
       "  <thead>\n",
       "    <tr style=\"text-align: right;\">\n",
       "      <th></th>\n",
       "      <th>id</th>\n",
       "      <th>scrape_id</th>\n",
       "      <th>last_scraped</th>\n",
       "      <th>host_id</th>\n",
       "      <th>host_since</th>\n",
       "      <th>host_is_superhost</th>\n",
       "      <th>host_listings_count</th>\n",
       "      <th>host_total_listings_count</th>\n",
       "      <th>host_has_profile_pic</th>\n",
       "      <th>host_identity_verified</th>\n",
       "      <th>latitude</th>\n",
       "      <th>longitude</th>\n",
       "      <th>is_location_exact</th>\n",
       "      <th>accommodates</th>\n",
       "      <th>bathrooms</th>\n",
       "      <th>bedrooms</th>\n",
       "      <th>beds</th>\n",
       "      <th>guests_included</th>\n",
       "      <th>minimum_nights</th>\n",
       "      <th>maximum_nights</th>\n",
       "      <th>minimum_minimum_nights</th>\n",
       "      <th>maximum_minimum_nights</th>\n",
       "      <th>minimum_maximum_nights</th>\n",
       "      <th>maximum_maximum_nights</th>\n",
       "      <th>minimum_nights_avg_ntm</th>\n",
       "      <th>maximum_nights_avg_ntm</th>\n",
       "      <th>has_availability</th>\n",
       "      <th>availability_30</th>\n",
       "      <th>availability_60</th>\n",
       "      <th>availability_90</th>\n",
       "      <th>availability_365</th>\n",
       "      <th>calendar_last_scraped</th>\n",
       "      <th>number_of_reviews</th>\n",
       "      <th>number_of_reviews_ltm</th>\n",
       "      <th>first_review</th>\n",
       "      <th>last_review</th>\n",
       "      <th>review_scores_rating</th>\n",
       "      <th>review_scores_accuracy</th>\n",
       "      <th>review_scores_cleanliness</th>\n",
       "      <th>review_scores_checkin</th>\n",
       "      <th>review_scores_communication</th>\n",
       "      <th>review_scores_location</th>\n",
       "      <th>review_scores_value</th>\n",
       "      <th>requires_license</th>\n",
       "      <th>instant_bookable</th>\n",
       "      <th>is_business_travel_ready</th>\n",
       "      <th>require_guest_profile_picture</th>\n",
       "      <th>require_guest_phone_verification</th>\n",
       "      <th>calculated_host_listings_count</th>\n",
       "      <th>calculated_host_listings_count_entire_homes</th>\n",
       "      <th>calculated_host_listings_count_private_rooms</th>\n",
       "      <th>calculated_host_listings_count_shared_rooms</th>\n",
       "      <th>reviews_per_month</th>\n",
       "    </tr>\n",
       "  </thead>\n",
       "  <tbody>\n",
       "    <tr>\n",
       "      <th>5436</th>\n",
       "      <td>4446862</td>\n",
       "      <td>20200313233810</td>\n",
       "      <td>2020-03-14</td>\n",
       "      <td>23077718</td>\n",
       "      <td>NaT</td>\n",
       "      <td>NaN</td>\n",
       "      <td>NaN</td>\n",
       "      <td>NaN</td>\n",
       "      <td>NaN</td>\n",
       "      <td>NaN</td>\n",
       "      <td>40.67512</td>\n",
       "      <td>-73.96146</td>\n",
       "      <td>1</td>\n",
       "      <td>2</td>\n",
       "      <td>1.0</td>\n",
       "      <td>1.0</td>\n",
       "      <td>1.0</td>\n",
       "      <td>1</td>\n",
       "      <td>1</td>\n",
       "      <td>1125</td>\n",
       "      <td>1</td>\n",
       "      <td>1</td>\n",
       "      <td>1125</td>\n",
       "      <td>1125</td>\n",
       "      <td>1.0</td>\n",
       "      <td>1125.0</td>\n",
       "      <td>1</td>\n",
       "      <td>0</td>\n",
       "      <td>0</td>\n",
       "      <td>0</td>\n",
       "      <td>0</td>\n",
       "      <td>2020-03-14</td>\n",
       "      <td>0</td>\n",
       "      <td>0</td>\n",
       "      <td>NaT</td>\n",
       "      <td>NaT</td>\n",
       "      <td>NaN</td>\n",
       "      <td>NaN</td>\n",
       "      <td>NaN</td>\n",
       "      <td>NaN</td>\n",
       "      <td>NaN</td>\n",
       "      <td>NaN</td>\n",
       "      <td>NaN</td>\n",
       "      <td>0</td>\n",
       "      <td>0</td>\n",
       "      <td>0</td>\n",
       "      <td>0</td>\n",
       "      <td>0</td>\n",
       "      <td>1</td>\n",
       "      <td>0</td>\n",
       "      <td>1</td>\n",
       "      <td>0</td>\n",
       "      <td>NaN</td>\n",
       "    </tr>\n",
       "    <tr>\n",
       "      <th>5892</th>\n",
       "      <td>4763327</td>\n",
       "      <td>20200313233810</td>\n",
       "      <td>2020-03-14</td>\n",
       "      <td>24576978</td>\n",
       "      <td>NaT</td>\n",
       "      <td>NaN</td>\n",
       "      <td>NaN</td>\n",
       "      <td>NaN</td>\n",
       "      <td>NaN</td>\n",
       "      <td>NaN</td>\n",
       "      <td>40.72035</td>\n",
       "      <td>-73.95355</td>\n",
       "      <td>1</td>\n",
       "      <td>4</td>\n",
       "      <td>1.0</td>\n",
       "      <td>1.0</td>\n",
       "      <td>2.0</td>\n",
       "      <td>2</td>\n",
       "      <td>1</td>\n",
       "      <td>1125</td>\n",
       "      <td>1</td>\n",
       "      <td>1</td>\n",
       "      <td>1125</td>\n",
       "      <td>1125</td>\n",
       "      <td>1.0</td>\n",
       "      <td>1125.0</td>\n",
       "      <td>1</td>\n",
       "      <td>0</td>\n",
       "      <td>0</td>\n",
       "      <td>0</td>\n",
       "      <td>0</td>\n",
       "      <td>2020-03-14</td>\n",
       "      <td>1</td>\n",
       "      <td>0</td>\n",
       "      <td>2015-10-20</td>\n",
       "      <td>2015-10-20</td>\n",
       "      <td>80.0</td>\n",
       "      <td>8.0</td>\n",
       "      <td>10.0</td>\n",
       "      <td>10.0</td>\n",
       "      <td>8.0</td>\n",
       "      <td>10.0</td>\n",
       "      <td>8.0</td>\n",
       "      <td>0</td>\n",
       "      <td>0</td>\n",
       "      <td>0</td>\n",
       "      <td>0</td>\n",
       "      <td>0</td>\n",
       "      <td>1</td>\n",
       "      <td>1</td>\n",
       "      <td>0</td>\n",
       "      <td>0</td>\n",
       "      <td>0.02</td>\n",
       "    </tr>\n",
       "    <tr>\n",
       "      <th>7404</th>\n",
       "      <td>6360224</td>\n",
       "      <td>20200313233810</td>\n",
       "      <td>2020-03-14</td>\n",
       "      <td>33134899</td>\n",
       "      <td>NaT</td>\n",
       "      <td>NaN</td>\n",
       "      <td>NaN</td>\n",
       "      <td>NaN</td>\n",
       "      <td>NaN</td>\n",
       "      <td>NaN</td>\n",
       "      <td>40.70146</td>\n",
       "      <td>-73.92792</td>\n",
       "      <td>1</td>\n",
       "      <td>1</td>\n",
       "      <td>0.0</td>\n",
       "      <td>1.0</td>\n",
       "      <td>1.0</td>\n",
       "      <td>1</td>\n",
       "      <td>1</td>\n",
       "      <td>1125</td>\n",
       "      <td>1</td>\n",
       "      <td>1</td>\n",
       "      <td>1125</td>\n",
       "      <td>1125</td>\n",
       "      <td>1.0</td>\n",
       "      <td>1125.0</td>\n",
       "      <td>1</td>\n",
       "      <td>0</td>\n",
       "      <td>0</td>\n",
       "      <td>0</td>\n",
       "      <td>0</td>\n",
       "      <td>2020-03-14</td>\n",
       "      <td>1</td>\n",
       "      <td>0</td>\n",
       "      <td>2015-07-01</td>\n",
       "      <td>2015-07-01</td>\n",
       "      <td>NaN</td>\n",
       "      <td>NaN</td>\n",
       "      <td>NaN</td>\n",
       "      <td>NaN</td>\n",
       "      <td>NaN</td>\n",
       "      <td>NaN</td>\n",
       "      <td>NaN</td>\n",
       "      <td>0</td>\n",
       "      <td>0</td>\n",
       "      <td>0</td>\n",
       "      <td>0</td>\n",
       "      <td>0</td>\n",
       "      <td>1</td>\n",
       "      <td>0</td>\n",
       "      <td>1</td>\n",
       "      <td>0</td>\n",
       "      <td>0.02</td>\n",
       "    </tr>\n",
       "    <tr>\n",
       "      <th>8190</th>\n",
       "      <td>6992973</td>\n",
       "      <td>20200313233810</td>\n",
       "      <td>2020-03-14</td>\n",
       "      <td>5162530</td>\n",
       "      <td>NaT</td>\n",
       "      <td>NaN</td>\n",
       "      <td>NaN</td>\n",
       "      <td>NaN</td>\n",
       "      <td>NaN</td>\n",
       "      <td>NaN</td>\n",
       "      <td>40.71838</td>\n",
       "      <td>-73.95630</td>\n",
       "      <td>1</td>\n",
       "      <td>4</td>\n",
       "      <td>2.0</td>\n",
       "      <td>2.0</td>\n",
       "      <td>1.0</td>\n",
       "      <td>2</td>\n",
       "      <td>1</td>\n",
       "      <td>1125</td>\n",
       "      <td>1</td>\n",
       "      <td>1</td>\n",
       "      <td>1125</td>\n",
       "      <td>1125</td>\n",
       "      <td>1.0</td>\n",
       "      <td>1125.0</td>\n",
       "      <td>1</td>\n",
       "      <td>0</td>\n",
       "      <td>0</td>\n",
       "      <td>0</td>\n",
       "      <td>0</td>\n",
       "      <td>2020-03-14</td>\n",
       "      <td>0</td>\n",
       "      <td>0</td>\n",
       "      <td>NaT</td>\n",
       "      <td>NaT</td>\n",
       "      <td>NaN</td>\n",
       "      <td>NaN</td>\n",
       "      <td>NaN</td>\n",
       "      <td>NaN</td>\n",
       "      <td>NaN</td>\n",
       "      <td>NaN</td>\n",
       "      <td>NaN</td>\n",
       "      <td>0</td>\n",
       "      <td>0</td>\n",
       "      <td>0</td>\n",
       "      <td>0</td>\n",
       "      <td>0</td>\n",
       "      <td>1</td>\n",
       "      <td>1</td>\n",
       "      <td>0</td>\n",
       "      <td>0</td>\n",
       "      <td>NaN</td>\n",
       "    </tr>\n",
       "    <tr>\n",
       "      <th>8795</th>\n",
       "      <td>7556587</td>\n",
       "      <td>20200313233810</td>\n",
       "      <td>2020-03-14</td>\n",
       "      <td>39608626</td>\n",
       "      <td>NaT</td>\n",
       "      <td>NaN</td>\n",
       "      <td>NaN</td>\n",
       "      <td>NaN</td>\n",
       "      <td>NaN</td>\n",
       "      <td>NaN</td>\n",
       "      <td>40.82929</td>\n",
       "      <td>-73.94182</td>\n",
       "      <td>1</td>\n",
       "      <td>2</td>\n",
       "      <td>1.0</td>\n",
       "      <td>1.0</td>\n",
       "      <td>1.0</td>\n",
       "      <td>1</td>\n",
       "      <td>1</td>\n",
       "      <td>1125</td>\n",
       "      <td>1</td>\n",
       "      <td>1</td>\n",
       "      <td>1125</td>\n",
       "      <td>1125</td>\n",
       "      <td>1.0</td>\n",
       "      <td>1125.0</td>\n",
       "      <td>1</td>\n",
       "      <td>0</td>\n",
       "      <td>0</td>\n",
       "      <td>0</td>\n",
       "      <td>0</td>\n",
       "      <td>2020-03-14</td>\n",
       "      <td>1</td>\n",
       "      <td>0</td>\n",
       "      <td>2015-08-01</td>\n",
       "      <td>2015-08-01</td>\n",
       "      <td>NaN</td>\n",
       "      <td>NaN</td>\n",
       "      <td>NaN</td>\n",
       "      <td>NaN</td>\n",
       "      <td>NaN</td>\n",
       "      <td>NaN</td>\n",
       "      <td>NaN</td>\n",
       "      <td>0</td>\n",
       "      <td>0</td>\n",
       "      <td>0</td>\n",
       "      <td>0</td>\n",
       "      <td>0</td>\n",
       "      <td>1</td>\n",
       "      <td>0</td>\n",
       "      <td>1</td>\n",
       "      <td>0</td>\n",
       "      <td>0.02</td>\n",
       "    </tr>\n",
       "  </tbody>\n",
       "</table>\n",
       "</div>"
      ],
      "text/plain": [
       "           id       scrape_id last_scraped   host_id host_since  host_is_superhost  host_listings_count  host_total_listings_count  host_has_profile_pic  host_identity_verified  latitude  longitude  is_location_exact  accommodates  bathrooms  bedrooms  beds  guests_included  minimum_nights  maximum_nights  minimum_minimum_nights  maximum_minimum_nights  minimum_maximum_nights  maximum_maximum_nights  minimum_nights_avg_ntm  maximum_nights_avg_ntm  has_availability  availability_30  availability_60  availability_90  availability_365 calendar_last_scraped  number_of_reviews  number_of_reviews_ltm first_review last_review  review_scores_rating  review_scores_accuracy  review_scores_cleanliness  review_scores_checkin  review_scores_communication  review_scores_location  review_scores_value  requires_license  instant_bookable  is_business_travel_ready  require_guest_profile_picture  require_guest_phone_verification  calculated_host_listings_count  \\\n",
       "5436  4446862  20200313233810   2020-03-14  23077718        NaT                NaN                  NaN                        NaN                   NaN                     NaN  40.67512  -73.96146                  1             2        1.0       1.0   1.0                1               1            1125                       1                       1                    1125                    1125                     1.0                  1125.0                 1                0                0                0                 0            2020-03-14                  0                      0          NaT         NaT                   NaN                     NaN                        NaN                    NaN                          NaN                     NaN                  NaN                 0                 0                         0                              0                                 0                               1   \n",
       "5892  4763327  20200313233810   2020-03-14  24576978        NaT                NaN                  NaN                        NaN                   NaN                     NaN  40.72035  -73.95355                  1             4        1.0       1.0   2.0                2               1            1125                       1                       1                    1125                    1125                     1.0                  1125.0                 1                0                0                0                 0            2020-03-14                  1                      0   2015-10-20  2015-10-20                  80.0                     8.0                       10.0                   10.0                          8.0                    10.0                  8.0                 0                 0                         0                              0                                 0                               1   \n",
       "7404  6360224  20200313233810   2020-03-14  33134899        NaT                NaN                  NaN                        NaN                   NaN                     NaN  40.70146  -73.92792                  1             1        0.0       1.0   1.0                1               1            1125                       1                       1                    1125                    1125                     1.0                  1125.0                 1                0                0                0                 0            2020-03-14                  1                      0   2015-07-01  2015-07-01                   NaN                     NaN                        NaN                    NaN                          NaN                     NaN                  NaN                 0                 0                         0                              0                                 0                               1   \n",
       "8190  6992973  20200313233810   2020-03-14   5162530        NaT                NaN                  NaN                        NaN                   NaN                     NaN  40.71838  -73.95630                  1             4        2.0       2.0   1.0                2               1            1125                       1                       1                    1125                    1125                     1.0                  1125.0                 1                0                0                0                 0            2020-03-14                  0                      0          NaT         NaT                   NaN                     NaN                        NaN                    NaN                          NaN                     NaN                  NaN                 0                 0                         0                              0                                 0                               1   \n",
       "8795  7556587  20200313233810   2020-03-14  39608626        NaT                NaN                  NaN                        NaN                   NaN                     NaN  40.82929  -73.94182                  1             2        1.0       1.0   1.0                1               1            1125                       1                       1                    1125                    1125                     1.0                  1125.0                 1                0                0                0                 0            2020-03-14                  1                      0   2015-08-01  2015-08-01                   NaN                     NaN                        NaN                    NaN                          NaN                     NaN                  NaN                 0                 0                         0                              0                                 0                               1   \n",
       "\n",
       "      calculated_host_listings_count_entire_homes  calculated_host_listings_count_private_rooms  calculated_host_listings_count_shared_rooms  reviews_per_month  \n",
       "5436                                            0                                             1                                            0                NaN  \n",
       "5892                                            1                                             0                                            0               0.02  \n",
       "7404                                            0                                             1                                            0               0.02  \n",
       "8190                                            1                                             0                                            0                NaN  \n",
       "8795                                            0                                             1                                            0               0.02  "
      ]
     },
     "execution_count": 19,
     "metadata": {},
     "output_type": "execute_result"
    }
   ],
   "source": [
    "print(sum((df_listings_non_text['host_listings_count'] \n",
    "           == df_listings_non_text['host_total_listings_count']) \n",
    "          == False))\n",
    "\n",
    "df_listings_non_text.loc[((df_listings_non_text.host_listings_count \n",
    "                           == df_listings_non_text.host_total_listings_count) \n",
    "                          == False)]"
   ]
  },
  {
   "cell_type": "code",
   "execution_count": 20,
   "metadata": {},
   "outputs": [],
   "source": [
    "df_listings_non_text.drop(['host_listings_count','host_total_listings_count'], axis=1, inplace=True)"
   ]
  },
  {
   "cell_type": "code",
   "execution_count": 21,
   "metadata": {},
   "outputs": [
    {
     "data": {
      "image/png": "[encoded data removed]",
      "text/plain": [
       "<Figure size 1440x1440 with 49 Axes>"
      ]
     },
     "metadata": {
      "needs_background": "light"
     },
     "output_type": "display_data"
    }
   ],
   "source": [
    "# Plotting the distribution of numerical and boolean categories\n",
    "df_listings_non_text.hist(figsize=(20,20));"
   ]
  },
  {
   "cell_type": "code",
   "execution_count": 22,
   "metadata": {},
   "outputs": [],
   "source": [
    "# drop columns with a single category\n",
    "df_listings_non_text.drop(['has_availability', 'host_has_profile_pic', \n",
    "                      'is_business_travel_ready', 'require_guest_phone_verification', \n",
    "                      'require_guest_profile_picture', 'requires_license'], axis=1, inplace=True)"
   ]
  },
  {
   "cell_type": "markdown",
   "metadata": {},
   "source": [
    "## Cleaning individual columns"
   ]
  },
  {
   "cell_type": "markdown",
   "metadata": {},
   "source": [
    "**host_since**"
   ]
  },
  {
   "cell_type": "code",
   "execution_count": 31,
   "metadata": {},
   "outputs": [
    {
     "name": "stdout",
     "output_type": "stream",
     "text": [
      "Mean days as host: 1669\n",
      "Median days as host: 1698\n"
     ]
    },
    {
     "data": {
      "text/plain": [
       "Timedelta('1698 days 00:00:00')"
      ]
     },
     "execution_count": 31,
     "metadata": {},
     "output_type": "execute_result"
    }
   ],
   "source": [
    "# df_listings_non_text.host_since.value_counts()\n",
    "df_listings_non_text.host_since.head()\n",
    "\n",
    "# Calculating the number of days a host has been active to scraping date\n",
    "df_listings_non_text['host_days_active'] = df_listings_non_text.loc[:,'host_since'].apply(lambda x: \n",
    "                                                                                          datetime.datetime(\n",
    "                                                                                              2020, 3, 14) - x)\n",
    "\n",
    "# Printing mean and median\n",
    "print(\"Mean days as host:\", df_listings_non_text['host_days_active'].mean().days)\n",
    "print(\"Median days as host:\", df_listings_non_text['host_days_active'].median().days)\n",
    "\n",
    "# Replacing null values with the median\n",
    "pd.Timedelta(days=median_days)"
   ]
  },
  {
   "cell_type": "markdown",
   "metadata": {},
   "source": [
    "***"
   ]
  },
  {
   "cell_type": "markdown",
   "metadata": {},
   "source": [
    "# NLP Analysis"
   ]
  },
  {
   "cell_type": "markdown",
   "metadata": {},
   "source": [
    "## Sentiment Analysis of review comments"
   ]
  },
  {
   "cell_type": "code",
   "execution_count": 36,
   "metadata": {},
   "outputs": [
    {
     "data": {
      "text/html": [
       "<div>\n",
       "<style scoped>\n",
       "    .dataframe tbody tr th:only-of-type {\n",
       "        vertical-align: middle;\n",
       "    }\n",
       "\n",
       "    .dataframe tbody tr th {\n",
       "        vertical-align: top;\n",
       "    }\n",
       "\n",
       "    .dataframe thead th {\n",
       "        text-align: right;\n",
       "    }\n",
       "</style>\n",
       "<table border=\"1\" class=\"dataframe\">\n",
       "  <thead>\n",
       "    <tr style=\"text-align: right;\">\n",
       "      <th></th>\n",
       "      <th>listing_id</th>\n",
       "      <th>id</th>\n",
       "      <th>date</th>\n",
       "      <th>reviewer_id</th>\n",
       "      <th>reviewer_name</th>\n",
       "      <th>comments</th>\n",
       "    </tr>\n",
       "  </thead>\n",
       "  <tbody>\n",
       "    <tr>\n",
       "      <th>0</th>\n",
       "      <td>2060</td>\n",
       "      <td>158</td>\n",
       "      <td>2008-09-22</td>\n",
       "      <td>2865</td>\n",
       "      <td>Thom</td>\n",
       "      <td>very nice neighborhood,close enough to \"A\" tra...</td>\n",
       "    </tr>\n",
       "    <tr>\n",
       "      <th>1</th>\n",
       "      <td>2595</td>\n",
       "      <td>17857</td>\n",
       "      <td>2009-11-21</td>\n",
       "      <td>50679</td>\n",
       "      <td>Jean</td>\n",
       "      <td>Notre séjour de trois nuits.\\r\\nNous avons app...</td>\n",
       "    </tr>\n",
       "    <tr>\n",
       "      <th>2</th>\n",
       "      <td>2595</td>\n",
       "      <td>19176</td>\n",
       "      <td>2009-12-05</td>\n",
       "      <td>53267</td>\n",
       "      <td>Cate</td>\n",
       "      <td>Great experience.</td>\n",
       "    </tr>\n",
       "    <tr>\n",
       "      <th>3</th>\n",
       "      <td>2595</td>\n",
       "      <td>19760</td>\n",
       "      <td>2009-12-10</td>\n",
       "      <td>38960</td>\n",
       "      <td>Anita</td>\n",
       "      <td>I've stayed with my friend at the Midtown Cast...</td>\n",
       "    </tr>\n",
       "    <tr>\n",
       "      <th>4</th>\n",
       "      <td>2595</td>\n",
       "      <td>34320</td>\n",
       "      <td>2010-04-09</td>\n",
       "      <td>71130</td>\n",
       "      <td>Kai-Uwe</td>\n",
       "      <td>We've been staying here for about 9 nights, en...</td>\n",
       "    </tr>\n",
       "  </tbody>\n",
       "</table>\n",
       "</div>"
      ],
      "text/plain": [
       "   listing_id     id        date  reviewer_id reviewer_name                                           comments\n",
       "0        2060    158  2008-09-22         2865          Thom  very nice neighborhood,close enough to \"A\" tra...\n",
       "1        2595  17857  2009-11-21        50679          Jean  Notre séjour de trois nuits.\\r\\nNous avons app...\n",
       "2        2595  19176  2009-12-05        53267          Cate                                  Great experience.\n",
       "3        2595  19760  2009-12-10        38960         Anita  I've stayed with my friend at the Midtown Cast...\n",
       "4        2595  34320  2010-04-09        71130       Kai-Uwe  We've been staying here for about 9 nights, en..."
      ]
     },
     "execution_count": 36,
     "metadata": {},
     "output_type": "execute_result"
    }
   ],
   "source": [
    "# df_reviews.shape\n",
    "df_reviews.head()"
   ]
  },
  {
   "cell_type": "code",
   "execution_count": 37,
   "metadata": {},
   "outputs": [
    {
     "name": "stdout",
     "output_type": "stream",
     "text": [
      "{'neg': 0.0, 'neu': 0.254, 'pos': 0.746, 'compound': 0.8316}\n"
     ]
    }
   ],
   "source": [
    "# calculates compound sentiment polarity of the sentence\n",
    "vader_polarity_compound = lambda x: (SentimentIntensityAnalyzer().polarity_scores(x))['compound']\n",
    "\n",
    "# We can retrieve scores for positive, negative or neutral sentiment. \n",
    "# We will use the compound: a normalized value: norm_score = score / math.sqrt((score * score) + alpha)\n",
    "print(SentimentIntensityAnalyzer().polarity_scores('VADER is smart, handsome, and funny.'))"
   ]
  },
  {
   "cell_type": "code",
   "execution_count": 38,
   "metadata": {},
   "outputs": [
    {
     "data": {
      "text/plain": [
       "'0.05879231633876933% of reviews have empty comments'"
      ]
     },
     "execution_count": 38,
     "metadata": {},
     "output_type": "execute_result"
    }
   ],
   "source": [
    "# determining the number of no comments\n",
    "\"{}% of reviews have empty comments\".format((df_reviews.comments.isnull().sum() / df_reviews.comments.shape[0]) *100)\n",
    "# \"My name is {}, I'am {}\".format(\"John\",36)"
   ]
  },
  {
   "cell_type": "code",
   "execution_count": 39,
   "metadata": {},
   "outputs": [],
   "source": [
    "# Since the percentage is so insignificant, these rows will be dropped\n",
    "df_reviews.dropna(subset=['comments'], how='any', axis=0, inplace=True)"
   ]
  },
  {
   "cell_type": "markdown",
   "metadata": {},
   "source": [
    "Using the pre-trained Vader sentiment model based on NLTK go create polarity scores for all reviews:"
   ]
  },
  {
   "cell_type": "code",
   "execution_count": 41,
   "metadata": {},
   "outputs": [],
   "source": [
    "# df_reviews['polarity'] = df_reviews.comments.map(vader_polarity_compound)"
   ]
  },
  {
   "cell_type": "markdown",
   "metadata": {},
   "source": [
    "Function that predicts the language. It needs to be passed a string with decent amount of characters, thus the calculation on the fly of the lenght of the string passed."
   ]
  },
  {
   "cell_type": "code",
   "execution_count": null,
   "metadata": {},
   "outputs": [],
   "source": [
    "def predict_lang(x):\n",
    "    lang=''\n",
    "    txt_len=len(x)\n",
    "    if txt_len>100:\n",
    "        try:\n",
    "            lang=detect(x)\n",
    "        except Exception as e:\n",
    "            lang=''\n",
    "    return lang"
   ]
  },
  {
   "cell_type": "code",
   "execution_count": null,
   "metadata": {},
   "outputs": [],
   "source": [
    "df_reviews['review_lang'] = df_reviews.comments.apply(lambda x: predict_lang(x))"
   ]
  },
  {
   "cell_type": "markdown",
   "metadata": {},
   "source": [
    "We observe that a lot of reviews didnt get a language value. This is because their length was too short for the calculation"
   ]
  },
  {
   "cell_type": "code",
   "execution_count": null,
   "metadata": {},
   "outputs": [],
   "source": [
    "# df_reviews.review_lang.value_counts()"
   ]
  },
  {
   "cell_type": "markdown",
   "metadata": {},
   "source": [
    "Reviews were exported for both English and Spanish. I checked the spanish reviews fo sentiment and wasn't accurate what leads me to believe that this algorithm works best for English text"
   ]
  },
  {
   "cell_type": "code",
   "execution_count": null,
   "metadata": {},
   "outputs": [],
   "source": [
    "df_reviews[df_reviews.review_lang == 'en'].to_csv('reviews_with_sentiment_en.csv', sep='\\t', index=False)"
   ]
  },
  {
   "cell_type": "markdown",
   "metadata": {},
   "source": [
    "## How to Relate Host Response Time with Review Score Communication?"
   ]
  },
  {
   "cell_type": "markdown",
   "metadata": {},
   "source": [
    "**host_response_time**"
   ]
  },
  {
   "cell_type": "code",
   "execution_count": 97,
   "metadata": {},
   "outputs": [
    {
     "data": {
      "text/plain": [
       "(within an hour        20445\n",
       " NaN                   19006\n",
       " within a few hours     6009\n",
       " within a day           4218\n",
       " a few days or more     1118\n",
       " Name: host_response_time, dtype: int64,\n",
       " (50796, 44))"
      ]
     },
     "execution_count": 97,
     "metadata": {},
     "output_type": "execute_result"
    }
   ],
   "source": [
    "df_listings_for_NLP.host_response_time.value_counts(dropna=False), df_listings_for_NLP.shape"
   ]
  },
  {
   "cell_type": "markdown",
   "metadata": {},
   "source": [
    "Understanding how many null values does this column have and what is the overall proportion to the total"
   ]
  },
  {
   "cell_type": "code",
   "execution_count": 43,
   "metadata": {},
   "outputs": [
    {
     "name": "stdout",
     "output_type": "stream",
     "text": [
      "Null values in host response time: 19006\n",
      "Proportion to the hosts WITHOUT response time: 37.4%\n"
     ]
    }
   ],
   "source": [
    "print(\"Null values in host response time:\", df_listings_for_NLP.host_response_time.isna().sum())\n",
    "print(f\"Proportion to the hosts WITHOUT response time: {round((df_listings_for_NLP.host_response_time.isna().sum()/len(df_listings_for_NLP))*100, 1)}%\")"
   ]
  },
  {
   "cell_type": "markdown",
   "metadata": {},
   "source": [
    "Histogram to visualize frequency"
   ]
  },
  {
   "cell_type": "code",
   "execution_count": 74,
   "metadata": {},
   "outputs": [
    {
     "data": {
      "text/plain": [
       "Text(0.5, 1.0, 'Count of types of response times available on AirBnb')"
      ]
     },
     "execution_count": 74,
     "metadata": {},
     "output_type": "execute_result"
    },
    {
     "data": {
      "image/png": "[encoded data removed]",
      "text/plain": [
       "<Figure size 432x288 with 1 Axes>"
      ]
     },
     "metadata": {
      "needs_background": "light"
     },
     "output_type": "display_data"
    }
   ],
   "source": [
    "df_listings_for_NLP.host_response_time.value_counts(dropna=False).plot(kind='bar')    \n",
    "    \n",
    "plt.pyplot.xticks(rotation=-25) #Rotate xticks\n",
    "plt.pyplot.xlabel('Types of Respose Time')\n",
    "plt.pyplot.ylabel('Count')\n",
    "plt.pyplot.title('Count of types of response times available on AirBnb')"
   ]
  },
  {
   "cell_type": "markdown",
   "metadata": {},
   "source": [
    "**Is there a connection between hosts not having response time and the reviews they get in terms of communication**?"
   ]
  },
  {
   "cell_type": "code",
   "execution_count": 106,
   "metadata": {},
   "outputs": [
    {
     "name": "stdout",
     "output_type": "stream",
     "text": [
      "Hosts with no response time that don't have a review yet: 5608\n",
      "Proportion to total hosts with no response time: 29.50647164053457\n"
     ]
    }
   ],
   "source": [
    "# Number of rows without a value for host_response_time which have also not yet had a review\n",
    "df_host_response_review = pd.concat([df_listings_for_NLP['host_response_time'],\n",
    "                                     df_listings_non_text['first_review']], axis=1)\n",
    "\n",
    "cond = df_host_response_review.loc[:,['host_response_time','first_review']].isnull().sum(axis=1) == 2\n",
    "host_with_no_resp_time = len(df_host_response_review[cond])\n",
    "print(\"Hosts with no response time that don't have a review yet:\", host_with_no_resp_time)\n",
    "\n",
    "print(\"Proportion to total hosts with no response time:\", \n",
    "     (host_with_no_resp_time/df_host_response_review.host_response_time.isna().sum())*100)"
   ]
  },
  {
   "cell_type": "code",
   "execution_count": 100,
   "metadata": {},
   "outputs": [],
   "source": []
  },
  {
   "cell_type": "code",
   "execution_count": 103,
   "metadata": {},
   "outputs": [
    {
     "data": {
      "text/plain": [
       "5608"
      ]
     },
     "execution_count": 103,
     "metadata": {},
     "output_type": "execute_result"
    }
   ],
   "source": []
  },
  {
   "cell_type": "code",
   "execution_count": null,
   "metadata": {},
   "outputs": [],
   "source": [
    "# df_listings_non_text.review_scores_communication.value_counts()\n",
    "# df_listings_non_text.review_scores_communication.isna().sum()\n",
    "\n",
    "tmp = df_listings"
   ]
  },
  {
   "cell_type": "code",
   "execution_count": null,
   "metadata": {},
   "outputs": [],
   "source": [
    "tmp=tmp.loc[:,['host_response_time','first_review','review_scores_communication']]"
   ]
  },
  {
   "cell_type": "code",
   "execution_count": null,
   "metadata": {},
   "outputs": [],
   "source": [
    "tmp.host_response_time.hist();"
   ]
  },
  {
   "cell_type": "markdown",
   "metadata": {},
   "source": [
    "**Is there a correlation between response rate an a positive review?**"
   ]
  },
  {
   "cell_type": "code",
   "execution_count": null,
   "metadata": {},
   "outputs": [],
   "source": [
    "# calendar_last_scraped                           datetime64[ns]\n",
    "# number_of_reviews                                        int64\n",
    "# number_of_reviews_ltm                                    int64\n",
    "# first_review                                            object\n",
    "# last_review                                     datetime64[ns]\n",
    "# review_scores_rating                                   float64\n",
    "# review_scores_accuracy                                 float64\n",
    "# review_scores_cleanliness                              float64\n",
    "# review_scores_checkin                                  float64\n",
    "# review_scores_communication                            float64\n",
    "# review_scores_location                                 float64\n",
    "# review_scores_value                                    float64"
   ]
  },
  {
   "cell_type": "markdown",
   "metadata": {},
   "source": [
    "**Is there correlation between starring and host response rate?**"
   ]
  },
  {
   "cell_type": "code",
   "execution_count": null,
   "metadata": {},
   "outputs": [],
   "source": [
    "# Normalizing the data\n",
    "df_listings_for_NLP.host_response_time.fillna(\"unknown\", inplace=True)\n",
    "df_listings_for_NLP.host_response_time.value_counts(normalize=True)"
   ]
  },
  {
   "cell_type": "markdown",
   "metadata": {},
   "source": [
    "***"
   ]
  },
  {
   "cell_type": "markdown",
   "metadata": {},
   "source": [
    "## Count the number of unique listings in calendar and listings DF"
   ]
  },
  {
   "cell_type": "code",
   "execution_count": null,
   "metadata": {},
   "outputs": [],
   "source": [
    "df_calendar['listing_id'].nunique()"
   ]
  },
  {
   "cell_type": "markdown",
   "metadata": {},
   "source": [
    "## Joining calendar with listings. I want to know data from what years are available"
   ]
  },
  {
   "cell_type": "code",
   "execution_count": null,
   "metadata": {},
   "outputs": [],
   "source": [
    "# df_listings_date = pd.merge(df_listings, df_calendar, how='inner', on=['listing_id', 'listing_id'])"
   ]
  },
  {
   "cell_type": "code",
   "execution_count": null,
   "metadata": {},
   "outputs": [],
   "source": [
    "df_calendar['date'] = pd.to_datetime(df_calendar['date'])\n",
    "df_calendar ['year'] = pd.DatetimeIndex(df_calendar['date']).year"
   ]
  },
  {
   "cell_type": "markdown",
   "metadata": {},
   "source": [
    "## Years of listings available"
   ]
  },
  {
   "cell_type": "code",
   "execution_count": null,
   "metadata": {},
   "outputs": [],
   "source": [
    "pd.Categorical(df_calendar['year'])"
   ]
  },
  {
   "cell_type": "markdown",
   "metadata": {},
   "source": [
    "## Creating season label"
   ]
  },
  {
   "cell_type": "code",
   "execution_count": null,
   "metadata": {},
   "outputs": [],
   "source": [
    "df_calendar['season'] = (pd.DatetimeIndex(df_calendar['date']).month%12 + 3)//3\n",
    "df_calendar['season_l'] = pd.cut(df_calendar['season'], 4, labels=[\"winter\", \"spring\", \"summer\",\"autum\"])"
   ]
  },
  {
   "cell_type": "code",
   "execution_count": null,
   "metadata": {},
   "outputs": [],
   "source": [
    "# df_calendar[df_calendar['season']==1]\n",
    "df_calendar.head()\n",
    "# df_calendar.shape"
   ]
  },
  {
   "cell_type": "markdown",
   "metadata": {},
   "source": [
    "## Understanding the difference between adjusted price and price"
   ]
  },
  {
   "cell_type": "code",
   "execution_count": null,
   "metadata": {},
   "outputs": [],
   "source": [
    "# example = [sub(r'[^\\d.]', '', r['price']) for i, r in df_calendar_temp.iterrows()]\n",
    "df_calendar['price'] = [float(sub(r'[^\\d.]', '', r['price'])) for i, r in df_calendar.iterrows()]"
   ]
  },
  {
   "cell_type": "code",
   "execution_count": null,
   "metadata": {},
   "outputs": [],
   "source": [
    "df_calendar['adjusted_price'] = [float(sub(r'[^\\d.]', '', r['adjusted_price'])) for i, r in df_calendar.iterrows()]"
   ]
  },
  {
   "cell_type": "code",
   "execution_count": null,
   "metadata": {},
   "outputs": [],
   "source": [
    "df_calendar['difference_price_adjusted'] = df_calendar['price'] - df_calendar['adjusted_price'] "
   ]
  },
  {
   "cell_type": "code",
   "execution_count": null,
   "metadata": {},
   "outputs": [],
   "source": [
    "# df_calendar[df_calendar['difference_price_adjusted']<0]\n",
    "# conclusion: there is a difference between adjusted price and actual price. We need to further investigate"
   ]
  },
  {
   "cell_type": "markdown",
   "metadata": {},
   "source": [
    "## Which areas of have the most Airbnb properties, and which are the most expensive?"
   ]
  },
  {
   "cell_type": "code",
   "execution_count": null,
   "metadata": {},
   "outputs": [],
   "source": [
    "df_calendar[df_calendar['difference_price_adjusted']<0]"
   ]
  }
 ],
 "metadata": {
  "kernelspec": {
   "display_name": "mykernel",
   "language": "python",
   "name": "mykernel"
  },
  "language_info": {
   "codemirror_mode": {
    "name": "ipython",
    "version": 3
   },
   "file_extension": ".py",
   "mimetype": "text/x-python",
   "name": "python",
   "nbconvert_exporter": "python",
   "pygments_lexer": "ipython3",
   "version": "3.6.10"
  }
 },
 "nbformat": 4,
 "nbformat_minor": 4
}

{
 "cells": [
  {
   "cell_type": "code",
   "execution_count": 1,
   "metadata": {},
   "outputs": [],
   "source": [
    "import os\n",
    "import io\n",
    "import re\n",
    "import numpy as np\n",
    "import pandas as pd\n",
    "import matplotlib\n",
    "import matplotlib.pyplot as plt\n",
    "import seaborn as sns\n",
    "from collections import Counter\n",
    "\n",
    "import warnings\n",
    "warnings.filterwarnings('ignore')"
   ]
  },
  {
   "cell_type": "code",
   "execution_count": 2,
   "metadata": {},
   "outputs": [],
   "source": [
    "#read data, specify index so it's easier to join and search using loc\n",
    "path = '../../data/new-york-city-airbnb-open-data/'\n",
    "listings_csv = os.path.join(path,'selected_columns_listings.csv')\n",
    "df = pd.read_csv(listings_csv)"
   ]
  },
  {
   "cell_type": "code",
   "execution_count": 3,
   "metadata": {},
   "outputs": [],
   "source": [
    "df.drop(columns=['listing_url','name','host_name','host_url','host_url', 'host_since','host_location','host_listings_count',\n",
    "          'host_listings_count','street','state','market','calculated_host_listings_count','calculated_host_listings_count_entire_homes',\n",
    "        'calculated_host_listings_count_private_rooms','calculated_host_listings_count_shared_rooms' ], inplace=True)"
   ]
  },
  {
   "cell_type": "code",
   "execution_count": 4,
   "metadata": {},
   "outputs": [],
   "source": [
    "df['price'] = pd.to_numeric(df.price.str.replace('$',''),errors='coerce')\n",
    "df['host_response_rate'] = pd.to_numeric(df.host_response_rate.str.replace('%',''),errors='coerce')\n",
    "df['host_acceptance_rate'] = pd.to_numeric(df.host_acceptance_rate.str.replace('%',''),errors='coerce')\n",
    "df['host_is_superhost']=df.host_is_superhost.replace(['t','f'],[1,0])\n",
    "df['host_identity_verified']=df.host_identity_verified.replace(['t','f'],[1,0])\n",
    "df['is_location_exact']=df.is_location_exact.replace(['t','f'],[1,0])\n",
    "df['security_deposit'] = pd.to_numeric(df.security_deposit.str.replace('$',''),errors='coerce')\n",
    "df['cleaning_fee'] = pd.to_numeric(df.cleaning_fee.str.replace('$',''),errors='coerce') \n",
    "df['extra_people'] = pd.to_numeric(df.extra_people.str.replace('$',''),errors='coerce')\n",
    "df['instant_bookable']=df.instant_bookable.replace(['t','f'],[1,0])"
   ]
  },
  {
   "cell_type": "code",
   "execution_count": 5,
   "metadata": {},
   "outputs": [],
   "source": [
    "df.host_response_rate.fillna(df.host_response_rate.mean(), inplace=True)\n",
    "df.host_acceptance_rate.fillna(df.host_acceptance_rate.mean(), inplace=True)\n",
    "df.host_is_superhost.fillna(df.host_is_superhost.mean(), inplace=True)\n",
    "df.host_identity_verified.fillna(df.host_identity_verified.mean(), inplace=True)\n",
    "df.is_location_exact.fillna(df.is_location_exact.mean(), inplace=True)\n",
    "df.security_deposit.fillna(df.security_deposit.mean(),inplace=True)\n",
    "df.cleaning_fee.fillna(df.cleaning_fee.mean(),inplace=True)\n",
    "df.extra_people.fillna(df.extra_people.mean(),inplace=True)"
   ]
  },
  {
   "cell_type": "code",
   "execution_count": 6,
   "metadata": {},
   "outputs": [],
   "source": [
    "#Drop other type of bed - keep just \"Real Bed\"\n",
    "df=df.set_index(\"bed_type\")\n",
    "df.drop([\"Airbed\",\"Couch\",\"Futon\",\"Pull-out Sofa\"], axis=0,inplace=True)\n",
    "#Drop Hotel Room from room_type\n",
    "df=df[df.room_type != 'Hotel room']"
   ]
  },
  {
   "cell_type": "code",
   "execution_count": 18,
   "metadata": {},
   "outputs": [],
   "source": [
    "df.reset_index(drop=True, inplace=True)"
   ]
  },
  {
   "cell_type": "code",
   "execution_count": 8,
   "metadata": {},
   "outputs": [
    {
     "data": {
      "text/html": [
       "<div>\n",
       "<style scoped>\n",
       "    .dataframe tbody tr th:only-of-type {\n",
       "        vertical-align: middle;\n",
       "    }\n",
       "\n",
       "    .dataframe tbody tr th {\n",
       "        vertical-align: top;\n",
       "    }\n",
       "\n",
       "    .dataframe thead th {\n",
       "        text-align: right;\n",
       "    }\n",
       "</style>\n",
       "<table border=\"1\" class=\"dataframe\">\n",
       "  <thead>\n",
       "    <tr style=\"text-align: right;\">\n",
       "      <th>room_type</th>\n",
       "      <th>Entire home/apt</th>\n",
       "      <th>Private room</th>\n",
       "      <th>Shared room</th>\n",
       "      <th>All</th>\n",
       "    </tr>\n",
       "    <tr>\n",
       "      <th>neighbourhood_group_cleansed</th>\n",
       "      <th></th>\n",
       "      <th></th>\n",
       "      <th></th>\n",
       "      <th></th>\n",
       "    </tr>\n",
       "  </thead>\n",
       "  <tbody>\n",
       "    <tr>\n",
       "      <th>Bronx</th>\n",
       "      <td>431</td>\n",
       "      <td>754</td>\n",
       "      <td>50</td>\n",
       "      <td>1235</td>\n",
       "    </tr>\n",
       "    <tr>\n",
       "      <th>Brooklyn</th>\n",
       "      <td>9767</td>\n",
       "      <td>9990</td>\n",
       "      <td>404</td>\n",
       "      <td>20161</td>\n",
       "    </tr>\n",
       "    <tr>\n",
       "      <th>Manhattan</th>\n",
       "      <td>13416</td>\n",
       "      <td>7910</td>\n",
       "      <td>451</td>\n",
       "      <td>21777</td>\n",
       "    </tr>\n",
       "    <tr>\n",
       "      <th>Queens</th>\n",
       "      <td>2243</td>\n",
       "      <td>3700</td>\n",
       "      <td>194</td>\n",
       "      <td>6137</td>\n",
       "    </tr>\n",
       "    <tr>\n",
       "      <th>Staten Island</th>\n",
       "      <td>185</td>\n",
       "      <td>181</td>\n",
       "      <td>5</td>\n",
       "      <td>371</td>\n",
       "    </tr>\n",
       "    <tr>\n",
       "      <th>All</th>\n",
       "      <td>26042</td>\n",
       "      <td>22535</td>\n",
       "      <td>1104</td>\n",
       "      <td>49681</td>\n",
       "    </tr>\n",
       "  </tbody>\n",
       "</table>\n",
       "</div>"
      ],
      "text/plain": [
       "room_type                     Entire home/apt  Private room  Shared room  \\\n",
       "neighbourhood_group_cleansed                                               \n",
       "Bronx                                     431           754           50   \n",
       "Brooklyn                                 9767          9990          404   \n",
       "Manhattan                               13416          7910          451   \n",
       "Queens                                   2243          3700          194   \n",
       "Staten Island                             185           181            5   \n",
       "All                                     26042         22535         1104   \n",
       "\n",
       "room_type                       All  \n",
       "neighbourhood_group_cleansed         \n",
       "Bronx                          1235  \n",
       "Brooklyn                      20161  \n",
       "Manhattan                     21777  \n",
       "Queens                         6137  \n",
       "Staten Island                   371  \n",
       "All                           49681  "
      ]
     },
     "execution_count": 8,
     "metadata": {},
     "output_type": "execute_result"
    }
   ],
   "source": [
    "pd.crosstab(df.neighbourhood_group_cleansed,df.room_type,margins=True)"
   ]
  },
  {
   "cell_type": "code",
   "execution_count": 9,
   "metadata": {},
   "outputs": [
    {
     "data": {
      "text/plain": [
       "<seaborn.axisgrid.FacetGrid at 0x12b10f358>"
      ]
     },
     "execution_count": 9,
     "metadata": {},
     "output_type": "execute_result"
    },
    {
     "data": {
      "image/png": "[encoded data removed]",
      "text/plain": [
       "<Figure size 527.125x360 with 1 Axes>"
      ]
     },
     "metadata": {
      "needs_background": "light"
     },
     "output_type": "display_data"
    }
   ],
   "source": [
    "g_1 = sns.catplot(x=\"price\", y=\"room_type\", hue=\"neighbourhood_group_cleansed\", data=df,\n",
    "              height=5, kind=\"bar\", palette=\"RdBu\")\n",
    "g_1.despine(left=False)\n",
    "g_1.set_ylabels(\"Room_type\")"
   ]
  },
  {
   "cell_type": "code",
   "execution_count": 10,
   "metadata": {},
   "outputs": [],
   "source": [
    "pd.set_option('display.max_columns', 500)\n",
    "pd.set_option('display.max_rows', 500)"
   ]
  },
  {
   "cell_type": "code",
   "execution_count": 25,
   "metadata": {},
   "outputs": [],
   "source": [
    "corr=df.corr()"
   ]
  },
  {
   "cell_type": "code",
   "execution_count": 26,
   "metadata": {},
   "outputs": [
    {
     "data": {
      "text/plain": [
       "Unnamed: 0                     0.009371\n",
       "id                             0.008177\n",
       "host_id                       -0.000374\n",
       "host_response_rate             0.004972\n",
       "host_acceptance_rate          -0.011292\n",
       "host_is_superhost              0.010741\n",
       "host_total_listings_count      0.125265\n",
       "host_identity_verified         0.007430\n",
       "latitude                       0.061096\n",
       "longitude                     -0.262441\n",
       "is_location_exact              0.000491\n",
       "accommodates                   0.529873\n",
       "bathrooms                      0.272156\n",
       "bedrooms                       0.398035\n",
       "beds                           0.401417\n",
       "price                          1.000000\n",
       "security_deposit               0.182315\n",
       "cleaning_fee                   0.458355\n",
       "guests_included                0.304309\n",
       "extra_people                   0.071770\n",
       "minimum_nights                 0.026527\n",
       "maximum_nights                 0.001891\n",
       "minimum_minimum_nights         0.026002\n",
       "maximum_minimum_nights         0.088822\n",
       "minimum_maximum_nights         0.029655\n",
       "maximum_maximum_nights         0.029655\n",
       "minimum_nights_avg_ntm         0.091129\n",
       "maximum_nights_avg_ntm         0.029655\n",
       "availability_30                0.066892\n",
       "availability_60                0.063038\n",
       "availability_90                0.059002\n",
       "availability_365               0.105966\n",
       "number_of_reviews             -0.050332\n",
       "number_of_reviews_ltm         -0.048361\n",
       "review_scores_rating           0.065074\n",
       "review_scores_accuracy         0.027562\n",
       "review_scores_cleanliness      0.087678\n",
       "review_scores_checkin          0.016503\n",
       "review_scores_communication    0.024008\n",
       "review_scores_location         0.132168\n",
       "review_scores_value           -0.014730\n",
       "instant_bookable              -0.015278\n",
       "reviews_per_month             -0.030146\n",
       "Name: price, dtype: float64"
      ]
     },
     "execution_count": 26,
     "metadata": {},
     "output_type": "execute_result"
    }
   ],
   "source": [
    "corr.price"
   ]
  },
  {
   "cell_type": "code",
   "execution_count": null,
   "metadata": {},
   "outputs": [],
   "source": []
  }
 ],
 "metadata": {
  "kernelspec": {
   "display_name": "Python 3",
   "language": "python",
   "name": "python3"
  },
  "language_info": {
   "codemirror_mode": {
    "name": "ipython",
    "version": 3
   },
   "file_extension": ".py",
   "mimetype": "text/x-python",
   "name": "python",
   "nbconvert_exporter": "python",
   "pygments_lexer": "ipython3",
   "version": "3.7.1"
  }
 },
 "nbformat": 4,
 "nbformat_minor": 2
}

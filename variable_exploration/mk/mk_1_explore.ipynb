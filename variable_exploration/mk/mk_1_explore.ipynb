{
 "cells": [
  {
   "cell_type": "markdown",
   "metadata": {},
   "source": [
    "# Exploring the Data\n",
    "This is using NY data. Looks like inside aribnb data is same format so it can be used for other cities. This notebook is dealing with selecting columns to use.\n"
   ]
  },
  {
   "cell_type": "code",
   "execution_count": 1,
   "metadata": {},
   "outputs": [],
   "source": [
    "import os\n",
    "import io\n",
    "import re\n",
    "import numpy as np\n",
    "import pandas as pd\n",
    "import matplotlib\n",
    "import matplotlib.pyplot as plt\n",
    "import seaborn as sns\n",
    "\n",
    "import warnings\n",
    "warnings.filterwarnings('ignore')"
   ]
  },
  {
   "cell_type": "code",
   "execution_count": 2,
   "metadata": {},
   "outputs": [],
   "source": [
    "#read data, specify index so it's easier to join and search using loc\n",
    "path = '../../data/new-york-city-airbnb-open-data/'\n",
    "listings_csv = os.path.join(path,'listings.csv')\n",
    "\n",
    "listings = pd.read_csv(listings_csv, index_col = 'id')"
   ]
  },
  {
   "cell_type": "code",
   "execution_count": 3,
   "metadata": {},
   "outputs": [
    {
     "output_type": "execute_result",
     "data": {
      "text/plain": "(50796, 105)"
     },
     "metadata": {},
     "execution_count": 3
    }
   ],
   "source": [
    "#shape\n",
    "total_row = listings.shape[0]\n",
    "listings.shape"
   ]
  },
  {
   "cell_type": "code",
   "execution_count": 4,
   "metadata": {},
   "outputs": [],
   "source": [
    "#to get all columns, set option\n",
    "pd.set_option('display.max_columns', 107)\n",
    "#to get text with no truncation\n",
    "pd.set_option('display.max_colwidth', -1)"
   ]
  },
  {
   "cell_type": "code",
   "execution_count": 5,
   "metadata": {},
   "outputs": [],
   "source": [
    "#check if columns have lots of null (50% or more)\n",
    "def less_than_50_percent(colname):\n",
    "    isnull_count = listings[colname].isna().sum()\n",
    "    if isnull_count/total_row > .5:\n",
    "        return True\n"
   ]
  },
  {
   "cell_type": "code",
   "execution_count": 6,
   "metadata": {},
   "outputs": [
    {
     "output_type": "stream",
     "name": "stdout",
     "text": "['notes', 'thumbnail_url', 'medium_url', 'xl_picture_url', 'square_feet', 'weekly_price', 'monthly_price', 'license', 'jurisdiction_names']\n"
    }
   ],
   "source": [
    "columns = list(listings)\n",
    "remove_columns = []\n",
    "for column in columns:\n",
    "    remove_column_y_n = less_than_50_percent(column)\n",
    "    if remove_column_y_n:\n",
    "        remove_columns.append(column)\n",
    "\n",
    "print(remove_columns)"
   ]
  },
  {
   "cell_type": "code",
   "execution_count": 7,
   "metadata": {},
   "outputs": [
    {
     "output_type": "execute_result",
     "data": {
      "text/plain": "(50796, 96)"
     },
     "metadata": {},
     "execution_count": 7
    }
   ],
   "source": [
    "listings.drop(remove_columns, inplace=True, axis=1)\n",
    "#chek if columns are removed\n",
    "listings.shape"
   ]
  },
  {
   "cell_type": "code",
   "execution_count": 8,
   "metadata": {},
   "outputs": [],
   "source": [
    "#check if all records have same value\n",
    "def all_same_value(colname):\n",
    "    count_unique = len(listings[colname].unique())\n",
    "    if count_unique == 1:\n",
    "        return True"
   ]
  },
  {
   "cell_type": "code",
   "execution_count": 9,
   "metadata": {},
   "outputs": [
    {
     "output_type": "stream",
     "name": "stdout",
     "text": "['scrape_id', 'experiences_offered', 'country_code', 'country', 'has_availability', 'requires_license', 'is_business_travel_ready']\n"
    }
   ],
   "source": [
    "columns = list(listings)\n",
    "remove_columns = []\n",
    "for column in columns:\n",
    "    remove_column_y_n = all_same_value(column)\n",
    "    if remove_column_y_n:\n",
    "        remove_columns.append(column)\n",
    "\n",
    "print(remove_columns)"
   ]
  },
  {
   "cell_type": "code",
   "execution_count": null,
   "metadata": {},
   "outputs": [],
   "source": [
    "listings.drop(remove_columns, inplace=True, axis=1)\n",
    "#chek if columns are removed\n",
    "listings.shape"
   ]
  },
  {
   "cell_type": "code",
   "execution_count": 50,
   "metadata": {},
   "outputs": [],
   "source": [
    "#get max length\n",
    "def getmaxlength(colname):\n",
    "    listings['length'] = listings[colname].str.len()\n",
    "    sorted = listings['length'].sort_values(ascending = False)\n",
    "    maxlength = sorted.head(1).values[0]\n",
    "    return maxlength"
   ]
  },
  {
   "cell_type": "code",
   "execution_count": 72,
   "metadata": {},
   "outputs": [
    {
     "output_type": "stream",
     "name": "stdout",
     "text": "['summary', 'space', 'description', 'neighborhood_overview', 'transit', 'access', 'interaction', 'house_rules', 'host_about']\n"
    }
   ],
   "source": [
    "#run this for all object type columns and exlcuding amenities column\n",
    "#if it's more than 300, then remove them\n",
    "columns = list(listings)\n",
    "remove_columns = []\n",
    "for column in columns:\n",
    "    if listings[column].dtypes == object and column != 'amenities':\n",
    "        remove_column_y_n = getmaxlength(column)\n",
    "        if remove_column_y_n > 300:\n",
    "            remove_columns.append(column)\n",
    "\n",
    "print(remove_columns)"
   ]
  },
  {
   "cell_type": "code",
   "execution_count": null,
   "metadata": {},
   "outputs": [],
   "source": []
  }
 ],
 "metadata": {
  "kernelspec": {
   "display_name": "Python 3",
   "language": "python",
   "name": "python3"
  },
  "language_info": {
   "codemirror_mode": {
    "name": "ipython",
    "version": 3
   },
   "file_extension": ".py",
   "mimetype": "text/x-python",
   "name": "python",
   "nbconvert_exporter": "python",
   "pygments_lexer": "ipython3",
   "version": "3.7.3-final"
  }
 },
 "nbformat": 4,
 "nbformat_minor": 2
}
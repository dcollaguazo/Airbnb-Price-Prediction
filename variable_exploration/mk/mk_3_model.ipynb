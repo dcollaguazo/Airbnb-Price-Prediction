{
 "cells": [
  {
   "cell_type": "markdown",
   "metadata": {},
   "source": [
    "# Model\n",
    "Exicting part, try different types regression model.\n"
   ]
  },
  {
   "cell_type": "code",
   "execution_count": 46,
   "metadata": {},
   "outputs": [],
   "source": [
    "import os\n",
    "import io\n",
    "import re\n",
    "import numpy as np\n",
    "import pandas as pd\n",
    "import matplotlib\n",
    "import matplotlib.pyplot as plt\n",
    "import seaborn as sns\n",
    "from collections import Counter\n",
    "\n",
    "from sklearn.model_selection import train_test_split\n",
    "from sklearn.model_selection import cross_val_score\n",
    "from sklearn.feature_selection import SelectFromModel\n",
    "\n",
    "from sklearn.linear_model import Lasso\n",
    "from sklearn.linear_model import Ridge\n",
    "from sklearn.ensemble import RandomForestRegressor\n",
    "from sklearn.svm import SVR\n",
    "\n",
    "from sklearn.metrics import mean_squared_error\n",
    "from sklearn.metrics import r2_score\n",
    "\n",
    "import pickle\n",
    "\n",
    "import warnings\n",
    "warnings.filterwarnings('ignore')"
   ]
  },
  {
   "cell_type": "code",
   "execution_count": 2,
   "metadata": {},
   "outputs": [],
   "source": [
    "#read data, specify index so it's easier to join and search using loc\n",
    "path = '../../data/new-york-city-airbnb-open-data/'\n",
    "listings_csv = os.path.join(path,'model_columns_listings.csv')\n",
    "listings = pd.read_csv(listings_csv)"
   ]
  },
  {
   "cell_type": "code",
   "execution_count": 3,
   "metadata": {},
   "outputs": [
    {
     "output_type": "execute_result",
     "data": {
      "text/plain": "(50540, 266)"
     },
     "metadata": {},
     "execution_count": 3
    }
   ],
   "source": [
    "#shape\n",
    "listings.shape"
   ]
  },
  {
   "cell_type": "code",
   "execution_count": 4,
   "metadata": {},
   "outputs": [
    {
     "output_type": "execute_result",
     "data": {
      "text/plain": "array(['Unnamed: 0', 'id', 'host_since', 'host_response_time',\n       'host_response_rate', 'host_acceptance_rate', 'host_is_superhost',\n       'host_listings_count', 'host_identity_verified', 'latitude',\n       'longitude', 'is_location_exact', 'accommodates', 'bathrooms',\n       'bedrooms', 'beds', 'price', 'security_deposit', 'cleaning_fee',\n       'guests_included', 'extra_people', 'number_of_reviews',\n       'number_of_reviews_ltm', 'first_review', 'last_review',\n       'review_scores_rating', 'review_scores_accuracy',\n       'review_scores_cleanliness', 'review_scores_checkin',\n       'review_scores_communication', 'review_scores_location',\n       'review_scores_value', 'instant_bookable', 'reviews_per_month',\n       'host_verifications_ facebook', 'host_verifications_ google',\n       'host_verifications_ government_id',\n       'host_verifications_ identity_manual', 'host_verifications_ jumio',\n       'host_verifications_ kba', 'host_verifications_ manual_offline',\n       'host_verifications_ manual_online',\n       'host_verifications_ offline_government_id',\n       'host_verifications_ phone', 'host_verifications_ reviews',\n       'host_verifications_ selfie', 'host_verifications_ sent_id',\n       'host_verifications_ sesame', 'host_verifications_ sesame_offline',\n       'host_verifications_ weibo', 'host_verifications_ work_email',\n       'host_verifications_ zhima_selfie', 'host_verifications_email',\n       'host_verifications_facebook', 'host_verifications_google',\n       'host_verifications_jumio',\n       'host_verifications_offline_government_id',\n       'host_verifications_phone', 'host_verifications_reviews',\n       'amenities_ toilet', 'amenities_24-hour check-in',\n       'amenities_Accessible-height bed',\n       'amenities_Accessible-height toilet', 'amenities_Air conditioning',\n       'amenities_Air purifier', 'amenities_BBQ grill',\n       'amenities_Baby bath', 'amenities_Baby monitor',\n       'amenities_Babysitter recommendations', 'amenities_Baking sheet',\n       'amenities_Barbecue utensils', 'amenities_Bath towel',\n       'amenities_Bathrobes', 'amenities_Bathroom essentials',\n       'amenities_Bathtub', 'amenities_Bathtub with bath chair',\n       'amenities_Beach essentials', 'amenities_Beachfront',\n       'amenities_Bed linens', 'amenities_Bedroom comforts',\n       'amenities_Bluetooth speaker', 'amenities_Body soap',\n       'amenities_Bottled water', 'amenities_Bread maker',\n       'amenities_Breakfast', 'amenities_Building staff',\n       'amenities_Buzzer/wireless intercom', 'amenities_Cable TV',\n       'amenities_Carbon monoxide detector', 'amenities_Cat(s)',\n       'amenities_Changing table', 'amenities_Children’s books and toys',\n       'amenities_Children’s dinnerware',\n       'amenities_Cleaning before checkout', 'amenities_Coffee maker',\n       'amenities_Cooking basics', 'amenities_Crib',\n       'amenities_Disabled parking spot',\n       'amenities_Dishes and silverware', 'amenities_Dishwasher',\n       'amenities_Dog(s)', 'amenities_Doorman', 'amenities_Dryer',\n       'amenities_EV charger', 'amenities_Electric profiling bed',\n       'amenities_Elevator', 'amenities_Essentials',\n       'amenities_Ethernet connection',\n       'amenities_Extra pillows and blankets',\n       'amenities_Extra space around bed',\n       'amenities_Family/kid friendly', 'amenities_Fire extinguisher',\n       'amenities_Fireplace guards', 'amenities_Firm mattress',\n       'amenities_First aid kit', 'amenities_Fixed grab bars for shower',\n       'amenities_Fixed grab bars for toilet',\n       'amenities_Flat path to guest entrance',\n       'amenities_Free parking on premises',\n       'amenities_Free street parking', 'amenities_Full kitchen',\n       'amenities_Game console', 'amenities_Garden or backyard',\n       'amenities_Ground floor access', 'amenities_Gym',\n       'amenities_Hair dryer', 'amenities_Handheld shower head',\n       'amenities_Hangers', 'amenities_Heating', 'amenities_High chair',\n       'amenities_Host greets you', 'amenities_Hot tub',\n       'amenities_Hot water', 'amenities_Hot water kettle',\n       'amenities_Indoor fireplace', 'amenities_Internet',\n       'amenities_Iron', 'amenities_Keypad', 'amenities_Kitchen',\n       'amenities_Kitchenette', 'amenities_Lake access',\n       'amenities_Laptop friendly workspace',\n       'amenities_Lock on bedroom door', 'amenities_Lockbox',\n       'amenities_Long term stays allowed',\n       'amenities_Luggage dropoff allowed', 'amenities_Microwave',\n       'amenities_Mini bar', 'amenities_Mini fridge',\n       'amenities_Mobile hoist', 'amenities_No stairs or steps to enter',\n       'amenities_Other', 'amenities_Other pet(s)',\n       'amenities_Outlet covers', 'amenities_Oven',\n       'amenities_Pack ’n Play/travel crib',\n       'amenities_Paid parking off premises',\n       'amenities_Paid parking on premises', 'amenities_Patio or balcony',\n       'amenities_Pets allowed', 'amenities_Pets live on this property',\n       'amenities_Pocket wifi', 'amenities_Pool',\n       'amenities_Private bathroom', 'amenities_Private entrance',\n       'amenities_Private living room', 'amenities_Record player',\n       'amenities_Refrigerator', 'amenities_Room-darkening shades',\n       'amenities_Safe', 'amenities_Safety card',\n       'amenities_Self check-in', 'amenities_Shampoo',\n       'amenities_Shower chair', 'amenities_Shower gel',\n       'amenities_Single level home', 'amenities_Ski-in/Ski-out',\n       'amenities_Slippers', 'amenities_Smart lock',\n       'amenities_Smoke detector', 'amenities_Smoking allowed',\n       'amenities_Snacks', 'amenities_Stair gates',\n       'amenities_Step-free shower', 'amenities_Stove',\n       'amenities_Suitable for events', 'amenities_TV',\n       'amenities_Table corner guards', 'amenities_Toilet paper',\n       'amenities_Trash can', 'amenities_Turndown service',\n       'amenities_Washer', 'amenities_Washer/Dryer',\n       'amenities_Waterfront', 'amenities_Well-lit path to entrance',\n       'amenities_Wheelchair accessible',\n       'amenities_Wide clearance to shower',\n       'amenities_Wide doorway to guest bathroom',\n       'amenities_Wide entrance', 'amenities_Wide entrance for guests',\n       'amenities_Wide entryway', 'amenities_Wide hallways',\n       'amenities_Wifi', 'amenities_Window guards',\n       'amenities_translation missing: en.hosting_amenity_49',\n       'amenities_translation missing: en.hosting_amenity_50',\n       'neighbourhood_group_cleansed_Bronx',\n       'neighbourhood_group_cleansed_Brooklyn',\n       'neighbourhood_group_cleansed_Manhattan',\n       'neighbourhood_group_cleansed_Queens',\n       'neighbourhood_group_cleansed_Staten Island',\n       'property_type_Aparthotel', 'property_type_Apartment',\n       'property_type_Barn', 'property_type_Bed and breakfast',\n       'property_type_Boat', 'property_type_Boutique hotel',\n       'property_type_Bungalow', 'property_type_Bus',\n       'property_type_Cabin', 'property_type_Camper/RV',\n       'property_type_Casa particular (Cuba)', 'property_type_Castle',\n       'property_type_Cave', 'property_type_Condominium',\n       'property_type_Cottage', 'property_type_Dome house',\n       'property_type_Dorm', 'property_type_Earth house',\n       'property_type_Farm stay', 'property_type_Guest suite',\n       'property_type_Guesthouse', 'property_type_Hostel',\n       'property_type_Hotel', 'property_type_House',\n       'property_type_Houseboat', 'property_type_In-law',\n       'property_type_Island', 'property_type_Lighthouse',\n       'property_type_Loft', 'property_type_Other',\n       'property_type_Resort', 'property_type_Serviced apartment',\n       'property_type_Tent', 'property_type_Timeshare',\n       'property_type_Tiny house', 'property_type_Townhouse',\n       'property_type_Train', 'property_type_Treehouse',\n       'property_type_Villa', 'property_type_Yurt',\n       'room_type_Entire home/apt', 'room_type_Hotel room',\n       'room_type_Private room', 'room_type_Shared room',\n       'cancellation_policy_flexible', 'cancellation_policy_moderate',\n       'cancellation_policy_strict',\n       'cancellation_policy_strict_14_with_grace_period',\n       'cancellation_policy_super_strict_30',\n       'cancellation_policy_super_strict_60', 'bed_type_Airbed',\n       'bed_type_Couch', 'bed_type_Futon', 'bed_type_Pull-out Sofa',\n       'bed_type_Real Bed'], dtype=object)"
     },
     "metadata": {},
     "execution_count": 4
    }
   ],
   "source": [
    "listings.columns.values"
   ]
  },
  {
   "cell_type": "code",
   "execution_count": 5,
   "metadata": {},
   "outputs": [
    {
     "output_type": "execute_result",
     "data": {
      "text/plain": "   Unnamed: 0    id  host_since  host_response_time host_response_rate  \\\n0           0  2060      733272                 4.0                22%   \n\n  host_acceptance_rate  host_is_superhost  host_listings_count  \\\n0                  50%                  0                  0.0   \n\n   host_identity_verified  latitude  ...  cancellation_policy_moderate  \\\n0                       0  40.85722  ...                             0   \n\n   cancellation_policy_strict  \\\n0                           0   \n\n   cancellation_policy_strict_14_with_grace_period  \\\n0                                                0   \n\n   cancellation_policy_super_strict_30  cancellation_policy_super_strict_60  \\\n0                                    0                                    0   \n\n   bed_type_Airbed  bed_type_Couch  bed_type_Futon  bed_type_Pull-out Sofa  \\\n0                0               0               0                       0   \n\n   bed_type_Real Bed  \n0                  1  \n\n[1 rows x 266 columns]",
      "text/html": "<div>\n<style scoped>\n    .dataframe tbody tr th:only-of-type {\n        vertical-align: middle;\n    }\n\n    .dataframe tbody tr th {\n        vertical-align: top;\n    }\n\n    .dataframe thead th {\n        text-align: right;\n    }\n</style>\n<table border=\"1\" class=\"dataframe\">\n  <thead>\n    <tr style=\"text-align: right;\">\n      <th></th>\n      <th>Unnamed: 0</th>\n      <th>id</th>\n      <th>host_since</th>\n      <th>host_response_time</th>\n      <th>host_response_rate</th>\n      <th>host_acceptance_rate</th>\n      <th>host_is_superhost</th>\n      <th>host_listings_count</th>\n      <th>host_identity_verified</th>\n      <th>latitude</th>\n      <th>...</th>\n      <th>cancellation_policy_moderate</th>\n      <th>cancellation_policy_strict</th>\n      <th>cancellation_policy_strict_14_with_grace_period</th>\n      <th>cancellation_policy_super_strict_30</th>\n      <th>cancellation_policy_super_strict_60</th>\n      <th>bed_type_Airbed</th>\n      <th>bed_type_Couch</th>\n      <th>bed_type_Futon</th>\n      <th>bed_type_Pull-out Sofa</th>\n      <th>bed_type_Real Bed</th>\n    </tr>\n  </thead>\n  <tbody>\n    <tr>\n      <th>0</th>\n      <td>0</td>\n      <td>2060</td>\n      <td>733272</td>\n      <td>4.0</td>\n      <td>22%</td>\n      <td>50%</td>\n      <td>0</td>\n      <td>0.0</td>\n      <td>0</td>\n      <td>40.85722</td>\n      <td>...</td>\n      <td>0</td>\n      <td>0</td>\n      <td>0</td>\n      <td>0</td>\n      <td>0</td>\n      <td>0</td>\n      <td>0</td>\n      <td>0</td>\n      <td>0</td>\n      <td>1</td>\n    </tr>\n  </tbody>\n</table>\n<p>1 rows × 266 columns</p>\n</div>"
     },
     "metadata": {},
     "execution_count": 5
    }
   ],
   "source": [
    "#head\n",
    "listings.head(1)"
   ]
  },
  {
   "cell_type": "markdown",
   "metadata": {},
   "source": [
    "# Features/Target\n",
    "Features to be included and test/train split, take out 'latitude', 'longitude'"
   ]
  },
  {
   "cell_type": "code",
   "execution_count": 6,
   "metadata": {},
   "outputs": [],
   "source": [
    "#exclude for now\n",
    "X = listings[['host_since', 'host_response_time', 'host_is_superhost', 'host_listings_count', 'host_identity_verified', 'is_location_exact', 'accommodates', 'bathrooms', 'bedrooms', 'beds', 'security_deposit', 'cleaning_fee', 'guests_included','extra_people', 'number_of_reviews', 'number_of_reviews_ltm', 'review_scores_rating', 'review_scores_accuracy', 'review_scores_cleanliness', 'review_scores_checkin', 'review_scores_communication', 'review_scores_location', 'review_scores_value', 'instant_bookable', 'reviews_per_month', 'host_verifications_ facebook', 'host_verifications_ google', 'host_verifications_ government_id', 'host_verifications_ identity_manual', 'host_verifications_ jumio', 'host_verifications_ kba', 'host_verifications_ manual_offline', 'host_verifications_ manual_online', 'host_verifications_ offline_government_id', 'host_verifications_ phone', 'host_verifications_ reviews', 'host_verifications_ selfie', 'host_verifications_ sent_id', 'host_verifications_ sesame', 'host_verifications_ sesame_offline', 'host_verifications_ weibo', 'host_verifications_ work_email', 'host_verifications_ zhima_selfie', 'host_verifications_email', 'host_verifications_facebook', 'host_verifications_google', 'host_verifications_jumio', 'host_verifications_offline_government_id', 'host_verifications_phone', 'host_verifications_reviews', 'neighbourhood_group_cleansed_Bronx', 'neighbourhood_group_cleansed_Brooklyn', 'neighbourhood_group_cleansed_Manhattan', 'neighbourhood_group_cleansed_Queens', 'neighbourhood_group_cleansed_Staten Island', 'property_type_Aparthotel', 'property_type_Apartment','property_type_Barn', 'property_type_Bed and breakfast', 'property_type_Boat', 'property_type_Boutique hotel', 'property_type_Bungalow', 'property_type_Bus', 'property_type_Cabin', 'property_type_Camper/RV', 'property_type_Castle', 'property_type_Cave', 'property_type_Condominium', 'property_type_Cottage', 'property_type_Dome house', 'property_type_Dorm', 'property_type_Earth house', 'property_type_Farm stay', 'property_type_Guest suite', 'property_type_Guesthouse', 'property_type_Hostel', 'property_type_Hotel', 'property_type_House', 'property_type_Houseboat', 'property_type_In-law', 'property_type_Island', 'property_type_Lighthouse','property_type_Loft', 'property_type_Other', 'property_type_Resort', 'property_type_Serviced apartment', 'property_type_Tent', 'property_type_Timeshare', 'property_type_Tiny house', 'property_type_Townhouse', 'property_type_Train', 'property_type_Treehouse', 'property_type_Villa', 'property_type_Yurt', 'room_type_Entire home/apt', 'room_type_Hotel room', 'room_type_Private room', 'room_type_Shared room', 'cancellation_policy_flexible', 'cancellation_policy_moderate', 'cancellation_policy_strict', 'cancellation_policy_strict_14_with_grace_period', 'cancellation_policy_super_strict_30', 'cancellation_policy_super_strict_60', 'bed_type_Airbed', 'bed_type_Couch', 'bed_type_Futon','bed_type_Pull-out Sofa', 'bed_type_Real Bed', 'amenities_ toilet', 'amenities_24-hour check-in', 'amenities_Accessible-height bed','amenities_Accessible-height toilet', 'amenities_Air conditioning', 'amenities_Air purifier', 'amenities_BBQ grill', 'amenities_Baby bath', 'amenities_Baby monitor', 'amenities_Babysitter recommendations', 'amenities_Baking sheet', 'amenities_Barbecue utensils', 'amenities_Bath towel', 'amenities_Bathrobes', 'amenities_Bathroom essentials', 'amenities_Bathtub', 'amenities_Bathtub with bath chair', 'amenities_Beach essentials', 'amenities_Beachfront', 'amenities_Bed linens', 'amenities_Bedroom comforts', 'amenities_Bluetooth speaker', 'amenities_Body soap', 'amenities_Bottled water', 'amenities_Bread maker', 'amenities_Breakfast','amenities_Building staff', 'amenities_Buzzer/wireless intercom', 'amenities_Cable TV',\n",
    "'amenities_Carbon monoxide detector', 'amenities_Cat(s)', 'amenities_Changing table', 'amenities_Children’s books and toys', 'amenities_Children’s dinnerware',\n",
    "'amenities_Cleaning before checkout', 'amenities_Coffee maker',\n",
    "'amenities_Cooking basics', 'amenities_Crib', 'amenities_Disabled parking spot',\n",
    "'amenities_Dishes and silverware', 'amenities_Dishwasher', 'amenities_Dog(s)', 'amenities_Doorman', 'amenities_Dryer', 'amenities_EV charger', 'amenities_Electric profiling bed', 'amenities_Elevator', 'amenities_Essentials', 'amenities_Ethernet connection', 'amenities_Extra pillows and blankets', 'amenities_Extra space around bed', 'amenities_Family/kid friendly', 'amenities_Fire extinguisher', 'amenities_Fireplace guards', 'amenities_Firm mattress', 'amenities_First aid kit', 'amenities_Fixed grab bars for shower', 'amenities_Fixed grab bars for toilet', 'amenities_Flat path to guest entrance',\n",
    "'amenities_Free parking on premises', 'amenities_Free street parking', 'amenities_Full kitchen', 'amenities_Game console', 'amenities_Garden or backyard', 'amenities_Ground floor access', 'amenities_Gym', 'amenities_Hair dryer', 'amenities_Handheld shower head', 'amenities_Hangers', 'amenities_Heating', 'amenities_High chair', 'amenities_Host greets you', 'amenities_Hot tub',\n",
    "'amenities_Hot water', 'amenities_Hot water kettle', 'amenities_Indoor fireplace', 'amenities_Internet', 'amenities_Iron', 'amenities_Keypad', 'amenities_Kitchen',\n",
    "'amenities_Kitchenette', 'amenities_Lake access', 'amenities_Laptop friendly workspace',\n",
    "'amenities_Lock on bedroom door', 'amenities_Lockbox', 'amenities_Long term stays allowed',\n",
    "'amenities_Luggage dropoff allowed', 'amenities_Microwave', 'amenities_Mini bar', 'amenities_Mini fridge', 'amenities_Mobile hoist', 'amenities_No stairs or steps to enter', 'amenities_Other', 'amenities_Other pet(s)', 'amenities_Outlet covers', 'amenities_Oven', 'amenities_Pack ’n Play/travel crib', 'amenities_Paid parking off premises', 'amenities_Paid parking on premises', 'amenities_Patio or balcony', 'amenities_Pets allowed', 'amenities_Pets live on this property', 'amenities_Pocket wifi', 'amenities_Pool', 'amenities_Private bathroom', 'amenities_Private entrance', 'amenities_Private living room', 'amenities_Record player', 'amenities_Refrigerator', 'amenities_Room-darkening shades', 'amenities_Safe', 'amenities_Safety card', 'amenities_Self check-in', 'amenities_Shampoo', 'amenities_Shower chair', 'amenities_Shower gel',\n",
    "'amenities_Single level home', 'amenities_Ski-in/Ski-out', 'amenities_Slippers', 'amenities_Smart lock', 'amenities_Smoke detector', 'amenities_Smoking allowed', 'amenities_Snacks', 'amenities_Stair gates', 'amenities_Step-free shower', 'amenities_Stove',\n",
    "'amenities_Suitable for events', 'amenities_TV', 'amenities_Table corner guards', 'amenities_Toilet paper', 'amenities_Trash can', 'amenities_Turndown service',\n",
    "'amenities_Washer', 'amenities_Washer/Dryer', 'amenities_Waterfront', 'amenities_Well-lit path to entrance', 'amenities_Wheelchair accessible', 'amenities_Wide clearance to shower',\n",
    "'amenities_Wide doorway to guest bathroom', 'amenities_Wide entrance', 'amenities_Wide entrance for guests', 'amenities_Wide entryway', 'amenities_Wide hallways', 'amenities_Wifi', 'amenities_Window guards']]\n",
    "\n",
    "\n",
    "y = listings['price']\n",
    "\n",
    "# Split your data into training and test sets\n",
    "X_train, X_test, y_train, y_test = train_test_split(X, y, test_size=0.2, random_state=42)\n"
   ]
  },
  {
   "cell_type": "markdown",
   "metadata": {},
   "source": [
    "# Lasso Regression"
   ]
  },
  {
   "cell_type": "code",
   "execution_count": 7,
   "metadata": {},
   "outputs": [
    {
     "output_type": "stream",
     "name": "stdout",
     "text": "[142.67975634 122.34259457 118.58493393 136.79411543 118.37828091\n 125.10905276 108.94748926 124.29553471 129.77773855 117.26292857]\n"
    }
   ],
   "source": [
    "#using CV\n",
    "regressor = Lasso(alpha=0.5)\n",
    "regressor = regressor.fit(X_train, y_train) \n",
    "\n",
    "#cross validation, 10 fold to try next\n",
    "scores = cross_val_score(estimator=regressor, X=X_train, y=y_train, cv=10, scoring=\"neg_mean_squared_error\")\n",
    "rmse_scores = np.sqrt(-scores)\n",
    "\n",
    "print(rmse_scores)\n"
   ]
  },
  {
   "cell_type": "code",
   "execution_count": 8,
   "metadata": {},
   "outputs": [
    {
     "output_type": "stream",
     "name": "stdout",
     "text": "124.4172425045181\n0.38256044935414\n"
    }
   ],
   "source": [
    "pred_train = regressor.predict(X_train)\n",
    "print(rmse_scores.mean())\n",
    "print(r2_score(y_train, pred_train))\n"
   ]
  },
  {
   "cell_type": "code",
   "execution_count": 9,
   "metadata": {},
   "outputs": [
    {
     "output_type": "stream",
     "name": "stdout",
     "text": "123.37109537119743\n0.3641274924896387\n"
    }
   ],
   "source": [
    "pred_test= regressor.predict(X_test)\n",
    "print(np.sqrt(mean_squared_error(y_test,pred_test))) \n",
    "print(r2_score(y_test, pred_test))"
   ]
  },
  {
   "cell_type": "markdown",
   "metadata": {},
   "source": [
    "# Ridge Regression"
   ]
  },
  {
   "cell_type": "code",
   "execution_count": 11,
   "metadata": {},
   "outputs": [
    {
     "output_type": "stream",
     "name": "stdout",
     "text": "[141.06736755 120.76762848 116.66696559 135.38876345 116.8704604\n 122.95678701 107.74738983 123.21403902 129.26670069 116.62294242]\n"
    }
   ],
   "source": [
    "#using CV\n",
    "regressor = Ridge(alpha=0.5)\n",
    "regressor = regressor.fit(X_train, y_train) \n",
    "\n",
    "#cross validation, 10 fold to try next\n",
    "scores = cross_val_score(estimator=regressor, X=X_train, y=y_train, cv=10, scoring=\"neg_mean_squared_error\")\n",
    "rmse_scores = np.sqrt(-scores)\n",
    "print(rmse_scores)\n"
   ]
  },
  {
   "cell_type": "code",
   "execution_count": 12,
   "metadata": {},
   "outputs": [
    {
     "output_type": "stream",
     "name": "stdout",
     "text": "123.05690444347533\n0.4015099514996001\n"
    }
   ],
   "source": [
    "pred_train = regressor.predict(X_train)\n",
    "print(rmse_scores.mean())\n",
    "print(r2_score(y_train, pred_train))\n"
   ]
  },
  {
   "cell_type": "code",
   "execution_count": 13,
   "metadata": {},
   "outputs": [
    {
     "output_type": "stream",
     "name": "stdout",
     "text": "122.12353966981865\n0.37692263589696007\n"
    }
   ],
   "source": [
    "pred_test= regressor.predict(X_test)\n",
    "print(np.sqrt(mean_squared_error(y_test,pred_test))) \n",
    "print(r2_score(y_test, pred_test))"
   ]
  },
  {
   "cell_type": "markdown",
   "metadata": {},
   "source": [
    "# Random Forest"
   ]
  },
  {
   "cell_type": "code",
   "execution_count": 21,
   "metadata": {},
   "outputs": [
    {
     "output_type": "stream",
     "name": "stdout",
     "text": "[130.68780529 111.86686176 109.50693621 126.88149645 109.03717115\n 113.44446265  99.03949719 116.08185275 121.2981525  107.12405269]\n"
    }
   ],
   "source": [
    "#using CV\n",
    "regressor = RandomForestRegressor(n_estimators=100, random_state=None, min_samples_split=50)\n",
    "regressor = regressor.fit(X_train, y_train) \n",
    "\n",
    "#cross validation, 10 fold to try next\n",
    "scores = cross_val_score(estimator=regressor, X=X_train, y=y_train, cv=10, scoring=\"neg_mean_squared_error\")\n",
    "rmse_scores = np.sqrt(-scores) \n",
    "print(rmse_scores)"
   ]
  },
  {
   "cell_type": "code",
   "execution_count": 22,
   "metadata": {},
   "outputs": [
    {
     "output_type": "stream",
     "name": "stdout",
     "text": "114.49682886499639\n0.6272528837511302\n"
    }
   ],
   "source": [
    "pred_train= regressor.predict(X_train)\n",
    "print(rmse_scores.mean())\n",
    "print(r2_score(y_train, pred_train))"
   ]
  },
  {
   "cell_type": "code",
   "execution_count": 23,
   "metadata": {},
   "outputs": [
    {
     "output_type": "stream",
     "name": "stdout",
     "text": "115.65853686008506\n0.44114570268844244\n"
    }
   ],
   "source": [
    "pred_test= regressor.predict(X_test)\n",
    "print(np.sqrt(mean_squared_error(y_test,pred_test))) \n",
    "print(r2_score(y_test, pred_test))"
   ]
  },
  {
   "cell_type": "markdown",
   "metadata": {},
   "source": [
    "# Feature Importance for Random Forest"
   ]
  },
  {
   "cell_type": "code",
   "execution_count": 24,
   "metadata": {},
   "outputs": [],
   "source": [
    "#get features importance\n",
    "features = regressor.feature_importances_\n",
    "\n",
    "#get column names from our list of features\n",
    "column_names=X.columns.values.tolist()\n",
    "\n",
    "#match features importance to column name\n",
    "df = pd.DataFrame([features], columns=column_names)\n"
   ]
  },
  {
   "cell_type": "code",
   "execution_count": 25,
   "metadata": {},
   "outputs": [
    {
     "output_type": "execute_result",
     "data": {
      "text/plain": "   host_since  host_response_time  host_is_superhost  host_listings_count  \\\n0    0.025088              0.0051           0.000368             0.013168   \n\n   host_identity_verified  is_location_exact  accommodates  bathrooms  \\\n0                0.000282           0.000689      0.221391    0.17261   \n\n   bedrooms      beds  ...  amenities_Well-lit path to entrance  \\\n0   0.03158  0.005307  ...                             0.000124   \n\n   amenities_Wheelchair accessible  amenities_Wide clearance to shower  \\\n0                         0.002648                            0.000013   \n\n   amenities_Wide doorway to guest bathroom  amenities_Wide entrance  \\\n0                                  0.000027                 0.000006   \n\n   amenities_Wide entrance for guests  amenities_Wide entryway  \\\n0                            0.000027             4.209483e-07   \n\n   amenities_Wide hallways  amenities_Wifi  amenities_Window guards  \n0                 0.000079        0.001782                 0.000399  \n\n[1 rows x 254 columns]",
      "text/html": "<div>\n<style scoped>\n    .dataframe tbody tr th:only-of-type {\n        vertical-align: middle;\n    }\n\n    .dataframe tbody tr th {\n        vertical-align: top;\n    }\n\n    .dataframe thead th {\n        text-align: right;\n    }\n</style>\n<table border=\"1\" class=\"dataframe\">\n  <thead>\n    <tr style=\"text-align: right;\">\n      <th></th>\n      <th>host_since</th>\n      <th>host_response_time</th>\n      <th>host_is_superhost</th>\n      <th>host_listings_count</th>\n      <th>host_identity_verified</th>\n      <th>is_location_exact</th>\n      <th>accommodates</th>\n      <th>bathrooms</th>\n      <th>bedrooms</th>\n      <th>beds</th>\n      <th>...</th>\n      <th>amenities_Well-lit path to entrance</th>\n      <th>amenities_Wheelchair accessible</th>\n      <th>amenities_Wide clearance to shower</th>\n      <th>amenities_Wide doorway to guest bathroom</th>\n      <th>amenities_Wide entrance</th>\n      <th>amenities_Wide entrance for guests</th>\n      <th>amenities_Wide entryway</th>\n      <th>amenities_Wide hallways</th>\n      <th>amenities_Wifi</th>\n      <th>amenities_Window guards</th>\n    </tr>\n  </thead>\n  <tbody>\n    <tr>\n      <th>0</th>\n      <td>0.025088</td>\n      <td>0.0051</td>\n      <td>0.000368</td>\n      <td>0.013168</td>\n      <td>0.000282</td>\n      <td>0.000689</td>\n      <td>0.221391</td>\n      <td>0.17261</td>\n      <td>0.03158</td>\n      <td>0.005307</td>\n      <td>...</td>\n      <td>0.000124</td>\n      <td>0.002648</td>\n      <td>0.000013</td>\n      <td>0.000027</td>\n      <td>0.000006</td>\n      <td>0.000027</td>\n      <td>4.209483e-07</td>\n      <td>0.000079</td>\n      <td>0.001782</td>\n      <td>0.000399</td>\n    </tr>\n  </tbody>\n</table>\n<p>1 rows × 254 columns</p>\n</div>"
     },
     "metadata": {},
     "execution_count": 25
    }
   ],
   "source": [
    "df.head()"
   ]
  },
  {
   "cell_type": "code",
   "execution_count": 34,
   "metadata": {},
   "outputs": [],
   "source": [
    "#features importance sorted\n",
    "features_sorted = df.iloc[0].sort_values(ascending=False)"
   ]
  },
  {
   "cell_type": "code",
   "execution_count": 35,
   "metadata": {},
   "outputs": [
    {
     "output_type": "execute_result",
     "data": {
      "text/plain": "accommodates                              0.221391\nbathrooms                                 0.172610\nroom_type_Entire home/apt                 0.116875\nneighbourhood_group_cleansed_Manhattan    0.076140\ncleaning_fee                              0.044668\nbedrooms                                  0.031580\nsecurity_deposit                          0.030055\nhost_since                                0.025088\nextra_people                              0.015372\nreviews_per_month                         0.013685\nhost_listings_count                       0.013168\nproperty_type_Resort                      0.013101\nproperty_type_Boutique hotel              0.010194\namenities_Doorman                         0.008316\nproperty_type_Apartment                   0.007408\nroom_type_Private room                    0.007106\nguests_included                           0.007059\namenities_Essentials                      0.006520\namenities_Gym                             0.006443\nroom_type_Hotel room                      0.006107\namenities_Paid parking on premises        0.005883\namenities_Pool                            0.005390\nbeds                                      0.005307\nhost_response_time                        0.005100\namenities_Suitable for events             0.005076\nnumber_of_reviews                         0.004881\namenities_Free parking on premises        0.004796\namenities_24-hour check-in                0.004746\nproperty_type_Loft                        0.004740\namenities_Children’s dinnerware           0.004572\namenities_Kitchen                         0.003268\namenities_Indoor fireplace                0.003236\nbed_type_Pull-out Sofa                    0.003222\nnumber_of_reviews_ltm                     0.002936\nreview_scores_location                    0.002864\nreview_scores_rating                      0.002864\namenities_Wheelchair accessible           0.002648\namenities_Crib                            0.002598\nbed_type_Couch                            0.002598\namenities_Cable TV                        0.002453\namenities_Shampoo                         0.002092\namenities_Breakfast                       0.002085\namenities_Smoke detector                  0.002078\namenities_Dishes and silverware           0.001939\namenities_Building staff                  0.001854\namenities_Wifi                            0.001782\nreview_scores_cleanliness                 0.001696\namenities_Baby monitor                    0.001683\namenities_Heating                         0.001639\nhost_verifications_ google                0.001583\nName: 0, dtype: float64"
     },
     "metadata": {},
     "execution_count": 35
    }
   ],
   "source": [
    "features_sorted.head(50)\n"
   ]
  },
  {
   "cell_type": "code",
   "execution_count": 37,
   "metadata": {},
   "outputs": [],
   "source": [
    "#unused features\n",
    "filt = features_sorted.values > features_sorted.mean()\n",
    "features_sorted[filt]"
   ]
  },
  {
   "cell_type": "code",
   "execution_count": 38,
   "metadata": {},
   "outputs": [],
   "source": [
    "X = listings[['amenities_Paid parking on premises',\n",
    "            'amenities_Indoor fireplace', \n",
    "            'amenities_Pool', \n",
    "            'amenities_Wheelchair accessible',\n",
    "            'property_type_Loft',\n",
    "            'review_scores_rating',\n",
    "            'amenities_Free parking on premises',\n",
    "            'number_of_reviews_ltm',\n",
    "            'amenities_Kitchen',\n",
    "            'property_type_Boutique hotel',\n",
    "            'amenities_Suitable for events',\n",
    "            'amenities_24-hour check-in',\n",
    "            'amenities_Smoke detector',\n",
    "            'amenities_Gym',\n",
    "            'room_type_Hotel room',\n",
    "            'amenities_Doorman',\n",
    "            'property_type_Apartment',\n",
    "            'host_response_time',\n",
    "            'guests_included',\n",
    "            'amenities_Essentials',\n",
    "            'property_type_Resort',\n",
    "            'number_of_reviews',\n",
    "            'beds',\n",
    "            'host_listings_count',\n",
    "            'extra_people',\n",
    "            'reviews_per_month',\n",
    "            'bedrooms',\n",
    "            'security_deposit',\n",
    "            'host_since',\n",
    "            'cleaning_fee',\n",
    "            'neighbourhood_group_cleansed_Manhattan',\n",
    "            'room_type_Entire home/apt',\n",
    "            'bathrooms',\n",
    "            'accommodates',\n",
    "            'amenities_Kitchen',\n",
    "            'amenities_Indoor fireplace',\n",
    "            'bed_type_Pull-out Sofa',\n",
    "            'number_of_reviews_ltm',\n",
    "            'review_scores_location',\n",
    "            'review_scores_rating',\n",
    "            'amenities_Wheelchair accessible',\n",
    "            'amenities_Crib',\n",
    "            'bed_type_Couch',\n",
    "            'amenities_Cable TV',\n",
    "            'amenities_Shampoo',\n",
    "            'amenities_Breakfast',\n",
    "            'amenities_Smoke detector',\n",
    "            'amenities_Dishes and silverware',\n",
    "            'amenities_Building staff',\n",
    "            'amenities_Wifi',\n",
    "            'review_scores_cleanliness',\n",
    "            'amenities_Baby monitor',\n",
    "            'amenities_Heating',\n",
    "            'host_verifications_ google']]\n",
    "\n",
    "y = listings['price']"
   ]
  },
  {
   "cell_type": "code",
   "execution_count": 42,
   "metadata": {},
   "outputs": [
    {
     "output_type": "stream",
     "name": "stdout",
     "text": "[130.30743348 112.19808359 110.63257358 126.66706466 109.39817648\n 113.96265334 100.04416311 115.34771504 120.86908813 107.89339298]\n"
    }
   ],
   "source": [
    "#rerun using featuers that are heavily used\n",
    "regressor = RandomForestRegressor(n_estimators=100, random_state=None, min_samples_split=50)\n",
    "regressor = regressor.fit(X_train, y_train) \n",
    "\n",
    "#cross validation, 10 fold to try next\n",
    "scores = cross_val_score(estimator=regressor, X=X_train, y=y_train, cv=10, scoring=\"neg_mean_squared_error\")\n",
    "rmse_scores = np.sqrt(-scores)\n",
    "print(rmse_scores)"
   ]
  },
  {
   "cell_type": "code",
   "execution_count": 43,
   "metadata": {},
   "outputs": [
    {
     "output_type": "stream",
     "name": "stdout",
     "text": "114.73203443846492\n0.6285588389627388\n"
    }
   ],
   "source": [
    "pred_train= regressor.predict(X_train)\n",
    "print(rmse_scores.mean())\n",
    "print(r2_score(y_train, pred_train))"
   ]
  },
  {
   "cell_type": "code",
   "execution_count": 44,
   "metadata": {},
   "outputs": [
    {
     "output_type": "stream",
     "name": "stdout",
     "text": "115.54493642364785\n0.44224298293444386\n"
    }
   ],
   "source": [
    "pred_test= regressor.predict(X_test)\n",
    "print(np.sqrt(mean_squared_error(y_test,pred_test))) \n",
    "print(r2_score(y_test, pred_test))"
   ]
  },
  {
   "cell_type": "markdown",
   "metadata": {},
   "source": [
    "# Model Output"
   ]
  },
  {
   "cell_type": "code",
   "execution_count": 47,
   "metadata": {},
   "outputs": [],
   "source": [
    "# Saving model to disk\n",
    "pickle.dump(regressor, open('model.pkl','wb'))"
   ]
  },
  {
   "cell_type": "code",
   "execution_count": null,
   "metadata": {},
   "outputs": [],
   "source": []
  }
 ],
 "metadata": {
  "kernelspec": {
   "display_name": "Python 3",
   "language": "python",
   "name": "python3"
  },
  "language_info": {
   "codemirror_mode": {
    "name": "ipython",
    "version": 3
   },
   "file_extension": ".py",
   "mimetype": "text/x-python",
   "name": "python",
   "nbconvert_exporter": "python",
   "pygments_lexer": "ipython3",
   "version": "3.7.3-final"
  }
 },
 "nbformat": 4,
 "nbformat_minor": 2
}
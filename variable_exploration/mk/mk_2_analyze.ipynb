{
 "cells": [
  {
   "cell_type": "markdown",
   "metadata": {},
   "source": [
    "# Getting the Data Ready\n",
    "This notebook is for cleaning up data, generate more columns, change data type, etc.\n",
    "Also playing around with different types regression model.\n"
   ]
  },
  {
   "cell_type": "code",
   "execution_count": 1,
   "metadata": {},
   "outputs": [],
   "source": [
    "import os\n",
    "import io\n",
    "import re\n",
    "import numpy as np\n",
    "import pandas as pd\n",
    "import matplotlib\n",
    "import matplotlib.pyplot as plt\n",
    "import seaborn as sns\n",
    "\n",
    "import warnings\n",
    "warnings.filterwarnings('ignore')"
   ]
  },
  {
   "cell_type": "code",
   "execution_count": 2,
   "metadata": {},
   "outputs": [],
   "source": [
    "#read data, specify index so it's easier to join and search using loc\n",
    "path = '../../data/new-york-city-airbnb-open-data/'\n",
    "listings_csv = os.path.join(path,'selected_columns_listings.csv')\n",
    "listings = pd.read_csv(listings_csv)"
   ]
  },
  {
   "cell_type": "code",
   "execution_count": 3,
   "metadata": {},
   "outputs": [],
   "source": [
    "#to get all columns, set option\n",
    "pd.set_option('display.max_columns', 107)\n",
    "#to get text with no truncation\n",
    "pd.set_option('display.max_colwidth', -1)"
   ]
  },
  {
   "cell_type": "code",
   "execution_count": 4,
   "metadata": {},
   "outputs": [
    {
     "output_type": "execute_result",
     "data": {
      "text/plain": "(50796, 73)"
     },
     "metadata": {},
     "execution_count": 4
    }
   ],
   "source": [
    "#shape\n",
    "listings.shape"
   ]
  },
  {
   "cell_type": "code",
   "execution_count": 5,
   "metadata": {},
   "outputs": [
    {
     "output_type": "execute_result",
     "data": {
      "text/plain": "     id                        listing_url        name  host_id  \\\n0  2060  https://www.airbnb.com/rooms/2060  Modern NYC  2259      \n\n                                 host_url host_name  host_since host_location  \\\n0  https://www.airbnb.com/users/show/2259  Jenny     2008-08-18  US             \n\n   host_response_time host_response_rate host_acceptance_rate  \\\n0  a few days or more  22%                50%                   \n\n  host_is_superhost  host_neighbourhood  host_listings_count  \\\n0  f                 Washington Heights  0.0                   \n\n   host_total_listings_count host_verifications host_identity_verified  \\\n0  0.0                        ['reviews']        f                       \n\n                        street neighbourhood neighbourhood_cleansed  \\\n0  New York, NY, United States  Manhattan     Washington Heights      \n\n  neighbourhood_group_cleansed      city state zipcode    market  \\\n0  Manhattan                    New York  NY    10040   New York   \n\n  smart_location  latitude  longitude is_location_exact property_type  \\\n0  New York, NY   40.85722 -73.9379    t                 Other          \n\n      room_type  accommodates  bathrooms  bedrooms  beds  bed_type  \\\n0  Private room  2            NaN         1.0       2.0   Real Bed   \n\n         amenities    price security_deposit cleaning_fee  guests_included  \\\n0  {Internet,Wifi}  $100.00  NaN              NaN          1                 \n\n  extra_people  minimum_nights  maximum_nights  minimum_minimum_nights  \\\n0  $0.00        1               730             1                        \n\n   maximum_minimum_nights  minimum_maximum_nights  maximum_maximum_nights  \\\n0  1                       730                     730                      \n\n   minimum_nights_avg_ntm  maximum_nights_avg_ntm calendar_updated  \\\n0  1.0                     730.0                   4 weeks ago       \n\n   availability_30  availability_60  availability_90  availability_365  \\\n0  30               60               90               365                \n\n   number_of_reviews  number_of_reviews_ltm first_review last_review  \\\n0  1                  0                      2008-09-22   2008-09-22   \n\n   review_scores_rating  review_scores_accuracy  review_scores_cleanliness  \\\n0  80.0                 NaN                     NaN                          \n\n   review_scores_checkin  review_scores_communication  review_scores_location  \\\n0 NaN                    NaN                          NaN                       \n\n   review_scores_value instant_bookable cancellation_policy  \\\n0 NaN                   f                flexible             \n\n   calculated_host_listings_count  \\\n0  1                                \n\n   calculated_host_listings_count_entire_homes  \\\n0  0                                             \n\n   calculated_host_listings_count_private_rooms  \\\n0  1                                              \n\n   calculated_host_listings_count_shared_rooms  reviews_per_month  \n0  0                                            0.01               ",
      "text/html": "<div>\n<style scoped>\n    .dataframe tbody tr th:only-of-type {\n        vertical-align: middle;\n    }\n\n    .dataframe tbody tr th {\n        vertical-align: top;\n    }\n\n    .dataframe thead th {\n        text-align: right;\n    }\n</style>\n<table border=\"1\" class=\"dataframe\">\n  <thead>\n    <tr style=\"text-align: right;\">\n      <th></th>\n      <th>id</th>\n      <th>listing_url</th>\n      <th>name</th>\n      <th>host_id</th>\n      <th>host_url</th>\n      <th>host_name</th>\n      <th>host_since</th>\n      <th>host_location</th>\n      <th>host_response_time</th>\n      <th>host_response_rate</th>\n      <th>host_acceptance_rate</th>\n      <th>host_is_superhost</th>\n      <th>host_neighbourhood</th>\n      <th>host_listings_count</th>\n      <th>host_total_listings_count</th>\n      <th>host_verifications</th>\n      <th>host_identity_verified</th>\n      <th>street</th>\n      <th>neighbourhood</th>\n      <th>neighbourhood_cleansed</th>\n      <th>neighbourhood_group_cleansed</th>\n      <th>city</th>\n      <th>state</th>\n      <th>zipcode</th>\n      <th>market</th>\n      <th>smart_location</th>\n      <th>latitude</th>\n      <th>longitude</th>\n      <th>is_location_exact</th>\n      <th>property_type</th>\n      <th>room_type</th>\n      <th>accommodates</th>\n      <th>bathrooms</th>\n      <th>bedrooms</th>\n      <th>beds</th>\n      <th>bed_type</th>\n      <th>amenities</th>\n      <th>price</th>\n      <th>security_deposit</th>\n      <th>cleaning_fee</th>\n      <th>guests_included</th>\n      <th>extra_people</th>\n      <th>minimum_nights</th>\n      <th>maximum_nights</th>\n      <th>minimum_minimum_nights</th>\n      <th>maximum_minimum_nights</th>\n      <th>minimum_maximum_nights</th>\n      <th>maximum_maximum_nights</th>\n      <th>minimum_nights_avg_ntm</th>\n      <th>maximum_nights_avg_ntm</th>\n      <th>calendar_updated</th>\n      <th>availability_30</th>\n      <th>availability_60</th>\n      <th>availability_90</th>\n      <th>availability_365</th>\n      <th>number_of_reviews</th>\n      <th>number_of_reviews_ltm</th>\n      <th>first_review</th>\n      <th>last_review</th>\n      <th>review_scores_rating</th>\n      <th>review_scores_accuracy</th>\n      <th>review_scores_cleanliness</th>\n      <th>review_scores_checkin</th>\n      <th>review_scores_communication</th>\n      <th>review_scores_location</th>\n      <th>review_scores_value</th>\n      <th>instant_bookable</th>\n      <th>cancellation_policy</th>\n      <th>calculated_host_listings_count</th>\n      <th>calculated_host_listings_count_entire_homes</th>\n      <th>calculated_host_listings_count_private_rooms</th>\n      <th>calculated_host_listings_count_shared_rooms</th>\n      <th>reviews_per_month</th>\n    </tr>\n  </thead>\n  <tbody>\n    <tr>\n      <th>0</th>\n      <td>2060</td>\n      <td>https://www.airbnb.com/rooms/2060</td>\n      <td>Modern NYC</td>\n      <td>2259</td>\n      <td>https://www.airbnb.com/users/show/2259</td>\n      <td>Jenny</td>\n      <td>2008-08-18</td>\n      <td>US</td>\n      <td>a few days or more</td>\n      <td>22%</td>\n      <td>50%</td>\n      <td>f</td>\n      <td>Washington Heights</td>\n      <td>0.0</td>\n      <td>0.0</td>\n      <td>['reviews']</td>\n      <td>f</td>\n      <td>New York, NY, United States</td>\n      <td>Manhattan</td>\n      <td>Washington Heights</td>\n      <td>Manhattan</td>\n      <td>New York</td>\n      <td>NY</td>\n      <td>10040</td>\n      <td>New York</td>\n      <td>New York, NY</td>\n      <td>40.85722</td>\n      <td>-73.9379</td>\n      <td>t</td>\n      <td>Other</td>\n      <td>Private room</td>\n      <td>2</td>\n      <td>NaN</td>\n      <td>1.0</td>\n      <td>2.0</td>\n      <td>Real Bed</td>\n      <td>{Internet,Wifi}</td>\n      <td>$100.00</td>\n      <td>NaN</td>\n      <td>NaN</td>\n      <td>1</td>\n      <td>$0.00</td>\n      <td>1</td>\n      <td>730</td>\n      <td>1</td>\n      <td>1</td>\n      <td>730</td>\n      <td>730</td>\n      <td>1.0</td>\n      <td>730.0</td>\n      <td>4 weeks ago</td>\n      <td>30</td>\n      <td>60</td>\n      <td>90</td>\n      <td>365</td>\n      <td>1</td>\n      <td>0</td>\n      <td>2008-09-22</td>\n      <td>2008-09-22</td>\n      <td>80.0</td>\n      <td>NaN</td>\n      <td>NaN</td>\n      <td>NaN</td>\n      <td>NaN</td>\n      <td>NaN</td>\n      <td>NaN</td>\n      <td>f</td>\n      <td>flexible</td>\n      <td>1</td>\n      <td>0</td>\n      <td>1</td>\n      <td>0</td>\n      <td>0.01</td>\n    </tr>\n  </tbody>\n</table>\n</div>"
     },
     "metadata": {},
     "execution_count": 5
    }
   ],
   "source": [
    "#head\n",
    "listings.head(1)"
   ]
  },
  {
   "cell_type": "markdown",
   "metadata": {},
   "source": [
    "# Dealing with null values\n",
    "Fill with 0, dropping null"
   ]
  },
  {
   "cell_type": "code",
   "execution_count": 6,
   "metadata": {},
   "outputs": [],
   "source": [
    "#fill with 0\n",
    "\n",
    "listings['reviews_per_month'] = listings['reviews_per_month'].replace(np.nan, 0)\n",
    "listings['bathrooms'] = listings['bathrooms'].replace(np.nan, 0)\n",
    "listings['bedrooms'] = listings['bedrooms'].replace(np.nan, 0)\n",
    "\n",
    "listings['host_is_superhost'] = listings['host_is_superhost'].replace(np.nan, 0)\n",
    "\n",
    "listings['cleaning_fee'] = listings['cleaning_fee'].replace(np.nan, '0')"
   ]
  },
  {
   "cell_type": "code",
   "execution_count": 7,
   "metadata": {},
   "outputs": [],
   "source": [
    "#dropping na when rec counts as  there are not too many\n",
    "\n",
    "listings = listings.dropna(subset=['host_since'])\n",
    "\n",
    "#filt = listings['host_since'].isnull()\n",
    "#listings[filt]\n",
    "#listings['host_since'].isnull().sum()"
   ]
  },
  {
   "cell_type": "markdown",
   "metadata": {},
   "source": [
    "# Array data type - exploration\n",
    "First part is querying the two columns which as array: host_verifications and amenities"
   ]
  },
  {
   "cell_type": "code",
   "execution_count": 8,
   "metadata": {},
   "outputs": [
    {
     "output_type": "stream",
     "name": "stdout",
     "text": "['reviews', 'email', 'phone', 'offline_government_id', 'kba', 'selfie', 'government_id', 'identity_manual', 'work_email', 'jumio', 'facebook', 'google', 'manual_online', 'sent_id', 'manual_offline', 'weibo', 'sesame', 'sesame_offline', 'zhima_selfie', '']\n"
    }
   ],
   "source": [
    "#convert values of host_verifications to list\n",
    "host_verifications = listings['host_verifications'].values.tolist()\n",
    "\n",
    "#host verivication split\n",
    "#host_verification_ = host_verifications[0:10] -- for testing\n",
    "host_verification_unique = []\n",
    "\n",
    "for row in host_verifications:\n",
    "    row_clean = row.replace('[','').replace(']','')\n",
    "    methods = row_clean.split(',')\n",
    "    for method in methods:\n",
    "        method_clean = method.replace(\"'\",\"\").strip()\n",
    "        if method_clean not in host_verification_unique:\n",
    "            host_verification_unique.append(method_clean)\n",
    "\n",
    "print(host_verification_unique)"
   ]
  },
  {
   "cell_type": "code",
   "execution_count": 9,
   "metadata": {},
   "outputs": [
    {
     "output_type": "stream",
     "name": "stdout",
     "text": "['Internet', 'Wifi', 'TV', 'Air conditioning', 'Kitchen', 'Paid parking off premises', 'Free street parking', 'Heating', 'Family/kid friendly', 'Smoke detector', 'Carbon monoxide detector', 'Fire extinguisher', 'Essentials', 'Lock on bedroom door', 'Hair dryer', 'Iron', 'Laptop friendly workspace', 'Self check-in', 'Keypad', 'Private living room', 'Bathtub', 'Hot water', 'Bed linens', 'Extra pillows and blankets', 'Ethernet connection', 'Coffee maker', 'Refrigerator', 'Dishes and silverware', 'Cooking basics', 'Oven', 'Stove', 'Luggage dropoff allowed', 'Long term stays allowed', 'Cleaning before checkout', 'Cable TV', 'Pets allowed', 'Shampoo', '24-hour check-in', 'Hangers', 'Lockbox', 'High chair', 'Stair gates', 'Children’s books and toys', 'Pack ’n Play/travel crib', 'Microwave', 'Buzzer/wireless intercom', 'First aid kit', 'translation missing: en.hosting_amenity_49', 'translation missing: en.hosting_amenity_50', 'Host greets you', 'Elevator', 'Washer', 'Dryer', 'Pets live on this property', 'Cat(s)', 'Doorman', 'Breakfast', 'Dog(s)', 'Dishwasher', 'Waterfront', 'Suitable for events', 'Safety card', 'Patio or balcony', 'Garden or backyard', 'Beach essentials', 'Private entrance', 'Other', 'Building staff', 'Shower gel', 'Crib', 'BBQ grill', 'Wheelchair accessible', 'Window guards', 'Room-darkening shades', 'Pocket wifi', 'Single level home', 'Babysitter recommendations', 'Baking sheet', 'Trash can', 'Pool', 'Washer/Dryer', 'Paid parking on premises', 'Hot tub', 'Children’s dinnerware', 'Free parking on premises', 'Other pet(s)', 'Smart lock', 'Gym', 'Outlet covers', 'Baby bath', 'Changing table', 'Table corner guards', 'Firm mattress', 'Smoking allowed', 'Indoor fireplace', 'Game console', 'Fireplace guards', 'EV charger', 'No stairs or steps to enter', 'Wide hallways', 'Wide entrance for guests', 'Well-lit path to entrance', 'Ski-in/Ski-out', 'Private bathroom', 'Baby monitor', 'Barbecue utensils', 'Flat path to guest entrance', 'Beachfront', 'Extra space around bed', 'Accessible-height bed', 'Accessible-height toilet', 'Fixed grab bars for shower', 'Hot water kettle', '', 'Lake access', 'Handheld shower head', 'Bread maker', 'Ground floor access', 'Air purifier', 'Wide entrance', 'Wide doorway to guest bathroom', 'Wide clearance to shower', ' toilet', 'Wide entryway', 'Full kitchen', 'Disabled parking spot', 'Step-free shower', 'Fixed grab bars for toilet', 'Shower chair', 'Body soap', 'Bath towel', 'Toilet paper', 'Safe', 'Bedroom comforts', 'Bathroom essentials', 'Bathrobes', 'Bluetooth speaker', 'Record player', 'Kitchenette', 'Bathtub with bath chair', 'Mini fridge', 'Slippers', 'Mini bar', 'Bottled water', 'Turndown service', 'Electric profiling bed', 'Snacks', 'Mobile hoist']\n"
    }
   ],
   "source": [
    "#convert values of amenities to list\n",
    "amenities = listings['amenities'].values.tolist()\n",
    "\n",
    "#amenities split\n",
    "amenities_unique = []\n",
    "\n",
    "for row in amenities:\n",
    "    row_string = str(row)\n",
    "    row_string_clean = row_string.replace('{','').replace('}','')\n",
    "    amenities_rows = row_string_clean.split(',')\n",
    "    for row in amenities_rows:\n",
    "        row_clean = row.replace('\"','')\n",
    "        if row_clean not in amenities_unique:\n",
    "            amenities_unique.append(row_clean)\n",
    "            \n",
    "print(amenities_unique)"
   ]
  },
  {
   "cell_type": "markdown",
   "metadata": {},
   "source": [
    "# Array data type - reformatting\n",
    "This step is creating multiple boolean columns to be used in the model"
   ]
  },
  {
   "cell_type": "code",
   "execution_count": 10,
   "metadata": {},
   "outputs": [],
   "source": [
    "#function to remove some characters, clean up value\n",
    "def clean_array(row):\n",
    "    row = row.str.replace('[', '')\n",
    "    row = row.str.replace(']', '')\n",
    "    row = row.str.replace('{', '')\n",
    "    row = row.str.replace('}', '')\n",
    "    row = row.str.replace(\"'\", '')\n",
    "    row = row.str.replace('\"', '')\n",
    "    return row"
   ]
  },
  {
   "cell_type": "code",
   "execution_count": 11,
   "metadata": {},
   "outputs": [],
   "source": [
    "#array_columns = ['host_verifications', 'amenities']\n",
    "array_columns = ['host_verifications']\n",
    "#apply get\n",
    "array_columns_clean = listings[array_columns].apply(lambda col: clean_array(col))\n",
    "\n",
    "# Create new columns based on unique value in the array\n",
    "array_bool_columns = []\n",
    "\n",
    "for col in listings[array_columns].columns:\n",
    "    colname = array_columns_clean[col].str.get_dummies(sep=',');\n",
    "    colname = colname.add_prefix(col + '_');\n",
    "    array_bool_columns.append(colname);\n",
    "\n",
    "#add to the listing\n",
    "listings = listings.join(array_bool_columns)\n",
    "\n",
    "#drop original columns\n",
    "listings = listings.drop(array_columns,axis = 1)\n",
    "\n",
    "#print all addtional columns\n",
    "#array_bool_columns"
   ]
  },
  {
   "cell_type": "markdown",
   "metadata": {},
   "source": [
    "# Currency data type\n",
    "This will remove dollars sign, comma and then convert to float"
   ]
  },
  {
   "cell_type": "code",
   "execution_count": 13,
   "metadata": {},
   "outputs": [],
   "source": [
    "#function\n",
    "def fix_currency(row):\n",
    "    row = row.replace(',', '')\n",
    "    row = row.replace('$', '')\n",
    "    return row"
   ]
  },
  {
   "cell_type": "code",
   "execution_count": 16,
   "metadata": {},
   "outputs": [],
   "source": [
    "#run on price, extra_people\n",
    "#also convert to float\n",
    "colname = 'extra_people'\n",
    "listings[colname] = listings[colname].apply(lambda col: fix_currency(col)).astype(float)\n",
    "\n",
    "colname = 'price'\n",
    "listings[colname] = listings[colname].apply(lambda col: fix_currency(col)).astype(float)\n",
    "\n",
    "colname = 'cleaning_fee'\n",
    "listings[colname] = listings[colname].apply(lambda col: fix_currency(col)).astype(float)\n"
   ]
  },
  {
   "cell_type": "code",
   "execution_count": 19,
   "metadata": {},
   "outputs": [
    {
     "output_type": "execute_result",
     "data": {
      "text/plain": "0    0.0  \n1    0.0  \n2    0.0  \n3    100.0\n4    13.0 \n5    30.0 \n6    12.0 \n7    0.0  \n8    10.0 \n9    0.0  \nName: extra_people, dtype: float64"
     },
     "metadata": {},
     "execution_count": 19
    }
   ],
   "source": [
    "listings['extra_people'].head(10)"
   ]
  },
  {
   "cell_type": "markdown",
   "metadata": {},
   "source": [
    "# Category data type"
   ]
  },
  {
   "cell_type": "code",
   "execution_count": 20,
   "metadata": {},
   "outputs": [],
   "source": [
    "# Get one hot encoding of column neighbourhood_group_cleansed\n",
    "one_hot = pd.get_dummies(listings['neighbourhood_group_cleansed'])\n",
    "# Drop original column as it is now encoded\n",
    "listings = listings.drop('neighbourhood_group_cleansed',axis = 1)\n",
    "# Join the encoded df\n",
    "listings = listings.join(one_hot)\n"
   ]
  },
  {
   "cell_type": "markdown",
   "metadata": {},
   "source": [
    "# Boolean data type\n",
    "Converting the value to 1 and 0 from 't' and 'f'."
   ]
  },
  {
   "cell_type": "code",
   "execution_count": 21,
   "metadata": {},
   "outputs": [],
   "source": [
    "#function to replace\n",
    "def convert_bool(row):\n",
    "    row = row.replace('f', 0)\n",
    "    row = row.replace('t', 1)\n",
    "    return row"
   ]
  },
  {
   "cell_type": "code",
   "execution_count": 22,
   "metadata": {},
   "outputs": [
    {
     "output_type": "execute_result",
     "data": {
      "text/plain": "0"
     },
     "metadata": {},
     "execution_count": 22
    }
   ],
   "source": [
    "listings.groupby(['host_is_superhost'])[['host_is_superhost']].count()\n",
    "listings['host_is_superhost'].isna().sum()"
   ]
  },
  {
   "cell_type": "code",
   "execution_count": 23,
   "metadata": {},
   "outputs": [],
   "source": [
    "#update rows and convert to bool\n",
    "colname = ['host_is_superhost']\n",
    "\n",
    "#run fuction and convert to int\n",
    "listings[colname] = listings[colname].apply(lambda col: convert_bool(col)).astype(int)"
   ]
  },
  {
   "cell_type": "markdown",
   "metadata": {},
   "source": [
    "# Date data type\n",
    "Convert to date then to ordinal"
   ]
  },
  {
   "cell_type": "code",
   "execution_count": 24,
   "metadata": {},
   "outputs": [
    {
     "output_type": "execute_result",
     "data": {
      "text/plain": "  host_since  host_since_calc\n0 2008-08-18  733272         \n1 2008-09-09  733294         \n2 2008-12-07  733383         \n3 2009-02-02  733440         \n4 2009-02-02  733440         ",
      "text/html": "<div>\n<style scoped>\n    .dataframe tbody tr th:only-of-type {\n        vertical-align: middle;\n    }\n\n    .dataframe tbody tr th {\n        vertical-align: top;\n    }\n\n    .dataframe thead th {\n        text-align: right;\n    }\n</style>\n<table border=\"1\" class=\"dataframe\">\n  <thead>\n    <tr style=\"text-align: right;\">\n      <th></th>\n      <th>host_since</th>\n      <th>host_since_calc</th>\n    </tr>\n  </thead>\n  <tbody>\n    <tr>\n      <th>0</th>\n      <td>2008-08-18</td>\n      <td>733272</td>\n    </tr>\n    <tr>\n      <th>1</th>\n      <td>2008-09-09</td>\n      <td>733294</td>\n    </tr>\n    <tr>\n      <th>2</th>\n      <td>2008-12-07</td>\n      <td>733383</td>\n    </tr>\n    <tr>\n      <th>3</th>\n      <td>2009-02-02</td>\n      <td>733440</td>\n    </tr>\n    <tr>\n      <th>4</th>\n      <td>2009-02-02</td>\n      <td>733440</td>\n    </tr>\n  </tbody>\n</table>\n</div>"
     },
     "metadata": {},
     "execution_count": 24
    }
   ],
   "source": [
    "date_columns = ['host_since']\n",
    "#conver to date first\n",
    "listings['host_since'] = pd.to_datetime(listings['host_since'])\n",
    "\n",
    "for col in date_columns:\n",
    "    listings['host_since_calc'] = listings[col].apply(lambda x: x.toordinal())\n",
    "\n",
    "listings[['host_since', 'host_since_calc']].head()\n"
   ]
  },
  {
   "cell_type": "code",
   "execution_count": 25,
   "metadata": {},
   "outputs": [
    {
     "output_type": "execute_result",
     "data": {
      "text/plain": "     id                        listing_url        name  host_id  \\\n0  2060  https://www.airbnb.com/rooms/2060  Modern NYC  2259      \n\n                                 host_url host_name host_since host_location  \\\n0  https://www.airbnb.com/users/show/2259  Jenny    2008-08-18  US             \n\n   host_response_time host_response_rate host_acceptance_rate  \\\n0  a few days or more  22%                50%                   \n\n   host_is_superhost  host_neighbourhood  host_listings_count  \\\n0  0                  Washington Heights  0.0                   \n\n   host_total_listings_count host_identity_verified  \\\n0  0.0                        f                       \n\n                        street neighbourhood neighbourhood_cleansed      city  \\\n0  New York, NY, United States  Manhattan     Washington Heights     New York   \n\n  state zipcode    market smart_location  latitude  longitude  \\\n0  NY    10040   New York  New York, NY   40.85722 -73.9379     \n\n  is_location_exact property_type     room_type  accommodates  bathrooms  \\\n0  t                 Other         Private room  2             0.0         \n\n   bedrooms  beds  bed_type        amenities  price security_deposit  \\\n0  1.0       2.0   Real Bed  {Internet,Wifi}  100.0  NaN               \n\n   cleaning_fee  guests_included  extra_people  minimum_nights  \\\n0  0.0           1                0.0           1                \n\n   maximum_nights  minimum_minimum_nights  maximum_minimum_nights  \\\n0  730             1                       1                        \n\n   minimum_maximum_nights  maximum_maximum_nights  minimum_nights_avg_ntm  \\\n0  730                     730                     1.0                      \n\n   maximum_nights_avg_ntm calendar_updated  availability_30  availability_60  \\\n0  730.0                   4 weeks ago      30               60                \n\n   availability_90  availability_365  number_of_reviews  \\\n0  90               365               1                   \n\n   number_of_reviews_ltm first_review last_review  review_scores_rating  \\\n0  0                      2008-09-22   2008-09-22  80.0                   \n\n   review_scores_accuracy  review_scores_cleanliness  review_scores_checkin  \\\n0 NaN                     NaN                        NaN                      \n\n   review_scores_communication  review_scores_location  review_scores_value  \\\n0 NaN                          NaN                     NaN                    \n\n  instant_bookable cancellation_policy  calculated_host_listings_count  \\\n0  f                flexible            1                                \n\n   calculated_host_listings_count_entire_homes  \\\n0  0                                             \n\n   calculated_host_listings_count_private_rooms  \\\n0  1                                              \n\n   calculated_host_listings_count_shared_rooms  reviews_per_month  \\\n0  0                                            0.01                \n\n   host_verifications_ facebook  host_verifications_ google  \\\n0  0                             0                            \n\n   host_verifications_ government_id  host_verifications_ identity_manual  \\\n0  0                                  0                                     \n\n   host_verifications_ jumio  host_verifications_ kba  \\\n0  0                          0                         \n\n   host_verifications_ manual_offline  host_verifications_ manual_online  \\\n0  0                                   0                                   \n\n   host_verifications_ offline_government_id  host_verifications_ phone  \\\n0  0                                          0                           \n\n   host_verifications_ reviews  host_verifications_ selfie  \\\n0  0                            0                            \n\n   host_verifications_ sent_id  host_verifications_ sesame  \\\n0  0                            0                            \n\n   host_verifications_ sesame_offline  host_verifications_ weibo  \\\n0  0                                   0                           \n\n   host_verifications_ work_email  host_verifications_ zhima_selfie  \\\n0  0                               0                                  \n\n   host_verifications_email  host_verifications_facebook  \\\n0  0                         0                             \n\n   host_verifications_google  host_verifications_jumio  \\\n0  0                          0                          \n\n   host_verifications_offline_government_id  host_verifications_phone  \\\n0  0                                         0                          \n\n   host_verifications_reviews  Bronx  Brooklyn  Manhattan  Queens  \\\n0  1                           0      0         1          0        \n\n   Staten Island  host_since_calc  \n0  0              733272           ",
      "text/html": "<div>\n<style scoped>\n    .dataframe tbody tr th:only-of-type {\n        vertical-align: middle;\n    }\n\n    .dataframe tbody tr th {\n        vertical-align: top;\n    }\n\n    .dataframe thead th {\n        text-align: right;\n    }\n</style>\n<table border=\"1\" class=\"dataframe\">\n  <thead>\n    <tr style=\"text-align: right;\">\n      <th></th>\n      <th>id</th>\n      <th>listing_url</th>\n      <th>name</th>\n      <th>host_id</th>\n      <th>host_url</th>\n      <th>host_name</th>\n      <th>host_since</th>\n      <th>host_location</th>\n      <th>host_response_time</th>\n      <th>host_response_rate</th>\n      <th>host_acceptance_rate</th>\n      <th>host_is_superhost</th>\n      <th>host_neighbourhood</th>\n      <th>host_listings_count</th>\n      <th>host_total_listings_count</th>\n      <th>host_identity_verified</th>\n      <th>street</th>\n      <th>neighbourhood</th>\n      <th>neighbourhood_cleansed</th>\n      <th>city</th>\n      <th>state</th>\n      <th>zipcode</th>\n      <th>market</th>\n      <th>smart_location</th>\n      <th>latitude</th>\n      <th>longitude</th>\n      <th>is_location_exact</th>\n      <th>property_type</th>\n      <th>room_type</th>\n      <th>accommodates</th>\n      <th>bathrooms</th>\n      <th>bedrooms</th>\n      <th>beds</th>\n      <th>bed_type</th>\n      <th>amenities</th>\n      <th>price</th>\n      <th>security_deposit</th>\n      <th>cleaning_fee</th>\n      <th>guests_included</th>\n      <th>extra_people</th>\n      <th>minimum_nights</th>\n      <th>maximum_nights</th>\n      <th>minimum_minimum_nights</th>\n      <th>maximum_minimum_nights</th>\n      <th>minimum_maximum_nights</th>\n      <th>maximum_maximum_nights</th>\n      <th>minimum_nights_avg_ntm</th>\n      <th>maximum_nights_avg_ntm</th>\n      <th>calendar_updated</th>\n      <th>availability_30</th>\n      <th>availability_60</th>\n      <th>availability_90</th>\n      <th>availability_365</th>\n      <th>number_of_reviews</th>\n      <th>number_of_reviews_ltm</th>\n      <th>first_review</th>\n      <th>last_review</th>\n      <th>review_scores_rating</th>\n      <th>review_scores_accuracy</th>\n      <th>review_scores_cleanliness</th>\n      <th>review_scores_checkin</th>\n      <th>review_scores_communication</th>\n      <th>review_scores_location</th>\n      <th>review_scores_value</th>\n      <th>instant_bookable</th>\n      <th>cancellation_policy</th>\n      <th>calculated_host_listings_count</th>\n      <th>calculated_host_listings_count_entire_homes</th>\n      <th>calculated_host_listings_count_private_rooms</th>\n      <th>calculated_host_listings_count_shared_rooms</th>\n      <th>reviews_per_month</th>\n      <th>host_verifications_ facebook</th>\n      <th>host_verifications_ google</th>\n      <th>host_verifications_ government_id</th>\n      <th>host_verifications_ identity_manual</th>\n      <th>host_verifications_ jumio</th>\n      <th>host_verifications_ kba</th>\n      <th>host_verifications_ manual_offline</th>\n      <th>host_verifications_ manual_online</th>\n      <th>host_verifications_ offline_government_id</th>\n      <th>host_verifications_ phone</th>\n      <th>host_verifications_ reviews</th>\n      <th>host_verifications_ selfie</th>\n      <th>host_verifications_ sent_id</th>\n      <th>host_verifications_ sesame</th>\n      <th>host_verifications_ sesame_offline</th>\n      <th>host_verifications_ weibo</th>\n      <th>host_verifications_ work_email</th>\n      <th>host_verifications_ zhima_selfie</th>\n      <th>host_verifications_email</th>\n      <th>host_verifications_facebook</th>\n      <th>host_verifications_google</th>\n      <th>host_verifications_jumio</th>\n      <th>host_verifications_offline_government_id</th>\n      <th>host_verifications_phone</th>\n      <th>host_verifications_reviews</th>\n      <th>Bronx</th>\n      <th>Brooklyn</th>\n      <th>Manhattan</th>\n      <th>Queens</th>\n      <th>Staten Island</th>\n      <th>host_since_calc</th>\n    </tr>\n  </thead>\n  <tbody>\n    <tr>\n      <th>0</th>\n      <td>2060</td>\n      <td>https://www.airbnb.com/rooms/2060</td>\n      <td>Modern NYC</td>\n      <td>2259</td>\n      <td>https://www.airbnb.com/users/show/2259</td>\n      <td>Jenny</td>\n      <td>2008-08-18</td>\n      <td>US</td>\n      <td>a few days or more</td>\n      <td>22%</td>\n      <td>50%</td>\n      <td>0</td>\n      <td>Washington Heights</td>\n      <td>0.0</td>\n      <td>0.0</td>\n      <td>f</td>\n      <td>New York, NY, United States</td>\n      <td>Manhattan</td>\n      <td>Washington Heights</td>\n      <td>New York</td>\n      <td>NY</td>\n      <td>10040</td>\n      <td>New York</td>\n      <td>New York, NY</td>\n      <td>40.85722</td>\n      <td>-73.9379</td>\n      <td>t</td>\n      <td>Other</td>\n      <td>Private room</td>\n      <td>2</td>\n      <td>0.0</td>\n      <td>1.0</td>\n      <td>2.0</td>\n      <td>Real Bed</td>\n      <td>{Internet,Wifi}</td>\n      <td>100.0</td>\n      <td>NaN</td>\n      <td>0.0</td>\n      <td>1</td>\n      <td>0.0</td>\n      <td>1</td>\n      <td>730</td>\n      <td>1</td>\n      <td>1</td>\n      <td>730</td>\n      <td>730</td>\n      <td>1.0</td>\n      <td>730.0</td>\n      <td>4 weeks ago</td>\n      <td>30</td>\n      <td>60</td>\n      <td>90</td>\n      <td>365</td>\n      <td>1</td>\n      <td>0</td>\n      <td>2008-09-22</td>\n      <td>2008-09-22</td>\n      <td>80.0</td>\n      <td>NaN</td>\n      <td>NaN</td>\n      <td>NaN</td>\n      <td>NaN</td>\n      <td>NaN</td>\n      <td>NaN</td>\n      <td>f</td>\n      <td>flexible</td>\n      <td>1</td>\n      <td>0</td>\n      <td>1</td>\n      <td>0</td>\n      <td>0.01</td>\n      <td>0</td>\n      <td>0</td>\n      <td>0</td>\n      <td>0</td>\n      <td>0</td>\n      <td>0</td>\n      <td>0</td>\n      <td>0</td>\n      <td>0</td>\n      <td>0</td>\n      <td>0</td>\n      <td>0</td>\n      <td>0</td>\n      <td>0</td>\n      <td>0</td>\n      <td>0</td>\n      <td>0</td>\n      <td>0</td>\n      <td>0</td>\n      <td>0</td>\n      <td>0</td>\n      <td>0</td>\n      <td>0</td>\n      <td>0</td>\n      <td>1</td>\n      <td>0</td>\n      <td>0</td>\n      <td>1</td>\n      <td>0</td>\n      <td>0</td>\n      <td>733272</td>\n    </tr>\n  </tbody>\n</table>\n</div>"
     },
     "metadata": {},
     "execution_count": 25
    }
   ],
   "source": [
    "listings.head(1)"
   ]
  },
  {
   "cell_type": "markdown",
   "metadata": {},
   "source": [
    "# Modelling\n",
    "Try different type of models"
   ]
  },
  {
   "cell_type": "code",
   "execution_count": 29,
   "metadata": {},
   "outputs": [],
   "source": [
    "#test model\n",
    "from sklearn.linear_model import LogisticRegression\n",
    "from sklearn.model_selection import train_test_split\n",
    "\n",
    "#not sure how to use this one\n",
    "from sklearn.model_selection import cross_val_score"
   ]
  },
  {
   "cell_type": "code",
   "execution_count": 30,
   "metadata": {},
   "outputs": [
    {
     "output_type": "execute_result",
     "data": {
      "text/plain": "0.04340978442760114"
     },
     "metadata": {},
     "execution_count": 30
    }
   ],
   "source": [
    "#exclude for now\n",
    "X = listings[['Bronx', 'Bronx', 'Bronx', 'Bronx', 'Queens', 'Staten Island', 'reviews_per_month', 'host_since_calc', 'bathrooms', 'bedrooms', 'extra_people', 'host_is_superhost', 'cleaning_fee', 'host_total_listings_count']]\n",
    "y = listings['price']\n",
    "\n",
    "# Split your data into training and test sets\n",
    "X_train, X_test, y_train, y_test = train_test_split(X, y, test_size=0.2, random_state=42)\n",
    "\n",
    "# Initialize our algorithm\n",
    "lr = LogisticRegression(random_state=1, solver='liblinear')\n",
    "\n",
    "# Fit the training data to the model\n",
    "log_reg = lr.fit(X_train, y_train)\n",
    "\n",
    "#Score\n",
    "log_reg.score(X_test, y_test)"
   ]
  },
  {
   "cell_type": "code",
   "execution_count": 31,
   "metadata": {},
   "outputs": [
    {
     "output_type": "execute_result",
     "data": {
      "text/plain": "0.04022846526034418"
     },
     "metadata": {},
     "execution_count": 31
    }
   ],
   "source": [
    "from sklearn import linear_model\n",
    "\n",
    "clf = linear_model.Lasso(alpha=0.1)\n",
    "log_clf = clf.fit(X_train, y_train)\n",
    "log_clf.score(X_test, y_test)"
   ]
  },
  {
   "cell_type": "code",
   "execution_count": 43,
   "metadata": {},
   "outputs": [
    {
     "output_type": "stream",
     "name": "stdout",
     "text": "436.56677542201965\n0.03609072890220211\n"
    }
   ],
   "source": [
    "from sklearn.metrics import mean_squared_error\n",
    "from sklearn.metrics import r2_score\n",
    "\n",
    "#train, mse and r2\n",
    "pred_train = clf.predict(X_train)\n",
    "print(np.sqrt(mean_squared_error(y_train,pred_train)))\n",
    "print(r2_score(y_train, pred_train))\n"
   ]
  },
  {
   "cell_type": "code",
   "execution_count": 32,
   "metadata": {},
   "outputs": [
    {
     "output_type": "execute_result",
     "data": {
      "text/plain": "0.04011249195055011"
     },
     "metadata": {},
     "execution_count": 32
    }
   ],
   "source": [
    "from sklearn.linear_model import Ridge\n",
    "\n",
    "rr = Ridge(alpha=0.01)\n",
    "log_rr = rr.fit(X_train, y_train) \n",
    "log_rr.score(X_test, y_test)\n"
   ]
  },
  {
   "cell_type": "code",
   "execution_count": 45,
   "metadata": {},
   "outputs": [
    {
     "output_type": "stream",
     "name": "stdout",
     "text": "436.5644429085179\n0.036101028931932455\n"
    }
   ],
   "source": [
    "pred_train = rr.predict(X_train)\n",
    "print(np.sqrt(mean_squared_error(y_train,pred_train)))\n",
    "print(r2_score(y_train, pred_train))"
   ]
  },
  {
   "cell_type": "code",
   "execution_count": null,
   "metadata": {},
   "outputs": [],
   "source": []
  }
 ],
 "metadata": {
  "kernelspec": {
   "display_name": "Python 3",
   "language": "python",
   "name": "python3"
  },
  "language_info": {
   "codemirror_mode": {
    "name": "ipython",
    "version": 3
   },
   "file_extension": ".py",
   "mimetype": "text/x-python",
   "name": "python",
   "nbconvert_exporter": "python",
   "pygments_lexer": "ipython3",
   "version": "3.7.3-final"
  }
 },
 "nbformat": 4,
 "nbformat_minor": 2
}
{
 "cells": [
  {
   "cell_type": "markdown",
   "metadata": {},
   "source": [
    "# Getting the Data Ready\n",
    "This notebook is for cleaning up data, generate more columns, change data type, etc.\n"
   ]
  },
  {
   "cell_type": "code",
   "execution_count": 45,
   "metadata": {},
   "outputs": [],
   "source": [
    "import os\n",
    "import io\n",
    "import re\n",
    "import numpy as np\n",
    "import pandas as pd\n",
    "import matplotlib\n",
    "import matplotlib.pyplot as plt\n",
    "import seaborn as sns\n",
    "\n",
    "import warnings\n",
    "warnings.filterwarnings('ignore')"
   ]
  },
  {
   "cell_type": "code",
   "execution_count": 46,
   "metadata": {},
   "outputs": [],
   "source": [
    "#read data, specify index so it's easier to join and search using loc\n",
    "path = '../../data/new-york-city-airbnb-open-data/'\n",
    "listings_csv = os.path.join(path,'selected_columns_listings.csv')\n",
    "listings = pd.read_csv(listings_csv)"
   ]
  },
  {
   "cell_type": "code",
   "execution_count": 47,
   "metadata": {},
   "outputs": [
    {
     "output_type": "execute_result",
     "data": {
      "text/plain": "(50796, 76)"
     },
     "metadata": {},
     "execution_count": 47
    }
   ],
   "source": [
    "#shape\n",
    "listings.shape"
   ]
  },
  {
   "cell_type": "code",
   "execution_count": 61,
   "metadata": {},
   "outputs": [
    {
     "output_type": "execute_result",
     "data": {
      "text/plain": "     id                        listing_url        name  \\\n0  2060  https://www.airbnb.com/rooms/2060  Modern NYC   \n\n                                                                       picture_url  \\\n0  https://a0.muscache.com/im/pictures/3755/3f9d31cf_original.jpg?aki_policy=large   \n\n   host_id                                host_url host_name  host_since  \\\n0  2259     https://www.airbnb.com/users/show/2259  Jenny     2008-08-18   \n\n  host_location  host_response_time host_response_rate host_acceptance_rate  \\\n0  US            a few days or more  22%                50%                   \n\n  host_is_superhost  \\\n0  f                  \n\n                                                                                   host_thumbnail_url  \\\n0  https://a0.muscache.com/im/users/2259/profile_pic/1259094383/original.jpg?aki_policy=profile_small   \n\n                                                                                        host_picture_url  \\\n0  https://a0.muscache.com/im/users/2259/profile_pic/1259094383/original.jpg?aki_policy=profile_x_medium   \n\n   host_neighbourhood  host_listings_count  host_total_listings_count  \\\n0  Washington Heights  0.0                  0.0                         \n\n  host_verifications host_identity_verified                       street  \\\n0  ['reviews']        f                      New York, NY, United States   \n\n  neighbourhood neighbourhood_cleansed      city state zipcode    market  \\\n0  Manhattan     Washington Heights     New York  NY    10040   New York   \n\n  smart_location  latitude  longitude is_location_exact property_type  \\\n0  New York, NY   40.85722 -73.9379    t                 Other          \n\n      room_type  accommodates  bathrooms  bedrooms  beds  bed_type  \\\n0  Private room  2            NaN         1.0       2.0   Real Bed   \n\n         amenities  price security_deposit cleaning_fee  guests_included  \\\n0  {Internet,Wifi}  100.0  NaN              NaN          1                 \n\n  extra_people  minimum_nights  maximum_nights  minimum_minimum_nights  \\\n0  $0.00        1               730             1                        \n\n   maximum_minimum_nights  minimum_maximum_nights  maximum_maximum_nights  \\\n0  1                       730                     730                      \n\n   minimum_nights_avg_ntm  maximum_nights_avg_ntm calendar_updated  \\\n0  1.0                     730.0                   4 weeks ago       \n\n   availability_30  availability_60  availability_90  availability_365  \\\n0  30               60               90               365                \n\n   number_of_reviews  number_of_reviews_ltm first_review last_review  \\\n0  1                  0                      2008-09-22   2008-09-22   \n\n   review_scores_rating  review_scores_accuracy  review_scores_cleanliness  \\\n0  80.0                 NaN                     NaN                          \n\n   review_scores_checkin  review_scores_communication  review_scores_location  \\\n0 NaN                    NaN                          NaN                       \n\n   review_scores_value instant_bookable cancellation_policy  \\\n0 NaN                   f                flexible             \n\n   calculated_host_listings_count  \\\n0  1                                \n\n   calculated_host_listings_count_entire_homes  \\\n0  0                                             \n\n   calculated_host_listings_count_private_rooms  \\\n0  1                                              \n\n   calculated_host_listings_count_shared_rooms  reviews_per_month  Bronx  \\\n0  0                                            0.01               0       \n\n   Brooklyn  Manhattan  Queens  Staten Island  \n0  0         1          0       0              ",
      "text/html": "<div>\n<style scoped>\n    .dataframe tbody tr th:only-of-type {\n        vertical-align: middle;\n    }\n\n    .dataframe tbody tr th {\n        vertical-align: top;\n    }\n\n    .dataframe thead th {\n        text-align: right;\n    }\n</style>\n<table border=\"1\" class=\"dataframe\">\n  <thead>\n    <tr style=\"text-align: right;\">\n      <th></th>\n      <th>id</th>\n      <th>listing_url</th>\n      <th>name</th>\n      <th>picture_url</th>\n      <th>host_id</th>\n      <th>host_url</th>\n      <th>host_name</th>\n      <th>host_since</th>\n      <th>host_location</th>\n      <th>host_response_time</th>\n      <th>host_response_rate</th>\n      <th>host_acceptance_rate</th>\n      <th>host_is_superhost</th>\n      <th>host_thumbnail_url</th>\n      <th>host_picture_url</th>\n      <th>host_neighbourhood</th>\n      <th>host_listings_count</th>\n      <th>host_total_listings_count</th>\n      <th>host_verifications</th>\n      <th>host_identity_verified</th>\n      <th>street</th>\n      <th>neighbourhood</th>\n      <th>neighbourhood_cleansed</th>\n      <th>city</th>\n      <th>state</th>\n      <th>zipcode</th>\n      <th>market</th>\n      <th>smart_location</th>\n      <th>latitude</th>\n      <th>longitude</th>\n      <th>is_location_exact</th>\n      <th>property_type</th>\n      <th>room_type</th>\n      <th>accommodates</th>\n      <th>bathrooms</th>\n      <th>bedrooms</th>\n      <th>beds</th>\n      <th>bed_type</th>\n      <th>amenities</th>\n      <th>price</th>\n      <th>security_deposit</th>\n      <th>cleaning_fee</th>\n      <th>guests_included</th>\n      <th>extra_people</th>\n      <th>minimum_nights</th>\n      <th>maximum_nights</th>\n      <th>minimum_minimum_nights</th>\n      <th>maximum_minimum_nights</th>\n      <th>minimum_maximum_nights</th>\n      <th>maximum_maximum_nights</th>\n      <th>minimum_nights_avg_ntm</th>\n      <th>maximum_nights_avg_ntm</th>\n      <th>calendar_updated</th>\n      <th>availability_30</th>\n      <th>availability_60</th>\n      <th>availability_90</th>\n      <th>availability_365</th>\n      <th>number_of_reviews</th>\n      <th>number_of_reviews_ltm</th>\n      <th>first_review</th>\n      <th>last_review</th>\n      <th>review_scores_rating</th>\n      <th>review_scores_accuracy</th>\n      <th>review_scores_cleanliness</th>\n      <th>review_scores_checkin</th>\n      <th>review_scores_communication</th>\n      <th>review_scores_location</th>\n      <th>review_scores_value</th>\n      <th>instant_bookable</th>\n      <th>cancellation_policy</th>\n      <th>calculated_host_listings_count</th>\n      <th>calculated_host_listings_count_entire_homes</th>\n      <th>calculated_host_listings_count_private_rooms</th>\n      <th>calculated_host_listings_count_shared_rooms</th>\n      <th>reviews_per_month</th>\n      <th>Bronx</th>\n      <th>Brooklyn</th>\n      <th>Manhattan</th>\n      <th>Queens</th>\n      <th>Staten Island</th>\n    </tr>\n  </thead>\n  <tbody>\n    <tr>\n      <th>0</th>\n      <td>2060</td>\n      <td>https://www.airbnb.com/rooms/2060</td>\n      <td>Modern NYC</td>\n      <td>https://a0.muscache.com/im/pictures/3755/3f9d31cf_original.jpg?aki_policy=large</td>\n      <td>2259</td>\n      <td>https://www.airbnb.com/users/show/2259</td>\n      <td>Jenny</td>\n      <td>2008-08-18</td>\n      <td>US</td>\n      <td>a few days or more</td>\n      <td>22%</td>\n      <td>50%</td>\n      <td>f</td>\n      <td>https://a0.muscache.com/im/users/2259/profile_pic/1259094383/original.jpg?aki_policy=profile_small</td>\n      <td>https://a0.muscache.com/im/users/2259/profile_pic/1259094383/original.jpg?aki_policy=profile_x_medium</td>\n      <td>Washington Heights</td>\n      <td>0.0</td>\n      <td>0.0</td>\n      <td>['reviews']</td>\n      <td>f</td>\n      <td>New York, NY, United States</td>\n      <td>Manhattan</td>\n      <td>Washington Heights</td>\n      <td>New York</td>\n      <td>NY</td>\n      <td>10040</td>\n      <td>New York</td>\n      <td>New York, NY</td>\n      <td>40.85722</td>\n      <td>-73.9379</td>\n      <td>t</td>\n      <td>Other</td>\n      <td>Private room</td>\n      <td>2</td>\n      <td>NaN</td>\n      <td>1.0</td>\n      <td>2.0</td>\n      <td>Real Bed</td>\n      <td>{Internet,Wifi}</td>\n      <td>100.0</td>\n      <td>NaN</td>\n      <td>NaN</td>\n      <td>1</td>\n      <td>$0.00</td>\n      <td>1</td>\n      <td>730</td>\n      <td>1</td>\n      <td>1</td>\n      <td>730</td>\n      <td>730</td>\n      <td>1.0</td>\n      <td>730.0</td>\n      <td>4 weeks ago</td>\n      <td>30</td>\n      <td>60</td>\n      <td>90</td>\n      <td>365</td>\n      <td>1</td>\n      <td>0</td>\n      <td>2008-09-22</td>\n      <td>2008-09-22</td>\n      <td>80.0</td>\n      <td>NaN</td>\n      <td>NaN</td>\n      <td>NaN</td>\n      <td>NaN</td>\n      <td>NaN</td>\n      <td>NaN</td>\n      <td>f</td>\n      <td>flexible</td>\n      <td>1</td>\n      <td>0</td>\n      <td>1</td>\n      <td>0</td>\n      <td>0.01</td>\n      <td>0</td>\n      <td>0</td>\n      <td>1</td>\n      <td>0</td>\n      <td>0</td>\n    </tr>\n  </tbody>\n</table>\n</div>"
     },
     "metadata": {},
     "execution_count": 61
    }
   ],
   "source": [
    "#head\n",
    "listings.head(1)"
   ]
  },
  {
   "cell_type": "code",
   "execution_count": 49,
   "metadata": {},
   "outputs": [],
   "source": [
    "#to get all columns, set option\n",
    "pd.set_option('display.max_columns', 107)\n",
    "#to get text with no truncation\n",
    "pd.set_option('display.max_colwidth', -1)"
   ]
  },
  {
   "cell_type": "code",
   "execution_count": 50,
   "metadata": {},
   "outputs": [
    {
     "output_type": "execute_result",
     "data": {
      "text/plain": "['id',\n 'listing_url',\n 'name',\n 'picture_url',\n 'host_id',\n 'host_url',\n 'host_name',\n 'host_since',\n 'host_location',\n 'host_response_time',\n 'host_response_rate',\n 'host_acceptance_rate',\n 'host_is_superhost',\n 'host_thumbnail_url',\n 'host_picture_url',\n 'host_neighbourhood',\n 'host_listings_count',\n 'host_total_listings_count',\n 'host_verifications',\n 'host_identity_verified',\n 'street',\n 'neighbourhood',\n 'neighbourhood_cleansed',\n 'neighbourhood_group_cleansed',\n 'city',\n 'state',\n 'zipcode',\n 'market',\n 'smart_location',\n 'latitude',\n 'longitude',\n 'is_location_exact',\n 'property_type',\n 'room_type',\n 'accommodates',\n 'bathrooms',\n 'bedrooms',\n 'beds',\n 'bed_type',\n 'amenities',\n 'price',\n 'security_deposit',\n 'cleaning_fee',\n 'guests_included',\n 'extra_people',\n 'minimum_nights',\n 'maximum_nights',\n 'minimum_minimum_nights',\n 'maximum_minimum_nights',\n 'minimum_maximum_nights',\n 'maximum_maximum_nights',\n 'minimum_nights_avg_ntm',\n 'maximum_nights_avg_ntm',\n 'calendar_updated',\n 'availability_30',\n 'availability_60',\n 'availability_90',\n 'availability_365',\n 'number_of_reviews',\n 'number_of_reviews_ltm',\n 'first_review',\n 'last_review',\n 'review_scores_rating',\n 'review_scores_accuracy',\n 'review_scores_cleanliness',\n 'review_scores_checkin',\n 'review_scores_communication',\n 'review_scores_location',\n 'review_scores_value',\n 'instant_bookable',\n 'cancellation_policy',\n 'calculated_host_listings_count',\n 'calculated_host_listings_count_entire_homes',\n 'calculated_host_listings_count_private_rooms',\n 'calculated_host_listings_count_shared_rooms',\n 'reviews_per_month']"
     },
     "metadata": {},
     "execution_count": 50
    }
   ],
   "source": [
    "#all colums\n",
    "list(listings.columns.values)"
   ]
  },
  {
   "cell_type": "code",
   "execution_count": 51,
   "metadata": {},
   "outputs": [],
   "source": [
    "#convert values of host_verifications to list\n",
    "host_verifications = listings['host_verifications'].values.tolist()"
   ]
  },
  {
   "cell_type": "code",
   "execution_count": 52,
   "metadata": {},
   "outputs": [
    {
     "output_type": "stream",
     "name": "stdout",
     "text": "['reviews', 'email', 'phone', 'offline_government_id', 'kba', 'selfie', 'government_id', 'identity_manual', 'work_email', 'jumio', 'facebook', 'google', 'manual_online', 'sent_id', 'manual_offline', 'weibo', 'None', 'sesame', 'sesame_offline', 'zhima_selfie', '']\n"
    }
   ],
   "source": [
    "#host verivication split\n",
    "#host_verification_ = host_verifications[0:10] -- for testing\n",
    "host_verification_unique = []\n",
    "\n",
    "for row in host_verifications:\n",
    "    row_clean = row.replace('[','').replace(']','')\n",
    "    methods = row_clean.split(',')\n",
    "    for method in methods:\n",
    "        method_clean = method.replace(\"'\",\"\").strip()\n",
    "        if method_clean not in host_verification_unique:\n",
    "            host_verification_unique.append(method_clean)\n",
    "\n",
    "print(host_verification_unique)"
   ]
  },
  {
   "cell_type": "code",
   "execution_count": 53,
   "metadata": {},
   "outputs": [],
   "source": [
    "#convert values of amenities to list\n",
    "amenities = listings['amenities'].values.tolist()"
   ]
  },
  {
   "cell_type": "code",
   "execution_count": 54,
   "metadata": {},
   "outputs": [
    {
     "output_type": "stream",
     "name": "stdout",
     "text": "['Internet', 'Wifi', 'TV', 'Air conditioning', 'Kitchen', 'Paid parking off premises', 'Free street parking', 'Heating', 'Family/kid friendly', 'Smoke detector', 'Carbon monoxide detector', 'Fire extinguisher', 'Essentials', 'Lock on bedroom door', 'Hair dryer', 'Iron', 'Laptop friendly workspace', 'Self check-in', 'Keypad', 'Private living room', 'Bathtub', 'Hot water', 'Bed linens', 'Extra pillows and blankets', 'Ethernet connection', 'Coffee maker', 'Refrigerator', 'Dishes and silverware', 'Cooking basics', 'Oven', 'Stove', 'Luggage dropoff allowed', 'Long term stays allowed', 'Cleaning before checkout', 'Cable TV', 'Pets allowed', 'Shampoo', '24-hour check-in', 'Hangers', 'Lockbox', 'High chair', 'Stair gates', 'Children’s books and toys', 'Pack ’n Play/travel crib', 'Microwave', 'Buzzer/wireless intercom', 'First aid kit', 'translation missing: en.hosting_amenity_49', 'translation missing: en.hosting_amenity_50', 'Host greets you', 'Elevator', 'Washer', 'Dryer', 'Pets live on this property', 'Cat(s)', 'Doorman', 'Breakfast', 'Dog(s)', 'Dishwasher', 'Waterfront', 'Suitable for events', 'Safety card', 'Patio or balcony', 'Garden or backyard', 'Beach essentials', 'Private entrance', 'Other', 'Building staff', 'Shower gel', 'Crib', 'BBQ grill', 'Wheelchair accessible', 'Window guards', 'Room-darkening shades', 'Pocket wifi', 'Single level home', 'Babysitter recommendations', 'Baking sheet', 'Trash can', 'Pool', 'Washer/Dryer', 'Paid parking on premises', 'Hot tub', 'Children’s dinnerware', 'Free parking on premises', 'Other pet(s)', 'Smart lock', 'Gym', 'Outlet covers', 'Baby bath', 'Changing table', 'Table corner guards', 'Firm mattress', 'Smoking allowed', 'Indoor fireplace', 'Game console', 'Fireplace guards', 'EV charger', 'No stairs or steps to enter', 'Wide hallways', 'Wide entrance for guests', 'Well-lit path to entrance', 'Ski-in/Ski-out', 'Private bathroom', 'Baby monitor', 'Barbecue utensils', 'Flat path to guest entrance', 'Beachfront', 'Extra space around bed', 'Accessible-height bed', 'Accessible-height toilet', 'Fixed grab bars for shower', 'Hot water kettle', '', 'Lake access', 'Handheld shower head', 'Bread maker', 'Ground floor access', 'Air purifier', 'Wide entrance', 'Wide doorway to guest bathroom', 'Wide clearance to shower', ' toilet', 'Wide entryway', 'Full kitchen', 'Disabled parking spot', 'Step-free shower', 'Fixed grab bars for toilet', 'Shower chair', 'Body soap', 'Bath towel', 'Toilet paper', 'Safe', 'Bedroom comforts', 'Bathroom essentials', 'Bathrobes', 'Bluetooth speaker', 'Record player', 'Kitchenette', 'Bathtub with bath chair', 'Mini fridge', 'Slippers', 'Mini bar', 'Bottled water', 'Turndown service', 'Electric profiling bed', 'Snacks', 'Mobile hoist']\n"
    }
   ],
   "source": [
    "#amenities split\n",
    "amenities_unique = []\n",
    "\n",
    "for row in amenities:\n",
    "    row_string = str(row)\n",
    "    row_string_clean = row_string.replace('{','').replace('}','')\n",
    "    amenities_rows = row_string_clean.split(',')\n",
    "    for row in amenities_rows:\n",
    "        row_clean = row.replace('\"','')\n",
    "        if row_clean not in amenities_unique:\n",
    "            amenities_unique.append(row_clean)\n",
    "            \n",
    "print(amenities_unique)"
   ]
  },
  {
   "cell_type": "code",
   "execution_count": 55,
   "metadata": {},
   "outputs": [],
   "source": [
    "#cleaning up price\n",
    "listings['price'] = listings['price'].str.replace(',', '')\n",
    "listings['price'] = listings['price'].str.replace('$', '')\n",
    "listings['price'] = listings['price'].astype(float)"
   ]
  },
  {
   "cell_type": "code",
   "execution_count": 56,
   "metadata": {},
   "outputs": [
    {
     "output_type": "execute_result",
     "data": {
      "text/plain": "0    100.0\n1    225.0\n2    89.0 \n3    200.0\n4    94.0 \nName: price, dtype: float64"
     },
     "metadata": {},
     "execution_count": 56
    }
   ],
   "source": [
    "listings['price'].head()"
   ]
  },
  {
   "cell_type": "code",
   "execution_count": 57,
   "metadata": {},
   "outputs": [
    {
     "output_type": "execute_result",
     "data": {
      "text/plain": "0"
     },
     "metadata": {},
     "execution_count": 57
    }
   ],
   "source": [
    "listings['neighbourhood_group_cleansed'].isna().sum()"
   ]
  },
  {
   "cell_type": "code",
   "execution_count": 58,
   "metadata": {},
   "outputs": [],
   "source": [
    "# Get one hot encoding of column\n",
    "one_hot = pd.get_dummies(listings['neighbourhood_group_cleansed'])\n",
    "# Drop original column as it is now encoded\n",
    "listings = listings.drop('neighbourhood_group_cleansed',axis = 1)\n",
    "# Join the encoded df\n",
    "listings = listings.join(one_hot)"
   ]
  },
  {
   "cell_type": "code",
   "execution_count": 60,
   "metadata": {},
   "outputs": [
    {
     "output_type": "execute_result",
     "data": {
      "text/plain": "     id                        listing_url        name  \\\n0  2060  https://www.airbnb.com/rooms/2060  Modern NYC   \n\n                                                                       picture_url  \\\n0  https://a0.muscache.com/im/pictures/3755/3f9d31cf_original.jpg?aki_policy=large   \n\n   host_id                                host_url host_name  host_since  \\\n0  2259     https://www.airbnb.com/users/show/2259  Jenny     2008-08-18   \n\n  host_location  host_response_time host_response_rate host_acceptance_rate  \\\n0  US            a few days or more  22%                50%                   \n\n  host_is_superhost  \\\n0  f                  \n\n                                                                                   host_thumbnail_url  \\\n0  https://a0.muscache.com/im/users/2259/profile_pic/1259094383/original.jpg?aki_policy=profile_small   \n\n                                                                                        host_picture_url  \\\n0  https://a0.muscache.com/im/users/2259/profile_pic/1259094383/original.jpg?aki_policy=profile_x_medium   \n\n   host_neighbourhood  host_listings_count  host_total_listings_count  \\\n0  Washington Heights  0.0                  0.0                         \n\n  host_verifications host_identity_verified                       street  \\\n0  ['reviews']        f                      New York, NY, United States   \n\n  neighbourhood neighbourhood_cleansed      city state zipcode    market  \\\n0  Manhattan     Washington Heights     New York  NY    10040   New York   \n\n  smart_location  latitude  longitude is_location_exact property_type  \\\n0  New York, NY   40.85722 -73.9379    t                 Other          \n\n      room_type  accommodates  bathrooms  bedrooms  beds  bed_type  \\\n0  Private room  2            NaN         1.0       2.0   Real Bed   \n\n         amenities  price security_deposit cleaning_fee  guests_included  \\\n0  {Internet,Wifi}  100.0  NaN              NaN          1                 \n\n  extra_people  minimum_nights  maximum_nights  minimum_minimum_nights  \\\n0  $0.00        1               730             1                        \n\n   maximum_minimum_nights  minimum_maximum_nights  maximum_maximum_nights  \\\n0  1                       730                     730                      \n\n   minimum_nights_avg_ntm  maximum_nights_avg_ntm calendar_updated  \\\n0  1.0                     730.0                   4 weeks ago       \n\n   availability_30  availability_60  availability_90  availability_365  \\\n0  30               60               90               365                \n\n   number_of_reviews  number_of_reviews_ltm first_review last_review  \\\n0  1                  0                      2008-09-22   2008-09-22   \n\n   review_scores_rating  review_scores_accuracy  review_scores_cleanliness  \\\n0  80.0                 NaN                     NaN                          \n\n   review_scores_checkin  review_scores_communication  review_scores_location  \\\n0 NaN                    NaN                          NaN                       \n\n   review_scores_value instant_bookable cancellation_policy  \\\n0 NaN                   f                flexible             \n\n   calculated_host_listings_count  \\\n0  1                                \n\n   calculated_host_listings_count_entire_homes  \\\n0  0                                             \n\n   calculated_host_listings_count_private_rooms  \\\n0  1                                              \n\n   calculated_host_listings_count_shared_rooms  reviews_per_month  Bronx  \\\n0  0                                            0.01               0       \n\n   Brooklyn  Manhattan  Queens  Staten Island  \n0  0         1          0       0              ",
      "text/html": "<div>\n<style scoped>\n    .dataframe tbody tr th:only-of-type {\n        vertical-align: middle;\n    }\n\n    .dataframe tbody tr th {\n        vertical-align: top;\n    }\n\n    .dataframe thead th {\n        text-align: right;\n    }\n</style>\n<table border=\"1\" class=\"dataframe\">\n  <thead>\n    <tr style=\"text-align: right;\">\n      <th></th>\n      <th>id</th>\n      <th>listing_url</th>\n      <th>name</th>\n      <th>picture_url</th>\n      <th>host_id</th>\n      <th>host_url</th>\n      <th>host_name</th>\n      <th>host_since</th>\n      <th>host_location</th>\n      <th>host_response_time</th>\n      <th>host_response_rate</th>\n      <th>host_acceptance_rate</th>\n      <th>host_is_superhost</th>\n      <th>host_thumbnail_url</th>\n      <th>host_picture_url</th>\n      <th>host_neighbourhood</th>\n      <th>host_listings_count</th>\n      <th>host_total_listings_count</th>\n      <th>host_verifications</th>\n      <th>host_identity_verified</th>\n      <th>street</th>\n      <th>neighbourhood</th>\n      <th>neighbourhood_cleansed</th>\n      <th>city</th>\n      <th>state</th>\n      <th>zipcode</th>\n      <th>market</th>\n      <th>smart_location</th>\n      <th>latitude</th>\n      <th>longitude</th>\n      <th>is_location_exact</th>\n      <th>property_type</th>\n      <th>room_type</th>\n      <th>accommodates</th>\n      <th>bathrooms</th>\n      <th>bedrooms</th>\n      <th>beds</th>\n      <th>bed_type</th>\n      <th>amenities</th>\n      <th>price</th>\n      <th>security_deposit</th>\n      <th>cleaning_fee</th>\n      <th>guests_included</th>\n      <th>extra_people</th>\n      <th>minimum_nights</th>\n      <th>maximum_nights</th>\n      <th>minimum_minimum_nights</th>\n      <th>maximum_minimum_nights</th>\n      <th>minimum_maximum_nights</th>\n      <th>maximum_maximum_nights</th>\n      <th>minimum_nights_avg_ntm</th>\n      <th>maximum_nights_avg_ntm</th>\n      <th>calendar_updated</th>\n      <th>availability_30</th>\n      <th>availability_60</th>\n      <th>availability_90</th>\n      <th>availability_365</th>\n      <th>number_of_reviews</th>\n      <th>number_of_reviews_ltm</th>\n      <th>first_review</th>\n      <th>last_review</th>\n      <th>review_scores_rating</th>\n      <th>review_scores_accuracy</th>\n      <th>review_scores_cleanliness</th>\n      <th>review_scores_checkin</th>\n      <th>review_scores_communication</th>\n      <th>review_scores_location</th>\n      <th>review_scores_value</th>\n      <th>instant_bookable</th>\n      <th>cancellation_policy</th>\n      <th>calculated_host_listings_count</th>\n      <th>calculated_host_listings_count_entire_homes</th>\n      <th>calculated_host_listings_count_private_rooms</th>\n      <th>calculated_host_listings_count_shared_rooms</th>\n      <th>reviews_per_month</th>\n      <th>Bronx</th>\n      <th>Brooklyn</th>\n      <th>Manhattan</th>\n      <th>Queens</th>\n      <th>Staten Island</th>\n    </tr>\n  </thead>\n  <tbody>\n    <tr>\n      <th>0</th>\n      <td>2060</td>\n      <td>https://www.airbnb.com/rooms/2060</td>\n      <td>Modern NYC</td>\n      <td>https://a0.muscache.com/im/pictures/3755/3f9d31cf_original.jpg?aki_policy=large</td>\n      <td>2259</td>\n      <td>https://www.airbnb.com/users/show/2259</td>\n      <td>Jenny</td>\n      <td>2008-08-18</td>\n      <td>US</td>\n      <td>a few days or more</td>\n      <td>22%</td>\n      <td>50%</td>\n      <td>f</td>\n      <td>https://a0.muscache.com/im/users/2259/profile_pic/1259094383/original.jpg?aki_policy=profile_small</td>\n      <td>https://a0.muscache.com/im/users/2259/profile_pic/1259094383/original.jpg?aki_policy=profile_x_medium</td>\n      <td>Washington Heights</td>\n      <td>0.0</td>\n      <td>0.0</td>\n      <td>['reviews']</td>\n      <td>f</td>\n      <td>New York, NY, United States</td>\n      <td>Manhattan</td>\n      <td>Washington Heights</td>\n      <td>New York</td>\n      <td>NY</td>\n      <td>10040</td>\n      <td>New York</td>\n      <td>New York, NY</td>\n      <td>40.85722</td>\n      <td>-73.9379</td>\n      <td>t</td>\n      <td>Other</td>\n      <td>Private room</td>\n      <td>2</td>\n      <td>NaN</td>\n      <td>1.0</td>\n      <td>2.0</td>\n      <td>Real Bed</td>\n      <td>{Internet,Wifi}</td>\n      <td>100.0</td>\n      <td>NaN</td>\n      <td>NaN</td>\n      <td>1</td>\n      <td>$0.00</td>\n      <td>1</td>\n      <td>730</td>\n      <td>1</td>\n      <td>1</td>\n      <td>730</td>\n      <td>730</td>\n      <td>1.0</td>\n      <td>730.0</td>\n      <td>4 weeks ago</td>\n      <td>30</td>\n      <td>60</td>\n      <td>90</td>\n      <td>365</td>\n      <td>1</td>\n      <td>0</td>\n      <td>2008-09-22</td>\n      <td>2008-09-22</td>\n      <td>80.0</td>\n      <td>NaN</td>\n      <td>NaN</td>\n      <td>NaN</td>\n      <td>NaN</td>\n      <td>NaN</td>\n      <td>NaN</td>\n      <td>f</td>\n      <td>flexible</td>\n      <td>1</td>\n      <td>0</td>\n      <td>1</td>\n      <td>0</td>\n      <td>0.01</td>\n      <td>0</td>\n      <td>0</td>\n      <td>1</td>\n      <td>0</td>\n      <td>0</td>\n    </tr>\n  </tbody>\n</table>\n</div>"
     },
     "metadata": {},
     "execution_count": 60
    }
   ],
   "source": [
    "listings.head(1)"
   ]
  },
  {
   "cell_type": "code",
   "execution_count": null,
   "metadata": {},
   "outputs": [],
   "source": [
    "#test model\n",
    "from sklearn.linear_model import LogisticRegression\n",
    "from sklearn.model_selection import cross_val_score\n",
    "from sklearn.model_selection import train_test_split"
   ]
  },
  {
   "cell_type": "code",
   "execution_count": 62,
   "metadata": {},
   "outputs": [],
   "source": [
    "#exclude for now\n",
    "X = listings[['Bronx', 'Bronx', 'Bronx', 'Bronx', 'Queens', 'Staten Island']]\n",
    "y = listings['price']\n",
    "\n",
    "# Split your data into training and test sets\n",
    "X_train, X_test, y_train, y_test = train_test_split(X, y, test_size=0.2, random_state=42)\n",
    "\n",
    "# Initialize our algorithm\n",
    "lr = LogisticRegression(random_state=1, solver='liblinear')\n",
    "\n",
    "# Fit the training data to the model\n",
    "log_reg = lr.fit(X_train, y_train)"
   ]
  },
  {
   "cell_type": "code",
   "execution_count": 63,
   "metadata": {},
   "outputs": [
    {
     "output_type": "execute_result",
     "data": {
      "text/plain": "0.04655511811023622"
     },
     "metadata": {},
     "execution_count": 63
    }
   ],
   "source": [
    "log_reg.score(X_test, y_test)"
   ]
  },
  {
   "cell_type": "code",
   "execution_count": null,
   "metadata": {},
   "outputs": [],
   "source": []
  }
 ],
 "metadata": {
  "kernelspec": {
   "display_name": "Python 3",
   "language": "python",
   "name": "python3"
  },
  "language_info": {
   "codemirror_mode": {
    "name": "ipython",
    "version": 3
   },
   "file_extension": ".py",
   "mimetype": "text/x-python",
   "name": "python",
   "nbconvert_exporter": "python",
   "pygments_lexer": "ipython3",
   "version": "3.7.3-final"
  }
 },
 "nbformat": 4,
 "nbformat_minor": 2
}
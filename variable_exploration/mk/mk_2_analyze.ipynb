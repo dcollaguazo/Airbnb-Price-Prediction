{
 "cells": [
  {
   "cell_type": "markdown",
   "metadata": {},
   "source": [
    "# Getting the Data Ready\n",
    "This notebook is for cleaning up data, generate more columns, change data type, etc.\n"
   ]
  },
  {
   "cell_type": "code",
   "execution_count": 92,
   "metadata": {},
   "outputs": [],
   "source": [
    "import os\n",
    "import io\n",
    "import re\n",
    "import numpy as np\n",
    "import pandas as pd\n",
    "import matplotlib\n",
    "import matplotlib.pyplot as plt\n",
    "import seaborn as sns\n",
    "from collections import Counter\n",
    "\n",
    "import warnings\n",
    "warnings.filterwarnings('ignore')"
   ]
  },
  {
   "cell_type": "code",
   "execution_count": 93,
   "metadata": {},
   "outputs": [],
   "source": [
    "#read data, specify index so it's easier to join and search using loc\n",
    "path = '../../data/new-york-city-airbnb-open-data/'\n",
    "listings_csv = os.path.join(path,'selected_columns_listings.csv')\n",
    "listings = pd.read_csv(listings_csv)"
   ]
  },
  {
   "cell_type": "code",
   "execution_count": 94,
   "metadata": {},
   "outputs": [],
   "source": [
    "#to get all columns, set option\n",
    "pd.set_option('display.max_columns', 107)\n",
    "#to get text with no truncation\n",
    "pd.set_option('display.max_colwidth', -1)"
   ]
  },
  {
   "cell_type": "code",
   "execution_count": 95,
   "metadata": {},
   "outputs": [
    {
     "output_type": "execute_result",
     "data": {
      "text/plain": "(50796, 73)"
     },
     "metadata": {},
     "execution_count": 95
    }
   ],
   "source": [
    "#shape\n",
    "listings.shape"
   ]
  },
  {
   "cell_type": "code",
   "execution_count": 96,
   "metadata": {},
   "outputs": [
    {
     "output_type": "execute_result",
     "data": {
      "text/plain": "Index(['id', 'listing_url', 'name', 'host_id', 'host_url', 'host_name',\n       'host_since', 'host_location', 'host_response_time',\n       'host_response_rate', 'host_acceptance_rate', 'host_is_superhost',\n       'host_neighbourhood', 'host_listings_count',\n       'host_total_listings_count', 'host_verifications',\n       'host_identity_verified', 'street', 'neighbourhood',\n       'neighbourhood_cleansed', 'neighbourhood_group_cleansed', 'city',\n       'state', 'zipcode', 'market', 'smart_location', 'latitude', 'longitude',\n       'is_location_exact', 'property_type', 'room_type', 'accommodates',\n       'bathrooms', 'bedrooms', 'beds', 'bed_type', 'amenities', 'price',\n       'security_deposit', 'cleaning_fee', 'guests_included', 'extra_people',\n       'minimum_nights', 'maximum_nights', 'minimum_minimum_nights',\n       'maximum_minimum_nights', 'minimum_maximum_nights',\n       'maximum_maximum_nights', 'minimum_nights_avg_ntm',\n       'maximum_nights_avg_ntm', 'calendar_updated', 'availability_30',\n       'availability_60', 'availability_90', 'availability_365',\n       'number_of_reviews', 'number_of_reviews_ltm', 'first_review',\n       'last_review', 'review_scores_rating', 'review_scores_accuracy',\n       'review_scores_cleanliness', 'review_scores_checkin',\n       'review_scores_communication', 'review_scores_location',\n       'review_scores_value', 'instant_bookable', 'cancellation_policy',\n       'calculated_host_listings_count',\n       'calculated_host_listings_count_entire_homes',\n       'calculated_host_listings_count_private_rooms',\n       'calculated_host_listings_count_shared_rooms', 'reviews_per_month'],\n      dtype='object')"
     },
     "metadata": {},
     "execution_count": 96
    }
   ],
   "source": [
    "listings.columns"
   ]
  },
  {
   "cell_type": "code",
   "execution_count": 97,
   "metadata": {},
   "outputs": [
    {
     "output_type": "execute_result",
     "data": {
      "text/plain": "     id                        listing_url        name  host_id  \\\n0  2060  https://www.airbnb.com/rooms/2060  Modern NYC  2259      \n\n                                 host_url host_name  host_since host_location  \\\n0  https://www.airbnb.com/users/show/2259  Jenny     2008-08-18  US             \n\n   host_response_time host_response_rate host_acceptance_rate  \\\n0  a few days or more  22%                50%                   \n\n  host_is_superhost  host_neighbourhood  host_listings_count  \\\n0  f                 Washington Heights  0.0                   \n\n   host_total_listings_count host_verifications host_identity_verified  \\\n0  0.0                        ['reviews']        f                       \n\n                        street neighbourhood neighbourhood_cleansed  \\\n0  New York, NY, United States  Manhattan     Washington Heights      \n\n  neighbourhood_group_cleansed      city state zipcode    market  \\\n0  Manhattan                    New York  NY    10040   New York   \n\n  smart_location  latitude  longitude is_location_exact property_type  \\\n0  New York, NY   40.85722 -73.9379    t                 Other          \n\n      room_type  accommodates  bathrooms  bedrooms  beds  bed_type  \\\n0  Private room  2            NaN         1.0       2.0   Real Bed   \n\n         amenities    price security_deposit cleaning_fee  guests_included  \\\n0  {Internet,Wifi}  $100.00  NaN              NaN          1                 \n\n  extra_people  minimum_nights  maximum_nights  minimum_minimum_nights  \\\n0  $0.00        1               730             1                        \n\n   maximum_minimum_nights  minimum_maximum_nights  maximum_maximum_nights  \\\n0  1                       730                     730                      \n\n   minimum_nights_avg_ntm  maximum_nights_avg_ntm calendar_updated  \\\n0  1.0                     730.0                   4 weeks ago       \n\n   availability_30  availability_60  availability_90  availability_365  \\\n0  30               60               90               365                \n\n   number_of_reviews  number_of_reviews_ltm first_review last_review  \\\n0  1                  0                      2008-09-22   2008-09-22   \n\n   review_scores_rating  review_scores_accuracy  review_scores_cleanliness  \\\n0  80.0                 NaN                     NaN                          \n\n   review_scores_checkin  review_scores_communication  review_scores_location  \\\n0 NaN                    NaN                          NaN                       \n\n   review_scores_value instant_bookable cancellation_policy  \\\n0 NaN                   f                flexible             \n\n   calculated_host_listings_count  \\\n0  1                                \n\n   calculated_host_listings_count_entire_homes  \\\n0  0                                             \n\n   calculated_host_listings_count_private_rooms  \\\n0  1                                              \n\n   calculated_host_listings_count_shared_rooms  reviews_per_month  \n0  0                                            0.01               ",
      "text/html": "<div>\n<style scoped>\n    .dataframe tbody tr th:only-of-type {\n        vertical-align: middle;\n    }\n\n    .dataframe tbody tr th {\n        vertical-align: top;\n    }\n\n    .dataframe thead th {\n        text-align: right;\n    }\n</style>\n<table border=\"1\" class=\"dataframe\">\n  <thead>\n    <tr style=\"text-align: right;\">\n      <th></th>\n      <th>id</th>\n      <th>listing_url</th>\n      <th>name</th>\n      <th>host_id</th>\n      <th>host_url</th>\n      <th>host_name</th>\n      <th>host_since</th>\n      <th>host_location</th>\n      <th>host_response_time</th>\n      <th>host_response_rate</th>\n      <th>host_acceptance_rate</th>\n      <th>host_is_superhost</th>\n      <th>host_neighbourhood</th>\n      <th>host_listings_count</th>\n      <th>host_total_listings_count</th>\n      <th>host_verifications</th>\n      <th>host_identity_verified</th>\n      <th>street</th>\n      <th>neighbourhood</th>\n      <th>neighbourhood_cleansed</th>\n      <th>neighbourhood_group_cleansed</th>\n      <th>city</th>\n      <th>state</th>\n      <th>zipcode</th>\n      <th>market</th>\n      <th>smart_location</th>\n      <th>latitude</th>\n      <th>longitude</th>\n      <th>is_location_exact</th>\n      <th>property_type</th>\n      <th>room_type</th>\n      <th>accommodates</th>\n      <th>bathrooms</th>\n      <th>bedrooms</th>\n      <th>beds</th>\n      <th>bed_type</th>\n      <th>amenities</th>\n      <th>price</th>\n      <th>security_deposit</th>\n      <th>cleaning_fee</th>\n      <th>guests_included</th>\n      <th>extra_people</th>\n      <th>minimum_nights</th>\n      <th>maximum_nights</th>\n      <th>minimum_minimum_nights</th>\n      <th>maximum_minimum_nights</th>\n      <th>minimum_maximum_nights</th>\n      <th>maximum_maximum_nights</th>\n      <th>minimum_nights_avg_ntm</th>\n      <th>maximum_nights_avg_ntm</th>\n      <th>calendar_updated</th>\n      <th>availability_30</th>\n      <th>availability_60</th>\n      <th>availability_90</th>\n      <th>availability_365</th>\n      <th>number_of_reviews</th>\n      <th>number_of_reviews_ltm</th>\n      <th>first_review</th>\n      <th>last_review</th>\n      <th>review_scores_rating</th>\n      <th>review_scores_accuracy</th>\n      <th>review_scores_cleanliness</th>\n      <th>review_scores_checkin</th>\n      <th>review_scores_communication</th>\n      <th>review_scores_location</th>\n      <th>review_scores_value</th>\n      <th>instant_bookable</th>\n      <th>cancellation_policy</th>\n      <th>calculated_host_listings_count</th>\n      <th>calculated_host_listings_count_entire_homes</th>\n      <th>calculated_host_listings_count_private_rooms</th>\n      <th>calculated_host_listings_count_shared_rooms</th>\n      <th>reviews_per_month</th>\n    </tr>\n  </thead>\n  <tbody>\n    <tr>\n      <th>0</th>\n      <td>2060</td>\n      <td>https://www.airbnb.com/rooms/2060</td>\n      <td>Modern NYC</td>\n      <td>2259</td>\n      <td>https://www.airbnb.com/users/show/2259</td>\n      <td>Jenny</td>\n      <td>2008-08-18</td>\n      <td>US</td>\n      <td>a few days or more</td>\n      <td>22%</td>\n      <td>50%</td>\n      <td>f</td>\n      <td>Washington Heights</td>\n      <td>0.0</td>\n      <td>0.0</td>\n      <td>['reviews']</td>\n      <td>f</td>\n      <td>New York, NY, United States</td>\n      <td>Manhattan</td>\n      <td>Washington Heights</td>\n      <td>Manhattan</td>\n      <td>New York</td>\n      <td>NY</td>\n      <td>10040</td>\n      <td>New York</td>\n      <td>New York, NY</td>\n      <td>40.85722</td>\n      <td>-73.9379</td>\n      <td>t</td>\n      <td>Other</td>\n      <td>Private room</td>\n      <td>2</td>\n      <td>NaN</td>\n      <td>1.0</td>\n      <td>2.0</td>\n      <td>Real Bed</td>\n      <td>{Internet,Wifi}</td>\n      <td>$100.00</td>\n      <td>NaN</td>\n      <td>NaN</td>\n      <td>1</td>\n      <td>$0.00</td>\n      <td>1</td>\n      <td>730</td>\n      <td>1</td>\n      <td>1</td>\n      <td>730</td>\n      <td>730</td>\n      <td>1.0</td>\n      <td>730.0</td>\n      <td>4 weeks ago</td>\n      <td>30</td>\n      <td>60</td>\n      <td>90</td>\n      <td>365</td>\n      <td>1</td>\n      <td>0</td>\n      <td>2008-09-22</td>\n      <td>2008-09-22</td>\n      <td>80.0</td>\n      <td>NaN</td>\n      <td>NaN</td>\n      <td>NaN</td>\n      <td>NaN</td>\n      <td>NaN</td>\n      <td>NaN</td>\n      <td>f</td>\n      <td>flexible</td>\n      <td>1</td>\n      <td>0</td>\n      <td>1</td>\n      <td>0</td>\n      <td>0.01</td>\n    </tr>\n  </tbody>\n</table>\n</div>"
     },
     "metadata": {},
     "execution_count": 97
    }
   ],
   "source": [
    "#head\n",
    "listings.head(1)"
   ]
  },
  {
   "cell_type": "markdown",
   "metadata": {},
   "source": [
    "# Drop unused columns\n",
    "May use it later but remove for now"
   ]
  },
  {
   "cell_type": "code",
   "execution_count": 98,
   "metadata": {},
   "outputs": [],
   "source": [
    "Unused_columns = ['listing_url', 'host_location', 'name', 'host_id', 'host_url', 'host_name', 'host_total_listings_count', 'city', 'street', 'state', 'zipcode', 'neighbourhood', 'host_neighbourhood', 'neighbourhood_cleansed', 'market', 'smart_location', 'calculated_host_listings_count', 'calculated_host_listings_count_entire_homes', 'calculated_host_listings_count_private_rooms', 'calculated_host_listings_count_shared_rooms', 'minimum_nights', 'maximum_nights', 'minimum_minimum_nights', 'maximum_minimum_nights', 'minimum_maximum_nights', 'maximum_maximum_nights', 'minimum_nights_avg_ntm', 'maximum_nights_avg_ntm', 'calendar_updated', 'availability_30',\n",
    "'availability_60', 'availability_90', 'availability_365']\n",
    "\n",
    "listings.drop(columns=Unused_columns, inplace = True)"
   ]
  },
  {
   "cell_type": "markdown",
   "metadata": {},
   "source": [
    "# Dealing with null values\n",
    "Fill with 0, dropping null, fill with avg"
   ]
  },
  {
   "cell_type": "markdown",
   "metadata": {},
   "source": [
    "## Analysis\n",
    "group by, count null, etc\n"
   ]
  },
  {
   "cell_type": "code",
   "execution_count": 99,
   "metadata": {},
   "outputs": [
    {
     "output_type": "execute_result",
     "data": {
      "text/plain": "5"
     },
     "metadata": {},
     "execution_count": 99
    }
   ],
   "source": [
    "##run this to find out how many nulls\n",
    "colname = 'host_since'\n",
    "\n",
    "listings[colname].isna().sum()"
   ]
  },
  {
   "cell_type": "code",
   "execution_count": 100,
   "metadata": {},
   "outputs": [
    {
     "output_type": "execute_result",
     "data": {
      "text/plain": "host_since\n2008-08-18    1\n2008-08-22    1\n2008-08-27    1\n2008-09-07    8\n2008-09-09    2\nName: host_since, dtype: int64"
     },
     "metadata": {},
     "execution_count": 100
    }
   ],
   "source": [
    "#run this to get group by\n",
    "listings.groupby(colname)[colname].count().head(5)"
   ]
  },
  {
   "cell_type": "code",
   "execution_count": 101,
   "metadata": {},
   "outputs": [
    {
     "output_type": "execute_result",
     "data": {
      "text/plain": "Series([], Name: host_since, dtype: object)"
     },
     "metadata": {},
     "execution_count": 101
    }
   ],
   "source": [
    "#get sample records of null to see if we can use other columns to fill\n",
    "filt = listings[colname] == '2.5'\n",
    "listings[filt]['host_since'].head(1)"
   ]
  },
  {
   "cell_type": "markdown",
   "metadata": {},
   "source": [
    "## Dropping null rows\n",
    "Dropping na when rec counts as  there are not too many\n"
   ]
  },
  {
   "cell_type": "code",
   "execution_count": 102,
   "metadata": {},
   "outputs": [],
   "source": [
    "Drop_na = ['host_since', 'host_listings_count', 'host_identity_verified', 'host_is_superhost']\n",
    "listings = listings.dropna(subset=Drop_na)\n"
   ]
  },
  {
   "cell_type": "markdown",
   "metadata": {},
   "source": [
    "## Fill with 0 or 0 variance"
   ]
  },
  {
   "cell_type": "code",
   "execution_count": 103,
   "metadata": {},
   "outputs": [],
   "source": [
    "#fill with 0\n",
    "Fill_with_zero = ['bathrooms', 'bedrooms', 'host_is_superhost', 'beds', 'review_scores_rating', 'review_scores_accuracy',\n",
    "'review_scores_cleanliness', 'review_scores_checkin', 'review_scores_communication', 'review_scores_location', 'review_scores_value', 'reviews_per_month']\n",
    "\n",
    "for column in Fill_with_zero:\n",
    "    listings[column] = listings[column].replace(np.nan, '0')\n",
    "\n",
    "\n"
   ]
  },
  {
   "cell_type": "code",
   "execution_count": 104,
   "metadata": {},
   "outputs": [],
   "source": [
    "#fill with $0.00\n",
    "Fill_with_zero = ['security_deposit', 'cleaning_fee']\n",
    "\n",
    "for column in Fill_with_zero:\n",
    "    listings[column] = listings[column].replace(np.nan, '$0.00')"
   ]
  },
  {
   "cell_type": "markdown",
   "metadata": {},
   "source": [
    "## Fill with average"
   ]
  },
  {
   "cell_type": "code",
   "execution_count": 105,
   "metadata": {},
   "outputs": [],
   "source": [
    "#host_response_time will be converted to 1,2,3,4. So 2.5 is the middle value\n",
    "listings['host_response_time'] = listings['host_response_time'].replace(np.nan, '2.5')\n",
    "#host_acceptance_rate avg 50%\n",
    "listings['host_acceptance_rate'] = listings['host_acceptance_rate'].replace(np.nan, '50%')\n"
   ]
  },
  {
   "cell_type": "markdown",
   "metadata": {},
   "source": [
    "# Put aside features\n",
    "Need to deal with this later: 'first_review', 'last_review', 'host_response_rate', 'host_acceptance_rate'\n",
    " "
   ]
  },
  {
   "cell_type": "markdown",
   "metadata": {},
   "source": [
    "# Array data type - exploration\n",
    "First part is querying the two columns which as array: host_verifications and amenities"
   ]
  },
  {
   "cell_type": "code",
   "execution_count": 106,
   "metadata": {},
   "outputs": [
    {
     "output_type": "execute_result",
     "data": {
      "text/plain": "[('phone', 50628),\n ('email', 47312),\n ('reviews', 34126),\n ('government_id', 32313),\n ('offline_government_id', 22301)]"
     },
     "metadata": {},
     "execution_count": 106
    }
   ],
   "source": [
    "#convert values of host_verifications to list\n",
    "host_verifications = listings['host_verifications'].values.tolist()\n",
    "\n",
    "#host verivication split and add to list\n",
    "host_verification_all = []\n",
    "\n",
    "for row in host_verifications:\n",
    "    row_clean = row.replace('[','').replace(']','')\n",
    "    methods = row_clean.split(',')\n",
    "    for method in methods:\n",
    "        method_clean = method.replace(\"'\",\"\").strip()\n",
    "        host_verification_all.append(method_clean)\n",
    "\n",
    "Counter(host_verification_all).most_common(5)"
   ]
  },
  {
   "cell_type": "code",
   "execution_count": 107,
   "metadata": {},
   "outputs": [
    {
     "output_type": "execute_result",
     "data": {
      "text/plain": "[('Wifi', 49523),\n ('Heating', 47853),\n ('Essentials', 46990),\n ('Kitchen', 46232),\n ('Smoke detector', 44421),\n ('Air conditioning', 43261),\n ('Hangers', 38362),\n ('Carbon monoxide detector', 36183),\n ('TV', 34934),\n ('Shampoo', 34311),\n ('Hair dryer', 33848),\n ('Laptop friendly workspace', 32315),\n ('Iron', 32254),\n ('Hot water', 28864),\n ('Refrigerator', 23195),\n ('Dishes and silverware', 22567),\n ('Washer', 20699),\n ('Dryer', 20347),\n ('Fire extinguisher', 19982),\n ('Microwave', 19629),\n ('Cooking basics', 19392),\n ('Stove', 19227),\n ('Lock on bedroom door', 19043),\n ('Oven', 18829),\n ('Free street parking', 18679),\n ('Coffee maker', 18068),\n ('First aid kit', 17557),\n ('Bed linens', 17022),\n ('Internet', 13600),\n ('Elevator', 13404),\n ('Family/kid friendly', 12059),\n ('Cable TV', 11949),\n ('Extra pillows and blankets', 11763),\n ('Self check-in', 11092),\n ('Private entrance', 11012),\n ('Long term stays allowed', 10433),\n ('Buzzer/wireless intercom', 9630),\n ('Dishwasher', 8636),\n ('Luggage dropoff allowed', 8432),\n ('translation missing: en.hosting_amenity_50', 7597),\n ('Private living room', 7329),\n ('Host greets you', 7117),\n ('Pets allowed', 6775),\n ('translation missing: en.hosting_amenity_49', 6286),\n ('Lockbox', 6264),\n ('Gym', 5324),\n ('Paid parking off premises', 4826),\n ('Bathtub', 4694),\n ('24-hour check-in', 4329),\n ('Patio or balcony', 4177),\n ('Garden or backyard', 4024),\n ('Breakfast', 3923),\n ('Safety card', 3866),\n ('Free parking on premises', 3273),\n ('Trash can', 3263),\n ('Other', 3196),\n ('Pets live on this property', 2733),\n ('Keypad', 2438),\n ('Smoking allowed', 2429),\n ('Shower gel', 2409),\n ('Ethernet connection', 2147),\n ('Room-darkening shades', 2145),\n ('Doorman', 2121),\n ('Single level home', 2033),\n ('Indoor fireplace', 2022),\n ('BBQ grill', 1843),\n ('Cleaning before checkout', 1758),\n ('Hot tub', 1692),\n ('Pack ’n Play/travel crib', 1629),\n ('Wheelchair accessible', 1621),\n ('Building staff', 1598),\n ('Children’s books and toys', 1528),\n ('Suitable for events', 1469),\n ('Paid parking on premises', 1454),\n ('Window guards', 1420),\n ('Cat(s)', 1248),\n ('High chair', 1136),\n ('Dog(s)', 1133),\n ('Crib', 1037),\n ('Baking sheet', 867),\n ('Babysitter recommendations', 849),\n ('Pool', 848),\n ('Smart lock', 823),\n ('No stairs or steps to enter', 809),\n ('Pocket wifi', 635),\n ('Children’s dinnerware', 630),\n ('Outlet covers', 525),\n ('Game console', 484),\n ('Well-lit path to entrance', 484),\n ('Wide entrance for guests', 354),\n ('Waterfront', 342),\n ('Wide hallways', 313),\n ('Beach essentials', 301),\n ('Baby bath', 293),\n ('Stair gates', 269),\n ('Flat path to guest entrance', 253),\n ('Changing table', 234),\n ('Barbecue utensils', 231),\n ('Fireplace guards', 174),\n ('Baby monitor', 150),\n ('EV charger', 142),\n ('Bread maker', 133),\n ('', 131),\n ('Table corner guards', 117),\n ('Beachfront', 110),\n ('Extra space around bed', 98),\n ('Lake access', 98),\n ('Wide entryway', 87),\n ('Other pet(s)', 84),\n ('Wide entrance', 75),\n ('Hot water kettle', 68),\n ('Accessible-height bed', 53),\n ('Handheld shower head', 51),\n ('Fixed grab bars for shower', 49),\n ('Fixed grab bars for toilet', 47),\n ('Firm mattress', 43),\n ('Accessible-height toilet', 38),\n ('Wide doorway to guest bathroom', 38),\n (' toilet', 38),\n ('Wide clearance to shower', 37),\n ('Full kitchen', 30),\n ('Disabled parking spot', 27),\n ('Step-free shower', 25),\n ('Ski-in/Ski-out', 24),\n ('Body soap', 19),\n ('Bath towel', 19),\n ('Toilet paper', 19),\n ('Safe', 19),\n ('Bedroom comforts', 19),\n ('Bathroom essentials', 19),\n ('Washer/Dryer', 15),\n ('Bathrobes', 15),\n ('Private bathroom', 14),\n ('Shower chair', 11),\n ('Bluetooth speaker', 11),\n ('Bottled water', 11),\n ('Ground floor access', 9),\n ('Record player', 8),\n ('Mini fridge', 8),\n ('Slippers', 7),\n ('Mini bar', 7),\n ('Air purifier', 6),\n ('Bathtub with bath chair', 4),\n ('Turndown service', 4),\n ('Kitchenette', 3),\n ('Electric profiling bed', 1),\n ('Snacks', 1),\n ('Mobile hoist', 1)]"
     },
     "metadata": {},
     "execution_count": 107
    }
   ],
   "source": [
    "#convert values of amenities to list\n",
    "amenities = listings['amenities'].values.tolist()\n",
    "\n",
    "#amenities split and add to list\n",
    "amenities_all = []\n",
    "\n",
    "for row in amenities:\n",
    "    row_string = str(row)\n",
    "    row_string_clean = row_string.replace('{','').replace('}','')\n",
    "    amenities_rows = row_string_clean.split(',')\n",
    "    for row in amenities_rows:\n",
    "        row_clean = row.replace('\"','')\n",
    "        amenities_all.append(row_clean)\n",
    "\n",
    "Counter(amenities_all).most_common()"
   ]
  },
  {
   "cell_type": "markdown",
   "metadata": {},
   "source": [
    "# Array data type - reformatting\n",
    "This step is creating multiple boolean columns to be used in the model"
   ]
  },
  {
   "cell_type": "code",
   "execution_count": 108,
   "metadata": {},
   "outputs": [],
   "source": [
    "#function to remove some characters, clean up value\n",
    "def clean_array(row):\n",
    "    row = row.str.replace('[', '')\n",
    "    row = row.str.replace(']', '')\n",
    "    row = row.str.replace('{', '')\n",
    "    row = row.str.replace('}', '')\n",
    "    row = row.str.replace(\"'\", '')\n",
    "    row = row.str.replace('\"', '')\n",
    "    return row"
   ]
  },
  {
   "cell_type": "code",
   "execution_count": 109,
   "metadata": {},
   "outputs": [],
   "source": [
    "#array_columns = ['host_verifications', 'amenities']\n",
    "array_columns = ['host_verifications']\n",
    "#apply get\n",
    "array_columns_clean = listings[array_columns].apply(lambda col: clean_array(col))\n",
    "\n",
    "# Create new columns based on unique value in the array\n",
    "array_bool_columns = []\n",
    "\n",
    "for col in listings[array_columns].columns:\n",
    "    colname = array_columns_clean[col].str.get_dummies(sep=',');\n",
    "    colname = colname.add_prefix(col + '_');\n",
    "    array_bool_columns.append(colname);\n",
    "\n",
    "#add to the listing\n",
    "listings = listings.join(array_bool_columns)\n",
    "\n",
    "#drop original columns\n",
    "listings = listings.drop(array_columns,axis = 1)\n",
    "\n",
    "#print all addtional columns\n",
    "#array_bool_columns"
   ]
  },
  {
   "cell_type": "code",
   "execution_count": 110,
   "metadata": {},
   "outputs": [],
   "source": [
    "#array_columns = ['host_verifications', 'amenities']\n",
    "array_columns = ['amenities']\n",
    "#apply get\n",
    "array_columns_clean = listings[array_columns].apply(lambda col: clean_array(col))\n",
    "\n",
    "# Create new columns based on unique value in the array\n",
    "array_bool_columns = []\n",
    "\n",
    "for col in listings[array_columns].columns:\n",
    "    colname = array_columns_clean[col].str.get_dummies(sep=',');\n",
    "    colname = colname.add_prefix(col + '_');\n",
    "    array_bool_columns.append(colname);\n",
    "\n",
    "#add to the listing\n",
    "listings = listings.join(array_bool_columns)\n",
    "\n",
    "#drop original columns\n",
    "listings = listings.drop(array_columns,axis = 1)\n",
    "\n",
    "#print all addtional columns\n",
    "#array_bool_columns"
   ]
  },
  {
   "cell_type": "markdown",
   "metadata": {},
   "source": [
    "# Currency conversion\n",
    "This will remove dollars sign, comma and then convert to float"
   ]
  },
  {
   "cell_type": "code",
   "execution_count": 112,
   "metadata": {},
   "outputs": [],
   "source": [
    "#function\n",
    "def fix_currency(row):\n",
    "    row = row.replace(',', '')\n",
    "    row = row.replace('$', '')\n",
    "    return row"
   ]
  },
  {
   "cell_type": "code",
   "execution_count": 113,
   "metadata": {},
   "outputs": [],
   "source": [
    "#Currency = ['extra_people', 'price', 'cleaning_fee' ]\n",
    "#also convert to float\n",
    "\n",
    "colname = 'extra_people'\n",
    "listings[colname] = listings[colname].apply(lambda col: fix_currency(col)).astype(float)\n",
    "\n",
    "colname = 'price'\n",
    "listings[colname] = listings[colname].apply(lambda col: fix_currency(col)).astype(float)\n",
    "\n",
    "colname = 'cleaning_fee'\n",
    "listings[colname] = listings[colname].apply(lambda col: fix_currency(col)).astype(float)\n",
    "\n",
    "colname = 'security_deposit'\n",
    "listings[colname] = listings[colname].apply(lambda col: fix_currency(col)).astype(float)"
   ]
  },
  {
   "cell_type": "code",
   "execution_count": 114,
   "metadata": {},
   "outputs": [
    {
     "output_type": "execute_result",
     "data": {
      "text/plain": "0    0.0  \n1    95.0 \n2    0.0  \n3    125.0\n4    0.0  \n5    0.0  \n6    15.0 \n7    0.0  \n8    40.0 \n9    0.0  \nName: cleaning_fee, dtype: float64"
     },
     "metadata": {},
     "execution_count": 114
    }
   ],
   "source": [
    "listings['cleaning_fee'].head(10)\n"
   ]
  },
  {
   "cell_type": "markdown",
   "metadata": {},
   "source": [
    "# Category conversion\n",
    "Use one hot encoding"
   ]
  },
  {
   "cell_type": "code",
   "execution_count": 115,
   "metadata": {},
   "outputs": [],
   "source": [
    "# Get one hot encoding of column neighbourhood_group_cleansed\n",
    "one_hot_encoding_columns = ['neighbourhood_group_cleansed', 'property_type', 'room_type', 'cancellation_policy', 'bed_type']\n",
    "listings = pd.get_dummies(data=listings, columns=one_hot_encoding_columns)"
   ]
  },
  {
   "cell_type": "markdown",
   "metadata": {},
   "source": [
    "# Boolean conversion\n",
    "Converting the value to 1 and 0 from 't' and 'f'."
   ]
  },
  {
   "cell_type": "code",
   "execution_count": 116,
   "metadata": {},
   "outputs": [],
   "source": [
    "#function to replace\n",
    "def convert_bool(row):\n",
    "    row = row.replace('f', '0')\n",
    "    row = row.replace('t', '1')\n",
    "    return row"
   ]
  },
  {
   "cell_type": "code",
   "execution_count": 117,
   "metadata": {},
   "outputs": [],
   "source": [
    "# #update rows and convert to boo\n",
    "Boolean_columns = ['host_is_superhost', 'is_location_exact', 'instant_bookable', 'host_identity_verified']\n",
    "\n",
    "for column in Boolean_columns:\n",
    "    listings[column] = listings[column].apply(lambda col: convert_bool(col)).astype(int)\n"
   ]
  },
  {
   "cell_type": "markdown",
   "metadata": {},
   "source": [
    "# String conversion\n",
    "Needs to convert to numbers/float"
   ]
  },
  {
   "cell_type": "code",
   "execution_count": 118,
   "metadata": {},
   "outputs": [],
   "source": [
    "#function to replace\n",
    "def convert_string_to_int(row):\n",
    "    row = row.replace('within an hour', '1')\n",
    "    row = row.replace('within a few hours', '2')\n",
    "    row = row.replace('within a day', '3')\n",
    "    row = row.replace('a few days or more', '4')\n",
    "    return row"
   ]
  },
  {
   "cell_type": "code",
   "execution_count": 119,
   "metadata": {},
   "outputs": [],
   "source": [
    "colname = ['host_response_time']\n",
    "\n",
    "listings[colname] = listings[colname].apply(lambda col: convert_string_to_int(col)).astype(float)"
   ]
  },
  {
   "cell_type": "code",
   "execution_count": 120,
   "metadata": {},
   "outputs": [
    {
     "output_type": "execute_result",
     "data": {
      "text/plain": "host_response_time\n1.0    20445\n2.0    6009 \n2.5    19001\n3.0    4218 \n4.0    1118 \nName: host_response_time, dtype: int64"
     },
     "metadata": {},
     "execution_count": 120
    }
   ],
   "source": [
    "listings.groupby('host_response_time')['host_response_time'].count()"
   ]
  },
  {
   "cell_type": "markdown",
   "metadata": {},
   "source": [
    "# Date conversion\n",
    "Convert to date then to ordinal"
   ]
  },
  {
   "cell_type": "code",
   "execution_count": 125,
   "metadata": {},
   "outputs": [],
   "source": [
    "#conver to date first\n",
    "listings['host_since'] = pd.to_datetime(listings['host_since'])\n",
    "\n",
    "listings['host_since'] = listings['host_since'].apply(lambda x: x.toordinal())\n",
    "\n"
   ]
  },
  {
   "cell_type": "code",
   "execution_count": 126,
   "metadata": {},
   "outputs": [
    {
     "output_type": "execute_result",
     "data": {
      "text/plain": "0    733272\n1    733294\n2    733383\n3    733440\n4    733440\nName: host_since, dtype: int64"
     },
     "metadata": {},
     "execution_count": 126
    }
   ],
   "source": [
    "listings['host_since'].head()"
   ]
  },
  {
   "cell_type": "code",
   "execution_count": 127,
   "metadata": {},
   "outputs": [
    {
     "output_type": "execute_result",
     "data": {
      "text/plain": "     id  host_since  host_response_time host_response_rate  \\\n0  2060  733272      4.0                 22%                 \n\n  host_acceptance_rate  host_is_superhost  host_listings_count  \\\n0  50%                  0                  0.0                   \n\n   host_identity_verified  latitude  longitude  is_location_exact  \\\n0  0                       40.85722 -73.9379    1                   \n\n   accommodates bathrooms bedrooms beds  price  security_deposit  \\\n0  2             0         1        2    100.0  0.0                \n\n   cleaning_fee  guests_included  extra_people  number_of_reviews  \\\n0  0.0           1                0.0           1                   \n\n   number_of_reviews_ltm first_review last_review review_scores_rating  \\\n0  0                      2008-09-22   2008-09-22  80                    \n\n  review_scores_accuracy review_scores_cleanliness review_scores_checkin  \\\n0  0                      0                         0                      \n\n  review_scores_communication review_scores_location review_scores_value  \\\n0  0                           0                      0                    \n\n   instant_bookable reviews_per_month  host_verifications_ facebook  \\\n0  0                 0.01              0                              \n\n   host_verifications_ google  host_verifications_ government_id  \\\n0  0                           0                                   \n\n   host_verifications_ identity_manual  host_verifications_ jumio  \\\n0  0                                    0                           \n\n   host_verifications_ kba  host_verifications_ manual_offline  \\\n0  0                        0                                    \n\n   host_verifications_ manual_online  \\\n0  0                                   \n\n   host_verifications_ offline_government_id  host_verifications_ phone  \\\n0  0                                          0                           \n\n   host_verifications_ reviews  host_verifications_ selfie  \\\n0  0                            0                            \n\n   host_verifications_ sent_id  host_verifications_ sesame  \\\n0  0                            0                            \n\n   host_verifications_ sesame_offline  host_verifications_ weibo  \\\n0  0                                   0                           \n\n   host_verifications_ work_email  host_verifications_ zhima_selfie  \\\n0  0                               0                                  \n\n   host_verifications_email  host_verifications_facebook  ...  \\\n0  0                         0                            ...   \n\n   property_type_Barn  property_type_Bed and breakfast  property_type_Boat  \\\n0  0                   0                                0                    \n\n   property_type_Boutique hotel  property_type_Bungalow  property_type_Bus  \\\n0  0                             0                       0                   \n\n   property_type_Cabin  property_type_Camper/RV  \\\n0  0                    0                         \n\n   property_type_Casa particular (Cuba)  property_type_Castle  \\\n0  0                                     0                      \n\n   property_type_Cave  property_type_Condominium  property_type_Cottage  \\\n0  0                   0                          0                       \n\n   property_type_Dome house  property_type_Dorm  property_type_Earth house  \\\n0  0                         0                   0                           \n\n   property_type_Farm stay  property_type_Guest suite  \\\n0  0                        0                           \n\n   property_type_Guesthouse  property_type_Hostel  property_type_Hotel  \\\n0  0                         0                     0                     \n\n   property_type_House  property_type_Houseboat  property_type_In-law  \\\n0  0                    0                        0                      \n\n   property_type_Island  property_type_Lighthouse  property_type_Loft  \\\n0  0                     0                         0                    \n\n   property_type_Other  property_type_Resort  \\\n0  1                    0                      \n\n   property_type_Serviced apartment  property_type_Tent  \\\n0  0                                 0                    \n\n   property_type_Timeshare  property_type_Tiny house  property_type_Townhouse  \\\n0  0                        0                         0                         \n\n   property_type_Train  property_type_Treehouse  property_type_Villa  \\\n0  0                    0                        0                     \n\n   property_type_Yurt  room_type_Entire home/apt  room_type_Hotel room  \\\n0  0                   0                          0                      \n\n   room_type_Private room  room_type_Shared room  \\\n0  1                       0                       \n\n   cancellation_policy_flexible  cancellation_policy_moderate  \\\n0  1                             0                              \n\n   cancellation_policy_strict  \\\n0  0                            \n\n   cancellation_policy_strict_14_with_grace_period  \\\n0  0                                                 \n\n   cancellation_policy_super_strict_30  cancellation_policy_super_strict_60  \\\n0  0                                    0                                     \n\n   bed_type_Airbed  bed_type_Couch  bed_type_Futon  bed_type_Pull-out Sofa  \\\n0  0                0               0               0                        \n\n   bed_type_Real Bed  \n0  1                  \n\n[1 rows x 265 columns]",
      "text/html": "<div>\n<style scoped>\n    .dataframe tbody tr th:only-of-type {\n        vertical-align: middle;\n    }\n\n    .dataframe tbody tr th {\n        vertical-align: top;\n    }\n\n    .dataframe thead th {\n        text-align: right;\n    }\n</style>\n<table border=\"1\" class=\"dataframe\">\n  <thead>\n    <tr style=\"text-align: right;\">\n      <th></th>\n      <th>id</th>\n      <th>host_since</th>\n      <th>host_response_time</th>\n      <th>host_response_rate</th>\n      <th>host_acceptance_rate</th>\n      <th>host_is_superhost</th>\n      <th>host_listings_count</th>\n      <th>host_identity_verified</th>\n      <th>latitude</th>\n      <th>longitude</th>\n      <th>is_location_exact</th>\n      <th>accommodates</th>\n      <th>bathrooms</th>\n      <th>bedrooms</th>\n      <th>beds</th>\n      <th>price</th>\n      <th>security_deposit</th>\n      <th>cleaning_fee</th>\n      <th>guests_included</th>\n      <th>extra_people</th>\n      <th>number_of_reviews</th>\n      <th>number_of_reviews_ltm</th>\n      <th>first_review</th>\n      <th>last_review</th>\n      <th>review_scores_rating</th>\n      <th>review_scores_accuracy</th>\n      <th>review_scores_cleanliness</th>\n      <th>review_scores_checkin</th>\n      <th>review_scores_communication</th>\n      <th>review_scores_location</th>\n      <th>review_scores_value</th>\n      <th>instant_bookable</th>\n      <th>reviews_per_month</th>\n      <th>host_verifications_ facebook</th>\n      <th>host_verifications_ google</th>\n      <th>host_verifications_ government_id</th>\n      <th>host_verifications_ identity_manual</th>\n      <th>host_verifications_ jumio</th>\n      <th>host_verifications_ kba</th>\n      <th>host_verifications_ manual_offline</th>\n      <th>host_verifications_ manual_online</th>\n      <th>host_verifications_ offline_government_id</th>\n      <th>host_verifications_ phone</th>\n      <th>host_verifications_ reviews</th>\n      <th>host_verifications_ selfie</th>\n      <th>host_verifications_ sent_id</th>\n      <th>host_verifications_ sesame</th>\n      <th>host_verifications_ sesame_offline</th>\n      <th>host_verifications_ weibo</th>\n      <th>host_verifications_ work_email</th>\n      <th>host_verifications_ zhima_selfie</th>\n      <th>host_verifications_email</th>\n      <th>host_verifications_facebook</th>\n      <th>...</th>\n      <th>property_type_Barn</th>\n      <th>property_type_Bed and breakfast</th>\n      <th>property_type_Boat</th>\n      <th>property_type_Boutique hotel</th>\n      <th>property_type_Bungalow</th>\n      <th>property_type_Bus</th>\n      <th>property_type_Cabin</th>\n      <th>property_type_Camper/RV</th>\n      <th>property_type_Casa particular (Cuba)</th>\n      <th>property_type_Castle</th>\n      <th>property_type_Cave</th>\n      <th>property_type_Condominium</th>\n      <th>property_type_Cottage</th>\n      <th>property_type_Dome house</th>\n      <th>property_type_Dorm</th>\n      <th>property_type_Earth house</th>\n      <th>property_type_Farm stay</th>\n      <th>property_type_Guest suite</th>\n      <th>property_type_Guesthouse</th>\n      <th>property_type_Hostel</th>\n      <th>property_type_Hotel</th>\n      <th>property_type_House</th>\n      <th>property_type_Houseboat</th>\n      <th>property_type_In-law</th>\n      <th>property_type_Island</th>\n      <th>property_type_Lighthouse</th>\n      <th>property_type_Loft</th>\n      <th>property_type_Other</th>\n      <th>property_type_Resort</th>\n      <th>property_type_Serviced apartment</th>\n      <th>property_type_Tent</th>\n      <th>property_type_Timeshare</th>\n      <th>property_type_Tiny house</th>\n      <th>property_type_Townhouse</th>\n      <th>property_type_Train</th>\n      <th>property_type_Treehouse</th>\n      <th>property_type_Villa</th>\n      <th>property_type_Yurt</th>\n      <th>room_type_Entire home/apt</th>\n      <th>room_type_Hotel room</th>\n      <th>room_type_Private room</th>\n      <th>room_type_Shared room</th>\n      <th>cancellation_policy_flexible</th>\n      <th>cancellation_policy_moderate</th>\n      <th>cancellation_policy_strict</th>\n      <th>cancellation_policy_strict_14_with_grace_period</th>\n      <th>cancellation_policy_super_strict_30</th>\n      <th>cancellation_policy_super_strict_60</th>\n      <th>bed_type_Airbed</th>\n      <th>bed_type_Couch</th>\n      <th>bed_type_Futon</th>\n      <th>bed_type_Pull-out Sofa</th>\n      <th>bed_type_Real Bed</th>\n    </tr>\n  </thead>\n  <tbody>\n    <tr>\n      <th>0</th>\n      <td>2060</td>\n      <td>733272</td>\n      <td>4.0</td>\n      <td>22%</td>\n      <td>50%</td>\n      <td>0</td>\n      <td>0.0</td>\n      <td>0</td>\n      <td>40.85722</td>\n      <td>-73.9379</td>\n      <td>1</td>\n      <td>2</td>\n      <td>0</td>\n      <td>1</td>\n      <td>2</td>\n      <td>100.0</td>\n      <td>0.0</td>\n      <td>0.0</td>\n      <td>1</td>\n      <td>0.0</td>\n      <td>1</td>\n      <td>0</td>\n      <td>2008-09-22</td>\n      <td>2008-09-22</td>\n      <td>80</td>\n      <td>0</td>\n      <td>0</td>\n      <td>0</td>\n      <td>0</td>\n      <td>0</td>\n      <td>0</td>\n      <td>0</td>\n      <td>0.01</td>\n      <td>0</td>\n      <td>0</td>\n      <td>0</td>\n      <td>0</td>\n      <td>0</td>\n      <td>0</td>\n      <td>0</td>\n      <td>0</td>\n      <td>0</td>\n      <td>0</td>\n      <td>0</td>\n      <td>0</td>\n      <td>0</td>\n      <td>0</td>\n      <td>0</td>\n      <td>0</td>\n      <td>0</td>\n      <td>0</td>\n      <td>0</td>\n      <td>0</td>\n      <td>...</td>\n      <td>0</td>\n      <td>0</td>\n      <td>0</td>\n      <td>0</td>\n      <td>0</td>\n      <td>0</td>\n      <td>0</td>\n      <td>0</td>\n      <td>0</td>\n      <td>0</td>\n      <td>0</td>\n      <td>0</td>\n      <td>0</td>\n      <td>0</td>\n      <td>0</td>\n      <td>0</td>\n      <td>0</td>\n      <td>0</td>\n      <td>0</td>\n      <td>0</td>\n      <td>0</td>\n      <td>0</td>\n      <td>0</td>\n      <td>0</td>\n      <td>0</td>\n      <td>0</td>\n      <td>0</td>\n      <td>1</td>\n      <td>0</td>\n      <td>0</td>\n      <td>0</td>\n      <td>0</td>\n      <td>0</td>\n      <td>0</td>\n      <td>0</td>\n      <td>0</td>\n      <td>0</td>\n      <td>0</td>\n      <td>0</td>\n      <td>0</td>\n      <td>1</td>\n      <td>0</td>\n      <td>1</td>\n      <td>0</td>\n      <td>0</td>\n      <td>0</td>\n      <td>0</td>\n      <td>0</td>\n      <td>0</td>\n      <td>0</td>\n      <td>0</td>\n      <td>0</td>\n      <td>1</td>\n    </tr>\n  </tbody>\n</table>\n<p>1 rows × 265 columns</p>\n</div>"
     },
     "metadata": {},
     "execution_count": 127
    }
   ],
   "source": [
    "listings.head(1)"
   ]
  },
  {
   "cell_type": "code",
   "execution_count": 128,
   "metadata": {},
   "outputs": [
    {
     "output_type": "execute_result",
     "data": {
      "text/plain": "array(['id', 'host_since', 'host_response_time', 'host_response_rate',\n       'host_acceptance_rate', 'host_is_superhost', 'host_listings_count',\n       'host_identity_verified', 'latitude', 'longitude',\n       'is_location_exact', 'accommodates', 'bathrooms', 'bedrooms',\n       'beds', 'price', 'security_deposit', 'cleaning_fee',\n       'guests_included', 'extra_people', 'number_of_reviews',\n       'number_of_reviews_ltm', 'first_review', 'last_review',\n       'review_scores_rating', 'review_scores_accuracy',\n       'review_scores_cleanliness', 'review_scores_checkin',\n       'review_scores_communication', 'review_scores_location',\n       'review_scores_value', 'instant_bookable', 'reviews_per_month',\n       'host_verifications_ facebook', 'host_verifications_ google',\n       'host_verifications_ government_id',\n       'host_verifications_ identity_manual', 'host_verifications_ jumio',\n       'host_verifications_ kba', 'host_verifications_ manual_offline',\n       'host_verifications_ manual_online',\n       'host_verifications_ offline_government_id',\n       'host_verifications_ phone', 'host_verifications_ reviews',\n       'host_verifications_ selfie', 'host_verifications_ sent_id',\n       'host_verifications_ sesame', 'host_verifications_ sesame_offline',\n       'host_verifications_ weibo', 'host_verifications_ work_email',\n       'host_verifications_ zhima_selfie', 'host_verifications_email',\n       'host_verifications_facebook', 'host_verifications_google',\n       'host_verifications_jumio',\n       'host_verifications_offline_government_id',\n       'host_verifications_phone', 'host_verifications_reviews',\n       'amenities_ toilet', 'amenities_24-hour check-in',\n       'amenities_Accessible-height bed',\n       'amenities_Accessible-height toilet', 'amenities_Air conditioning',\n       'amenities_Air purifier', 'amenities_BBQ grill',\n       'amenities_Baby bath', 'amenities_Baby monitor',\n       'amenities_Babysitter recommendations', 'amenities_Baking sheet',\n       'amenities_Barbecue utensils', 'amenities_Bath towel',\n       'amenities_Bathrobes', 'amenities_Bathroom essentials',\n       'amenities_Bathtub', 'amenities_Bathtub with bath chair',\n       'amenities_Beach essentials', 'amenities_Beachfront',\n       'amenities_Bed linens', 'amenities_Bedroom comforts',\n       'amenities_Bluetooth speaker', 'amenities_Body soap',\n       'amenities_Bottled water', 'amenities_Bread maker',\n       'amenities_Breakfast', 'amenities_Building staff',\n       'amenities_Buzzer/wireless intercom', 'amenities_Cable TV',\n       'amenities_Carbon monoxide detector', 'amenities_Cat(s)',\n       'amenities_Changing table', 'amenities_Children’s books and toys',\n       'amenities_Children’s dinnerware',\n       'amenities_Cleaning before checkout', 'amenities_Coffee maker',\n       'amenities_Cooking basics', 'amenities_Crib',\n       'amenities_Disabled parking spot',\n       'amenities_Dishes and silverware', 'amenities_Dishwasher',\n       'amenities_Dog(s)', 'amenities_Doorman', 'amenities_Dryer',\n       'amenities_EV charger', 'amenities_Electric profiling bed',\n       'amenities_Elevator', 'amenities_Essentials',\n       'amenities_Ethernet connection',\n       'amenities_Extra pillows and blankets',\n       'amenities_Extra space around bed',\n       'amenities_Family/kid friendly', 'amenities_Fire extinguisher',\n       'amenities_Fireplace guards', 'amenities_Firm mattress',\n       'amenities_First aid kit', 'amenities_Fixed grab bars for shower',\n       'amenities_Fixed grab bars for toilet',\n       'amenities_Flat path to guest entrance',\n       'amenities_Free parking on premises',\n       'amenities_Free street parking', 'amenities_Full kitchen',\n       'amenities_Game console', 'amenities_Garden or backyard',\n       'amenities_Ground floor access', 'amenities_Gym',\n       'amenities_Hair dryer', 'amenities_Handheld shower head',\n       'amenities_Hangers', 'amenities_Heating', 'amenities_High chair',\n       'amenities_Host greets you', 'amenities_Hot tub',\n       'amenities_Hot water', 'amenities_Hot water kettle',\n       'amenities_Indoor fireplace', 'amenities_Internet',\n       'amenities_Iron', 'amenities_Keypad', 'amenities_Kitchen',\n       'amenities_Kitchenette', 'amenities_Lake access',\n       'amenities_Laptop friendly workspace',\n       'amenities_Lock on bedroom door', 'amenities_Lockbox',\n       'amenities_Long term stays allowed',\n       'amenities_Luggage dropoff allowed', 'amenities_Microwave',\n       'amenities_Mini bar', 'amenities_Mini fridge',\n       'amenities_Mobile hoist', 'amenities_No stairs or steps to enter',\n       'amenities_Other', 'amenities_Other pet(s)',\n       'amenities_Outlet covers', 'amenities_Oven',\n       'amenities_Pack ’n Play/travel crib',\n       'amenities_Paid parking off premises',\n       'amenities_Paid parking on premises', 'amenities_Patio or balcony',\n       'amenities_Pets allowed', 'amenities_Pets live on this property',\n       'amenities_Pocket wifi', 'amenities_Pool',\n       'amenities_Private bathroom', 'amenities_Private entrance',\n       'amenities_Private living room', 'amenities_Record player',\n       'amenities_Refrigerator', 'amenities_Room-darkening shades',\n       'amenities_Safe', 'amenities_Safety card',\n       'amenities_Self check-in', 'amenities_Shampoo',\n       'amenities_Shower chair', 'amenities_Shower gel',\n       'amenities_Single level home', 'amenities_Ski-in/Ski-out',\n       'amenities_Slippers', 'amenities_Smart lock',\n       'amenities_Smoke detector', 'amenities_Smoking allowed',\n       'amenities_Snacks', 'amenities_Stair gates',\n       'amenities_Step-free shower', 'amenities_Stove',\n       'amenities_Suitable for events', 'amenities_TV',\n       'amenities_Table corner guards', 'amenities_Toilet paper',\n       'amenities_Trash can', 'amenities_Turndown service',\n       'amenities_Washer', 'amenities_Washer/Dryer',\n       'amenities_Waterfront', 'amenities_Well-lit path to entrance',\n       'amenities_Wheelchair accessible',\n       'amenities_Wide clearance to shower',\n       'amenities_Wide doorway to guest bathroom',\n       'amenities_Wide entrance', 'amenities_Wide entrance for guests',\n       'amenities_Wide entryway', 'amenities_Wide hallways',\n       'amenities_Wifi', 'amenities_Window guards',\n       'amenities_translation missing: en.hosting_amenity_49',\n       'amenities_translation missing: en.hosting_amenity_50',\n       'neighbourhood_group_cleansed_Bronx',\n       'neighbourhood_group_cleansed_Brooklyn',\n       'neighbourhood_group_cleansed_Manhattan',\n       'neighbourhood_group_cleansed_Queens',\n       'neighbourhood_group_cleansed_Staten Island',\n       'property_type_Aparthotel', 'property_type_Apartment',\n       'property_type_Barn', 'property_type_Bed and breakfast',\n       'property_type_Boat', 'property_type_Boutique hotel',\n       'property_type_Bungalow', 'property_type_Bus',\n       'property_type_Cabin', 'property_type_Camper/RV',\n       'property_type_Casa particular (Cuba)', 'property_type_Castle',\n       'property_type_Cave', 'property_type_Condominium',\n       'property_type_Cottage', 'property_type_Dome house',\n       'property_type_Dorm', 'property_type_Earth house',\n       'property_type_Farm stay', 'property_type_Guest suite',\n       'property_type_Guesthouse', 'property_type_Hostel',\n       'property_type_Hotel', 'property_type_House',\n       'property_type_Houseboat', 'property_type_In-law',\n       'property_type_Island', 'property_type_Lighthouse',\n       'property_type_Loft', 'property_type_Other',\n       'property_type_Resort', 'property_type_Serviced apartment',\n       'property_type_Tent', 'property_type_Timeshare',\n       'property_type_Tiny house', 'property_type_Townhouse',\n       'property_type_Train', 'property_type_Treehouse',\n       'property_type_Villa', 'property_type_Yurt',\n       'room_type_Entire home/apt', 'room_type_Hotel room',\n       'room_type_Private room', 'room_type_Shared room',\n       'cancellation_policy_flexible', 'cancellation_policy_moderate',\n       'cancellation_policy_strict',\n       'cancellation_policy_strict_14_with_grace_period',\n       'cancellation_policy_super_strict_30',\n       'cancellation_policy_super_strict_60', 'bed_type_Airbed',\n       'bed_type_Couch', 'bed_type_Futon', 'bed_type_Pull-out Sofa',\n       'bed_type_Real Bed'], dtype=object)"
     },
     "metadata": {},
     "execution_count": 128
    }
   ],
   "source": [
    "listings.columns.values"
   ]
  },
  {
   "cell_type": "markdown",
   "metadata": {},
   "source": [
    "# Export to CSV\n",
    "Clean data for model to use"
   ]
  },
  {
   "cell_type": "code",
   "execution_count": 129,
   "metadata": {},
   "outputs": [],
   "source": [
    "#export columns left to csv to be used with second notebook\n",
    "path = '../../data/new-york-city-airbnb-open-data/'\n",
    "\n",
    "listings_csv = os.path.join(path,'model_columns_listings.csv')\n",
    "listings.to_csv(listings_csv)"
   ]
  },
  {
   "cell_type": "code",
   "execution_count": null,
   "metadata": {},
   "outputs": [],
   "source": []
  }
 ],
 "metadata": {
  "kernelspec": {
   "display_name": "Python 3",
   "language": "python",
   "name": "python3"
  },
  "language_info": {
   "codemirror_mode": {
    "name": "ipython",
    "version": 3
   },
   "file_extension": ".py",
   "mimetype": "text/x-python",
   "name": "python",
   "nbconvert_exporter": "python",
   "pygments_lexer": "ipython3",
   "version": "3.7.3-final"
  }
 },
 "nbformat": 4,
 "nbformat_minor": 2
}
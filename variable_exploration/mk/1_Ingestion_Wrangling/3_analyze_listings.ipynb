{
 "cells": [
  {
   "cell_type": "markdown",
   "metadata": {},
   "source": [
    "# Getting the Data Ready\n",
    "This notebook is for cleaning up data, generate more columns, change data type, etc.\n"
   ]
  },
  {
   "cell_type": "code",
   "execution_count": 3,
   "metadata": {},
   "outputs": [],
   "source": [
    "import os\n",
    "from datetime import datetime\n",
    "import numpy as np\n",
    "import pandas as pd\n",
    "import matplotlib\n",
    "import matplotlib.pyplot as plt\n",
    "import seaborn as sns\n",
    "from collections import Counter\n",
    "\n",
    "\n",
    "import warnings\n",
    "warnings.filterwarnings('ignore')\n",
    "\n",
    "%matplotlib inline"
   ]
  },
  {
   "cell_type": "code",
   "execution_count": 4,
   "metadata": {},
   "outputs": [],
   "source": [
    "#read data, specify index so it's easier to join and search using loc\n",
    "path = '../../data/new-york-city-airbnb-open-data/'\n",
    "listings_csv = os.path.join(path,'selected_columns_listings.csv')\n",
    "listings = pd.read_csv(listings_csv)"
   ]
  },
  {
   "cell_type": "code",
   "execution_count": 5,
   "metadata": {},
   "outputs": [],
   "source": [
    "#to get all columns, set option\n",
    "pd.set_option('display.max_columns', 107)\n",
    "#to get text with no truncation\n",
    "pd.set_option('display.max_colwidth', -1)"
   ]
  },
  {
   "cell_type": "code",
   "execution_count": 6,
   "metadata": {},
   "outputs": [
    {
     "output_type": "execute_result",
     "data": {
      "text/plain": "(50796, 40)"
     },
     "metadata": {},
     "execution_count": 6
    }
   ],
   "source": [
    "#shape\n",
    "listings.shape"
   ]
  },
  {
   "cell_type": "code",
   "execution_count": 7,
   "metadata": {},
   "outputs": [
    {
     "output_type": "execute_result",
     "data": {
      "text/plain": "Index(['id', 'host_since', 'host_response_time', 'host_response_rate',\n       'host_acceptance_rate', 'host_is_superhost', 'host_listings_count',\n       'host_verifications', 'host_identity_verified',\n       'neighbourhood_group_cleansed', 'latitude', 'longitude',\n       'is_location_exact', 'property_type', 'room_type', 'accommodates',\n       'bathrooms', 'bedrooms', 'beds', 'bed_type', 'amenities', 'price',\n       'security_deposit', 'cleaning_fee', 'guests_included', 'extra_people',\n       'number_of_reviews', 'number_of_reviews_ltm', 'first_review',\n       'last_review', 'review_scores_rating', 'review_scores_accuracy',\n       'review_scores_cleanliness', 'review_scores_checkin',\n       'review_scores_communication', 'review_scores_location',\n       'review_scores_value', 'instant_bookable', 'cancellation_policy',\n       'reviews_per_month'],\n      dtype='object')"
     },
     "metadata": {},
     "execution_count": 7
    }
   ],
   "source": [
    "listings.columns"
   ]
  },
  {
   "cell_type": "code",
   "execution_count": 6,
   "metadata": {},
   "outputs": [
    {
     "data": {
      "text/html": [
       "<div>\n",
       "<style scoped>\n",
       "    .dataframe tbody tr th:only-of-type {\n",
       "        vertical-align: middle;\n",
       "    }\n",
       "\n",
       "    .dataframe tbody tr th {\n",
       "        vertical-align: top;\n",
       "    }\n",
       "\n",
       "    .dataframe thead th {\n",
       "        text-align: right;\n",
       "    }\n",
       "</style>\n",
       "<table border=\"1\" class=\"dataframe\">\n",
       "  <thead>\n",
       "    <tr style=\"text-align: right;\">\n",
       "      <th></th>\n",
       "      <th>price</th>\n",
       "      <th>cleaning_fee</th>\n",
       "    </tr>\n",
       "  </thead>\n",
       "  <tbody>\n",
       "    <tr>\n",
       "      <th>18057</th>\n",
       "      <td>$120.00</td>\n",
       "      <td>$65.00</td>\n",
       "    </tr>\n",
       "  </tbody>\n",
       "</table>\n",
       "</div>"
      ],
      "text/plain": [
       "         price cleaning_fee\n",
       "18057  $120.00  $65.00     "
      ]
     },
     "execution_count": 6,
     "metadata": {},
     "output_type": "execute_result"
    }
   ],
   "source": [
    "filt = listings['id'] == 16202962\n",
    "listings[['price', 'cleaning_fee']][filt].head()"
   ]
  },
  {
   "cell_type": "code",
   "execution_count": 7,
   "metadata": {},
   "outputs": [
    {
     "data": {
      "text/html": [
       "<div>\n",
       "<style scoped>\n",
       "    .dataframe tbody tr th:only-of-type {\n",
       "        vertical-align: middle;\n",
       "    }\n",
       "\n",
       "    .dataframe tbody tr th {\n",
       "        vertical-align: top;\n",
       "    }\n",
       "\n",
       "    .dataframe thead th {\n",
       "        text-align: right;\n",
       "    }\n",
       "</style>\n",
       "<table border=\"1\" class=\"dataframe\">\n",
       "  <thead>\n",
       "    <tr style=\"text-align: right;\">\n",
       "      <th></th>\n",
       "      <th>id</th>\n",
       "      <th>listing_url</th>\n",
       "      <th>name</th>\n",
       "      <th>host_id</th>\n",
       "      <th>host_url</th>\n",
       "      <th>host_name</th>\n",
       "      <th>host_since</th>\n",
       "      <th>host_location</th>\n",
       "      <th>host_response_time</th>\n",
       "      <th>host_response_rate</th>\n",
       "      <th>host_acceptance_rate</th>\n",
       "      <th>host_is_superhost</th>\n",
       "      <th>host_neighbourhood</th>\n",
       "      <th>host_listings_count</th>\n",
       "      <th>host_total_listings_count</th>\n",
       "      <th>host_verifications</th>\n",
       "      <th>host_identity_verified</th>\n",
       "      <th>street</th>\n",
       "      <th>neighbourhood</th>\n",
       "      <th>neighbourhood_cleansed</th>\n",
       "      <th>neighbourhood_group_cleansed</th>\n",
       "      <th>city</th>\n",
       "      <th>state</th>\n",
       "      <th>zipcode</th>\n",
       "      <th>market</th>\n",
       "      <th>smart_location</th>\n",
       "      <th>latitude</th>\n",
       "      <th>longitude</th>\n",
       "      <th>is_location_exact</th>\n",
       "      <th>property_type</th>\n",
       "      <th>room_type</th>\n",
       "      <th>accommodates</th>\n",
       "      <th>bathrooms</th>\n",
       "      <th>bedrooms</th>\n",
       "      <th>beds</th>\n",
       "      <th>bed_type</th>\n",
       "      <th>amenities</th>\n",
       "      <th>price</th>\n",
       "      <th>security_deposit</th>\n",
       "      <th>cleaning_fee</th>\n",
       "      <th>guests_included</th>\n",
       "      <th>extra_people</th>\n",
       "      <th>minimum_nights</th>\n",
       "      <th>maximum_nights</th>\n",
       "      <th>minimum_minimum_nights</th>\n",
       "      <th>maximum_minimum_nights</th>\n",
       "      <th>minimum_maximum_nights</th>\n",
       "      <th>maximum_maximum_nights</th>\n",
       "      <th>minimum_nights_avg_ntm</th>\n",
       "      <th>maximum_nights_avg_ntm</th>\n",
       "      <th>calendar_updated</th>\n",
       "      <th>availability_30</th>\n",
       "      <th>availability_60</th>\n",
       "      <th>availability_90</th>\n",
       "      <th>availability_365</th>\n",
       "      <th>number_of_reviews</th>\n",
       "      <th>number_of_reviews_ltm</th>\n",
       "      <th>first_review</th>\n",
       "      <th>last_review</th>\n",
       "      <th>review_scores_rating</th>\n",
       "      <th>review_scores_accuracy</th>\n",
       "      <th>review_scores_cleanliness</th>\n",
       "      <th>review_scores_checkin</th>\n",
       "      <th>review_scores_communication</th>\n",
       "      <th>review_scores_location</th>\n",
       "      <th>review_scores_value</th>\n",
       "      <th>instant_bookable</th>\n",
       "      <th>cancellation_policy</th>\n",
       "      <th>calculated_host_listings_count</th>\n",
       "      <th>calculated_host_listings_count_entire_homes</th>\n",
       "      <th>calculated_host_listings_count_private_rooms</th>\n",
       "      <th>calculated_host_listings_count_shared_rooms</th>\n",
       "      <th>reviews_per_month</th>\n",
       "    </tr>\n",
       "  </thead>\n",
       "  <tbody>\n",
       "    <tr>\n",
       "      <th>0</th>\n",
       "      <td>2060</td>\n",
       "      <td>https://www.airbnb.com/rooms/2060</td>\n",
       "      <td>Modern NYC</td>\n",
       "      <td>2259</td>\n",
       "      <td>https://www.airbnb.com/users/show/2259</td>\n",
       "      <td>Jenny</td>\n",
       "      <td>2008-08-18</td>\n",
       "      <td>US</td>\n",
       "      <td>a few days or more</td>\n",
       "      <td>22%</td>\n",
       "      <td>50%</td>\n",
       "      <td>f</td>\n",
       "      <td>Washington Heights</td>\n",
       "      <td>0.0</td>\n",
       "      <td>0.0</td>\n",
       "      <td>['reviews']</td>\n",
       "      <td>f</td>\n",
       "      <td>New York, NY, United States</td>\n",
       "      <td>Manhattan</td>\n",
       "      <td>Washington Heights</td>\n",
       "      <td>Manhattan</td>\n",
       "      <td>New York</td>\n",
       "      <td>NY</td>\n",
       "      <td>10040</td>\n",
       "      <td>New York</td>\n",
       "      <td>New York, NY</td>\n",
       "      <td>40.85722</td>\n",
       "      <td>-73.9379</td>\n",
       "      <td>t</td>\n",
       "      <td>Other</td>\n",
       "      <td>Private room</td>\n",
       "      <td>2</td>\n",
       "      <td>NaN</td>\n",
       "      <td>1.0</td>\n",
       "      <td>2.0</td>\n",
       "      <td>Real Bed</td>\n",
       "      <td>{Internet,Wifi}</td>\n",
       "      <td>$100.00</td>\n",
       "      <td>NaN</td>\n",
       "      <td>NaN</td>\n",
       "      <td>1</td>\n",
       "      <td>$0.00</td>\n",
       "      <td>1</td>\n",
       "      <td>730</td>\n",
       "      <td>1</td>\n",
       "      <td>1</td>\n",
       "      <td>730</td>\n",
       "      <td>730</td>\n",
       "      <td>1.0</td>\n",
       "      <td>730.0</td>\n",
       "      <td>4 weeks ago</td>\n",
       "      <td>30</td>\n",
       "      <td>60</td>\n",
       "      <td>90</td>\n",
       "      <td>365</td>\n",
       "      <td>1</td>\n",
       "      <td>0</td>\n",
       "      <td>2008-09-22</td>\n",
       "      <td>2008-09-22</td>\n",
       "      <td>80.0</td>\n",
       "      <td>NaN</td>\n",
       "      <td>NaN</td>\n",
       "      <td>NaN</td>\n",
       "      <td>NaN</td>\n",
       "      <td>NaN</td>\n",
       "      <td>NaN</td>\n",
       "      <td>f</td>\n",
       "      <td>flexible</td>\n",
       "      <td>1</td>\n",
       "      <td>0</td>\n",
       "      <td>1</td>\n",
       "      <td>0</td>\n",
       "      <td>0.01</td>\n",
       "    </tr>\n",
       "  </tbody>\n",
       "</table>\n",
       "</div>"
      ],
      "text/plain": [
       "     id                        listing_url        name  host_id  \\\n",
       "0  2060  https://www.airbnb.com/rooms/2060  Modern NYC  2259      \n",
       "\n",
       "                                 host_url host_name  host_since host_location  \\\n",
       "0  https://www.airbnb.com/users/show/2259  Jenny     2008-08-18  US             \n",
       "\n",
       "   host_response_time host_response_rate host_acceptance_rate  \\\n",
       "0  a few days or more  22%                50%                   \n",
       "\n",
       "  host_is_superhost  host_neighbourhood  host_listings_count  \\\n",
       "0  f                 Washington Heights  0.0                   \n",
       "\n",
       "   host_total_listings_count host_verifications host_identity_verified  \\\n",
       "0  0.0                        ['reviews']        f                       \n",
       "\n",
       "                        street neighbourhood neighbourhood_cleansed  \\\n",
       "0  New York, NY, United States  Manhattan     Washington Heights      \n",
       "\n",
       "  neighbourhood_group_cleansed      city state zipcode    market  \\\n",
       "0  Manhattan                    New York  NY    10040   New York   \n",
       "\n",
       "  smart_location  latitude  longitude is_location_exact property_type  \\\n",
       "0  New York, NY   40.85722 -73.9379    t                 Other          \n",
       "\n",
       "      room_type  accommodates  bathrooms  bedrooms  beds  bed_type  \\\n",
       "0  Private room  2            NaN         1.0       2.0   Real Bed   \n",
       "\n",
       "         amenities    price security_deposit cleaning_fee  guests_included  \\\n",
       "0  {Internet,Wifi}  $100.00  NaN              NaN          1                 \n",
       "\n",
       "  extra_people  minimum_nights  maximum_nights  minimum_minimum_nights  \\\n",
       "0  $0.00        1               730             1                        \n",
       "\n",
       "   maximum_minimum_nights  minimum_maximum_nights  maximum_maximum_nights  \\\n",
       "0  1                       730                     730                      \n",
       "\n",
       "   minimum_nights_avg_ntm  maximum_nights_avg_ntm calendar_updated  \\\n",
       "0  1.0                     730.0                   4 weeks ago       \n",
       "\n",
       "   availability_30  availability_60  availability_90  availability_365  \\\n",
       "0  30               60               90               365                \n",
       "\n",
       "   number_of_reviews  number_of_reviews_ltm first_review last_review  \\\n",
       "0  1                  0                      2008-09-22   2008-09-22   \n",
       "\n",
       "   review_scores_rating  review_scores_accuracy  review_scores_cleanliness  \\\n",
       "0  80.0                 NaN                     NaN                          \n",
       "\n",
       "   review_scores_checkin  review_scores_communication  review_scores_location  \\\n",
       "0 NaN                    NaN                          NaN                       \n",
       "\n",
       "   review_scores_value instant_bookable cancellation_policy  \\\n",
       "0 NaN                   f                flexible             \n",
       "\n",
       "   calculated_host_listings_count  \\\n",
       "0  1                                \n",
       "\n",
       "   calculated_host_listings_count_entire_homes  \\\n",
       "0  0                                             \n",
       "\n",
       "   calculated_host_listings_count_private_rooms  \\\n",
       "0  1                                              \n",
       "\n",
       "   calculated_host_listings_count_shared_rooms  reviews_per_month  \n",
       "0  0                                            0.01               "
      ]
     },
     "execution_count": 7,
     "metadata": {},
     "output_type": "execute_result"
    }
   ],
   "source": [
    "#head\n",
    "listings.head(1)"
   ]
  },
  {
   "cell_type": "markdown",
   "metadata": {},
   "source": [
    "# Create new datafarme with records that have reviews within a year"
   ]
  },
  {
   "cell_type": "code",
   "execution_count": 8,
   "metadata": {},
   "outputs": [
    {
     "data": {
      "text/plain": [
       "29124"
      ]
     },
     "execution_count": 8,
     "metadata": {},
     "output_type": "execute_result"
    }
   ],
   "source": [
    "#count how many records got reviews last 1 year\n",
    "scraped_date = datetime.strptime('2020-03-14',\"%Y-%m-%d\")\n",
    "listings['last_review_days_ago'] = (scraped_date - pd.to_datetime(listings['last_review'])).dt.days\n",
    "filt = listings['last_review_days_ago'] <= 365\n",
    "listings['property_type'][filt].count()\n"
   ]
  },
  {
   "cell_type": "code",
   "execution_count": 9,
   "metadata": {},
   "outputs": [],
   "source": [
    "#create new df for only records that have reviews in last 200 days\n",
    "listings = listings[filt]"
   ]
  },
  {
   "cell_type": "code",
   "execution_count": 10,
   "metadata": {},
   "outputs": [
    {
     "data": {
      "text/plain": [
       "1    131.0\n",
       "2    20.0 \n",
       "3    153.0\n",
       "5    103.0\n",
       "6    15.0 \n",
       "Name: last_review_days_ago, dtype: float64"
      ]
     },
     "execution_count": 10,
     "metadata": {},
     "output_type": "execute_result"
    }
   ],
   "source": [
    "listings['last_review_days_ago'].head()"
   ]
  },
  {
   "cell_type": "markdown",
   "metadata": {},
   "source": [
    "# Dealing with null values\n",
    "Fill with 0, dropping null, fill with avg"
   ]
  },
  {
   "cell_type": "markdown",
   "metadata": {},
   "source": [
    "## Analysis\n",
    "group by, count null, etc\n"
   ]
  },
  {
   "cell_type": "code",
   "execution_count": 12,
   "metadata": {},
   "outputs": [
    {
     "data": {
      "text/plain": [
       "0"
      ]
     },
     "execution_count": 12,
     "metadata": {},
     "output_type": "execute_result"
    }
   ],
   "source": [
    "colname = 'host_since'\n",
    "listings[colname].isna().sum()\n",
    "\n",
    "##run this to find out how many nulls on all columns\n",
    "# listings.isna().sum()"
   ]
  },
  {
   "cell_type": "code",
   "execution_count": 13,
   "metadata": {},
   "outputs": [
    {
     "data": {
      "text/plain": [
       "host_since\n",
       "2008-08-27    1\n",
       "2008-09-07    8\n",
       "2008-09-09    1\n",
       "2008-09-10    2\n",
       "2008-09-25    1\n",
       "Name: host_since, dtype: int64"
      ]
     },
     "execution_count": 13,
     "metadata": {},
     "output_type": "execute_result"
    }
   ],
   "source": [
    "#run this to get group by\n",
    "listings.groupby(colname)[colname].count().head(5)"
   ]
  },
  {
   "cell_type": "markdown",
   "metadata": {},
   "source": [
    "## Dropping null rows\n",
    "Dropping na when rec counts as  there are not too many\n"
   ]
  },
  {
   "cell_type": "code",
   "execution_count": 14,
   "metadata": {},
   "outputs": [],
   "source": [
    "Drop_na = ['host_since', 'host_listings_count', 'host_identity_verified', 'host_is_superhost']\n",
    "listings = listings.dropna(subset=Drop_na)\n"
   ]
  },
  {
   "cell_type": "markdown",
   "metadata": {},
   "source": [
    "## Fill with 0 or 0 variance"
   ]
  },
  {
   "cell_type": "code",
   "execution_count": 15,
   "metadata": {},
   "outputs": [],
   "source": [
    "#fill with 0\n",
    "Fill_with_zero = ['bathrooms', 'bedrooms', 'host_is_superhost', 'beds', 'review_scores_rating', 'review_scores_accuracy',\n",
    "'review_scores_cleanliness', 'review_scores_checkin', 'review_scores_communication', 'review_scores_location', 'review_scores_value', 'reviews_per_month']\n",
    "\n",
    "for column in Fill_with_zero:\n",
    "    listings[column] = listings[column].replace(np.nan, '0')\n"
   ]
  },
  {
   "cell_type": "code",
   "execution_count": 16,
   "metadata": {},
   "outputs": [],
   "source": [
    "#fill with $0.00\n",
    "Fill_with_zero = ['security_deposit', 'cleaning_fee']\n",
    "\n",
    "for column in Fill_with_zero:\n",
    "    listings[column] = listings[column].replace(np.nan, '$0.00')\n",
    "    "
   ]
  },
  {
   "cell_type": "markdown",
   "metadata": {},
   "source": [
    "## Fill with average"
   ]
  },
  {
   "cell_type": "code",
   "execution_count": 17,
   "metadata": {},
   "outputs": [],
   "source": [
    "#host_response_time will be converted to 1,2,3,4. So 2.5 is the middle value\n",
    "listings['host_response_time'] = listings['host_response_time'].replace(np.nan, '2.5')\n",
    "#host_acceptance_rate avg 50%\n",
    "listings['host_acceptance_rate'] = listings['host_acceptance_rate'].replace(np.nan, '50%')\n"
   ]
  },
  {
   "cell_type": "markdown",
   "metadata": {},
   "source": [
    "# Put aside features\n",
    "Need to deal with this later: 'first_review', 'host_response_rate', 'host_acceptance_rate'\n",
    " "
   ]
  },
  {
   "cell_type": "markdown",
   "metadata": {},
   "source": [
    "# Array data type - exploration\n",
    "First part is querying the two columns which as array: host_verifications and amenities"
   ]
  },
  {
   "cell_type": "code",
   "execution_count": 18,
   "metadata": {},
   "outputs": [
    {
     "data": {
      "text/plain": [
       "[('phone', 29078),\n",
       " ('email', 27075),\n",
       " ('government_id', 19369),\n",
       " ('reviews', 18651),\n",
       " ('offline_government_id', 14426)]"
      ]
     },
     "execution_count": 18,
     "metadata": {},
     "output_type": "execute_result"
    }
   ],
   "source": [
    "#convert values of host_verifications to list\n",
    "host_verifications = listings['host_verifications'].values.tolist()\n",
    "\n",
    "#host verivication split and add to list\n",
    "host_verification_all = []\n",
    "\n",
    "for row in host_verifications:\n",
    "    row_clean = row.replace('[','').replace(']','')\n",
    "    methods = row_clean.split(',')\n",
    "    for method in methods:\n",
    "        method_clean = method.replace(\"'\",\"\").strip()\n",
    "        host_verification_all.append(method_clean)\n",
    "\n",
    "Counter(host_verification_all).most_common(5)"
   ]
  },
  {
   "cell_type": "code",
   "execution_count": 19,
   "metadata": {},
   "outputs": [
    {
     "data": {
      "text/plain": [
       "[('Wifi', 28709),\n",
       " ('Heating', 28196),\n",
       " ('Essentials', 28083),\n",
       " ('Smoke detector', 26628),\n",
       " ('Kitchen', 26152)]"
      ]
     },
     "execution_count": 19,
     "metadata": {},
     "output_type": "execute_result"
    }
   ],
   "source": [
    "#convert values of amenities to list\n",
    "amenities = listings['amenities'].values.tolist()\n",
    "\n",
    "#amenities split and add to list\n",
    "amenities_all = []\n",
    "\n",
    "for row in amenities:\n",
    "    row_string = str(row)\n",
    "    row_string_clean = row_string.replace('{','').replace('}','')\n",
    "    amenities_rows = row_string_clean.split(',')\n",
    "    for row in amenities_rows:\n",
    "        row_clean = row.replace('\"','')\n",
    "        amenities_all.append(row_clean)\n",
    "\n",
    "Counter(amenities_all).most_common(5)"
   ]
  },
  {
   "cell_type": "markdown",
   "metadata": {},
   "source": [
    "# Array data type - reformatting\n",
    "This step is creating multiple boolean columns to be used in the model"
   ]
  },
  {
   "cell_type": "code",
   "execution_count": 20,
   "metadata": {},
   "outputs": [],
   "source": [
    "#function to remove some characters, clean up value\n",
    "def clean_array(row):\n",
    "    row = row.str.replace('[', '')\n",
    "    row = row.str.replace(']', '')\n",
    "    row = row.str.replace('{', '')\n",
    "    row = row.str.replace('}', '')\n",
    "    row = row.str.replace(\"'\", '')\n",
    "    row = row.str.replace('\"', '')\n",
    "    return row"
   ]
  },
  {
   "cell_type": "code",
   "execution_count": 21,
   "metadata": {},
   "outputs": [],
   "source": [
    "#array_columns = ['host_verifications', 'amenities']\n",
    "array_columns = ['host_verifications']\n",
    "#apply function\n",
    "#array_columns_clean = listings[array_columns].apply(lambda col: clean_array(col))\n",
    "array_columns_clean = listings[array_columns].apply(clean_array, axis=1)\n",
    "\n",
    "# Create new columns based on unique value in the array\n",
    "array_bool_columns = []\n",
    "\n",
    "for col in listings[array_columns].columns:\n",
    "    colname = array_columns_clean[col].str.get_dummies(sep=',');\n",
    "    colname = colname.add_prefix(col + '_');\n",
    "    array_bool_columns.append(colname);\n",
    "\n",
    "#add to the listing\n",
    "listings = listings.join(array_bool_columns)\n",
    "\n",
    "#drop original columns\n",
    "listings = listings.drop(array_columns,axis = 1)\n",
    "\n",
    "#print all addtional columns\n",
    "#array_bool_columns"
   ]
  },
  {
   "cell_type": "code",
   "execution_count": 22,
   "metadata": {},
   "outputs": [],
   "source": [
    "#array_columns = ['host_verifications', 'amenities']\n",
    "array_columns = ['amenities']\n",
    "#apply function\n",
    "#array_columns_clean = listings[array_columns].apply(lambda col: clean_array(col))\n",
    "array_columns_clean = listings[array_columns].apply(clean_array, axis=1)\n",
    "\n",
    "\n",
    "# Create new columns based on unique value in the array\n",
    "array_bool_columns = []\n",
    "\n",
    "for col in listings[array_columns].columns:\n",
    "    colname = array_columns_clean[col].str.get_dummies(sep=',');\n",
    "    colname = colname.add_prefix(col + '_');\n",
    "    array_bool_columns.append(colname);\n",
    "\n",
    "#add to the listing\n",
    "listings = listings.join(array_bool_columns)\n",
    "\n",
    "#drop original columns\n",
    "listings = listings.drop(array_columns,axis = 1)\n",
    "\n",
    "#print all addtional columns\n",
    "#array_bool_columns"
   ]
  },
  {
   "cell_type": "markdown",
   "metadata": {},
   "source": [
    "# Currency conversion\n",
    "This will remove dollars sign, comma and then convert to float"
   ]
  },
  {
   "cell_type": "code",
   "execution_count": 23,
   "metadata": {},
   "outputs": [],
   "source": [
    "#function\n",
    "def fix_currency(row):\n",
    "    row = row.replace(',', '')\n",
    "    row = row.replace('$', '')\n",
    "    return row"
   ]
  },
  {
   "cell_type": "code",
   "execution_count": 24,
   "metadata": {},
   "outputs": [],
   "source": [
    "#Currency_columns = ['extra_people', 'price', 'cleaning_fee', 'security_deposit' ]\n",
    "#also convert to float\n",
    "\n",
    "# for col in Currency:\n",
    "#     listings[col] = listings.apply(fix_currency, axis=1)\n",
    "\n",
    "colname = 'extra_people'\n",
    "listings[colname] = listings[colname].apply(lambda col: fix_currency(col)).astype(float)\n",
    "\n",
    "colname = 'price'\n",
    "listings[colname] = listings[colname].apply(lambda col: fix_currency(col)).astype(float)\n",
    "\n",
    "colname = 'cleaning_fee'\n",
    "listings[colname] = listings[colname].apply(lambda col: fix_currency(col)).astype(float)\n",
    "\n",
    "colname = 'security_deposit'\n",
    "listings[colname] = listings[colname].apply(lambda col: fix_currency(col)).astype(float)\n"
   ]
  },
  {
   "cell_type": "code",
   "execution_count": 25,
   "metadata": {
    "scrolled": true
   },
   "outputs": [
    {
     "data": {
      "text/plain": [
       "1    0.0  \n",
       "2    0.0  \n",
       "3    100.0\n",
       "5    30.0 \n",
       "6    12.0 \n",
       "Name: extra_people, dtype: float64"
      ]
     },
     "execution_count": 25,
     "metadata": {},
     "output_type": "execute_result"
    }
   ],
   "source": [
    "listings['extra_people'].head()"
   ]
  },
  {
   "cell_type": "code",
   "execution_count": 26,
   "metadata": {},
   "outputs": [
    {
     "data": {
      "image/png": "[encoded data removed]",
      "text/plain": [
       "<Figure size 360x360 with 6 Axes>"
      ]
     },
     "metadata": {
      "needs_background": "light"
     },
     "output_type": "display_data"
    }
   ],
   "source": [
    "clean_price = listings[['cleaning_fee', 'price']]\n",
    "sns.pairplot(clean_price, kind='reg')\n",
    "plt.show()"
   ]
  },
  {
   "cell_type": "code",
   "execution_count": 27,
   "metadata": {},
   "outputs": [],
   "source": [
    "def cleaning_fee_yes_no (row):\n",
    "    if row['cleaning_fee'] > 0.00:\n",
    "        return '1'\n",
    "    else:\n",
    "        return '0'"
   ]
  },
  {
   "cell_type": "code",
   "execution_count": 28,
   "metadata": {},
   "outputs": [],
   "source": [
    "listings['cleaning_fee_yes_no'] = listings.apply(cleaning_fee_yes_no, axis=1)"
   ]
  },
  {
   "cell_type": "code",
   "execution_count": 29,
   "metadata": {},
   "outputs": [
    {
     "data": {
      "text/html": [
       "<div>\n",
       "<style scoped>\n",
       "    .dataframe tbody tr th:only-of-type {\n",
       "        vertical-align: middle;\n",
       "    }\n",
       "\n",
       "    .dataframe tbody tr th {\n",
       "        vertical-align: top;\n",
       "    }\n",
       "\n",
       "    .dataframe thead th {\n",
       "        text-align: right;\n",
       "    }\n",
       "</style>\n",
       "<table border=\"1\" class=\"dataframe\">\n",
       "  <thead>\n",
       "    <tr style=\"text-align: right;\">\n",
       "      <th></th>\n",
       "      <th>price</th>\n",
       "    </tr>\n",
       "    <tr>\n",
       "      <th>cleaning_fee_yes_no</th>\n",
       "      <th></th>\n",
       "    </tr>\n",
       "  </thead>\n",
       "  <tbody>\n",
       "    <tr>\n",
       "      <th>0</th>\n",
       "      <td>201.852941</td>\n",
       "    </tr>\n",
       "    <tr>\n",
       "      <th>1</th>\n",
       "      <td>146.563659</td>\n",
       "    </tr>\n",
       "  </tbody>\n",
       "</table>\n",
       "</div>"
      ],
      "text/plain": [
       "                          price\n",
       "cleaning_fee_yes_no            \n",
       "0                    201.852941\n",
       "1                    146.563659"
      ]
     },
     "execution_count": 29,
     "metadata": {},
     "output_type": "execute_result"
    }
   ],
   "source": [
    "listings.groupby('cleaning_fee_yes_no').agg({'price':'mean'})\n"
   ]
  },
  {
   "cell_type": "code",
   "execution_count": 30,
   "metadata": {},
   "outputs": [
    {
     "data": {
      "text/plain": [
       "1000.0"
      ]
     },
     "execution_count": 30,
     "metadata": {},
     "output_type": "execute_result"
    }
   ],
   "source": [
    "#looks like this cleaning fee may need to be adjusted\n",
    "listings['cleaning_fee'].max()"
   ]
  },
  {
   "cell_type": "code",
   "execution_count": 31,
   "metadata": {},
   "outputs": [],
   "source": [
    "def security_deposit_yes_no (row):\n",
    "    if row['security_deposit'] > 0.00:\n",
    "        return '1'\n",
    "    else:\n",
    "        return '0'"
   ]
  },
  {
   "cell_type": "code",
   "execution_count": 32,
   "metadata": {},
   "outputs": [],
   "source": [
    "listings['security_deposit_yes_no'] = listings.apply(security_deposit_yes_no, axis=1)"
   ]
  },
  {
   "cell_type": "code",
   "execution_count": 33,
   "metadata": {},
   "outputs": [
    {
     "data": {
      "text/html": [
       "<div>\n",
       "<style scoped>\n",
       "    .dataframe tbody tr th:only-of-type {\n",
       "        vertical-align: middle;\n",
       "    }\n",
       "\n",
       "    .dataframe tbody tr th {\n",
       "        vertical-align: top;\n",
       "    }\n",
       "\n",
       "    .dataframe thead th {\n",
       "        text-align: right;\n",
       "    }\n",
       "</style>\n",
       "<table border=\"1\" class=\"dataframe\">\n",
       "  <thead>\n",
       "    <tr style=\"text-align: right;\">\n",
       "      <th></th>\n",
       "      <th>price</th>\n",
       "    </tr>\n",
       "    <tr>\n",
       "      <th>security_deposit_yes_no</th>\n",
       "      <th></th>\n",
       "    </tr>\n",
       "  </thead>\n",
       "  <tbody>\n",
       "    <tr>\n",
       "      <th>0</th>\n",
       "      <td>144.407500</td>\n",
       "    </tr>\n",
       "    <tr>\n",
       "      <th>1</th>\n",
       "      <td>169.972002</td>\n",
       "    </tr>\n",
       "  </tbody>\n",
       "</table>\n",
       "</div>"
      ],
      "text/plain": [
       "                              price\n",
       "security_deposit_yes_no            \n",
       "0                        144.407500\n",
       "1                        169.972002"
      ]
     },
     "execution_count": 33,
     "metadata": {},
     "output_type": "execute_result"
    }
   ],
   "source": [
    "listings.groupby('security_deposit_yes_no').agg({'price':'mean'})"
   ]
  },
  {
   "cell_type": "code",
   "execution_count": 34,
   "metadata": {},
   "outputs": [],
   "source": [
    "def extra_people_yes_no (row):\n",
    "    if row['extra_people'] > 0.00:\n",
    "        return '1'\n",
    "    else:\n",
    "        return '0'"
   ]
  },
  {
   "cell_type": "code",
   "execution_count": 35,
   "metadata": {},
   "outputs": [],
   "source": [
    "listings['extra_people_yes_no'] = listings.apply(extra_people_yes_no, axis=1)"
   ]
  },
  {
   "cell_type": "code",
   "execution_count": 36,
   "metadata": {},
   "outputs": [
    {
     "data": {
      "text/html": [
       "<div>\n",
       "<style scoped>\n",
       "    .dataframe tbody tr th:only-of-type {\n",
       "        vertical-align: middle;\n",
       "    }\n",
       "\n",
       "    .dataframe tbody tr th {\n",
       "        vertical-align: top;\n",
       "    }\n",
       "\n",
       "    .dataframe thead th {\n",
       "        text-align: right;\n",
       "    }\n",
       "</style>\n",
       "<table border=\"1\" class=\"dataframe\">\n",
       "  <thead>\n",
       "    <tr style=\"text-align: right;\">\n",
       "      <th></th>\n",
       "      <th>price</th>\n",
       "    </tr>\n",
       "    <tr>\n",
       "      <th>extra_people_yes_no</th>\n",
       "      <th></th>\n",
       "    </tr>\n",
       "  </thead>\n",
       "  <tbody>\n",
       "    <tr>\n",
       "      <th>0</th>\n",
       "      <td>171.541619</td>\n",
       "    </tr>\n",
       "    <tr>\n",
       "      <th>1</th>\n",
       "      <td>144.059607</td>\n",
       "    </tr>\n",
       "  </tbody>\n",
       "</table>\n",
       "</div>"
      ],
      "text/plain": [
       "                          price\n",
       "extra_people_yes_no            \n",
       "0                    171.541619\n",
       "1                    144.059607"
      ]
     },
     "execution_count": 36,
     "metadata": {},
     "output_type": "execute_result"
    }
   ],
   "source": [
    "listings.groupby('extra_people_yes_no').agg({'price':'mean'})"
   ]
  },
  {
   "cell_type": "code",
   "execution_count": 37,
   "metadata": {},
   "outputs": [
    {
     "data": {
      "text/html": [
       "<div>\n",
       "<style scoped>\n",
       "    .dataframe tbody tr th:only-of-type {\n",
       "        vertical-align: middle;\n",
       "    }\n",
       "\n",
       "    .dataframe tbody tr th {\n",
       "        vertical-align: top;\n",
       "    }\n",
       "\n",
       "    .dataframe thead th {\n",
       "        text-align: right;\n",
       "    }\n",
       "</style>\n",
       "<table border=\"1\" class=\"dataframe\">\n",
       "  <thead>\n",
       "    <tr style=\"text-align: right;\">\n",
       "      <th></th>\n",
       "      <th>cleaning_fee</th>\n",
       "      <th>security_deposit</th>\n",
       "      <th>price</th>\n",
       "    </tr>\n",
       "    <tr>\n",
       "      <th>accommodates</th>\n",
       "      <th></th>\n",
       "      <th></th>\n",
       "      <th></th>\n",
       "    </tr>\n",
       "  </thead>\n",
       "  <tbody>\n",
       "    <tr>\n",
       "      <th>22</th>\n",
       "      <td>270.000000</td>\n",
       "      <td>1000.000000</td>\n",
       "      <td>1569.000000</td>\n",
       "    </tr>\n",
       "    <tr>\n",
       "      <th>20</th>\n",
       "      <td>270.000000</td>\n",
       "      <td>999.000000</td>\n",
       "      <td>1479.000000</td>\n",
       "    </tr>\n",
       "    <tr>\n",
       "      <th>19</th>\n",
       "      <td>240.000000</td>\n",
       "      <td>1000.000000</td>\n",
       "      <td>1369.000000</td>\n",
       "    </tr>\n",
       "    <tr>\n",
       "      <th>16</th>\n",
       "      <td>190.991071</td>\n",
       "      <td>414.017857</td>\n",
       "      <td>683.544643</td>\n",
       "    </tr>\n",
       "    <tr>\n",
       "      <th>15</th>\n",
       "      <td>185.562500</td>\n",
       "      <td>484.375000</td>\n",
       "      <td>572.125000</td>\n",
       "    </tr>\n",
       "    <tr>\n",
       "      <th>14</th>\n",
       "      <td>170.230769</td>\n",
       "      <td>341.153846</td>\n",
       "      <td>404.269231</td>\n",
       "    </tr>\n",
       "    <tr>\n",
       "      <th>13</th>\n",
       "      <td>199.166667</td>\n",
       "      <td>954.166667</td>\n",
       "      <td>773.833333</td>\n",
       "    </tr>\n",
       "    <tr>\n",
       "      <th>12</th>\n",
       "      <td>179.321839</td>\n",
       "      <td>447.241379</td>\n",
       "      <td>488.264368</td>\n",
       "    </tr>\n",
       "    <tr>\n",
       "      <th>11</th>\n",
       "      <td>143.615385</td>\n",
       "      <td>449.871795</td>\n",
       "      <td>346.794872</td>\n",
       "    </tr>\n",
       "    <tr>\n",
       "      <th>10</th>\n",
       "      <td>155.757732</td>\n",
       "      <td>423.597938</td>\n",
       "      <td>484.139175</td>\n",
       "    </tr>\n",
       "    <tr>\n",
       "      <th>9</th>\n",
       "      <td>137.033708</td>\n",
       "      <td>439.101124</td>\n",
       "      <td>354.359551</td>\n",
       "    </tr>\n",
       "    <tr>\n",
       "      <th>8</th>\n",
       "      <td>129.448980</td>\n",
       "      <td>323.118738</td>\n",
       "      <td>328.187384</td>\n",
       "    </tr>\n",
       "    <tr>\n",
       "      <th>7</th>\n",
       "      <td>110.461326</td>\n",
       "      <td>312.538674</td>\n",
       "      <td>267.569061</td>\n",
       "    </tr>\n",
       "    <tr>\n",
       "      <th>6</th>\n",
       "      <td>103.479580</td>\n",
       "      <td>282.932905</td>\n",
       "      <td>247.035589</td>\n",
       "    </tr>\n",
       "    <tr>\n",
       "      <th>5</th>\n",
       "      <td>90.506747</td>\n",
       "      <td>292.111694</td>\n",
       "      <td>215.982009</td>\n",
       "    </tr>\n",
       "    <tr>\n",
       "      <th>4</th>\n",
       "      <td>75.664948</td>\n",
       "      <td>222.674399</td>\n",
       "      <td>180.609536</td>\n",
       "    </tr>\n",
       "    <tr>\n",
       "      <th>3</th>\n",
       "      <td>59.546247</td>\n",
       "      <td>195.407038</td>\n",
       "      <td>133.914668</td>\n",
       "    </tr>\n",
       "    <tr>\n",
       "      <th>2</th>\n",
       "      <td>44.639444</td>\n",
       "      <td>136.005394</td>\n",
       "      <td>131.509003</td>\n",
       "    </tr>\n",
       "    <tr>\n",
       "      <th>1</th>\n",
       "      <td>30.074853</td>\n",
       "      <td>100.601346</td>\n",
       "      <td>70.940286</td>\n",
       "    </tr>\n",
       "  </tbody>\n",
       "</table>\n",
       "</div>"
      ],
      "text/plain": [
       "              cleaning_fee  security_deposit        price\n",
       "accommodates                                             \n",
       "22            270.000000    1000.000000       1569.000000\n",
       "20            270.000000    999.000000        1479.000000\n",
       "19            240.000000    1000.000000       1369.000000\n",
       "16            190.991071    414.017857        683.544643 \n",
       "15            185.562500    484.375000        572.125000 \n",
       "14            170.230769    341.153846        404.269231 \n",
       "13            199.166667    954.166667        773.833333 \n",
       "12            179.321839    447.241379        488.264368 \n",
       "11            143.615385    449.871795        346.794872 \n",
       "10            155.757732    423.597938        484.139175 \n",
       "9             137.033708    439.101124        354.359551 \n",
       "8             129.448980    323.118738        328.187384 \n",
       "7             110.461326    312.538674        267.569061 \n",
       "6             103.479580    282.932905        247.035589 \n",
       "5             90.506747     292.111694        215.982009 \n",
       "4             75.664948     222.674399        180.609536 \n",
       "3             59.546247     195.407038        133.914668 \n",
       "2             44.639444     136.005394        131.509003 \n",
       "1             30.074853     100.601346        70.940286  "
      ]
     },
     "execution_count": 37,
     "metadata": {},
     "output_type": "execute_result"
    }
   ],
   "source": [
    "listings.groupby('accommodates').agg({'cleaning_fee':'mean', 'security_deposit':'mean', 'price':'mean'}).sort_values(by='accommodates',ascending=False)"
   ]
  },
  {
   "cell_type": "code",
   "execution_count": 38,
   "metadata": {},
   "outputs": [
    {
     "data": {
      "text/plain": [
       "accommodates\n",
       "2     13163\n",
       "4     4656 \n",
       "1     3567 \n",
       "3     3211 \n",
       "6     1714 \n",
       "5     1334 \n",
       "8     539  \n",
       "7     362  \n",
       "10    194  \n",
       "16    112  \n",
       "9     89   \n",
       "12    87   \n",
       "11    39   \n",
       "14    26   \n",
       "15    16   \n",
       "13    12   \n",
       "20    1    \n",
       "19    1    \n",
       "22    1    \n",
       "Name: accommodates, dtype: int64"
      ]
     },
     "execution_count": 38,
     "metadata": {},
     "output_type": "execute_result"
    }
   ],
   "source": [
    "#darn it, looks like i have to remove any records that acoomodates more than 10 or so\n",
    "listings.groupby('accommodates')['accommodates'].count().sort_values(ascending=False)"
   ]
  },
  {
   "cell_type": "markdown",
   "metadata": {},
   "source": [
    "# Looking at price relationship with property types"
   ]
  },
  {
   "cell_type": "code",
   "execution_count": 39,
   "metadata": {},
   "outputs": [
    {
     "data": {
      "text/plain": [
       "property_type\n",
       "Apartment         9 \n",
       "Boutique hotel    33\n",
       "Hotel             2 \n",
       "House             2 \n",
       "Loft              2 \n",
       "Townhouse         8 \n",
       "Name: property_type, dtype: int64"
      ]
     },
     "execution_count": 39,
     "metadata": {},
     "output_type": "execute_result"
    }
   ],
   "source": [
    "#filt = listings['property_type'] == 'Hotel'\n",
    "filt = listings['price'] > 2000\n",
    "temp = listings[filt]\n",
    "temp.groupby('property_type')['property_type'].count()\n",
    "#temp['price'].max()"
   ]
  },
  {
   "cell_type": "code",
   "execution_count": 40,
   "metadata": {},
   "outputs": [
    {
     "data": {
      "text/html": [
       "<div>\n",
       "<style scoped>\n",
       "    .dataframe tbody tr th:only-of-type {\n",
       "        vertical-align: middle;\n",
       "    }\n",
       "\n",
       "    .dataframe tbody tr th {\n",
       "        vertical-align: top;\n",
       "    }\n",
       "\n",
       "    .dataframe thead th {\n",
       "        text-align: right;\n",
       "    }\n",
       "</style>\n",
       "<table border=\"1\" class=\"dataframe\">\n",
       "  <thead>\n",
       "    <tr style=\"text-align: right;\">\n",
       "      <th></th>\n",
       "      <th></th>\n",
       "      <th>property_type</th>\n",
       "      <th>room_type</th>\n",
       "    </tr>\n",
       "    <tr>\n",
       "      <th>property_type</th>\n",
       "      <th>room_type</th>\n",
       "      <th></th>\n",
       "      <th></th>\n",
       "    </tr>\n",
       "  </thead>\n",
       "  <tbody>\n",
       "    <tr>\n",
       "      <th>Aparthotel</th>\n",
       "      <th>Hotel room</th>\n",
       "      <td>2</td>\n",
       "      <td>2</td>\n",
       "    </tr>\n",
       "    <tr>\n",
       "      <th>Bed and breakfast</th>\n",
       "      <th>Hotel room</th>\n",
       "      <td>3</td>\n",
       "      <td>3</td>\n",
       "    </tr>\n",
       "    <tr>\n",
       "      <th>Boutique hotel</th>\n",
       "      <th>Hotel room</th>\n",
       "      <td>89</td>\n",
       "      <td>89</td>\n",
       "    </tr>\n",
       "    <tr>\n",
       "      <th>Hostel</th>\n",
       "      <th>Hotel room</th>\n",
       "      <td>7</td>\n",
       "      <td>7</td>\n",
       "    </tr>\n",
       "    <tr>\n",
       "      <th>Hotel</th>\n",
       "      <th>Hotel room</th>\n",
       "      <td>137</td>\n",
       "      <td>137</td>\n",
       "    </tr>\n",
       "    <tr>\n",
       "      <th>Resort</th>\n",
       "      <th>Hotel room</th>\n",
       "      <td>1</td>\n",
       "      <td>1</td>\n",
       "    </tr>\n",
       "    <tr>\n",
       "      <th>Serviced apartment</th>\n",
       "      <th>Hotel room</th>\n",
       "      <td>31</td>\n",
       "      <td>31</td>\n",
       "    </tr>\n",
       "  </tbody>\n",
       "</table>\n",
       "</div>"
      ],
      "text/plain": [
       "                               property_type  room_type\n",
       "property_type      room_type                           \n",
       "Aparthotel         Hotel room  2              2        \n",
       "Bed and breakfast  Hotel room  3              3        \n",
       "Boutique hotel     Hotel room  89             89       \n",
       "Hostel             Hotel room  7              7        \n",
       "Hotel              Hotel room  137            137      \n",
       "Resort             Hotel room  1              1        \n",
       "Serviced apartment Hotel room  31             31       "
      ]
     },
     "execution_count": 40,
     "metadata": {},
     "output_type": "execute_result"
    }
   ],
   "source": [
    "#filt = listings['price'] <2000\n",
    "filt = listings['room_type'] == 'Hotel room'\n",
    "temp = listings[filt]\n",
    "temp.groupby(['property_type', 'room_type'])[['property_type', 'room_type']].count()\n"
   ]
  },
  {
   "cell_type": "code",
   "execution_count": 41,
   "metadata": {},
   "outputs": [
    {
     "data": {
      "text/plain": [
       "<matplotlib.axes._subplots.AxesSubplot at 0x1a2f0ba7b8>"
      ]
     },
     "execution_count": 41,
     "metadata": {},
     "output_type": "execute_result"
    },
    {
     "data": {
      "image/png": "[encoded data removed]",
      "text/plain": [
       "<Figure size 432x288 with 1 Axes>"
      ]
     },
     "metadata": {
      "needs_background": "light"
     },
     "output_type": "display_data"
    }
   ],
   "source": [
    "#see in the graph\n",
    "filt = (listings['price'] < 2000) & (listings['price'] > 0)\n",
    "sns.distplot(listings['price'][filt], rug=True)"
   ]
  },
  {
   "cell_type": "code",
   "execution_count": 42,
   "metadata": {
    "scrolled": true
   },
   "outputs": [
    {
     "data": {
      "text/plain": [
       "<matplotlib.axes._subplots.AxesSubplot at 0x1a2b01b400>"
      ]
     },
     "execution_count": 42,
     "metadata": {},
     "output_type": "execute_result"
    },
    {
     "data": {
      "image/png": "[encoded data removed]",
      "text/plain": [
       "<Figure size 432x288 with 1 Axes>"
      ]
     },
     "metadata": {
      "needs_background": "light"
     },
     "output_type": "display_data"
    }
   ],
   "source": [
    "#see in the graph for all price more than 2000\n",
    "filt = (listings['price'] > 2000) \n",
    "sns.distplot(listings['price'][filt], rug=True)"
   ]
  },
  {
   "cell_type": "code",
   "execution_count": 43,
   "metadata": {},
   "outputs": [
    {
     "data": {
      "text/plain": [
       "28444"
      ]
     },
     "execution_count": 43,
     "metadata": {},
     "output_type": "execute_result"
    }
   ],
   "source": [
    "#dropping records with certain property type, mostly hotels and records with bad price (0 or more than 2000)\n",
    "filt = (~listings['property_type'].isin (['Aparthotel','Bed and breakfast','Boutique hotel',' Hostel', 'Hotel', 'Resort', 'Serviced apartment'])) & (listings['price'] > 0) & (listings['price'] < 2000)\n",
    "\n",
    "#filt = (listings['price'] < 1000) & (listings['price'] > 20)\n",
    "listings['property_type'][filt].count()"
   ]
  },
  {
   "cell_type": "code",
   "execution_count": 44,
   "metadata": {},
   "outputs": [],
   "source": [
    "#new df with \n",
    "listings = listings[filt]"
   ]
  },
  {
   "cell_type": "markdown",
   "metadata": {},
   "source": [
    "# Category conversion\n",
    "Use one hot encoding"
   ]
  },
  {
   "cell_type": "code",
   "execution_count": 45,
   "metadata": {},
   "outputs": [],
   "source": [
    "# Get one hot encoding of column neighbourhood_group_cleansed\n",
    "one_hot_encoding_columns = ['neighbourhood_group_cleansed', 'property_type', 'room_type', 'cancellation_policy', 'bed_type']\n",
    "listings = pd.get_dummies(data=listings, columns=one_hot_encoding_columns)"
   ]
  },
  {
   "cell_type": "markdown",
   "metadata": {},
   "source": [
    "# Boolean conversion\n",
    "Converting the value to 1 and 0 from 't' and 'f'."
   ]
  },
  {
   "cell_type": "code",
   "execution_count": 46,
   "metadata": {},
   "outputs": [],
   "source": [
    "#function to replace\n",
    "def convert_bool(row):\n",
    "    row = row.replace('f', '0')\n",
    "    row = row.replace('t', '1')\n",
    "    return row"
   ]
  },
  {
   "cell_type": "code",
   "execution_count": 47,
   "metadata": {},
   "outputs": [],
   "source": [
    "# #update rows and convert to boo\n",
    "Boolean_columns = ['host_is_superhost', 'is_location_exact', 'instant_bookable', 'host_identity_verified']\n",
    "\n",
    "for column in Boolean_columns:\n",
    "    listings[column] = listings[column].apply(lambda col: convert_bool(col)).astype(int)\n"
   ]
  },
  {
   "cell_type": "markdown",
   "metadata": {},
   "source": [
    "# String conversion\n",
    "Needs to convert to numbers/float"
   ]
  },
  {
   "cell_type": "code",
   "execution_count": 48,
   "metadata": {},
   "outputs": [],
   "source": [
    "#function to replace\n",
    "def convert_string_to_int(row):\n",
    "    row = row.replace('within an hour', '1')\n",
    "    row = row.replace('within a few hours', '2')\n",
    "    row = row.replace('within a day', '3')\n",
    "    row = row.replace('a few days or more', '4')\n",
    "    return row"
   ]
  },
  {
   "cell_type": "code",
   "execution_count": 49,
   "metadata": {},
   "outputs": [],
   "source": [
    "colname = ['host_response_time']\n",
    "\n",
    "listings[colname] = listings[colname].apply(lambda col: convert_string_to_int(col)).astype(float)"
   ]
  },
  {
   "cell_type": "code",
   "execution_count": 50,
   "metadata": {},
   "outputs": [
    {
     "data": {
      "text/plain": [
       "host_response_time\n",
       "1.0    16282\n",
       "2.0    4549 \n",
       "2.5    4067 \n",
       "3.0    2947 \n",
       "4.0    599  \n",
       "Name: host_response_time, dtype: int64"
      ]
     },
     "execution_count": 50,
     "metadata": {},
     "output_type": "execute_result"
    }
   ],
   "source": [
    "listings.groupby('host_response_time')['host_response_time'].count()"
   ]
  },
  {
   "cell_type": "markdown",
   "metadata": {},
   "source": [
    "# Date conversion\n",
    "Convert to date then to ordinal"
   ]
  },
  {
   "cell_type": "code",
   "execution_count": 51,
   "metadata": {},
   "outputs": [],
   "source": [
    "#conver to date first\n",
    "listings['host_since'] = pd.to_datetime(listings['host_since'])\n",
    "\n",
    "listings['host_since'] = listings['host_since'].apply(lambda x: x.toordinal())\n",
    "\n"
   ]
  },
  {
   "cell_type": "code",
   "execution_count": 52,
   "metadata": {},
   "outputs": [
    {
     "data": {
      "text/plain": [
       "1    733294\n",
       "2    733383\n",
       "3    733440\n",
       "5    733441\n",
       "6    733469\n",
       "Name: host_since, dtype: int64"
      ]
     },
     "execution_count": 52,
     "metadata": {},
     "output_type": "execute_result"
    }
   ],
   "source": [
    "listings['host_since'].head()"
   ]
  },
  {
   "cell_type": "code",
   "execution_count": 53,
   "metadata": {},
   "outputs": [
    {
     "data": {
      "text/html": [
       "<div>\n",
       "<style scoped>\n",
       "    .dataframe tbody tr th:only-of-type {\n",
       "        vertical-align: middle;\n",
       "    }\n",
       "\n",
       "    .dataframe tbody tr th {\n",
       "        vertical-align: top;\n",
       "    }\n",
       "\n",
       "    .dataframe thead th {\n",
       "        text-align: right;\n",
       "    }\n",
       "</style>\n",
       "<table border=\"1\" class=\"dataframe\">\n",
       "  <thead>\n",
       "    <tr style=\"text-align: right;\">\n",
       "      <th></th>\n",
       "      <th>id</th>\n",
       "      <th>host_since</th>\n",
       "      <th>host_response_time</th>\n",
       "      <th>host_response_rate</th>\n",
       "      <th>host_acceptance_rate</th>\n",
       "      <th>host_is_superhost</th>\n",
       "      <th>host_listings_count</th>\n",
       "      <th>host_identity_verified</th>\n",
       "      <th>latitude</th>\n",
       "      <th>longitude</th>\n",
       "      <th>is_location_exact</th>\n",
       "      <th>accommodates</th>\n",
       "      <th>bathrooms</th>\n",
       "      <th>bedrooms</th>\n",
       "      <th>beds</th>\n",
       "      <th>price</th>\n",
       "      <th>security_deposit</th>\n",
       "      <th>cleaning_fee</th>\n",
       "      <th>guests_included</th>\n",
       "      <th>extra_people</th>\n",
       "      <th>number_of_reviews</th>\n",
       "      <th>number_of_reviews_ltm</th>\n",
       "      <th>first_review</th>\n",
       "      <th>last_review</th>\n",
       "      <th>review_scores_rating</th>\n",
       "      <th>review_scores_accuracy</th>\n",
       "      <th>review_scores_cleanliness</th>\n",
       "      <th>review_scores_checkin</th>\n",
       "      <th>review_scores_communication</th>\n",
       "      <th>review_scores_location</th>\n",
       "      <th>review_scores_value</th>\n",
       "      <th>instant_bookable</th>\n",
       "      <th>reviews_per_month</th>\n",
       "      <th>last_review_days_ago</th>\n",
       "      <th>host_verifications_ facebook</th>\n",
       "      <th>host_verifications_ google</th>\n",
       "      <th>host_verifications_ government_id</th>\n",
       "      <th>host_verifications_ identity_manual</th>\n",
       "      <th>host_verifications_ jumio</th>\n",
       "      <th>host_verifications_ kba</th>\n",
       "      <th>host_verifications_ manual_offline</th>\n",
       "      <th>host_verifications_ manual_online</th>\n",
       "      <th>host_verifications_ offline_government_id</th>\n",
       "      <th>host_verifications_ phone</th>\n",
       "      <th>host_verifications_ reviews</th>\n",
       "      <th>host_verifications_ selfie</th>\n",
       "      <th>host_verifications_ sent_id</th>\n",
       "      <th>host_verifications_ sesame</th>\n",
       "      <th>host_verifications_ sesame_offline</th>\n",
       "      <th>host_verifications_ weibo</th>\n",
       "      <th>host_verifications_ work_email</th>\n",
       "      <th>host_verifications_ zhima_selfie</th>\n",
       "      <th>host_verifications_email</th>\n",
       "      <th>...</th>\n",
       "      <th>amenities_Window guards</th>\n",
       "      <th>amenities_translation missing: en.hosting_amenity_49</th>\n",
       "      <th>amenities_translation missing: en.hosting_amenity_50</th>\n",
       "      <th>cleaning_fee_yes_no</th>\n",
       "      <th>security_deposit_yes_no</th>\n",
       "      <th>extra_people_yes_no</th>\n",
       "      <th>neighbourhood_group_cleansed_Bronx</th>\n",
       "      <th>neighbourhood_group_cleansed_Brooklyn</th>\n",
       "      <th>neighbourhood_group_cleansed_Manhattan</th>\n",
       "      <th>neighbourhood_group_cleansed_Queens</th>\n",
       "      <th>neighbourhood_group_cleansed_Staten Island</th>\n",
       "      <th>property_type_Apartment</th>\n",
       "      <th>property_type_Barn</th>\n",
       "      <th>property_type_Boat</th>\n",
       "      <th>property_type_Bungalow</th>\n",
       "      <th>property_type_Cabin</th>\n",
       "      <th>property_type_Camper/RV</th>\n",
       "      <th>property_type_Casa particular (Cuba)</th>\n",
       "      <th>property_type_Castle</th>\n",
       "      <th>property_type_Cave</th>\n",
       "      <th>property_type_Condominium</th>\n",
       "      <th>property_type_Cottage</th>\n",
       "      <th>property_type_Earth house</th>\n",
       "      <th>property_type_Guest suite</th>\n",
       "      <th>property_type_Guesthouse</th>\n",
       "      <th>property_type_Hostel</th>\n",
       "      <th>property_type_House</th>\n",
       "      <th>property_type_Houseboat</th>\n",
       "      <th>property_type_Island</th>\n",
       "      <th>property_type_Lighthouse</th>\n",
       "      <th>property_type_Loft</th>\n",
       "      <th>property_type_Other</th>\n",
       "      <th>property_type_Tent</th>\n",
       "      <th>property_type_Tiny house</th>\n",
       "      <th>property_type_Townhouse</th>\n",
       "      <th>property_type_Treehouse</th>\n",
       "      <th>property_type_Villa</th>\n",
       "      <th>property_type_Yurt</th>\n",
       "      <th>room_type_Entire home/apt</th>\n",
       "      <th>room_type_Hotel room</th>\n",
       "      <th>room_type_Private room</th>\n",
       "      <th>room_type_Shared room</th>\n",
       "      <th>cancellation_policy_flexible</th>\n",
       "      <th>cancellation_policy_moderate</th>\n",
       "      <th>cancellation_policy_strict</th>\n",
       "      <th>cancellation_policy_strict_14_with_grace_period</th>\n",
       "      <th>cancellation_policy_super_strict_30</th>\n",
       "      <th>cancellation_policy_super_strict_60</th>\n",
       "      <th>bed_type_Airbed</th>\n",
       "      <th>bed_type_Couch</th>\n",
       "      <th>bed_type_Futon</th>\n",
       "      <th>bed_type_Pull-out Sofa</th>\n",
       "      <th>bed_type_Real Bed</th>\n",
       "    </tr>\n",
       "  </thead>\n",
       "  <tbody>\n",
       "    <tr>\n",
       "      <th>1</th>\n",
       "      <td>2595</td>\n",
       "      <td>733294</td>\n",
       "      <td>3.0</td>\n",
       "      <td>87%</td>\n",
       "      <td>38%</td>\n",
       "      <td>0</td>\n",
       "      <td>6.0</td>\n",
       "      <td>1</td>\n",
       "      <td>40.75362</td>\n",
       "      <td>-73.98377</td>\n",
       "      <td>0</td>\n",
       "      <td>2</td>\n",
       "      <td>1</td>\n",
       "      <td>0</td>\n",
       "      <td>1</td>\n",
       "      <td>225.0</td>\n",
       "      <td>350.0</td>\n",
       "      <td>95.0</td>\n",
       "      <td>1</td>\n",
       "      <td>0.0</td>\n",
       "      <td>48</td>\n",
       "      <td>5</td>\n",
       "      <td>2009-11-21</td>\n",
       "      <td>2019-11-04</td>\n",
       "      <td>94</td>\n",
       "      <td>9</td>\n",
       "      <td>9</td>\n",
       "      <td>10</td>\n",
       "      <td>10</td>\n",
       "      <td>10</td>\n",
       "      <td>9</td>\n",
       "      <td>0</td>\n",
       "      <td>0.38</td>\n",
       "      <td>131.0</td>\n",
       "      <td>0</td>\n",
       "      <td>0</td>\n",
       "      <td>1</td>\n",
       "      <td>1</td>\n",
       "      <td>0</td>\n",
       "      <td>1</td>\n",
       "      <td>0</td>\n",
       "      <td>0</td>\n",
       "      <td>1</td>\n",
       "      <td>1</td>\n",
       "      <td>1</td>\n",
       "      <td>1</td>\n",
       "      <td>0</td>\n",
       "      <td>0</td>\n",
       "      <td>0</td>\n",
       "      <td>0</td>\n",
       "      <td>1</td>\n",
       "      <td>0</td>\n",
       "      <td>1</td>\n",
       "      <td>...</td>\n",
       "      <td>0</td>\n",
       "      <td>0</td>\n",
       "      <td>0</td>\n",
       "      <td>1</td>\n",
       "      <td>1</td>\n",
       "      <td>0</td>\n",
       "      <td>0</td>\n",
       "      <td>0</td>\n",
       "      <td>1</td>\n",
       "      <td>0</td>\n",
       "      <td>0</td>\n",
       "      <td>1</td>\n",
       "      <td>0</td>\n",
       "      <td>0</td>\n",
       "      <td>0</td>\n",
       "      <td>0</td>\n",
       "      <td>0</td>\n",
       "      <td>0</td>\n",
       "      <td>0</td>\n",
       "      <td>0</td>\n",
       "      <td>0</td>\n",
       "      <td>0</td>\n",
       "      <td>0</td>\n",
       "      <td>0</td>\n",
       "      <td>0</td>\n",
       "      <td>0</td>\n",
       "      <td>0</td>\n",
       "      <td>0</td>\n",
       "      <td>0</td>\n",
       "      <td>0</td>\n",
       "      <td>0</td>\n",
       "      <td>0</td>\n",
       "      <td>0</td>\n",
       "      <td>0</td>\n",
       "      <td>0</td>\n",
       "      <td>0</td>\n",
       "      <td>0</td>\n",
       "      <td>0</td>\n",
       "      <td>1</td>\n",
       "      <td>0</td>\n",
       "      <td>0</td>\n",
       "      <td>0</td>\n",
       "      <td>0</td>\n",
       "      <td>0</td>\n",
       "      <td>0</td>\n",
       "      <td>1</td>\n",
       "      <td>0</td>\n",
       "      <td>0</td>\n",
       "      <td>0</td>\n",
       "      <td>0</td>\n",
       "      <td>0</td>\n",
       "      <td>0</td>\n",
       "      <td>1</td>\n",
       "    </tr>\n",
       "  </tbody>\n",
       "</table>\n",
       "<p>1 rows × 255 columns</p>\n",
       "</div>"
      ],
      "text/plain": [
       "     id  host_since  host_response_time host_response_rate  \\\n",
       "1  2595  733294      3.0                 87%                 \n",
       "\n",
       "  host_acceptance_rate  host_is_superhost  host_listings_count  \\\n",
       "1  38%                  0                  6.0                   \n",
       "\n",
       "   host_identity_verified  latitude  longitude  is_location_exact  \\\n",
       "1  1                       40.75362 -73.98377   0                   \n",
       "\n",
       "   accommodates bathrooms bedrooms beds  price  security_deposit  \\\n",
       "1  2             1         0        1    225.0  350.0              \n",
       "\n",
       "   cleaning_fee  guests_included  extra_people  number_of_reviews  \\\n",
       "1  95.0          1                0.0           48                  \n",
       "\n",
       "   number_of_reviews_ltm first_review last_review review_scores_rating  \\\n",
       "1  5                      2009-11-21   2019-11-04  94                    \n",
       "\n",
       "  review_scores_accuracy review_scores_cleanliness review_scores_checkin  \\\n",
       "1  9                      9                         10                     \n",
       "\n",
       "  review_scores_communication review_scores_location review_scores_value  \\\n",
       "1  10                          10                     9                    \n",
       "\n",
       "   instant_bookable  reviews_per_month  last_review_days_ago  \\\n",
       "1  0                 0.38               131.0                  \n",
       "\n",
       "   host_verifications_ facebook  host_verifications_ google  \\\n",
       "1  0                             0                            \n",
       "\n",
       "   host_verifications_ government_id  host_verifications_ identity_manual  \\\n",
       "1  1                                  1                                     \n",
       "\n",
       "   host_verifications_ jumio  host_verifications_ kba  \\\n",
       "1  0                          1                         \n",
       "\n",
       "   host_verifications_ manual_offline  host_verifications_ manual_online  \\\n",
       "1  0                                   0                                   \n",
       "\n",
       "   host_verifications_ offline_government_id  host_verifications_ phone  \\\n",
       "1  1                                          1                           \n",
       "\n",
       "   host_verifications_ reviews  host_verifications_ selfie  \\\n",
       "1  1                            1                            \n",
       "\n",
       "   host_verifications_ sent_id  host_verifications_ sesame  \\\n",
       "1  0                            0                            \n",
       "\n",
       "   host_verifications_ sesame_offline  host_verifications_ weibo  \\\n",
       "1  0                                   0                           \n",
       "\n",
       "   host_verifications_ work_email  host_verifications_ zhima_selfie  \\\n",
       "1  1                               0                                  \n",
       "\n",
       "   host_verifications_email  ...  amenities_Window guards  \\\n",
       "1  1                         ...  0                         \n",
       "\n",
       "   amenities_translation missing: en.hosting_amenity_49  \\\n",
       "1  0                                                      \n",
       "\n",
       "   amenities_translation missing: en.hosting_amenity_50  cleaning_fee_yes_no  \\\n",
       "1  0                                                     1                     \n",
       "\n",
       "   security_deposit_yes_no  extra_people_yes_no  \\\n",
       "1  1                        0                     \n",
       "\n",
       "   neighbourhood_group_cleansed_Bronx  neighbourhood_group_cleansed_Brooklyn  \\\n",
       "1  0                                   0                                       \n",
       "\n",
       "   neighbourhood_group_cleansed_Manhattan  \\\n",
       "1  1                                        \n",
       "\n",
       "   neighbourhood_group_cleansed_Queens  \\\n",
       "1  0                                     \n",
       "\n",
       "   neighbourhood_group_cleansed_Staten Island  property_type_Apartment  \\\n",
       "1  0                                           1                         \n",
       "\n",
       "   property_type_Barn  property_type_Boat  property_type_Bungalow  \\\n",
       "1  0                   0                   0                        \n",
       "\n",
       "   property_type_Cabin  property_type_Camper/RV  \\\n",
       "1  0                    0                         \n",
       "\n",
       "   property_type_Casa particular (Cuba)  property_type_Castle  \\\n",
       "1  0                                     0                      \n",
       "\n",
       "   property_type_Cave  property_type_Condominium  property_type_Cottage  \\\n",
       "1  0                   0                          0                       \n",
       "\n",
       "   property_type_Earth house  property_type_Guest suite  \\\n",
       "1  0                          0                           \n",
       "\n",
       "   property_type_Guesthouse  property_type_Hostel  property_type_House  \\\n",
       "1  0                         0                     0                     \n",
       "\n",
       "   property_type_Houseboat  property_type_Island  property_type_Lighthouse  \\\n",
       "1  0                        0                     0                          \n",
       "\n",
       "   property_type_Loft  property_type_Other  property_type_Tent  \\\n",
       "1  0                   0                    0                    \n",
       "\n",
       "   property_type_Tiny house  property_type_Townhouse  property_type_Treehouse  \\\n",
       "1  0                         0                        0                         \n",
       "\n",
       "   property_type_Villa  property_type_Yurt  room_type_Entire home/apt  \\\n",
       "1  0                    0                   1                           \n",
       "\n",
       "   room_type_Hotel room  room_type_Private room  room_type_Shared room  \\\n",
       "1  0                     0                       0                       \n",
       "\n",
       "   cancellation_policy_flexible  cancellation_policy_moderate  \\\n",
       "1  0                             0                              \n",
       "\n",
       "   cancellation_policy_strict  \\\n",
       "1  0                            \n",
       "\n",
       "   cancellation_policy_strict_14_with_grace_period  \\\n",
       "1  1                                                 \n",
       "\n",
       "   cancellation_policy_super_strict_30  cancellation_policy_super_strict_60  \\\n",
       "1  0                                    0                                     \n",
       "\n",
       "   bed_type_Airbed  bed_type_Couch  bed_type_Futon  bed_type_Pull-out Sofa  \\\n",
       "1  0                0               0               0                        \n",
       "\n",
       "   bed_type_Real Bed  \n",
       "1  1                  \n",
       "\n",
       "[1 rows x 255 columns]"
      ]
     },
     "execution_count": 53,
     "metadata": {},
     "output_type": "execute_result"
    }
   ],
   "source": [
    "listings.head(1)"
   ]
  },
  {
   "cell_type": "code",
   "execution_count": 54,
   "metadata": {},
   "outputs": [
    {
     "data": {
      "text/plain": [
       "array(['id', 'host_since', 'host_response_time', 'host_response_rate',\n",
       "       'host_acceptance_rate', 'host_is_superhost', 'host_listings_count',\n",
       "       'host_identity_verified', 'latitude', 'longitude',\n",
       "       'is_location_exact', 'accommodates', 'bathrooms', 'bedrooms',\n",
       "       'beds', 'price', 'security_deposit', 'cleaning_fee',\n",
       "       'guests_included', 'extra_people', 'number_of_reviews',\n",
       "       'number_of_reviews_ltm', 'first_review', 'last_review',\n",
       "       'review_scores_rating', 'review_scores_accuracy',\n",
       "       'review_scores_cleanliness', 'review_scores_checkin',\n",
       "       'review_scores_communication', 'review_scores_location',\n",
       "       'review_scores_value', 'instant_bookable', 'reviews_per_month',\n",
       "       'last_review_days_ago', 'host_verifications_ facebook',\n",
       "       'host_verifications_ google', 'host_verifications_ government_id',\n",
       "       'host_verifications_ identity_manual', 'host_verifications_ jumio',\n",
       "       'host_verifications_ kba', 'host_verifications_ manual_offline',\n",
       "       'host_verifications_ manual_online',\n",
       "       'host_verifications_ offline_government_id',\n",
       "       'host_verifications_ phone', 'host_verifications_ reviews',\n",
       "       'host_verifications_ selfie', 'host_verifications_ sent_id',\n",
       "       'host_verifications_ sesame', 'host_verifications_ sesame_offline',\n",
       "       'host_verifications_ weibo', 'host_verifications_ work_email',\n",
       "       'host_verifications_ zhima_selfie', 'host_verifications_email',\n",
       "       'host_verifications_facebook', 'host_verifications_jumio',\n",
       "       'host_verifications_offline_government_id',\n",
       "       'host_verifications_phone', 'host_verifications_reviews',\n",
       "       'amenities_ toilet', 'amenities_24-hour check-in',\n",
       "       'amenities_Accessible-height bed',\n",
       "       'amenities_Accessible-height toilet', 'amenities_Air conditioning',\n",
       "       'amenities_Air purifier', 'amenities_BBQ grill',\n",
       "       'amenities_Baby bath', 'amenities_Baby monitor',\n",
       "       'amenities_Babysitter recommendations', 'amenities_Baking sheet',\n",
       "       'amenities_Barbecue utensils', 'amenities_Bath towel',\n",
       "       'amenities_Bathrobes', 'amenities_Bathroom essentials',\n",
       "       'amenities_Bathtub', 'amenities_Bathtub with bath chair',\n",
       "       'amenities_Beach essentials', 'amenities_Beachfront',\n",
       "       'amenities_Bed linens', 'amenities_Bedroom comforts',\n",
       "       'amenities_Bluetooth speaker', 'amenities_Body soap',\n",
       "       'amenities_Bottled water', 'amenities_Bread maker',\n",
       "       'amenities_Breakfast', 'amenities_Building staff',\n",
       "       'amenities_Buzzer/wireless intercom', 'amenities_Cable TV',\n",
       "       'amenities_Carbon monoxide detector', 'amenities_Cat(s)',\n",
       "       'amenities_Changing table', 'amenities_Children’s books and toys',\n",
       "       'amenities_Children’s dinnerware',\n",
       "       'amenities_Cleaning before checkout', 'amenities_Coffee maker',\n",
       "       'amenities_Cooking basics', 'amenities_Crib',\n",
       "       'amenities_Disabled parking spot',\n",
       "       'amenities_Dishes and silverware', 'amenities_Dishwasher',\n",
       "       'amenities_Dog(s)', 'amenities_Doorman', 'amenities_Dryer',\n",
       "       'amenities_EV charger', 'amenities_Electric profiling bed',\n",
       "       'amenities_Elevator', 'amenities_Essentials',\n",
       "       'amenities_Ethernet connection',\n",
       "       'amenities_Extra pillows and blankets',\n",
       "       'amenities_Extra space around bed',\n",
       "       'amenities_Family/kid friendly', 'amenities_Fire extinguisher',\n",
       "       'amenities_Fireplace guards', 'amenities_Firm mattress',\n",
       "       'amenities_First aid kit', 'amenities_Fixed grab bars for shower',\n",
       "       'amenities_Fixed grab bars for toilet',\n",
       "       'amenities_Flat path to guest entrance',\n",
       "       'amenities_Free parking on premises',\n",
       "       'amenities_Free street parking', 'amenities_Full kitchen',\n",
       "       'amenities_Game console', 'amenities_Garden or backyard',\n",
       "       'amenities_Ground floor access', 'amenities_Gym',\n",
       "       'amenities_Hair dryer', 'amenities_Handheld shower head',\n",
       "       'amenities_Hangers', 'amenities_Heating', 'amenities_High chair',\n",
       "       'amenities_Host greets you', 'amenities_Hot tub',\n",
       "       'amenities_Hot water', 'amenities_Hot water kettle',\n",
       "       'amenities_Indoor fireplace', 'amenities_Internet',\n",
       "       'amenities_Iron', 'amenities_Keypad', 'amenities_Kitchen',\n",
       "       'amenities_Kitchenette', 'amenities_Lake access',\n",
       "       'amenities_Laptop friendly workspace',\n",
       "       'amenities_Lock on bedroom door', 'amenities_Lockbox',\n",
       "       'amenities_Long term stays allowed',\n",
       "       'amenities_Luggage dropoff allowed', 'amenities_Microwave',\n",
       "       'amenities_Mini bar', 'amenities_Mini fridge',\n",
       "       'amenities_Mobile hoist', 'amenities_No stairs or steps to enter',\n",
       "       'amenities_Other', 'amenities_Other pet(s)',\n",
       "       'amenities_Outlet covers', 'amenities_Oven',\n",
       "       'amenities_Pack ’n Play/travel crib',\n",
       "       'amenities_Paid parking off premises',\n",
       "       'amenities_Paid parking on premises', 'amenities_Patio or balcony',\n",
       "       'amenities_Pets allowed', 'amenities_Pets live on this property',\n",
       "       'amenities_Pocket wifi', 'amenities_Pool',\n",
       "       'amenities_Private bathroom', 'amenities_Private entrance',\n",
       "       'amenities_Private living room', 'amenities_Record player',\n",
       "       'amenities_Refrigerator', 'amenities_Room-darkening shades',\n",
       "       'amenities_Safe', 'amenities_Safety card',\n",
       "       'amenities_Self check-in', 'amenities_Shampoo',\n",
       "       'amenities_Shower chair', 'amenities_Shower gel',\n",
       "       'amenities_Single level home', 'amenities_Ski-in/Ski-out',\n",
       "       'amenities_Slippers', 'amenities_Smart lock',\n",
       "       'amenities_Smoke detector', 'amenities_Smoking allowed',\n",
       "       'amenities_Snacks', 'amenities_Stair gates',\n",
       "       'amenities_Step-free shower', 'amenities_Stove',\n",
       "       'amenities_Suitable for events', 'amenities_TV',\n",
       "       'amenities_Table corner guards', 'amenities_Toilet paper',\n",
       "       'amenities_Trash can', 'amenities_Turndown service',\n",
       "       'amenities_Washer', 'amenities_Washer/Dryer',\n",
       "       'amenities_Waterfront', 'amenities_Well-lit path to entrance',\n",
       "       'amenities_Wheelchair accessible',\n",
       "       'amenities_Wide clearance to shower',\n",
       "       'amenities_Wide doorway to guest bathroom',\n",
       "       'amenities_Wide entrance', 'amenities_Wide entrance for guests',\n",
       "       'amenities_Wide entryway', 'amenities_Wide hallways',\n",
       "       'amenities_Wifi', 'amenities_Window guards',\n",
       "       'amenities_translation missing: en.hosting_amenity_49',\n",
       "       'amenities_translation missing: en.hosting_amenity_50',\n",
       "       'cleaning_fee_yes_no', 'security_deposit_yes_no',\n",
       "       'extra_people_yes_no', 'neighbourhood_group_cleansed_Bronx',\n",
       "       'neighbourhood_group_cleansed_Brooklyn',\n",
       "       'neighbourhood_group_cleansed_Manhattan',\n",
       "       'neighbourhood_group_cleansed_Queens',\n",
       "       'neighbourhood_group_cleansed_Staten Island',\n",
       "       'property_type_Apartment', 'property_type_Barn',\n",
       "       'property_type_Boat', 'property_type_Bungalow',\n",
       "       'property_type_Cabin', 'property_type_Camper/RV',\n",
       "       'property_type_Casa particular (Cuba)', 'property_type_Castle',\n",
       "       'property_type_Cave', 'property_type_Condominium',\n",
       "       'property_type_Cottage', 'property_type_Earth house',\n",
       "       'property_type_Guest suite', 'property_type_Guesthouse',\n",
       "       'property_type_Hostel', 'property_type_House',\n",
       "       'property_type_Houseboat', 'property_type_Island',\n",
       "       'property_type_Lighthouse', 'property_type_Loft',\n",
       "       'property_type_Other', 'property_type_Tent',\n",
       "       'property_type_Tiny house', 'property_type_Townhouse',\n",
       "       'property_type_Treehouse', 'property_type_Villa',\n",
       "       'property_type_Yurt', 'room_type_Entire home/apt',\n",
       "       'room_type_Hotel room', 'room_type_Private room',\n",
       "       'room_type_Shared room', 'cancellation_policy_flexible',\n",
       "       'cancellation_policy_moderate', 'cancellation_policy_strict',\n",
       "       'cancellation_policy_strict_14_with_grace_period',\n",
       "       'cancellation_policy_super_strict_30',\n",
       "       'cancellation_policy_super_strict_60', 'bed_type_Airbed',\n",
       "       'bed_type_Couch', 'bed_type_Futon', 'bed_type_Pull-out Sofa',\n",
       "       'bed_type_Real Bed'], dtype=object)"
      ]
     },
     "execution_count": 54,
     "metadata": {},
     "output_type": "execute_result"
    }
   ],
   "source": [
    "listings.columns.values"
   ]
  },
  {
   "cell_type": "markdown",
   "metadata": {},
   "source": [
    "# Export to CSV\n",
    "Clean data for model to use"
   ]
  },
  {
   "cell_type": "code",
   "execution_count": 55,
   "metadata": {},
   "outputs": [],
   "source": [
    "#export columns left to csv to be used with second notebook\n",
    "path = '../../data/new-york-city-airbnb-open-data/'\n",
    "\n",
    "listings_csv = os.path.join(path,'model_columns_listings.csv')\n",
    "listings.to_csv(listings_csv)"
   ]
  },
  {
   "cell_type": "code",
   "execution_count": null,
   "metadata": {},
   "outputs": [],
   "source": []
  }
 ],
 "metadata": {
  "kernelspec": {
   "display_name": "Python 3",
   "language": "python",
   "name": "python3"
  },
  "language_info": {
   "codemirror_mode": {
    "name": "ipython",
    "version": 3
   },
   "file_extension": ".py",
   "mimetype": "text/x-python",
   "name": "python",
   "nbconvert_exporter": "python",
   "pygments_lexer": "ipython3",
   "version": "3.7.3-final"
  }
 },
 "nbformat": 4,
 "nbformat_minor": 2
}
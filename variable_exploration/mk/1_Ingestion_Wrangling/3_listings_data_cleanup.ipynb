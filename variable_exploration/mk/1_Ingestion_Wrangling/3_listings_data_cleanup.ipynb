{
 "cells": [
  {
   "cell_type": "markdown",
   "metadata": {},
   "source": [
    "# Getting the Data Ready\n",
    "This notebook is for cleaning up data, generate more columns, change data type, etc.\n"
   ]
  },
  {
   "cell_type": "code",
   "execution_count": 120,
   "metadata": {},
   "outputs": [],
   "source": [
    "import os\n",
    "from datetime import datetime\n",
    "import numpy as np\n",
    "import pandas as pd\n",
    "import matplotlib\n",
    "import matplotlib.pyplot as plt\n",
    "import seaborn as sns\n",
    "from collections import Counter\n",
    "\n",
    "\n",
    "import warnings\n",
    "warnings.filterwarnings('ignore')\n",
    "\n",
    "%matplotlib inline"
   ]
  },
  {
   "cell_type": "code",
   "execution_count": 121,
   "metadata": {},
   "outputs": [],
   "source": [
    "#read data, specify index so it's easier to join and search using loc\n",
    "path = '../../../data/new-york-city-airbnb-open-data/'\n",
    "listings_csv = os.path.join(path,'selected_columns_listings.csv')\n",
    "listings = pd.read_csv(listings_csv)"
   ]
  },
  {
   "cell_type": "code",
   "execution_count": 122,
   "metadata": {},
   "outputs": [],
   "source": [
    "#to get all columns, set option\n",
    "pd.set_option('display.max_columns', 107)\n",
    "#to get text with no truncation\n",
    "pd.set_option('display.max_colwidth', -1)"
   ]
  },
  {
   "cell_type": "code",
   "execution_count": 123,
   "metadata": {},
   "outputs": [
    {
     "output_type": "execute_result",
     "data": {
      "text/plain": "(50796, 40)"
     },
     "metadata": {},
     "execution_count": 123
    }
   ],
   "source": [
    "#shape\n",
    "listings.shape"
   ]
  },
  {
   "cell_type": "code",
   "execution_count": 124,
   "metadata": {},
   "outputs": [
    {
     "output_type": "execute_result",
     "data": {
      "text/plain": "Index(['id', 'host_since', 'host_response_time', 'host_response_rate',\n       'host_acceptance_rate', 'host_is_superhost', 'host_listings_count',\n       'host_verifications', 'host_identity_verified',\n       'neighbourhood_group_cleansed', 'latitude', 'longitude',\n       'is_location_exact', 'property_type', 'room_type', 'accommodates',\n       'bathrooms', 'bedrooms', 'beds', 'bed_type', 'amenities', 'price',\n       'security_deposit', 'cleaning_fee', 'guests_included', 'extra_people',\n       'number_of_reviews', 'number_of_reviews_ltm', 'first_review',\n       'last_review', 'review_scores_rating', 'review_scores_accuracy',\n       'review_scores_cleanliness', 'review_scores_checkin',\n       'review_scores_communication', 'review_scores_location',\n       'review_scores_value', 'instant_bookable', 'cancellation_policy',\n       'reviews_per_month'],\n      dtype='object')"
     },
     "metadata": {},
     "execution_count": 124
    }
   ],
   "source": [
    "listings.columns"
   ]
  },
  {
   "cell_type": "markdown",
   "metadata": {},
   "source": [
    "# Dealing with null values\n",
    "Fill with 0, dropping null, fill with avg"
   ]
  },
  {
   "cell_type": "markdown",
   "metadata": {},
   "source": [
    "## Dropping null rows\n",
    "Dropping na when rec counts as  there are not too many\n"
   ]
  },
  {
   "cell_type": "code",
   "execution_count": 131,
   "metadata": {},
   "outputs": [],
   "source": [
    "Drop_na = ['host_since', 'host_listings_count', 'host_identity_verified', 'host_is_superhost']\n",
    "listings = listings.dropna(subset=Drop_na)\n"
   ]
  },
  {
   "cell_type": "markdown",
   "metadata": {},
   "source": [
    "## Fill null rows with constat value: zero\n",
    " or zero ($0.00) variance"
   ]
  },
  {
   "cell_type": "code",
   "execution_count": 132,
   "metadata": {},
   "outputs": [],
   "source": [
    "#fill with 0\n",
    "Fill_with_zero = ['bathrooms', 'bedrooms', 'beds', 'review_scores_rating', 'review_scores_accuracy',\n",
    "'review_scores_cleanliness', 'review_scores_checkin', 'review_scores_communication', 'review_scores_location', 'review_scores_value', 'reviews_per_month']\n",
    "\n",
    "for column in Fill_with_zero:\n",
    "    listings[column] = listings[column].replace(np.nan, '0')\n"
   ]
  },
  {
   "cell_type": "code",
   "execution_count": 133,
   "metadata": {},
   "outputs": [],
   "source": [
    "#fill with $0.00\n",
    "Fill_with_zero = ['security_deposit', 'cleaning_fee']\n",
    "\n",
    "for column in Fill_with_zero:\n",
    "    listings[column] = listings[column].replace(np.nan, '$0.00')\n",
    "    "
   ]
  },
  {
   "cell_type": "markdown",
   "metadata": {},
   "source": [
    "## Fill with average"
   ]
  },
  {
   "cell_type": "code",
   "execution_count": 134,
   "metadata": {},
   "outputs": [],
   "source": [
    "#host_response_time will be converted to 1,2,3,4. So 2.5 is the middle value\n",
    "listings['host_response_time'] = listings['host_response_time'].replace(np.nan, '2.5')\n",
    "#host_acceptance_rate avg 50%\n",
    "listings['host_acceptance_rate'] = listings['host_acceptance_rate'].replace(np.nan, '50%')\n"
   ]
  },
  {
   "cell_type": "markdown",
   "metadata": {},
   "source": [
    "# Put aside features\n",
    "May add thise features later: 'first_review', 'host_response_rate', 'host_acceptance_rate'\n",
    " "
   ]
  },
  {
   "cell_type": "markdown",
   "metadata": {},
   "source": [
    "# Array data type - reformatting\n",
    "This step is creating multiple boolean columns to be used in the model\n",
    "Thi step is no longer needed, creating too many features and seems useless"
   ]
  },
  {
   "cell_type": "code",
   "execution_count": 166,
   "metadata": {},
   "outputs": [],
   "source": [
    "#function to remove some characters, clean up value\n",
    "def clean_array(row):\n",
    "    row = row.str.replace('[', '')\n",
    "    row = row.str.replace(']', '')\n",
    "    row = row.str.replace('{', '')\n",
    "    row = row.str.replace('}', '')\n",
    "    row = row.str.replace(\"'\", '')\n",
    "    row = row.str.replace('\"', '')\n",
    "    return row"
   ]
  },
  {
   "cell_type": "code",
   "execution_count": 85,
   "metadata": {},
   "outputs": [],
   "source": [
    "#array_columns = ['host_verifications', 'amenities']\n",
    "array_columns = ['host_verifications']\n",
    "#apply function\n",
    "#array_columns_clean = listings[array_columns].apply(lambda col: clean_array(col))\n",
    "array_columns_clean = listings[array_columns].apply(clean_array, axis=1)\n",
    "\n",
    "# Create new columns based on unique value in the array\n",
    "array_bool_columns = []\n",
    "\n",
    "for col in listings[array_columns].columns:\n",
    "    colname = array_columns_clean[col].str.get_dummies(sep=',');\n",
    "    colname = colname.add_prefix(col + '_');\n",
    "    array_bool_columns.append(colname);\n",
    "\n",
    "#add to the listing\n",
    "listings = listings.join(array_bool_columns)\n",
    "\n",
    "#drop original columns\n",
    "listings = listings.drop(array_columns,axis = 1)\n",
    "\n",
    "#print all addtional columns\n",
    "#array_bool_columns"
   ]
  },
  {
   "cell_type": "code",
   "execution_count": 86,
   "metadata": {},
   "outputs": [],
   "source": [
    "#array_columns = ['host_verifications', 'amenities']\n",
    "array_columns = ['amenities']\n",
    "#apply function\n",
    "#array_columns_clean = listings[array_columns].apply(lambda col: clean_array(col))\n",
    "array_columns_clean = listings[array_columns].apply(clean_array, axis=1)\n",
    "\n",
    "\n",
    "# Create new columns based on unique value in the array\n",
    "array_bool_columns = []\n",
    "\n",
    "for col in listings[array_columns].columns:\n",
    "    colname = array_columns_clean[col].str.get_dummies(sep=',');\n",
    "    colname = colname.add_prefix(col + '_');\n",
    "    array_bool_columns.append(colname);\n",
    "\n",
    "#add to the listing\n",
    "listings = listings.join(array_bool_columns)\n",
    "\n",
    "#drop original columns\n",
    "listings = listings.drop(array_columns,axis = 1)\n",
    "\n",
    "#print all addtional columns\n",
    "#array_bool_columns"
   ]
  },
  {
   "cell_type": "markdown",
   "metadata": {},
   "source": [
    "# Currency conversion\n",
    "This will remove dollars sign, comma and then convert to float"
   ]
  },
  {
   "cell_type": "code",
   "execution_count": 136,
   "metadata": {},
   "outputs": [],
   "source": [
    "#function\n",
    "def fix_currency(row):\n",
    "    row = row.replace(',', '')\n",
    "    row = row.replace('$', '')\n",
    "    return row"
   ]
  },
  {
   "cell_type": "code",
   "execution_count": 137,
   "metadata": {},
   "outputs": [],
   "source": [
    "#Currency_columns = ['extra_people', 'price', 'cleaning_fee', 'security_deposit' ]\n",
    "#also convert to float\n",
    "\n",
    "# for col in Currency:\n",
    "#     listings[col] = listings.apply(fix_currency, axis=1)\n",
    "\n",
    "colname = 'extra_people'\n",
    "listings[colname] = listings[colname].apply(lambda col: fix_currency(col)).astype(float)\n",
    "\n",
    "colname = 'price'\n",
    "listings[colname] = listings[colname].apply(lambda col: fix_currency(col)).astype(float)\n",
    "\n",
    "colname = 'cleaning_fee'\n",
    "listings[colname] = listings[colname].apply(lambda col: fix_currency(col)).astype(float)\n",
    "\n",
    "colname = 'security_deposit'\n",
    "listings[colname] = listings[colname].apply(lambda col: fix_currency(col)).astype(float)\n"
   ]
  },
  {
   "cell_type": "code",
   "execution_count": 141,
   "metadata": {},
   "outputs": [],
   "source": [
    "def cleaning_fee_yes_no (row):\n",
    "    if row['cleaning_fee'] > 0.00:\n",
    "        return '1'\n",
    "    else:\n",
    "        return '0'"
   ]
  },
  {
   "cell_type": "code",
   "execution_count": 142,
   "metadata": {},
   "outputs": [],
   "source": [
    "listings['cleaning_fee_yes_no'] = listings.apply(cleaning_fee_yes_no, axis=1)"
   ]
  },
  {
   "cell_type": "code",
   "execution_count": 143,
   "metadata": {},
   "outputs": [
    {
     "output_type": "execute_result",
     "data": {
      "text/plain": "                          price\ncleaning_fee_yes_no            \n0                    201.852941\n1                    146.563659",
      "text/html": "<div>\n<style scoped>\n    .dataframe tbody tr th:only-of-type {\n        vertical-align: middle;\n    }\n\n    .dataframe tbody tr th {\n        vertical-align: top;\n    }\n\n    .dataframe thead th {\n        text-align: right;\n    }\n</style>\n<table border=\"1\" class=\"dataframe\">\n  <thead>\n    <tr style=\"text-align: right;\">\n      <th></th>\n      <th>price</th>\n    </tr>\n    <tr>\n      <th>cleaning_fee_yes_no</th>\n      <th></th>\n    </tr>\n  </thead>\n  <tbody>\n    <tr>\n      <th>0</th>\n      <td>201.852941</td>\n    </tr>\n    <tr>\n      <th>1</th>\n      <td>146.563659</td>\n    </tr>\n  </tbody>\n</table>\n</div>"
     },
     "metadata": {},
     "execution_count": 143
    }
   ],
   "source": [
    "listings.groupby('cleaning_fee_yes_no').agg({'price':'mean'})\n"
   ]
  },
  {
   "cell_type": "code",
   "execution_count": 95,
   "metadata": {},
   "outputs": [],
   "source": [
    "def security_deposit_yes_no (row):\n",
    "    if row['security_deposit'] > 0.00:\n",
    "        return '1'\n",
    "    else:\n",
    "        return '0'"
   ]
  },
  {
   "cell_type": "code",
   "execution_count": 145,
   "metadata": {},
   "outputs": [],
   "source": [
    "listings['security_deposit_yes_no'] = listings.apply(security_deposit_yes_no, axis=1)"
   ]
  },
  {
   "cell_type": "code",
   "execution_count": 146,
   "metadata": {},
   "outputs": [
    {
     "output_type": "execute_result",
     "data": {
      "text/plain": "                              price\nsecurity_deposit_yes_no            \n0                        144.407500\n1                        169.972002",
      "text/html": "<div>\n<style scoped>\n    .dataframe tbody tr th:only-of-type {\n        vertical-align: middle;\n    }\n\n    .dataframe tbody tr th {\n        vertical-align: top;\n    }\n\n    .dataframe thead th {\n        text-align: right;\n    }\n</style>\n<table border=\"1\" class=\"dataframe\">\n  <thead>\n    <tr style=\"text-align: right;\">\n      <th></th>\n      <th>price</th>\n    </tr>\n    <tr>\n      <th>security_deposit_yes_no</th>\n      <th></th>\n    </tr>\n  </thead>\n  <tbody>\n    <tr>\n      <th>0</th>\n      <td>144.407500</td>\n    </tr>\n    <tr>\n      <th>1</th>\n      <td>169.972002</td>\n    </tr>\n  </tbody>\n</table>\n</div>"
     },
     "metadata": {},
     "execution_count": 146
    }
   ],
   "source": [
    "listings.groupby('security_deposit_yes_no').agg({'price':'mean'})"
   ]
  },
  {
   "cell_type": "code",
   "execution_count": 147,
   "metadata": {},
   "outputs": [],
   "source": [
    "def extra_people_yes_no (row):\n",
    "    if row['extra_people'] > 0.00:\n",
    "        return '1'\n",
    "    else:\n",
    "        return '0'"
   ]
  },
  {
   "cell_type": "code",
   "execution_count": 148,
   "metadata": {},
   "outputs": [],
   "source": [
    "listings['extra_people_yes_no'] = listings.apply(extra_people_yes_no, axis=1)"
   ]
  },
  {
   "cell_type": "code",
   "execution_count": 149,
   "metadata": {},
   "outputs": [
    {
     "output_type": "execute_result",
     "data": {
      "text/plain": "                          price\nextra_people_yes_no            \n0                    171.541619\n1                    144.059607",
      "text/html": "<div>\n<style scoped>\n    .dataframe tbody tr th:only-of-type {\n        vertical-align: middle;\n    }\n\n    .dataframe tbody tr th {\n        vertical-align: top;\n    }\n\n    .dataframe thead th {\n        text-align: right;\n    }\n</style>\n<table border=\"1\" class=\"dataframe\">\n  <thead>\n    <tr style=\"text-align: right;\">\n      <th></th>\n      <th>price</th>\n    </tr>\n    <tr>\n      <th>extra_people_yes_no</th>\n      <th></th>\n    </tr>\n  </thead>\n  <tbody>\n    <tr>\n      <th>0</th>\n      <td>171.541619</td>\n    </tr>\n    <tr>\n      <th>1</th>\n      <td>144.059607</td>\n    </tr>\n  </tbody>\n</table>\n</div>"
     },
     "metadata": {},
     "execution_count": 149
    }
   ],
   "source": [
    "listings.groupby('extra_people_yes_no').agg({'price':'mean'})"
   ]
  },
  {
   "cell_type": "code",
   "execution_count": 101,
   "metadata": {},
   "outputs": [
    {
     "output_type": "execute_result",
     "data": {
      "text/plain": "              cleaning_fee  security_deposit        price\naccommodates                                             \n22            270.000000    1000.000000       1569.000000\n20            270.000000    999.000000        1479.000000\n19            240.000000    1000.000000       1369.000000\n16            190.991071    414.017857        683.544643 \n15            185.562500    484.375000        572.125000 \n14            170.230769    341.153846        404.269231 \n13            199.166667    954.166667        773.833333 \n12            179.321839    447.241379        488.264368 \n11            143.615385    449.871795        346.794872 \n10            155.757732    423.597938        484.139175 \n9             137.033708    439.101124        354.359551 \n8             129.448980    323.118738        328.187384 \n7             110.461326    312.538674        267.569061 \n6             103.479580    282.932905        247.035589 \n5             90.506747     292.111694        215.982009 \n4             75.664948     222.674399        180.609536 \n3             59.546247     195.407038        133.914668 \n2             44.639444     136.005394        131.509003 \n1             30.074853     100.601346        70.940286  ",
      "text/html": "<div>\n<style scoped>\n    .dataframe tbody tr th:only-of-type {\n        vertical-align: middle;\n    }\n\n    .dataframe tbody tr th {\n        vertical-align: top;\n    }\n\n    .dataframe thead th {\n        text-align: right;\n    }\n</style>\n<table border=\"1\" class=\"dataframe\">\n  <thead>\n    <tr style=\"text-align: right;\">\n      <th></th>\n      <th>cleaning_fee</th>\n      <th>security_deposit</th>\n      <th>price</th>\n    </tr>\n    <tr>\n      <th>accommodates</th>\n      <th></th>\n      <th></th>\n      <th></th>\n    </tr>\n  </thead>\n  <tbody>\n    <tr>\n      <th>22</th>\n      <td>270.000000</td>\n      <td>1000.000000</td>\n      <td>1569.000000</td>\n    </tr>\n    <tr>\n      <th>20</th>\n      <td>270.000000</td>\n      <td>999.000000</td>\n      <td>1479.000000</td>\n    </tr>\n    <tr>\n      <th>19</th>\n      <td>240.000000</td>\n      <td>1000.000000</td>\n      <td>1369.000000</td>\n    </tr>\n    <tr>\n      <th>16</th>\n      <td>190.991071</td>\n      <td>414.017857</td>\n      <td>683.544643</td>\n    </tr>\n    <tr>\n      <th>15</th>\n      <td>185.562500</td>\n      <td>484.375000</td>\n      <td>572.125000</td>\n    </tr>\n    <tr>\n      <th>14</th>\n      <td>170.230769</td>\n      <td>341.153846</td>\n      <td>404.269231</td>\n    </tr>\n    <tr>\n      <th>13</th>\n      <td>199.166667</td>\n      <td>954.166667</td>\n      <td>773.833333</td>\n    </tr>\n    <tr>\n      <th>12</th>\n      <td>179.321839</td>\n      <td>447.241379</td>\n      <td>488.264368</td>\n    </tr>\n    <tr>\n      <th>11</th>\n      <td>143.615385</td>\n      <td>449.871795</td>\n      <td>346.794872</td>\n    </tr>\n    <tr>\n      <th>10</th>\n      <td>155.757732</td>\n      <td>423.597938</td>\n      <td>484.139175</td>\n    </tr>\n    <tr>\n      <th>9</th>\n      <td>137.033708</td>\n      <td>439.101124</td>\n      <td>354.359551</td>\n    </tr>\n    <tr>\n      <th>8</th>\n      <td>129.448980</td>\n      <td>323.118738</td>\n      <td>328.187384</td>\n    </tr>\n    <tr>\n      <th>7</th>\n      <td>110.461326</td>\n      <td>312.538674</td>\n      <td>267.569061</td>\n    </tr>\n    <tr>\n      <th>6</th>\n      <td>103.479580</td>\n      <td>282.932905</td>\n      <td>247.035589</td>\n    </tr>\n    <tr>\n      <th>5</th>\n      <td>90.506747</td>\n      <td>292.111694</td>\n      <td>215.982009</td>\n    </tr>\n    <tr>\n      <th>4</th>\n      <td>75.664948</td>\n      <td>222.674399</td>\n      <td>180.609536</td>\n    </tr>\n    <tr>\n      <th>3</th>\n      <td>59.546247</td>\n      <td>195.407038</td>\n      <td>133.914668</td>\n    </tr>\n    <tr>\n      <th>2</th>\n      <td>44.639444</td>\n      <td>136.005394</td>\n      <td>131.509003</td>\n    </tr>\n    <tr>\n      <th>1</th>\n      <td>30.074853</td>\n      <td>100.601346</td>\n      <td>70.940286</td>\n    </tr>\n  </tbody>\n</table>\n</div>"
     },
     "metadata": {},
     "execution_count": 101
    }
   ],
   "source": [
    "listings.groupby('accommodates').agg({'cleaning_fee':'mean', 'security_deposit':'mean', 'price':'mean'}).sort_values(by='accommodates',ascending=False)"
   ]
  },
  {
   "cell_type": "code",
   "execution_count": 155,
   "metadata": {},
   "outputs": [
    {
     "output_type": "execute_result",
     "data": {
      "text/plain": "28444"
     },
     "metadata": {},
     "execution_count": 155
    }
   ],
   "source": [
    "#dropping records with certain property type, mostly hotels and records with bad price (0 or more than 2000)\n",
    "filt = (~listings['property_type'].isin (['Aparthotel','Bed and breakfast','Boutique hotel',' Hostel', 'Hotel', 'Resort', 'Serviced apartment'])) & (listings['price'] > 0) & (listings['price'] < 2000)\n",
    "\n",
    "#filt = (listings['price'] < 1000) & (listings['price'] > 20)\n",
    "listings['property_type'][filt].count()"
   ]
  },
  {
   "cell_type": "code",
   "execution_count": 156,
   "metadata": {},
   "outputs": [],
   "source": [
    "#new df with \n",
    "listings = listings[filt]"
   ]
  },
  {
   "cell_type": "markdown",
   "metadata": {},
   "source": [
    "# Category conversion\n",
    "Use one hot encoding"
   ]
  },
  {
   "cell_type": "code",
   "execution_count": 157,
   "metadata": {},
   "outputs": [],
   "source": [
    "# Get one hot encoding of column neighbourhood_group_cleansed\n",
    "one_hot_encoding_columns = ['neighbourhood_group_cleansed', 'property_type', 'room_type', 'cancellation_policy', 'bed_type']\n",
    "listings = pd.get_dummies(data=listings, columns=one_hot_encoding_columns)"
   ]
  },
  {
   "cell_type": "markdown",
   "metadata": {},
   "source": [
    "# Boolean conversion\n",
    "Converting the value to 1 and 0 from 't' and 'f'."
   ]
  },
  {
   "cell_type": "code",
   "execution_count": 158,
   "metadata": {},
   "outputs": [],
   "source": [
    "#function to replace\n",
    "def convert_bool(row):\n",
    "    row = row.replace('f', '0')\n",
    "    row = row.replace('t', '1')\n",
    "    return row"
   ]
  },
  {
   "cell_type": "code",
   "execution_count": 159,
   "metadata": {},
   "outputs": [],
   "source": [
    "# #update rows and convert to boo\n",
    "Boolean_columns = ['host_is_superhost', 'is_location_exact', 'instant_bookable', 'host_identity_verified']\n",
    "\n",
    "for column in Boolean_columns:\n",
    "    listings[column] = listings[column].apply(lambda col: convert_bool(col)).astype(int)\n"
   ]
  },
  {
   "cell_type": "markdown",
   "metadata": {},
   "source": [
    "# String conversion\n",
    "Needs to convert to numbers/float"
   ]
  },
  {
   "cell_type": "code",
   "execution_count": 160,
   "metadata": {},
   "outputs": [],
   "source": [
    "#function to replace\n",
    "def convert_string_to_int(row):\n",
    "    row = row.replace('within an hour', '1')\n",
    "    row = row.replace('within a few hours', '2')\n",
    "    row = row.replace('within a day', '3')\n",
    "    row = row.replace('a few days or more', '4')\n",
    "    return row"
   ]
  },
  {
   "cell_type": "code",
   "execution_count": 161,
   "metadata": {},
   "outputs": [],
   "source": [
    "colname = ['host_response_time']\n",
    "\n",
    "listings[colname] = listings[colname].apply(lambda col: convert_string_to_int(col)).astype(float)"
   ]
  },
  {
   "cell_type": "code",
   "execution_count": 162,
   "metadata": {},
   "outputs": [
    {
     "output_type": "execute_result",
     "data": {
      "text/plain": "host_response_time\n1.0    16282\n2.0    4549 \n2.5    4067 \n3.0    2947 \n4.0    599  \nName: host_response_time, dtype: int64"
     },
     "metadata": {},
     "execution_count": 162
    }
   ],
   "source": [
    "listings.groupby('host_response_time')['host_response_time'].count()"
   ]
  },
  {
   "cell_type": "markdown",
   "metadata": {},
   "source": [
    "# Date conversion\n",
    "Convert to date then to ordinal"
   ]
  },
  {
   "cell_type": "code",
   "execution_count": 163,
   "metadata": {},
   "outputs": [],
   "source": [
    "#conver to date first\n",
    "listings['host_since'] = pd.to_datetime(listings['host_since'])\n",
    "\n",
    "listings['host_since'] = listings['host_since'].apply(lambda x: x.toordinal())\n",
    "\n"
   ]
  },
  {
   "cell_type": "code",
   "execution_count": 164,
   "metadata": {},
   "outputs": [
    {
     "output_type": "execute_result",
     "data": {
      "text/plain": "1    733294\n2    733383\n3    733440\n5    733441\n6    733469\nName: host_since, dtype: int64"
     },
     "metadata": {},
     "execution_count": 164
    }
   ],
   "source": [
    "listings['host_since'].head()"
   ]
  },
  {
   "cell_type": "code",
   "execution_count": 165,
   "metadata": {},
   "outputs": [
    {
     "output_type": "execute_result",
     "data": {
      "text/plain": "     id  host_since  host_response_time host_response_rate  \\\n1  2595  733294      3.0                 87%                 \n\n  host_acceptance_rate  host_is_superhost  host_listings_count  \\\n1  38%                  0                  6.0                   \n\n                                                                                                          host_verifications  \\\n1  ['email', 'phone', 'reviews', 'offline_government_id', 'kba', 'selfie', 'government_id', 'identity_manual', 'work_email']   \n\n   host_identity_verified  latitude  longitude  is_location_exact  \\\n1  1                       40.75362 -73.98377   0                   \n\n   accommodates bathrooms bedrooms beds  \\\n1  2             1         0        1     \n\n                                                                                                                                                                                                                                                                                                                                                                                                                                                                                                                                                              amenities  \\\n1  {TV,Wifi,\"Air conditioning\",Kitchen,\"Paid parking off premises\",\"Free street parking\",Heating,\"Family/kid friendly\",\"Smoke detector\",\"Carbon monoxide detector\",\"Fire extinguisher\",Essentials,\"Lock on bedroom door\",\"Hair dryer\",Iron,\"Laptop friendly workspace\",\"Self check-in\",Keypad,\"Private living room\",Bathtub,\"Hot water\",\"Bed linens\",\"Extra pillows and blankets\",\"Ethernet connection\",\"Coffee maker\",Refrigerator,\"Dishes and silverware\",\"Cooking basics\",Oven,Stove,\"Luggage dropoff allowed\",\"Long term stays allowed\",\"Cleaning before checkout\"}   \n\n   price  security_deposit  cleaning_fee  guests_included  extra_people  \\\n1  225.0  350.0             95.0          1                0.0            \n\n   number_of_reviews  number_of_reviews_ltm first_review last_review  \\\n1  48                 5                      2009-11-21   2019-11-04   \n\n  review_scores_rating review_scores_accuracy review_scores_cleanliness  \\\n1  94                   9                      9                          \n\n  review_scores_checkin review_scores_communication review_scores_location  \\\n1  10                    10                          10                      \n\n  review_scores_value  instant_bookable  reviews_per_month  \\\n1  9                   0                 0.38                \n\n   last_review_days_ago cleaning_fee_yes_no security_deposit_yes_no  \\\n1  131.0                 1                   1                        \n\n  extra_people_yes_no  neighbourhood_group_cleansed_Bronx  \\\n1  0                   0                                    \n\n   neighbourhood_group_cleansed_Brooklyn  \\\n1  0                                       \n\n   neighbourhood_group_cleansed_Manhattan  \\\n1  1                                        \n\n   neighbourhood_group_cleansed_Queens  \\\n1  0                                     \n\n   neighbourhood_group_cleansed_Staten Island  property_type_Apartment  \\\n1  0                                           1                         \n\n   property_type_Barn  property_type_Boat  property_type_Bungalow  \\\n1  0                   0                   0                        \n\n   property_type_Cabin  property_type_Camper/RV  \\\n1  0                    0                         \n\n   property_type_Casa particular (Cuba)  property_type_Castle  \\\n1  0                                     0                      \n\n   property_type_Cave  property_type_Condominium  property_type_Cottage  \\\n1  0                   0                          0                       \n\n   property_type_Earth house  property_type_Guest suite  \\\n1  0                          0                           \n\n   property_type_Guesthouse  property_type_Hostel  property_type_House  \\\n1  0                         0                     0                     \n\n   property_type_Houseboat  property_type_Island  property_type_Lighthouse  \\\n1  0                        0                     0                          \n\n   property_type_Loft  property_type_Other  property_type_Tent  \\\n1  0                   0                    0                    \n\n   property_type_Tiny house  property_type_Townhouse  property_type_Treehouse  \\\n1  0                         0                        0                         \n\n   property_type_Villa  property_type_Yurt  room_type_Entire home/apt  \\\n1  0                    0                   1                           \n\n   room_type_Hotel room  room_type_Private room  room_type_Shared room  \\\n1  0                     0                       0                       \n\n   cancellation_policy_flexible  cancellation_policy_moderate  \\\n1  0                             0                              \n\n   cancellation_policy_strict  \\\n1  0                            \n\n   cancellation_policy_strict_14_with_grace_period  \\\n1  1                                                 \n\n   cancellation_policy_super_strict_30  cancellation_policy_super_strict_60  \\\n1  0                                    0                                     \n\n   bed_type_Airbed  bed_type_Couch  bed_type_Futon  bed_type_Pull-out Sofa  \\\n1  0                0               0               0                        \n\n   bed_type_Real Bed  \n1  1                  ",
      "text/html": "<div>\n<style scoped>\n    .dataframe tbody tr th:only-of-type {\n        vertical-align: middle;\n    }\n\n    .dataframe tbody tr th {\n        vertical-align: top;\n    }\n\n    .dataframe thead th {\n        text-align: right;\n    }\n</style>\n<table border=\"1\" class=\"dataframe\">\n  <thead>\n    <tr style=\"text-align: right;\">\n      <th></th>\n      <th>id</th>\n      <th>host_since</th>\n      <th>host_response_time</th>\n      <th>host_response_rate</th>\n      <th>host_acceptance_rate</th>\n      <th>host_is_superhost</th>\n      <th>host_listings_count</th>\n      <th>host_verifications</th>\n      <th>host_identity_verified</th>\n      <th>latitude</th>\n      <th>longitude</th>\n      <th>is_location_exact</th>\n      <th>accommodates</th>\n      <th>bathrooms</th>\n      <th>bedrooms</th>\n      <th>beds</th>\n      <th>amenities</th>\n      <th>price</th>\n      <th>security_deposit</th>\n      <th>cleaning_fee</th>\n      <th>guests_included</th>\n      <th>extra_people</th>\n      <th>number_of_reviews</th>\n      <th>number_of_reviews_ltm</th>\n      <th>first_review</th>\n      <th>last_review</th>\n      <th>review_scores_rating</th>\n      <th>review_scores_accuracy</th>\n      <th>review_scores_cleanliness</th>\n      <th>review_scores_checkin</th>\n      <th>review_scores_communication</th>\n      <th>review_scores_location</th>\n      <th>review_scores_value</th>\n      <th>instant_bookable</th>\n      <th>reviews_per_month</th>\n      <th>last_review_days_ago</th>\n      <th>cleaning_fee_yes_no</th>\n      <th>security_deposit_yes_no</th>\n      <th>extra_people_yes_no</th>\n      <th>neighbourhood_group_cleansed_Bronx</th>\n      <th>neighbourhood_group_cleansed_Brooklyn</th>\n      <th>neighbourhood_group_cleansed_Manhattan</th>\n      <th>neighbourhood_group_cleansed_Queens</th>\n      <th>neighbourhood_group_cleansed_Staten Island</th>\n      <th>property_type_Apartment</th>\n      <th>property_type_Barn</th>\n      <th>property_type_Boat</th>\n      <th>property_type_Bungalow</th>\n      <th>property_type_Cabin</th>\n      <th>property_type_Camper/RV</th>\n      <th>property_type_Casa particular (Cuba)</th>\n      <th>property_type_Castle</th>\n      <th>property_type_Cave</th>\n      <th>property_type_Condominium</th>\n      <th>property_type_Cottage</th>\n      <th>property_type_Earth house</th>\n      <th>property_type_Guest suite</th>\n      <th>property_type_Guesthouse</th>\n      <th>property_type_Hostel</th>\n      <th>property_type_House</th>\n      <th>property_type_Houseboat</th>\n      <th>property_type_Island</th>\n      <th>property_type_Lighthouse</th>\n      <th>property_type_Loft</th>\n      <th>property_type_Other</th>\n      <th>property_type_Tent</th>\n      <th>property_type_Tiny house</th>\n      <th>property_type_Townhouse</th>\n      <th>property_type_Treehouse</th>\n      <th>property_type_Villa</th>\n      <th>property_type_Yurt</th>\n      <th>room_type_Entire home/apt</th>\n      <th>room_type_Hotel room</th>\n      <th>room_type_Private room</th>\n      <th>room_type_Shared room</th>\n      <th>cancellation_policy_flexible</th>\n      <th>cancellation_policy_moderate</th>\n      <th>cancellation_policy_strict</th>\n      <th>cancellation_policy_strict_14_with_grace_period</th>\n      <th>cancellation_policy_super_strict_30</th>\n      <th>cancellation_policy_super_strict_60</th>\n      <th>bed_type_Airbed</th>\n      <th>bed_type_Couch</th>\n      <th>bed_type_Futon</th>\n      <th>bed_type_Pull-out Sofa</th>\n      <th>bed_type_Real Bed</th>\n    </tr>\n  </thead>\n  <tbody>\n    <tr>\n      <th>1</th>\n      <td>2595</td>\n      <td>733294</td>\n      <td>3.0</td>\n      <td>87%</td>\n      <td>38%</td>\n      <td>0</td>\n      <td>6.0</td>\n      <td>['email', 'phone', 'reviews', 'offline_government_id', 'kba', 'selfie', 'government_id', 'identity_manual', 'work_email']</td>\n      <td>1</td>\n      <td>40.75362</td>\n      <td>-73.98377</td>\n      <td>0</td>\n      <td>2</td>\n      <td>1</td>\n      <td>0</td>\n      <td>1</td>\n      <td>{TV,Wifi,\"Air conditioning\",Kitchen,\"Paid parking off premises\",\"Free street parking\",Heating,\"Family/kid friendly\",\"Smoke detector\",\"Carbon monoxide detector\",\"Fire extinguisher\",Essentials,\"Lock on bedroom door\",\"Hair dryer\",Iron,\"Laptop friendly workspace\",\"Self check-in\",Keypad,\"Private living room\",Bathtub,\"Hot water\",\"Bed linens\",\"Extra pillows and blankets\",\"Ethernet connection\",\"Coffee maker\",Refrigerator,\"Dishes and silverware\",\"Cooking basics\",Oven,Stove,\"Luggage dropoff allowed\",\"Long term stays allowed\",\"Cleaning before checkout\"}</td>\n      <td>225.0</td>\n      <td>350.0</td>\n      <td>95.0</td>\n      <td>1</td>\n      <td>0.0</td>\n      <td>48</td>\n      <td>5</td>\n      <td>2009-11-21</td>\n      <td>2019-11-04</td>\n      <td>94</td>\n      <td>9</td>\n      <td>9</td>\n      <td>10</td>\n      <td>10</td>\n      <td>10</td>\n      <td>9</td>\n      <td>0</td>\n      <td>0.38</td>\n      <td>131.0</td>\n      <td>1</td>\n      <td>1</td>\n      <td>0</td>\n      <td>0</td>\n      <td>0</td>\n      <td>1</td>\n      <td>0</td>\n      <td>0</td>\n      <td>1</td>\n      <td>0</td>\n      <td>0</td>\n      <td>0</td>\n      <td>0</td>\n      <td>0</td>\n      <td>0</td>\n      <td>0</td>\n      <td>0</td>\n      <td>0</td>\n      <td>0</td>\n      <td>0</td>\n      <td>0</td>\n      <td>0</td>\n      <td>0</td>\n      <td>0</td>\n      <td>0</td>\n      <td>0</td>\n      <td>0</td>\n      <td>0</td>\n      <td>0</td>\n      <td>0</td>\n      <td>0</td>\n      <td>0</td>\n      <td>0</td>\n      <td>0</td>\n      <td>0</td>\n      <td>1</td>\n      <td>0</td>\n      <td>0</td>\n      <td>0</td>\n      <td>0</td>\n      <td>0</td>\n      <td>0</td>\n      <td>1</td>\n      <td>0</td>\n      <td>0</td>\n      <td>0</td>\n      <td>0</td>\n      <td>0</td>\n      <td>0</td>\n      <td>1</td>\n    </tr>\n  </tbody>\n</table>\n</div>"
     },
     "metadata": {},
     "execution_count": 165
    }
   ],
   "source": [
    "listings.head(1)"
   ]
  },
  {
   "cell_type": "code",
   "execution_count": 169,
   "metadata": {},
   "outputs": [
    {
     "output_type": "execute_result",
     "data": {
      "text/plain": "array(['id', 'host_since', 'host_response_time', 'host_response_rate',\n       'host_acceptance_rate', 'host_is_superhost', 'host_listings_count',\n       'host_verifications', 'host_identity_verified', 'latitude',\n       'longitude', 'is_location_exact', 'accommodates', 'bathrooms',\n       'bedrooms', 'beds', 'amenities', 'price', 'security_deposit',\n       'cleaning_fee', 'guests_included', 'extra_people',\n       'number_of_reviews', 'number_of_reviews_ltm', 'first_review',\n       'last_review', 'review_scores_rating', 'review_scores_accuracy',\n       'review_scores_cleanliness', 'review_scores_checkin',\n       'review_scores_communication', 'review_scores_location',\n       'review_scores_value', 'instant_bookable', 'reviews_per_month',\n       'last_review_days_ago', 'cleaning_fee_yes_no',\n       'security_deposit_yes_no', 'extra_people_yes_no',\n       'neighbourhood_group_cleansed_Bronx',\n       'neighbourhood_group_cleansed_Brooklyn',\n       'neighbourhood_group_cleansed_Manhattan',\n       'neighbourhood_group_cleansed_Queens',\n       'neighbourhood_group_cleansed_Staten Island',\n       'property_type_Apartment', 'property_type_Barn',\n       'property_type_Boat', 'property_type_Bungalow',\n       'property_type_Cabin', 'property_type_Camper/RV',\n       'property_type_Casa particular (Cuba)', 'property_type_Castle',\n       'property_type_Cave', 'property_type_Condominium',\n       'property_type_Cottage', 'property_type_Earth house',\n       'property_type_Guest suite', 'property_type_Guesthouse',\n       'property_type_Hostel', 'property_type_House',\n       'property_type_Houseboat', 'property_type_Island',\n       'property_type_Lighthouse', 'property_type_Loft',\n       'property_type_Other', 'property_type_Tent',\n       'property_type_Tiny house', 'property_type_Townhouse',\n       'property_type_Treehouse', 'property_type_Villa',\n       'property_type_Yurt', 'room_type_Entire home/apt',\n       'room_type_Hotel room', 'room_type_Private room',\n       'room_type_Shared room', 'cancellation_policy_flexible',\n       'cancellation_policy_moderate', 'cancellation_policy_strict',\n       'cancellation_policy_strict_14_with_grace_period',\n       'cancellation_policy_super_strict_30',\n       'cancellation_policy_super_strict_60', 'bed_type_Airbed',\n       'bed_type_Couch', 'bed_type_Futon', 'bed_type_Pull-out Sofa',\n       'bed_type_Real Bed'], dtype=object)"
     },
     "metadata": {},
     "execution_count": 169
    }
   ],
   "source": [
    "listings.columns.values"
   ]
  },
  {
   "cell_type": "markdown",
   "metadata": {},
   "source": [
    "# Export to CSV\n",
    "Clean data for model to use"
   ]
  },
  {
   "cell_type": "code",
   "execution_count": 170,
   "metadata": {},
   "outputs": [],
   "source": [
    "#export columns left to csv to be used with second notebook\n",
    "path = '../../../data/new-york-city-airbnb-open-data/'\n",
    "\n",
    "listings_csv = os.path.join(path,'model_columns_listings.csv')\n",
    "listings.to_csv(listings_csv)"
   ]
  },
  {
   "cell_type": "code",
   "execution_count": null,
   "metadata": {},
   "outputs": [],
   "source": []
  }
 ],
 "metadata": {
  "kernelspec": {
   "display_name": "Python 3",
   "language": "python",
   "name": "python3"
  },
  "language_info": {
   "codemirror_mode": {
    "name": "ipython",
    "version": 3
   },
   "file_extension": ".py",
   "mimetype": "text/x-python",
   "name": "python",
   "nbconvert_exporter": "python",
   "pygments_lexer": "ipython3",
   "version": "3.7.3-final"
  }
 },
 "nbformat": 4,
 "nbformat_minor": 2
}
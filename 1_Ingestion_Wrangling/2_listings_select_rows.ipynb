{
 "cells": [
  {
   "cell_type": "markdown",
   "metadata": {},
   "source": [
    "# Rows Selections\n",
    "This notebook is for data exploration for each columns\n",
    "and filter rows\n"
   ]
  },
  {
   "cell_type": "code",
   "execution_count": 1,
   "metadata": {},
   "outputs": [],
   "source": [
    "import os\n",
    "from pathlib import Path # added to make the file locations dynamic and usable with Windows #Need to test on MAC\n",
    "from datetime import datetime\n",
    "import numpy as np\n",
    "import pandas as pd\n",
    "import matplotlib\n",
    "import matplotlib.pyplot as plt\n",
    "import seaborn as sns\n",
    "from collections import Counter\n",
    "\n",
    "\n",
    "import warnings\n",
    "warnings.filterwarnings('ignore')\n",
    "\n",
    "%matplotlib inline"
   ]
  },
  {
   "cell_type": "code",
   "execution_count": 2,
   "metadata": {},
   "outputs": [],
   "source": [
    "# created this to find the main Airbnb folder (Windows & Mac compatible)\n",
    "def GoToParentFolder(folder_name):\n",
    "    path = Path(os.getcwd())\n",
    "    path_string = str(path)\n",
    "\n",
    "    while path_string[-len(folder_name):] != folder_name:\n",
    "        path = Path(path.parent)\n",
    "        path_string = str(path)\n",
    "        print(path_string)\n",
    "        \n",
    "    return(str(path))"
   ]
  },
  {
   "cell_type": "code",
   "execution_count": 3,
   "metadata": {},
   "outputs": [
    {
     "name": "stdout",
     "output_type": "stream",
     "text": [
      "C:\\Users\\darie\\Desktop\\Python Practice\\Airbnb-Price-Prediction\n"
     ]
    }
   ],
   "source": [
    "# Change working directory to the data folder\n",
    "airbnb_main_directory = GoToParentFolder('Airbnb-Price-Prediction')\n",
    "\n",
    "data_folder = os.path.join(airbnb_main_directory,'data','new-york-city-airbnb-open-data')"
   ]
  },
  {
   "cell_type": "code",
   "execution_count": 4,
   "metadata": {},
   "outputs": [],
   "source": [
    "#read data, specify index so it's easier to join and search using loc\n",
    "listings_csv = os.path.join(data_folder,'selected_columns_listings.csv')\n",
    "listings = pd.read_csv(listings_csv, index_col = 'id')"
   ]
  },
  {
   "cell_type": "code",
   "execution_count": 5,
   "metadata": {},
   "outputs": [],
   "source": [
    "#to get all columns, set option\n",
    "pd.set_option('display.max_columns', 107)\n",
    "#to get text with no truncation\n",
    "pd.set_option('display.max_colwidth', -1)"
   ]
  },
  {
   "cell_type": "code",
   "execution_count": 6,
   "metadata": {},
   "outputs": [
    {
     "data": {
      "text/plain": [
       "(50796, 37)"
      ]
     },
     "execution_count": 6,
     "metadata": {},
     "output_type": "execute_result"
    }
   ],
   "source": [
    "#shape\n",
    "listings.shape"
   ]
  },
  {
   "cell_type": "code",
   "execution_count": 7,
   "metadata": {},
   "outputs": [
    {
     "data": {
      "text/plain": [
       "Index(['host_since', 'host_response_time', 'host_response_rate',\n",
       "       'host_acceptance_rate', 'host_is_superhost', 'host_listings_count',\n",
       "       'host_verifications', 'host_identity_verified',\n",
       "       'neighbourhood_group_cleansed', 'is_location_exact', 'property_type',\n",
       "       'room_type', 'accommodates', 'bathrooms', 'bedrooms', 'beds',\n",
       "       'bed_type', 'amenities', 'price', 'security_deposit', 'cleaning_fee',\n",
       "       'guests_included', 'extra_people', 'number_of_reviews',\n",
       "       'number_of_reviews_ltm', 'first_review', 'last_review',\n",
       "       'review_scores_rating', 'review_scores_accuracy',\n",
       "       'review_scores_cleanliness', 'review_scores_checkin',\n",
       "       'review_scores_communication', 'review_scores_location',\n",
       "       'review_scores_value', 'instant_bookable', 'cancellation_policy',\n",
       "       'reviews_per_month'],\n",
       "      dtype='object')"
      ]
     },
     "execution_count": 7,
     "metadata": {},
     "output_type": "execute_result"
    }
   ],
   "source": [
    "listings.columns"
   ]
  },
  {
   "cell_type": "code",
   "execution_count": 8,
   "metadata": {},
   "outputs": [
    {
     "data": {
      "text/html": [
       "<div>\n",
       "<style scoped>\n",
       "    .dataframe tbody tr th:only-of-type {\n",
       "        vertical-align: middle;\n",
       "    }\n",
       "\n",
       "    .dataframe tbody tr th {\n",
       "        vertical-align: top;\n",
       "    }\n",
       "\n",
       "    .dataframe thead th {\n",
       "        text-align: right;\n",
       "    }\n",
       "</style>\n",
       "<table border=\"1\" class=\"dataframe\">\n",
       "  <thead>\n",
       "    <tr style=\"text-align: right;\">\n",
       "      <th>id</th>\n",
       "      <th>2060</th>\n",
       "    </tr>\n",
       "  </thead>\n",
       "  <tbody>\n",
       "    <tr>\n",
       "      <th>host_since</th>\n",
       "      <td>2008-08-18</td>\n",
       "    </tr>\n",
       "    <tr>\n",
       "      <th>host_response_time</th>\n",
       "      <td>a few days or more</td>\n",
       "    </tr>\n",
       "    <tr>\n",
       "      <th>host_response_rate</th>\n",
       "      <td>22%</td>\n",
       "    </tr>\n",
       "    <tr>\n",
       "      <th>host_acceptance_rate</th>\n",
       "      <td>50%</td>\n",
       "    </tr>\n",
       "    <tr>\n",
       "      <th>host_is_superhost</th>\n",
       "      <td>f</td>\n",
       "    </tr>\n",
       "    <tr>\n",
       "      <th>host_listings_count</th>\n",
       "      <td>0</td>\n",
       "    </tr>\n",
       "    <tr>\n",
       "      <th>host_verifications</th>\n",
       "      <td>['reviews']</td>\n",
       "    </tr>\n",
       "    <tr>\n",
       "      <th>host_identity_verified</th>\n",
       "      <td>f</td>\n",
       "    </tr>\n",
       "    <tr>\n",
       "      <th>neighbourhood_group_cleansed</th>\n",
       "      <td>Manhattan</td>\n",
       "    </tr>\n",
       "    <tr>\n",
       "      <th>is_location_exact</th>\n",
       "      <td>t</td>\n",
       "    </tr>\n",
       "    <tr>\n",
       "      <th>property_type</th>\n",
       "      <td>Other</td>\n",
       "    </tr>\n",
       "    <tr>\n",
       "      <th>room_type</th>\n",
       "      <td>Private room</td>\n",
       "    </tr>\n",
       "    <tr>\n",
       "      <th>accommodates</th>\n",
       "      <td>2</td>\n",
       "    </tr>\n",
       "    <tr>\n",
       "      <th>bathrooms</th>\n",
       "      <td>NaN</td>\n",
       "    </tr>\n",
       "    <tr>\n",
       "      <th>bedrooms</th>\n",
       "      <td>1</td>\n",
       "    </tr>\n",
       "    <tr>\n",
       "      <th>beds</th>\n",
       "      <td>2</td>\n",
       "    </tr>\n",
       "    <tr>\n",
       "      <th>bed_type</th>\n",
       "      <td>Real Bed</td>\n",
       "    </tr>\n",
       "    <tr>\n",
       "      <th>amenities</th>\n",
       "      <td>{Internet,Wifi}</td>\n",
       "    </tr>\n",
       "    <tr>\n",
       "      <th>price</th>\n",
       "      <td>$100.00</td>\n",
       "    </tr>\n",
       "    <tr>\n",
       "      <th>security_deposit</th>\n",
       "      <td>NaN</td>\n",
       "    </tr>\n",
       "    <tr>\n",
       "      <th>cleaning_fee</th>\n",
       "      <td>NaN</td>\n",
       "    </tr>\n",
       "    <tr>\n",
       "      <th>guests_included</th>\n",
       "      <td>1</td>\n",
       "    </tr>\n",
       "    <tr>\n",
       "      <th>extra_people</th>\n",
       "      <td>$0.00</td>\n",
       "    </tr>\n",
       "    <tr>\n",
       "      <th>number_of_reviews</th>\n",
       "      <td>1</td>\n",
       "    </tr>\n",
       "    <tr>\n",
       "      <th>number_of_reviews_ltm</th>\n",
       "      <td>0</td>\n",
       "    </tr>\n",
       "    <tr>\n",
       "      <th>first_review</th>\n",
       "      <td>2008-09-22</td>\n",
       "    </tr>\n",
       "    <tr>\n",
       "      <th>last_review</th>\n",
       "      <td>2008-09-22</td>\n",
       "    </tr>\n",
       "    <tr>\n",
       "      <th>review_scores_rating</th>\n",
       "      <td>80</td>\n",
       "    </tr>\n",
       "    <tr>\n",
       "      <th>review_scores_accuracy</th>\n",
       "      <td>NaN</td>\n",
       "    </tr>\n",
       "    <tr>\n",
       "      <th>review_scores_cleanliness</th>\n",
       "      <td>NaN</td>\n",
       "    </tr>\n",
       "    <tr>\n",
       "      <th>review_scores_checkin</th>\n",
       "      <td>NaN</td>\n",
       "    </tr>\n",
       "    <tr>\n",
       "      <th>review_scores_communication</th>\n",
       "      <td>NaN</td>\n",
       "    </tr>\n",
       "    <tr>\n",
       "      <th>review_scores_location</th>\n",
       "      <td>NaN</td>\n",
       "    </tr>\n",
       "    <tr>\n",
       "      <th>review_scores_value</th>\n",
       "      <td>NaN</td>\n",
       "    </tr>\n",
       "    <tr>\n",
       "      <th>instant_bookable</th>\n",
       "      <td>f</td>\n",
       "    </tr>\n",
       "    <tr>\n",
       "      <th>cancellation_policy</th>\n",
       "      <td>flexible</td>\n",
       "    </tr>\n",
       "    <tr>\n",
       "      <th>reviews_per_month</th>\n",
       "      <td>0.01</td>\n",
       "    </tr>\n",
       "  </tbody>\n",
       "</table>\n",
       "</div>"
      ],
      "text/plain": [
       "id                                          2060\n",
       "host_since                    2008-08-18        \n",
       "host_response_time            a few days or more\n",
       "host_response_rate            22%               \n",
       "host_acceptance_rate          50%               \n",
       "host_is_superhost             f                 \n",
       "host_listings_count           0                 \n",
       "host_verifications            ['reviews']       \n",
       "host_identity_verified        f                 \n",
       "neighbourhood_group_cleansed  Manhattan         \n",
       "is_location_exact             t                 \n",
       "property_type                 Other             \n",
       "room_type                     Private room      \n",
       "accommodates                  2                 \n",
       "bathrooms                     NaN               \n",
       "bedrooms                      1                 \n",
       "beds                          2                 \n",
       "bed_type                      Real Bed          \n",
       "amenities                     {Internet,Wifi}   \n",
       "price                         $100.00           \n",
       "security_deposit              NaN               \n",
       "cleaning_fee                  NaN               \n",
       "guests_included               1                 \n",
       "extra_people                  $0.00             \n",
       "number_of_reviews             1                 \n",
       "number_of_reviews_ltm         0                 \n",
       "first_review                  2008-09-22        \n",
       "last_review                   2008-09-22        \n",
       "review_scores_rating          80                \n",
       "review_scores_accuracy        NaN               \n",
       "review_scores_cleanliness     NaN               \n",
       "review_scores_checkin         NaN               \n",
       "review_scores_communication   NaN               \n",
       "review_scores_location        NaN               \n",
       "review_scores_value           NaN               \n",
       "instant_bookable              f                 \n",
       "cancellation_policy           flexible          \n",
       "reviews_per_month             0.01              "
      ]
     },
     "execution_count": 8,
     "metadata": {},
     "output_type": "execute_result"
    }
   ],
   "source": [
    "#head\n",
    "listings.head(1).T"
   ]
  },
  {
   "cell_type": "code",
   "execution_count": 9,
   "metadata": {},
   "outputs": [
    {
     "name": "stdout",
     "output_type": "stream",
     "text": [
      "host_response_time\n",
      "a few days or more    1118 \n",
      "within a day          4218 \n",
      "within a few hours    6009 \n",
      "within an hour        20445\n",
      "Name: host_response_time, dtype: int64\n"
     ]
    },
    {
     "data": {
      "text/plain": [
       "<matplotlib.axes._subplots.AxesSubplot at 0x2b92f780b08>"
      ]
     },
     "execution_count": 9,
     "metadata": {},
     "output_type": "execute_result"
    },
    {
     "data": {
      "image/png": "[encoded data removed]",
      "text/plain": [
       "<Figure size 432x288 with 1 Axes>"
      ]
     },
     "metadata": {
      "needs_background": "light"
     },
     "output_type": "display_data"
    }
   ],
   "source": [
    "#host_response_time\n",
    "df = listings.groupby('host_response_time')['host_response_time'].size()\n",
    "print(df)\n",
    "df.plot(kind='bar')\n",
    "\n",
    "#from the data: make two classes, within an hour or more than an hour\n"
   ]
  },
  {
   "cell_type": "code",
   "execution_count": 10,
   "metadata": {},
   "outputs": [
    {
     "name": "stdout",
     "output_type": "stream",
     "text": [
      "host_response_rate\n",
      "100%    22483\n",
      "90%     1293 \n",
      "80%     669  \n",
      "97%     611  \n",
      "0%      581  \n",
      "Name: host_response_rate, dtype: int64\n"
     ]
    },
    {
     "data": {
      "text/plain": [
       "<matplotlib.axes._subplots.AxesSubplot at 0x2b92f88bdc8>"
      ]
     },
     "execution_count": 10,
     "metadata": {},
     "output_type": "execute_result"
    },
    {
     "data": {
      "image/png": "[encoded data removed]",
      "text/plain": [
       "<Figure size 432x288 with 1 Axes>"
      ]
     },
     "metadata": {
      "needs_background": "light"
     },
     "output_type": "display_data"
    }
   ],
   "source": [
    "#host_response_rate\n",
    "\n",
    "df = listings.groupby('host_response_rate')['host_response_rate'].size().sort_values(ascending=False).head(20)\n",
    "print(df.sort_values(ascending=False).head())\n",
    "df.plot(kind='bar')\n",
    "\n",
    "#from the data: looks like majority is 100%, maybe split to 2 classes (100% vs no 100%)"
   ]
  },
  {
   "cell_type": "code",
   "execution_count": 11,
   "metadata": {},
   "outputs": [
    {
     "name": "stdout",
     "output_type": "stream",
     "text": [
      "host_acceptance_rate\n",
      "100%    11510\n",
      "99%     2130 \n",
      "98%     1944 \n",
      "97%     1296 \n",
      "0%      1207 \n",
      "Name: host_acceptance_rate, dtype: int64\n"
     ]
    },
    {
     "data": {
      "text/plain": [
       "<matplotlib.axes._subplots.AxesSubplot at 0x2b92f958bc8>"
      ]
     },
     "execution_count": 11,
     "metadata": {},
     "output_type": "execute_result"
    },
    {
     "data": {
      "image/png": "[encoded data removed]",
      "text/plain": [
       "<Figure size 432x288 with 1 Axes>"
      ]
     },
     "metadata": {
      "needs_background": "light"
     },
     "output_type": "display_data"
    }
   ],
   "source": [
    "#host_acceptance_rate, top 20\n",
    "\n",
    "df = listings.groupby('host_acceptance_rate')['host_acceptance_rate'].size().sort_values(ascending=False).head(20)\n",
    "print(df.head())\n",
    "df.plot(kind='bar')\n",
    "\n",
    "#from the data: looks like majority is 100%, maybe split to 2 classes (100% vs no 100%)"
   ]
  },
  {
   "cell_type": "code",
   "execution_count": 12,
   "metadata": {},
   "outputs": [
    {
     "name": "stdout",
     "output_type": "stream",
     "text": [
      "host_is_superhost\n",
      "f    40852\n",
      "t    9939 \n",
      "Name: host_is_superhost, dtype: int64\n"
     ]
    },
    {
     "data": {
      "text/plain": [
       "<matplotlib.axes._subplots.AxesSubplot at 0x2b92fa08288>"
      ]
     },
     "execution_count": 12,
     "metadata": {},
     "output_type": "execute_result"
    },
    {
     "data": {
      "image/png": "[encoded data removed]",
      "text/plain": [
       "<Figure size 432x288 with 1 Axes>"
      ]
     },
     "metadata": {
      "needs_background": "light"
     },
     "output_type": "display_data"
    }
   ],
   "source": [
    "#host_is_superhost\n",
    "\n",
    "df = listings.groupby('host_is_superhost')['host_is_superhost'].size()\n",
    "print(df.head())\n",
    "df.plot(kind='bar')\n"
   ]
  },
  {
   "cell_type": "code",
   "execution_count": 13,
   "metadata": {},
   "outputs": [
    {
     "name": "stdout",
     "output_type": "stream",
     "text": [
      "host_listings_count\n",
      "1.0    27105\n",
      "2.0    7258 \n",
      "0.0    4706 \n",
      "3.0    3237 \n",
      "4.0    1691 \n",
      "Name: host_listings_count, dtype: int64\n"
     ]
    },
    {
     "data": {
      "text/plain": [
       "<matplotlib.axes._subplots.AxesSubplot at 0x2b92fa8a548>"
      ]
     },
     "execution_count": 13,
     "metadata": {},
     "output_type": "execute_result"
    },
    {
     "data": {
      "image/png": "[encoded data removed]",
      "text/plain": [
       "<Figure size 432x288 with 1 Axes>"
      ]
     },
     "metadata": {
      "needs_background": "light"
     },
     "output_type": "display_data"
    }
   ],
   "source": [
    "#host_listings_count\n",
    "\n",
    "df = listings.groupby('host_listings_count')['host_listings_count'].size().sort_values(ascending=False).head(20)\n",
    "print(df.head())\n",
    "df.plot(kind='bar')\n",
    "\n",
    "#mostly one, may create couple classes, 1 and more than 1"
   ]
  },
  {
   "cell_type": "code",
   "execution_count": 14,
   "metadata": {},
   "outputs": [
    {
     "name": "stdout",
     "output_type": "stream",
     "text": [
      "host_verifications\n",
      "['email', 'phone', 'reviews', 'kba']                                                         4398\n",
      "['email', 'phone', 'reviews', 'jumio', 'government_id']                                      4167\n",
      "['email', 'phone']                                                                           3964\n",
      "['email', 'phone', 'offline_government_id', 'selfie', 'government_id', 'identity_manual']    3083\n",
      "['email', 'phone', 'reviews']                                                                2417\n",
      "Name: host_verifications, dtype: int64\n"
     ]
    },
    {
     "data": {
      "text/plain": [
       "<matplotlib.axes._subplots.AxesSubplot at 0x2b92fb33f88>"
      ]
     },
     "execution_count": 14,
     "metadata": {},
     "output_type": "execute_result"
    },
    {
     "data": {
      "image/png": "[encoded data removed]",
      "text/plain": [
       "<Figure size 432x288 with 1 Axes>"
      ]
     },
     "metadata": {
      "needs_background": "light"
     },
     "output_type": "display_data"
    }
   ],
   "source": [
    "#host_verifications\n",
    "\n",
    "df = listings.groupby('host_verifications')['host_verifications'].size().sort_values(ascending=False).head(5)\n",
    "print(df.head())\n",
    "df.plot.barh()\n",
    "\n",
    "# we have host verified column, this is redundant"
   ]
  },
  {
   "cell_type": "code",
   "execution_count": 15,
   "metadata": {},
   "outputs": [
    {
     "data": {
      "text/plain": [
       "[('phone', 50628),\n",
       " ('email', 47312),\n",
       " ('reviews', 34126),\n",
       " ('government_id', 32313),\n",
       " ('offline_government_id', 22301),\n",
       " ('jumio', 21672),\n",
       " ('selfie', 14902),\n",
       " ('identity_manual', 13299),\n",
       " ('kba', 11292),\n",
       " ('facebook', 10524)]"
      ]
     },
     "execution_count": 15,
     "metadata": {},
     "output_type": "execute_result"
    }
   ],
   "source": [
    "#convert values of host_verifications to list\n",
    "host_verifications = listings['host_verifications'].values.tolist()\n",
    "\n",
    "#host verivication split and add to list\n",
    "host_verification_all = []\n",
    "\n",
    "for row in host_verifications:\n",
    "    row_clean = row.replace('[','').replace(']','')\n",
    "    methods = row_clean.split(',')\n",
    "    for method in methods:\n",
    "        method_clean = method.replace(\"'\",\"\").strip()\n",
    "        host_verification_all.append(method_clean)\n",
    "\n",
    "Counter(host_verification_all).most_common(10)"
   ]
  },
  {
   "cell_type": "code",
   "execution_count": 16,
   "metadata": {},
   "outputs": [
    {
     "name": "stdout",
     "output_type": "stream",
     "text": [
      "host_identity_verified\n",
      "f    28296\n",
      "t    22495\n",
      "Name: host_verifications, dtype: int64\n"
     ]
    },
    {
     "data": {
      "text/plain": [
       "<matplotlib.axes._subplots.AxesSubplot at 0x2b92fb92808>"
      ]
     },
     "execution_count": 16,
     "metadata": {},
     "output_type": "execute_result"
    },
    {
     "data": {
      "image/png": "[encoded data removed]",
      "text/plain": [
       "<Figure size 432x288 with 1 Axes>"
      ]
     },
     "metadata": {
      "needs_background": "light"
     },
     "output_type": "display_data"
    }
   ],
   "source": [
    "#host_identity_verified\n",
    "df = listings.groupby('host_identity_verified')['host_verifications'].size()\n",
    "print(df.head())\n",
    "df.plot(kind='bar')"
   ]
  },
  {
   "cell_type": "code",
   "execution_count": 17,
   "metadata": {},
   "outputs": [
    {
     "name": "stdout",
     "output_type": "stream",
     "text": [
      "neighbourhood_group_cleansed\n",
      "Bronx            1249 \n",
      "Brooklyn         20455\n",
      "Manhattan        22448\n",
      "Queens           6266 \n",
      "Staten Island    378  \n",
      "Name: neighbourhood_group_cleansed, dtype: int64\n"
     ]
    },
    {
     "data": {
      "text/plain": [
       "<matplotlib.axes._subplots.AxesSubplot at 0x2b93128a908>"
      ]
     },
     "execution_count": 17,
     "metadata": {},
     "output_type": "execute_result"
    },
    {
     "data": {
      "image/png": "[encoded data removed]",
      "text/plain": [
       "<Figure size 432x288 with 1 Axes>"
      ]
     },
     "metadata": {
      "needs_background": "light"
     },
     "output_type": "display_data"
    }
   ],
   "source": [
    "#neighbourhood_group_cleansed\n",
    "df = listings.groupby('neighbourhood_group_cleansed')['neighbourhood_group_cleansed'].size()\n",
    "print(df.head())\n",
    "df.plot.barh()"
   ]
  },
  {
   "cell_type": "code",
   "execution_count": 18,
   "metadata": {},
   "outputs": [],
   "source": [
    "# possible removal: 'latitude', 'longitude'"
   ]
  },
  {
   "cell_type": "code",
   "execution_count": 19,
   "metadata": {},
   "outputs": [
    {
     "name": "stdout",
     "output_type": "stream",
     "text": [
      "is_location_exact\n",
      "f    8813 \n",
      "t    41983\n",
      "Name: is_location_exact, dtype: int64\n"
     ]
    },
    {
     "data": {
      "text/plain": [
       "<matplotlib.axes._subplots.AxesSubplot at 0x2b9312956c8>"
      ]
     },
     "execution_count": 19,
     "metadata": {},
     "output_type": "execute_result"
    },
    {
     "data": {
      "image/png": "[encoded data removed]",
      "text/plain": [
       "<Figure size 432x288 with 1 Axes>"
      ]
     },
     "metadata": {
      "needs_background": "light"
     },
     "output_type": "display_data"
    }
   ],
   "source": [
    "# is_location_exact\n",
    "df = listings.groupby('is_location_exact')['is_location_exact'].size()\n",
    "print(df.head())\n",
    "df.plot(kind='bar')"
   ]
  },
  {
   "cell_type": "code",
   "execution_count": 20,
   "metadata": {},
   "outputs": [
    {
     "name": "stdout",
     "output_type": "stream",
     "text": [
      "property_type\n",
      "Aparthotel           17   \n",
      "Apartment            39637\n",
      "Barn                 2    \n",
      "Bed and breakfast    51   \n",
      "Boat                 8    \n",
      "Name: property_type, dtype: int64\n"
     ]
    },
    {
     "data": {
      "text/plain": [
       "<matplotlib.axes._subplots.AxesSubplot at 0x2b9313264c8>"
      ]
     },
     "execution_count": 20,
     "metadata": {},
     "output_type": "execute_result"
    },
    {
     "data": {
      "image/png": "[encoded data removed]",
      "text/plain": [
       "<Figure size 432x288 with 1 Axes>"
      ]
     },
     "metadata": {
      "needs_background": "light"
     },
     "output_type": "display_data"
    }
   ],
   "source": [
    "#property_type\n",
    "df = listings.groupby('property_type')['property_type'].size()\n",
    "print(df.head())\n",
    "df.plot.barh()\n",
    "#looks like mostly apartment, maybe we shouldn't use it, or split to apt vs non apt"
   ]
  },
  {
   "cell_type": "code",
   "execution_count": 21,
   "metadata": {},
   "outputs": [
    {
     "name": "stdout",
     "output_type": "stream",
     "text": [
      "room_type\n",
      "Entire home/apt    26274\n",
      "Hotel room         402  \n",
      "Private room       22895\n",
      "Shared room        1225 \n",
      "Name: room_type, dtype: int64\n"
     ]
    },
    {
     "data": {
      "text/plain": [
       "<matplotlib.axes._subplots.AxesSubplot at 0x2b931484948>"
      ]
     },
     "execution_count": 21,
     "metadata": {},
     "output_type": "execute_result"
    },
    {
     "data": {
      "image/png": "[encoded data removed]",
      "text/plain": [
       "<Figure size 432x288 with 1 Axes>"
      ]
     },
     "metadata": {
      "needs_background": "light"
     },
     "output_type": "display_data"
    }
   ],
   "source": [
    "# room_type\n",
    "df = listings.groupby('room_type')['room_type'].size()\n",
    "print(df.head())\n",
    "df.plot.barh()"
   ]
  },
  {
   "cell_type": "code",
   "execution_count": 22,
   "metadata": {},
   "outputs": [
    {
     "name": "stdout",
     "output_type": "stream",
     "text": [
      "accommodates\n",
      "1    7655 \n",
      "2    23351\n",
      "3    5504 \n",
      "4    7754 \n",
      "5    2050 \n",
      "Name: accommodates, dtype: int64\n"
     ]
    },
    {
     "data": {
      "text/plain": [
       "<matplotlib.axes._subplots.AxesSubplot at 0x2b9314e7148>"
      ]
     },
     "execution_count": 22,
     "metadata": {},
     "output_type": "execute_result"
    },
    {
     "data": {
      "image/png": "[encoded data removed]",
      "text/plain": [
       "<Figure size 432x288 with 1 Axes>"
      ]
     },
     "metadata": {
      "needs_background": "light"
     },
     "output_type": "display_data"
    }
   ],
   "source": [
    "#accommodates\n",
    "df = listings.groupby('accommodates')['accommodates'].size()\n",
    "print(df.head())\n",
    "df.plot(kind='bar')"
   ]
  },
  {
   "cell_type": "code",
   "execution_count": 23,
   "metadata": {},
   "outputs": [
    {
     "name": "stdout",
     "output_type": "stream",
     "text": [
      "0.0\n",
      "15.5\n"
     ]
    },
    {
     "data": {
      "image/png": "[encoded data removed]",
      "text/plain": [
       "<Figure size 432x288 with 1 Axes>"
      ]
     },
     "metadata": {
      "needs_background": "light"
     },
     "output_type": "display_data"
    }
   ],
   "source": [
    "#bathrooms\n",
    "\n",
    "column = 'bathrooms'\n",
    "\n",
    "print(listings['bathrooms'].min())\n",
    "print(listings['bathrooms'].max())\n",
    "\n",
    "#data is from listings df\n",
    "number_of_x = listings['bathrooms']\n",
    "mean = listings['bathrooms'].mean()\n",
    "median = listings['bathrooms'].median()\n",
    "\n",
    "bins =  [0,1,2,3,4,5,6, 21]\n",
    "plt.hist(number_of_x, bins=bins, edgecolor='black', log=True)\n",
    "plt.axvline(mean, color='black', label='Mean')\n",
    "plt.axvline(median, color='red', label='Median')\n",
    "\n",
    "plt.style.use('fivethirtyeight')\n",
    "plt.title('Number of {}'.format(column))\n",
    "plt.xlabel('# of {}'.format(column))\n",
    "plt.ylabel('# of listings')\n",
    "plt.grid()\n",
    "plt.tight_layout()\n",
    "plt.legend()\n",
    "plt.show()"
   ]
  },
  {
   "cell_type": "code",
   "execution_count": 24,
   "metadata": {},
   "outputs": [
    {
     "name": "stdout",
     "output_type": "stream",
     "text": [
      "0.0\n",
      "21.0\n"
     ]
    },
    {
     "data": {
      "image/png": "[encoded data removed]",
      "text/plain": [
       "<Figure size 432x288 with 1 Axes>"
      ]
     },
     "metadata": {},
     "output_type": "display_data"
    }
   ],
   "source": [
    "#bedrooms\n",
    "\n",
    "column = 'bedrooms'\n",
    "\n",
    "print(listings['bedrooms'].min())\n",
    "print(listings['bedrooms'].max())\n",
    "\n",
    "#data is from listings df\n",
    "number_of_x = listings['bedrooms']\n",
    "mean = listings['bedrooms'].mean()\n",
    "median = listings['bedrooms'].median()\n",
    "\n",
    "bins =  [0,1,2,3,4,5,6, 21]\n",
    "plt.hist(number_of_x, bins=bins, edgecolor='black', log=True)\n",
    "plt.axvline(mean, color='black', label='Mean')\n",
    "plt.axvline(median, color='red', label='Median')\n",
    "\n",
    "plt.style.use('fivethirtyeight')\n",
    "plt.title('Number of {}'.format(column))\n",
    "plt.xlabel('# of {}'.format(column))\n",
    "plt.ylabel('# of listings')\n",
    "plt.grid()\n",
    "plt.tight_layout()\n",
    "plt.legend()\n",
    "plt.show()"
   ]
  },
  {
   "cell_type": "code",
   "execution_count": 25,
   "metadata": {},
   "outputs": [
    {
     "name": "stdout",
     "output_type": "stream",
     "text": [
      "correlation = 0.4375720203625638\n"
     ]
    },
    {
     "data": {
      "image/png": "[encoded data removed]",
      "text/plain": [
       "<Figure size 432x288 with 1 Axes>"
      ]
     },
     "metadata": {},
     "output_type": "display_data"
    }
   ],
   "source": [
    "#bed bath and beyond\n",
    "bed = listings['bedrooms']\n",
    "bath = listings['bathrooms']\n",
    "\n",
    "print('correlation = {}'.format(bed.corr(bath)))\n",
    "\n",
    "#chart\n",
    "plt.scatter(bed, bath)\n",
    "plt.xlabel('# of bedrooms')\n",
    "plt.ylabel('# of bathrooms')\n",
    "plt.show()\n",
    "\n",
    "#.43 correlation, leave it?"
   ]
  },
  {
   "cell_type": "code",
   "execution_count": 26,
   "metadata": {},
   "outputs": [
    {
     "name": "stdout",
     "output_type": "stream",
     "text": [
      "beds\n",
      "0.0    1689 \n",
      "1.0    31361\n",
      "2.0    10724\n",
      "3.0    3763 \n",
      "4.0    1641 \n",
      "Name: beds, dtype: int64\n"
     ]
    },
    {
     "data": {
      "text/plain": [
       "<matplotlib.axes._subplots.AxesSubplot at 0x2b9319a0088>"
      ]
     },
     "execution_count": 26,
     "metadata": {},
     "output_type": "execute_result"
    },
    {
     "data": {
      "image/png": "[encoded data removed]",
      "text/plain": [
       "<Figure size 432x288 with 1 Axes>"
      ]
     },
     "metadata": {},
     "output_type": "display_data"
    }
   ],
   "source": [
    "#beds\n",
    "df = listings.groupby('beds')['beds'].size()\n",
    "print(df.head())\n",
    "df.plot(kind='bar')\n",
    "#majority has 1 or 2."
   ]
  },
  {
   "cell_type": "code",
   "execution_count": 27,
   "metadata": {},
   "outputs": [
    {
     "name": "stdout",
     "output_type": "stream",
     "text": [
      "correlation = 0.6629695023660255\n"
     ]
    },
    {
     "data": {
      "image/png": "[encoded data removed]",
      "text/plain": [
       "<Figure size 432x288 with 1 Axes>"
      ]
     },
     "metadata": {},
     "output_type": "display_data"
    }
   ],
   "source": [
    "#beds and bedrooms relationship\n",
    "room = listings['bedrooms']\n",
    "bed = listings['beds']\n",
    "\n",
    "print('correlation = {}'.format(bed.corr(room)))\n",
    "\n",
    "#chart\n",
    "plt.scatter(room, bed)\n",
    "plt.xlabel('# of bedrooms')\n",
    "plt.ylabel('# of beds')\n",
    "plt.show()\n",
    "\n",
    "#remove beds maybe?, 0.62 correlation, or no?\n"
   ]
  },
  {
   "cell_type": "code",
   "execution_count": 28,
   "metadata": {},
   "outputs": [
    {
     "name": "stdout",
     "output_type": "stream",
     "text": [
      "bed_type\n",
      "Airbed           153  \n",
      "Couch            65   \n",
      "Futon            271  \n",
      "Pull-out Sofa    224  \n",
      "Real Bed         50083\n",
      "Name: bed_type, dtype: int64\n"
     ]
    },
    {
     "data": {
      "text/plain": [
       "<matplotlib.axes._subplots.AxesSubplot at 0x2b931b2bcc8>"
      ]
     },
     "execution_count": 28,
     "metadata": {},
     "output_type": "execute_result"
    },
    {
     "data": {
      "image/png": "[encoded data removed]",
      "text/plain": [
       "<Figure size 432x288 with 1 Axes>"
      ]
     },
     "metadata": {},
     "output_type": "display_data"
    }
   ],
   "source": [
    "# bed_type\n",
    "df = listings.groupby('bed_type')['bed_type'].size()\n",
    "print(df.head())\n",
    "df.plot.barh()\n",
    "#Majority is real bed, split to real bed vs no"
   ]
  },
  {
   "cell_type": "code",
   "execution_count": 29,
   "metadata": {},
   "outputs": [
    {
     "data": {
      "text/plain": [
       "[('Wifi', 49527),\n",
       " ('Heating', 47857),\n",
       " ('Essentials', 46994),\n",
       " ('Kitchen', 46237),\n",
       " ('Smoke detector', 44426)]"
      ]
     },
     "execution_count": 29,
     "metadata": {},
     "output_type": "execute_result"
    }
   ],
   "source": [
    "#amenities\n",
    "#convert values of amenities to list\n",
    "amenities = listings['amenities'].values.tolist()\n",
    "\n",
    "#amenities split and add to list\n",
    "amenities_all = []\n",
    "\n",
    "for row in amenities:\n",
    "    row_string = str(row)\n",
    "    row_string_clean = row_string.replace('{','').replace('}','')\n",
    "    amenities_rows = row_string_clean.split(',')\n",
    "    for row in amenities_rows:\n",
    "        row_clean = row.replace('\"','')\n",
    "        amenities_all.append(row_clean)\n",
    "\n",
    "Counter(amenities_all).most_common(5)\n",
    "#Make another column that counts how many amenities per listing"
   ]
  },
  {
   "cell_type": "code",
   "execution_count": 30,
   "metadata": {},
   "outputs": [
    {
     "name": "stdout",
     "output_type": "stream",
     "text": [
      "guests_included\n",
      "1    36595\n",
      "2    9207 \n",
      "3    1270 \n",
      "4    2402 \n",
      "5    414  \n",
      "Name: guests_included, dtype: int64\n"
     ]
    },
    {
     "data": {
      "text/plain": [
       "<matplotlib.axes._subplots.AxesSubplot at 0x2b93ac6f608>"
      ]
     },
     "execution_count": 30,
     "metadata": {},
     "output_type": "execute_result"
    },
    {
     "data": {
      "image/png": "[encoded data removed]",
      "text/plain": [
       "<Figure size 432x288 with 1 Axes>"
      ]
     },
     "metadata": {},
     "output_type": "display_data"
    }
   ],
   "source": [
    "# guests_included\n",
    "df = listings.groupby('guests_included')['guests_included'].size()\n",
    "print(df.head())\n",
    "df.plot(kind='bar')\n",
    "#majority 1, maybe split into 2 classes?"
   ]
  },
  {
   "cell_type": "code",
   "execution_count": 31,
   "metadata": {},
   "outputs": [
    {
     "name": "stdout",
     "output_type": "stream",
     "text": [
      "instant_bookable\n",
      "f    31622\n",
      "t    19174\n",
      "Name: instant_bookable, dtype: int64\n"
     ]
    },
    {
     "data": {
      "text/plain": [
       "<matplotlib.axes._subplots.AxesSubplot at 0x2b93ad232c8>"
      ]
     },
     "execution_count": 31,
     "metadata": {},
     "output_type": "execute_result"
    },
    {
     "data": {
      "image/png": "[encoded data removed]",
      "text/plain": [
       "<Figure size 432x288 with 1 Axes>"
      ]
     },
     "metadata": {},
     "output_type": "display_data"
    }
   ],
   "source": [
    "# instant_bookable\n",
    "df = listings.groupby('instant_bookable')['instant_bookable'].size()\n",
    "print(df.head())\n",
    "df.plot(kind='bar')\n"
   ]
  },
  {
   "cell_type": "code",
   "execution_count": 32,
   "metadata": {},
   "outputs": [
    {
     "name": "stdout",
     "output_type": "stream",
     "text": [
      "cancellation_policy\n",
      "flexible                       15461\n",
      "moderate                       11871\n",
      "strict                         62   \n",
      "strict_14_with_grace_period    23285\n",
      "super_strict_30                25   \n",
      "Name: cancellation_policy, dtype: int64\n"
     ]
    },
    {
     "data": {
      "text/plain": [
       "<matplotlib.axes._subplots.AxesSubplot at 0x2b93ad87248>"
      ]
     },
     "execution_count": 32,
     "metadata": {},
     "output_type": "execute_result"
    },
    {
     "data": {
      "image/png": "[encoded data removed]",
      "text/plain": [
       "<Figure size 432x288 with 1 Axes>"
      ]
     },
     "metadata": {},
     "output_type": "display_data"
    }
   ],
   "source": [
    "#cancellation_policy\n",
    "df = listings.groupby('cancellation_policy')['cancellation_policy'].size()\n",
    "print(df.head())\n",
    "df.plot.barh()\n",
    "\n",
    "#let's do 3 classes (flexible, moderate, and strict)"
   ]
  },
  {
   "cell_type": "code",
   "execution_count": 33,
   "metadata": {},
   "outputs": [],
   "source": [
    "#Currency related\n",
    "#fill with $0.00\n",
    "Fill_with_zero = ['security_deposit', 'cleaning_fee']\n",
    "\n",
    "for column in Fill_with_zero:\n",
    "    listings[column] = listings[column].replace(np.nan, '$0.00')"
   ]
  },
  {
   "cell_type": "code",
   "execution_count": 34,
   "metadata": {},
   "outputs": [],
   "source": [
    "#all dollars fields\n",
    "#function\n",
    "def fix_currency(row):\n",
    "    row = row.replace(',', '')\n",
    "    row = row.replace('$', '')\n",
    "    return row\n",
    "\n",
    "# #update rows and convert to boolean, only non null values\n",
    "Currency_columns = ['extra_people', 'cleaning_fee', 'security_deposit', 'price']\n",
    "\n",
    "for column in Currency_columns:\n",
    "    filt = listings[column].notna()\n",
    "    listings[column] = listings[column][filt].apply(lambda col: fix_currency(col)).astype(float)\n"
   ]
  },
  {
   "cell_type": "code",
   "execution_count": 35,
   "metadata": {},
   "outputs": [
    {
     "data": {
      "image/png": "[encoded data removed]",
      "text/plain": [
       "<Figure size 432x288 with 1 Axes>"
      ]
     },
     "metadata": {},
     "output_type": "display_data"
    }
   ],
   "source": [
    "#extra_people\n",
    "df = listings['extra_people']\n",
    "bins =  [0,10,20,30,50,100]\n",
    "mean = df.mean()\n",
    "median = df.median()\n",
    "\n",
    "plt.hist(df, bins=bins, edgecolor='black', log=True)\n",
    "plt.axvline(mean, color='black', label='Mean')\n",
    "plt.axvline(median, color='red', label='Median')\n",
    "\n",
    "plt.legend()\n",
    "plt.show()\n",
    "#seems ok the way it is"
   ]
  },
  {
   "cell_type": "code",
   "execution_count": 36,
   "metadata": {},
   "outputs": [
    {
     "data": {
      "image/png": "[encoded data removed]",
      "text/plain": [
       "<Figure size 432x288 with 1 Axes>"
      ]
     },
     "metadata": {},
     "output_type": "display_data"
    }
   ],
   "source": [
    "#cleaning_fee\n",
    "df = listings['cleaning_fee']\n",
    "bins =  [0,10,20,30,50,60,70,80,90,100]\n",
    "mean = df.mean()\n",
    "median = df.median()\n",
    "\n",
    "plt.hist(df, bins=bins, edgecolor='black', log=True)\n",
    "plt.axvline(mean, color='black', label='Mean')\n",
    "plt.axvline(median, color='red', label='Median')\n",
    "\n",
    "plt.legend()\n",
    "plt.show()\n"
   ]
  },
  {
   "cell_type": "code",
   "execution_count": 37,
   "metadata": {},
   "outputs": [
    {
     "data": {
      "image/png": "[encoded data removed]",
      "text/plain": [
       "<Figure size 432x288 with 1 Axes>"
      ]
     },
     "metadata": {},
     "output_type": "display_data"
    }
   ],
   "source": [
    "#cleaning service and price\n",
    "clean_fee = listings['cleaning_fee']\n",
    "price = listings['price']\n",
    "\n",
    "#chart\n",
    "plt.scatter(clean_fee, price)\n",
    "plt.xlabel('cleaning fee')\n",
    "plt.ylabel('price')\n",
    "plt.show()"
   ]
  },
  {
   "cell_type": "code",
   "execution_count": 38,
   "metadata": {},
   "outputs": [],
   "source": [
    "#turn cleaning fee to yes and no column\n",
    "def cleaning_fee_yes_no (row):\n",
    "    if row['cleaning_fee'] > 0.00:\n",
    "        return '1'\n",
    "    else:\n",
    "        return '0'"
   ]
  },
  {
   "cell_type": "code",
   "execution_count": 39,
   "metadata": {},
   "outputs": [],
   "source": [
    "listings['cleaning_fee_yes_no'] = listings.apply(cleaning_fee_yes_no, axis=1)"
   ]
  },
  {
   "cell_type": "code",
   "execution_count": 40,
   "metadata": {},
   "outputs": [
    {
     "data": {
      "text/html": [
       "<div>\n",
       "<style scoped>\n",
       "    .dataframe tbody tr th:only-of-type {\n",
       "        vertical-align: middle;\n",
       "    }\n",
       "\n",
       "    .dataframe tbody tr th {\n",
       "        vertical-align: top;\n",
       "    }\n",
       "\n",
       "    .dataframe thead th {\n",
       "        text-align: right;\n",
       "    }\n",
       "</style>\n",
       "<table border=\"1\" class=\"dataframe\">\n",
       "  <thead>\n",
       "    <tr style=\"text-align: right;\">\n",
       "      <th></th>\n",
       "      <th>price</th>\n",
       "    </tr>\n",
       "    <tr>\n",
       "      <th>cleaning_fee_yes_no</th>\n",
       "      <th></th>\n",
       "    </tr>\n",
       "  </thead>\n",
       "  <tbody>\n",
       "    <tr>\n",
       "      <th>0</th>\n",
       "      <td>202.574334</td>\n",
       "    </tr>\n",
       "    <tr>\n",
       "      <th>1</th>\n",
       "      <td>153.643631</td>\n",
       "    </tr>\n",
       "  </tbody>\n",
       "</table>\n",
       "</div>"
      ],
      "text/plain": [
       "                          price\n",
       "cleaning_fee_yes_no            \n",
       "0                    202.574334\n",
       "1                    153.643631"
      ]
     },
     "execution_count": 40,
     "metadata": {},
     "output_type": "execute_result"
    }
   ],
   "source": [
    "listings.groupby('cleaning_fee_yes_no').agg({'price':'mean'})\n"
   ]
  },
  {
   "cell_type": "code",
   "execution_count": 41,
   "metadata": {},
   "outputs": [],
   "source": [
    "#turn security deposit to yes and no column\n",
    "def security_deposit_yes_no (row):\n",
    "    if row['security_deposit'] > 0.00:\n",
    "        return '1'\n",
    "    else:\n",
    "        return '0'"
   ]
  },
  {
   "cell_type": "code",
   "execution_count": 42,
   "metadata": {},
   "outputs": [],
   "source": [
    "listings['security_deposit_yes_no'] = listings.apply(security_deposit_yes_no, axis=1)"
   ]
  },
  {
   "cell_type": "code",
   "execution_count": 43,
   "metadata": {},
   "outputs": [
    {
     "data": {
      "text/html": [
       "<div>\n",
       "<style scoped>\n",
       "    .dataframe tbody tr th:only-of-type {\n",
       "        vertical-align: middle;\n",
       "    }\n",
       "\n",
       "    .dataframe tbody tr th {\n",
       "        vertical-align: top;\n",
       "    }\n",
       "\n",
       "    .dataframe thead th {\n",
       "        text-align: right;\n",
       "    }\n",
       "</style>\n",
       "<table border=\"1\" class=\"dataframe\">\n",
       "  <thead>\n",
       "    <tr style=\"text-align: right;\">\n",
       "      <th></th>\n",
       "      <th>price</th>\n",
       "    </tr>\n",
       "    <tr>\n",
       "      <th>security_deposit_yes_no</th>\n",
       "      <th></th>\n",
       "    </tr>\n",
       "  </thead>\n",
       "  <tbody>\n",
       "    <tr>\n",
       "      <th>0</th>\n",
       "      <td>162.646346</td>\n",
       "    </tr>\n",
       "    <tr>\n",
       "      <th>1</th>\n",
       "      <td>171.818497</td>\n",
       "    </tr>\n",
       "  </tbody>\n",
       "</table>\n",
       "</div>"
      ],
      "text/plain": [
       "                              price\n",
       "security_deposit_yes_no            \n",
       "0                        162.646346\n",
       "1                        171.818497"
      ]
     },
     "execution_count": 43,
     "metadata": {},
     "output_type": "execute_result"
    }
   ],
   "source": [
    "listings.groupby('security_deposit_yes_no').agg({'price':'mean'})"
   ]
  },
  {
   "cell_type": "code",
   "execution_count": 44,
   "metadata": {},
   "outputs": [],
   "source": [
    "def extra_people_yes_no (row):\n",
    "    if row['extra_people'] > 0.00:\n",
    "        return '1'\n",
    "    else:\n",
    "        return '0'"
   ]
  },
  {
   "cell_type": "code",
   "execution_count": 45,
   "metadata": {},
   "outputs": [],
   "source": [
    "listings['extra_people_yes_no'] = listings.apply(extra_people_yes_no, axis=1)"
   ]
  },
  {
   "cell_type": "code",
   "execution_count": 46,
   "metadata": {},
   "outputs": [
    {
     "data": {
      "text/html": [
       "<div>\n",
       "<style scoped>\n",
       "    .dataframe tbody tr th:only-of-type {\n",
       "        vertical-align: middle;\n",
       "    }\n",
       "\n",
       "    .dataframe tbody tr th {\n",
       "        vertical-align: top;\n",
       "    }\n",
       "\n",
       "    .dataframe thead th {\n",
       "        text-align: right;\n",
       "    }\n",
       "</style>\n",
       "<table border=\"1\" class=\"dataframe\">\n",
       "  <thead>\n",
       "    <tr style=\"text-align: right;\">\n",
       "      <th></th>\n",
       "      <th>price</th>\n",
       "    </tr>\n",
       "    <tr>\n",
       "      <th>extra_people_yes_no</th>\n",
       "      <th></th>\n",
       "    </tr>\n",
       "  </thead>\n",
       "  <tbody>\n",
       "    <tr>\n",
       "      <th>0</th>\n",
       "      <td>183.485233</td>\n",
       "    </tr>\n",
       "    <tr>\n",
       "      <th>1</th>\n",
       "      <td>146.856568</td>\n",
       "    </tr>\n",
       "  </tbody>\n",
       "</table>\n",
       "</div>"
      ],
      "text/plain": [
       "                          price\n",
       "extra_people_yes_no            \n",
       "0                    183.485233\n",
       "1                    146.856568"
      ]
     },
     "execution_count": 46,
     "metadata": {},
     "output_type": "execute_result"
    }
   ],
   "source": [
    "listings.groupby('extra_people_yes_no').agg({'price':'mean'})"
   ]
  },
  {
   "cell_type": "code",
   "execution_count": 47,
   "metadata": {},
   "outputs": [
    {
     "data": {
      "image/png": "[encoded data removed]",
      "text/plain": [
       "<Figure size 432x288 with 1 Axes>"
      ]
     },
     "metadata": {},
     "output_type": "display_data"
    }
   ],
   "source": [
    "#accommodates\n",
    "df = listings['accommodates']\n",
    "bins = 10\n",
    "mean = df.mean()\n",
    "median = df.median()\n",
    "\n",
    "plt.hist(df, bins=bins, edgecolor='black', log=True)\n",
    "plt.axvline(mean, color='black', label='Mean')\n",
    "plt.axvline(median, color='red', label='Median')\n",
    "\n",
    "plt.legend()\n",
    "plt.show()"
   ]
  },
  {
   "cell_type": "code",
   "execution_count": 48,
   "metadata": {},
   "outputs": [
    {
     "data": {
      "text/html": [
       "<div>\n",
       "<style scoped>\n",
       "    .dataframe tbody tr th:only-of-type {\n",
       "        vertical-align: middle;\n",
       "    }\n",
       "\n",
       "    .dataframe tbody tr th {\n",
       "        vertical-align: top;\n",
       "    }\n",
       "\n",
       "    .dataframe thead th {\n",
       "        text-align: right;\n",
       "    }\n",
       "</style>\n",
       "<table border=\"1\" class=\"dataframe\">\n",
       "  <thead>\n",
       "    <tr style=\"text-align: right;\">\n",
       "      <th></th>\n",
       "      <th>cleaning_fee</th>\n",
       "      <th>security_deposit</th>\n",
       "      <th>price</th>\n",
       "    </tr>\n",
       "    <tr>\n",
       "      <th>accommodates</th>\n",
       "      <th></th>\n",
       "      <th></th>\n",
       "      <th></th>\n",
       "    </tr>\n",
       "  </thead>\n",
       "  <tbody>\n",
       "    <tr>\n",
       "      <th>22</th>\n",
       "      <td>270.000000</td>\n",
       "      <td>1000.000000</td>\n",
       "      <td>1569.000000</td>\n",
       "    </tr>\n",
       "    <tr>\n",
       "      <th>20</th>\n",
       "      <td>270.000000</td>\n",
       "      <td>999.000000</td>\n",
       "      <td>1479.000000</td>\n",
       "    </tr>\n",
       "    <tr>\n",
       "      <th>19</th>\n",
       "      <td>240.000000</td>\n",
       "      <td>1000.000000</td>\n",
       "      <td>1369.000000</td>\n",
       "    </tr>\n",
       "    <tr>\n",
       "      <th>16</th>\n",
       "      <td>187.160256</td>\n",
       "      <td>401.089744</td>\n",
       "      <td>958.743590</td>\n",
       "    </tr>\n",
       "    <tr>\n",
       "      <th>15</th>\n",
       "      <td>182.823529</td>\n",
       "      <td>464.705882</td>\n",
       "      <td>553.117647</td>\n",
       "    </tr>\n",
       "    <tr>\n",
       "      <th>14</th>\n",
       "      <td>170.625000</td>\n",
       "      <td>367.812500</td>\n",
       "      <td>472.625000</td>\n",
       "    </tr>\n",
       "    <tr>\n",
       "      <th>13</th>\n",
       "      <td>187.450000</td>\n",
       "      <td>684.750000</td>\n",
       "      <td>703.750000</td>\n",
       "    </tr>\n",
       "    <tr>\n",
       "      <th>12</th>\n",
       "      <td>183.824074</td>\n",
       "      <td>473.703704</td>\n",
       "      <td>488.481481</td>\n",
       "    </tr>\n",
       "    <tr>\n",
       "      <th>11</th>\n",
       "      <td>150.456522</td>\n",
       "      <td>458.586957</td>\n",
       "      <td>347.565217</td>\n",
       "    </tr>\n",
       "    <tr>\n",
       "      <th>10</th>\n",
       "      <td>147.192913</td>\n",
       "      <td>438.393701</td>\n",
       "      <td>512.625984</td>\n",
       "    </tr>\n",
       "    <tr>\n",
       "      <th>9</th>\n",
       "      <td>128.700935</td>\n",
       "      <td>408.691589</td>\n",
       "      <td>412.551402</td>\n",
       "    </tr>\n",
       "    <tr>\n",
       "      <th>8</th>\n",
       "      <td>129.384309</td>\n",
       "      <td>358.417553</td>\n",
       "      <td>365.752660</td>\n",
       "    </tr>\n",
       "    <tr>\n",
       "      <th>7</th>\n",
       "      <td>111.197938</td>\n",
       "      <td>354.915464</td>\n",
       "      <td>313.894845</td>\n",
       "    </tr>\n",
       "    <tr>\n",
       "      <th>6</th>\n",
       "      <td>101.611910</td>\n",
       "      <td>301.371703</td>\n",
       "      <td>277.027578</td>\n",
       "    </tr>\n",
       "    <tr>\n",
       "      <th>5</th>\n",
       "      <td>88.179024</td>\n",
       "      <td>322.376585</td>\n",
       "      <td>240.878537</td>\n",
       "    </tr>\n",
       "    <tr>\n",
       "      <th>4</th>\n",
       "      <td>73.517410</td>\n",
       "      <td>230.373098</td>\n",
       "      <td>208.418623</td>\n",
       "    </tr>\n",
       "    <tr>\n",
       "      <th>3</th>\n",
       "      <td>58.287791</td>\n",
       "      <td>209.930596</td>\n",
       "      <td>151.417333</td>\n",
       "    </tr>\n",
       "    <tr>\n",
       "      <th>2</th>\n",
       "      <td>44.158280</td>\n",
       "      <td>134.632949</td>\n",
       "      <td>141.215194</td>\n",
       "    </tr>\n",
       "    <tr>\n",
       "      <th>1</th>\n",
       "      <td>24.794644</td>\n",
       "      <td>96.884389</td>\n",
       "      <td>84.919791</td>\n",
       "    </tr>\n",
       "  </tbody>\n",
       "</table>\n",
       "</div>"
      ],
      "text/plain": [
       "              cleaning_fee  security_deposit        price\n",
       "accommodates                                             \n",
       "22            270.000000    1000.000000       1569.000000\n",
       "20            270.000000    999.000000        1479.000000\n",
       "19            240.000000    1000.000000       1369.000000\n",
       "16            187.160256    401.089744        958.743590 \n",
       "15            182.823529    464.705882        553.117647 \n",
       "14            170.625000    367.812500        472.625000 \n",
       "13            187.450000    684.750000        703.750000 \n",
       "12            183.824074    473.703704        488.481481 \n",
       "11            150.456522    458.586957        347.565217 \n",
       "10            147.192913    438.393701        512.625984 \n",
       "9             128.700935    408.691589        412.551402 \n",
       "8             129.384309    358.417553        365.752660 \n",
       "7             111.197938    354.915464        313.894845 \n",
       "6             101.611910    301.371703        277.027578 \n",
       "5             88.179024     322.376585        240.878537 \n",
       "4             73.517410     230.373098        208.418623 \n",
       "3             58.287791     209.930596        151.417333 \n",
       "2             44.158280     134.632949        141.215194 \n",
       "1             24.794644     96.884389         84.919791  "
      ]
     },
     "execution_count": 48,
     "metadata": {},
     "output_type": "execute_result"
    }
   ],
   "source": [
    "#accomodates\n",
    "listings.groupby('accommodates').agg({'cleaning_fee':'mean', 'security_deposit':'mean', 'price':'mean'}).sort_values(by='accommodates',ascending=False)"
   ]
  },
  {
   "cell_type": "code",
   "execution_count": 49,
   "metadata": {},
   "outputs": [
    {
     "data": {
      "text/plain": [
       "accommodates\n",
       "2     23351\n",
       "4     7754 \n",
       "1     7655 \n",
       "3     5504 \n",
       "6     2502 \n",
       "5     2050 \n",
       "8     752  \n",
       "7     485  \n",
       "10    254  \n",
       "16    156  \n",
       "12    108  \n",
       "9     107  \n",
       "11    46   \n",
       "14    32   \n",
       "13    20   \n",
       "15    17   \n",
       "20    1    \n",
       "19    1    \n",
       "22    1    \n",
       "Name: accommodates, dtype: int64"
      ]
     },
     "execution_count": 49,
     "metadata": {},
     "output_type": "execute_result"
    }
   ],
   "source": [
    "#looks like i have to remove any records that acoomodates more than 10 or so\n",
    "listings.groupby('accommodates')['accommodates'].count().sort_values(ascending=False)"
   ]
  },
  {
   "cell_type": "code",
   "execution_count": 50,
   "metadata": {},
   "outputs": [
    {
     "data": {
      "text/plain": [
       "(50794, 40)"
      ]
     },
     "execution_count": 50,
     "metadata": {},
     "output_type": "execute_result"
    }
   ],
   "source": [
    "#new listings for all records with less than 20 accomodates\n",
    "filt = listings['accommodates'] < 20\n",
    "listings = listings[filt]\n",
    "listings.shape"
   ]
  },
  {
   "cell_type": "markdown",
   "metadata": {},
   "source": [
    "# Target Variable: Price"
   ]
  },
  {
   "cell_type": "code",
   "execution_count": 51,
   "metadata": {},
   "outputs": [
    {
     "data": {
      "text/plain": [
       "<matplotlib.axes._subplots.AxesSubplot at 0x2b9319a9b88>"
      ]
     },
     "execution_count": 51,
     "metadata": {},
     "output_type": "execute_result"
    },
    {
     "data": {
      "image/png": "[encoded data removed]",
      "text/plain": [
       "<Figure size 432x288 with 1 Axes>"
      ]
     },
     "metadata": {},
     "output_type": "display_data"
    }
   ],
   "source": [
    "#see all price in graph\n",
    "sns.distplot(listings['price'], rug=True)"
   ]
  },
  {
   "cell_type": "code",
   "execution_count": 52,
   "metadata": {},
   "outputs": [
    {
     "name": "stdout",
     "output_type": "stream",
     "text": [
      "Record count is 350\n",
      "property_type\n",
      "Aparthotel            1  \n",
      "Apartment             139\n",
      "Boutique hotel        71 \n",
      "Bungalow              1  \n",
      "Condominium           18 \n",
      "Guest suite           2  \n",
      "Hotel                 15 \n",
      "House                 24 \n",
      "Loft                  21 \n",
      "Other                 6  \n",
      "Resort                2  \n",
      "Serviced apartment    10 \n",
      "Townhouse             39 \n",
      "Villa                 1  \n",
      "Name: property_type, dtype: int64\n"
     ]
    }
   ],
   "source": [
    "#looking at property type of high price\n",
    "filt = listings['price'] > 1000\n",
    "print('Record count is {}'.format(listings[filt].groupby('property_type')['property_type'].count().sum()))\n",
    "print(listings[filt].groupby('property_type')['property_type'].count())\n",
    "\n",
    "#looks like removing 'Boutique hotel' will take care of most of high price"
   ]
  },
  {
   "cell_type": "code",
   "execution_count": 53,
   "metadata": {},
   "outputs": [],
   "source": [
    "# Filter records on price, pick between 0 and $500\n",
    "filt = (listings['price'] > 0) & (listings['price'] < 500)\n",
    "listings = listings[filt]\n"
   ]
  },
  {
   "cell_type": "code",
   "execution_count": 54,
   "metadata": {},
   "outputs": [
    {
     "data": {
      "text/html": [
       "<div>\n",
       "<style scoped>\n",
       "    .dataframe tbody tr th:only-of-type {\n",
       "        vertical-align: middle;\n",
       "    }\n",
       "\n",
       "    .dataframe tbody tr th {\n",
       "        vertical-align: top;\n",
       "    }\n",
       "\n",
       "    .dataframe thead th {\n",
       "        text-align: right;\n",
       "    }\n",
       "</style>\n",
       "<table border=\"1\" class=\"dataframe\">\n",
       "  <thead>\n",
       "    <tr style=\"text-align: right;\">\n",
       "      <th></th>\n",
       "      <th></th>\n",
       "      <th>property_type</th>\n",
       "      <th>room_type</th>\n",
       "    </tr>\n",
       "    <tr>\n",
       "      <th>property_type</th>\n",
       "      <th>room_type</th>\n",
       "      <th></th>\n",
       "      <th></th>\n",
       "    </tr>\n",
       "  </thead>\n",
       "  <tbody>\n",
       "    <tr>\n",
       "      <th>Aparthotel</th>\n",
       "      <th>Hotel room</th>\n",
       "      <td>10</td>\n",
       "      <td>10</td>\n",
       "    </tr>\n",
       "    <tr>\n",
       "      <th>Bed and breakfast</th>\n",
       "      <th>Hotel room</th>\n",
       "      <td>5</td>\n",
       "      <td>5</td>\n",
       "    </tr>\n",
       "    <tr>\n",
       "      <th>Boutique hotel</th>\n",
       "      <th>Hotel room</th>\n",
       "      <td>121</td>\n",
       "      <td>121</td>\n",
       "    </tr>\n",
       "    <tr>\n",
       "      <th>Hostel</th>\n",
       "      <th>Hotel room</th>\n",
       "      <td>7</td>\n",
       "      <td>7</td>\n",
       "    </tr>\n",
       "    <tr>\n",
       "      <th>Hotel</th>\n",
       "      <th>Hotel room</th>\n",
       "      <td>179</td>\n",
       "      <td>179</td>\n",
       "    </tr>\n",
       "    <tr>\n",
       "      <th>Resort</th>\n",
       "      <th>Hotel room</th>\n",
       "      <td>2</td>\n",
       "      <td>2</td>\n",
       "    </tr>\n",
       "    <tr>\n",
       "      <th>Serviced apartment</th>\n",
       "      <th>Hotel room</th>\n",
       "      <td>38</td>\n",
       "      <td>38</td>\n",
       "    </tr>\n",
       "  </tbody>\n",
       "</table>\n",
       "</div>"
      ],
      "text/plain": [
       "                               property_type  room_type\n",
       "property_type      room_type                           \n",
       "Aparthotel         Hotel room  10             10       \n",
       "Bed and breakfast  Hotel room  5              5        \n",
       "Boutique hotel     Hotel room  121            121      \n",
       "Hostel             Hotel room  7              7        \n",
       "Hotel              Hotel room  179            179      \n",
       "Resort             Hotel room  2              2        \n",
       "Serviced apartment Hotel room  38             38       "
      ]
     },
     "execution_count": 54,
     "metadata": {},
     "output_type": "execute_result"
    }
   ],
   "source": [
    "filt = listings['room_type'] == 'Hotel room'\n",
    "listings[filt].groupby(['property_type', 'room_type'])[['property_type', 'room_type']].count()\n",
    "\n",
    "#we can remove room_type == hotel room and remove all hotel type"
   ]
  },
  {
   "cell_type": "code",
   "execution_count": 55,
   "metadata": {},
   "outputs": [],
   "source": [
    "#dropping records with certain property type, mostly hotels\n",
    "filt = (~listings['property_type'].isin (['Aparthotel','Bed and breakfast','Boutique hotel',' Hostel', 'Hotel', 'Resort', 'Serviced apartment']))\n",
    "\n",
    "listings = listings[filt]"
   ]
  },
  {
   "cell_type": "markdown",
   "metadata": {},
   "source": [
    "# Filter records no review in a year"
   ]
  },
  {
   "cell_type": "code",
   "execution_count": 56,
   "metadata": {},
   "outputs": [
    {
     "data": {
      "text/plain": [
       "27926"
      ]
     },
     "execution_count": 56,
     "metadata": {},
     "output_type": "execute_result"
    }
   ],
   "source": [
    "#count how many records got reviews last 1 year\n",
    "scraped_date = datetime.strptime('2020-03-14',\"%Y-%m-%d\")\n",
    "listings['last_review_days_ago'] = (scraped_date - pd.to_datetime(listings['last_review'])).dt.days\n",
    "filt = listings['last_review_days_ago'] <= 365\n",
    "listings['property_type'][filt].count()"
   ]
  },
  {
   "cell_type": "code",
   "execution_count": 57,
   "metadata": {},
   "outputs": [
    {
     "data": {
      "text/plain": [
       "id\n",
       "2595    131.0\n",
       "3831    20.0 \n",
       "5099    153.0\n",
       "5121    103.0\n",
       "5178    15.0 \n",
       "Name: last_review_days_ago, dtype: float64"
      ]
     },
     "execution_count": 57,
     "metadata": {},
     "output_type": "execute_result"
    }
   ],
   "source": [
    "#create new df for only records that have reviews in last 1 year\n",
    "listings = listings[filt]\n",
    "\n",
    "#see sample\n",
    "listings['last_review_days_ago'].head()"
   ]
  },
  {
   "cell_type": "markdown",
   "metadata": {},
   "source": [
    "# Export to CSV\n",
    "Filename is selected_rows_listings.csv. To be used by next program"
   ]
  },
  {
   "cell_type": "code",
   "execution_count": 58,
   "metadata": {},
   "outputs": [
    {
     "data": {
      "text/plain": [
       "(27926, 41)"
      ]
     },
     "execution_count": 58,
     "metadata": {},
     "output_type": "execute_result"
    }
   ],
   "source": [
    "listings.shape"
   ]
  },
  {
   "cell_type": "code",
   "execution_count": 59,
   "metadata": {},
   "outputs": [],
   "source": [
    "#export columns left to csv to be used with second notebook\n",
    "path = data_folder\n",
    "\n",
    "listings_csv = os.path.join(path,'selected_rows_listings.csv')\n",
    "listings.to_csv(listings_csv)"
   ]
  },
  {
   "cell_type": "code",
   "execution_count": null,
   "metadata": {},
   "outputs": [],
   "source": []
  }
 ],
 "metadata": {
  "kernelspec": {
   "display_name": "Python 3",
   "language": "python",
   "name": "python3"
  },
  "language_info": {
   "codemirror_mode": {
    "name": "ipython",
    "version": 3
   },
   "file_extension": ".py",
   "mimetype": "text/x-python",
   "name": "python",
   "nbconvert_exporter": "python",
   "pygments_lexer": "ipython3",
   "version": "3.7.4"
  }
 },
 "nbformat": 4,
 "nbformat_minor": 2
}

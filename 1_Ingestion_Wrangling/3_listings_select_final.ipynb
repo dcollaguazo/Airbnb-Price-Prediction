{
 "cells": [
  {
   "cell_type": "markdown",
   "metadata": {},
   "source": [
    "# Getting the Data Ready for Model Use\n",
    "This notebook is for cleaning up data, generate more columns, change data type, etc.\n"
   ]
  },
  {
   "cell_type": "code",
   "execution_count": 2,
   "metadata": {},
   "outputs": [],
   "source": [
    "import os\n",
    "from pathlib import Path # added to make the file locations dynamic and usable with Windows #Need to test on MAC\n",
    "from datetime import datetime\n",
    "import numpy as np\n",
    "import pandas as pd\n",
    "import matplotlib\n",
    "import matplotlib.pyplot as plt\n",
    "import seaborn as sns\n",
    "\n",
    "\n",
    "import warnings\n",
    "warnings.filterwarnings('ignore')\n",
    "\n",
    "%matplotlib inline"
   ]
  },
  {
   "cell_type": "code",
   "execution_count": 3,
   "metadata": {},
   "outputs": [],
   "source": [
    "# created this to find the main Airbnb folder (Windows & Mac compatible)\n",
    "def GoToParentFolder(folder_name):\n",
    "    path = Path(os.getcwd())\n",
    "    path_string = str(path)\n",
    "\n",
    "    while path_string[-len(folder_name):] != folder_name:\n",
    "        path = Path(path.parent)\n",
    "        path_string = str(path)\n",
    "        print(path_string)\n",
    "        \n",
    "    return(str(path))"
   ]
  },
  {
   "cell_type": "code",
   "execution_count": 6,
   "metadata": {},
   "outputs": [
    {
     "name": "stdout",
     "output_type": "stream",
     "text": [
      "C:\\Users\\darie\\Desktop\\Python Practice\\Airbnb-Price-Prediction\n",
      "C:\\Users\\darie\\Desktop\\Python Practice\\Airbnb-Price-Prediction\\data\\new-york-city-airbnb-open-data\n"
     ]
    }
   ],
   "source": [
    "# Change working directory to the data folder\n",
    "airbnb_main_directory = GoToParentFolder('Airbnb-Price-Prediction')\n",
    "\n",
    "data_folder = os.path.join(airbnb_main_directory,'data','new-york-city-airbnb-open-data')\n",
    "print(data_folder)"
   ]
  },
  {
   "cell_type": "code",
   "execution_count": 7,
   "metadata": {},
   "outputs": [],
   "source": [
    "#read data, specify index so it's easier to join and search using loc\n",
    "listings_csv = os.path.join(data_folder,'selected_rows_listings.csv')\n",
    "listings = pd.read_csv(listings_csv)"
   ]
  },
  {
   "cell_type": "code",
   "execution_count": 8,
   "metadata": {},
   "outputs": [],
   "source": [
    "#to get all columns, set option\n",
    "pd.set_option('display.max_columns', 107)\n",
    "#to get text with no truncation\n",
    "pd.set_option('display.max_colwidth', -1)"
   ]
  },
  {
   "cell_type": "code",
   "execution_count": 9,
   "metadata": {},
   "outputs": [
    {
     "data": {
      "text/plain": [
       "(27926, 42)"
      ]
     },
     "execution_count": 9,
     "metadata": {},
     "output_type": "execute_result"
    }
   ],
   "source": [
    "#shape\n",
    "listings.shape"
   ]
  },
  {
   "cell_type": "code",
   "execution_count": 10,
   "metadata": {},
   "outputs": [
    {
     "data": {
      "text/plain": [
       "Index(['id', 'host_since', 'host_response_time', 'host_response_rate',\n",
       "       'host_acceptance_rate', 'host_is_superhost', 'host_listings_count',\n",
       "       'host_verifications', 'host_identity_verified',\n",
       "       'neighbourhood_group_cleansed', 'is_location_exact', 'property_type',\n",
       "       'room_type', 'accommodates', 'bathrooms', 'bedrooms', 'beds',\n",
       "       'bed_type', 'amenities', 'price', 'security_deposit', 'cleaning_fee',\n",
       "       'guests_included', 'extra_people', 'number_of_reviews',\n",
       "       'number_of_reviews_ltm', 'first_review', 'last_review',\n",
       "       'review_scores_rating', 'review_scores_accuracy',\n",
       "       'review_scores_cleanliness', 'review_scores_checkin',\n",
       "       'review_scores_communication', 'review_scores_location',\n",
       "       'review_scores_value', 'instant_bookable', 'cancellation_policy',\n",
       "       'reviews_per_month', 'cleaning_fee_yes_no', 'security_deposit_yes_no',\n",
       "       'extra_people_yes_no', 'last_review_days_ago'],\n",
       "      dtype='object')"
      ]
     },
     "execution_count": 10,
     "metadata": {},
     "output_type": "execute_result"
    }
   ],
   "source": [
    "listings.columns"
   ]
  },
  {
   "cell_type": "code",
   "execution_count": 11,
   "metadata": {},
   "outputs": [],
   "source": [
    "# Dropping unused original columns as 'derived' columns were created or it maybe redundant\n",
    "Unused_columns = ['host_verifications', 'security_deposit', 'cleaning_fee','extra_people', 'first_review', 'last_review']\n",
    "\n",
    "listings.drop(columns=Unused_columns, inplace = True)"
   ]
  },
  {
   "cell_type": "markdown",
   "metadata": {},
   "source": [
    "# Dealing with null values\n",
    "Fill with 0, dropping null, fill with avg"
   ]
  },
  {
   "cell_type": "code",
   "execution_count": 12,
   "metadata": {},
   "outputs": [],
   "source": [
    "#dorp null records\n",
    "Drop_na = ['host_since', 'host_listings_count', 'host_identity_verified', 'host_is_superhost']\n",
    "listings = listings.dropna(subset=Drop_na)\n"
   ]
  },
  {
   "cell_type": "code",
   "execution_count": 13,
   "metadata": {},
   "outputs": [],
   "source": [
    "#fill null with 0\n",
    "Fill_with_zero = ['bathrooms', 'bedrooms', 'beds', 'review_scores_rating', 'review_scores_accuracy',\n",
    "'review_scores_cleanliness', 'review_scores_checkin', 'review_scores_communication', 'review_scores_location', 'review_scores_value', 'reviews_per_month', 'host_response_time','host_acceptance_rate']\n",
    "\n",
    "for column in Fill_with_zero:\n",
    "    listings[column] = listings[column].replace(np.nan, '0')\n"
   ]
  },
  {
   "cell_type": "markdown",
   "metadata": {},
   "source": [
    "# New features"
   ]
  },
  {
   "cell_type": "code",
   "execution_count": 14,
   "metadata": {},
   "outputs": [
    {
     "name": "stdout",
     "output_type": "stream",
     "text": [
      "22351    63\n",
      "22340    62\n",
      "1103     61\n",
      "7370     60\n",
      "22348    60\n",
      "Name: amenities_count, dtype: int64\n"
     ]
    }
   ],
   "source": [
    "#amenities_count\n",
    "\n",
    "listings['amenities_count'] = listings['amenities'].str.count(',')\n",
    "print (listings['amenities_count'].sort_values(ascending=False).head())\n",
    "\n",
    "# drop original column\n",
    "listings.drop(columns='amenities', inplace = True)"
   ]
  },
  {
   "cell_type": "code",
   "execution_count": 15,
   "metadata": {},
   "outputs": [
    {
     "data": {
      "text/plain": [
       "<matplotlib.axes._subplots.AxesSubplot at 0x1c942757548>"
      ]
     },
     "execution_count": 15,
     "metadata": {},
     "output_type": "execute_result"
    },
    {
     "data": {
      "image/png": "[encoded data removed]",
      "text/plain": [
       "<Figure size 432x288 with 1 Axes>"
      ]
     },
     "metadata": {
      "needs_background": "light"
     },
     "output_type": "display_data"
    }
   ],
   "source": [
    "#chart it\n",
    "df = listings.groupby('amenities_count')['amenities_count'].size()\n",
    "df.plot(kind='bar')"
   ]
  },
  {
   "cell_type": "code",
   "execution_count": 16,
   "metadata": {},
   "outputs": [
    {
     "name": "stdout",
     "output_type": "stream",
     "text": [
      "host_response_time_one_hour\n",
      "0.0    11968\n",
      "1.0    15958\n",
      "Name: host_response_time_one_hour, dtype: int64\n"
     ]
    }
   ],
   "source": [
    "# host_response_time\n",
    "\n",
    "def convert_string_to_int(row):\n",
    "    if row == 'within an hour':\n",
    "        row = '1'\n",
    "    else: row = '0'\n",
    "    return row\n",
    "\n",
    "listings['host_response_time_one_hour'] = listings['host_response_time'].apply(lambda col: convert_string_to_int(col)).astype(float)\n",
    "\n",
    "# drop original column\n",
    "listings.drop(columns='host_response_time', inplace = True)\n",
    "\n",
    "#check result\n",
    "print(listings.groupby('host_response_time_one_hour')['host_response_time_one_hour'].size())\n"
   ]
  },
  {
   "cell_type": "code",
   "execution_count": 17,
   "metadata": {},
   "outputs": [
    {
     "name": "stdout",
     "output_type": "stream",
     "text": [
      "host_response_rate_calc\n",
      "0.0    10166\n",
      "1.0    17760\n",
      "Name: host_response_rate_calc, dtype: int64\n"
     ]
    }
   ],
   "source": [
    "# host_response_rate\n",
    "\n",
    "def convert_string_to_int(row):\n",
    "    if row == '100%':\n",
    "        row = '1'\n",
    "    else: row = '0'\n",
    "    return row\n",
    "\n",
    "listings['host_response_rate_calc'] = listings['host_response_rate'].apply(lambda col: convert_string_to_int(col)).astype(float)\n",
    "\n",
    "# drop original column\n",
    "listings.drop(columns='host_response_rate', inplace = True)\n",
    "\n",
    "#check result\n",
    "print(listings.groupby('host_response_rate_calc')['host_response_rate_calc'].size())"
   ]
  },
  {
   "cell_type": "code",
   "execution_count": 18,
   "metadata": {},
   "outputs": [
    {
     "name": "stdout",
     "output_type": "stream",
     "text": [
      "host_acceptance_rate_calc\n",
      "0.0    18962\n",
      "1.0    8964 \n",
      "Name: host_acceptance_rate_calc, dtype: int64\n"
     ]
    }
   ],
   "source": [
    "#host_acceptance_rate\n",
    "#needs to use function that conver 100% to 1 and the rest to 0 (from previous cell)\n",
    "\n",
    "listings['host_acceptance_rate_calc'] = listings['host_acceptance_rate'].apply(lambda col: convert_string_to_int(col)).astype(float)\n",
    "\n",
    "# drop original column\n",
    "listings.drop(columns='host_acceptance_rate', inplace = True)\n",
    "\n",
    "#check result\n",
    "print(listings.groupby('host_acceptance_rate_calc')['host_acceptance_rate_calc'].size())"
   ]
  },
  {
   "cell_type": "code",
   "execution_count": 19,
   "metadata": {},
   "outputs": [
    {
     "name": "stdout",
     "output_type": "stream",
     "text": [
      "apt_yes_no\n",
      "0.0    6722 \n",
      "1.0    21204\n",
      "Name: apt_yes_no, dtype: int64\n"
     ]
    }
   ],
   "source": [
    "#property_type, after modeling, loft seems to affect price. But looking at the data loft price is between 28 and 900 dollars.\n",
    "# I am going to split propety type into two, apt or non\n",
    "#listings.groupby('property_type').agg({'property_type': 'size', 'price':'max'}).sort_values(by='price',ascending=False)\n",
    "\n",
    "def convert_string_to_int(row):\n",
    "    if row == 'Apartment':\n",
    "        row = '1'\n",
    "    else: row = '0'\n",
    "    return row\n",
    "\n",
    "listings['apt_yes_no'] = listings['property_type'].apply(lambda col: convert_string_to_int(col)).astype(float)\n",
    "\n",
    "# drop original column\n",
    "listings.drop(columns='property_type', inplace = True)\n",
    "\n",
    "#check result\n",
    "print(listings.groupby('apt_yes_no')['apt_yes_no'].size())\n"
   ]
  },
  {
   "cell_type": "code",
   "execution_count": 20,
   "metadata": {},
   "outputs": [
    {
     "name": "stdout",
     "output_type": "stream",
     "text": [
      "real_bed_yes_no\n",
      "0.0    345  \n",
      "1.0    27581\n",
      "Name: real_bed_yes_no, dtype: int64\n"
     ]
    }
   ],
   "source": [
    "#bed_type --- may not be needed, let's see\n",
    "\n",
    "def convert_string_to_int(row):\n",
    "    if row == 'Real Bed':\n",
    "        row = '1'\n",
    "    else: row = '0'\n",
    "    return row\n",
    "\n",
    "listings['real_bed_yes_no'] = listings['bed_type'].apply(lambda col: convert_string_to_int(col)).astype(float)\n",
    "\n",
    "# drop original column\n",
    "listings.drop(columns='bed_type', inplace = True)\n",
    "\n",
    "#check result\n",
    "print(listings.groupby('real_bed_yes_no')['real_bed_yes_no'].size())"
   ]
  },
  {
   "cell_type": "code",
   "execution_count": 21,
   "metadata": {},
   "outputs": [
    {
     "name": "stdout",
     "output_type": "stream",
     "text": [
      "cancellation_policy_calc\n",
      "flexible    5377 \n",
      "moderate    7167 \n",
      "strict      15382\n",
      "Name: cancellation_policy_calc, dtype: int64\n"
     ]
    }
   ],
   "source": [
    "#cancellation_policy -- let's do 3 classes (flexible, moderate, and strict)\n",
    "\n",
    "def convert_string_to_int(row):\n",
    "    row = row.replace('strict_14_with_grace_period', 'strict')\n",
    "    row = row.replace('super_strict_30', 'strict')\n",
    "    row = row.replace('super_strict_60', 'strict')\n",
    "    return row\n",
    "\n",
    "#new column\n",
    "listings['cancellation_policy_calc'] = listings['cancellation_policy'].apply(lambda col: convert_string_to_int(col))\n",
    "\n",
    "# drop original column\n",
    "listings.drop(columns='cancellation_policy', inplace = True)\n",
    "\n",
    "#check result\n",
    "print(listings.groupby('cancellation_policy_calc')['cancellation_policy_calc'].size())\n",
    "\n"
   ]
  },
  {
   "cell_type": "code",
   "execution_count": 22,
   "metadata": {},
   "outputs": [
    {
     "name": "stdout",
     "output_type": "stream",
     "text": [
      "multiple_listings\n",
      "0.0    2936 \n",
      "1.0    24990\n",
      "Name: multiple_listings, dtype: int64\n"
     ]
    }
   ],
   "source": [
    "#host_listings_count\n",
    "\n",
    "def convert_string_to_int(row):\n",
    "    if row < 1:\n",
    "        row = 0\n",
    "    else: row = 1\n",
    "    return row\n",
    "\n",
    "listings['multiple_listings'] = listings['host_listings_count'].apply(lambda col: convert_string_to_int(col)).astype(float)\n",
    "\n",
    "# drop original column\n",
    "listings.drop(columns='host_listings_count', inplace = True)\n",
    "\n",
    "#check result\n",
    "print(listings.groupby('multiple_listings')['multiple_listings'].size())\n"
   ]
  },
  {
   "cell_type": "markdown",
   "metadata": {},
   "source": [
    "# Category conversion\n",
    "Use one hot encoding"
   ]
  },
  {
   "cell_type": "code",
   "execution_count": 23,
   "metadata": {},
   "outputs": [],
   "source": [
    "# Get one hot encoding of column neighbourhood_group_cleansed\n",
    "one_hot_encoding_columns = ['neighbourhood_group_cleansed', 'room_type', 'cancellation_policy_calc']\n",
    "listings = pd.get_dummies(data=listings, columns=one_hot_encoding_columns)"
   ]
  },
  {
   "cell_type": "markdown",
   "metadata": {},
   "source": [
    "# Boolean conversion\n",
    "Converting the value to 1 and 0 from 't' and 'f'."
   ]
  },
  {
   "cell_type": "code",
   "execution_count": 24,
   "metadata": {},
   "outputs": [],
   "source": [
    "#function to replace\n",
    "def convert_bool(row):\n",
    "    row = row.replace('f', '0')\n",
    "    row = row.replace('t', '1')\n",
    "    return row"
   ]
  },
  {
   "cell_type": "code",
   "execution_count": 25,
   "metadata": {},
   "outputs": [],
   "source": [
    "# #update rows and convert to boo\n",
    "Boolean_columns = ['host_is_superhost', 'is_location_exact', 'instant_bookable', 'host_identity_verified']\n",
    "\n",
    "for column in Boolean_columns:\n",
    "    listings[column] = listings[column].apply(lambda col: convert_bool(col)).astype(int)\n"
   ]
  },
  {
   "cell_type": "markdown",
   "metadata": {},
   "source": [
    "# Date conversion\n",
    "Convert to date then to ordinal"
   ]
  },
  {
   "cell_type": "code",
   "execution_count": 26,
   "metadata": {},
   "outputs": [],
   "source": [
    "#conver to date first\n",
    "listings['host_since'] = pd.to_datetime(listings['host_since'])\n",
    "\n",
    "listings['host_since'] = listings['host_since'].apply(lambda x: x.toordinal())\n",
    "\n"
   ]
  },
  {
   "cell_type": "code",
   "execution_count": 27,
   "metadata": {},
   "outputs": [
    {
     "data": {
      "text/plain": [
       "0    733294\n",
       "1    733383\n",
       "2    733440\n",
       "3    733441\n",
       "4    733469\n",
       "Name: host_since, dtype: int64"
      ]
     },
     "execution_count": 27,
     "metadata": {},
     "output_type": "execute_result"
    }
   ],
   "source": [
    "listings['host_since'].head()"
   ]
  },
  {
   "cell_type": "code",
   "execution_count": 28,
   "metadata": {},
   "outputs": [
    {
     "data": {
      "text/html": [
       "<div>\n",
       "<style scoped>\n",
       "    .dataframe tbody tr th:only-of-type {\n",
       "        vertical-align: middle;\n",
       "    }\n",
       "\n",
       "    .dataframe tbody tr th {\n",
       "        vertical-align: top;\n",
       "    }\n",
       "\n",
       "    .dataframe thead th {\n",
       "        text-align: right;\n",
       "    }\n",
       "</style>\n",
       "<table border=\"1\" class=\"dataframe\">\n",
       "  <thead>\n",
       "    <tr style=\"text-align: right;\">\n",
       "      <th></th>\n",
       "      <th>0</th>\n",
       "    </tr>\n",
       "  </thead>\n",
       "  <tbody>\n",
       "    <tr>\n",
       "      <th>id</th>\n",
       "      <td>2595</td>\n",
       "    </tr>\n",
       "    <tr>\n",
       "      <th>host_since</th>\n",
       "      <td>733294</td>\n",
       "    </tr>\n",
       "    <tr>\n",
       "      <th>host_is_superhost</th>\n",
       "      <td>0</td>\n",
       "    </tr>\n",
       "    <tr>\n",
       "      <th>host_identity_verified</th>\n",
       "      <td>1</td>\n",
       "    </tr>\n",
       "    <tr>\n",
       "      <th>is_location_exact</th>\n",
       "      <td>0</td>\n",
       "    </tr>\n",
       "    <tr>\n",
       "      <th>accommodates</th>\n",
       "      <td>2</td>\n",
       "    </tr>\n",
       "    <tr>\n",
       "      <th>bathrooms</th>\n",
       "      <td>1</td>\n",
       "    </tr>\n",
       "    <tr>\n",
       "      <th>bedrooms</th>\n",
       "      <td>0</td>\n",
       "    </tr>\n",
       "    <tr>\n",
       "      <th>beds</th>\n",
       "      <td>1</td>\n",
       "    </tr>\n",
       "    <tr>\n",
       "      <th>price</th>\n",
       "      <td>225</td>\n",
       "    </tr>\n",
       "    <tr>\n",
       "      <th>guests_included</th>\n",
       "      <td>1</td>\n",
       "    </tr>\n",
       "    <tr>\n",
       "      <th>number_of_reviews</th>\n",
       "      <td>48</td>\n",
       "    </tr>\n",
       "    <tr>\n",
       "      <th>number_of_reviews_ltm</th>\n",
       "      <td>5</td>\n",
       "    </tr>\n",
       "    <tr>\n",
       "      <th>review_scores_rating</th>\n",
       "      <td>94</td>\n",
       "    </tr>\n",
       "    <tr>\n",
       "      <th>review_scores_accuracy</th>\n",
       "      <td>9</td>\n",
       "    </tr>\n",
       "    <tr>\n",
       "      <th>review_scores_cleanliness</th>\n",
       "      <td>9</td>\n",
       "    </tr>\n",
       "    <tr>\n",
       "      <th>review_scores_checkin</th>\n",
       "      <td>10</td>\n",
       "    </tr>\n",
       "    <tr>\n",
       "      <th>review_scores_communication</th>\n",
       "      <td>10</td>\n",
       "    </tr>\n",
       "    <tr>\n",
       "      <th>review_scores_location</th>\n",
       "      <td>10</td>\n",
       "    </tr>\n",
       "    <tr>\n",
       "      <th>review_scores_value</th>\n",
       "      <td>9</td>\n",
       "    </tr>\n",
       "    <tr>\n",
       "      <th>instant_bookable</th>\n",
       "      <td>0</td>\n",
       "    </tr>\n",
       "    <tr>\n",
       "      <th>reviews_per_month</th>\n",
       "      <td>0.38</td>\n",
       "    </tr>\n",
       "    <tr>\n",
       "      <th>cleaning_fee_yes_no</th>\n",
       "      <td>1</td>\n",
       "    </tr>\n",
       "    <tr>\n",
       "      <th>security_deposit_yes_no</th>\n",
       "      <td>1</td>\n",
       "    </tr>\n",
       "    <tr>\n",
       "      <th>extra_people_yes_no</th>\n",
       "      <td>0</td>\n",
       "    </tr>\n",
       "    <tr>\n",
       "      <th>last_review_days_ago</th>\n",
       "      <td>131</td>\n",
       "    </tr>\n",
       "    <tr>\n",
       "      <th>amenities_count</th>\n",
       "      <td>32</td>\n",
       "    </tr>\n",
       "    <tr>\n",
       "      <th>host_response_time_one_hour</th>\n",
       "      <td>0</td>\n",
       "    </tr>\n",
       "    <tr>\n",
       "      <th>host_response_rate_calc</th>\n",
       "      <td>0</td>\n",
       "    </tr>\n",
       "    <tr>\n",
       "      <th>host_acceptance_rate_calc</th>\n",
       "      <td>0</td>\n",
       "    </tr>\n",
       "    <tr>\n",
       "      <th>apt_yes_no</th>\n",
       "      <td>1</td>\n",
       "    </tr>\n",
       "    <tr>\n",
       "      <th>real_bed_yes_no</th>\n",
       "      <td>1</td>\n",
       "    </tr>\n",
       "    <tr>\n",
       "      <th>multiple_listings</th>\n",
       "      <td>1</td>\n",
       "    </tr>\n",
       "    <tr>\n",
       "      <th>neighbourhood_group_cleansed_Bronx</th>\n",
       "      <td>0</td>\n",
       "    </tr>\n",
       "    <tr>\n",
       "      <th>neighbourhood_group_cleansed_Brooklyn</th>\n",
       "      <td>0</td>\n",
       "    </tr>\n",
       "    <tr>\n",
       "      <th>neighbourhood_group_cleansed_Manhattan</th>\n",
       "      <td>1</td>\n",
       "    </tr>\n",
       "    <tr>\n",
       "      <th>neighbourhood_group_cleansed_Queens</th>\n",
       "      <td>0</td>\n",
       "    </tr>\n",
       "    <tr>\n",
       "      <th>neighbourhood_group_cleansed_Staten Island</th>\n",
       "      <td>0</td>\n",
       "    </tr>\n",
       "    <tr>\n",
       "      <th>room_type_Entire home/apt</th>\n",
       "      <td>1</td>\n",
       "    </tr>\n",
       "    <tr>\n",
       "      <th>room_type_Hotel room</th>\n",
       "      <td>0</td>\n",
       "    </tr>\n",
       "    <tr>\n",
       "      <th>room_type_Private room</th>\n",
       "      <td>0</td>\n",
       "    </tr>\n",
       "    <tr>\n",
       "      <th>room_type_Shared room</th>\n",
       "      <td>0</td>\n",
       "    </tr>\n",
       "    <tr>\n",
       "      <th>cancellation_policy_calc_flexible</th>\n",
       "      <td>0</td>\n",
       "    </tr>\n",
       "    <tr>\n",
       "      <th>cancellation_policy_calc_moderate</th>\n",
       "      <td>0</td>\n",
       "    </tr>\n",
       "    <tr>\n",
       "      <th>cancellation_policy_calc_strict</th>\n",
       "      <td>1</td>\n",
       "    </tr>\n",
       "  </tbody>\n",
       "</table>\n",
       "</div>"
      ],
      "text/plain": [
       "                                                 0\n",
       "id                                          2595  \n",
       "host_since                                  733294\n",
       "host_is_superhost                           0     \n",
       "host_identity_verified                      1     \n",
       "is_location_exact                           0     \n",
       "accommodates                                2     \n",
       "bathrooms                                   1     \n",
       "bedrooms                                    0     \n",
       "beds                                        1     \n",
       "price                                       225   \n",
       "guests_included                             1     \n",
       "number_of_reviews                           48    \n",
       "number_of_reviews_ltm                       5     \n",
       "review_scores_rating                        94    \n",
       "review_scores_accuracy                      9     \n",
       "review_scores_cleanliness                   9     \n",
       "review_scores_checkin                       10    \n",
       "review_scores_communication                 10    \n",
       "review_scores_location                      10    \n",
       "review_scores_value                         9     \n",
       "instant_bookable                            0     \n",
       "reviews_per_month                           0.38  \n",
       "cleaning_fee_yes_no                         1     \n",
       "security_deposit_yes_no                     1     \n",
       "extra_people_yes_no                         0     \n",
       "last_review_days_ago                        131   \n",
       "amenities_count                             32    \n",
       "host_response_time_one_hour                 0     \n",
       "host_response_rate_calc                     0     \n",
       "host_acceptance_rate_calc                   0     \n",
       "apt_yes_no                                  1     \n",
       "real_bed_yes_no                             1     \n",
       "multiple_listings                           1     \n",
       "neighbourhood_group_cleansed_Bronx          0     \n",
       "neighbourhood_group_cleansed_Brooklyn       0     \n",
       "neighbourhood_group_cleansed_Manhattan      1     \n",
       "neighbourhood_group_cleansed_Queens         0     \n",
       "neighbourhood_group_cleansed_Staten Island  0     \n",
       "room_type_Entire home/apt                   1     \n",
       "room_type_Hotel room                        0     \n",
       "room_type_Private room                      0     \n",
       "room_type_Shared room                       0     \n",
       "cancellation_policy_calc_flexible           0     \n",
       "cancellation_policy_calc_moderate           0     \n",
       "cancellation_policy_calc_strict             1     "
      ]
     },
     "execution_count": 28,
     "metadata": {},
     "output_type": "execute_result"
    }
   ],
   "source": [
    "listings.head(1).T"
   ]
  },
  {
   "cell_type": "code",
   "execution_count": 29,
   "metadata": {},
   "outputs": [
    {
     "data": {
      "text/plain": [
       "array(['id', 'host_since', 'host_is_superhost', 'host_identity_verified',\n",
       "       'is_location_exact', 'accommodates', 'bathrooms', 'bedrooms',\n",
       "       'beds', 'price', 'guests_included', 'number_of_reviews',\n",
       "       'number_of_reviews_ltm', 'review_scores_rating',\n",
       "       'review_scores_accuracy', 'review_scores_cleanliness',\n",
       "       'review_scores_checkin', 'review_scores_communication',\n",
       "       'review_scores_location', 'review_scores_value',\n",
       "       'instant_bookable', 'reviews_per_month', 'cleaning_fee_yes_no',\n",
       "       'security_deposit_yes_no', 'extra_people_yes_no',\n",
       "       'last_review_days_ago', 'amenities_count',\n",
       "       'host_response_time_one_hour', 'host_response_rate_calc',\n",
       "       'host_acceptance_rate_calc', 'apt_yes_no', 'real_bed_yes_no',\n",
       "       'multiple_listings', 'neighbourhood_group_cleansed_Bronx',\n",
       "       'neighbourhood_group_cleansed_Brooklyn',\n",
       "       'neighbourhood_group_cleansed_Manhattan',\n",
       "       'neighbourhood_group_cleansed_Queens',\n",
       "       'neighbourhood_group_cleansed_Staten Island',\n",
       "       'room_type_Entire home/apt', 'room_type_Hotel room',\n",
       "       'room_type_Private room', 'room_type_Shared room',\n",
       "       'cancellation_policy_calc_flexible',\n",
       "       'cancellation_policy_calc_moderate',\n",
       "       'cancellation_policy_calc_strict'], dtype=object)"
      ]
     },
     "execution_count": 29,
     "metadata": {},
     "output_type": "execute_result"
    }
   ],
   "source": [
    "listings.columns.values"
   ]
  },
  {
   "cell_type": "markdown",
   "metadata": {},
   "source": [
    "# Export to CSV\n",
    "Clean data for model to use"
   ]
  },
  {
   "cell_type": "code",
   "execution_count": 30,
   "metadata": {},
   "outputs": [
    {
     "name": "stdout",
     "output_type": "stream",
     "text": [
      "(27926, 45)\n"
     ]
    }
   ],
   "source": [
    "print(listings.shape)"
   ]
  },
  {
   "cell_type": "code",
   "execution_count": 31,
   "metadata": {},
   "outputs": [],
   "source": [
    "#export columns left to csv to be used with second notebook\n",
    "path = data_folder\n",
    "\n",
    "listings_csv = os.path.join(path,'model_columns_listings.csv')\n",
    "listings.to_csv(listings_csv)"
   ]
  }
 ],
 "metadata": {
  "kernelspec": {
   "display_name": "Python 3",
   "language": "python",
   "name": "python3"
  },
  "language_info": {
   "codemirror_mode": {
    "name": "ipython",
    "version": 3
   },
   "file_extension": ".py",
   "mimetype": "text/x-python",
   "name": "python",
   "nbconvert_exporter": "python",
   "pygments_lexer": "ipython3",
   "version": "3.7.4"
  }
 },
 "nbformat": 4,
 "nbformat_minor": 2
}

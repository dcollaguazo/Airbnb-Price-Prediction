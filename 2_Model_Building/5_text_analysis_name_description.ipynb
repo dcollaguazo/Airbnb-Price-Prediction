{
 "cells": [
  {
   "cell_type": "code",
   "execution_count": 94,
   "metadata": {
    "scrolled": true
   },
   "outputs": [
    {
     "name": "stderr",
     "output_type": "stream",
     "text": [
      "[nltk_data] Downloading package stopwords to\n",
      "[nltk_data]     /home/ec2-user/nltk_data...\n",
      "[nltk_data]   Package stopwords is already up-to-date!\n"
     ]
    }
   ],
   "source": [
    "# Run in python console\n",
    "import nltk; nltk.download('stopwords')\n",
    "import spacy\n",
    "\n",
    "import re\n",
    "import os\n",
    "import numpy as np\n",
    "import pandas as pd\n",
    "\n",
    "# Gensim\n",
    "import gensim\n",
    "import gensim.corpora as corpora\n",
    "from gensim.utils import simple_preprocess\n",
    "from gensim.models import CoherenceModel\n",
    "\n",
    "# spacy for lemmatization\n",
    "import spacy\n",
    "import en_core_web_sm\n",
    "\n",
    "# Plotting tools\n",
    "import pyLDAvis\n",
    "import pyLDAvis.gensim  # don't skip this\n",
    "import matplotlib.pyplot as plt\n",
    "%matplotlib inline\n",
    "\n",
    "# NLTK Stop words\n",
    "from nltk.corpus import stopwords\n",
    "stop_words = stopwords.words('english')\n",
    "\n",
    "from langdetect import detect\n",
    "\n",
    "# Enable logging for gensim - optional\n",
    "import logging\n",
    "logging.basicConfig(format='%(asctime)s : %(levelname)s : %(message)s', level=logging.ERROR)\n",
    "\n",
    "import warnings\n",
    "warnings.filterwarnings('ignore')\n",
    "\n",
    "import seaborn as sns\n",
    "\n",
    "from yellowbrick.features import FeatureImportances\n",
    "from yellowbrick.regressor import ResidualsPlot\n",
    "from yellowbrick.model_selection import CVScores\n",
    "\n",
    "from sklearn.ensemble import RandomForestRegressor\n",
    "from sklearn.model_selection import train_test_split\n",
    "from sklearn.svm import SVR\n",
    "from sklearn.neural_network import MLPRegressor\n",
    "from sklearn.neighbors import KNeighborsRegressor\n",
    "from sklearn.linear_model import BayesianRidge, LinearRegression\n",
    "from sklearn.naive_bayes import MultinomialNB\n",
    "from sklearn.model_selection import StratifiedKFold"
   ]
  },
  {
   "cell_type": "code",
   "execution_count": 86,
   "metadata": {},
   "outputs": [
    {
     "name": "stdout",
     "output_type": "stream",
     "text": [
      "Collecting xlrd\n",
      "  Downloading xlrd-1.2.0-py2.py3-none-any.whl (103 kB)\n",
      "\u001b[K     |████████████████████████████████| 103 kB 18.4 MB/s eta 0:00:01\n",
      "\u001b[?25hInstalling collected packages: xlrd\n",
      "Successfully installed xlrd-1.2.0\n",
      "\u001b[33mWARNING: You are using pip version 20.0.2; however, version 20.1.1 is available.\n",
      "You should consider upgrading via the '/home/ec2-user/anaconda3/envs/JupyterSystemEnv/bin/python -m pip install --upgrade pip' command.\u001b[0m\n"
     ]
    }
   ],
   "source": [
    "# import sys\n",
    "# !{sys.executable} -m pip install yellowbrick\n",
    "# # !{sys.executable} -m spacy download en_core_web_sm"
   ]
  },
  {
   "cell_type": "markdown",
   "metadata": {},
   "source": [
    "# Understanding how listing description influence price and listing rating"
   ]
  },
  {
   "cell_type": "markdown",
   "metadata": {},
   "source": [
    "The AirBnb dataset provides with features not only that have numeric or structured values but also unstructured data. To mention a few examples: the name of of the property, a short description of the space, an overview of the neighborhood and a description of the listing itself. As part of our project we would like to use Natural Language Processing techniques to understand how unstructured data available for each listing might influence price.\n",
    "\n",
    "The reason we believe that there might be a relationship betweeen the listing description and the price is because \n",
    "we think that what makes a listing valuable is not only their features per se but also the way the place is presented to the potential guest. This, not only includes the pictures of the listing but also the words that the listing owners pick to describe their listing and assumingly seeks to attrack their potential customers. We assume that by including certain words in the description could potentially increase the attractiveness of a certain property to be rented. Thus, due to supply and demand law, can assume that the more demanded a property is, the higher the value it could have. \n",
    "\n",
    "To begin with the analysis we want to see if there are similarities in the way listing owners describe their place and the price they charge per night. We proceed with the assumption that listings with similar features will use similar words to describe their property. Furthermore we are curious about how words in the description could inform us about the listing's overall rating.\n",
    "\n",
    "For this reason we will be using this notebook to try to answer the following questions:\n",
    "\n",
    "1. Do listings using similar words in their description share a similar price?\n",
    "2. Do listings using similar words in their description share other features that are relevant to predict price?\n",
    "3. Do listings using similar words in their description end up having similar guest acceptance/rating?\n",
    "\n",
    "For this purpose we will first, use Latent Dirichlet Allocation to elicit the latent topics in the description. Latent Dirichlet Allocation is an unsupervised algorithm, largely used in Natural Language Processing to perform what is known as Topic Modeling. This algorightm uses probability distribution to discover which parts of the data are similar. In the context of our project we would try to discover the similar words used the description of New York City listings that could potentially influence price."
   ]
  },
  {
   "cell_type": "markdown",
   "metadata": {},
   "source": [
    "## Importing data into DataFrame"
   ]
  },
  {
   "cell_type": "code",
   "execution_count": 3,
   "metadata": {},
   "outputs": [],
   "source": [
    "path = '../data/new-york-city-airbnb-open-data/'\n",
    "listings_csv = os.path.join(path,'listings.csv')\n",
    "\n",
    "listings_df =  pd.read_csv(listings_csv,low_memory=False)"
   ]
  },
  {
   "cell_type": "code",
   "execution_count": 4,
   "metadata": {},
   "outputs": [],
   "source": [
    "# Creating content column with name and description of property\n",
    "listings_df['content'] = listings_df['name'] + listings_df['description']\n",
    "content = listings_df[['id','content']]"
   ]
  },
  {
   "cell_type": "markdown",
   "metadata": {},
   "source": [
    "As we will be able to see, the description is the single text field with fewer than 3% missing values. This is also one of the reasons why we chose to work with this field to experiment with NLP into trying to predict price."
   ]
  },
  {
   "cell_type": "code",
   "execution_count": 25,
   "metadata": {},
   "outputs": [],
   "source": [
    "summary_nulls = round((listings_df.summary.isnull().sum()/listings_df.shape[0])*100, 1)\n",
    "space = round((listings_df.space.isnull().sum()/listings_df.shape[0])*100, 1)\n",
    "description = round((listings_df.description.isnull().sum()/listings_df.shape[0])*100, 1)\n",
    "neighborhood_overview = round((listings_df.neighborhood_overview.isnull().sum()/listings_df.shape[0])*100, 1)\n",
    "notes = round((listings_df.notes.isnull().sum()/listings_df.shape[0])*100, 1)\n",
    "transit = round((listings_df.transit.isnull().sum()/listings_df.shape[0])*100, 1)\n",
    "access = round((listings_df.access.isnull().sum()/listings_df.shape[0])*100, 1)\n",
    "interaction = round((listings_df.interaction.isnull().sum()/listings_df.shape[0])*100, 1)\n",
    "house_rules = round((listings_df.house_rules.isnull().sum()/listings_df.shape[0])*100, 1)"
   ]
  },
  {
   "cell_type": "code",
   "execution_count": 24,
   "metadata": {},
   "outputs": [
    {
     "name": "stdout",
     "output_type": "stream",
     "text": [
      "4.8% of listings have empty summaries\n",
      "28.0% of listings have empty space description\n",
      "2.4% of listings have empty description\n",
      "34.4% of listings have empty overviews on their neighborhood\n",
      "59.6% of listings have no notes from the host\n",
      "34.4% of listings have no information on transit\n",
      "47.2% of listings have no information on accessibility\n",
      "40.2% of listings have no information on interaction\n",
      "39.1% of listings have no information on house_rules\n"
     ]
    }
   ],
   "source": [
    "print(f\"{summary_nulls}% of listings have empty summaries\")\n",
    "print(f\"{space}% of listings have empty space description\")\n",
    "print(f\"{description}% of listings have empty description\")\n",
    "print(f\"{neighborhood_overview}% of listings have empty overviews on their neighborhood\")\n",
    "print(f\"{notes}% of listings have no notes from the host\")\n",
    "print(f\"{transit}% of listings have no information on transit\")\n",
    "print(f\"{access}% of listings have no information on accessibility\")\n",
    "print(f\"{interaction}% of listings have no information on interaction\")\n",
    "print(f\"{house_rules}% of listings have no information on house_rules\")\n"
   ]
  },
  {
   "cell_type": "markdown",
   "metadata": {},
   "source": [
    "Importing numeric features from previous Exploratory Data Analysis and Modeling"
   ]
  },
  {
   "cell_type": "code",
   "execution_count": 26,
   "metadata": {},
   "outputs": [],
   "source": [
    "# Importing model df\n",
    "model_cols_df = pd.read_csv('../data/new-york-city-airbnb-open-data/model_columns_listings.csv',index_col = 0)"
   ]
  },
  {
   "cell_type": "code",
   "execution_count": 27,
   "metadata": {},
   "outputs": [
    {
     "data": {
      "text/html": [
       "<div>\n",
       "<style scoped>\n",
       "    .dataframe tbody tr th:only-of-type {\n",
       "        vertical-align: middle;\n",
       "    }\n",
       "\n",
       "    .dataframe tbody tr th {\n",
       "        vertical-align: top;\n",
       "    }\n",
       "\n",
       "    .dataframe thead th {\n",
       "        text-align: right;\n",
       "    }\n",
       "</style>\n",
       "<table border=\"1\" class=\"dataframe\">\n",
       "  <thead>\n",
       "    <tr style=\"text-align: right;\">\n",
       "      <th></th>\n",
       "      <th>id</th>\n",
       "      <th>host_since</th>\n",
       "      <th>host_is_superhost</th>\n",
       "      <th>host_identity_verified</th>\n",
       "    </tr>\n",
       "  </thead>\n",
       "  <tbody>\n",
       "    <tr>\n",
       "      <th>0</th>\n",
       "      <td>2595</td>\n",
       "      <td>733294</td>\n",
       "      <td>0</td>\n",
       "      <td>1</td>\n",
       "    </tr>\n",
       "    <tr>\n",
       "      <th>1</th>\n",
       "      <td>3831</td>\n",
       "      <td>733383</td>\n",
       "      <td>0</td>\n",
       "      <td>1</td>\n",
       "    </tr>\n",
       "    <tr>\n",
       "      <th>2</th>\n",
       "      <td>5099</td>\n",
       "      <td>733440</td>\n",
       "      <td>0</td>\n",
       "      <td>0</td>\n",
       "    </tr>\n",
       "    <tr>\n",
       "      <th>3</th>\n",
       "      <td>5121</td>\n",
       "      <td>733441</td>\n",
       "      <td>0</td>\n",
       "      <td>0</td>\n",
       "    </tr>\n",
       "    <tr>\n",
       "      <th>4</th>\n",
       "      <td>5178</td>\n",
       "      <td>733469</td>\n",
       "      <td>0</td>\n",
       "      <td>0</td>\n",
       "    </tr>\n",
       "  </tbody>\n",
       "</table>\n",
       "</div>"
      ],
      "text/plain": [
       "     id  host_since  host_is_superhost  host_identity_verified\n",
       "0  2595      733294                  0                       1\n",
       "1  3831      733383                  0                       1\n",
       "2  5099      733440                  0                       0\n",
       "3  5121      733441                  0                       0\n",
       "4  5178      733469                  0                       0"
      ]
     },
     "execution_count": 27,
     "metadata": {},
     "output_type": "execute_result"
    }
   ],
   "source": [
    "model_cols_df.iloc[:,0:4].head()"
   ]
  },
  {
   "cell_type": "code",
   "execution_count": 28,
   "metadata": {},
   "outputs": [],
   "source": [
    "# Joining the new created 'content' column with the model dataframe just to choose rows that are relevant\n",
    "df_model = pd.merge(left=model_cols_df, right=content, how='left', on='id')\n",
    "\n",
    "# dropping null values\n",
    "df_model = df_model.dropna()"
   ]
  },
  {
   "cell_type": "code",
   "execution_count": 29,
   "metadata": {},
   "outputs": [
    {
     "data": {
      "text/html": [
       "<div>\n",
       "<style scoped>\n",
       "    .dataframe tbody tr th:only-of-type {\n",
       "        vertical-align: middle;\n",
       "    }\n",
       "\n",
       "    .dataframe tbody tr th {\n",
       "        vertical-align: top;\n",
       "    }\n",
       "\n",
       "    .dataframe thead th {\n",
       "        text-align: right;\n",
       "    }\n",
       "</style>\n",
       "<table border=\"1\" class=\"dataframe\">\n",
       "  <thead>\n",
       "    <tr style=\"text-align: right;\">\n",
       "      <th></th>\n",
       "      <th>id</th>\n",
       "      <th>host_since</th>\n",
       "      <th>host_is_superhost</th>\n",
       "      <th>host_identity_verified</th>\n",
       "    </tr>\n",
       "  </thead>\n",
       "  <tbody>\n",
       "    <tr>\n",
       "      <th>0</th>\n",
       "      <td>2595</td>\n",
       "      <td>733294</td>\n",
       "      <td>0</td>\n",
       "      <td>1</td>\n",
       "    </tr>\n",
       "    <tr>\n",
       "      <th>1</th>\n",
       "      <td>3831</td>\n",
       "      <td>733383</td>\n",
       "      <td>0</td>\n",
       "      <td>1</td>\n",
       "    </tr>\n",
       "    <tr>\n",
       "      <th>2</th>\n",
       "      <td>5099</td>\n",
       "      <td>733440</td>\n",
       "      <td>0</td>\n",
       "      <td>0</td>\n",
       "    </tr>\n",
       "    <tr>\n",
       "      <th>3</th>\n",
       "      <td>5121</td>\n",
       "      <td>733441</td>\n",
       "      <td>0</td>\n",
       "      <td>0</td>\n",
       "    </tr>\n",
       "    <tr>\n",
       "      <th>4</th>\n",
       "      <td>5178</td>\n",
       "      <td>733469</td>\n",
       "      <td>0</td>\n",
       "      <td>0</td>\n",
       "    </tr>\n",
       "  </tbody>\n",
       "</table>\n",
       "</div>"
      ],
      "text/plain": [
       "     id  host_since  host_is_superhost  host_identity_verified\n",
       "0  2595      733294                  0                       1\n",
       "1  3831      733383                  0                       1\n",
       "2  5099      733440                  0                       0\n",
       "3  5121      733441                  0                       0\n",
       "4  5178      733469                  0                       0"
      ]
     },
     "execution_count": 29,
     "metadata": {},
     "output_type": "execute_result"
    }
   ],
   "source": [
    "df_model.iloc[:,0:4].head()"
   ]
  },
  {
   "cell_type": "markdown",
   "metadata": {},
   "source": [
    "## Predicting Language from content"
   ]
  },
  {
   "cell_type": "markdown",
   "metadata": {},
   "source": [
    "As we may already know, AirBnb is a platform used by people from all around the world. Therefore, some hosts that want to attract guests who speak languages other than English might want to use different language or languages to describe their place. For our analysis we want to make sure that we are working with a single language and since the majority of reviews are written in English, we will use langdetect, to determine those descriptions written in English only. Langdetect is a language detection algorithm that supports 55 languages out of the box. To maximize the probability of the algorithms predicting the correct language we make sure we send it a long enough string."
   ]
  },
  {
   "cell_type": "code",
   "execution_count": 30,
   "metadata": {},
   "outputs": [],
   "source": [
    "def predict_lang(x):\n",
    "    lang=''\n",
    "    txt_len=len(x)\n",
    "    if txt_len>50:\n",
    "        try:\n",
    "            lang=detect(x)\n",
    "        except Exception as e:\n",
    "            lang=''\n",
    "    return lang"
   ]
  },
  {
   "cell_type": "code",
   "execution_count": 31,
   "metadata": {},
   "outputs": [],
   "source": [
    "df_model['content_lang'] = df_model.content.apply(lambda x: predict_lang(x))"
   ]
  },
  {
   "cell_type": "code",
   "execution_count": 32,
   "metadata": {},
   "outputs": [],
   "source": [
    "# getting only text in English\n",
    "df_model_en_desc = df_model[df_model.content_lang=='en']"
   ]
  },
  {
   "cell_type": "code",
   "execution_count": 33,
   "metadata": {},
   "outputs": [
    {
     "data": {
      "text/plain": [
       "((27354, 47), (27106, 47))"
      ]
     },
     "execution_count": 33,
     "metadata": {},
     "output_type": "execute_result"
    }
   ],
   "source": [
    "df_model.shape, df_model_en_desc.shape"
   ]
  },
  {
   "cell_type": "code",
   "execution_count": 34,
   "metadata": {},
   "outputs": [
    {
     "data": {
      "text/html": [
       "<div>\n",
       "<style scoped>\n",
       "    .dataframe tbody tr th:only-of-type {\n",
       "        vertical-align: middle;\n",
       "    }\n",
       "\n",
       "    .dataframe tbody tr th {\n",
       "        vertical-align: top;\n",
       "    }\n",
       "\n",
       "    .dataframe thead th {\n",
       "        text-align: right;\n",
       "    }\n",
       "</style>\n",
       "<table border=\"1\" class=\"dataframe\">\n",
       "  <thead>\n",
       "    <tr style=\"text-align: right;\">\n",
       "      <th></th>\n",
       "      <th>id</th>\n",
       "      <th>host_since</th>\n",
       "      <th>host_is_superhost</th>\n",
       "      <th>host_identity_verified</th>\n",
       "    </tr>\n",
       "  </thead>\n",
       "  <tbody>\n",
       "    <tr>\n",
       "      <th>0</th>\n",
       "      <td>2595</td>\n",
       "      <td>733294</td>\n",
       "      <td>0</td>\n",
       "      <td>1</td>\n",
       "    </tr>\n",
       "    <tr>\n",
       "      <th>1</th>\n",
       "      <td>3831</td>\n",
       "      <td>733383</td>\n",
       "      <td>0</td>\n",
       "      <td>1</td>\n",
       "    </tr>\n",
       "    <tr>\n",
       "      <th>2</th>\n",
       "      <td>5099</td>\n",
       "      <td>733440</td>\n",
       "      <td>0</td>\n",
       "      <td>0</td>\n",
       "    </tr>\n",
       "    <tr>\n",
       "      <th>3</th>\n",
       "      <td>5121</td>\n",
       "      <td>733441</td>\n",
       "      <td>0</td>\n",
       "      <td>0</td>\n",
       "    </tr>\n",
       "    <tr>\n",
       "      <th>4</th>\n",
       "      <td>5178</td>\n",
       "      <td>733469</td>\n",
       "      <td>0</td>\n",
       "      <td>0</td>\n",
       "    </tr>\n",
       "  </tbody>\n",
       "</table>\n",
       "</div>"
      ],
      "text/plain": [
       "     id  host_since  host_is_superhost  host_identity_verified\n",
       "0  2595      733294                  0                       1\n",
       "1  3831      733383                  0                       1\n",
       "2  5099      733440                  0                       0\n",
       "3  5121      733441                  0                       0\n",
       "4  5178      733469                  0                       0"
      ]
     },
     "execution_count": 34,
     "metadata": {},
     "output_type": "execute_result"
    }
   ],
   "source": [
    "df_model_en_desc.iloc[:,0:4].head()"
   ]
  },
  {
   "cell_type": "markdown",
   "metadata": {},
   "source": [
    "## LDA for Topic Modeling in Listing Description"
   ]
  },
  {
   "cell_type": "code",
   "execution_count": 35,
   "metadata": {},
   "outputs": [],
   "source": [
    "def generate_list_content(df):\n",
    "#     df['content'] = df['name'] + df['summary']\n",
    "#     df['content'] = df['content'].replace(np.nan, '', regex=True)\n",
    "    \n",
    "    # Convert to list\n",
    "    data = df['content'].values.tolist()\n",
    "\n",
    "    # Remove Emails\n",
    "    data = [re.sub('\\S*@\\S*\\s?', '', sent) for sent in data]\n",
    "\n",
    "    # Remove new line characters\n",
    "    data = [re.sub('\\s+', ' ', sent) for sent in data]\n",
    "\n",
    "    # Remove distracting single quotes\n",
    "    data = [re.sub(\"\\'\", \"\", sent) for sent in data]\n",
    "    \n",
    "    \n",
    "    return data"
   ]
  },
  {
   "cell_type": "code",
   "execution_count": 36,
   "metadata": {},
   "outputs": [],
   "source": [
    "lst_texts = generate_list_content(df_model_en_desc)"
   ]
  },
  {
   "cell_type": "code",
   "execution_count": 37,
   "metadata": {},
   "outputs": [
    {
     "data": {
      "text/plain": [
       "27106"
      ]
     },
     "execution_count": 37,
     "metadata": {},
     "output_type": "execute_result"
    }
   ],
   "source": [
    "len(lst_texts)"
   ]
  },
  {
   "cell_type": "markdown",
   "metadata": {},
   "source": [
    "## Tokenize words and clean up text"
   ]
  },
  {
   "cell_type": "code",
   "execution_count": 38,
   "metadata": {},
   "outputs": [],
   "source": [
    "# here we are tokenizing each document.\n",
    "def content_to_words(lst_texts):\n",
    "    for text in lst_texts:\n",
    "        yield(gensim.utils.simple_preprocess(str(text), deacc=True))\n",
    "        \n",
    "# data_words is a list where each element is the tokenized document\n",
    "tokenized_content = list(content_to_words(lst_texts))"
   ]
  },
  {
   "cell_type": "markdown",
   "metadata": {},
   "source": [
    "## Create bigram and trigrams"
   ]
  },
  {
   "cell_type": "code",
   "execution_count": 39,
   "metadata": {},
   "outputs": [],
   "source": [
    "# Build the bigram and trigram models\n",
    "bigram = gensim.models.Phrases(tokenized_content, min_count=10, threshold=100) # higher threshold fewer phrases.\n",
    "trigram = gensim.models.Phrases(bigram[tokenized_content], threshold=100)  \n",
    "\n",
    "\n",
    "# Faster way to get a sentence clubbed as a trigram/bigram\n",
    "bigram_mod = gensim.models.phrases.Phraser(bigram)\n",
    "trigram_mod = gensim.models.phrases.Phraser(trigram)"
   ]
  },
  {
   "cell_type": "markdown",
   "metadata": {},
   "source": [
    "## Remove Stopwords, Make Bigrams and Lemmatize"
   ]
  },
  {
   "cell_type": "code",
   "execution_count": 40,
   "metadata": {},
   "outputs": [],
   "source": [
    "# Define functions for stopwords, bigrams, trigrams and lemmatization\n",
    "def remove_stopwords(tokenized_content):\n",
    "    return [[word for word in simple_preprocess(str(doc)) if word not in stop_words] for doc in tokenized_content]\n",
    "\n",
    "def make_bigrams(tokenized_content):\n",
    "    return [bigram_mod[doc] for doc in tokenized_content]\n",
    "\n",
    "def make_trigrams(tokenized_content):\n",
    "    return [trigram_mod[bigram_mod[doc]] for doc in tokenized_content]\n",
    "\n",
    "def lemmatization(tokenized_content, allowed_postags=['NOUN', 'ADJ', 'VERB', 'ADV']):\n",
    "    \"\"\"https://spacy.io/api/annotation\"\"\"\n",
    "    texts_out = []\n",
    "    for sent in tokenized_content:\n",
    "        doc = nlp(\" \".join(sent)) \n",
    "        texts_out.append([token.lemma_ for token in doc if token.pos_ in allowed_postags])\n",
    "    return texts_out\n",
    "nlp = en_core_web_sm.load(disable=['parser', 'ner'])"
   ]
  },
  {
   "cell_type": "code",
   "execution_count": 41,
   "metadata": {},
   "outputs": [],
   "source": [
    "# Remove Stop Words\n",
    "tokenized_content_nostops = remove_stopwords(tokenized_content)\n",
    "\n",
    "# Form Bigrams\n",
    "tokenized_content_bigrams = make_bigrams(tokenized_content_nostops)\n",
    "\n",
    "# Do lemmatization keeping only noun, adj, vb, adv\n",
    "tokenized_content_lemmatized = lemmatization(tokenized_content_bigrams, \n",
    "                                             allowed_postags=['NOUN', 'ADJ', 'VERB', 'ADV'])"
   ]
  },
  {
   "cell_type": "markdown",
   "metadata": {},
   "source": [
    "## Create the Dictionary and Corpus needed for Topic Modeling"
   ]
  },
  {
   "cell_type": "code",
   "execution_count": 42,
   "metadata": {},
   "outputs": [],
   "source": [
    "# Create Dictionary:\n",
    "# Mapping from word IDs to words. \n",
    "# It is used to determine the vocabulary size, as well as for debugging and topic printing.\n",
    "id2word = corpora.Dictionary(tokenized_content_lemmatized)\n",
    "# print(len(id2word)) # corpus has 14118 unique tokens\n",
    "\n",
    "# Term Document Frequency\n",
    "# Convert document (a list of words) into the bag-of-words format = list of (token_id, token_count) 2-tuples.\n",
    "# Word with their corresponding id\n",
    "corpus = [id2word.doc2bow(text) for text in tokenized_content_lemmatized]\n",
    "\n",
    "# View\n",
    "# print(corpus[:1])"
   ]
  },
  {
   "cell_type": "markdown",
   "metadata": {},
   "source": [
    "The biggest challenge of using LDA for Topic Modeling is determining the right amount of topics *n*. Therefore we will use two metrics: Perplexity and Coherence as well as the pyLDAvis to approximately determine the right number of topics that are latent in our corpus (description)."
   ]
  },
  {
   "cell_type": "markdown",
   "metadata": {},
   "source": [
    "## Build list of topic models"
   ]
  },
  {
   "cell_type": "code",
   "execution_count": 43,
   "metadata": {},
   "outputs": [],
   "source": [
    "def build_topics(num_topics):\n",
    "    list_models=[]\n",
    "    for n in num_topics:\n",
    "        topic_name = 'lda_model_' + str(n)\n",
    "        topic_name = gensim.models.ldamodel.LdaModel(corpus=corpus, id2word=id2word, \n",
    "                                                     num_topics=n, random_state=100, \n",
    "                                                     update_every=1, chunksize=100, \n",
    "                                                     passes=10, alpha='auto', \n",
    "                                                     per_word_topics=True)\n",
    "        list_models.append(topic_name)\n",
    "    return list_models\n",
    "\n",
    "num_topics = [2,3,4,5,6,7,8,9,10,11,12,13,14,15,16,17,18,19,20]\n",
    "models = build_topics(num_topics)"
   ]
  },
  {
   "cell_type": "code",
   "execution_count": 116,
   "metadata": {},
   "outputs": [],
   "source": [
    "## Saving the models to disc\n",
    "from gensim.test.utils import datapath\n",
    "\n",
    "# Save model to disk.\n",
    "for i in range(len(models)):\n",
    "    temp_file = datapath(\"model\" + str(i))\n",
    "    models[i].save(temp_file)"
   ]
  },
  {
   "cell_type": "code",
   "execution_count": null,
   "metadata": {},
   "outputs": [],
   "source": [
    "# Load a potentially pretrained model from disk.\n",
    "# lda = LdaModel.load(temp_file)"
   ]
  },
  {
   "cell_type": "markdown",
   "metadata": {},
   "source": [
    "## Compute Model Perplexity and Coherence Score for all models"
   ]
  },
  {
   "cell_type": "markdown",
   "metadata": {},
   "source": [
    "According to (Jansen, 2018) Perplexity when applied to LDA meassures how well the topic-word probability distribution recovered by the model predicts a sample, for example, unseen text documents. It is based on the entropy H(p) of this distribution p and computed with respect to the set of tokens w. Measures closer to zero imply the distribution is better at predicting the sample.\n",
    "\n",
    "In terms of Coherence, we will be using Gensim implementation based on the paper writen by (Roder, et al., 2015). Larger scores in coherence mean better topic representation of the corpus."
   ]
  },
  {
   "cell_type": "markdown",
   "metadata": {},
   "source": [
    "## Bibliography\n",
    "\n",
    "Jansen, S. (2018). Perplexity. In Hands-on machine learning for algorithmic trading: Design and implement investment strategies based on smart algorithms that learn from data using Python. Birmingham: Packt Publishing.\n",
    "\n",
    "Roder, M., Both, A., and Hinneburg, A. (2015). Exploring the Space of Topic Coherence Measures. In Proceedings of the Eighth ACM International Conference on Web Search and Data Mining, WSDM ’15, pages 399–408, New York, NY, USA. ACM."
   ]
  },
  {
   "cell_type": "code",
   "execution_count": 45,
   "metadata": {},
   "outputs": [],
   "source": [
    "def calc_perplexity_coherence(models):\n",
    "    list_perplexity = []\n",
    "    list_coherence = []\n",
    "    \n",
    "    for model in models:\n",
    "        list_perplexity.append(model.log_perplexity(corpus))\n",
    "        coherence_model_lda = CoherenceModel(model=model, texts=tokenized_content_lemmatized, \n",
    "                                             dictionary=id2word, coherence='c_v')\n",
    "        list_coherence.append(coherence_model_lda.get_coherence())\n",
    "    return list_perplexity, list_coherence\n",
    "\n",
    "x = calc_perplexity_coherence(models)      "
   ]
  },
  {
   "cell_type": "code",
   "execution_count": 46,
   "metadata": {},
   "outputs": [
    {
     "data": {
      "text/html": [
       "<div>\n",
       "<style scoped>\n",
       "    .dataframe tbody tr th:only-of-type {\n",
       "        vertical-align: middle;\n",
       "    }\n",
       "\n",
       "    .dataframe tbody tr th {\n",
       "        vertical-align: top;\n",
       "    }\n",
       "\n",
       "    .dataframe thead th {\n",
       "        text-align: right;\n",
       "    }\n",
       "</style>\n",
       "<table border=\"1\" class=\"dataframe\">\n",
       "  <thead>\n",
       "    <tr style=\"text-align: right;\">\n",
       "      <th></th>\n",
       "      <th>Perplexity</th>\n",
       "      <th>Coherence</th>\n",
       "      <th>Number of topics</th>\n",
       "    </tr>\n",
       "  </thead>\n",
       "  <tbody>\n",
       "    <tr>\n",
       "      <th>0</th>\n",
       "      <td>-6.710409</td>\n",
       "      <td>0.389050</td>\n",
       "      <td>2</td>\n",
       "    </tr>\n",
       "    <tr>\n",
       "      <th>1</th>\n",
       "      <td>-6.683156</td>\n",
       "      <td>0.478600</td>\n",
       "      <td>3</td>\n",
       "    </tr>\n",
       "    <tr>\n",
       "      <th>2</th>\n",
       "      <td>-6.683335</td>\n",
       "      <td>0.472871</td>\n",
       "      <td>4</td>\n",
       "    </tr>\n",
       "    <tr>\n",
       "      <th>3</th>\n",
       "      <td>-6.695626</td>\n",
       "      <td>0.521508</td>\n",
       "      <td>5</td>\n",
       "    </tr>\n",
       "    <tr>\n",
       "      <th>4</th>\n",
       "      <td>-6.720919</td>\n",
       "      <td>0.476990</td>\n",
       "      <td>6</td>\n",
       "    </tr>\n",
       "    <tr>\n",
       "      <th>5</th>\n",
       "      <td>-6.750671</td>\n",
       "      <td>0.420318</td>\n",
       "      <td>7</td>\n",
       "    </tr>\n",
       "    <tr>\n",
       "      <th>6</th>\n",
       "      <td>-6.784542</td>\n",
       "      <td>0.411547</td>\n",
       "      <td>8</td>\n",
       "    </tr>\n",
       "    <tr>\n",
       "      <th>7</th>\n",
       "      <td>-6.830094</td>\n",
       "      <td>0.469787</td>\n",
       "      <td>9</td>\n",
       "    </tr>\n",
       "    <tr>\n",
       "      <th>8</th>\n",
       "      <td>-6.929373</td>\n",
       "      <td>0.386585</td>\n",
       "      <td>10</td>\n",
       "    </tr>\n",
       "    <tr>\n",
       "      <th>9</th>\n",
       "      <td>-7.090426</td>\n",
       "      <td>0.370052</td>\n",
       "      <td>11</td>\n",
       "    </tr>\n",
       "    <tr>\n",
       "      <th>10</th>\n",
       "      <td>-7.377674</td>\n",
       "      <td>0.382128</td>\n",
       "      <td>12</td>\n",
       "    </tr>\n",
       "    <tr>\n",
       "      <th>11</th>\n",
       "      <td>-7.753111</td>\n",
       "      <td>0.423593</td>\n",
       "      <td>13</td>\n",
       "    </tr>\n",
       "    <tr>\n",
       "      <th>12</th>\n",
       "      <td>-8.243819</td>\n",
       "      <td>0.404907</td>\n",
       "      <td>14</td>\n",
       "    </tr>\n",
       "    <tr>\n",
       "      <th>13</th>\n",
       "      <td>-8.518666</td>\n",
       "      <td>0.407308</td>\n",
       "      <td>15</td>\n",
       "    </tr>\n",
       "    <tr>\n",
       "      <th>14</th>\n",
       "      <td>-8.707184</td>\n",
       "      <td>0.402344</td>\n",
       "      <td>16</td>\n",
       "    </tr>\n",
       "    <tr>\n",
       "      <th>15</th>\n",
       "      <td>-8.851978</td>\n",
       "      <td>0.389579</td>\n",
       "      <td>17</td>\n",
       "    </tr>\n",
       "    <tr>\n",
       "      <th>16</th>\n",
       "      <td>-8.966168</td>\n",
       "      <td>0.373497</td>\n",
       "      <td>18</td>\n",
       "    </tr>\n",
       "    <tr>\n",
       "      <th>17</th>\n",
       "      <td>-9.086296</td>\n",
       "      <td>0.375945</td>\n",
       "      <td>19</td>\n",
       "    </tr>\n",
       "    <tr>\n",
       "      <th>18</th>\n",
       "      <td>-9.218709</td>\n",
       "      <td>0.362936</td>\n",
       "      <td>20</td>\n",
       "    </tr>\n",
       "  </tbody>\n",
       "</table>\n",
       "</div>"
      ],
      "text/plain": [
       "    Perplexity  Coherence  Number of topics\n",
       "0    -6.710409   0.389050                 2\n",
       "1    -6.683156   0.478600                 3\n",
       "2    -6.683335   0.472871                 4\n",
       "3    -6.695626   0.521508                 5\n",
       "4    -6.720919   0.476990                 6\n",
       "5    -6.750671   0.420318                 7\n",
       "6    -6.784542   0.411547                 8\n",
       "7    -6.830094   0.469787                 9\n",
       "8    -6.929373   0.386585                10\n",
       "9    -7.090426   0.370052                11\n",
       "10   -7.377674   0.382128                12\n",
       "11   -7.753111   0.423593                13\n",
       "12   -8.243819   0.404907                14\n",
       "13   -8.518666   0.407308                15\n",
       "14   -8.707184   0.402344                16\n",
       "15   -8.851978   0.389579                17\n",
       "16   -8.966168   0.373497                18\n",
       "17   -9.086296   0.375945                19\n",
       "18   -9.218709   0.362936                20"
      ]
     },
     "execution_count": 46,
     "metadata": {},
     "output_type": "execute_result"
    }
   ],
   "source": [
    "df_metrics = pd.DataFrame(list(x)).transpose()\n",
    "df_metrics.columns = ['Perplexity','Coherence']\n",
    "df_metrics['Number of topics'] = num_topics\n",
    "df_metrics"
   ]
  },
  {
   "cell_type": "markdown",
   "metadata": {},
   "source": [
    "## Graphic of number of Topics and Perplexity"
   ]
  },
  {
   "cell_type": "code",
   "execution_count": 47,
   "metadata": {},
   "outputs": [
    {
     "data": {
      "image/png": "[encoded data removed]",
      "text/plain": [
       "<Figure size 576x396 with 1 Axes>"
      ]
     },
     "metadata": {},
     "output_type": "display_data"
    }
   ],
   "source": [
    "# Perplexity needs to be as low as possible \n",
    "plt.plot( 'Number of topics', 'Perplexity', data=df_metrics, color='skyblue')\n",
    "plt.xlabel(\"Number of Topics\")\n",
    "plt.ylabel(\"Perplexity\")\n",
    "plt.show()"
   ]
  },
  {
   "cell_type": "markdown",
   "metadata": {},
   "source": [
    "## Graphic of number of Topics and Coherence"
   ]
  },
  {
   "cell_type": "code",
   "execution_count": 48,
   "metadata": {},
   "outputs": [
    {
     "data": {
      "image/png": "[encoded data removed]",
      "text/plain": [
       "<Figure size 576x396 with 1 Axes>"
      ]
     },
     "metadata": {},
     "output_type": "display_data"
    }
   ],
   "source": [
    "# Perplexity needs to be as low as possible \n",
    "plt.plot( 'Number of topics', 'Coherence', data=df_metrics, color='orange')\n",
    "plt.xlabel(\"Number of Topics\")\n",
    "plt.ylabel(\"Coherence\")\n",
    "plt.show()"
   ]
  },
  {
   "cell_type": "markdown",
   "metadata": {},
   "source": [
    "## Visualizing topics accordint to the best *n*"
   ]
  },
  {
   "cell_type": "markdown",
   "metadata": {},
   "source": [
    "### Five topics"
   ]
  },
  {
   "cell_type": "code",
   "execution_count": 65,
   "metadata": {},
   "outputs": [
    {
     "data": {
      "text/html": [
       "\n",
       "<link rel=\"stylesheet\" type=\"text/css\" href=\"https://cdn.rawgit.com/bmabey/pyLDAvis/files/ldavis.v1.0.0.css\">\n",
       "\n",
       "\n",
       "<div id=\"ldavis_el139171404455088855041281976698\"></div>\n",
       "<script type=\"text/javascript\">\n",
       "\n",
       "var ldavis_el139171404455088855041281976698_data = {\"mdsDat\": {\"Freq\": [29.235530853271484, 28.72222900390625, 26.22171974182129, 13.65207290649414, 2.1684415340423584], \"cluster\": [1, 1, 1, 1, 1], \"topics\": [1, 2, 3, 4, 5], \"x\": [-0.06264099303183693, -0.19200188524292014, 0.01338033719723913, -0.1338355448742583, 0.37509808595177624], \"y\": [0.046274445979875525, -0.17295084487908363, -0.19550978218137285, 0.29187232884248265, 0.03031385223809838]}, \"tinfo\": {\"Category\": [\"Default\", \"Default\", \"Default\", \"Default\", \"Default\", \"Default\", \"Default\", \"Default\", \"Default\", \"Default\", \"Default\", \"Default\", \"Default\", \"Default\", \"Default\", \"Default\", \"Default\", \"Default\", \"Default\", \"Default\", \"Default\", \"Default\", \"Default\", \"Default\", \"Default\", \"Default\", \"Default\", \"Default\", \"Default\", \"Default\", \"Topic1\", \"Topic1\", \"Topic1\", \"Topic1\", \"Topic1\", \"Topic1\", \"Topic1\", \"Topic1\", \"Topic1\", \"Topic1\", \"Topic1\", \"Topic1\", \"Topic1\", \"Topic1\", \"Topic1\", \"Topic1\", \"Topic1\", \"Topic1\", \"Topic1\", \"Topic1\", \"Topic1\", \"Topic1\", \"Topic1\", \"Topic1\", \"Topic1\", \"Topic1\", \"Topic1\", \"Topic1\", \"Topic1\", \"Topic1\", \"Topic1\", \"Topic1\", \"Topic1\", \"Topic1\", \"Topic1\", \"Topic1\", \"Topic1\", \"Topic1\", \"Topic1\", \"Topic1\", \"Topic1\", \"Topic1\", \"Topic1\", \"Topic1\", \"Topic1\", \"Topic1\", \"Topic1\", \"Topic1\", \"Topic1\", \"Topic1\", \"Topic1\", \"Topic1\", \"Topic1\", \"Topic1\", \"Topic1\", \"Topic2\", \"Topic2\", \"Topic2\", \"Topic2\", \"Topic2\", \"Topic2\", \"Topic2\", \"Topic2\", \"Topic2\", \"Topic2\", \"Topic2\", \"Topic2\", \"Topic2\", \"Topic2\", \"Topic2\", \"Topic2\", \"Topic2\", \"Topic2\", \"Topic2\", \"Topic2\", \"Topic2\", \"Topic2\", \"Topic2\", \"Topic2\", \"Topic2\", \"Topic2\", \"Topic2\", \"Topic2\", \"Topic2\", \"Topic2\", \"Topic2\", \"Topic2\", \"Topic2\", \"Topic2\", \"Topic2\", \"Topic2\", \"Topic2\", \"Topic2\", \"Topic2\", \"Topic2\", \"Topic2\", \"Topic2\", \"Topic2\", \"Topic3\", \"Topic3\", \"Topic3\", \"Topic3\", \"Topic3\", \"Topic3\", \"Topic3\", \"Topic3\", \"Topic3\", \"Topic3\", \"Topic3\", \"Topic3\", \"Topic3\", \"Topic3\", \"Topic3\", \"Topic3\", \"Topic3\", \"Topic3\", \"Topic3\", \"Topic3\", \"Topic3\", \"Topic3\", \"Topic3\", \"Topic3\", \"Topic3\", \"Topic3\", \"Topic3\", \"Topic3\", \"Topic3\", \"Topic3\", \"Topic3\", \"Topic3\", \"Topic3\", \"Topic3\", \"Topic3\", \"Topic3\", \"Topic3\", \"Topic3\", \"Topic3\", \"Topic3\", \"Topic3\", \"Topic3\", \"Topic3\", \"Topic3\", \"Topic3\", \"Topic3\", \"Topic3\", \"Topic3\", \"Topic3\", \"Topic3\", \"Topic3\", \"Topic3\", \"Topic3\", \"Topic3\", \"Topic3\", \"Topic3\", \"Topic3\", \"Topic3\", \"Topic3\", \"Topic4\", \"Topic4\", \"Topic4\", \"Topic4\", \"Topic4\", \"Topic4\", \"Topic4\", \"Topic4\", \"Topic4\", \"Topic4\", \"Topic4\", \"Topic4\", \"Topic4\", \"Topic4\", \"Topic4\", \"Topic4\", \"Topic4\", \"Topic4\", \"Topic4\", \"Topic4\", \"Topic4\", \"Topic4\", \"Topic4\", \"Topic4\", \"Topic4\", \"Topic4\", \"Topic4\", \"Topic4\", \"Topic4\", \"Topic4\", \"Topic4\", \"Topic4\", \"Topic4\", \"Topic4\", \"Topic4\", \"Topic4\", \"Topic4\", \"Topic4\", \"Topic4\", \"Topic4\", \"Topic4\", \"Topic4\", \"Topic4\", \"Topic4\", \"Topic4\", \"Topic4\", \"Topic4\", \"Topic4\", \"Topic4\", \"Topic4\", \"Topic4\", \"Topic4\", \"Topic4\", \"Topic4\", \"Topic4\", \"Topic4\", \"Topic4\", \"Topic4\", \"Topic5\", \"Topic5\", \"Topic5\", \"Topic5\", \"Topic5\", \"Topic5\", \"Topic5\", \"Topic5\", \"Topic5\", \"Topic5\", \"Topic5\", \"Topic5\", \"Topic5\", \"Topic5\", \"Topic5\", \"Topic5\", \"Topic5\", \"Topic5\", \"Topic5\", \"Topic5\", \"Topic5\", \"Topic5\", \"Topic5\", \"Topic5\", \"Topic5\", \"Topic5\", \"Topic5\", \"Topic5\", \"Topic5\", \"Topic5\", \"Topic5\", \"Topic5\", \"Topic5\", \"Topic5\", \"Topic5\", \"Topic5\", \"Topic5\", \"Topic5\", \"Topic5\", \"Topic5\", \"Topic5\", \"Topic5\", \"Topic5\", \"Topic5\", \"Topic5\", \"Topic5\", \"Topic5\", \"Topic5\", \"Topic5\", \"Topic5\", \"Topic5\", \"Topic5\", \"Topic5\"], \"Freq\": [12565.0, 21889.0, 39770.0, 17663.0, 16854.0, 16899.0, 27930.0, 16295.0, 15305.0, 15451.0, 15950.0, 12728.0, 9102.0, 11439.0, 17022.0, 19820.0, 6223.0, 10186.0, 9457.0, 9227.0, 9166.0, 5956.0, 11576.0, 6505.0, 11291.0, 42346.0, 3995.0, 5184.0, 8054.0, 5013.0, 16898.92578125, 12727.1806640625, 9457.14453125, 7117.0107421875, 6754.8671875, 5268.1591796875, 4758.453125, 4536.080078125, 3711.360107421875, 2560.263916015625, 2473.843994140625, 2430.72216796875, 2187.8115234375, 2196.197021484375, 2094.5263671875, 1916.7222900390625, 1914.364013671875, 1777.2501220703125, 1776.14111328125, 1757.3941650390625, 1715.531982421875, 1562.78564453125, 1537.640869140625, 1534.4462890625, 1379.54638671875, 1351.73828125, 1289.2296142578125, 1268.7996826171875, 1247.60595703125, 1224.5653076171875, 10051.556640625, 14896.728515625, 3298.406005859375, 23806.150390625, 5878.7744140625, 16077.724609375, 4493.8203125, 28724.494140625, 5958.50390625, 3995.991943359375, 3374.92138671875, 4710.35888671875, 5997.59130859375, 7135.29833984375, 16935.01953125, 2978.423095703125, 5467.74560546875, 5560.02099609375, 5523.548828125, 4463.78515625, 3701.144775390625, 4877.75341796875, 4900.6845703125, 4536.91015625, 3850.095947265625, 21888.474609375, 17662.29296875, 16853.806640625, 16294.736328125, 15450.6533203125, 11438.7490234375, 9165.6787109375, 8053.24658203125, 7583.73046875, 7406.48095703125, 7340.27978515625, 6097.6982421875, 5285.49365234375, 5048.62646484375, 4995.5810546875, 4774.3486328125, 4488.9931640625, 3778.916259765625, 3088.40283203125, 3058.260498046875, 2567.900390625, 2578.88818359375, 2469.763427734375, 2336.826171875, 2237.6513671875, 2159.995849609375, 1639.1497802734375, 9222.3408203125, 1599.01611328125, 1459.53955078125, 9876.20703125, 4632.783203125, 4529.98779296875, 9822.904296875, 3795.270263671875, 3928.219482421875, 7028.86328125, 15613.564453125, 4971.96875, 4886.45556640625, 4952.693359375, 4107.47216796875, 3910.674072265625, 3746.572265625, 3099.531005859375, 2748.580810546875, 2718.600830078125, 2523.169677734375, 2580.828369140625, 2389.455078125, 2149.044677734375, 2150.407470703125, 2147.49853515625, 2073.921875, 1906.39990234375, 1684.07275390625, 1681.403564453125, 1539.00048828125, 1388.899658203125, 1330.2850341796875, 1251.300048828125, 1147.3116455078125, 1140.36767578125, 1100.55419921875, 1094.8502197265625, 1057.8665771484375, 1044.2138671875, 1000.923583984375, 975.3570556640625, 926.8704833984375, 923.780029296875, 919.4060668945312, 909.8648071289062, 3232.089599609375, 1853.4757080078125, 10072.443359375, 3011.00732421875, 1706.3916015625, 10975.7412109375, 4926.19384765625, 3990.264892578125, 4455.57763671875, 13171.677734375, 1612.661865234375, 7210.3291015625, 7381.7705078125, 3263.787109375, 2967.7822265625, 5178.076171875, 2840.607421875, 7480.431640625, 11045.6552734375, 3621.06005859375, 4926.4384765625, 4419.18310546875, 3144.8623046875, 3349.728515625, 4023.5244140625, 3131.19482421875, 3391.727783203125, 2941.27490234375, 2910.617919921875, 4001.297119140625, 2563.40966796875, 2347.182861328125, 2223.72705078125, 2038.410888671875, 1765.7451171875, 1643.43798828125, 1507.2000732421875, 1471.051513671875, 1493.5870361328125, 1314.8948974609375, 1148.1929931640625, 1146.6046142578125, 977.2950439453125, 979.411376953125, 887.1608276367188, 845.4768676757812, 815.6519775390625, 738.3532104492188, 724.5252685546875, 710.1307983398438, 641.26904296875, 639.1904907226562, 554.217041015625, 713.895263671875, 544.5906982421875, 519.1372680664062, 572.0718994140625, 503.7491455078125, 505.0342712402344, 6196.798828125, 5129.78857421875, 2538.184814453125, 2029.98876953125, 1702.00439453125, 1164.0927734375, 749.55615234375, 1150.427490234375, 3135.115478515625, 3612.744384765625, 4283.78466796875, 1146.7139892578125, 2842.2197265625, 3239.7783203125, 4440.552734375, 1831.951416015625, 1876.21630859375, 3033.969970703125, 7603.59716796875, 2306.7734375, 2530.913818359375, 1999.493408203125, 1624.1617431640625, 1803.6080322265625, 2521.02587890625, 2772.134521484375, 2048.2197265625, 2065.343505859375, 732.3790893554688, 536.1121215820312, 428.5218811035156, 398.53118896484375, 401.62847900390625, 395.7971496582031, 361.5992736816406, 358.23895263671875, 342.1548767089844, 324.6468505859375, 314.1626892089844, 296.282470703125, 326.843994140625, 281.5025634765625, 259.9986877441406, 256.427978515625, 253.4169158935547, 241.11874389648438, 235.29888916015625, 225.9947509765625, 227.01377868652344, 215.18167114257812, 214.08750915527344, 213.5262908935547, 213.5258331298828, 213.5258331298828, 211.06784057617188, 205.927490234375, 199.00868225097656, 194.0557098388672, 270.0553283691406, 561.0244750976562, 359.3717346191406, 539.1165771484375, 1547.453125, 457.0679016113281, 730.6087646484375, 484.1557312011719, 854.70849609375, 426.1224670410156, 448.4792785644531, 796.8624267578125, 567.4486694335938, 476.6221008300781, 416.1060791015625, 448.3829345703125, 417.6456604003906, 388.396484375, 416.0289001464844, 400.81256103515625, 393.49267578125, 374.51190185546875, 371.9197082519531], \"Term\": [\"stay\", \"walk\", \"room\", \"train\", \"minute\", \"bed\", \"bedroom\", \"restaurant\", \"bathroom\", \"away\", \"space\", \"full\", \"clean\", \"block\", \"guest\", \"private\", \"modern\", \"kitchen\", \"living\", \"close\", \"bar\", \"provide\", \"floor\", \"fully\", \"home\", \"apartment\", \"check\", \"light\", \"subway\", \"equip\", \"bed\", \"full\", \"living\", \"tv\", \"size\", \"wifi\", \"dining\", \"closet\", \"table\", \"smart\", \"sized\", \"mattress\", \"desk\", \"speed\", \"linen\", \"shower\", \"couch\", \"sofa\", \"separate\", \"level\", \"sheet\", \"maker\", \"double\", \"heat\", \"chair\", \"internet\", \"cooking\", \"air\", \"cable\", \"iron\", \"kitchen\", \"bathroom\", \"entrance\", \"bedroom\", \"fully\", \"private\", \"equip\", \"room\", \"include\", \"towel\", \"queen\", \"provide\", \"large\", \"floor\", \"apartment\", \"sleep\", \"live\", \"share\", \"access\", \"comfortable\", \"renovate\", \"area\", \"space\", \"locate\", \"guest\", \"walk\", \"train\", \"minute\", \"restaurant\", \"away\", \"block\", \"bar\", \"subway\", \"shop\", \"distance\", \"station\", \"bus\", \"park\", \"line\", \"many\", \"store\", \"min\", \"stop\", \"downtown\", \"nearby\", \"corner\", \"cafe\", \"supermarket\", \"ride\", \"grocery\", \"shopping\", \"market\", \"close\", \"center\", \"less\", \"neighborhood\", \"street\", \"location\", \"locate\", \"easy\", \"safe\", \"available\", \"apartment\", \"great\", \"quiet\", \"good\", \"area\", \"also\", \"be\", \"host\", \"give\", \"may\", \"help\", \"want\", \"love\", \"would\", \"keep\", \"airbnb\", \"travel\", \"ask\", \"book\", \"message\", \"friend\", \"thing\", \"leave\", \"traveler\", \"contact\", \"party\", \"let\", \"sure\", \"pm\", \"lock\", \"happy\", \"try\", \"read\", \"roommate\", \"self\", \"answer\", \"day\", \"see\", \"home\", \"welcome\", \"key\", \"stay\", \"make\", \"work\", \"feel\", \"guest\", \"s\", \"place\", \"need\", \"check\", \"come\", \"time\", \"people\", \"space\", \"room\", \"free\", \"share\", \"clean\", \"enjoy\", \"use\", \"live\", \"cozy\", \"also\", \"available\", \"private\", \"view\", \"natural\", \"art\", \"luxury\", \"ceiling\", \"historic\", \"fill\", \"rooftop\", \"brownstone\", \"stylish\", \"creative\", \"gorgeous\", \"outdoor\", \"artist\", \"plant\", \"charm\", \"loft\", \"wall\", \"decorate\", \"terrace\", \"stunning\", \"designer\", \"finish\", \"original\", \"real\", \"oasis\", \"wood\", \"chic\", \"vintage\", \"seat\", \"modern\", \"light\", \"village\", \"top\", \"style\", \"foot\", \"end\", \"garden\", \"window\", \"high\", \"building\", \"east\", \"build\", \"beautiful\", \"floor\", \"feature\", \"appliance\", \"new\", \"apartment\", \"studio\", \"heart\", \"offer\", \"bright\", \"amenity\", \"large\", \"space\", \"renovate\", \"spacious\", \"charge\", \"professional\", \"sonder\", \"sond\", \"deep\", \"student\", \"star\", \"pay\", \"staff\", \"manage\", \"company\", \"arrive\", \"monitor\", \"definitely\", \"ikea\", \"ability\", \"digital\", \"month\", \"utility\", \"cleaning\", \"college\", \"average_rating\", \"fast_company\", \"technique\", \"proper_disinfection\", \"uncertainty\", \"woman\", \"health\", \"last\", \"video\", \"combine\", \"interact\", \"expect\", \"run\", \"stay\", \"essential\", \"check\", \"part\", \"clean\", \"fresh\", \"person\", \"space\", \"provide\", \"towel\", \"phone\", \"equip\", \"amenity\", \"know\", \"good\", \"comfortable\", \"fully\", \"coffee\", \"time\"], \"Total\": [12565.0, 21889.0, 39770.0, 17663.0, 16854.0, 16899.0, 27930.0, 16295.0, 15305.0, 15451.0, 15950.0, 12728.0, 9102.0, 11439.0, 17022.0, 19820.0, 6223.0, 10186.0, 9457.0, 9227.0, 9166.0, 5956.0, 11576.0, 6505.0, 11291.0, 42346.0, 3995.0, 5184.0, 8054.0, 5013.0, 16899.771484375, 12728.03125, 9457.994140625, 7117.859375, 6755.7138671875, 5269.01416015625, 4759.30419921875, 4536.92578125, 3712.21044921875, 2561.12890625, 2474.68994140625, 2431.570556640625, 2188.662841796875, 2197.0556640625, 2095.373779296875, 1917.56787109375, 1915.2113037109375, 1778.095947265625, 1776.9906005859375, 1758.2529296875, 1716.3802490234375, 1563.6324462890625, 1538.487060546875, 1535.303466796875, 1380.394775390625, 1352.5869140625, 1290.0810546875, 1269.6524658203125, 1248.4517822265625, 1225.4241943359375, 10186.6552734375, 15305.0947265625, 3342.70947265625, 27930.580078125, 6505.1513671875, 19820.97265625, 5013.45458984375, 39770.78515625, 6975.26904296875, 4473.2685546875, 3726.201416015625, 5956.677734375, 8519.220703125, 11576.5478515625, 42346.015625, 3568.6787109375, 10049.693359375, 10487.0947265625, 10981.7080078125, 7507.7470703125, 5857.5361328125, 11488.8046875, 15950.3125, 14775.8564453125, 17022.41796875, 21889.359375, 17663.19921875, 16854.6875, 16295.619140625, 15451.5361328125, 11439.62890625, 9166.5615234375, 8054.12939453125, 7584.61328125, 7407.36474609375, 7341.15966796875, 6098.57470703125, 5286.376953125, 5049.5087890625, 4996.4638671875, 4775.228515625, 4489.87255859375, 3779.79345703125, 3089.28759765625, 3059.146240234375, 2568.781005859375, 2579.773681640625, 2470.63916015625, 2337.705322265625, 2238.52978515625, 2160.876220703125, 1640.029052734375, 9227.3857421875, 1599.9052734375, 1460.4190673828125, 11741.134765625, 5219.97314453125, 5127.283203125, 14775.8564453125, 4643.18896484375, 5065.73876953125, 12211.40625, 42346.015625, 8166.51171875, 8391.4912109375, 8796.626953125, 11488.8046875, 10447.4501953125, 3747.440185546875, 3100.40185546875, 2749.45361328125, 2719.46875, 2524.03759765625, 2581.71826171875, 2390.32177734375, 2149.912353515625, 2151.275634765625, 2148.368896484375, 2074.7900390625, 1907.2659912109375, 1684.9407958984375, 1682.272216796875, 1539.8692626953125, 1389.7711181640625, 1331.1510009765625, 1252.1666259765625, 1148.182373046875, 1141.2376708984375, 1101.4212646484375, 1095.7171630859375, 1058.7269287109375, 1045.0814208984375, 1001.7899780273438, 976.2199096679688, 927.7374877929688, 924.646240234375, 920.2774658203125, 910.7324829101562, 3379.122314453125, 1897.8955078125, 11291.9970703125, 3177.926025390625, 1754.97607421875, 12565.755859375, 5423.85009765625, 4427.93408203125, 5087.7783203125, 17022.41796875, 1677.3143310546875, 9293.0390625, 9774.3212890625, 3995.06640625, 3823.246826171875, 8264.107421875, 3767.873291015625, 15950.3125, 39770.78515625, 6119.1689453125, 10487.0947265625, 9102.9375, 4915.23193359375, 6152.2568359375, 10049.693359375, 5945.31201171875, 10447.4501953125, 12211.40625, 19820.97265625, 4002.1318359375, 2564.2470703125, 2348.0185546875, 2224.55810546875, 2039.2393798828125, 1766.5780029296875, 1644.2755126953125, 1508.040283203125, 1471.883544921875, 1494.4456787109375, 1315.7486572265625, 1149.02490234375, 1147.4400634765625, 978.1239624023438, 980.2530517578125, 887.9926147460938, 846.3025512695312, 816.4843139648438, 739.1849365234375, 725.3563232421875, 710.9839477539062, 642.0969848632812, 640.0203857421875, 555.0426635742188, 714.965087890625, 545.422607421875, 519.9642333984375, 572.9950561523438, 504.5772399902344, 505.8683776855469, 6223.884765625, 5184.07373046875, 2567.661376953125, 2223.901611328125, 1855.0750732421875, 1233.5859375, 774.0255126953125, 1299.854248046875, 4515.35302734375, 5446.95751953125, 7501.85986328125, 1358.806884765625, 4919.12744140625, 6950.671875, 11576.5478515625, 2887.6923828125, 3145.14501953125, 7706.2900390625, 42346.015625, 5091.8603515625, 6342.6396484375, 4143.1279296875, 2726.284912109375, 3558.38525390625, 8519.220703125, 15950.3125, 5857.5361328125, 6944.89404296875, 733.2777099609375, 537.0113525390625, 429.38836669921875, 399.3976745605469, 402.5035095214844, 396.6856384277344, 362.4766540527344, 359.1316833496094, 343.0269775390625, 325.52178955078125, 315.03460693359375, 297.1719665527344, 327.8426208496094, 282.41046142578125, 260.8767395019531, 257.2965087890625, 254.28448486328125, 242.01034545898438, 236.18927001953125, 226.8833770751953, 227.91925048828125, 216.0481719970703, 214.95401000976562, 214.39276123046875, 214.392333984375, 214.392333984375, 211.97764587402344, 206.8240203857422, 199.9075469970703, 194.9499969482422, 273.09271240234375, 600.622802734375, 544.100830078125, 1108.797119140625, 12565.755859375, 1116.803466796875, 3995.06640625, 1706.085205078125, 9102.9375, 1775.8497314453125, 2184.202392578125, 15950.3125, 5956.677734375, 4473.2685546875, 3297.02392578125, 5013.45458984375, 3558.38525390625, 2379.9384765625, 8796.626953125, 7507.7470703125, 6505.1513671875, 7345.88916015625, 8264.107421875], \"loglift\": [30.0, 29.0, 28.0, 27.0, 26.0, 25.0, 24.0, 23.0, 22.0, 21.0, 20.0, 19.0, 18.0, 17.0, 16.0, 15.0, 14.0, 13.0, 12.0, 11.0, 10.0, 9.0, 8.0, 7.0, 6.0, 5.0, 4.0, 3.0, 2.0, 1.0, 1.229699969291687, 1.229699969291687, 1.229699969291687, 1.229699969291687, 1.229699969291687, 1.229599952697754, 1.229599952697754, 1.229599952697754, 1.229599952697754, 1.2294000387191772, 1.2294000387191772, 1.2294000387191772, 1.2294000387191772, 1.2294000387191772, 1.2294000387191772, 1.2293000221252441, 1.2293000221252441, 1.2293000221252441, 1.2293000221252441, 1.2293000221252441, 1.2293000221252441, 1.229200005531311, 1.229200005531311, 1.229200005531311, 1.229200005531311, 1.229200005531311, 1.229099988937378, 1.229099988937378, 1.229099988937378, 1.229099988937378, 1.2164000272750854, 1.2027000188827515, 1.2164000272750854, 1.0700000524520874, 1.128499984741211, 1.0204999446868896, 1.1203999519348145, 0.9043999910354614, 1.0721999406814575, 1.1169999837875366, 1.1308000087738037, 0.9950000047683716, 0.8787999749183655, 0.7458999752998352, 0.3133000135421753, 1.0490000247955322, 0.6211000084877014, 0.5952000021934509, 0.5425999760627747, 0.7098000049591064, 0.7706999778747559, 0.37310001254081726, 0.04969999939203262, 0.04899999871850014, -0.2565999925136566, 1.247499942779541, 1.2474000453948975, 1.2474000453948975, 1.2474000453948975, 1.2474000453948975, 1.2474000453948975, 1.2474000453948975, 1.2474000453948975, 1.2474000453948975, 1.2474000453948975, 1.2474000453948975, 1.2474000453948975, 1.2473000288009644, 1.2473000288009644, 1.2473000288009644, 1.2473000288009644, 1.2473000288009644, 1.2473000288009644, 1.2472000122070312, 1.2472000122070312, 1.2472000122070312, 1.2472000122070312, 1.2470999956130981, 1.2470999956130981, 1.2470999956130981, 1.2470999956130981, 1.246999979019165, 1.246999979019165, 1.246899962425232, 1.246899962425232, 1.0744999647140503, 1.1282000541687012, 1.1236000061035156, 0.8392000198364258, 1.0458999872207642, 0.9932000041007996, 0.6952000260353088, 0.24979999661445618, 0.7512999773025513, 0.7067000269889832, 0.6730999946594238, 0.21889999508857727, 0.26489999890327454, 1.3384000062942505, 1.3382999897003174, 1.3382999897003174, 1.3382999897003174, 1.3381999731063843, 1.3381999731063843, 1.3381999731063843, 1.3381999731063843, 1.3381999731063843, 1.3381999731063843, 1.3381999731063843, 1.3380999565124512, 1.3380999565124512, 1.3380999565124512, 1.3380000591278076, 1.3380000591278076, 1.3379000425338745, 1.3379000425338745, 1.3378000259399414, 1.3378000259399414, 1.3378000259399414, 1.3378000259399414, 1.3378000259399414, 1.3378000259399414, 1.3377000093460083, 1.3377000093460083, 1.3375999927520752, 1.3375999927520752, 1.3375999927520752, 1.3375999927520752, 1.294100046157837, 1.3149000406265259, 1.2243000268936157, 1.284600019454956, 1.3105000257492065, 1.2032999992370605, 1.242300033569336, 1.2345000505447388, 1.205899953842163, 1.0821000337600708, 1.299299955368042, 1.0848000049591064, 1.057800054550171, 1.1363999843597412, 1.0852999687194824, 0.8711000084877014, 1.0561000108718872, 0.5813999772071838, 0.057500001043081284, 0.8138999938964844, 0.5831000208854675, 0.6158999800682068, 0.8920000195503235, 0.7305999994277954, 0.42320001125335693, 0.6973999738693237, 0.21359999477863312, -0.08489999920129776, -0.579800009727478, 1.9910999536514282, 1.9910000562667847, 1.9909000396728516, 1.9909000396728516, 1.9909000396728516, 1.9908000230789185, 1.9908000230789185, 1.9907000064849854, 1.9907000064849854, 1.9907000064849854, 1.9905999898910522, 1.9905999898910522, 1.9905999898910522, 1.990399956703186, 1.990399956703186, 1.9903000593185425, 1.9903000593185425, 1.9903000593185425, 1.9902000427246094, 1.9901000261306763, 1.9901000261306763, 1.9900000095367432, 1.9900000095367432, 1.989799976348877, 1.989799976348877, 1.989799976348877, 1.9896999597549438, 1.9896999597549438, 1.9895999431610107, 1.9895999431610107, 1.986899971961975, 1.9808000326156616, 1.979699969291687, 1.899999976158142, 1.9052000045776367, 1.9333000183105469, 1.9592000246047974, 1.8691999912261963, 1.6265000104904175, 1.5807000398635864, 1.430999994277954, 1.8215999603271484, 1.4427000284194946, 1.2279000282287598, 1.0331000089645386, 1.5362000465393066, 1.4746999740600586, 1.0591000318527222, 0.27399998903274536, 1.1994999647140503, 1.07260000705719, 1.2626999616622925, 1.4732999801635742, 1.3118000030517578, 0.7735999822616577, 0.24140000343322754, 0.940500020980835, 0.7785999774932861, 3.829900026321411, 3.8294999599456787, 3.8290998935699463, 3.8289999961853027, 3.8289999961853027, 3.828900098800659, 3.828700065612793, 3.828700065612793, 3.8285999298095703, 3.8285000324249268, 3.828399896621704, 3.828200101852417, 3.8280999660491943, 3.827899932861328, 3.8278000354766846, 3.8278000354766846, 3.827699899673462, 3.827500104904175, 3.827399969100952, 3.827199935913086, 3.827199935913086, 3.8271000385284424, 3.8271000385284424, 3.8271000385284424, 3.8271000385284424, 3.8271000385284424, 3.826900005340576, 3.8268001079559326, 3.82669997215271, 3.8266000747680664, 3.819999933242798, 3.763000011444092, 3.4163999557495117, 3.110100030899048, 1.736799955368042, 2.9377999305725098, 2.132200002670288, 2.5715999603271484, 1.4656000137329102, 2.403899908065796, 2.247999906539917, 0.8345999717712402, 1.4800000190734863, 1.5920000076293945, 1.761299967765808, 1.4169000387191772, 1.6886999607086182, 2.018399953842163, 0.7797999978065491, 0.9010000228881836, 1.0259000062942505, 0.8549000024795532, 0.7301999926567078], \"logprob\": [30.0, 29.0, 28.0, 27.0, 26.0, 25.0, 24.0, 23.0, 22.0, 21.0, 20.0, 19.0, 18.0, 17.0, 16.0, 15.0, 14.0, 13.0, 12.0, 11.0, 10.0, 9.0, 8.0, 7.0, 6.0, 5.0, 4.0, 3.0, 2.0, 1.0, -3.408099889755249, -3.6916000843048096, -3.988600015640259, -4.272799968719482, -4.325099945068359, -4.573699951171875, -4.6753997802734375, -4.723299980163574, -4.923900127410889, -5.295199871063232, -5.329599857330322, -5.347099781036377, -5.452400207519531, -5.448599815368652, -5.495999813079834, -5.584700107574463, -5.585999965667725, -5.660299777984619, -5.660900115966797, -5.671500205993652, -5.6956000328063965, -5.788899898529053, -5.805099964141846, -5.807199954986572, -5.913599967956543, -5.933899879455566, -5.981299877166748, -5.997300148010254, -6.014100074768066, -6.032800197601318, -3.9275999069213867, -3.5341999530792236, -5.041900157928467, -3.0653998851776123, -4.464000225067139, -3.457900047302246, -4.732600212097168, -2.8775999546051025, -4.450500011444092, -4.849999904632568, -5.019000053405762, -4.6855998039245605, -4.443999767303467, -4.270299911499023, -3.4059998989105225, -5.143899917602539, -4.536499977111816, -4.519700050354004, -4.526299953460693, -4.739299774169922, -4.926700115203857, -4.650700092315674, -4.645999908447266, -4.723100185394287, -4.887199878692627, -3.131700038909912, -3.3461999893188477, -3.3929998874664307, -3.426800012588501, -3.4800000190734863, -3.780600070953369, -4.002200126647949, -4.131499767303467, -4.1915998458862305, -4.2153000831604, -4.2241997718811035, -4.4096999168396, -4.552700042724609, -4.598499774932861, -4.609099864959717, -4.654399871826172, -4.716000080108643, -4.888199806213379, -5.090000152587891, -5.099800109863281, -5.274499893188477, -5.270299911499023, -5.313499927520752, -5.368800163269043, -5.412199974060059, -5.447500228881836, -5.723400115966797, -3.996000051498413, -5.748199939727783, -5.8394999504089355, -3.927500009536743, -4.684500217437744, -4.706900119781494, -3.9328999519348145, -4.883900165557861, -4.849400043487549, -4.267600059509277, -3.4695000648498535, -4.613800048828125, -4.631199836730957, -4.617700099945068, -4.804800033569336, -4.853899955749512, -4.805699825286865, -4.995299816131592, -5.115499973297119, -5.126399993896484, -5.201000213623047, -5.178400039672852, -5.255499839782715, -5.361499786376953, -5.360899925231934, -5.362199783325195, -5.39709997177124, -5.481299877166748, -5.605299949645996, -5.606900215148926, -5.695400238037109, -5.797999858856201, -5.841100215911865, -5.902400016784668, -5.989099979400635, -5.995200157165527, -6.030700206756592, -6.035900115966797, -6.070300102233887, -6.0833001136779785, -6.1255998611450195, -6.151500225067139, -6.202499866485596, -6.2058000564575195, -6.210599899291992, -6.2210001945495605, -4.953400135040283, -5.509500026702881, -3.816699981689453, -5.0243000984191895, -5.592199802398682, -3.7309000492095947, -4.5320000648498535, -4.742700099945068, -4.632400035858154, -3.5485000610351562, -5.64870023727417, -4.151000022888184, -4.127500057220459, -4.943699836730957, -5.038700103759766, -4.482100009918213, -5.082499980926514, -4.114200115203857, -3.7244999408721924, -4.839799880981445, -4.531899929046631, -4.640600204467773, -4.980800151824951, -4.917699813842773, -4.734399795532227, -4.985099792480469, -4.905200004577637, -5.047699928283691, -5.058199882507324, -4.087200164794922, -4.53249979019165, -4.62060022354126, -4.674699783325195, -4.76170015335083, -4.905300140380859, -4.977099895477295, -5.063600063323975, -5.087900161743164, -5.072700023651123, -5.200099945068359, -5.335700035095215, -5.336999893188477, -5.496799945831299, -5.49459981918335, -5.593599796295166, -5.64169979095459, -5.677599906921387, -5.777200222015381, -5.79610013961792, -5.816199779510498, -5.9182000160217285, -5.92140007019043, -6.064000129699707, -5.8109002113342285, -6.081600189208984, -6.12939977645874, -6.032299995422363, -6.1595001220703125, -6.1570000648498535, -3.6498000621795654, -3.8387999534606934, -4.542399883270264, -4.7657999992370605, -4.941999912261963, -5.321899890899658, -5.7621002197265625, -5.333700180053711, -4.331200122833252, -4.1894001960754395, -4.019000053405762, -5.336900234222412, -4.429299831390381, -4.298299789428711, -3.983099937438965, -4.868500232696533, -4.844600200653076, -4.363999843597412, -3.445199966430664, -4.638000011444092, -4.545300006866455, -4.781000137329102, -4.988900184631348, -4.884099960327148, -4.549200057983398, -4.45419979095459, -4.756899833679199, -4.748499870300293, -3.9453999996185303, -4.257400035858154, -4.481400012969971, -4.553899765014648, -4.546199798583984, -4.560800075531006, -4.651199817657471, -4.6605000495910645, -4.706500053405762, -4.758999824523926, -4.791800022125244, -4.850399971008301, -4.752200126647949, -4.901599884033203, -4.980999946594238, -4.994900226593018, -5.006700038909912, -5.056399822235107, -5.080900192260742, -5.121200084686279, -5.116700172424316, -5.170199871063232, -5.175300121307373, -5.177999973297119, -5.177999973297119, -5.177999973297119, -5.189499855041504, -5.214200019836426, -5.2484002113342285, -5.273600101470947, -4.9430999755859375, -4.211999893188477, -4.657400131225586, -4.251800060272217, -3.1974000930786133, -4.416900157928467, -3.9477999210357666, -4.359300136566162, -3.7909998893737793, -4.486999988555908, -4.4359002113342285, -3.8610000610351562, -4.2006001472473145, -4.375, -4.510799884796143, -4.436100006103516, -4.5071001052856445, -4.579699993133545, -4.511000156402588, -4.5482001304626465, -4.566699981689453, -4.616099834442139, -4.623000144958496]}, \"token.table\": {\"Topic\": [5, 1, 2, 3, 1, 3, 1, 2, 3, 1, 2, 3, 4, 5, 3, 1, 2, 3, 4, 1, 4, 1, 2, 3, 5, 4, 4, 3, 1, 2, 3, 5, 2, 2, 1, 3, 5, 3, 1, 2, 3, 4, 1, 1, 2, 3, 4, 2, 3, 1, 2, 4, 4, 1, 2, 4, 1, 2, 4, 5, 2, 1, 2, 4, 2, 1, 5, 4, 3, 5, 4, 1, 2, 3, 5, 5, 2, 3, 1, 1, 2, 5, 5, 4, 5, 1, 3, 4, 1, 2, 3, 5, 5, 3, 1, 2, 1, 1, 2, 3, 4, 3, 4, 4, 5, 5, 4, 1, 5, 1, 2, 1, 2, 2, 4, 1, 2, 3, 3, 4, 1, 3, 4, 1, 3, 1, 4, 5, 1, 5, 3, 5, 5, 1, 4, 3, 4, 4, 4, 1, 4, 1, 2, 4, 1, 2, 3, 1, 5, 3, 1, 1, 4, 5, 1, 4, 3, 2, 3, 4, 5, 4, 2, 3, 4, 2, 1, 3, 3, 5, 2, 4, 1, 3, 1, 4, 4, 1, 3, 4, 3, 5, 1, 2, 4, 3, 5, 1, 1, 3, 1, 3, 1, 3, 3, 5, 1, 4, 5, 3, 2, 3, 1, 1, 4, 2, 1, 1, 2, 3, 4, 1, 1, 2, 4, 2, 3, 4, 3, 4, 3, 4, 3, 4, 1, 5, 2, 2, 1, 3, 3, 2, 2, 1, 4, 5, 5, 4, 2, 1, 2, 3, 2, 3, 4, 1, 2, 4, 4, 1, 2, 3, 4, 4, 4, 2, 2, 3, 5, 3, 5, 1, 3, 1, 3, 5, 2, 3, 5, 2, 3, 4, 3, 1, 2, 3, 5, 5, 1, 3, 5, 1, 2, 1, 2, 3, 4, 3, 4, 1, 2, 4, 2, 2, 4, 1, 3, 3, 2, 3, 5, 1, 3, 1, 2, 3, 4, 3, 4, 3, 1, 1, 3, 1, 2, 2, 1, 1, 1, 1, 3, 1, 1, 5, 5, 1, 3, 4, 5, 1, 2, 4, 1, 5, 5, 2, 1, 3, 5, 2, 2, 2, 4, 5, 1, 2, 4, 5, 4, 1, 3, 4, 4, 2, 2, 3, 1, 5, 4, 3, 2, 3, 5, 1, 4, 1, 5, 2, 3, 3, 3, 1, 5, 1, 3, 5, 5, 4, 2, 4, 4, 2, 4, 3, 1, 3, 1, 1, 4, 5, 4, 1, 3, 4, 3], \"Freq\": [0.9949610233306885, 0.503018319606781, 0.33191558718681335, 0.16509272158145905, 0.9994860887527466, 0.9993628263473511, 0.30103039741516113, 0.3743497133255005, 0.32467252016067505, 0.3633670508861542, 0.002248210832476616, 0.010397974401712418, 0.506971538066864, 0.11746901273727417, 0.9991956949234009, 0.3999195694923401, 0.36872419714927673, 0.051811251789331436, 0.17956824600696564, 0.40316104888916016, 0.5964748859405518, 0.4245872497558594, 0.35747843980789185, 0.2178642600774765, 0.9960562586784363, 0.9995661973953247, 0.9988508820533752, 0.9993362426757812, 0.1835169494152069, 0.5756093859672546, 0.24084040522575378, 0.9951484203338623, 0.9999653100967407, 0.9999387264251709, 0.9733360409736633, 0.003854925511404872, 0.022802865132689476, 0.9998825192451477, 0.08560323715209961, 0.4480142295360565, 0.0002877419756259769, 0.4661419987678528, 0.999954342842102, 0.8523274660110474, 0.13197004795074463, 3.5803052014671266e-05, 0.015645934268832207, 0.9999450445175171, 0.9994416236877441, 0.18009856343269348, 0.22374770045280457, 0.5956824421882629, 0.999399721622467, 0.15632854402065277, 0.26569753885269165, 0.577744722366333, 0.03879038244485855, 0.3500465154647827, 0.5710583925247192, 0.040123384445905685, 0.9999057650566101, 0.9996381402015686, 0.9997000694274902, 0.9993922114372253, 0.9994341731071472, 0.9997140169143677, 0.9982575178146362, 0.9988821744918823, 0.8170077204704285, 0.1829756796360016, 0.998263418674469, 0.27881109714508057, 0.14182235300540924, 0.4854477047920227, 0.09392572194337845, 0.9961064457893372, 0.9994163513183594, 0.00043349224142730236, 0.9997959733009338, 0.4885725677013397, 0.4603935480117798, 0.05104896053671837, 0.9959667921066284, 0.007323520258069038, 0.9886752367019653, 0.1564115583896637, 0.7763035297393799, 0.06722035259008408, 0.5945858359336853, 0.025307191535830498, 0.3265959918498993, 0.05341149494051933, 0.9967159032821655, 0.9989702105522156, 0.9991620182991028, 0.9996959567070007, 0.9993675351142883, 0.10428384691476822, 0.36903026700019836, 0.5266334414482117, 0.9994310140609741, 0.9564613699913025, 0.043206486850976944, 0.9983969926834106, 0.9987490773200989, 0.9985466003417969, 0.998291552066803, 0.9996971487998962, 0.9949486255645752, 0.9997259974479675, 0.9998157620429993, 0.9996834397315979, 0.9995831847190857, 0.15528328716754913, 0.8441228866577148, 0.05211935192346573, 0.8173261880874634, 0.1305137425661087, 0.03100672923028469, 0.9689602851867676, 0.04801401123404503, 0.6398477554321289, 0.31209108233451843, 0.9866247773170471, 0.013162974268198013, 0.8963878750801086, 0.014161891303956509, 0.08935954421758652, 0.5900769829750061, 0.40920358896255493, 0.3381726145744324, 0.6598041653633118, 0.9955617785453796, 0.3653436303138733, 0.6344165802001953, 0.8758243322372437, 0.12421924620866776, 0.9992242455482483, 0.9984056949615479, 0.6163322925567627, 0.38362041115760803, 0.004053223878145218, 0.05188126489520073, 0.943590521812439, 0.3603430390357971, 0.0478823184967041, 0.5917470455169678, 0.7596363425254822, 0.23988516628742218, 0.9994354844093323, 0.9999189972877502, 0.9037452936172485, 0.035664044320583344, 0.060413658618927, 0.11462823301553726, 0.8847146034240723, 0.9998350143432617, 0.5630567073822021, 0.286587119102478, 0.10310770571231842, 0.0472908541560173, 0.9991080164909363, 0.6088278889656067, 0.21637144684791565, 0.17473800480365753, 0.9997633099555969, 0.2261723279953003, 0.7738031148910522, 0.9992114305496216, 0.9960158467292786, 0.6008539199829102, 0.3990452289581299, 0.9991509914398193, 0.9995889067649841, 0.33670172095298767, 0.6633060574531555, 0.9996728301048279, 0.018951475620269775, 0.8919591307640076, 0.08900108933448792, 0.9998703598976135, 0.9966392517089844, 0.8543039560317993, 0.01964082010090351, 0.12601664662361145, 0.06493259966373444, 0.9340304732322693, 0.9995660781860352, 0.9996538162231445, 0.9994070529937744, 0.02735080011188984, 0.9720930457115173, 0.9867811799049377, 0.013154464773833752, 0.8365762233734131, 0.16302941739559174, 0.7040550112724304, 0.2959190905094147, 0.9954601526260376, 0.9991353154182434, 0.9997130632400513, 0.9996175169944763, 0.9992874264717102, 0.010416518896818161, 0.9895692467689514, 0.9998992681503296, 0.9998216032981873, 0.5440962314605713, 0.006368353497236967, 0.4004102349281311, 0.04915572702884674, 0.999894917011261, 0.30705496668815613, 0.6648007035255432, 0.0281540360301733, 0.8835088610649109, 0.04017722234129906, 0.07625871151685715, 0.9989652037620544, 0.9984608888626099, 0.9994470477104187, 0.9997491240501404, 0.9082109332084656, 0.09163232892751694, 0.9995955228805542, 0.9983970522880554, 0.9999071359634399, 0.9993725419044495, 0.9997653365135193, 0.9998276233673096, 0.9992437362670898, 0.9998056888580322, 0.9999592304229736, 0.004177455324679613, 0.9956803917884827, 0.9974297881126404, 0.9958251714706421, 0.9995136857032776, 0.9996253252029419, 0.1138698011636734, 0.130853071808815, 0.755244255065918, 0.8411452770233154, 0.15475505590438843, 0.004088190849870443, 0.4528768062591553, 0.15338119864463806, 0.393704354763031, 0.9992251992225647, 0.06830587983131409, 0.06251315772533417, 0.3864230215549469, 0.48248571157455444, 0.9981215000152588, 0.9996165037155151, 0.9997395277023315, 0.20514802634716034, 0.5105255246162415, 0.2836903929710388, 0.9989154934883118, 0.9968488216400146, 0.2460273802280426, 0.7540062665939331, 0.18313321471214294, 0.6116649508476257, 0.20510919392108917, 0.7239862680435181, 0.14952878654003143, 0.12617439031600952, 0.22403866052627563, 0.7758495211601257, 0.998721718788147, 0.9993134140968323, 0.8111609816551208, 0.04197574034333229, 0.1468646377325058, 0.998116672039032, 0.998170018196106, 0.7907091975212097, 0.1138218343257904, 0.09518729150295258, 0.9057481288909912, 0.09419780969619751, 0.116546630859375, 0.5822564363479614, 0.26932042837142944, 0.03181794285774231, 0.9992050528526306, 0.9986501336097717, 0.6318356394767761, 0.018437786027789116, 0.3496350646018982, 0.9999620318412781, 0.999698281288147, 0.9993101954460144, 0.7222387194633484, 0.27774155139923096, 0.9993010759353638, 0.42207902669906616, 0.09108970314264297, 0.4861123859882355, 0.038156233727931976, 0.961656391620636, 0.016384579241275787, 0.7754051685333252, 0.20806442201137543, 0.9982833862304688, 0.9763445854187012, 0.02318357303738594, 0.9986118674278259, 0.9994425177574158, 0.5301754474639893, 0.46972018480300903, 0.9997784495353699, 0.9999191164970398, 0.999594509601593, 0.9997038841247559, 0.9998943209648132, 0.9997212290763855, 0.8344824910163879, 0.1653272956609726, 0.999559223651886, 0.9993836283683777, 0.9990043044090271, 0.9990955591201782, 0.3072667121887207, 0.46895632147789, 0.17378969490528107, 0.04996767267584801, 0.49518394470214844, 0.207346573472023, 0.2973407506942749, 0.9995195269584656, 0.9970061182975769, 0.9986850023269653, 0.9998420476913452, 0.003342417301610112, 0.8734850883483887, 0.12311237305402756, 0.9997900724411011, 0.9997427463531494, 0.8875524401664734, 0.1124526858329773, 0.9982715845108032, 0.006677323952317238, 0.5057090520858765, 0.4530760645866394, 0.03476136177778244, 0.998616099357605, 0.04635930806398392, 0.03557807579636574, 0.9174830913543701, 0.9997017979621887, 0.9998597502708435, 0.9997413158416748, 0.9993454813957214, 0.9996739029884338, 0.9981680512428284, 0.9995087385177612, 0.9994451403617859, 0.3284081220626831, 0.6265649199485779, 0.04501393437385559, 0.08678441494703293, 0.9128101468086243, 0.8933065533638, 0.10663343966007233, 0.9999321103096008, 0.9996192455291748, 0.9990683197975159, 0.9987503886222839, 0.9998792409896851, 0.998170018196106, 0.4554426372051239, 0.5445156097412109, 0.9949647784233093, 0.9951269626617432, 0.9997171759605408, 0.011294323951005936, 0.9884480834007263, 0.9988560080528259, 0.999937891960144, 0.9994068145751953, 0.9997217655181885, 0.05223532393574715, 0.9474732875823975, 0.9998075366020203, 0.30562394857406616, 0.6942978501319885, 0.9953879714012146, 0.998145580291748, 0.07565604895353317, 0.9010974168777466, 0.023261412978172302, 0.9995756149291992], \"Term\": [\"ability\", \"access\", \"access\", \"access\", \"air\", \"airbnb\", \"also\", \"also\", \"also\", \"amenity\", \"amenity\", \"amenity\", \"amenity\", \"amenity\", \"answer\", \"apartment\", \"apartment\", \"apartment\", \"apartment\", \"appliance\", \"appliance\", \"area\", \"area\", \"area\", \"arrive\", \"art\", \"artist\", \"ask\", \"available\", \"available\", \"available\", \"average_rating\", \"away\", \"bar\", \"bathroom\", \"bathroom\", \"bathroom\", \"be\", \"beautiful\", \"beautiful\", \"beautiful\", \"beautiful\", \"bed\", \"bedroom\", \"bedroom\", \"bedroom\", \"bedroom\", \"block\", \"book\", \"bright\", \"bright\", \"bright\", \"brownstone\", \"build\", \"build\", \"build\", \"building\", \"building\", \"building\", \"building\", \"bus\", \"cable\", \"cafe\", \"ceiling\", \"center\", \"chair\", \"charge\", \"charm\", \"check\", \"check\", \"chic\", \"clean\", \"clean\", \"clean\", \"clean\", \"cleaning\", \"close\", \"close\", \"closet\", \"coffee\", \"coffee\", \"coffee\", \"college\", \"combine\", \"combine\", \"come\", \"come\", \"come\", \"comfortable\", \"comfortable\", \"comfortable\", \"comfortable\", \"company\", \"contact\", \"cooking\", \"corner\", \"couch\", \"cozy\", \"cozy\", \"cozy\", \"creative\", \"day\", \"day\", \"decorate\", \"deep\", \"definitely\", \"designer\", \"desk\", \"digital\", \"dining\", \"distance\", \"double\", \"downtown\", \"east\", \"east\", \"easy\", \"easy\", \"easy\", \"end\", \"end\", \"enjoy\", \"enjoy\", \"enjoy\", \"entrance\", \"entrance\", \"equip\", \"equip\", \"equip\", \"essential\", \"essential\", \"expect\", \"expect\", \"fast_company\", \"feature\", \"feature\", \"feel\", \"feel\", \"fill\", \"finish\", \"floor\", \"floor\", \"foot\", \"foot\", \"foot\", \"free\", \"free\", \"free\", \"fresh\", \"fresh\", \"friend\", \"full\", \"fully\", \"fully\", \"fully\", \"garden\", \"garden\", \"give\", \"good\", \"good\", \"good\", \"good\", \"gorgeous\", \"great\", \"great\", \"great\", \"grocery\", \"guest\", \"guest\", \"happy\", \"health\", \"heart\", \"heart\", \"heat\", \"help\", \"high\", \"high\", \"historic\", \"home\", \"home\", \"home\", \"host\", \"ikea\", \"include\", \"include\", \"include\", \"interact\", \"interact\", \"internet\", \"iron\", \"keep\", \"key\", \"key\", \"kitchen\", \"kitchen\", \"know\", \"know\", \"large\", \"large\", \"last\", \"leave\", \"less\", \"let\", \"level\", \"light\", \"light\", \"line\", \"linen\", \"live\", \"live\", \"live\", \"live\", \"living\", \"locate\", \"locate\", \"locate\", \"location\", \"location\", \"location\", \"lock\", \"loft\", \"love\", \"luxury\", \"make\", \"make\", \"maker\", \"manage\", \"many\", \"market\", \"mattress\", \"may\", \"message\", \"min\", \"minute\", \"modern\", \"modern\", \"monitor\", \"month\", \"natural\", \"nearby\", \"need\", \"need\", \"need\", \"neighborhood\", \"neighborhood\", \"neighborhood\", \"new\", \"new\", \"new\", \"oasis\", \"offer\", \"offer\", \"offer\", \"offer\", \"original\", \"outdoor\", \"park\", \"part\", \"part\", \"part\", \"party\", \"pay\", \"people\", \"people\", \"person\", \"person\", \"person\", \"phone\", \"phone\", \"phone\", \"place\", \"place\", \"plant\", \"pm\", \"private\", \"private\", \"private\", \"professional\", \"proper_disinfection\", \"provide\", \"provide\", \"provide\", \"queen\", \"queen\", \"quiet\", \"quiet\", \"quiet\", \"quiet\", \"read\", \"real\", \"renovate\", \"renovate\", \"renovate\", \"restaurant\", \"ride\", \"rooftop\", \"room\", \"room\", \"roommate\", \"run\", \"run\", \"run\", \"s\", \"s\", \"safe\", \"safe\", \"safe\", \"seat\", \"see\", \"see\", \"self\", \"separate\", \"share\", \"share\", \"sheet\", \"shop\", \"shopping\", \"shower\", \"size\", \"sized\", \"sleep\", \"sleep\", \"smart\", \"sofa\", \"sond\", \"sonder\", \"space\", \"space\", \"space\", \"space\", \"spacious\", \"spacious\", \"spacious\", \"speed\", \"staff\", \"star\", \"station\", \"stay\", \"stay\", \"stay\", \"stop\", \"store\", \"street\", \"street\", \"student\", \"studio\", \"studio\", \"studio\", \"studio\", \"stunning\", \"style\", \"style\", \"style\", \"stylish\", \"subway\", \"supermarket\", \"sure\", \"table\", \"technique\", \"terrace\", \"thing\", \"time\", \"time\", \"time\", \"top\", \"top\", \"towel\", \"towel\", \"train\", \"travel\", \"traveler\", \"try\", \"tv\", \"uncertainty\", \"use\", \"use\", \"utility\", \"video\", \"view\", \"village\", \"village\", \"vintage\", \"walk\", \"wall\", \"want\", \"welcome\", \"welcome\", \"wifi\", \"window\", \"window\", \"woman\", \"wood\", \"work\", \"work\", \"work\", \"would\"]}, \"R\": 30, \"lambda.step\": 0.01, \"plot.opts\": {\"xlab\": \"PC1\", \"ylab\": \"PC2\"}, \"topic.order\": [5, 3, 4, 2, 1]};\n",
       "\n",
       "function LDAvis_load_lib(url, callback){\n",
       "  var s = document.createElement('script');\n",
       "  s.src = url;\n",
       "  s.async = true;\n",
       "  s.onreadystatechange = s.onload = callback;\n",
       "  s.onerror = function(){console.warn(\"failed to load library \" + url);};\n",
       "  document.getElementsByTagName(\"head\")[0].appendChild(s);\n",
       "}\n",
       "\n",
       "if(typeof(LDAvis) !== \"undefined\"){\n",
       "   // already loaded: just create the visualization\n",
       "   !function(LDAvis){\n",
       "       new LDAvis(\"#\" + \"ldavis_el139171404455088855041281976698\", ldavis_el139171404455088855041281976698_data);\n",
       "   }(LDAvis);\n",
       "}else if(typeof define === \"function\" && define.amd){\n",
       "   // require.js is available: use it to load d3/LDAvis\n",
       "   require.config({paths: {d3: \"https://cdnjs.cloudflare.com/ajax/libs/d3/3.5.5/d3.min\"}});\n",
       "   require([\"d3\"], function(d3){\n",
       "      window.d3 = d3;\n",
       "      LDAvis_load_lib(\"https://cdn.rawgit.com/bmabey/pyLDAvis/files/ldavis.v1.0.0.js\", function(){\n",
       "        new LDAvis(\"#\" + \"ldavis_el139171404455088855041281976698\", ldavis_el139171404455088855041281976698_data);\n",
       "      });\n",
       "    });\n",
       "}else{\n",
       "    // require.js not available: dynamically load d3 & LDAvis\n",
       "    LDAvis_load_lib(\"https://cdnjs.cloudflare.com/ajax/libs/d3/3.5.5/d3.min.js\", function(){\n",
       "         LDAvis_load_lib(\"https://cdn.rawgit.com/bmabey/pyLDAvis/files/ldavis.v1.0.0.js\", function(){\n",
       "                 new LDAvis(\"#\" + \"ldavis_el139171404455088855041281976698\", ldavis_el139171404455088855041281976698_data);\n",
       "            })\n",
       "         });\n",
       "}\n",
       "</script>"
      ],
      "text/plain": [
       "PreparedData(topic_coordinates=            Freq  cluster  topics         x         y\n",
       "topic                                                \n",
       "4      29.235531        1       1 -0.062641  0.046274\n",
       "2      28.722229        1       2 -0.192002 -0.172951\n",
       "3      26.221720        1       3  0.013380 -0.195510\n",
       "1      13.652073        1       4 -0.133836  0.291872\n",
       "0       2.168442        1       5  0.375098  0.030314, topic_info=      Category          Freq                 Term         Total  loglift  \\\n",
       "term                                                                       \n",
       "293    Default  12565.000000                 stay  12565.000000  30.0000   \n",
       "145    Default  21889.000000                 walk  21889.000000  29.0000   \n",
       "102    Default  39770.000000                 room  39770.000000  28.0000   \n",
       "109    Default  17663.000000                train  17663.000000  27.0000   \n",
       "96     Default  16854.000000               minute  16854.000000  26.0000   \n",
       "8      Default  16899.000000                  bed  16899.000000  25.0000   \n",
       "66     Default  27930.000000              bedroom  27930.000000  24.0000   \n",
       "221    Default  16295.000000           restaurant  16295.000000  23.0000   \n",
       "202    Default  15305.000000             bathroom  15305.000000  22.0000   \n",
       "200    Default  15451.000000                 away  15451.000000  21.0000   \n",
       "186    Default  15950.000000                space  15950.000000  20.0000   \n",
       "22     Default  12728.000000                 full  12728.000000  19.0000   \n",
       "370    Default   9102.000000                clean   9102.000000  18.0000   \n",
       "67     Default  11439.000000                block  11439.000000  17.0000   \n",
       "90     Default  17022.000000                guest  17022.000000  16.0000   \n",
       "99     Default  19820.000000              private  19820.000000  15.0000   \n",
       "38     Default   6223.000000               modern   6223.000000  14.0000   \n",
       "29     Default  10186.000000              kitchen  10186.000000  13.0000   \n",
       "131    Default   9457.000000               living   9457.000000  12.0000   \n",
       "205    Default   9227.000000                close   9227.000000  11.0000   \n",
       "234    Default   9166.000000                  bar   9166.000000  10.0000   \n",
       "385    Default   5956.000000              provide   5956.000000   9.0000   \n",
       "21     Default  11576.000000                floor  11576.000000   8.0000   \n",
       "246    Default   6505.000000                fully   6505.000000   7.0000   \n",
       "312    Default  11291.000000                 home  11291.000000   6.0000   \n",
       "113    Default  42346.000000            apartment  42346.000000   5.0000   \n",
       "204    Default   3995.000000                check   3995.000000   4.0000   \n",
       "31     Default   5184.000000                light   5184.000000   3.0000   \n",
       "142    Default   8054.000000               subway   8054.000000   2.0000   \n",
       "243    Default   5013.000000                equip   5013.000000   1.0000   \n",
       "...        ...           ...                  ...           ...      ...   \n",
       "5539    Topic5    213.526291            technique    214.392761   3.8271   \n",
       "14592   Topic5    213.525833  proper_disinfection    214.392334   3.8271   \n",
       "14595   Topic5    213.525833          uncertainty    214.392334   3.8271   \n",
       "1513    Topic5    211.067841                woman    211.977646   3.8269   \n",
       "1308    Topic5    205.927490               health    206.824020   3.8268   \n",
       "165     Topic5    199.008682                 last    199.907547   3.8267   \n",
       "1910    Topic5    194.055710                video    194.949997   3.8266   \n",
       "1386    Topic5    270.055328              combine    273.092712   3.8200   \n",
       "3051    Topic5    561.024475             interact    600.622803   3.7630   \n",
       "210     Topic5    359.371735               expect    544.100830   3.4164   \n",
       "854     Topic5    539.116577                  run   1108.797119   3.1101   \n",
       "293     Topic5   1547.453125                 stay  12565.755859   1.7368   \n",
       "2709    Topic5    457.067902            essential   1116.803467   2.9378   \n",
       "204     Topic5    730.608765                check   3995.066406   2.1322   \n",
       "261     Topic5    484.155731                 part   1706.085205   2.5716   \n",
       "370     Topic5    854.708496                clean   9102.937500   1.4656   \n",
       "376     Topic5    426.122467                fresh   1775.849731   2.4039   \n",
       "175     Topic5    448.479279               person   2184.202393   2.2480   \n",
       "186     Topic5    796.862427                space  15950.312500   0.8346   \n",
       "385     Topic5    567.448669              provide   5956.677734   1.4800   \n",
       "60      Topic5    476.622101                towel   4473.268555   1.5920   \n",
       "755     Topic5    416.106079                phone   3297.023926   1.7613   \n",
       "243     Topic5    448.382935                equip   5013.454590   1.4169   \n",
       "908     Topic5    417.645660              amenity   3558.385254   1.6887   \n",
       "164     Topic5    388.396484                 know   2379.938477   2.0184   \n",
       "341     Topic5    416.028900                 good   8796.626953   0.7798   \n",
       "12      Topic5    400.812561          comfortable   7507.747070   0.9010   \n",
       "246     Topic5    393.492676                fully   6505.151367   1.0259   \n",
       "121     Topic5    374.511902               coffee   7345.889160   0.8549   \n",
       "226     Topic5    371.919708                 time   8264.107422   0.7302   \n",
       "\n",
       "       logprob  \n",
       "term            \n",
       "293    30.0000  \n",
       "145    29.0000  \n",
       "102    28.0000  \n",
       "109    27.0000  \n",
       "96     26.0000  \n",
       "8      25.0000  \n",
       "66     24.0000  \n",
       "221    23.0000  \n",
       "202    22.0000  \n",
       "200    21.0000  \n",
       "186    20.0000  \n",
       "22     19.0000  \n",
       "370    18.0000  \n",
       "67     17.0000  \n",
       "90     16.0000  \n",
       "99     15.0000  \n",
       "38     14.0000  \n",
       "29     13.0000  \n",
       "131    12.0000  \n",
       "205    11.0000  \n",
       "234    10.0000  \n",
       "385     9.0000  \n",
       "21      8.0000  \n",
       "246     7.0000  \n",
       "312     6.0000  \n",
       "113     5.0000  \n",
       "204     4.0000  \n",
       "31      3.0000  \n",
       "142     2.0000  \n",
       "243     1.0000  \n",
       "...        ...  \n",
       "5539   -5.1780  \n",
       "14592  -5.1780  \n",
       "14595  -5.1780  \n",
       "1513   -5.1895  \n",
       "1308   -5.2142  \n",
       "165    -5.2484  \n",
       "1910   -5.2736  \n",
       "1386   -4.9431  \n",
       "3051   -4.2120  \n",
       "210    -4.6574  \n",
       "854    -4.2518  \n",
       "293    -3.1974  \n",
       "2709   -4.4169  \n",
       "204    -3.9478  \n",
       "261    -4.3593  \n",
       "370    -3.7910  \n",
       "376    -4.4870  \n",
       "175    -4.4359  \n",
       "186    -3.8610  \n",
       "385    -4.2006  \n",
       "60     -4.3750  \n",
       "755    -4.5108  \n",
       "243    -4.4361  \n",
       "908    -4.5071  \n",
       "164    -4.5797  \n",
       "341    -4.5110  \n",
       "12     -4.5482  \n",
       "246    -4.5667  \n",
       "121    -4.6161  \n",
       "226    -4.6230  \n",
       "\n",
       "[298 rows x 6 columns], token_table=       Topic      Freq         Term\n",
       "term                               \n",
       "4181       5  0.994961      ability\n",
       "393        1  0.503018       access\n",
       "393        2  0.331916       access\n",
       "393        3  0.165093       access\n",
       "481        1  0.999486          air\n",
       "534        3  0.999363       airbnb\n",
       "197        1  0.301030         also\n",
       "197        2  0.374350         also\n",
       "197        3  0.324673         also\n",
       "908        1  0.363367      amenity\n",
       "908        2  0.002248      amenity\n",
       "908        3  0.010398      amenity\n",
       "908        4  0.506972      amenity\n",
       "908        5  0.117469      amenity\n",
       "1240       3  0.999196       answer\n",
       "113        1  0.399920    apartment\n",
       "113        2  0.368724    apartment\n",
       "113        3  0.051811    apartment\n",
       "113        4  0.179568    apartment\n",
       "198        1  0.403161    appliance\n",
       "198        4  0.596475    appliance\n",
       "4          1  0.424587         area\n",
       "4          2  0.357478         area\n",
       "4          3  0.217864         area\n",
       "146        5  0.996056       arrive\n",
       "5          4  0.999566          art\n",
       "647        4  0.998851       artist\n",
       "199        3  0.999336          ask\n",
       "6          1  0.183517    available\n",
       "6          2  0.575609    available\n",
       "...      ...       ...          ...\n",
       "60         1  0.893307        towel\n",
       "60         5  0.106633        towel\n",
       "109        2  0.999932        train\n",
       "192        3  0.999619       travel\n",
       "299        3  0.999068     traveler\n",
       "567        3  0.998750          try\n",
       "62         1  0.999879           tv\n",
       "14595      5  0.998170  uncertainty\n",
       "111        1  0.455443          use\n",
       "111        3  0.544516          use\n",
       "193        5  0.994965      utility\n",
       "1910       5  0.995127        video\n",
       "328        4  0.999717         view\n",
       "268        2  0.011294      village\n",
       "268        4  0.988448      village\n",
       "868        4  0.998856      vintage\n",
       "145        2  0.999938         walk\n",
       "799        4  0.999407         wall\n",
       "365        3  0.999722         want\n",
       "366        1  0.052235      welcome\n",
       "366        3  0.947473      welcome\n",
       "65         1  0.999808         wifi\n",
       "533        1  0.305624       window\n",
       "533        4  0.694298       window\n",
       "1513       5  0.995388        woman\n",
       "112        4  0.998146         wood\n",
       "195        1  0.075656         work\n",
       "195        3  0.901097         work\n",
       "195        4  0.023261         work\n",
       "610        3  0.999576        would\n",
       "\n",
       "[395 rows x 3 columns], R=30, lambda_step=0.01, plot_opts={'xlab': 'PC1', 'ylab': 'PC2'}, topic_order=[5, 3, 4, 2, 1])"
      ]
     },
     "execution_count": 65,
     "metadata": {},
     "output_type": "execute_result"
    }
   ],
   "source": [
    "# Visualize the topics\n",
    "pyLDAvis.enable_notebook()\n",
    "vis_5 = pyLDAvis.gensim.prepare(models[3], corpus, id2word)\n",
    "vis_5"
   ]
  },
  {
   "cell_type": "code",
   "execution_count": 66,
   "metadata": {},
   "outputs": [],
   "source": [
    "pyLDAvis.save_html(vis_5, '../data/visualization_5_topics.html')"
   ]
  },
  {
   "cell_type": "code",
   "execution_count": 67,
   "metadata": {},
   "outputs": [
    {
     "data": {
      "text/html": [
       "\n",
       "<link rel=\"stylesheet\" type=\"text/css\" href=\"https://cdn.rawgit.com/bmabey/pyLDAvis/files/ldavis.v1.0.0.css\">\n",
       "\n",
       "\n",
       "<div id=\"ldavis_el139171404432794575202936876401\"></div>\n",
       "<script type=\"text/javascript\">\n",
       "\n",
       "var ldavis_el139171404432794575202936876401_data = {\"mdsDat\": {\"Freq\": [28.381078720092773, 28.368122100830078, 27.180204391479492, 11.263128280639648, 1.9910190105438232, 1.675411343574524, 1.141029953956604], \"cluster\": [1, 1, 1, 1, 1, 1, 1], \"topics\": [1, 2, 3, 4, 5, 6, 7], \"x\": [-0.1658032617070905, -0.21435125304344702, -0.21601612736665615, -0.13322098734293783, 0.1899894738281879, 0.2589392465217927, 0.2804629091101506], \"y\": [-0.17210943228584463, -0.07704612596617176, 0.0735141593929376, 0.24442558513975812, -0.2636288818926828, 0.054283265136368664, 0.14056143047563519]}, \"tinfo\": {\"Category\": [\"Default\", \"Default\", \"Default\", \"Default\", \"Default\", \"Default\", \"Default\", \"Default\", \"Default\", \"Default\", \"Default\", \"Default\", \"Default\", \"Default\", \"Default\", \"Default\", \"Default\", \"Default\", \"Default\", \"Default\", \"Default\", \"Default\", \"Default\", \"Default\", \"Default\", \"Default\", \"Default\", \"Default\", \"Default\", \"Default\", \"Topic1\", \"Topic1\", \"Topic1\", \"Topic1\", \"Topic1\", \"Topic1\", \"Topic1\", \"Topic1\", \"Topic1\", \"Topic1\", \"Topic1\", \"Topic1\", \"Topic1\", \"Topic1\", \"Topic1\", \"Topic1\", \"Topic1\", \"Topic1\", \"Topic1\", \"Topic1\", \"Topic1\", \"Topic1\", \"Topic1\", \"Topic1\", \"Topic1\", \"Topic1\", \"Topic1\", \"Topic1\", \"Topic1\", \"Topic1\", \"Topic1\", \"Topic1\", \"Topic1\", \"Topic1\", \"Topic1\", \"Topic1\", \"Topic1\", \"Topic1\", \"Topic1\", \"Topic1\", \"Topic1\", \"Topic1\", \"Topic1\", \"Topic1\", \"Topic1\", \"Topic1\", \"Topic1\", \"Topic1\", \"Topic1\", \"Topic1\", \"Topic1\", \"Topic1\", \"Topic1\", \"Topic1\", \"Topic1\", \"Topic1\", \"Topic1\", \"Topic2\", \"Topic2\", \"Topic2\", \"Topic2\", \"Topic2\", \"Topic2\", \"Topic2\", \"Topic2\", \"Topic2\", \"Topic2\", \"Topic2\", \"Topic2\", \"Topic2\", \"Topic2\", \"Topic2\", \"Topic2\", \"Topic2\", \"Topic2\", \"Topic2\", \"Topic2\", \"Topic2\", \"Topic2\", \"Topic2\", \"Topic2\", \"Topic2\", \"Topic2\", \"Topic2\", \"Topic2\", \"Topic2\", \"Topic2\", \"Topic2\", \"Topic2\", \"Topic2\", \"Topic2\", \"Topic2\", \"Topic2\", \"Topic2\", \"Topic2\", \"Topic2\", \"Topic2\", \"Topic2\", \"Topic2\", \"Topic2\", \"Topic2\", \"Topic2\", \"Topic2\", \"Topic2\", \"Topic2\", \"Topic2\", \"Topic2\", \"Topic2\", \"Topic2\", \"Topic2\", \"Topic3\", \"Topic3\", \"Topic3\", \"Topic3\", \"Topic3\", \"Topic3\", \"Topic3\", \"Topic3\", \"Topic3\", \"Topic3\", \"Topic3\", \"Topic3\", \"Topic3\", \"Topic3\", \"Topic3\", \"Topic3\", \"Topic3\", \"Topic3\", \"Topic3\", \"Topic3\", \"Topic3\", \"Topic3\", \"Topic3\", \"Topic3\", \"Topic3\", \"Topic3\", \"Topic3\", \"Topic3\", \"Topic3\", \"Topic3\", \"Topic3\", \"Topic3\", \"Topic3\", \"Topic3\", \"Topic3\", \"Topic3\", \"Topic3\", \"Topic3\", \"Topic3\", \"Topic3\", \"Topic3\", \"Topic3\", \"Topic4\", \"Topic4\", \"Topic4\", \"Topic4\", \"Topic4\", \"Topic4\", \"Topic4\", \"Topic4\", \"Topic4\", \"Topic4\", \"Topic4\", \"Topic4\", \"Topic4\", \"Topic4\", \"Topic4\", \"Topic4\", \"Topic4\", \"Topic4\", \"Topic4\", \"Topic4\", \"Topic4\", \"Topic4\", \"Topic4\", \"Topic4\", \"Topic4\", \"Topic4\", \"Topic4\", \"Topic4\", \"Topic4\", \"Topic4\", \"Topic4\", \"Topic4\", \"Topic4\", \"Topic4\", \"Topic4\", \"Topic4\", \"Topic4\", \"Topic4\", \"Topic4\", \"Topic4\", \"Topic4\", \"Topic4\", \"Topic4\", \"Topic4\", \"Topic4\", \"Topic4\", \"Topic4\", \"Topic4\", \"Topic4\", \"Topic4\", \"Topic4\", \"Topic4\", \"Topic5\", \"Topic5\", \"Topic5\", \"Topic5\", \"Topic5\", \"Topic5\", \"Topic5\", \"Topic5\", \"Topic5\", \"Topic5\", \"Topic5\", \"Topic5\", \"Topic5\", \"Topic5\", \"Topic5\", \"Topic5\", \"Topic5\", \"Topic5\", \"Topic5\", \"Topic5\", \"Topic5\", \"Topic5\", \"Topic5\", \"Topic5\", \"Topic5\", \"Topic5\", \"Topic5\", \"Topic5\", \"Topic5\", \"Topic5\", \"Topic5\", \"Topic5\", \"Topic5\", \"Topic5\", \"Topic5\", \"Topic5\", \"Topic5\", \"Topic5\", \"Topic5\", \"Topic5\", \"Topic5\", \"Topic5\", \"Topic5\", \"Topic5\", \"Topic6\", \"Topic6\", \"Topic6\", \"Topic6\", \"Topic6\", \"Topic6\", \"Topic6\", \"Topic6\", \"Topic6\", \"Topic6\", \"Topic6\", \"Topic6\", \"Topic6\", \"Topic6\", \"Topic6\", \"Topic6\", \"Topic6\", \"Topic6\", \"Topic6\", \"Topic6\", \"Topic6\", \"Topic6\", \"Topic6\", \"Topic6\", \"Topic6\", \"Topic6\", \"Topic6\", \"Topic6\", \"Topic6\", \"Topic6\", \"Topic6\", \"Topic6\", \"Topic6\", \"Topic6\", \"Topic6\", \"Topic6\", \"Topic6\", \"Topic6\", \"Topic7\", \"Topic7\", \"Topic7\", \"Topic7\", \"Topic7\", \"Topic7\", \"Topic7\", \"Topic7\", \"Topic7\", \"Topic7\", \"Topic7\", \"Topic7\", \"Topic7\", \"Topic7\", \"Topic7\", \"Topic7\", \"Topic7\", \"Topic7\", \"Topic7\", \"Topic7\", \"Topic7\", \"Topic7\", \"Topic7\", \"Topic7\", \"Topic7\", \"Topic7\", \"Topic7\", \"Topic7\", \"Topic7\", \"Topic7\"], \"Freq\": [22072.0, 27995.0, 12834.0, 39660.0, 17811.0, 16995.0, 16432.0, 16774.0, 15580.0, 15220.0, 16992.0, 12633.0, 19821.0, 9256.0, 11535.0, 11262.0, 11599.0, 4094.0, 5976.0, 6255.0, 6482.0, 9304.0, 9243.0, 42033.0, 7695.0, 9387.0, 10109.0, 5237.0, 11806.0, 4485.0, 11261.3330078125, 4434.91943359375, 3787.455322265625, 3395.315673828125, 3198.517578125, 3133.35986328125, 2778.5703125, 2748.256103515625, 2609.01123046875, 2550.69140625, 2472.01220703125, 2415.51806640625, 2173.8505859375, 2172.472900390625, 2170.91748046875, 2150.198974609375, 2096.532470703125, 1927.170166015625, 1911.8055419921875, 1793.389404296875, 1781.69970703125, 1769.4307861328125, 1729.27490234375, 1708.4166259765625, 1699.732666015625, 1689.63916015625, 1555.773193359375, 1404.0321044921875, 1344.76220703125, 1277.1512451171875, 5394.61474609375, 3697.981689453125, 4951.115234375, 2924.763427734375, 15520.5263671875, 9217.1767578125, 2394.387451171875, 11718.912109375, 8467.66796875, 6738.9921875, 3341.305908203125, 10219.4111328125, 6514.927734375, 3688.2578125, 4232.74951171875, 3083.9169921875, 4052.466064453125, 5597.13818359375, 11426.7041015625, 3831.759033203125, 4575.88427734375, 4224.16015625, 4356.8828125, 3754.165283203125, 3943.47021484375, 3545.23046875, 3334.794189453125, 16773.251953125, 12632.525390625, 9386.794921875, 7064.056640625, 6892.51611328125, 6704.599609375, 5228.958984375, 5052.41552734375, 4723.0380859375, 4502.30712890625, 3754.66259765625, 3683.723876953125, 3503.6962890625, 2541.2177734375, 2455.400634765625, 2412.6044921875, 2401.221923828125, 2179.8291015625, 2171.50390625, 2078.90478515625, 1915.398681640625, 1902.4197998046875, 1900.080810546875, 1763.9842529296875, 1762.8929443359375, 1744.2923583984375, 1702.7279052734375, 1675.0985107421875, 1551.1141357421875, 1526.155517578125, 9912.9501953125, 14623.9501953125, 25920.693359375, 6033.11865234375, 3156.310546875, 16266.974609375, 28233.353515625, 3908.401123046875, 4803.96240234375, 3237.143798828125, 19839.95703125, 5958.9736328125, 4564.7626953125, 6675.9765625, 3073.099365234375, 4739.8583984375, 5374.20556640625, 5242.8994140625, 4861.15966796875, 4657.982421875, 3945.81005859375, 4211.4287109375, 3761.98291015625, 22071.681640625, 17810.146484375, 16994.857421875, 16431.109375, 15579.95703125, 11534.4697265625, 9303.421875, 9242.3720703125, 8120.62646484375, 7647.1787109375, 7468.44677734375, 7401.68798828125, 6148.69482421875, 5329.703125, 5090.85595703125, 5079.41943359375, 5037.36474609375, 4814.2744140625, 4526.52978515625, 3810.505615234375, 3114.2236328125, 3083.83056640625, 2600.4453125, 2589.35302734375, 2490.388916015625, 2356.344970703125, 2256.33935546875, 2178.035888671875, 2002.94580078125, 1652.82568359375, 10368.578125, 4829.0390625, 10497.9208984375, 3193.645751953125, 4039.9970703125, 4095.51220703125, 16743.44140625, 5506.66357421875, 6745.9833984375, 5024.19091796875, 4322.56787109375, 4462.42138671875, 5236.68505859375, 4039.87646484375, 2588.122802734375, 2369.7958984375, 2256.928466796875, 2245.134521484375, 2058.028076171875, 1887.9700927734375, 1782.7274169921875, 1659.2647705078125, 1508.0294189453125, 1485.197021484375, 1459.535400390625, 1380.9412841796875, 1327.5391845703125, 1260.238525390625, 1157.6326904296875, 1035.833984375, 988.8436279296875, 986.670654296875, 895.6807250976562, 853.5724487304688, 823.4788208007812, 784.2999267578125, 745.4205932617188, 731.4515991210938, 720.991943359375, 577.693603515625, 559.4989013671875, 524.0806274414062, 5892.43310546875, 1263.9676513671875, 955.6239013671875, 3936.18896484375, 4325.85009765625, 2369.015625, 2126.752197265625, 5048.6552734375, 3163.812744140625, 4923.0712890625, 2860.73095703125, 3438.02197265625, 1764.603271484375, 1624.824462890625, 1787.5391845703125, 2538.781005859375, 2915.165283203125, 3713.0693359375, 1808.1741943359375, 2055.04931640625, 1960.583984375, 1902.544189453125, 1312.7000732421875, 805.2108764648438, 612.0996704101562, 587.6437377929688, 556.53662109375, 480.46929931640625, 469.614013671875, 436.7428894042969, 433.7917175292969, 428.08612060546875, 400.27294921875, 374.9528503417969, 359.1695556640625, 356.6490478515625, 324.7207336425781, 322.4501953125, 325.34356689453125, 311.3686218261719, 284.7225646972656, 280.9853515625, 277.69573974609375, 270.8880920410156, 264.278076171875, 257.8757019042969, 248.84420776367188, 247.66343688964844, 235.7838897705078, 234.5846405029297, 233.96900939941406, 233.96900939941406, 234.18020629882812, 233.97044372558594, 587.8556518554688, 526.0629272460938, 587.4215087890625, 467.8238525390625, 1114.7230224609375, 652.5252685546875, 576.3262939453125, 654.5083618164062, 425.56744384765625, 410.0455322265625, 448.56591796875, 392.73004150390625, 634.6039428710938, 578.0220336914062, 557.4853515625, 532.2876586914062, 522.0682373046875, 506.71099853515625, 410.0904541015625, 403.40948486328125, 395.9010925292969, 391.2220153808594, 381.47711181640625, 368.1199645996094, 357.5030212402344, 316.2861633300781, 307.7292175292969, 297.5696105957031, 277.2608947753906, 271.5067138671875, 267.7890930175781, 258.2873229980469, 239.73487854003906, 220.41586303710938, 220.7425537109375, 217.36932373046875, 211.9652862548828, 211.57196044921875, 181.02642822265625, 178.17626953125, 177.54043579101562, 174.02183532714844, 508.67718505859375, 1241.381103515625, 358.98016357421875, 344.7140808105469, 359.71966552734375, 371.5867614746094, 337.9617614746094, 227.6207275390625, 1013.45947265625, 545.4097900390625, 521.71142578125, 481.1391296386719, 448.18115234375, 421.0079650878906, 401.9043884277344, 366.99847412109375, 348.0062561035156, 339.2397766113281, 307.32220458984375, 303.82928466796875, 297.6419677734375, 289.8550109863281, 279.48345947265625, 246.80947875976562, 237.74322509765625, 235.8452911376953, 228.85101318359375, 211.7239532470703, 211.32354736328125, 210.4347686767578, 181.67922973632812, 174.262451171875, 172.7085418701172, 168.21469116210938, 163.65753173828125, 156.56617736816406, 155.39845275878906, 147.25030517578125], \"Term\": [\"walk\", \"bedroom\", \"stay\", \"room\", \"train\", \"minute\", \"restaurant\", \"bed\", \"away\", \"bathroom\", \"guest\", \"full\", \"private\", \"clean\", \"block\", \"home\", \"floor\", \"check\", \"provide\", \"modern\", \"fully\", \"close\", \"bar\", \"apartment\", \"building\", \"living\", \"kitchen\", \"light\", \"neighborhood\", \"towel\", \"home\", \"work\", \"be\", \"day\", \"welcome\", \"host\", \"give\", \"may\", \"want\", \"help\", \"experience\", \"love\", \"keep\", \"would\", \"airbnb\", \"call\", \"travel\", \"ask\", \"see\", \"part\", \"long\", \"key\", \"email\", \"visit\", \"message\", \"s\", \"friend\", \"thing\", \"leave\", \"list\", \"make\", \"always\", \"feel\", \"will\", \"guest\", \"need\", \"friendly\", \"stay\", \"place\", \"time\", \"come\", \"space\", \"clean\", \"enjoy\", \"free\", \"people\", \"cozy\", \"share\", \"room\", \"use\", \"live\", \"good\", \"also\", \"comfortable\", \"available\", \"private\", \"area\", \"bed\", \"full\", \"living\", \"tv\", \"include\", \"size\", \"wifi\", \"equip\", \"dining\", \"closet\", \"queen\", \"table\", \"newly\", \"smart\", \"sized\", \"mattress\", \"furnish\", \"speed\", \"desk\", \"linen\", \"stock\", \"shower\", \"couch\", \"sofa\", \"separate\", \"level\", \"sheet\", \"second\", \"maker\", \"double\", \"kitchen\", \"bathroom\", \"bedroom\", \"fully\", \"entrance\", \"private\", \"room\", \"towel\", \"renovate\", \"brand\", \"apartment\", \"large\", \"provide\", \"floor\", \"sleep\", \"new\", \"live\", \"access\", \"share\", \"area\", \"coffee\", \"locate\", \"comfortable\", \"walk\", \"train\", \"minute\", \"restaurant\", \"away\", \"block\", \"close\", \"bar\", \"subway\", \"shop\", \"distance\", \"station\", \"bus\", \"park\", \"line\", \"location\", \"many\", \"store\", \"min\", \"stop\", \"downtown\", \"nearby\", \"cafe\", \"corner\", \"supermarket\", \"ride\", \"grocery\", \"shopping\", \"transportation\", \"market\", \"neighborhood\", \"street\", \"locate\", \"short\", \"easy\", \"safe\", \"apartment\", \"great\", \"available\", \"quiet\", \"heart\", \"good\", \"light\", \"view\", \"natural\", \"art\", \"top\", \"luxury\", \"ceiling\", \"style\", \"historic\", \"fill\", \"stylish\", \"brownstone\", \"design\", \"face\", \"creative\", \"foot\", \"outdoor\", \"sunlight\", \"plant\", \"artist\", \"charm\", \"loft\", \"wall\", \"end\", \"decorate\", \"terrace\", \"real\", \"chic\", \"original\", \"wood\", \"modern\", \"garden\", \"update\", \"window\", \"high\", \"bright\", \"village\", \"building\", \"build\", \"floor\", \"studio\", \"beautiful\", \"open\", \"feature\", \"amenity\", \"large\", \"space\", \"apartment\", \"offer\", \"spacious\", \"heart\", \"new\", \"rooftop\", \"curtain\", \"female\", \"professional\", \"finish\", \"ferry\", \"sonder\", \"sond\", \"student\", \"put\", \"co\", \"staff\", \"cabinet\", \"whenever\", \"arrive\", \"mostly\", \"excitement\", \"chinese\", \"ikea\", \"ability\", \"digital\", \"wooden\", \"month\", \"utility\", \"college\", \"cleaning\", \"average_rating\", \"fast_company\", \"uncertainty\", \"proper_disinfection\", \"male\", \"technique\", \"essential\", \"run\", \"fresh\", \"lounge\", \"stay\", \"provide\", \"towel\", \"clean\", \"know\", \"person\", \"fully\", \"phone\", \"luggage\", \"fee\", \"booking\", \"smoke\", \"railroad\", \"emergency\", \"choose\", \"hell\", \"wash\", \"pay\", \"reservation\", \"basically\", \"monitor\", \"respond\", \"working\", \"prior\", \"exception\", \"solo\", \"belonging\", \"can\", \"resting\", \"treat\", \"beddings\", \"last\", \"video\", \"wishes_communication\", \"cleaning_fee\", \"least\", \"guy\", \"bag\", \"must\", \"check\", \"pet\", \"late\", \"self\", \"book\", \"note\", \"request\", \"anywhere\", \"kind\", \"literally\", \"oasis\", \"ever\", \"everywhere\", \"hipster\", \"astoria\", \"construction\", \"cuisine\", \"adventure\", \"garage\", \"delicious\", \"lirr\", \"scene\", \"venue\", \"happen\", \"reachable\", \"health\", \"transfer\", \"deal\", \"dance\", \"buy\", \"clothing\", \"stroll\", \"lga\", \"rustic\", \"caribbean\", \"bodegas\", \"mta\"], \"Total\": [22072.0, 27995.0, 12834.0, 39660.0, 17811.0, 16995.0, 16432.0, 16774.0, 15580.0, 15220.0, 16992.0, 12633.0, 19821.0, 9256.0, 11535.0, 11262.0, 11599.0, 4094.0, 5976.0, 6255.0, 6482.0, 9304.0, 9243.0, 42033.0, 7695.0, 9387.0, 10109.0, 5237.0, 11806.0, 4485.0, 11262.2568359375, 4435.8447265625, 3788.379638671875, 3396.239990234375, 3199.441650390625, 3134.28466796875, 2779.494873046875, 2749.180419921875, 2609.935302734375, 2551.615478515625, 2472.937255859375, 2416.44189453125, 2174.775390625, 2173.3974609375, 2171.84228515625, 2151.122802734375, 2097.45703125, 1928.094482421875, 1912.73046875, 1794.314453125, 1782.6240234375, 1770.355224609375, 1730.199462890625, 1709.340576171875, 1700.6571044921875, 1690.5634765625, 1556.697509765625, 1404.9571533203125, 1345.6866455078125, 1278.075927734375, 5418.92333984375, 3720.977294921875, 5074.0673828125, 2973.034912109375, 16992.8671875, 9877.1220703125, 2426.221923828125, 12834.4091796875, 9471.6328125, 8457.7255859375, 3811.615966796875, 15995.322265625, 9256.66015625, 4903.0693359375, 6150.24462890625, 3778.081298828125, 5987.67431640625, 10459.0615234375, 39660.8203125, 6138.7705078125, 10000.1396484375, 8857.630859375, 10502.2236328125, 7516.9130859375, 12271.8134765625, 19821.658203125, 11547.1669921875, 16774.16796875, 12633.439453125, 9387.708984375, 7064.97021484375, 6893.4375, 6705.513671875, 5229.87451171875, 5053.33154296875, 4723.9521484375, 4503.22119140625, 3755.577392578125, 3684.63818359375, 3504.611083984375, 2542.13330078125, 2456.314453125, 2413.518310546875, 2402.1357421875, 2180.744384765625, 2172.41845703125, 2079.818603515625, 1916.31298828125, 1903.333740234375, 1900.99462890625, 1764.8980712890625, 1763.80712890625, 1745.207763671875, 1703.64208984375, 1676.0128173828125, 1552.028076171875, 1527.0693359375, 10109.484375, 15220.4638671875, 27995.44921875, 6482.44970703125, 3311.445068359375, 19821.658203125, 39660.8203125, 4485.49169921875, 5783.845703125, 3723.245849609375, 42033.16015625, 8498.4951171875, 5976.5986328125, 11599.7880859375, 3560.198486328125, 7657.2509765625, 10000.1396484375, 11009.2294921875, 10459.0615234375, 11547.1669921875, 7441.73388671875, 14710.1240234375, 7516.9130859375, 22072.6171875, 17811.08203125, 16995.79296875, 16432.044921875, 15580.8916015625, 11535.404296875, 9304.3564453125, 9243.306640625, 8121.56103515625, 7648.11376953125, 7469.38134765625, 7402.62255859375, 6149.62890625, 5330.63818359375, 5091.79052734375, 5080.3544921875, 5038.29931640625, 4815.208984375, 4527.46435546875, 3811.439697265625, 3115.158447265625, 3084.765869140625, 2601.380126953125, 2590.28759765625, 2491.322998046875, 2357.279296875, 2257.2734375, 2178.970458984375, 2003.880859375, 1653.7601318359375, 11806.9794921875, 5226.638671875, 14710.1240234375, 3461.422119140625, 4649.28515625, 5094.33935546875, 42033.16015625, 8123.38818359375, 12271.8134765625, 8380.5263671875, 6283.9130859375, 8857.630859375, 5237.58642578125, 4040.77734375, 2589.02392578125, 2370.697265625, 2257.8291015625, 2246.03515625, 2058.928466796875, 1888.872314453125, 1783.6282958984375, 1660.1658935546875, 1508.9326171875, 1486.0975341796875, 1460.4368896484375, 1381.8419189453125, 1328.4447021484375, 1261.1396484375, 1158.5338134765625, 1036.7347412109375, 989.7457885742188, 987.5711059570312, 896.5813598632812, 854.47216796875, 824.3795776367188, 785.2010498046875, 746.3212280273438, 732.3523559570312, 721.8932495117188, 578.594482421875, 560.3987426757812, 524.9807739257812, 6255.8623046875, 1317.6502685546875, 986.6996459960938, 4593.91259765625, 5519.72509765625, 2830.373046875, 2508.071533203125, 7695.67626953125, 4985.494140625, 11599.7880859375, 5238.48974609375, 7017.3857421875, 3064.730224609375, 2880.476806640625, 3580.885986328125, 8498.4951171875, 15995.322265625, 42033.16015625, 4154.52978515625, 6965.6181640625, 6283.9130859375, 7657.2509765625, 1313.625244140625, 806.1358032226562, 613.024658203125, 588.5687866210938, 557.464599609375, 481.39404296875, 470.5361022949219, 437.66497802734375, 434.71673583984375, 429.01214599609375, 401.1969909667969, 375.8760681152344, 360.09674072265625, 357.5769348144531, 325.6457214355469, 323.37591552734375, 326.3039855957031, 312.2944641113281, 285.65240478515625, 281.907958984375, 278.617919921875, 271.8150634765625, 265.2030029296875, 258.8006896972656, 249.7711944580078, 248.58900451660156, 236.70596313476562, 235.5067138671875, 234.89108276367188, 234.89108276367188, 235.10415649414062, 234.8925018310547, 1115.007568359375, 1169.4656982421875, 1798.1798095703125, 1347.6116943359375, 12834.4091796875, 5976.5986328125, 4485.49169921875, 9256.66015625, 2438.99951171875, 2216.248046875, 6482.44970703125, 3415.250732421875, 635.5286254882812, 578.946533203125, 558.4096069335938, 533.2124633789062, 522.9962158203125, 507.6380615234375, 411.0160827636719, 404.33477783203125, 396.8266906738281, 392.1472473144531, 382.4017639160156, 369.0559387207031, 358.4339599609375, 317.2122802734375, 308.6570129394531, 298.49462890625, 278.1846008300781, 272.4318542480469, 268.7140808105469, 259.2119445800781, 240.6587677001953, 221.34129333496094, 221.67308044433594, 218.2950897216797, 212.88983154296875, 212.4969482421875, 181.9526824951172, 179.1017303466797, 178.46609497070312, 174.94662475585938, 894.3525390625, 4094.003662109375, 751.0361938476562, 729.5244140625, 927.129638671875, 1700.05126953125, 1432.0185546875, 650.7695922851562, 1014.38232421875, 546.3318481445312, 522.6328735351562, 482.061279296875, 449.1043701171875, 421.93048095703125, 402.8273010253906, 367.92059326171875, 348.9483337402344, 340.1616516113281, 308.2456970214844, 304.75335693359375, 298.5645446777344, 290.7774353027344, 280.4052429199219, 247.7310333251953, 238.6653289794922, 236.76742553710938, 229.7779998779297, 212.64630126953125, 212.24618530273438, 211.35675048828125, 182.60238647460938, 175.18350219726562, 173.63070678710938, 169.13751220703125, 164.5806884765625, 157.4881134033203, 156.3216552734375, 148.17295837402344], \"loglift\": [30.0, 29.0, 28.0, 27.0, 26.0, 25.0, 24.0, 23.0, 22.0, 21.0, 20.0, 19.0, 18.0, 17.0, 16.0, 15.0, 14.0, 13.0, 12.0, 11.0, 10.0, 9.0, 8.0, 7.0, 6.0, 5.0, 4.0, 3.0, 2.0, 1.0, 1.2594000101089478, 1.2591999769210815, 1.2591999769210815, 1.2591999769210815, 1.2591999769210815, 1.2591999769210815, 1.2590999603271484, 1.2590999603271484, 1.2590999603271484, 1.2590999603271484, 1.2590999603271484, 1.2590999603271484, 1.2589999437332153, 1.2589999437332153, 1.2589999437332153, 1.2589999437332153, 1.2589999437332153, 1.2589999437332153, 1.2589999437332153, 1.2589000463485718, 1.2589000463485718, 1.2589000463485718, 1.2589000463485718, 1.2589000463485718, 1.2589000463485718, 1.2589000463485718, 1.2589000463485718, 1.2588000297546387, 1.2588000297546387, 1.2587000131607056, 1.2549999952316284, 1.2532000541687012, 1.2348999977111816, 1.2431000471115112, 1.1687999963760376, 1.1902999877929688, 1.2461999654769897, 1.1684999465942383, 1.1474000215530396, 1.0322999954223633, 1.1277999877929688, 0.8113999962806702, 0.9082000255584717, 0.9746999740600586, 0.8858000040054321, 1.056399941444397, 0.8690999746322632, 0.6341999769210815, 0.014999999664723873, 0.788100004196167, 0.47760000824928284, 0.5189999938011169, 0.37959998846054077, 0.5651999711990356, 0.1242000013589859, -0.4616999924182892, 0.017400000244379044, 1.2597999572753906, 1.2597999572753906, 1.2597999572753906, 1.2597999572753906, 1.2597999572753906, 1.2597999572753906, 1.2596999406814575, 1.2596999406814575, 1.2596999406814575, 1.2596999406814575, 1.2596999406814575, 1.2596999406814575, 1.259600043296814, 1.2595000267028809, 1.2595000267028809, 1.2595000267028809, 1.2595000267028809, 1.2595000267028809, 1.2595000267028809, 1.2595000267028809, 1.2594000101089478, 1.2594000101089478, 1.2594000101089478, 1.2594000101089478, 1.2594000101089478, 1.2594000101089478, 1.2594000101089478, 1.2594000101089478, 1.2592999935150146, 1.2592999935150146, 1.2403000593185425, 1.2199000120162964, 1.1828999519348145, 1.188099980354309, 1.211899995803833, 1.0622999668121338, 0.9200000166893005, 1.1222000122070312, 1.0743000507354736, 1.1200000047683716, 0.5091000199317932, 0.9049000144004822, 0.9904000163078308, 0.7074000239372253, 1.1128000020980835, 0.7803000211715698, 0.6388999819755554, 0.5180000066757202, 0.4936999976634979, 0.35199999809265137, 0.6255000233650208, 0.009200000204145908, 0.5677000284194946, 1.3026000261306763, 1.3026000261306763, 1.3026000261306763, 1.3026000261306763, 1.3026000261306763, 1.3026000261306763, 1.3026000261306763, 1.3026000261306763, 1.3026000261306763, 1.3026000261306763, 1.3026000261306763, 1.3026000261306763, 1.3025000095367432, 1.3025000095367432, 1.3025000095367432, 1.3025000095367432, 1.3025000095367432, 1.3025000095367432, 1.3025000095367432, 1.30239999294281, 1.30239999294281, 1.30239999294281, 1.302299976348877, 1.302299976348877, 1.302299976348877, 1.302299976348877, 1.302299976348877, 1.302299976348877, 1.3021999597549438, 1.3020999431610107, 1.1727999448776245, 1.2236000299453735, 0.9653000235557556, 1.2222000360488892, 1.1621999740600586, 1.0844000577926636, 0.3822000026702881, 0.9139000177383423, 0.7042999863624573, 0.7910000085830688, 0.9284999966621399, 0.6171000003814697, 2.183500051498413, 2.1833999156951904, 2.183300018310547, 2.183300018310547, 2.183199882507324, 2.183199882507324, 2.183199882507324, 2.183199882507324, 2.1830999851226807, 2.1830999851226807, 2.183000087738037, 2.183000087738037, 2.183000087738037, 2.183000087738037, 2.183000087738037, 2.1828999519348145, 2.1828999519348145, 2.182800054550171, 2.1826999187469482, 2.1826999187469482, 2.1826000213623047, 2.1826000213623047, 2.182499885559082, 2.182499885559082, 2.1823999881744385, 2.1823999881744385, 2.1823999881744385, 2.1821000576019287, 2.181999921798706, 2.1819000244140625, 2.123800039291382, 2.1419999599456787, 2.151599884033203, 2.029099941253662, 1.9399000406265259, 2.00570011138916, 2.018699884414673, 1.7620999813079834, 1.7288999557495117, 1.3265999555587769, 1.5786999464035034, 1.4701000452041626, 1.631600022315979, 1.6110999584197998, 1.4888999462127686, 0.9753999710083008, 0.4812999963760376, -0.24300000071525574, 1.3517999649047852, 0.9628999829292297, 1.0189000368118286, 0.7911999821662903, 3.915800094604492, 3.9154000282287598, 3.9149999618530273, 3.9149999618530273, 3.914900064468384, 3.914599895477295, 3.914599895477295, 3.914400100708008, 3.914400100708008, 3.914400100708008, 3.9142000675201416, 3.914099931716919, 3.9138998985290527, 3.9138998985290527, 3.9137001037597656, 3.9137001037597656, 3.913599967956543, 3.913599967956543, 3.913300037384033, 3.9131999015808105, 3.9131999015808105, 3.913100004196167, 3.9130001068115234, 3.912899971008301, 3.9128000736236572, 3.9128000736236572, 3.912600040435791, 3.912600040435791, 3.912600040435791, 3.912600040435791, 3.912600040435791, 3.912600040435791, 3.276400089263916, 3.1175999641418457, 2.7976999282836914, 2.8585000038146973, 1.4730000495910645, 1.701799988746643, 1.8645999431610107, 1.267300009727478, 2.170599937438965, 2.2291998863220215, 1.2457000017166138, 1.753600001335144, 4.087699890136719, 4.087500095367432, 4.087500095367432, 4.087399959564209, 4.087299823760986, 4.087299823760986, 4.086900234222412, 4.0868000984191895, 4.0868000984191895, 4.086699962615967, 4.086699962615967, 4.086599826812744, 4.08650016784668, 4.08620023727417, 4.086100101470947, 4.085999965667725, 4.0858001708984375, 4.085700035095215, 4.085700035095215, 4.0854997634887695, 4.085299968719482, 4.08489990234375, 4.08489990234375, 4.08489990234375, 4.084799766540527, 4.084700107574463, 4.084000110626221, 4.083899974822998, 4.083899974822998, 4.083799839019775, 3.5248000621795654, 2.8958001136779785, 3.3508999347686768, 3.339400053024292, 3.1422998905181885, 2.56850004196167, 2.64520001411438, 3.038599967956543, 4.472300052642822, 4.471499919891357, 4.471499919891357, 4.47130012512207, 4.471199989318848, 4.4710001945495605, 4.470900058746338, 4.470699787139893, 4.4704999923706055, 4.4704999923706055, 4.470200061798096, 4.470200061798096, 4.470099925994873, 4.470099925994873, 4.469900131225586, 4.4695000648498535, 4.469399929046631, 4.469299793243408, 4.469200134277344, 4.468900203704834, 4.468900203704834, 4.468900203704834, 4.468200206756592, 4.4679999351501465, 4.467899799346924, 4.467800140380859, 4.467599868774414, 4.467400074005127, 4.467299938201904, 4.4670000076293945], \"logprob\": [30.0, 29.0, 28.0, 27.0, 26.0, 25.0, 24.0, 23.0, 22.0, 21.0, 20.0, 19.0, 18.0, 17.0, 16.0, 15.0, 14.0, 13.0, 12.0, 11.0, 10.0, 9.0, 8.0, 7.0, 6.0, 5.0, 4.0, 3.0, 2.0, 1.0, -3.7843000888824463, -4.71619987487793, -4.874000072479248, -4.98330020904541, -5.043000221252441, -5.063600063323975, -5.183700084686279, -5.194699764251709, -5.246699810028076, -5.2692999839782715, -5.300600051879883, -5.323800086975098, -5.429200172424316, -5.429800033569336, -5.430500030517578, -5.440100193023682, -5.465400218963623, -5.549600124359131, -5.557600021362305, -5.621600151062012, -5.6280999183654785, -5.635000228881836, -5.6579999923706055, -5.670100212097168, -5.67519998550415, -5.68120002746582, -5.763700008392334, -5.866300106048584, -5.9095001220703125, -5.960999965667725, -4.520299911499023, -4.897900104522705, -4.606100082397461, -5.132500171661377, -3.4635000228881836, -3.984600067138672, -5.332499980926514, -3.744499921798706, -4.069399833679199, -4.297800064086914, -4.999300003051758, -3.8814001083374023, -4.331600189208984, -4.9004998207092285, -4.762800216674805, -5.079500198364258, -4.806399822235107, -4.483399868011475, -3.769700050354004, -4.862400054931641, -4.684899806976318, -4.764900207519531, -4.73390007019043, -4.882800102233887, -4.833600044250488, -4.940100193023682, -5.001299858093262, -3.3854000568389893, -3.6689000129699707, -3.96589994430542, -4.250199794769287, -4.274799823760986, -4.3024001121521, -4.551000118255615, -4.585400104522705, -4.6528000831604, -4.7006001472473145, -4.882199764251709, -4.901299953460693, -4.951399803161621, -5.272600173950195, -5.3069000244140625, -5.32450008392334, -5.32919979095459, -5.426000118255615, -5.429800033569336, -5.473400115966797, -5.555300235748291, -5.562099933624268, -5.563300132751465, -5.637599945068359, -5.638299942016602, -5.648900032043457, -5.672999858856201, -5.689300060272217, -5.766200065612793, -5.78249979019165, -3.911400079727173, -3.522599935531616, -2.950200080871582, -4.4079999923706055, -5.055799961090088, -3.416100025177002, -2.8647000789642334, -4.842100143432617, -4.635799884796143, -5.0304999351501465, -3.2174999713897705, -4.420300006866455, -4.6869001388549805, -4.306700229644775, -5.082499980926514, -4.649199962615967, -4.523600101470947, -4.548299789428711, -4.623899936676025, -4.666600227355957, -4.832600116729736, -4.767399787902832, -4.880300045013428, -3.0680999755859375, -3.2827000617980957, -3.3294999599456787, -3.363300085067749, -3.4165000915527344, -3.717099905014038, -3.9321000576019287, -3.9386000633239746, -4.067999839782715, -4.1280999183654785, -4.151800155639648, -4.160699844360352, -4.346199989318848, -4.489099979400635, -4.534999847412109, -4.537199974060059, -4.545599937438965, -4.59089994430542, -4.652500152587891, -4.824699878692627, -5.026500225067139, -5.036300182342529, -5.2067999839782715, -5.210999965667725, -5.25, -5.305300235748291, -5.348700046539307, -5.383999824523926, -5.467800140380859, -5.659999847412109, -3.823699951171875, -4.587800025939941, -3.811300039291382, -5.001299858093262, -4.766200065612793, -4.752600193023682, -3.344399929046631, -4.456500053405762, -4.253499984741211, -4.5482001304626465, -4.698599815368652, -4.666800022125244, -3.6257998943328857, -3.8852999210357666, -4.330599784851074, -4.418700218200684, -4.46750020980835, -4.472700119018555, -4.559700012207031, -4.645999908447266, -4.7032999992370605, -4.775100231170654, -4.870699882507324, -4.885900020599365, -4.90339994430542, -4.958700180053711, -4.998199939727783, -5.05019998550415, -5.1350998878479, -5.246300220489502, -5.292699813842773, -5.294899940490723, -5.39169979095459, -5.439799785614014, -5.4756999015808105, -5.524499893188477, -5.575300216674805, -5.594200134277344, -5.60860013961792, -5.8302001953125, -5.862199783325195, -5.927599906921387, -3.5078001022338867, -5.0472002029418945, -5.326900005340576, -3.91129994392395, -3.8169000148773193, -4.419000148773193, -4.526899814605713, -3.662400007247925, -4.129700183868408, -3.6875998973846436, -4.230400085449219, -4.046599864959717, -4.713600158691406, -4.79610013961792, -4.7006001472473145, -4.349800109863281, -4.211599826812744, -3.969599962234497, -4.689199924468994, -4.561200141906738, -4.6082000732421875, -4.638299942016602, -3.2764999866485596, -3.7653000354766846, -4.0395002365112305, -4.0802001953125, -4.1346001625061035, -4.281599998474121, -4.3043999671936035, -4.376999855041504, -4.383800029754639, -4.396999835968018, -4.464200019836426, -4.529600143432617, -4.5725998878479, -4.579599857330322, -4.673399925231934, -4.6803998947143555, -4.671500205993652, -4.715400218963623, -4.804800033569336, -4.8180999755859375, -4.829800128936768, -4.854599952697754, -4.87939977645874, -4.903900146484375, -4.939499855041504, -4.944300174713135, -4.9934000968933105, -4.998499870300293, -5.001200199127197, -5.001200199127197, -5.00029993057251, -5.001200199127197, -4.079899787902832, -4.190899848937988, -4.080599784851074, -4.308300018310547, -3.440000057220459, -3.9755001068115234, -4.099699974060059, -3.9725000858306885, -4.402900218963623, -4.440100193023682, -4.350299835205078, -4.4832000732421875, -3.8308000564575195, -3.9242000579833984, -3.9602999687194824, -4.0065999031066895, -4.026000022888184, -4.055799961090088, -4.267399787902832, -4.28380012512207, -4.302599906921387, -4.314499855041504, -4.339700222015381, -4.375400066375732, -4.404600143432617, -4.527100086212158, -4.554500102996826, -4.588099956512451, -4.65880012512207, -4.679800033569336, -4.693600177764893, -4.729700088500977, -4.804200172424316, -4.888299942016602, -4.8867998123168945, -4.902200222015381, -4.927299976348877, -4.929200172424316, -5.085100173950195, -5.10099983215332, -5.104599952697754, -5.124599933624268, -4.052000045776367, -3.1598000526428223, -4.4004998207092285, -4.441100120544434, -4.398399829864502, -4.366000175476074, -4.4608001708984375, -4.856100082397461, -2.9784998893737793, -3.598099946975708, -3.6424999237060547, -3.7235000133514404, -3.7943999767303467, -3.8570001125335693, -3.90339994430542, -3.99429988861084, -4.047399997711182, -4.07289981842041, -4.1717000007629395, -4.183199882507324, -4.203700065612793, -4.230299949645996, -4.26669979095459, -4.390999794006348, -4.428400039672852, -4.436500072479248, -4.466599941253662, -4.544400215148926, -4.546199798583984, -4.55049991607666, -4.697400093078613, -4.739099979400635, -4.748000144958496, -4.774400234222412, -4.8018999099731445, -4.846199989318848, -4.853600025177002, -4.90749979019165]}, \"token.table\": {\"Topic\": [5, 1, 2, 3, 7, 1, 1, 2, 3, 1, 3, 1, 2, 4, 7, 1, 2, 3, 4, 1, 2, 3, 5, 4, 4, 1, 7, 1, 2, 3, 5, 3, 6, 3, 6, 1, 2, 1, 1, 2, 3, 4, 2, 6, 1, 2, 3, 6, 3, 7, 1, 6, 6, 2, 4, 2, 3, 4, 4, 2, 3, 4, 2, 3, 4, 5, 3, 7, 5, 3, 1, 6, 7, 4, 4, 1, 6, 4, 5, 6, 1, 2, 3, 5, 5, 6, 3, 2, 7, 5, 1, 2, 3, 5, 1, 2, 1, 2, 7, 3, 2, 1, 2, 3, 4, 7, 5, 7, 1, 7, 4, 7, 4, 2, 5, 2, 3, 2, 3, 1, 2, 3, 1, 6, 4, 1, 2, 4, 1, 2, 2, 1, 5, 7, 7, 6, 5, 1, 4, 5, 2, 4, 6, 1, 4, 5, 5, 4, 5, 2, 4, 4, 1, 2, 2, 5, 1, 1, 3, 2, 2, 5, 2, 7, 2, 4, 1, 1, 3, 4, 1, 3, 4, 3, 1, 2, 6, 7, 7, 3, 4, 6, 1, 2, 4, 7, 4, 1, 1, 5, 2, 1, 1, 7, 1, 2, 1, 5, 2, 4, 6, 1, 6, 6, 1, 2, 7, 4, 3, 2, 7, 1, 7, 1, 2, 4, 2, 2, 3, 3, 4, 1, 2, 3, 4, 5, 1, 6, 4, 1, 4, 2, 5, 3, 3, 2, 1, 1, 3, 3, 2, 4, 6, 5, 5, 7, 1, 6, 4, 3, 1, 2, 3, 1, 3, 2, 3, 4, 2, 1, 2, 6, 7, 1, 2, 3, 4, 1, 2, 3, 4, 4, 4, 3, 1, 6, 1, 2, 1, 2, 5, 1, 6, 1, 3, 5, 1, 3, 4, 6, 1, 2, 3, 5, 5, 1, 2, 5, 5, 2, 1, 2, 3, 6, 7, 4, 2, 4, 1, 6, 6, 6, 3, 6, 3, 5, 1, 2, 1, 3, 5, 7, 1, 1, 3, 7, 2, 1, 1, 6, 2, 1, 2, 2, 3, 3, 1, 2, 3, 2, 2, 2, 1, 2, 2, 6, 2, 6, 5, 5, 1, 2, 4, 2, 3, 4, 2, 5, 3, 1, 5, 2, 3, 3, 3, 4, 7, 5, 3, 4, 4, 4, 3, 4, 3, 2, 5, 4, 1, 1, 3, 4, 2, 5, 3, 7, 3, 1, 6, 2, 5, 2, 4, 1, 2, 5, 7, 6, 4, 3, 4, 1, 3, 4, 1, 6, 1, 5, 2, 1, 4, 2, 4, 6, 4, 5, 1, 6, 1], \"Freq\": [0.9967792630195618, 0.22980718314647675, 0.4762367904186249, 0.2939351797103882, 0.9959587454795837, 0.9996121525764465, 0.41486451029777527, 0.25489839911460876, 0.33021578192710876, 0.9938249588012695, 0.005912424996495247, 0.25301000475883484, 0.24770405888557434, 0.4993177652359009, 0.9986372590065002, 0.04130072519183159, 0.47200828790664673, 0.39832836389541626, 0.08833502233028412, 0.288815438747406, 0.40338897705078125, 0.3077811300754547, 0.9980171322822571, 0.9997059106826782, 0.9994217157363892, 0.9994323253631592, 0.9974978566169739, 0.32130539417266846, 0.1289132982492447, 0.549714982509613, 0.9970175623893738, 0.9999427795410156, 0.99458909034729, 0.9998586177825928, 0.9971387982368469, 0.03915780782699585, 0.9608117341995239, 0.9996358156204224, 0.003420077031478286, 0.06156138703227043, 0.44489502906799316, 0.4899260401725769, 0.9999303817749023, 0.996963620185852, 0.0003214808239135891, 0.9259004592895508, 0.07379771023988724, 0.997342586517334, 0.9998782873153687, 0.9915452599525452, 0.7811529040336609, 0.21881693601608276, 0.9974756836891174, 0.8694027066230774, 0.13026268780231476, 0.021905239671468735, 0.14097081124782562, 0.8369921445846558, 0.9992614388465881, 0.11653809994459152, 0.2489221692085266, 0.6346412301063538, 0.005327667109668255, 0.30536627769470215, 0.6560826897621155, 0.033265434205532074, 0.9998977184295654, 0.9967011213302612, 0.9969543218612671, 0.9994694590568542, 0.9994780421257019, 0.9953244924545288, 0.9969006180763245, 0.9995490312576294, 0.9993515610694885, 0.6966285705566406, 0.3031262457370758, 0.9989725351333618, 0.9958549737930298, 0.9975278973579407, 0.7038175463676453, 0.19283412396907806, 0.03251712769269943, 0.0707598626613617, 0.9976305961608887, 0.9947641491889954, 0.9998542070388794, 0.999728798866272, 0.9932442307472229, 0.997016429901123, 0.06947305798530579, 0.5302527546882629, 0.4001755714416504, 0.99691241979599, 0.8765311241149902, 0.12330728024244308, 0.4994071424007416, 0.5004714131355286, 0.9972823262214661, 0.9995028972625732, 0.9994767904281616, 0.6767235398292542, 0.01386180892586708, 0.3091350495815277, 0.9996652603149414, 0.9965850114822388, 0.9985910654067993, 0.9935807585716248, 0.9996349215507507, 0.9941285848617554, 0.9982296824455261, 0.9981091618537903, 0.9997008442878723, 0.9998073577880859, 0.9977821707725525, 0.9997984170913696, 0.999815046787262, 0.9992997646331787, 0.9996281266212463, 0.12991245090961456, 0.0008603472961112857, 0.8689507842063904, 0.9993067383766174, 0.9987430572509766, 0.9984703660011292, 0.752181887626648, 0.002039538696408272, 0.24576441943645477, 0.04650537669658661, 0.9530582427978516, 0.999736487865448, 0.47174566984176636, 0.527350664138794, 0.9975409507751465, 0.9977946877479553, 0.9957416653633118, 0.9960037469863892, 0.9996209740638733, 0.999390721321106, 0.997848391532898, 0.4356917440891266, 0.5641427040100098, 0.9983651041984558, 0.9757457971572876, 0.02404382824897766, 0.9983285069465637, 0.9971041679382324, 0.9992977380752563, 0.9991666078567505, 0.5755277276039124, 0.4244042932987213, 0.9990963339805603, 0.688265323638916, 0.3116949200630188, 0.6729026436805725, 0.32644122838974, 0.9995519518852234, 0.9867193102836609, 0.01277706678956747, 0.9999651908874512, 0.9306666851043701, 0.06926394253969193, 0.9995272159576416, 0.9975279569625854, 0.04022311791777611, 0.9592833518981934, 0.9998219609260559, 0.4768769443035126, 0.5037464499473572, 0.019192490726709366, 0.2194896936416626, 0.6779190897941589, 0.1025434210896492, 0.9994358420372009, 0.9133832454681396, 0.08662457764148712, 0.9973883032798767, 0.997212290763855, 0.9966140985488892, 0.687947154045105, 0.3120667040348053, 0.9966988563537598, 0.999758780002594, 0.2161339521408081, 0.7837346792221069, 0.9979462623596191, 0.9996477365493774, 0.9998884201049805, 0.9995900988578796, 0.9977160692214966, 0.9999365210533142, 0.9996434450149536, 0.9992344975471497, 0.9975621700286865, 0.019387735053896904, 0.9805643558502197, 0.8253384232521057, 0.174661785364151, 0.7011829614639282, 0.29875877499580383, 0.9940672516822815, 0.5263703465461731, 0.4729108214378357, 0.9938485622406006, 0.9994897246360779, 0.9993079304695129, 0.9932746291160583, 0.9998880624771118, 0.9998447299003601, 0.9996064305305481, 0.9973263740539551, 0.9991581439971924, 0.9987890720367432, 0.4575936198234558, 0.5373924970626831, 0.004899931605905294, 0.9999244809150696, 0.28626543283462524, 0.7136581540107727, 0.9997333884239197, 0.9994474053382874, 0.9996499419212341, 0.029682140797376633, 0.02448776550590992, 0.5980951189994812, 0.3472810387611389, 0.9998171329498291, 0.9991682171821594, 0.9995391368865967, 0.9955852031707764, 0.004428924061357975, 0.9993376135826111, 0.9953035712242126, 0.9997420907020569, 0.999540388584137, 0.9997852444648743, 0.9995706081390381, 0.9996136426925659, 0.9998974204063416, 0.9999533295631409, 0.05802557244896889, 0.9418365955352783, 0.9987893104553223, 0.9954638481140137, 0.9957451224327087, 0.9920838475227356, 0.4304790198802948, 0.5691267848014832, 0.9996045231819153, 0.9997517466545105, 0.9331665635108948, 0.029968243092298508, 0.03675159439444542, 0.12179236859083176, 0.8782093524932861, 0.6190211176872253, 0.1324235051870346, 0.24852260947227478, 0.999825656414032, 0.5188480019569397, 0.24510855972766876, 0.2360304594039917, 0.9977984428405762, 0.46671947836875916, 0.05415775254368782, 0.04380760341882706, 0.4351876378059387, 0.10115082561969757, 0.30606281757354736, 0.016967235133051872, 0.5759071111679077, 0.9975039958953857, 0.9995392560958862, 0.9998802542686462, 0.9992674589157104, 0.9970744252204895, 0.8162873387336731, 0.18342643976211548, 0.8045128583908081, 0.009926686994731426, 0.1849973499774933, 0.5206140279769897, 0.4780062437057495, 0.3847448229789734, 0.49981689453125, 0.11507207900285721, 0.8940380215644836, 0.10589515417814255, 0.9992464780807495, 0.9983429312705994, 0.17884477972984314, 0.8206679821014404, 0.0004540488007478416, 0.9990336298942566, 0.9962064027786255, 0.12699531018733978, 0.7638123631477356, 0.1092594712972641, 0.9976407289505005, 0.9998462796211243, 0.34031274914741516, 0.060020096600055695, 0.5994850397109985, 0.9980951547622681, 0.996758759021759, 0.9987626075744629, 0.830589234828949, 0.1692645400762558, 0.6484630107879639, 0.35035440325737, 0.9963343143463135, 0.9961783289909363, 0.9999364018440247, 0.9972626566886902, 0.9994572997093201, 0.9995240569114685, 0.2881180942058563, 0.7118611931800842, 0.18726500868797302, 0.3625587224960327, 0.4497780501842499, 0.9964717030525208, 0.999666690826416, 0.1959037184715271, 0.804029643535614, 0.9949885010719299, 0.9993956685066223, 0.9996181130409241, 0.6115649342536926, 0.3882952034473419, 0.9995424151420593, 0.5351340770721436, 0.46476444602012634, 0.9996231198310852, 0.9998543858528137, 0.9995546340942383, 0.01531162578612566, 0.06182429939508438, 0.9227421283721924, 0.9992992877960205, 0.9999234080314636, 0.9994648694992065, 0.1365092396736145, 0.8631541132926941, 0.9995542168617249, 0.9977261424064636, 0.9994911551475525, 0.9984148144721985, 0.9984806180000305, 0.9988606572151184, 0.6388742923736572, 0.1788022816181183, 0.1822407841682434, 0.5128044486045837, 0.192086324095726, 0.2950204908847809, 0.9996586441993713, 0.9976692795753479, 0.9999158978462219, 0.9130922555923462, 0.08687583357095718, 0.9993148446083069, 0.9998846650123596, 0.999748945236206, 0.923920750617981, 0.0759570375084877, 0.9963675141334534, 0.9983512759208679, 0.453756719827652, 0.5461497902870178, 0.9995381832122803, 0.999381959438324, 0.9999309182167053, 0.9992913007736206, 0.999468982219696, 0.9998267889022827, 0.9962003827095032, 0.9981533885002136, 0.9993187189102173, 0.7967863082885742, 0.2031278908252716, 0.9996327757835388, 0.8712534308433533, 0.12841401994228363, 0.9999392628669739, 0.9969606995582581, 0.9995604157447815, 0.9997820854187012, 0.9939401745796204, 0.9998626708984375, 0.9962064027786255, 0.030404388904571533, 0.9688865542411804, 0.6242292523384094, 0.375645250082016, 0.9969061613082886, 0.99704909324646, 0.9958202242851257, 0.999807596206665, 0.15190954506397247, 0.8480619192123413, 0.9992157220840454, 0.9999720454216003, 0.9983265399932861, 0.9996416568756104, 0.9979167580604553, 0.9998619556427002, 0.998386561870575, 0.999832808971405, 0.9838431477546692, 0.016145117580890656, 0.14301533997058868, 0.8567860126495361, 0.9976614117622375, 0.9981318116188049, 0.9970014095306396, 0.9998095631599426, 0.9978713989257812, 0.9993570446968079], \"Term\": [\"ability\", \"access\", \"access\", \"access\", \"adventure\", \"airbnb\", \"also\", \"also\", \"also\", \"always\", \"always\", \"amenity\", \"amenity\", \"amenity\", \"anywhere\", \"apartment\", \"apartment\", \"apartment\", \"apartment\", \"area\", \"area\", \"area\", \"arrive\", \"art\", \"artist\", \"ask\", \"astoria\", \"available\", \"available\", \"available\", \"average_rating\", \"away\", \"bag\", \"bar\", \"basically\", \"bathroom\", \"bathroom\", \"be\", \"beautiful\", \"beautiful\", \"beautiful\", \"beautiful\", \"bed\", \"beddings\", \"bedroom\", \"bedroom\", \"bedroom\", \"belonging\", \"block\", \"bodegas\", \"book\", \"book\", \"booking\", \"brand\", \"brand\", \"bright\", \"bright\", \"bright\", \"brownstone\", \"build\", \"build\", \"build\", \"building\", \"building\", \"building\", \"building\", \"bus\", \"buy\", \"cabinet\", \"cafe\", \"call\", \"can\", \"caribbean\", \"ceiling\", \"charm\", \"check\", \"check\", \"chic\", \"chinese\", \"choose\", \"clean\", \"clean\", \"clean\", \"clean\", \"cleaning\", \"cleaning_fee\", \"close\", \"closet\", \"clothing\", \"co\", \"coffee\", \"coffee\", \"coffee\", \"college\", \"come\", \"come\", \"comfortable\", \"comfortable\", \"construction\", \"corner\", \"couch\", \"cozy\", \"cozy\", \"cozy\", \"creative\", \"cuisine\", \"curtain\", \"dance\", \"day\", \"deal\", \"decorate\", \"delicious\", \"design\", \"desk\", \"digital\", \"dining\", \"distance\", \"double\", \"downtown\", \"easy\", \"easy\", \"easy\", \"email\", \"emergency\", \"end\", \"enjoy\", \"enjoy\", \"enjoy\", \"entrance\", \"entrance\", \"equip\", \"essential\", \"essential\", \"ever\", \"everywhere\", \"exception\", \"excitement\", \"experience\", \"face\", \"fast_company\", \"feature\", \"feature\", \"fee\", \"feel\", \"feel\", \"female\", \"ferry\", \"fill\", \"finish\", \"floor\", \"floor\", \"foot\", \"free\", \"free\", \"fresh\", \"fresh\", \"friend\", \"friendly\", \"friendly\", \"full\", \"fully\", \"fully\", \"furnish\", \"garage\", \"garden\", \"garden\", \"give\", \"good\", \"good\", \"good\", \"great\", \"great\", \"great\", \"grocery\", \"guest\", \"guest\", \"guy\", \"happen\", \"health\", \"heart\", \"heart\", \"hell\", \"help\", \"high\", \"high\", \"hipster\", \"historic\", \"home\", \"host\", \"ikea\", \"include\", \"keep\", \"key\", \"kind\", \"kitchen\", \"kitchen\", \"know\", \"know\", \"large\", \"large\", \"last\", \"late\", \"late\", \"least\", \"leave\", \"level\", \"lga\", \"light\", \"line\", \"linen\", \"lirr\", \"list\", \"literally\", \"live\", \"live\", \"live\", \"living\", \"locate\", \"locate\", \"location\", \"loft\", \"long\", \"lounge\", \"lounge\", \"lounge\", \"lounge\", \"love\", \"luggage\", \"luxury\", \"make\", \"make\", \"maker\", \"male\", \"many\", \"market\", \"mattress\", \"may\", \"message\", \"min\", \"minute\", \"modern\", \"modern\", \"monitor\", \"month\", \"mostly\", \"mta\", \"must\", \"must\", \"natural\", \"nearby\", \"need\", \"need\", \"need\", \"neighborhood\", \"neighborhood\", \"new\", \"new\", \"new\", \"newly\", \"note\", \"note\", \"note\", \"oasis\", \"offer\", \"offer\", \"offer\", \"offer\", \"open\", \"open\", \"open\", \"open\", \"original\", \"outdoor\", \"park\", \"part\", \"pay\", \"people\", \"people\", \"person\", \"person\", \"person\", \"pet\", \"pet\", \"phone\", \"phone\", \"phone\", \"place\", \"place\", \"plant\", \"prior\", \"private\", \"private\", \"private\", \"professional\", \"proper_disinfection\", \"provide\", \"provide\", \"provide\", \"put\", \"queen\", \"quiet\", \"quiet\", \"quiet\", \"railroad\", \"reachable\", \"real\", \"renovate\", \"renovate\", \"request\", \"request\", \"reservation\", \"respond\", \"restaurant\", \"resting\", \"ride\", \"rooftop\", \"room\", \"room\", \"run\", \"run\", \"run\", \"rustic\", \"s\", \"safe\", \"safe\", \"scene\", \"second\", \"see\", \"self\", \"self\", \"separate\", \"share\", \"share\", \"sheet\", \"shop\", \"shopping\", \"short\", \"short\", \"short\", \"shower\", \"size\", \"sized\", \"sleep\", \"sleep\", \"smart\", \"smoke\", \"sofa\", \"solo\", \"sond\", \"sonder\", \"space\", \"space\", \"space\", \"spacious\", \"spacious\", \"spacious\", \"speed\", \"staff\", \"station\", \"stay\", \"stay\", \"stock\", \"stop\", \"store\", \"street\", \"street\", \"stroll\", \"student\", \"studio\", \"studio\", \"style\", \"stylish\", \"subway\", \"sunlight\", \"supermarket\", \"table\", \"technique\", \"terrace\", \"thing\", \"time\", \"time\", \"top\", \"towel\", \"towel\", \"train\", \"transfer\", \"transportation\", \"travel\", \"treat\", \"tv\", \"uncertainty\", \"update\", \"update\", \"use\", \"use\", \"utility\", \"venue\", \"video\", \"view\", \"village\", \"village\", \"visit\", \"walk\", \"wall\", \"want\", \"wash\", \"welcome\", \"whenever\", \"wifi\", \"will\", \"will\", \"window\", \"window\", \"wishes_communication\", \"wood\", \"wooden\", \"work\", \"working\", \"would\"]}, \"R\": 30, \"lambda.step\": 0.01, \"plot.opts\": {\"xlab\": \"PC1\", \"ylab\": \"PC2\"}, \"topic.order\": [4, 5, 3, 2, 1, 6, 7]};\n",
       "\n",
       "function LDAvis_load_lib(url, callback){\n",
       "  var s = document.createElement('script');\n",
       "  s.src = url;\n",
       "  s.async = true;\n",
       "  s.onreadystatechange = s.onload = callback;\n",
       "  s.onerror = function(){console.warn(\"failed to load library \" + url);};\n",
       "  document.getElementsByTagName(\"head\")[0].appendChild(s);\n",
       "}\n",
       "\n",
       "if(typeof(LDAvis) !== \"undefined\"){\n",
       "   // already loaded: just create the visualization\n",
       "   !function(LDAvis){\n",
       "       new LDAvis(\"#\" + \"ldavis_el139171404432794575202936876401\", ldavis_el139171404432794575202936876401_data);\n",
       "   }(LDAvis);\n",
       "}else if(typeof define === \"function\" && define.amd){\n",
       "   // require.js is available: use it to load d3/LDAvis\n",
       "   require.config({paths: {d3: \"https://cdnjs.cloudflare.com/ajax/libs/d3/3.5.5/d3.min\"}});\n",
       "   require([\"d3\"], function(d3){\n",
       "      window.d3 = d3;\n",
       "      LDAvis_load_lib(\"https://cdn.rawgit.com/bmabey/pyLDAvis/files/ldavis.v1.0.0.js\", function(){\n",
       "        new LDAvis(\"#\" + \"ldavis_el139171404432794575202936876401\", ldavis_el139171404432794575202936876401_data);\n",
       "      });\n",
       "    });\n",
       "}else{\n",
       "    // require.js not available: dynamically load d3 & LDAvis\n",
       "    LDAvis_load_lib(\"https://cdnjs.cloudflare.com/ajax/libs/d3/3.5.5/d3.min.js\", function(){\n",
       "         LDAvis_load_lib(\"https://cdn.rawgit.com/bmabey/pyLDAvis/files/ldavis.v1.0.0.js\", function(){\n",
       "                 new LDAvis(\"#\" + \"ldavis_el139171404432794575202936876401\", ldavis_el139171404432794575202936876401_data);\n",
       "            })\n",
       "         });\n",
       "}\n",
       "</script>"
      ],
      "text/plain": [
       "PreparedData(topic_coordinates=            Freq  cluster  topics         x         y\n",
       "topic                                                \n",
       "3      28.381079        1       1 -0.165803 -0.172109\n",
       "4      28.368122        1       2 -0.214351 -0.077046\n",
       "2      27.180204        1       3 -0.216016  0.073514\n",
       "1      11.263128        1       4 -0.133221  0.244426\n",
       "0       1.991019        1       5  0.189989 -0.263629\n",
       "5       1.675411        1       6  0.258939  0.054283\n",
       "6       1.141030        1       7  0.280463  0.140561, topic_info=     Category          Freq          Term         Total  loglift  logprob\n",
       "term                                                                     \n",
       "145   Default  22072.000000          walk  22072.000000  30.0000  30.0000\n",
       "66    Default  27995.000000       bedroom  27995.000000  29.0000  29.0000\n",
       "293   Default  12834.000000          stay  12834.000000  28.0000  28.0000\n",
       "102   Default  39660.000000          room  39660.000000  27.0000  27.0000\n",
       "109   Default  17811.000000         train  17811.000000  26.0000  26.0000\n",
       "96    Default  16995.000000        minute  16995.000000  25.0000  25.0000\n",
       "221   Default  16432.000000    restaurant  16432.000000  24.0000  24.0000\n",
       "8     Default  16774.000000           bed  16774.000000  23.0000  23.0000\n",
       "200   Default  15580.000000          away  15580.000000  22.0000  22.0000\n",
       "202   Default  15220.000000      bathroom  15220.000000  21.0000  21.0000\n",
       "90    Default  16992.000000         guest  16992.000000  20.0000  20.0000\n",
       "22    Default  12633.000000          full  12633.000000  19.0000  19.0000\n",
       "99    Default  19821.000000       private  19821.000000  18.0000  18.0000\n",
       "370   Default   9256.000000         clean   9256.000000  17.0000  17.0000\n",
       "67    Default  11535.000000         block  11535.000000  16.0000  16.0000\n",
       "312   Default  11262.000000          home  11262.000000  15.0000  15.0000\n",
       "21    Default  11599.000000         floor  11599.000000  14.0000  14.0000\n",
       "204   Default   4094.000000         check   4094.000000  13.0000  13.0000\n",
       "385   Default   5976.000000       provide   5976.000000  12.0000  12.0000\n",
       "38    Default   6255.000000        modern   6255.000000  11.0000  11.0000\n",
       "246   Default   6482.000000         fully   6482.000000  10.0000  10.0000\n",
       "205   Default   9304.000000         close   9304.000000   9.0000   9.0000\n",
       "234   Default   9243.000000           bar   9243.000000   8.0000   8.0000\n",
       "113   Default  42033.000000     apartment  42033.000000   7.0000   7.0000\n",
       "116   Default   7695.000000      building   7695.000000   6.0000   6.0000\n",
       "131   Default   9387.000000        living   9387.000000   5.0000   5.0000\n",
       "29    Default  10109.000000       kitchen  10109.000000   4.0000   4.0000\n",
       "31    Default   5237.000000         light   5237.000000   3.0000   3.0000\n",
       "257   Default  11806.000000  neighborhood  11806.000000   2.0000   2.0000\n",
       "60    Default   4485.000000         towel   4485.000000   1.0000   1.0000\n",
       "...       ...           ...           ...           ...      ...      ...\n",
       "1412   Topic7   1013.459473      anywhere   1014.382324   4.4723  -2.9785\n",
       "1416   Topic7    545.409790          kind    546.331848   4.4715  -3.5981\n",
       "881    Topic7    521.711426     literally    522.632874   4.4715  -3.6425\n",
       "816    Topic7    481.139130         oasis    482.061279   4.4713  -3.7235\n",
       "2105   Topic7    448.181152          ever    449.104370   4.4712  -3.7944\n",
       "2006   Topic7    421.007965    everywhere    421.930481   4.4710  -3.8570\n",
       "1426   Topic7    401.904388       hipster    402.827301   4.4709  -3.9034\n",
       "1715   Topic7    366.998474       astoria    367.920593   4.4707  -3.9943\n",
       "1948   Topic7    348.006256  construction    348.948334   4.4705  -4.0474\n",
       "806    Topic7    339.239777       cuisine    340.161652   4.4705  -4.0729\n",
       "420    Topic7    307.322205     adventure    308.245697   4.4702  -4.1717\n",
       "1628   Topic7    303.829285        garage    304.753357   4.4702  -4.1832\n",
       "874    Topic7    297.641968     delicious    298.564545   4.4701  -4.2037\n",
       "1427   Topic7    289.855011          lirr    290.777435   4.4701  -4.2303\n",
       "2115   Topic7    279.483459         scene    280.405243   4.4699  -4.2667\n",
       "2273   Topic7    246.809479         venue    247.731033   4.4695  -4.3910\n",
       "1393   Topic7    237.743225        happen    238.665329   4.4694  -4.4284\n",
       "1720   Topic7    235.845291     reachable    236.767426   4.4693  -4.4365\n",
       "1308   Topic7    228.851013        health    229.778000   4.4692  -4.4666\n",
       "1421   Topic7    211.723953      transfer    212.646301   4.4689  -4.5444\n",
       "1859   Topic7    211.323547          deal    212.246185   4.4689  -4.5462\n",
       "1821   Topic7    210.434769         dance    211.356750   4.4689  -4.5505\n",
       "1176   Topic7    181.679230           buy    182.602386   4.4682  -4.6974\n",
       "1385   Topic7    174.262451      clothing    175.183502   4.4680  -4.7391\n",
       "3175   Topic7    172.708542        stroll    173.630707   4.4679  -4.7480\n",
       "2238   Topic7    168.214691           lga    169.137512   4.4678  -4.7744\n",
       "1956   Topic7    163.657532        rustic    164.580688   4.4676  -4.8019\n",
       "486    Topic7    156.566177     caribbean    157.488113   4.4674  -4.8462\n",
       "3615   Topic7    155.398453       bodegas    156.321655   4.4673  -4.8536\n",
       "4568   Topic7    147.250305           mta    148.172958   4.4670  -4.9075\n",
       "\n",
       "[346 rows x 6 columns], token_table=       Topic      Freq                  Term\n",
       "term                                        \n",
       "4181       5  0.996779               ability\n",
       "393        1  0.229807                access\n",
       "393        2  0.476237                access\n",
       "393        3  0.293935                access\n",
       "420        7  0.995959             adventure\n",
       "534        1  0.999612                airbnb\n",
       "197        1  0.414865                  also\n",
       "197        2  0.254898                  also\n",
       "197        3  0.330216                  also\n",
       "800        1  0.993825                always\n",
       "800        3  0.005912                always\n",
       "908        1  0.253010               amenity\n",
       "908        2  0.247704               amenity\n",
       "908        4  0.499318               amenity\n",
       "1412       7  0.998637              anywhere\n",
       "113        1  0.041301             apartment\n",
       "113        2  0.472008             apartment\n",
       "113        3  0.398328             apartment\n",
       "113        4  0.088335             apartment\n",
       "4          1  0.288815                  area\n",
       "4          2  0.403389                  area\n",
       "4          3  0.307781                  area\n",
       "146        5  0.998017                arrive\n",
       "5          4  0.999706                   art\n",
       "647        4  0.999422                artist\n",
       "199        1  0.999432                   ask\n",
       "1715       7  0.997498               astoria\n",
       "6          1  0.321305             available\n",
       "6          2  0.128913             available\n",
       "6          3  0.549715             available\n",
       "...      ...       ...                   ...\n",
       "62         2  0.999863                    tv\n",
       "14595      5  0.996206           uncertainty\n",
       "618        2  0.030404                update\n",
       "618        4  0.968887                update\n",
       "111        1  0.624229                   use\n",
       "111        2  0.375645                   use\n",
       "193        5  0.996906               utility\n",
       "2273       7  0.997049                 venue\n",
       "1910       6  0.995820                 video\n",
       "328        4  0.999808                  view\n",
       "268        3  0.151910               village\n",
       "268        4  0.848062               village\n",
       "194        1  0.999216                 visit\n",
       "145        3  0.999972                  walk\n",
       "799        4  0.998327                  wall\n",
       "365        1  0.999642                  want\n",
       "1696       6  0.997917                  wash\n",
       "366        1  0.999862               welcome\n",
       "3701       5  0.998387              whenever\n",
       "65         2  0.999833                  wifi\n",
       "390        1  0.983843                  will\n",
       "390        4  0.016145                  will\n",
       "533        2  0.143015                window\n",
       "533        4  0.856786                window\n",
       "8324       6  0.997661  wishes_communication\n",
       "112        4  0.998132                  wood\n",
       "1957       5  0.997001                wooden\n",
       "195        1  0.999810                  work\n",
       "1454       6  0.997871               working\n",
       "610        1  0.999357                 would\n",
       "\n",
       "[419 rows x 3 columns], R=30, lambda_step=0.01, plot_opts={'xlab': 'PC1', 'ylab': 'PC2'}, topic_order=[4, 5, 3, 2, 1, 6, 7])"
      ]
     },
     "execution_count": 67,
     "metadata": {},
     "output_type": "execute_result"
    }
   ],
   "source": [
    "# Visualize the topics\n",
    "pyLDAvis.enable_notebook()\n",
    "vis_7 = pyLDAvis.gensim.prepare(models[5], corpus, id2word)\n",
    "vis_7"
   ]
  },
  {
   "cell_type": "code",
   "execution_count": 68,
   "metadata": {},
   "outputs": [],
   "source": [
    "pyLDAvis.save_html(vis_7, '../data/visualization_7_topics.html')"
   ]
  },
  {
   "cell_type": "code",
   "execution_count": 69,
   "metadata": {},
   "outputs": [
    {
     "data": {
      "text/html": [
       "\n",
       "<link rel=\"stylesheet\" type=\"text/css\" href=\"https://cdn.rawgit.com/bmabey/pyLDAvis/files/ldavis.v1.0.0.css\">\n",
       "\n",
       "\n",
       "<div id=\"ldavis_el139171404432794574003532828263\"></div>\n",
       "<script type=\"text/javascript\">\n",
       "\n",
       "var ldavis_el139171404432794574003532828263_data = {\"mdsDat\": {\"Freq\": [21.174509048461914, 20.901029586791992, 19.235279083251953, 10.40829086303711, 10.272222518920898, 8.608660697937012, 5.876635551452637, 2.61610746383667, 0.9072709083557129], \"cluster\": [1, 1, 1, 1, 1, 1, 1, 1, 1], \"topics\": [1, 2, 3, 4, 5, 6, 7, 8, 9], \"x\": [-0.14433702233925236, -0.22557389102128506, -0.13055562624743175, -0.1685529068057859, -0.029920506858356257, 0.0548223085883867, 0.08532035296909735, 0.28744105527618463, 0.27135623643844287], \"y\": [-0.11773696833300727, 0.0957257983639563, -0.0038613623364610883, 0.30460336189677756, -0.17300686159530737, -0.20252655103306316, -0.17518986882849497, 0.15567662612338515, 0.11631582574221516]}, \"tinfo\": {\"Category\": [\"Default\", \"Default\", \"Default\", \"Default\", \"Default\", \"Default\", \"Default\", \"Default\", \"Default\", \"Default\", \"Default\", \"Default\", \"Default\", \"Default\", \"Default\", \"Default\", \"Default\", \"Default\", \"Default\", \"Default\", \"Default\", \"Default\", \"Default\", \"Default\", \"Default\", \"Default\", \"Default\", \"Default\", \"Default\", \"Default\", \"Topic1\", \"Topic1\", \"Topic1\", \"Topic1\", \"Topic1\", \"Topic1\", \"Topic1\", \"Topic1\", \"Topic1\", \"Topic1\", \"Topic1\", \"Topic1\", \"Topic1\", \"Topic1\", \"Topic1\", \"Topic1\", \"Topic1\", \"Topic1\", \"Topic1\", \"Topic1\", \"Topic1\", \"Topic1\", \"Topic1\", \"Topic1\", \"Topic1\", \"Topic1\", \"Topic1\", \"Topic1\", \"Topic1\", \"Topic1\", \"Topic1\", \"Topic1\", \"Topic1\", \"Topic1\", \"Topic1\", \"Topic1\", \"Topic1\", \"Topic1\", \"Topic1\", \"Topic1\", \"Topic1\", \"Topic1\", \"Topic1\", \"Topic1\", \"Topic1\", \"Topic1\", \"Topic1\", \"Topic1\", \"Topic1\", \"Topic1\", \"Topic1\", \"Topic1\", \"Topic1\", \"Topic1\", \"Topic1\", \"Topic1\", \"Topic1\", \"Topic2\", \"Topic2\", \"Topic2\", \"Topic2\", \"Topic2\", \"Topic2\", \"Topic2\", \"Topic2\", \"Topic2\", \"Topic2\", \"Topic2\", \"Topic2\", \"Topic2\", \"Topic2\", \"Topic2\", \"Topic2\", \"Topic2\", \"Topic2\", \"Topic2\", \"Topic2\", \"Topic2\", \"Topic2\", \"Topic2\", \"Topic2\", \"Topic2\", \"Topic2\", \"Topic2\", \"Topic2\", \"Topic2\", \"Topic2\", \"Topic2\", \"Topic2\", \"Topic2\", \"Topic2\", \"Topic2\", \"Topic2\", \"Topic2\", \"Topic2\", \"Topic2\", \"Topic2\", \"Topic2\", \"Topic2\", \"Topic2\", \"Topic2\", \"Topic2\", \"Topic2\", \"Topic2\", \"Topic2\", \"Topic2\", \"Topic2\", \"Topic2\", \"Topic2\", \"Topic3\", \"Topic3\", \"Topic3\", \"Topic3\", \"Topic3\", \"Topic3\", \"Topic3\", \"Topic3\", \"Topic3\", \"Topic3\", \"Topic3\", \"Topic3\", \"Topic3\", \"Topic3\", \"Topic3\", \"Topic3\", \"Topic3\", \"Topic3\", \"Topic3\", \"Topic3\", \"Topic3\", \"Topic3\", \"Topic3\", \"Topic3\", \"Topic3\", \"Topic3\", \"Topic3\", \"Topic3\", \"Topic3\", \"Topic3\", \"Topic3\", \"Topic3\", \"Topic3\", \"Topic3\", \"Topic3\", \"Topic3\", \"Topic3\", \"Topic3\", \"Topic3\", \"Topic3\", \"Topic3\", \"Topic3\", \"Topic3\", \"Topic3\", \"Topic3\", \"Topic3\", \"Topic3\", \"Topic3\", \"Topic3\", \"Topic3\", \"Topic3\", \"Topic3\", \"Topic3\", \"Topic3\", \"Topic3\", \"Topic4\", \"Topic4\", \"Topic4\", \"Topic4\", \"Topic4\", \"Topic4\", \"Topic4\", \"Topic4\", \"Topic4\", \"Topic4\", \"Topic4\", \"Topic4\", \"Topic4\", \"Topic4\", \"Topic4\", \"Topic4\", \"Topic4\", \"Topic4\", \"Topic4\", \"Topic4\", \"Topic4\", \"Topic4\", \"Topic4\", \"Topic4\", \"Topic4\", \"Topic4\", \"Topic4\", \"Topic4\", \"Topic4\", \"Topic4\", \"Topic4\", \"Topic4\", \"Topic4\", \"Topic4\", \"Topic4\", \"Topic4\", \"Topic4\", \"Topic4\", \"Topic4\", \"Topic4\", \"Topic4\", \"Topic4\", \"Topic4\", \"Topic4\", \"Topic4\", \"Topic4\", \"Topic4\", \"Topic4\", \"Topic5\", \"Topic5\", \"Topic5\", \"Topic5\", \"Topic5\", \"Topic5\", \"Topic5\", \"Topic5\", \"Topic5\", \"Topic5\", \"Topic5\", \"Topic5\", \"Topic5\", \"Topic5\", \"Topic5\", \"Topic5\", \"Topic5\", \"Topic5\", \"Topic5\", \"Topic5\", \"Topic5\", \"Topic5\", \"Topic5\", \"Topic5\", \"Topic5\", \"Topic5\", \"Topic5\", \"Topic5\", \"Topic5\", \"Topic5\", \"Topic5\", \"Topic5\", \"Topic5\", \"Topic5\", \"Topic5\", \"Topic5\", \"Topic5\", \"Topic5\", \"Topic5\", \"Topic5\", \"Topic5\", \"Topic5\", \"Topic5\", \"Topic5\", \"Topic6\", \"Topic6\", \"Topic6\", \"Topic6\", \"Topic6\", \"Topic6\", \"Topic6\", \"Topic6\", \"Topic6\", \"Topic6\", \"Topic6\", \"Topic6\", \"Topic6\", \"Topic6\", \"Topic6\", \"Topic6\", \"Topic6\", \"Topic6\", \"Topic6\", \"Topic6\", \"Topic6\", \"Topic6\", \"Topic6\", \"Topic6\", \"Topic6\", \"Topic6\", \"Topic6\", \"Topic6\", \"Topic6\", \"Topic6\", \"Topic6\", \"Topic6\", \"Topic6\", \"Topic6\", \"Topic6\", \"Topic6\", \"Topic6\", \"Topic6\", \"Topic6\", \"Topic6\", \"Topic6\", \"Topic6\", \"Topic6\", \"Topic7\", \"Topic7\", \"Topic7\", \"Topic7\", \"Topic7\", \"Topic7\", \"Topic7\", \"Topic7\", \"Topic7\", \"Topic7\", \"Topic7\", \"Topic7\", \"Topic7\", \"Topic7\", \"Topic7\", \"Topic7\", \"Topic7\", \"Topic7\", \"Topic7\", \"Topic7\", \"Topic7\", \"Topic7\", \"Topic7\", \"Topic7\", \"Topic7\", \"Topic7\", \"Topic7\", \"Topic7\", \"Topic7\", \"Topic7\", \"Topic7\", \"Topic7\", \"Topic7\", \"Topic7\", \"Topic7\", \"Topic7\", \"Topic7\", \"Topic7\", \"Topic7\", \"Topic7\", \"Topic7\", \"Topic7\", \"Topic7\", \"Topic7\", \"Topic7\", \"Topic8\", \"Topic8\", \"Topic8\", \"Topic8\", \"Topic8\", \"Topic8\", \"Topic8\", \"Topic8\", \"Topic8\", \"Topic8\", \"Topic8\", \"Topic8\", \"Topic8\", \"Topic8\", \"Topic8\", \"Topic8\", \"Topic8\", \"Topic8\", \"Topic8\", \"Topic8\", \"Topic8\", \"Topic8\", \"Topic8\", \"Topic8\", \"Topic8\", \"Topic8\", \"Topic8\", \"Topic8\", \"Topic8\", \"Topic8\", \"Topic8\", \"Topic8\", \"Topic8\", \"Topic9\", \"Topic9\", \"Topic9\", \"Topic9\", \"Topic9\", \"Topic9\", \"Topic9\", \"Topic9\", \"Topic9\", \"Topic9\", \"Topic9\", \"Topic9\", \"Topic9\", \"Topic9\", \"Topic9\", \"Topic9\", \"Topic9\", \"Topic9\", \"Topic9\", \"Topic9\", \"Topic9\", \"Topic9\", \"Topic9\", \"Topic9\", \"Topic9\", \"Topic9\", \"Topic9\", \"Topic9\", \"Topic9\", \"Topic9\"], \"Freq\": [41000.0, 28653.0, 18175.0, 17343.0, 15899.0, 41351.0, 12199.0, 22670.0, 16929.0, 16997.0, 11778.0, 15481.0, 20641.0, 12704.0, 12804.0, 14748.0, 17205.0, 10984.0, 6884.0, 12476.0, 9781.0, 10266.0, 6351.0, 9442.0, 9523.0, 5219.0, 9524.0, 4178.0, 16123.0, 12061.0, 40999.2578125, 15480.962890625, 10983.517578125, 9523.544921875, 4567.875, 2491.141845703125, 2311.00634765625, 4790.83837890625, 2203.116943359375, 1927.7318115234375, 1548.3505859375, 1426.5389404296875, 1413.5616455078125, 1277.630615234375, 1141.303466796875, 1047.141845703125, 1009.6656494140625, 944.8551635742188, 816.4104614257812, 716.7439575195312, 699.455078125, 676.9574584960938, 665.1436767578125, 645.0152587890625, 583.3886108398438, 569.3448486328125, 568.7997436523438, 561.5372924804688, 549.13134765625, 495.92950439453125, 10236.0068359375, 16829.509765625, 12702.9365234375, 28105.982421875, 1029.7105712890625, 6606.380859375, 3343.250732421875, 1372.2381591796875, 3533.536376953125, 3581.193115234375, 1126.48291015625, 3282.0927734375, 16220.8232421875, 8599.4189453125, 6827.10595703125, 8033.40087890625, 1697.3878173828125, 6494.6484375, 4360.8876953125, 2294.686279296875, 3705.6376953125, 12633.8369140625, 5669.56298828125, 5337.0283203125, 4283.69189453125, 2904.510009765625, 2942.942626953125, 9522.404296875, 8366.66015625, 7878.86181640625, 7625.9189453125, 6082.50146484375, 5245.08642578125, 5233.31787109375, 4217.4716796875, 3646.863037109375, 3398.028076171875, 2861.470703125, 2679.219970703125, 2565.796630859375, 2227.073974609375, 2159.126953125, 1702.873046875, 1696.3651123046875, 1542.9095458984375, 1477.3341064453125, 1415.4373779296875, 1277.83203125, 1235.2655029296875, 1181.518310546875, 1139.47705078125, 1119.462158203125, 960.711181640625, 933.1324462890625, 900.753662109375, 879.7987670898438, 878.00537109375, 16854.673828125, 5183.11865234375, 7841.17724609375, 4623.91015625, 13867.119140625, 7363.64501953125, 2648.51220703125, 11055.9384765625, 4873.9765625, 2741.46435546875, 27528.15625, 15328.9150390625, 6970.28466796875, 3877.573974609375, 6115.3818359375, 4876.1025390625, 5685.6123046875, 3965.831787109375, 3314.59423828125, 3842.898193359375, 3646.989990234375, 3542.04150390625, 12703.7958984375, 9780.9677734375, 5357.7548828125, 5003.5615234375, 3747.481201171875, 3359.4765625, 3164.75732421875, 2934.51513671875, 2749.243896484375, 2719.244384765625, 2581.46923828125, 2523.75732421875, 2414.5126953125, 2390.01220703125, 2149.526611328125, 2074.391357421875, 1891.603515625, 1690.3746337890625, 1389.19287109375, 1330.5406494140625, 1268.1182861328125, 1251.5555419921875, 1190.4849853515625, 1103.607666015625, 1100.755859375, 1087.93994140625, 1058.043212890625, 1773.7215576171875, 1001.101318359375, 975.5259399414062, 9333.8935546875, 3732.218017578125, 2443.1328125, 2147.962158203125, 2988.468505859375, 2429.315673828125, 4251.95703125, 2142.10205078125, 2342.18408203125, 3447.08056640625, 2920.135986328125, 9562.2294921875, 4297.796875, 7097.453125, 7458.642578125, 11534.6845703125, 4722.57958984375, 7914.02783203125, 3819.413330078125, 4065.593505859375, 2813.33056640625, 3202.267822265625, 3227.2705078125, 2791.59619140625, 2584.97802734375, 18174.62109375, 17342.630859375, 15898.767578125, 6274.50439453125, 4912.76806640625, 4619.14306640625, 3888.459716796875, 3192.784423828125, 3004.72412109375, 2404.552734375, 2302.479248046875, 1641.3148193359375, 1501.8094482421875, 1083.8726806640625, 1032.787109375, 953.0758056640625, 766.0377807617188, 528.0126342773438, 512.8458251953125, 490.5827941894531, 481.4005126953125, 455.50604248046875, 443.28961181640625, 423.056396484375, 399.3320007324219, 377.96575927734375, 350.8824768066406, 345.0659484863281, 334.5226135253906, 327.1216735839844, 11023.1708984375, 4172.62646484375, 3198.5390625, 2695.22509765625, 7632.98828125, 1692.639404296875, 2229.842041015625, 1709.935546875, 1159.2269287109375, 7340.87060546875, 1273.6048583984375, 1184.184326171875, 2141.213134765625, 3086.83740234375, 2590.14990234375, 1949.717041015625, 1702.6239013671875, 1267.4525146484375, 12198.251953125, 4293.08935546875, 3608.60498046875, 2847.687744140625, 2490.055908203125, 2374.460205078125, 2320.34619140625, 1895.599853515625, 1790.1805419921875, 1616.436279296875, 1527.563720703125, 1491.4217529296875, 1452.0152587890625, 1438.0157470703125, 1373.21728515625, 1365.5592041015625, 1326.6029052734375, 1325.722900390625, 1078.4169921875, 992.3128662109375, 987.6267700195312, 953.3524169921875, 870.3212280273438, 853.892333984375, 811.0078125, 784.084228515625, 760.7880249023438, 758.0906982421875, 758.3054809570312, 752.0404663085938, 2768.218994140625, 1153.6146240234375, 1039.6484375, 2504.302734375, 1815.880615234375, 1523.412841796875, 1278.96728515625, 2588.792724609375, 4419.7197265625, 1642.2613525390625, 1849.775390625, 1359.4312744140625, 1279.1982421875, 1302.960205078125, 6884.0, 5853.83349609375, 4699.42041015625, 4540.771484375, 4067.276123046875, 3312.283447265625, 2704.385498046875, 2283.884521484375, 2158.029296875, 1959.125244140625, 1868.3780517578125, 1864.500732421875, 1721.41845703125, 1652.8194580078125, 1530.2901611328125, 1394.029052734375, 1368.7657470703125, 1205.7706298828125, 1112.8724365234375, 1092.4073486328125, 1069.9761962890625, 1032.8974609375, 999.9890747070312, 968.7097778320312, 913.7648315429688, 881.81396484375, 804.21337890625, 758.0196533203125, 654.3186645507812, 652.8917846679688, 6333.03466796875, 3136.7958984375, 5718.119140625, 4463.2216796875, 2680.940673828125, 3889.126220703125, 3772.386474609375, 1492.503173828125, 2119.017578125, 3685.447265625, 2678.93701171875, 1698.775390625, 1290.8779296875, 5218.67041015625, 4025.95068359375, 2579.226318359375, 2361.631103515625, 2050.92138671875, 1881.45947265625, 1653.482421875, 1376.161865234375, 1323.0679931640625, 1149.85009765625, 1032.2476806640625, 985.46923828125, 983.259033203125, 850.601806640625, 820.6195678710938, 814.308837890625, 742.8209838867188, 728.9093627929688, 607.5206298828125, 595.702392578125, 520.3448486328125, 511.1534423828125, 506.7572937011719, 506.2511901855469, 495.7919006347656, 488.5400695800781, 1452.053955078125, 457.9422302246094, 450.84515380859375, 441.4095764160156, 4607.82568359375, 727.30859375, 545.8390502929688, 1936.2908935546875, 2382.99609375, 873.13720703125, 1164.372802734375, 1344.0989990234375, 2473.93310546875, 1699.46875, 1226.3690185546875, 904.9862670898438, 844.9025268554688, 807.4797973632812, 766.6585083007812, 2218.88671875, 1795.6080322265625, 1740.04248046875, 1737.240234375, 1305.364501953125, 1131.159912109375, 957.648681640625, 917.7820434570312, 672.180419921875, 666.2958374023438, 643.7203369140625, 620.1643676757812, 574.7633056640625, 571.7548217773438, 452.12298583984375, 440.9048156738281, 434.64276123046875, 417.66619873046875, 407.0876770019531, 395.2693786621094, 393.3177795410156, 366.7508544921875, 366.26312255859375, 367.4828796386719, 349.4024353027344, 326.9319763183594, 326.1490783691406, 320.13037109375, 317.2776794433594, 297.6048889160156, 3669.6572265625, 819.9136352539062, 662.4021606445312, 817.9571533203125, 596.9264526367188, 488.0743713378906, 476.9952392578125, 443.6050720214844, 434.85711669921875, 431.96978759765625, 399.9425048828125, 358.2427978515625, 331.2747802734375, 329.8558044433594, 327.5679626464844, 239.471923828125, 238.25384521484375, 237.63046264648438, 237.6283416748047, 237.6283416748047, 235.10679626464844, 232.9949493408203, 231.17669677734375, 195.74090576171875, 183.318603515625, 175.8044891357422, 175.69606018066406, 155.19737243652344, 139.93357849121094, 139.1767578125, 135.24078369140625, 132.7328643798828, 129.1342315673828], \"Term\": [\"room\", \"bedroom\", \"train\", \"minute\", \"away\", \"apartment\", \"floor\", \"walk\", \"restaurant\", \"bed\", \"block\", \"bathroom\", \"private\", \"stay\", \"full\", \"locate\", \"guest\", \"share\", \"new\", \"available\", \"need\", \"kitchen\", \"tv\", \"place\", \"bar\", \"light\", \"living\", \"check\", \"space\", \"neighborhood\", \"room\", \"bathroom\", \"share\", \"living\", \"closet\", \"sized\", \"common\", \"dining\", \"desk\", \"couch\", \"double\", \"rooftop\", \"single\", \"air\", \"lock\", \"twin\", \"roommate\", \"balcony\", \"bunk\", \"netflix\", \"toilet\", \"dresser\", \"female\", \"clothe\", \"dog\", \"railroad\", \"channel\", \"cat\", \"consist\", \"toaster\", \"kitchen\", \"bed\", \"full\", \"bedroom\", \"storage\", \"size\", \"small\", \"chair\", \"table\", \"queen\", \"heating\", \"sleep\", \"private\", \"live\", \"large\", \"area\", \"shower\", \"access\", \"spacious\", \"big\", \"use\", \"apartment\", \"guest\", \"space\", \"also\", \"comfortable\", \"available\", \"bar\", \"subway\", \"shop\", \"station\", \"heart\", \"line\", \"location\", \"step\", \"right\", \"side\", \"square\", \"cafe\", \"supermarket\", \"low\", \"village\", \"market\", \"surround\", \"ton\", \"attraction\", \"major\", \"conveniently\", \"gym\", \"east\", \"vibrant\", \"quick\", \"cute\", \"several\", \"hip\", \"centrally\", \"trendy\", \"restaurant\", \"many\", \"great\", \"easy\", \"locate\", \"distance\", \"central\", \"neighborhood\", \"park\", \"amazing\", \"apartment\", \"walk\", \"close\", \"studio\", \"quiet\", \"building\", \"good\", \"lot\", \"build\", \"beautiful\", \"area\", \"access\", \"stay\", \"need\", \"make\", \"feel\", \"be\", \"day\", \"welcome\", \"will\", \"give\", \"may\", \"want\", \"help\", \"know\", \"love\", \"would\", \"travel\", \"see\", \"visit\", \"thing\", \"leave\", \"community\", \"traveler\", \"run\", \"meet\", \"let\", \"business\", \"pm\", \"part\", \"happy\", \"try\", \"place\", \"come\", \"experience\", \"keep\", \"go\", \"night\", \"work\", \"look\", \"relax\", \"always\", \"host\", \"home\", \"enjoy\", \"time\", \"clean\", \"guest\", \"free\", \"space\", \"cozy\", \"comfortable\", \"perfect\", \"good\", \"also\", \"city\", \"get\", \"train\", \"minute\", \"away\", \"bus\", \"store\", \"min\", \"stop\", \"parking\", \"text\", \"ride\", \"grocery\", \"email\", \"less\", \"reach\", \"airport\", \"anywhere\", \"flush\", \"mile\", \"kind\", \"literally\", \"express\", \"hospital\", \"deli\", \"public_transportation\", \"uptown\", \"hipster\", \"pizza\", \"astoria\", \"italian\", \"construction\", \"block\", \"take\", \"food\", \"phone\", \"available\", \"option\", \"nearby\", \"corner\", \"spot\", \"walk\", \"transportation\", \"hour\", \"safe\", \"also\", \"close\", \"street\", \"get\", \"local\", \"floor\", \"family\", \"entrance\", \"house\", \"call\", \"main\", \"backyard\", \"level\", \"historic\", \"famous\", \"basement\", \"brownstone\", \"enter\", \"car\", \"front\", \"residential\", \"garden\", \"group\", \"stair\", \"update\", \"bike\", \"drive\", \"event\", \"mall\", \"ground\", \"situate\", \"interact\", \"flight\", \"lead\", \"directly\", \"first\", \"outdoor\", \"gorgeous\", \"entire\", \"door\", \"top\", \"second\", \"beautiful\", \"private\", \"renovate\", \"home\", \"quiet\", \"street\", \"access\", \"new\", \"fully\", \"wifi\", \"equip\", \"towel\", \"brand\", \"appliance\", \"smart\", \"furnish\", \"speed\", \"linen\", \"luxury\", \"stock\", \"fresh\", \"sheet\", \"maker\", \"heat\", \"internet\", \"cable\", \"iron\", \"essential\", \"system\", \"oven\", \"microwave\", \"utensil\", \"pillow\", \"pharmacy\", \"refrigerator\", \"luxurious\", \"dish\", \"tv\", \"amenity\", \"include\", \"provide\", \"newly\", \"modern\", \"renovate\", \"fast\", \"unit\", \"coffee\", \"high\", \"feature\", \"furniture\", \"light\", \"view\", \"natural\", \"art\", \"ceiling\", \"style\", \"fill\", \"face\", \"creative\", \"unique\", \"sunlight\", \"plant\", \"artist\", \"loft\", \"wall\", \"music\", \"decorate\", \"terrace\", \"energy\", \"authentic\", \"vibe\", \"control\", \"vintage\", \"create\", \"dine\", \"ample\", \"design\", \"eclectic\", \"chill\", \"black\", \"window\", \"end\", \"prime\", \"bright\", \"high\", \"foot\", \"huge\", \"open\", \"space\", \"large\", \"modern\", \"building\", \"spacious\", \"lot\", \"build\", \"airbnb\", \"hide\", \"book\", \"message\", \"list\", \"sure\", \"read\", \"must\", \"send\", \"request\", \"thank\", \"roku\", \"booking\", \"finish\", \"deep\", \"availability\", \"review\", \"rule\", \"star\", \"almost\", \"reservation\", \"information\", \"hand\", \"monitor\", \"particular\", \"recommend\", \"respond\", \"date\", \"working\", \"discount\", \"check\", \"self\", \"note\", \"curtain\", \"professional\", \"ferry\", \"sonder\", \"sond\", \"put\", \"hanger\", \"code\", \"other\", \"attach\", \"arrive\", \"mostly\", \"average_rating\", \"fast_company\", \"technique\", \"uncertainty\", \"proper_disinfection\", \"woman\", \"cosy\", \"rack\", \"currently\", \"platt\", \"international\", \"industry\", \"accent\", \"maybe\", \"girl\", \"terminal\", \"skyline\", \"pad\"], \"Total\": [41000.0, 28653.0, 18175.0, 17343.0, 15899.0, 41351.0, 12199.0, 22670.0, 16929.0, 16997.0, 11778.0, 15481.0, 20641.0, 12704.0, 12804.0, 14748.0, 17205.0, 10984.0, 6884.0, 12476.0, 9781.0, 10266.0, 6351.0, 9442.0, 9523.0, 5219.0, 9524.0, 4178.0, 16123.0, 12061.0, 41000.21875, 15481.91796875, 10984.4716796875, 9524.4990234375, 4568.8310546875, 2492.097900390625, 2311.962646484375, 4792.84765625, 2204.072998046875, 1928.6881103515625, 1549.3067626953125, 1427.4952392578125, 1414.5177001953125, 1278.5869140625, 1142.259521484375, 1048.097900390625, 1010.62158203125, 945.811279296875, 817.3665771484375, 717.7001342773438, 700.4119873046875, 677.9135131835938, 666.0999755859375, 645.9714965820312, 584.3447265625, 570.3016357421875, 569.7566528320312, 562.493408203125, 550.0875854492188, 496.88568115234375, 10266.0625, 16997.08203125, 12804.537109375, 28653.09375, 1031.81689453125, 6780.83349609375, 3411.6943359375, 1388.16845703125, 3715.0322265625, 3782.427734375, 1155.51953125, 3614.779541015625, 20641.36328125, 10467.091796875, 8527.3974609375, 11963.5419921875, 1904.4888916015625, 11435.916015625, 6936.25634765625, 3020.803955078125, 6247.88720703125, 41351.02734375, 17205.087890625, 16123.8876953125, 10714.724609375, 7439.2275390625, 12476.7626953125, 9523.373046875, 8367.62890625, 7879.83203125, 7626.88916015625, 6083.4716796875, 5246.056640625, 5234.2880859375, 4218.44189453125, 3647.83349609375, 3398.998779296875, 2862.44140625, 2680.1904296875, 2566.76708984375, 2228.044677734375, 2160.097412109375, 1703.8436279296875, 1697.3355712890625, 1543.880126953125, 1478.3046875, 1416.40771484375, 1278.8026123046875, 1236.236083984375, 1182.4888916015625, 1140.4476318359375, 1120.493896484375, 961.6817626953125, 934.1029663085938, 901.7243041992188, 880.769287109375, 878.9757690429688, 16929.21484375, 5190.87646484375, 8082.65380859375, 4750.01953125, 14748.28125, 7692.5244140625, 2721.52880859375, 12061.392578125, 5488.91650390625, 2968.6103515625, 41351.02734375, 22670.64453125, 9561.29296875, 4826.3955078125, 8636.5107421875, 7049.54541015625, 8888.7333984375, 5315.65673828125, 4556.87255859375, 7032.55224609375, 11963.5419921875, 11435.916015625, 12704.76171875, 9781.93359375, 5358.7216796875, 5004.5283203125, 3748.447998046875, 3360.443603515625, 3165.724609375, 2935.48193359375, 2750.211181640625, 2720.211181640625, 2582.43603515625, 2524.72412109375, 2415.479736328125, 2390.97900390625, 2150.493896484375, 2075.3583984375, 1892.570556640625, 1691.34130859375, 1390.159912109375, 1331.507568359375, 1269.085205078125, 1252.522216796875, 1191.4521484375, 1104.5743408203125, 1101.722900390625, 1088.906982421875, 1059.0098876953125, 1775.392578125, 1002.0681762695312, 976.4927368164062, 9442.8232421875, 3743.705078125, 2446.796630859375, 2152.129150390625, 3006.286865234375, 2471.5029296875, 4403.45654296875, 2198.14892578125, 2422.862060546875, 3673.808349609375, 3107.185546875, 11412.8359375, 4759.51953125, 8452.2412109375, 9075.966796875, 17205.087890625, 5928.6455078125, 16123.8876953125, 5995.16162109375, 7439.2275390625, 4499.7314453125, 8888.7333984375, 10714.724609375, 5638.88134765625, 4624.009765625, 18175.591796875, 17343.6015625, 15899.73828125, 6275.47607421875, 4913.73974609375, 4620.11474609375, 3889.43115234375, 3193.77880859375, 3005.695556640625, 2405.524169921875, 2303.45068359375, 1642.286376953125, 1502.7808837890625, 1084.844482421875, 1033.758544921875, 954.0474243164062, 767.0093383789062, 528.9841918945312, 513.8175048828125, 491.5542297363281, 482.37188720703125, 456.4776611328125, 444.2610778808594, 424.0279235839844, 400.3045959472656, 378.9373474121094, 351.8539733886719, 346.0375671386719, 335.49407958984375, 328.0968322753906, 11778.65625, 4506.83837890625, 3429.958740234375, 3393.730224609375, 12476.7626953125, 2207.138916015625, 3156.711181640625, 2652.271728515625, 1679.5526123046875, 22670.64453125, 2052.301025390625, 1945.4862060546875, 5203.73095703125, 10714.724609375, 9561.29296875, 5507.783203125, 4624.009765625, 2894.656494140625, 12199.1982421875, 4294.03662109375, 3609.552001953125, 2848.634765625, 2491.0029296875, 2375.40771484375, 2321.293212890625, 1896.546875, 1791.1275634765625, 1617.3836669921875, 1528.5107421875, 1492.3687744140625, 1452.9630126953125, 1438.962890625, 1374.16455078125, 1366.506591796875, 1327.5499267578125, 1326.6702880859375, 1079.364013671875, 993.2608032226562, 988.5740356445312, 954.299560546875, 871.2685546875, 854.8394165039062, 811.954833984375, 785.0314331054688, 761.736328125, 759.037841796875, 759.2529907226562, 752.9876098632812, 2804.550537109375, 1163.315673828125, 1143.4447021484375, 4382.986328125, 2926.844482421875, 2249.830078125, 1785.339111328125, 7032.55224609375, 20641.36328125, 5415.4833984375, 11412.8359375, 8636.5107421875, 5507.783203125, 11435.916015625, 6884.970703125, 5854.8037109375, 4700.390625, 4541.74169921875, 4068.24658203125, 3313.25390625, 2705.35595703125, 2284.855224609375, 2158.99951171875, 1960.0958251953125, 1869.3485107421875, 1865.4713134765625, 1722.38916015625, 1653.7899169921875, 1531.2606201171875, 1394.99951171875, 1369.7364501953125, 1206.7410888671875, 1113.8428955078125, 1093.3779296875, 1070.94677734375, 1033.8682861328125, 1000.9595947265625, 969.6804809570312, 914.7353515625, 882.7843017578125, 805.1847534179688, 758.9901123046875, 655.2892456054688, 653.8623046875, 6351.6376953125, 3150.258056640625, 6279.7431640625, 5490.865234375, 3247.6953125, 5489.2001953125, 5415.4833984375, 1768.6158447265625, 3018.882080078125, 7127.4326171875, 5062.76904296875, 2635.266845703125, 1811.375, 5219.6181640625, 4026.898681640625, 2580.17431640625, 2362.5791015625, 2051.869384765625, 1882.4078369140625, 1654.4307861328125, 1377.1099853515625, 1324.0166015625, 1150.7984619140625, 1033.1959228515625, 986.4174194335938, 984.2069702148438, 851.5497436523438, 821.5676879882812, 815.2570190429688, 743.7691040039062, 729.8574829101562, 608.4689331054688, 596.6505737304688, 521.29296875, 512.101806640625, 507.7053527832031, 507.199462890625, 496.74029541015625, 489.4883117675781, 1455.0322265625, 458.89044189453125, 451.7934875488281, 442.359619140625, 4630.56982421875, 773.4835205078125, 568.0076293945312, 2797.902099609375, 5062.76904296875, 1259.7469482421875, 2387.628662109375, 3141.902587890625, 16123.8876953125, 8527.3974609375, 5489.2001953125, 7049.54541015625, 6936.25634765625, 5315.65673828125, 4556.87255859375, 2219.849853515625, 1796.571044921875, 1741.0054931640625, 1738.203369140625, 1306.3275146484375, 1132.1231689453125, 958.611572265625, 918.7449951171875, 673.1436767578125, 667.2589111328125, 644.6832275390625, 621.12890625, 575.7262573242188, 572.7181396484375, 453.0860290527344, 441.86932373046875, 435.605712890625, 418.6289978027344, 408.0506591796875, 396.2325134277344, 394.2806396484375, 367.7138366699219, 367.2262878417969, 368.45050048828125, 350.3687438964844, 327.89508056640625, 327.1120910644531, 321.0934143066406, 318.2410888671875, 298.56787109375, 4178.9423828125, 961.1819458007812, 1492.336669921875, 818.92138671875, 597.8907470703125, 489.03857421875, 477.9591064453125, 444.5689392089844, 435.821533203125, 432.93414306640625, 400.9071044921875, 359.2071838378906, 332.2393798828125, 330.820068359375, 328.5323486328125, 240.435791015625, 239.21771240234375, 238.59432983398438, 238.5922088623047, 238.5922088623047, 236.0712432861328, 233.9593963623047, 232.14112854003906, 196.70521545410156, 184.28248596191406, 176.76890563964844, 176.66050720214844, 156.16195678710938, 140.89805603027344, 140.14109802246094, 136.20498657226562, 133.6973876953125, 130.09869384765625], \"loglift\": [30.0, 29.0, 28.0, 27.0, 26.0, 25.0, 24.0, 23.0, 22.0, 21.0, 20.0, 19.0, 18.0, 17.0, 16.0, 15.0, 14.0, 13.0, 12.0, 11.0, 10.0, 9.0, 8.0, 7.0, 6.0, 5.0, 4.0, 3.0, 2.0, 1.0, 1.552299976348877, 1.552299976348877, 1.552299976348877, 1.552299976348877, 1.5521999597549438, 1.5520000457763672, 1.5520000457763672, 1.5520000457763672, 1.551900029182434, 1.551900029182434, 1.551800012588501, 1.5516999959945679, 1.5516999959945679, 1.5515999794006348, 1.5514999628067017, 1.5514999628067017, 1.5513999462127686, 1.5513999462127686, 1.551200032234192, 1.5509999990463257, 1.5509999990463257, 1.5509999990463257, 1.5508999824523926, 1.5508999824523926, 1.5506999492645264, 1.5506999492645264, 1.5506999492645264, 1.5506999492645264, 1.5506000518798828, 1.5504000186920166, 1.549399971961975, 1.5425000190734863, 1.5443999767303467, 1.5331000089645386, 1.5503000020980835, 1.5262999534606934, 1.532099962234497, 1.5407999753952026, 1.5023000240325928, 1.4976999759674072, 1.526900053024292, 1.4558000564575195, 1.311400055885315, 1.3558000326156616, 1.3300000429153442, 1.154099941253662, 1.4371999502182007, 0.9865999817848206, 1.0882999897003174, 1.277400016784668, 1.0299999713897705, 0.3666999936103821, 0.4422999918460846, 0.44670000672340393, 0.6355999708175659, 0.6118999719619751, 0.10790000110864639, 1.5652999877929688, 1.5652999877929688, 1.5651999711990356, 1.5651999711990356, 1.5651999711990356, 1.5651999711990356, 1.5651999711990356, 1.5650999546051025, 1.5650999546051025, 1.5650999546051025, 1.565000057220459, 1.565000057220459, 1.565000057220459, 1.5649000406265259, 1.5649000406265259, 1.5648000240325928, 1.5648000240325928, 1.5647000074386597, 1.5647000074386597, 1.5647000074386597, 1.5645999908447266, 1.5645999908447266, 1.5645999908447266, 1.5644999742507935, 1.5644999742507935, 1.5643999576568604, 1.5642999410629272, 1.5642999410629272, 1.5642999410629272, 1.5642999410629272, 1.5609999895095825, 1.5638999938964844, 1.534999966621399, 1.5384999513626099, 1.5038000345230103, 1.5217000246047974, 1.5382000207901, 1.4782999753952026, 1.4465999603271484, 1.48580002784729, 1.1584999561309814, 1.1740000247955322, 1.2493000030517578, 1.346500039100647, 1.2201999425888062, 1.1967999935150146, 1.118499994277954, 1.2724000215530396, 1.2470999956130981, 0.9610000252723694, 0.3774000108242035, 0.39329999685287476, 1.648300051689148, 1.648300051689148, 1.6482000350952148, 1.6482000350952148, 1.6482000350952148, 1.6481000185012817, 1.6481000185012817, 1.6481000185012817, 1.6481000185012817, 1.6481000185012817, 1.6480000019073486, 1.6480000019073486, 1.6480000019073486, 1.6480000019073486, 1.6480000019073486, 1.6480000019073486, 1.6478999853134155, 1.6478999853134155, 1.6476999521255493, 1.6476999521255493, 1.6476999521255493, 1.6476999521255493, 1.6476000547409058, 1.6475000381469727, 1.6475000381469727, 1.6475000381469727, 1.6475000381469727, 1.6475000381469727, 1.6475000381469727, 1.6474000215530396, 1.6368000507354736, 1.645400047302246, 1.6469000577926636, 1.6464999914169312, 1.6425000429153442, 1.6311999559402466, 1.6133999824523926, 1.6225999593734741, 1.6145999431610107, 1.5846999883651733, 1.586300015449524, 1.471500039100647, 1.5463999509811401, 1.4737000465393066, 1.4522000551223755, 1.2486000061035156, 1.4210000038146973, 0.9368000030517578, 1.19760000705719, 1.0441999435424805, 1.1787999868392944, 0.6274999976158142, 0.44839999079704285, 0.9453999996185303, 1.0669000148773193, 2.262500047683716, 2.262500047683716, 2.262500047683716, 2.262399911880493, 2.262399911880493, 2.262399911880493, 2.2623000144958496, 2.2623000144958496, 2.262200117111206, 2.262200117111206, 2.2620999813079834, 2.26200008392334, 2.261899948120117, 2.261699914932251, 2.2616000175476074, 2.2614998817443848, 2.2613000869750977, 2.260699987411499, 2.260699987411499, 2.2606000900268555, 2.2606000900268555, 2.2604000568389893, 2.2604000568389893, 2.2602999210357666, 2.2600998878479004, 2.259999990463257, 2.2597999572753906, 2.2597999572753906, 2.259700059890747, 2.2595999240875244, 2.1963000297546387, 2.185499906539917, 2.192699909210205, 2.032099962234497, 1.7711999416351318, 1.9972000122070312, 1.9149999618530273, 1.8236000537872314, 1.891800045967102, 1.1349999904632568, 1.7855000495910645, 1.7661000490188599, 1.3746000528335571, 1.0181000232696533, 0.95660001039505, 1.2240999937057495, 1.2634999752044678, 1.4366999864578247, 2.275599956512451, 2.2755000591278076, 2.2755000591278076, 2.275399923324585, 2.2753000259399414, 2.2753000259399414, 2.2753000259399414, 2.2751998901367188, 2.2751998901367188, 2.275099992752075, 2.275099992752075, 2.275099992752075, 2.275099992752075, 2.275099992752075, 2.2750000953674316, 2.2750000953674316, 2.2750000953674316, 2.2750000953674316, 2.2748000621795654, 2.2748000621795654, 2.2748000621795654, 2.2746999263763428, 2.274600028991699, 2.274600028991699, 2.274600028991699, 2.2744998931884766, 2.2744998931884766, 2.2744998931884766, 2.2744998931884766, 2.2744998931884766, 2.262700080871582, 2.267400026321411, 2.1805999279022217, 1.715999960899353, 1.7984000444412231, 1.8858000040054321, 1.942199945449829, 1.2763999700546265, 0.734499990940094, 1.0824999809265137, 0.4560999870300293, 0.426800012588501, 0.8158000111579895, 0.10360000282526016, 2.4523000717163086, 2.452199935913086, 2.452199935913086, 2.452199935913086, 2.452199935913086, 2.4521000385284424, 2.4519999027252197, 2.4519999027252197, 2.4519999027252197, 2.451900005340576, 2.451900005340576, 2.451900005340576, 2.4518001079559326, 2.4518001079559326, 2.4518001079559326, 2.45169997215271, 2.45169997215271, 2.4516000747680664, 2.4514999389648438, 2.4514999389648438, 2.4514999389648438, 2.4514999389648438, 2.4514000415802, 2.4514000415802, 2.4512999057769775, 2.4512999057769775, 2.451200008392334, 2.4511001110076904, 2.450900077819824, 2.450900077819824, 2.44950008392334, 2.4481000900268555, 2.3587000370025635, 2.2451999187469482, 2.2606000900268555, 2.107800006866455, 2.0908000469207764, 2.2827000617980957, 2.0985000133514404, 1.792799949645996, 1.8158999681472778, 2.0132999420166016, 2.113600015640259, 2.8340001106262207, 2.8340001106262207, 2.8338000774383545, 2.8338000774383545, 2.833699941635132, 2.833699941635132, 2.8336000442504883, 2.8334999084472656, 2.8334999084472656, 2.833400011062622, 2.8333001136779785, 2.833199977874756, 2.833199977874756, 2.8331000804901123, 2.8329999446868896, 2.8329999446868896, 2.832900047302246, 2.832900047302246, 2.8326001167297363, 2.8326001167297363, 2.83240008354187, 2.8322999477386475, 2.8322999477386475, 2.8322999477386475, 2.8322999477386475, 2.832200050354004, 2.8320999145507812, 2.8320999145507812, 2.8320999145507812, 2.8320000171661377, 2.8292999267578125, 2.772599935531616, 2.7943999767303467, 2.466099977493286, 2.0806000232696533, 2.467600107192993, 2.1161000728607178, 1.9851000308990479, 0.9596999883651733, 1.2211999893188477, 1.3355000019073486, 0.7814000248908997, 0.7289000153541565, 0.9496999979019165, 1.051800012588501, 3.6429998874664307, 3.642899990081787, 3.642899990081787, 3.642899990081787, 3.642699956893921, 3.6426000595092773, 3.6424999237060547, 3.642400026321411, 3.6421000957489014, 3.6419999599456787, 3.6419999599456787, 3.641900062561035, 3.6417999267578125, 3.6417999267578125, 3.641400098800659, 3.6412999629974365, 3.6412999629974365, 3.641200065612793, 3.6410999298095703, 3.6410000324249268, 3.6410000324249268, 3.640899896621704, 3.640899896621704, 3.640899896621704, 3.640700101852417, 3.640500068664551, 3.640500068664551, 3.640500068664551, 3.640500068664551, 3.6403000354766846, 3.5134999752044678, 3.484499931335449, 2.8313000202178955, 4.701300144195557, 4.700900077819824, 4.700500011444092, 4.700500011444092, 4.700300216674805, 4.700300216674805, 4.700300216674805, 4.700099945068359, 4.69980001449585, 4.6996002197265625, 4.6996002197265625, 4.69950008392334, 4.698500156402588, 4.698400020599365, 4.698400020599365, 4.698400020599365, 4.698400020599365, 4.698400020599365, 4.698400020599365, 4.698299884796143, 4.6975998878479, 4.697199821472168, 4.697000026702881, 4.697000026702881, 4.696300029754639, 4.6956000328063965, 4.6956000328063965, 4.695400238037109, 4.695199966430664, 4.695000171661377], \"logprob\": [30.0, 29.0, 28.0, 27.0, 26.0, 25.0, 24.0, 23.0, 22.0, 21.0, 20.0, 19.0, 18.0, 17.0, 16.0, 15.0, 14.0, 13.0, 12.0, 11.0, 10.0, 9.0, 8.0, 7.0, 6.0, 5.0, 4.0, 3.0, 2.0, 1.0, -2.199199914932251, -3.173099994659424, -3.516400098800659, -3.6589999198913574, -4.393700122833252, -5.0, -5.075099945068359, -4.3460001945495605, -5.122900009155273, -5.256400108337402, -5.475599765777588, -5.557499885559082, -5.5665998458862305, -5.667699813842773, -5.780600070953369, -5.866700172424316, -5.90310001373291, -5.9695000648498535, -6.115600109100342, -6.245800018310547, -6.270199775695801, -6.3028998374938965, -6.320499897003174, -6.351200103759766, -6.451700210571289, -6.47599983215332, -6.4770002365112305, -6.489799976348877, -6.512199878692627, -6.614099979400635, -3.5868000984191895, -3.089600086212158, -3.3708999156951904, -2.5768001079559326, -5.883500099182129, -4.024700164794922, -4.7058000564575195, -5.59630012512207, -4.6504998207092285, -4.6371002197265625, -5.793600082397461, -4.724299907684326, -3.126499891281128, -3.7611000537872314, -3.99180006980896, -3.8290998935699463, -5.383699893951416, -4.041800022125244, -4.440100193023682, -5.082200050354004, -4.60290002822876, -3.3763999938964844, -4.177599906921387, -4.238100051879883, -4.457900047302246, -4.846499919891357, -4.8333001136779785, -3.6461000442504883, -3.7755000591278076, -3.835599899291992, -3.8682000637054443, -4.094299793243408, -4.242499828338623, -4.244699954986572, -4.4604997634887695, -4.605899810791016, -4.676599979400635, -4.848400115966797, -4.9141998291015625, -4.957499980926514, -5.099100112915039, -5.130000114440918, -5.367400169372559, -5.371300220489502, -5.466100215911865, -5.509500026702881, -5.552299976348877, -5.654600143432617, -5.688499927520752, -5.732900142669678, -5.769199848175049, -5.786900043487549, -5.939799785614014, -5.968999862670898, -6.004300117492676, -6.0278000831604, -6.029900074005127, -3.0750999450683594, -4.254300117492676, -3.840399980545044, -4.368500232696533, -3.27020001411438, -3.9031999111175537, -4.92579984664917, -3.496799945831299, -4.315800189971924, -4.891300201416016, -2.5845000743865967, -3.1700000762939453, -3.9581000804901123, -4.54449987411499, -4.088900089263916, -4.315400123596191, -4.161799907684326, -4.521999835968018, -4.701399803161621, -4.553500175476074, -4.605800151824951, -4.635000228881836, -3.2748000621795654, -3.53629994392395, -4.138199806213379, -4.206500053405762, -4.49560022354126, -4.604899883270264, -4.664599895477295, -4.740200042724609, -4.8053998947143555, -4.816299915313721, -4.868299961090088, -4.890900135040283, -4.935200214385986, -4.945400238037109, -5.051499843597412, -5.086999893188477, -5.179299831390381, -5.2916998863220215, -5.48799991607666, -5.531099796295166, -5.57919979095459, -5.592299938201904, -5.642300128936768, -5.718100070953369, -5.720699787139893, -5.732399940490723, -5.760300159454346, -5.243599891662598, -5.8155999183654785, -5.8414998054504395, -3.5829999446868896, -4.49970006942749, -4.923399925231934, -5.052199840545654, -4.72189998626709, -4.929100036621094, -4.36929988861084, -5.054900169372559, -4.96560001373291, -4.57919979095459, -4.745100021362305, -3.5589001178741455, -4.35860013961792, -3.8570001125335693, -3.807300090789795, -3.371299982070923, -4.2642998695373535, -3.7481000423431396, -4.476600170135498, -4.414100170135498, -4.782299995422363, -4.6528000831604, -4.645100116729736, -4.79010009765625, -4.867000102996826, -2.302500009536743, -2.349400043487549, -2.436300039291382, -3.3661000728607178, -3.6106998920440674, -3.672300100326538, -3.8445000648498535, -4.0416998863220215, -4.102399826049805, -4.325200080871582, -4.368599891662598, -4.707099914550781, -4.795899868011475, -5.122000217437744, -5.170300006866455, -5.2505998611450195, -5.469099998474121, -5.84119987487793, -5.870299816131592, -5.914700031280518, -5.933599948883057, -5.988900184631348, -6.01609992980957, -6.06279993057251, -6.120500087738037, -6.17549991607666, -6.249899864196777, -6.266600131988525, -6.297599792480469, -6.320000171661377, -2.8025999069213867, -3.7739999294281006, -4.039899826049805, -4.211100101470947, -3.170099973678589, -4.676300048828125, -4.400599956512451, -4.666100025177002, -5.054800033569336, -3.2091000080108643, -4.960700035095215, -5.0335001945495605, -4.441199779510498, -4.075399875640869, -4.250800132751465, -4.534900188446045, -4.670400142669678, -4.9654998779296875, -2.6881000995635986, -3.7323999404907227, -3.906100034713745, -4.142899990081787, -4.277100086212158, -4.3246002197265625, -4.347700119018555, -4.549900054931641, -4.607100009918213, -4.709199905395508, -4.765699863433838, -4.789700031280518, -4.816400051116943, -4.826099872589111, -4.872200012207031, -4.877799987792969, -4.906799793243408, -4.907400131225586, -5.113900184631348, -5.1971001625061035, -5.2017998695373535, -5.237199783325195, -5.3282999992370605, -5.347300052642822, -5.398900032043457, -5.432600021362305, -5.462800025939941, -5.466300010681152, -5.466100215911865, -5.474400043487549, -4.171199798583984, -5.046500205993652, -5.1504998207092285, -4.271399974822998, -4.592800140380859, -4.768400192260742, -4.943299770355225, -4.2382001876831055, -3.7032999992370605, -4.693299770355225, -4.5742998123168945, -4.882299900054932, -4.94320011138916, -4.924799919128418, -3.0834999084472656, -3.2455999851226807, -3.4653000831604004, -3.4995999336242676, -3.6096999645233154, -3.8150999546051025, -4.0177998542785645, -4.186800003051758, -4.243500232696533, -4.340199947357178, -4.387599945068359, -4.389699935913086, -4.469600200653076, -4.510200023651123, -4.587299823760986, -4.680500030517578, -4.698800086975098, -4.8256001472473145, -4.905799865722656, -4.924300193786621, -4.945099830627441, -4.980400085449219, -5.012700080871582, -5.04449987411499, -5.10290002822876, -5.138500213623047, -5.230599880218506, -5.28980016708374, -5.4369001388549805, -5.4390997886657715, -3.1668999195098877, -3.869499921798706, -3.2690999507904053, -3.5167999267578125, -4.026599884033203, -3.6545000076293945, -3.684999942779541, -4.612299919128418, -4.2617998123168945, -3.7083001136779785, -4.027299880981445, -4.482800006866455, -4.757400035858154, -2.9786999225616455, -3.2381999492645264, -3.6833999156951904, -3.7716000080108643, -3.912600040435791, -3.9988999366760254, -4.1280999183654785, -4.311600208282471, -4.35099983215332, -4.491300106048584, -4.5991997718811035, -4.645599842071533, -4.647799968719482, -4.792699813842773, -4.82859992980957, -4.836400032043457, -4.928199768066406, -4.9471001625061035, -5.129300117492676, -5.14900016784668, -5.284200191497803, -5.302000045776367, -5.310699939727783, -5.311699867248535, -5.332499980926514, -5.347300052642822, -4.257999897003174, -5.411900043487549, -5.427599906921387, -5.448699951171875, -3.1031999588012695, -4.9492998123168945, -5.236400127410889, -3.9702000617980957, -3.7625999450683594, -4.766600131988525, -4.478799819946289, -4.33519983291626, -3.725100040435791, -4.100599765777588, -4.4268999099731445, -4.730800151824951, -4.799499988555908, -4.844799995422363, -4.896599769592285, -3.024600028991699, -3.236299991607666, -3.267699956893921, -3.2692999839782715, -3.5552000999450684, -3.6984000205993652, -3.8649001121520996, -3.907399892807007, -4.218900203704834, -4.227700233459473, -4.2621002197265625, -4.2993998527526855, -4.375400066375732, -4.38070011138916, -4.6153998374938965, -4.640600204467773, -4.654900074005127, -4.694699764251709, -4.720399856567383, -4.749800205230713, -4.754799842834473, -4.824699878692627, -4.826000213623047, -4.822700023651123, -4.873199939727783, -4.939599990844727, -4.941999912261963, -4.960700035095215, -4.969600200653076, -5.033599853515625, -2.5215001106262207, -4.020199775695801, -4.233500003814697, -2.963599920272827, -3.278599977493286, -3.4798998832702637, -3.5028998851776123, -3.575500011444092, -3.595400094985962, -3.6019999980926514, -3.6791000366210938, -3.7892000675201416, -3.8673999309539795, -3.8717000484466553, -3.878700017929077, -4.191999912261963, -4.1971001625061035, -4.199699878692627, -4.199699878692627, -4.199699878692627, -4.210400104522705, -4.219399929046631, -4.227200031280518, -4.393599987030029, -4.459199905395508, -4.500999927520752, -4.5015997886657715, -4.625699996948242, -4.7291998863220215, -4.734600067138672, -4.763299942016602, -4.782100200653076, -4.809500217437744]}, \"token.table\": {\"Topic\": [9, 1, 2, 3, 4, 5, 1, 8, 4, 8, 1, 2, 3, 4, 3, 4, 2, 7, 3, 6, 7, 4, 1, 2, 5, 6, 6, 1, 2, 4, 5, 9, 7, 7, 4, 9, 2, 7, 8, 1, 2, 3, 4, 5, 9, 4, 5, 1, 2, 5, 1, 3, 2, 5, 7, 1, 6, 1, 2, 5, 1, 2, 3, 5, 7, 2, 4, 8, 8, 6, 1, 2, 7, 5, 2, 6, 7, 2, 6, 7, 1, 4, 3, 6, 2, 5, 5, 1, 7, 2, 6, 2, 1, 6, 1, 3, 8, 7, 2, 3, 1, 3, 6, 2, 4, 1, 1, 9, 2, 3, 4, 6, 1, 3, 1, 3, 6, 1, 3, 1, 4, 7, 2, 2, 4, 9, 1, 1, 2, 3, 7, 7, 9, 9, 2, 8, 3, 7, 8, 4, 6, 7, 1, 7, 1, 5, 5, 8, 6, 2, 4, 1, 1, 2, 5, 1, 1, 5, 2, 2, 3, 7, 4, 6, 7, 7, 3, 5, 5, 2, 5, 6, 5, 6, 6, 5, 2, 3, 4, 7, 5, 5, 1, 3, 6, 9, 5, 6, 7, 3, 1, 9, 7, 8, 5, 8, 5, 5, 4, 3, 4, 5, 7, 3, 6, 6, 5, 1, 6, 6, 6, 6, 7, 5, 2, 3, 4, 9, 3, 2, 3, 2, 3, 5, 6, 2, 3, 4, 5, 5, 1, 3, 2, 8, 9, 3, 2, 6, 1, 7, 3, 8, 6, 7, 2, 4, 5, 3, 5, 4, 3, 8, 3, 4, 5, 1, 7, 1, 5, 6, 9, 8, 5, 9, 6, 6, 4, 1, 3, 4, 1, 6, 3, 1, 7, 5, 3, 4, 3, 5, 7, 2, 6, 8, 4, 1, 3, 5, 1, 2, 3, 4, 1, 2, 5, 6, 2, 1, 7, 3, 7, 1, 2, 7, 3, 2, 6, 6, 5, 2, 3, 6, 5, 2, 4, 2, 3, 9, 3, 8, 6, 4, 4, 4, 5, 6, 7, 8, 9, 7, 8, 7, 2, 4, 3, 2, 4, 5, 1, 6, 5, 6, 1, 3, 1, 5, 8, 1, 5, 7, 3, 4, 9, 5, 7, 6, 9, 2, 4, 5, 4, 2, 3, 8, 2, 3, 5, 6, 3, 4, 6, 4, 2, 3, 7, 9, 3, 4, 7, 1, 5, 9, 9, 3, 6, 4, 9, 1, 4, 2, 1, 2, 3, 4, 5, 9, 1, 4, 8, 8, 6, 3, 5, 7, 5, 6, 8, 8, 5, 8, 2, 4, 8, 4, 2, 8, 1, 1, 1, 8, 3, 1, 2, 3, 4, 1, 5, 3, 1, 5, 8, 8, 2, 1, 6, 2, 1, 6, 2, 1, 5, 1, 6, 1, 9, 1, 3, 5, 6, 1, 5, 6, 9, 9, 1, 3, 5, 7, 1, 2, 5, 7, 6, 4, 5, 7, 2, 5, 8, 2, 3, 2, 6, 4, 1, 6, 4, 2, 4, 5, 2, 6, 7, 2, 7, 2, 8, 2, 6, 1, 6, 3, 4, 9, 9, 7, 4, 8, 3, 2, 3, 1, 1, 2, 5, 6, 7, 6, 4, 2, 4, 3, 3, 2, 3, 1, 6, 1, 9, 7, 5, 6, 5, 4, 1, 3, 6, 7, 2, 7, 2, 7, 3, 2, 4, 7, 3, 3, 6, 3, 1, 7, 9, 1, 3, 7, 8, 3], \"Freq\": [0.9925592541694641, 0.567947506904602, 0.30972594022750854, 0.0006121066398918629, 0.007782498374581337, 0.11393927782773972, 0.9995409846305847, 0.9996171593666077, 0.9992662072181702, 0.9968894124031067, 0.3998236358165741, 0.010826223529875278, 0.3011743426322937, 0.2881081998348236, 0.9382634162902832, 0.061516545712947845, 0.923327624797821, 0.07612989842891693, 0.004126646090298891, 0.9957914352416992, 0.9990023970603943, 0.9989021420478821, 0.30553048849105835, 0.6657150387763977, 0.010398774407804012, 0.018355045467615128, 0.9994987845420837, 0.6714566349983215, 0.30484282970428467, 0.020562471821904182, 0.003009142354130745, 0.9975211024284363, 0.9997549057006836, 0.9987736344337463, 0.997001588344574, 0.9962696433067322, 0.9991174340248108, 0.9989096522331238, 0.9980326294898987, 0.23587849736213684, 0.012743690051138401, 0.13473045825958252, 0.6117773056030273, 0.004889088682830334, 0.9940283894538879, 0.99995356798172, 0.9994428753852844, 0.9991422295570374, 0.9998558163642883, 0.9996658563613892, 0.9999406933784485, 0.9996137022972107, 0.5464587807655334, 0.3681451380252838, 0.08531752973794937, 0.9901699423789978, 0.009825215674936771, 0.9809063076972961, 0.016577616333961487, 0.002477917354553938, 0.7597315311431885, 0.0953388586640358, 0.14499451220035553, 0.9994193315505981, 0.9969264268875122, 0.06409899145364761, 0.9358453154563904, 0.9994224905967712, 0.9987385272979736, 0.999621570110321, 0.12688077986240387, 0.18084979057312012, 0.6919469833374023, 0.9990828037261963, 0.7274726033210754, 0.10423815995454788, 0.16831719875335693, 0.6916757822036743, 0.17986975610256195, 0.1283770650625229, 0.9983280897140503, 0.9999241232872009, 0.9991670846939087, 0.9992432594299316, 0.9995558261871338, 0.9995973706245422, 0.9993308186531067, 0.9991227984428406, 0.9995762705802917, 0.9733499884605408, 0.026455719023942947, 0.9991265535354614, 0.9883526563644409, 0.010805604979395866, 0.9986719489097595, 0.12156185507774353, 0.8782126307487488, 0.9982436895370483, 0.5047100186347961, 0.4951336681842804, 0.05002221837639809, 0.8218408226966858, 0.1281406134366989, 0.7289808988571167, 0.27088385820388794, 0.9998180866241455, 0.9984960556030273, 0.9977373480796814, 0.40182772278785706, 0.07576360553503036, 0.005191210191696882, 0.5170164704322815, 0.0029382656794041395, 0.9968733787536621, 0.3904975354671478, 0.546562135219574, 0.06290975958108902, 0.9995836019515991, 0.9991449117660522, 0.9980229139328003, 0.9966570138931274, 0.9978484511375427, 0.9993723630905151, 0.35479018092155457, 0.6447303295135498, 0.9958993196487427, 0.9996432065963745, 0.01251008827239275, 0.3502824604511261, 0.6370136737823486, 0.9976351261138916, 0.9992321729660034, 0.996414840221405, 0.9988749027252197, 0.9992910623550415, 0.9965947270393372, 0.9995704293251038, 0.9989659190177917, 0.9976030588150024, 0.9971613883972168, 0.0013745400356128812, 0.997916042804718, 0.9995131492614746, 0.9985097050666809, 0.9996144771575928, 0.0002086442254949361, 0.9986883997917175, 0.9980980157852173, 0.9986811876296997, 0.9572930335998535, 0.04263879731297493, 0.9976987242698669, 0.37275639176368713, 0.006491633132100105, 0.6204634308815002, 0.9991565346717834, 0.998652458190918, 0.9986382126808167, 0.9995865821838379, 0.9734696745872498, 0.026315681636333466, 0.9980595707893372, 0.9992167353630066, 0.058178357779979706, 0.9399036765098572, 0.9992293119430542, 0.9030323028564453, 0.09685851633548737, 0.9993371963500977, 0.4268778860569, 0.5712999701499939, 0.0015970845706760883, 0.9998470544815063, 0.9998366832733154, 0.9991159439086914, 0.9985440373420715, 0.0012260929215699434, 0.9984483122825623, 0.9971559643745422, 0.9991939663887024, 0.9997586011886597, 0.9991444945335388, 0.0011308278189972043, 0.15435799956321716, 0.8441629409790039, 0.9949095845222473, 0.08120619505643845, 0.6447165012359619, 0.27397605776786804, 0.9998944401741028, 0.9983486533164978, 0.9978762865066528, 0.9991351962089539, 0.9987460970878601, 0.9869674444198608, 0.012836281210184097, 0.9986326694488525, 0.9999017715454102, 0.9986840486526489, 0.06734775006771088, 0.9326642751693726, 0.3064107298851013, 0.6929963231086731, 0.7966406345367432, 0.2032504677772522, 0.9995223879814148, 0.9991525411605835, 0.992070198059082, 0.007887829095125198, 0.9998627305030823, 0.9995370507240295, 0.7127182483673096, 0.2870747447013855, 0.999585747718811, 0.07266420871019363, 0.5590386390686035, 0.3682950735092163, 0.9918575286865234, 0.9995595812797546, 0.0056548165157437325, 0.9939171075820923, 0.6396861672401428, 0.36023131012916565, 0.909532368183136, 0.0900786891579628, 0.9701021909713745, 0.029816940426826477, 0.9993702173233032, 0.9988240599632263, 0.999494731426239, 0.32955366373062134, 0.670441210269928, 0.9990001320838928, 0.9966606497764587, 0.9978423118591309, 0.9989340305328369, 0.9999224543571472, 0.999462366104126, 0.9744534492492676, 0.024231525138020515, 0.9997131824493408, 0.9996821284294128, 0.5291570425033569, 0.4706910252571106, 0.9991967678070068, 0.9975264072418213, 0.9993704557418823, 0.8378285765647888, 0.16209818422794342, 0.9989535808563232, 0.939757227897644, 0.05986124649643898, 0.39064785838127136, 0.6085882186889648, 0.9997771978378296, 0.5118048787117004, 0.48751300573349, 0.03439630940556526, 0.05493855103850365, 0.9105467796325684, 0.9962611198425293, 0.9980587363243103, 0.9990333318710327, 0.9956502318382263, 0.9993858933448792, 0.9987397789955139, 0.9985272884368896, 0.0013939683558419347, 0.998081386089325, 0.9984089732170105, 0.9970716834068298, 0.002824841532856226, 0.9998013973236084, 0.8005959391593933, 0.19924016296863556, 0.9983497262001038, 0.9996188282966614, 0.9994803667068481, 0.9993438720703125, 0.9997116327285767, 0.9998815655708313, 0.999798595905304, 0.9992786049842834, 0.9989838004112244, 0.9988725185394287, 0.8215271234512329, 0.06238600239157677, 0.1159825474023819, 0.9999476075172424, 0.52406907081604, 0.03765559196472168, 0.43770307302474976, 0.0026443758979439735, 0.9402451515197754, 0.05505726486444473, 0.001966330921277404, 0.9997538924217224, 0.9988973140716553, 0.9993544220924377, 0.974456250667572, 0.025021051988005638, 0.10196293890476227, 0.7460978627204895, 0.15181566774845123, 0.9995905160903931, 0.9995311498641968, 0.9980325698852539, 0.9997473359107971, 0.9994073510169983, 0.9990061521530151, 0.9998653531074524, 0.999283492565155, 0.9990180134773254, 0.9984826445579529, 0.0013485198142006993, 0.9995048642158508, 0.9995547533035278, 0.9936261773109436, 0.9994800090789795, 0.9993076920509338, 0.9992982149124146, 0.9981394410133362, 0.9997587203979492, 0.9999653100967407, 0.06795161217451096, 0.7084820866584778, 0.22334766387939453, 0.996063232421875, 0.9983795881271362, 0.9984581470489502, 0.9991891384124756, 0.9995448589324951, 0.29334327578544617, 0.7064314484596252, 0.9999045729637146, 0.9166437387466431, 0.07876370847225189, 0.004477094858884811, 0.9990244507789612, 0.9998590350151062, 0.1742774397134781, 0.8255084753036499, 0.016589095816016197, 0.9828028082847595, 0.5300412774085999, 0.025463422760367393, 0.4435996413230896, 0.2819947302341461, 0.29026997089385986, 0.4277662932872772, 0.23288068175315857, 0.767056405544281, 0.9966393113136292, 0.9919921159744263, 0.007736507337540388, 0.9990413188934326, 0.9915549159049988, 0.8879712224006653, 0.10912900418043137, 0.0027327798306941986, 0.9997561573982239, 0.0005632556858472526, 0.9992156028747559, 0.9960933923721313, 0.3277973532676697, 0.6251484155654907, 0.046669453382492065, 0.9985285997390747, 0.20567339658737183, 0.794111430644989, 0.999111533164978, 0.9975729584693909, 0.011437257751822472, 0.9884755611419678, 0.9985630512237549, 0.9930406808853149, 0.9990463852882385, 0.036971334367990494, 0.9612547159194946, 0.7858492732048035, 0.2141331434249878, 0.9985101819038391, 0.9975178837776184, 0.18703791499137878, 0.8128045201301575, 0.9975758194923401, 0.9981150031089783, 0.9467464685440063, 0.05287609249353409, 0.9986667633056641, 0.011578749865293503, 0.7080405950546265, 0.10640871524810791, 0.01644182577729225, 0.15735521912574768, 0.9950843453407288, 0.9977176189422607, 0.9992215633392334, 0.999362051486969, 0.9972702264785767, 0.9986954927444458, 0.9666253924369812, 0.02600230649113655, 0.007016495335847139, 0.3032046854496002, 0.6965214014053345, 0.9981133341789246, 0.9967519640922546, 0.9996292591094971, 0.9966002702713013, 0.9956161379814148, 0.004371142014861107, 0.9986094832420349, 0.9997820854187012, 0.9997715353965759, 0.998182475566864, 0.9996531009674072, 0.9999702572822571, 0.9993849396705627, 0.998497486114502, 0.9987812042236328, 0.048042453825473785, 0.42335009574890137, 0.11703141778707504, 0.4114355742931366, 0.28341954946517944, 0.7163904905319214, 0.9996985197067261, 0.10299818962812424, 0.042655814439058304, 0.8531163334846497, 0.9983009696006775, 0.9988192319869995, 0.9999570846557617, 0.9991767406463623, 0.999894380569458, 0.8910527229309082, 0.10816550254821777, 0.9997061491012573, 0.9996340274810791, 0.9986861348152161, 0.9742165207862854, 0.0256605613976717, 0.9995594620704651, 0.9947838187217712, 0.9079391956329346, 0.07607655972242355, 0.004426272585988045, 0.011342323385179043, 0.9798650145530701, 0.01993144489824772, 0.9996256828308105, 0.9987202286720276, 0.9979933500289917, 0.33099958300590515, 0.49082455039024353, 0.0246838741004467, 0.15343694388866425, 0.6287253499031067, 0.2482607215642929, 0.0011533598881214857, 0.12182363867759705, 0.9994409084320068, 0.6900647282600403, 0.0011907933512702584, 0.3084154725074768, 0.9994964599609375, 0.9987362623214722, 0.9974251985549927, 0.9998834133148193, 0.999940037727356, 0.9996581673622131, 0.9991934895515442, 0.9996320605278015, 0.9982391595840454, 0.0009691641898825765, 0.9998494386672974, 0.4135965406894684, 0.35404443740844727, 0.23221683502197266, 0.8034981489181519, 0.1964198797941208, 0.9992520809173584, 0.9999248385429382, 0.9988424777984619, 0.9997011423110962, 0.9990078806877136, 0.9992131590843201, 0.9991601705551147, 0.951270341873169, 0.04872097820043564, 0.07388772070407867, 0.9259262681007385, 0.9975090622901917, 0.9911531209945679, 0.9988251328468323, 0.9997686147689819, 0.9989402294158936, 0.9991656541824341, 0.16019420325756073, 0.8396589756011963, 0.9982175230979919, 0.9979840517044067, 0.9994299411773682, 0.6769400238990784, 0.026224203407764435, 0.2964668273925781, 0.9996935725212097, 0.9999674558639526, 0.3790867030620575, 0.6207666397094727, 0.9993454813957214, 0.9995830655097961, 0.9988898634910583, 0.9994953870773315, 0.0028339147102087736, 0.9970656633377075, 0.9989525079727173, 0.9975178837776184, 0.9993061423301697, 0.29779234528541565, 0.701915442943573, 0.9987306594848633, 0.996740996837616, 0.5931605100631714, 0.40669748187065125, 0.9991961121559143, 0.9975196719169617, 0.9987306594848633, 0.9997768402099609, 0.9994919896125793, 0.9986106753349304, 0.9992069602012634, 0.6761607527732849, 0.3238108158111572, 0.9993090033531189, 0.9994439482688904, 0.9997711181640625, 0.999704122543335, 0.9998358488082886, 0.004751035012304783, 0.9951258897781372, 0.99546217918396, 0.02747841365635395, 0.9656050801277161, 0.006585735362023115, 0.9961001873016357, 0.9997703433036804], \"Term\": [\"accent\", \"access\", \"access\", \"access\", \"access\", \"access\", \"air\", \"airbnb\", \"airport\", \"almost\", \"also\", \"also\", \"also\", \"also\", \"always\", \"always\", \"amazing\", \"amazing\", \"amenity\", \"amenity\", \"ample\", \"anywhere\", \"apartment\", \"apartment\", \"apartment\", \"apartment\", \"appliance\", \"area\", \"area\", \"area\", \"area\", \"arrive\", \"art\", \"artist\", \"astoria\", \"attach\", \"attraction\", \"authentic\", \"availability\", \"available\", \"available\", \"available\", \"available\", \"available\", \"average_rating\", \"away\", \"backyard\", \"balcony\", \"bar\", \"basement\", \"bathroom\", \"be\", \"beautiful\", \"beautiful\", \"beautiful\", \"bed\", \"bed\", \"bedroom\", \"bedroom\", \"bedroom\", \"big\", \"big\", \"big\", \"bike\", \"black\", \"block\", \"block\", \"book\", \"booking\", \"brand\", \"bright\", \"bright\", \"bright\", \"brownstone\", \"build\", \"build\", \"build\", \"building\", \"building\", \"building\", \"bunk\", \"bus\", \"business\", \"cable\", \"cafe\", \"call\", \"car\", \"cat\", \"ceiling\", \"central\", \"central\", \"centrally\", \"chair\", \"chair\", \"channel\", \"check\", \"check\", \"chill\", \"city\", \"city\", \"clean\", \"clean\", \"clean\", \"close\", \"close\", \"closet\", \"clothe\", \"code\", \"coffee\", \"coffee\", \"coffee\", \"coffee\", \"come\", \"come\", \"comfortable\", \"comfortable\", \"comfortable\", \"common\", \"community\", \"consist\", \"construction\", \"control\", \"conveniently\", \"corner\", \"corner\", \"cosy\", \"couch\", \"cozy\", \"cozy\", \"cozy\", \"create\", \"creative\", \"currently\", \"curtain\", \"cute\", \"date\", \"day\", \"decorate\", \"deep\", \"deli\", \"design\", \"design\", \"desk\", \"dine\", \"dining\", \"dining\", \"directly\", \"discount\", \"dish\", \"distance\", \"distance\", \"dog\", \"door\", \"door\", \"door\", \"double\", \"dresser\", \"drive\", \"east\", \"easy\", \"easy\", \"eclectic\", \"email\", \"end\", \"end\", \"energy\", \"enjoy\", \"enjoy\", \"enter\", \"entire\", \"entire\", \"entire\", \"entrance\", \"equip\", \"essential\", \"event\", \"experience\", \"experience\", \"express\", \"face\", \"family\", \"famous\", \"fast\", \"fast\", \"fast\", \"fast_company\", \"feature\", \"feature\", \"feature\", \"feel\", \"female\", \"ferry\", \"fill\", \"finish\", \"first\", \"first\", \"flight\", \"floor\", \"flush\", \"food\", \"food\", \"foot\", \"foot\", \"free\", \"free\", \"fresh\", \"front\", \"full\", \"full\", \"fully\", \"furnish\", \"furniture\", \"furniture\", \"garden\", \"get\", \"get\", \"get\", \"girl\", \"give\", \"go\", \"go\", \"good\", \"good\", \"gorgeous\", \"gorgeous\", \"great\", \"great\", \"grocery\", \"ground\", \"group\", \"guest\", \"guest\", \"gym\", \"hand\", \"hanger\", \"happy\", \"heart\", \"heat\", \"heating\", \"heating\", \"help\", \"hide\", \"high\", \"high\", \"hip\", \"hipster\", \"historic\", \"home\", \"home\", \"hospital\", \"host\", \"host\", \"hour\", \"hour\", \"house\", \"huge\", \"huge\", \"include\", \"include\", \"include\", \"industry\", \"information\", \"interact\", \"international\", \"internet\", \"iron\", \"italian\", \"keep\", \"keep\", \"kind\", \"kitchen\", \"kitchen\", \"know\", \"large\", \"large\", \"lead\", \"leave\", \"less\", \"let\", \"level\", \"light\", \"line\", \"linen\", \"list\", \"literally\", \"live\", \"live\", \"live\", \"living\", \"local\", \"local\", \"local\", \"locate\", \"locate\", \"locate\", \"locate\", \"location\", \"lock\", \"loft\", \"look\", \"look\", \"lot\", \"lot\", \"lot\", \"love\", \"low\", \"luxurious\", \"luxury\", \"main\", \"major\", \"make\", \"maker\", \"mall\", \"many\", \"many\", \"market\", \"may\", \"maybe\", \"meet\", \"message\", \"microwave\", \"mile\", \"min\", \"minute\", \"modern\", \"modern\", \"modern\", \"monitor\", \"mostly\", \"music\", \"must\", \"natural\", \"nearby\", \"nearby\", \"need\", \"neighborhood\", \"neighborhood\", \"neighborhood\", \"netflix\", \"new\", \"newly\", \"newly\", \"night\", \"night\", \"note\", \"note\", \"note\", \"open\", \"open\", \"open\", \"option\", \"option\", \"other\", \"outdoor\", \"outdoor\", \"oven\", \"pad\", \"park\", \"park\", \"park\", \"parking\", \"part\", \"part\", \"particular\", \"perfect\", \"perfect\", \"perfect\", \"pharmacy\", \"phone\", \"phone\", \"pillow\", \"pizza\", \"place\", \"place\", \"plant\", \"platt\", \"pm\", \"prime\", \"prime\", \"private\", \"private\", \"professional\", \"proper_disinfection\", \"provide\", \"provide\", \"public_transportation\", \"put\", \"queen\", \"queen\", \"quick\", \"quiet\", \"quiet\", \"quiet\", \"quiet\", \"quiet\", \"rack\", \"railroad\", \"reach\", \"read\", \"recommend\", \"refrigerator\", \"relax\", \"relax\", \"relax\", \"renovate\", \"renovate\", \"request\", \"reservation\", \"residential\", \"respond\", \"restaurant\", \"restaurant\", \"review\", \"ride\", \"right\", \"roku\", \"rooftop\", \"room\", \"roommate\", \"rule\", \"run\", \"safe\", \"safe\", \"safe\", \"safe\", \"second\", \"second\", \"see\", \"self\", \"self\", \"self\", \"send\", \"several\", \"share\", \"sheet\", \"shop\", \"shower\", \"shower\", \"side\", \"single\", \"situate\", \"size\", \"size\", \"sized\", \"skyline\", \"sleep\", \"sleep\", \"sleep\", \"sleep\", \"small\", \"small\", \"smart\", \"sond\", \"sonder\", \"space\", \"space\", \"space\", \"space\", \"spacious\", \"spacious\", \"spacious\", \"spacious\", \"speed\", \"spot\", \"spot\", \"spot\", \"square\", \"stair\", \"star\", \"station\", \"stay\", \"step\", \"stock\", \"stop\", \"storage\", \"storage\", \"store\", \"street\", \"street\", \"street\", \"studio\", \"studio\", \"style\", \"subway\", \"sunlight\", \"supermarket\", \"sure\", \"surround\", \"system\", \"table\", \"table\", \"take\", \"take\", \"technique\", \"terminal\", \"terrace\", \"text\", \"thank\", \"thing\", \"time\", \"time\", \"toaster\", \"toilet\", \"ton\", \"top\", \"top\", \"top\", \"towel\", \"train\", \"transportation\", \"transportation\", \"travel\", \"traveler\", \"trendy\", \"try\", \"tv\", \"tv\", \"twin\", \"uncertainty\", \"unique\", \"unit\", \"unit\", \"update\", \"uptown\", \"use\", \"use\", \"utensil\", \"vibe\", \"vibrant\", \"view\", \"village\", \"vintage\", \"visit\", \"walk\", \"walk\", \"wall\", \"want\", \"welcome\", \"wifi\", \"will\", \"window\", \"window\", \"woman\", \"work\", \"work\", \"work\", \"working\", \"would\"]}, \"R\": 30, \"lambda.step\": 0.01, \"plot.opts\": {\"xlab\": \"PC1\", \"ylab\": \"PC2\"}, \"topic.order\": [8, 3, 5, 7, 4, 9, 2, 6, 1]};\n",
       "\n",
       "function LDAvis_load_lib(url, callback){\n",
       "  var s = document.createElement('script');\n",
       "  s.src = url;\n",
       "  s.async = true;\n",
       "  s.onreadystatechange = s.onload = callback;\n",
       "  s.onerror = function(){console.warn(\"failed to load library \" + url);};\n",
       "  document.getElementsByTagName(\"head\")[0].appendChild(s);\n",
       "}\n",
       "\n",
       "if(typeof(LDAvis) !== \"undefined\"){\n",
       "   // already loaded: just create the visualization\n",
       "   !function(LDAvis){\n",
       "       new LDAvis(\"#\" + \"ldavis_el139171404432794574003532828263\", ldavis_el139171404432794574003532828263_data);\n",
       "   }(LDAvis);\n",
       "}else if(typeof define === \"function\" && define.amd){\n",
       "   // require.js is available: use it to load d3/LDAvis\n",
       "   require.config({paths: {d3: \"https://cdnjs.cloudflare.com/ajax/libs/d3/3.5.5/d3.min\"}});\n",
       "   require([\"d3\"], function(d3){\n",
       "      window.d3 = d3;\n",
       "      LDAvis_load_lib(\"https://cdn.rawgit.com/bmabey/pyLDAvis/files/ldavis.v1.0.0.js\", function(){\n",
       "        new LDAvis(\"#\" + \"ldavis_el139171404432794574003532828263\", ldavis_el139171404432794574003532828263_data);\n",
       "      });\n",
       "    });\n",
       "}else{\n",
       "    // require.js not available: dynamically load d3 & LDAvis\n",
       "    LDAvis_load_lib(\"https://cdnjs.cloudflare.com/ajax/libs/d3/3.5.5/d3.min.js\", function(){\n",
       "         LDAvis_load_lib(\"https://cdn.rawgit.com/bmabey/pyLDAvis/files/ldavis.v1.0.0.js\", function(){\n",
       "                 new LDAvis(\"#\" + \"ldavis_el139171404432794574003532828263\", ldavis_el139171404432794574003532828263_data);\n",
       "            })\n",
       "         });\n",
       "}\n",
       "</script>"
      ],
      "text/plain": [
       "PreparedData(topic_coordinates=            Freq  cluster  topics         x         y\n",
       "topic                                                \n",
       "7      21.174509        1       1 -0.144337 -0.117737\n",
       "2      20.901030        1       2 -0.225574  0.095726\n",
       "4      19.235279        1       3 -0.130556 -0.003861\n",
       "6      10.408291        1       4 -0.168553  0.304603\n",
       "3      10.272223        1       5 -0.029921 -0.173007\n",
       "8       8.608661        1       6  0.054822 -0.202527\n",
       "1       5.876636        1       7  0.085320 -0.175190\n",
       "5       2.616107        1       8  0.287441  0.155677\n",
       "0       0.907271        1       9  0.271356  0.116316, topic_info=      Category          Freq                 Term         Total  loglift  \\\n",
       "term                                                                       \n",
       "102    Default  41000.000000                 room  41000.000000  30.0000   \n",
       "66     Default  28653.000000              bedroom  28653.000000  29.0000   \n",
       "109    Default  18175.000000                train  18175.000000  28.0000   \n",
       "96     Default  17343.000000               minute  17343.000000  27.0000   \n",
       "200    Default  15899.000000                 away  15899.000000  26.0000   \n",
       "113    Default  41351.000000            apartment  41351.000000  25.0000   \n",
       "21     Default  12199.000000                floor  12199.000000  24.0000   \n",
       "145    Default  22670.000000                 walk  22670.000000  23.0000   \n",
       "221    Default  16929.000000           restaurant  16929.000000  22.0000   \n",
       "8      Default  16997.000000                  bed  16997.000000  21.0000   \n",
       "67     Default  11778.000000                block  11778.000000  20.0000   \n",
       "202    Default  15481.000000             bathroom  15481.000000  19.0000   \n",
       "99     Default  20641.000000              private  20641.000000  18.0000   \n",
       "293    Default  12704.000000                 stay  12704.000000  17.0000   \n",
       "22     Default  12804.000000                 full  12804.000000  16.0000   \n",
       "32     Default  14748.000000               locate  14748.000000  15.0000   \n",
       "90     Default  17205.000000                guest  17205.000000  14.0000   \n",
       "183    Default  10984.000000                share  10984.000000  13.0000   \n",
       "556    Default   6884.000000                  new   6884.000000  12.0000   \n",
       "6      Default  12476.000000            available  12476.000000  11.0000   \n",
       "97     Default   9781.000000                 need   9781.000000  10.0000   \n",
       "29     Default  10266.000000              kitchen  10266.000000   9.0000   \n",
       "62     Default   6351.000000                   tv   6351.000000   8.0000   \n",
       "176    Default   9442.000000                place   9442.000000   7.0000   \n",
       "234    Default   9523.000000                  bar   9523.000000   6.0000   \n",
       "31     Default   5219.000000                light   5219.000000   5.0000   \n",
       "131    Default   9524.000000               living   9524.000000   4.0000   \n",
       "204    Default   4178.000000                check   4178.000000   3.0000   \n",
       "186    Default  16123.000000                space  16123.000000   2.0000   \n",
       "257    Default  12061.000000         neighborhood  12061.000000   1.0000   \n",
       "...        ...           ...                  ...           ...      ...   \n",
       "1165    Topic9    817.957153              curtain    818.921387   4.7013   \n",
       "1150    Topic9    596.926453         professional    597.890747   4.7009   \n",
       "835     Topic9    488.074371                ferry    489.038574   4.7005   \n",
       "14594   Topic9    476.995239               sonder    477.959106   4.7005   \n",
       "14593   Topic9    443.605072                 sond    444.568939   4.7003   \n",
       "843     Topic9    434.857117                  put    435.821533   4.7003   \n",
       "403     Topic9    431.969788               hanger    432.934143   4.7003   \n",
       "2894    Topic9    399.942505                 code    400.907104   4.7001   \n",
       "1745    Topic9    358.242798                other    359.207184   4.6998   \n",
       "731     Topic9    331.274780               attach    332.239380   4.6996   \n",
       "146     Topic9    329.855804               arrive    330.820068   4.6996   \n",
       "1784    Topic9    327.567963               mostly    328.532349   4.6995   \n",
       "14588   Topic9    239.471924       average_rating    240.435791   4.6985   \n",
       "14589   Topic9    238.253845         fast_company    239.217712   4.6984   \n",
       "5539    Topic9    237.630463            technique    238.594330   4.6984   \n",
       "14595   Topic9    237.628342          uncertainty    238.592209   4.6984   \n",
       "14592   Topic9    237.628342  proper_disinfection    238.592209   4.6984   \n",
       "1513    Topic9    235.106796                woman    236.071243   4.6984   \n",
       "1144    Topic9    232.994949                 cosy    233.959396   4.6984   \n",
       "1151    Topic9    231.176697                 rack    232.141129   4.6983   \n",
       "1362    Topic9    195.740906            currently    196.705215   4.6976   \n",
       "14591   Topic9    183.318604                platt    184.282486   4.6972   \n",
       "634     Topic9    175.804489        international    176.768906   4.6970   \n",
       "163     Topic9    175.696060             industry    176.660507   4.6970   \n",
       "3990    Topic9    155.197372               accent    156.161957   4.6963   \n",
       "1002    Topic9    139.933578                maybe    140.898056   4.6956   \n",
       "2601    Topic9    139.176758                 girl    140.141098   4.6956   \n",
       "906     Topic9    135.240784             terminal    136.204987   4.6954   \n",
       "1251    Topic9    132.732864              skyline    133.697388   4.6952   \n",
       "1194    Topic9    129.134232                  pad    130.098694   4.6950   \n",
       "\n",
       "       logprob  \n",
       "term            \n",
       "102    30.0000  \n",
       "66     29.0000  \n",
       "109    28.0000  \n",
       "96     27.0000  \n",
       "200    26.0000  \n",
       "113    25.0000  \n",
       "21     24.0000  \n",
       "145    23.0000  \n",
       "221    22.0000  \n",
       "8      21.0000  \n",
       "67     20.0000  \n",
       "202    19.0000  \n",
       "99     18.0000  \n",
       "293    17.0000  \n",
       "22     16.0000  \n",
       "32     15.0000  \n",
       "90     14.0000  \n",
       "183    13.0000  \n",
       "556    12.0000  \n",
       "6      11.0000  \n",
       "97     10.0000  \n",
       "29      9.0000  \n",
       "62      8.0000  \n",
       "176     7.0000  \n",
       "234     6.0000  \n",
       "31      5.0000  \n",
       "131     4.0000  \n",
       "204     3.0000  \n",
       "186     2.0000  \n",
       "257     1.0000  \n",
       "...        ...  \n",
       "1165   -2.9636  \n",
       "1150   -3.2786  \n",
       "835    -3.4799  \n",
       "14594  -3.5029  \n",
       "14593  -3.5755  \n",
       "843    -3.5954  \n",
       "403    -3.6020  \n",
       "2894   -3.6791  \n",
       "1745   -3.7892  \n",
       "731    -3.8674  \n",
       "146    -3.8717  \n",
       "1784   -3.8787  \n",
       "14588  -4.1920  \n",
       "14589  -4.1971  \n",
       "5539   -4.1997  \n",
       "14595  -4.1997  \n",
       "14592  -4.1997  \n",
       "1513   -4.2104  \n",
       "1144   -4.2194  \n",
       "1151   -4.2272  \n",
       "1362   -4.3936  \n",
       "14591  -4.4592  \n",
       "634    -4.5010  \n",
       "163    -4.5016  \n",
       "3990   -4.6257  \n",
       "1002   -4.7292  \n",
       "2601   -4.7346  \n",
       "906    -4.7633  \n",
       "1251   -4.7821  \n",
       "1194   -4.8095  \n",
       "\n",
       "[437 rows x 6 columns], token_table=       Topic      Freq         Term\n",
       "term                               \n",
       "3990       9  0.992559       accent\n",
       "393        1  0.567948       access\n",
       "393        2  0.309726       access\n",
       "393        3  0.000612       access\n",
       "393        4  0.007782       access\n",
       "393        5  0.113939       access\n",
       "481        1  0.999541          air\n",
       "534        8  0.999617       airbnb\n",
       "271        4  0.999266      airport\n",
       "1977       8  0.996889       almost\n",
       "197        1  0.399824         also\n",
       "197        2  0.010826         also\n",
       "197        3  0.301174         also\n",
       "197        4  0.288108         also\n",
       "800        3  0.938263       always\n",
       "800        4  0.061517       always\n",
       "0          2  0.923328      amazing\n",
       "0          7  0.076130      amazing\n",
       "908        3  0.004127      amenity\n",
       "908        6  0.995791      amenity\n",
       "1044       7  0.999002        ample\n",
       "1412       4  0.998902     anywhere\n",
       "113        1  0.305530    apartment\n",
       "113        2  0.665715    apartment\n",
       "113        5  0.010399    apartment\n",
       "113        6  0.018355    apartment\n",
       "198        6  0.999499    appliance\n",
       "4          1  0.671457         area\n",
       "4          2  0.304843         area\n",
       "4          4  0.020562         area\n",
       "...      ...       ...          ...\n",
       "14595      9  0.997518  uncertainty\n",
       "594        7  0.999306       unique\n",
       "930        5  0.297792         unit\n",
       "930        6  0.701915         unit\n",
       "618        5  0.998731       update\n",
       "2194       4  0.996741       uptown\n",
       "111        1  0.593161          use\n",
       "111        3  0.406697          use\n",
       "1832       6  0.999196      utensil\n",
       "939        7  0.997520         vibe\n",
       "363        2  0.998731      vibrant\n",
       "328        7  0.999777         view\n",
       "268        2  0.999492      village\n",
       "868        7  0.998611      vintage\n",
       "194        3  0.999207        visit\n",
       "145        2  0.676161         walk\n",
       "145        4  0.323811         walk\n",
       "799        7  0.999309         wall\n",
       "365        3  0.999444         want\n",
       "366        3  0.999771      welcome\n",
       "65         6  0.999704         wifi\n",
       "390        3  0.999836         will\n",
       "533        1  0.004751       window\n",
       "533        7  0.995126       window\n",
       "1513       9  0.995462        woman\n",
       "195        1  0.027478         work\n",
       "195        3  0.965605         work\n",
       "195        7  0.006586         work\n",
       "1454       8  0.996100      working\n",
       "610        3  0.999770        would\n",
       "\n",
       "[548 rows x 3 columns], R=30, lambda_step=0.01, plot_opts={'xlab': 'PC1', 'ylab': 'PC2'}, topic_order=[8, 3, 5, 7, 4, 9, 2, 6, 1])"
      ]
     },
     "execution_count": 69,
     "metadata": {},
     "output_type": "execute_result"
    }
   ],
   "source": [
    "# Visualize the topics\n",
    "pyLDAvis.enable_notebook()\n",
    "vis_9 = pyLDAvis.gensim.prepare(models[7], corpus, id2word)\n",
    "vis_9"
   ]
  },
  {
   "cell_type": "code",
   "execution_count": 70,
   "metadata": {},
   "outputs": [],
   "source": [
    "pyLDAvis.save_html(vis_9, '../data/visualization_9_topics.html')"
   ]
  },
  {
   "cell_type": "markdown",
   "metadata": {},
   "source": [
    "## Creating DataFrame with scores and topics for 5 topics"
   ]
  },
  {
   "cell_type": "code",
   "execution_count": 52,
   "metadata": {},
   "outputs": [],
   "source": [
    "# function that returns data frame with \n",
    "def format_topics_sentences(ldamodel=None, corpus=corpus, texts=lst_texts):\n",
    "    # Init output\n",
    "    sent_topics_df = list()\n",
    "#     df_model_en_desc.reset_index(inplace=True)\n",
    "    \n",
    "    # Get main topic in each document\n",
    "    for i, row_list in enumerate(ldamodel[corpus]):\n",
    "        row = row_list[0] if ldamodel.per_word_topics else row_list            \n",
    "        row = sorted(row, key=lambda x: (x[1]), reverse=True)\n",
    "#         print(row)\n",
    "        sent_topics_df.append(row)\n",
    "        \n",
    "    sent_topics_df = pd.DataFrame(sent_topics_df)\n",
    "    sent_topics_df.columns = ['Dominant_Topic_1', 'Dominant_Topic_2', 'Dominant_Topic_3','Dominant_Topic_4','Dominant_Topic_5']\n",
    "    sent_topics_df = pd.concat([df_model_en_desc['id'],sent_topics_df], axis=1)\n",
    "    df_n_cols = sent_topics_df.shape[1]\n",
    "    \n",
    "    return sent_topics_df, df_n_cols"
   ]
  },
  {
   "cell_type": "code",
   "execution_count": 53,
   "metadata": {},
   "outputs": [],
   "source": [
    "sent_topics_df, df_n_cols = format_topics_sentences(ldamodel=models[3], corpus=corpus, texts=lst_texts)"
   ]
  },
  {
   "cell_type": "code",
   "execution_count": 54,
   "metadata": {},
   "outputs": [
    {
     "data": {
      "text/html": [
       "<div>\n",
       "<style scoped>\n",
       "    .dataframe tbody tr th:only-of-type {\n",
       "        vertical-align: middle;\n",
       "    }\n",
       "\n",
       "    .dataframe tbody tr th {\n",
       "        vertical-align: top;\n",
       "    }\n",
       "\n",
       "    .dataframe thead th {\n",
       "        text-align: right;\n",
       "    }\n",
       "</style>\n",
       "<table border=\"1\" class=\"dataframe\">\n",
       "  <thead>\n",
       "    <tr style=\"text-align: right;\">\n",
       "      <th></th>\n",
       "      <th>id</th>\n",
       "      <th>Dominant_Topic_1</th>\n",
       "      <th>Dominant_Topic_2</th>\n",
       "      <th>Dominant_Topic_3</th>\n",
       "      <th>Dominant_Topic_4</th>\n",
       "      <th>Dominant_Topic_5</th>\n",
       "    </tr>\n",
       "  </thead>\n",
       "  <tbody>\n",
       "    <tr>\n",
       "      <th>0</th>\n",
       "      <td>2595.0</td>\n",
       "      <td>(1, 0.43181944)</td>\n",
       "      <td>(4, 0.41875055)</td>\n",
       "      <td>(2, 0.095193185)</td>\n",
       "      <td>(3, 0.052078165)</td>\n",
       "      <td>None</td>\n",
       "    </tr>\n",
       "    <tr>\n",
       "      <th>1</th>\n",
       "      <td>3831.0</td>\n",
       "      <td>(4, 0.44952524)</td>\n",
       "      <td>(3, 0.2192561)</td>\n",
       "      <td>(1, 0.19868994)</td>\n",
       "      <td>(2, 0.12994526)</td>\n",
       "      <td>None</td>\n",
       "    </tr>\n",
       "    <tr>\n",
       "      <th>2</th>\n",
       "      <td>5099.0</td>\n",
       "      <td>(4, 0.4446007)</td>\n",
       "      <td>(2, 0.29668882)</td>\n",
       "      <td>(1, 0.2171981)</td>\n",
       "      <td>(3, 0.0393152)</td>\n",
       "      <td>None</td>\n",
       "    </tr>\n",
       "    <tr>\n",
       "      <th>3</th>\n",
       "      <td>5121.0</td>\n",
       "      <td>(3, 0.5458189)</td>\n",
       "      <td>(0, 0.26138443)</td>\n",
       "      <td>(2, 0.07747725)</td>\n",
       "      <td>(1, 0.0589012)</td>\n",
       "      <td>(4, 0.056418218)</td>\n",
       "    </tr>\n",
       "    <tr>\n",
       "      <th>4</th>\n",
       "      <td>5178.0</td>\n",
       "      <td>(4, 0.50688666)</td>\n",
       "      <td>(3, 0.24341352)</td>\n",
       "      <td>(2, 0.19195738)</td>\n",
       "      <td>(1, 0.031025914)</td>\n",
       "      <td>(0, 0.026716504)</td>\n",
       "    </tr>\n",
       "  </tbody>\n",
       "</table>\n",
       "</div>"
      ],
      "text/plain": [
       "       id Dominant_Topic_1 Dominant_Topic_2  Dominant_Topic_3  \\\n",
       "0  2595.0  (1, 0.43181944)  (4, 0.41875055)  (2, 0.095193185)   \n",
       "1  3831.0  (4, 0.44952524)   (3, 0.2192561)   (1, 0.19868994)   \n",
       "2  5099.0   (4, 0.4446007)  (2, 0.29668882)    (1, 0.2171981)   \n",
       "3  5121.0   (3, 0.5458189)  (0, 0.26138443)   (2, 0.07747725)   \n",
       "4  5178.0  (4, 0.50688666)  (3, 0.24341352)   (2, 0.19195738)   \n",
       "\n",
       "   Dominant_Topic_4  Dominant_Topic_5  \n",
       "0  (3, 0.052078165)              None  \n",
       "1   (2, 0.12994526)              None  \n",
       "2    (3, 0.0393152)              None  \n",
       "3    (1, 0.0589012)  (4, 0.056418218)  \n",
       "4  (1, 0.031025914)  (0, 0.026716504)  "
      ]
     },
     "execution_count": 54,
     "metadata": {},
     "output_type": "execute_result"
    }
   ],
   "source": [
    "sent_topics_df.head()"
   ]
  },
  {
   "cell_type": "code",
   "execution_count": 55,
   "metadata": {},
   "outputs": [
    {
     "data": {
      "text/plain": [
       "(27855, 6)"
      ]
     },
     "execution_count": 55,
     "metadata": {},
     "output_type": "execute_result"
    }
   ],
   "source": [
    "sent_topics_df.shape"
   ]
  },
  {
   "cell_type": "code",
   "execution_count": 56,
   "metadata": {},
   "outputs": [],
   "source": [
    "sent_topics_df = sent_topics_df.dropna()"
   ]
  },
  {
   "cell_type": "code",
   "execution_count": 57,
   "metadata": {},
   "outputs": [
    {
     "data": {
      "text/plain": [
       "(10307, 6)"
      ]
     },
     "execution_count": 57,
     "metadata": {},
     "output_type": "execute_result"
    }
   ],
   "source": [
    "sent_topics_df.shape"
   ]
  },
  {
   "cell_type": "markdown",
   "metadata": {},
   "source": [
    "### Separating the Topic from its score"
   ]
  },
  {
   "cell_type": "code",
   "execution_count": 58,
   "metadata": {},
   "outputs": [],
   "source": [
    "for i in range(1,df_n_cols):\n",
    "    top_col = 'topic' + str(i)\n",
    "    score_col = 'score_dom_topic_' + str(i)\n",
    "    sent_topics_df[top_col] = pd.DataFrame(sent_topics_df.iloc[:,i].tolist(), index=sent_topics_df.index)[0]\n",
    "    sent_topics_df[score_col] = pd.DataFrame(sent_topics_df.iloc[:,i].tolist(), index=sent_topics_df.index)[1]"
   ]
  },
  {
   "cell_type": "code",
   "execution_count": 59,
   "metadata": {},
   "outputs": [
    {
     "data": {
      "text/html": [
       "<div>\n",
       "<style scoped>\n",
       "    .dataframe tbody tr th:only-of-type {\n",
       "        vertical-align: middle;\n",
       "    }\n",
       "\n",
       "    .dataframe tbody tr th {\n",
       "        vertical-align: top;\n",
       "    }\n",
       "\n",
       "    .dataframe thead th {\n",
       "        text-align: right;\n",
       "    }\n",
       "</style>\n",
       "<table border=\"1\" class=\"dataframe\">\n",
       "  <thead>\n",
       "    <tr style=\"text-align: right;\">\n",
       "      <th></th>\n",
       "      <th>id</th>\n",
       "      <th>Dominant_Topic_1</th>\n",
       "      <th>Dominant_Topic_2</th>\n",
       "      <th>Dominant_Topic_3</th>\n",
       "      <th>Dominant_Topic_4</th>\n",
       "      <th>Dominant_Topic_5</th>\n",
       "      <th>topic1</th>\n",
       "      <th>score_dom_topic_1</th>\n",
       "      <th>topic2</th>\n",
       "      <th>score_dom_topic_2</th>\n",
       "      <th>topic3</th>\n",
       "      <th>score_dom_topic_3</th>\n",
       "      <th>topic4</th>\n",
       "      <th>score_dom_topic_4</th>\n",
       "      <th>topic5</th>\n",
       "      <th>score_dom_topic_5</th>\n",
       "    </tr>\n",
       "  </thead>\n",
       "  <tbody>\n",
       "    <tr>\n",
       "      <th>3</th>\n",
       "      <td>5121.0</td>\n",
       "      <td>(3, 0.5458189)</td>\n",
       "      <td>(0, 0.26138443)</td>\n",
       "      <td>(2, 0.07747725)</td>\n",
       "      <td>(1, 0.0589012)</td>\n",
       "      <td>(4, 0.056418218)</td>\n",
       "      <td>3</td>\n",
       "      <td>0.545819</td>\n",
       "      <td>0</td>\n",
       "      <td>0.261384</td>\n",
       "      <td>2</td>\n",
       "      <td>0.077477</td>\n",
       "      <td>1</td>\n",
       "      <td>0.058901</td>\n",
       "      <td>4</td>\n",
       "      <td>0.056418</td>\n",
       "    </tr>\n",
       "    <tr>\n",
       "      <th>4</th>\n",
       "      <td>5178.0</td>\n",
       "      <td>(4, 0.50688666)</td>\n",
       "      <td>(3, 0.24341352)</td>\n",
       "      <td>(2, 0.19195738)</td>\n",
       "      <td>(1, 0.031025914)</td>\n",
       "      <td>(0, 0.026716504)</td>\n",
       "      <td>4</td>\n",
       "      <td>0.506887</td>\n",
       "      <td>3</td>\n",
       "      <td>0.243414</td>\n",
       "      <td>2</td>\n",
       "      <td>0.191957</td>\n",
       "      <td>1</td>\n",
       "      <td>0.031026</td>\n",
       "      <td>0</td>\n",
       "      <td>0.026717</td>\n",
       "    </tr>\n",
       "    <tr>\n",
       "      <th>5</th>\n",
       "      <td>5238.0</td>\n",
       "      <td>(2, 0.42212516)</td>\n",
       "      <td>(3, 0.20713618)</td>\n",
       "      <td>(1, 0.19766873)</td>\n",
       "      <td>(4, 0.15185618)</td>\n",
       "      <td>(0, 0.02121371)</td>\n",
       "      <td>2</td>\n",
       "      <td>0.422125</td>\n",
       "      <td>3</td>\n",
       "      <td>0.207136</td>\n",
       "      <td>1</td>\n",
       "      <td>0.197669</td>\n",
       "      <td>4</td>\n",
       "      <td>0.151856</td>\n",
       "      <td>0</td>\n",
       "      <td>0.021214</td>\n",
       "    </tr>\n",
       "    <tr>\n",
       "      <th>10</th>\n",
       "      <td>6848.0</td>\n",
       "      <td>(4, 0.657404)</td>\n",
       "      <td>(3, 0.16298485)</td>\n",
       "      <td>(2, 0.116142824)</td>\n",
       "      <td>(1, 0.041097235)</td>\n",
       "      <td>(0, 0.022371046)</td>\n",
       "      <td>4</td>\n",
       "      <td>0.657404</td>\n",
       "      <td>3</td>\n",
       "      <td>0.162985</td>\n",
       "      <td>2</td>\n",
       "      <td>0.116143</td>\n",
       "      <td>1</td>\n",
       "      <td>0.041097</td>\n",
       "      <td>0</td>\n",
       "      <td>0.022371</td>\n",
       "    </tr>\n",
       "    <tr>\n",
       "      <th>15</th>\n",
       "      <td>8490.0</td>\n",
       "      <td>(4, 0.40794793)</td>\n",
       "      <td>(3, 0.3071768)</td>\n",
       "      <td>(1, 0.17648454)</td>\n",
       "      <td>(2, 0.0793006)</td>\n",
       "      <td>(0, 0.029090194)</td>\n",
       "      <td>4</td>\n",
       "      <td>0.407948</td>\n",
       "      <td>3</td>\n",
       "      <td>0.307177</td>\n",
       "      <td>1</td>\n",
       "      <td>0.176485</td>\n",
       "      <td>2</td>\n",
       "      <td>0.079301</td>\n",
       "      <td>0</td>\n",
       "      <td>0.029090</td>\n",
       "    </tr>\n",
       "  </tbody>\n",
       "</table>\n",
       "</div>"
      ],
      "text/plain": [
       "        id Dominant_Topic_1 Dominant_Topic_2  Dominant_Topic_3  \\\n",
       "3   5121.0   (3, 0.5458189)  (0, 0.26138443)   (2, 0.07747725)   \n",
       "4   5178.0  (4, 0.50688666)  (3, 0.24341352)   (2, 0.19195738)   \n",
       "5   5238.0  (2, 0.42212516)  (3, 0.20713618)   (1, 0.19766873)   \n",
       "10  6848.0    (4, 0.657404)  (3, 0.16298485)  (2, 0.116142824)   \n",
       "15  8490.0  (4, 0.40794793)   (3, 0.3071768)   (1, 0.17648454)   \n",
       "\n",
       "    Dominant_Topic_4  Dominant_Topic_5  topic1  score_dom_topic_1  topic2  \\\n",
       "3     (1, 0.0589012)  (4, 0.056418218)       3           0.545819       0   \n",
       "4   (1, 0.031025914)  (0, 0.026716504)       4           0.506887       3   \n",
       "5    (4, 0.15185618)   (0, 0.02121371)       2           0.422125       3   \n",
       "10  (1, 0.041097235)  (0, 0.022371046)       4           0.657404       3   \n",
       "15    (2, 0.0793006)  (0, 0.029090194)       4           0.407948       3   \n",
       "\n",
       "    score_dom_topic_2  topic3  score_dom_topic_3  topic4  score_dom_topic_4  \\\n",
       "3            0.261384       2           0.077477       1           0.058901   \n",
       "4            0.243414       2           0.191957       1           0.031026   \n",
       "5            0.207136       1           0.197669       4           0.151856   \n",
       "10           0.162985       2           0.116143       1           0.041097   \n",
       "15           0.307177       1           0.176485       2           0.079301   \n",
       "\n",
       "    topic5  score_dom_topic_5  \n",
       "3        4           0.056418  \n",
       "4        0           0.026717  \n",
       "5        0           0.021214  \n",
       "10       0           0.022371  \n",
       "15       0           0.029090  "
      ]
     },
     "execution_count": 59,
     "metadata": {},
     "output_type": "execute_result"
    }
   ],
   "source": [
    "sent_topics_df.head()"
   ]
  },
  {
   "cell_type": "code",
   "execution_count": 60,
   "metadata": {},
   "outputs": [],
   "source": [
    "# Dropping columns with tuples\n",
    "cols_2_drop = ['Dominant_Topic_1', 'Dominant_Topic_2','Dominant_Topic_3','Dominant_Topic_4','Dominant_Topic_5']\n",
    "sent_topics_df.drop(columns=cols_2_drop, inplace=True)"
   ]
  },
  {
   "cell_type": "code",
   "execution_count": 61,
   "metadata": {},
   "outputs": [
    {
     "data": {
      "text/html": [
       "<div>\n",
       "<style scoped>\n",
       "    .dataframe tbody tr th:only-of-type {\n",
       "        vertical-align: middle;\n",
       "    }\n",
       "\n",
       "    .dataframe tbody tr th {\n",
       "        vertical-align: top;\n",
       "    }\n",
       "\n",
       "    .dataframe thead th {\n",
       "        text-align: right;\n",
       "    }\n",
       "</style>\n",
       "<table border=\"1\" class=\"dataframe\">\n",
       "  <thead>\n",
       "    <tr style=\"text-align: right;\">\n",
       "      <th></th>\n",
       "      <th>id</th>\n",
       "      <th>topic1</th>\n",
       "      <th>score_dom_topic_1</th>\n",
       "      <th>topic2</th>\n",
       "      <th>score_dom_topic_2</th>\n",
       "      <th>topic3</th>\n",
       "      <th>score_dom_topic_3</th>\n",
       "      <th>topic4</th>\n",
       "      <th>score_dom_topic_4</th>\n",
       "      <th>topic5</th>\n",
       "      <th>score_dom_topic_5</th>\n",
       "    </tr>\n",
       "  </thead>\n",
       "  <tbody>\n",
       "    <tr>\n",
       "      <th>3</th>\n",
       "      <td>5121.0</td>\n",
       "      <td>3</td>\n",
       "      <td>0.545819</td>\n",
       "      <td>0</td>\n",
       "      <td>0.261384</td>\n",
       "      <td>2</td>\n",
       "      <td>0.077477</td>\n",
       "      <td>1</td>\n",
       "      <td>0.058901</td>\n",
       "      <td>4</td>\n",
       "      <td>0.056418</td>\n",
       "    </tr>\n",
       "    <tr>\n",
       "      <th>4</th>\n",
       "      <td>5178.0</td>\n",
       "      <td>4</td>\n",
       "      <td>0.506887</td>\n",
       "      <td>3</td>\n",
       "      <td>0.243414</td>\n",
       "      <td>2</td>\n",
       "      <td>0.191957</td>\n",
       "      <td>1</td>\n",
       "      <td>0.031026</td>\n",
       "      <td>0</td>\n",
       "      <td>0.026717</td>\n",
       "    </tr>\n",
       "    <tr>\n",
       "      <th>5</th>\n",
       "      <td>5238.0</td>\n",
       "      <td>2</td>\n",
       "      <td>0.422125</td>\n",
       "      <td>3</td>\n",
       "      <td>0.207136</td>\n",
       "      <td>1</td>\n",
       "      <td>0.197669</td>\n",
       "      <td>4</td>\n",
       "      <td>0.151856</td>\n",
       "      <td>0</td>\n",
       "      <td>0.021214</td>\n",
       "    </tr>\n",
       "    <tr>\n",
       "      <th>10</th>\n",
       "      <td>6848.0</td>\n",
       "      <td>4</td>\n",
       "      <td>0.657404</td>\n",
       "      <td>3</td>\n",
       "      <td>0.162985</td>\n",
       "      <td>2</td>\n",
       "      <td>0.116143</td>\n",
       "      <td>1</td>\n",
       "      <td>0.041097</td>\n",
       "      <td>0</td>\n",
       "      <td>0.022371</td>\n",
       "    </tr>\n",
       "    <tr>\n",
       "      <th>15</th>\n",
       "      <td>8490.0</td>\n",
       "      <td>4</td>\n",
       "      <td>0.407948</td>\n",
       "      <td>3</td>\n",
       "      <td>0.307177</td>\n",
       "      <td>1</td>\n",
       "      <td>0.176485</td>\n",
       "      <td>2</td>\n",
       "      <td>0.079301</td>\n",
       "      <td>0</td>\n",
       "      <td>0.029090</td>\n",
       "    </tr>\n",
       "  </tbody>\n",
       "</table>\n",
       "</div>"
      ],
      "text/plain": [
       "        id  topic1  score_dom_topic_1  topic2  score_dom_topic_2  topic3  \\\n",
       "3   5121.0       3           0.545819       0           0.261384       2   \n",
       "4   5178.0       4           0.506887       3           0.243414       2   \n",
       "5   5238.0       2           0.422125       3           0.207136       1   \n",
       "10  6848.0       4           0.657404       3           0.162985       2   \n",
       "15  8490.0       4           0.407948       3           0.307177       1   \n",
       "\n",
       "    score_dom_topic_3  topic4  score_dom_topic_4  topic5  score_dom_topic_5  \n",
       "3            0.077477       1           0.058901       4           0.056418  \n",
       "4            0.191957       1           0.031026       0           0.026717  \n",
       "5            0.197669       4           0.151856       0           0.021214  \n",
       "10           0.116143       1           0.041097       0           0.022371  \n",
       "15           0.176485       2           0.079301       0           0.029090  "
      ]
     },
     "execution_count": 61,
     "metadata": {},
     "output_type": "execute_result"
    }
   ],
   "source": [
    "sent_topics_df.head()"
   ]
  },
  {
   "cell_type": "code",
   "execution_count": 62,
   "metadata": {},
   "outputs": [],
   "source": [
    "# Formatting DataFrame\n",
    "sent_topics_df.rename(columns={\"topic1\": \"winner_topic\",\n",
    "                               \"score_dom_topic_1\":\"winner_topic_score\",\n",
    "                               \"topic2\": \"second_place_topic\",\n",
    "                               \"score_dom_topic_2\":\"second_topic_score\",\n",
    "                               \"topic3\": \"third_place_topic\",\n",
    "                               \"score_dom_topic_3\":\"third_topic_score\",\n",
    "                               \"topic4\": \"fourth_place_topic\",\n",
    "                               \"score_dom_topic_4\":\"fourth_topic_score\",\n",
    "                              \"topic5\": \"fifth_place_topic\",\n",
    "                               \"score_dom_topic_5\":\"fifth_topic_score\"},inplace=True)"
   ]
  },
  {
   "cell_type": "code",
   "execution_count": 63,
   "metadata": {},
   "outputs": [
    {
     "data": {
      "text/html": [
       "<div>\n",
       "<style scoped>\n",
       "    .dataframe tbody tr th:only-of-type {\n",
       "        vertical-align: middle;\n",
       "    }\n",
       "\n",
       "    .dataframe tbody tr th {\n",
       "        vertical-align: top;\n",
       "    }\n",
       "\n",
       "    .dataframe thead th {\n",
       "        text-align: right;\n",
       "    }\n",
       "</style>\n",
       "<table border=\"1\" class=\"dataframe\">\n",
       "  <thead>\n",
       "    <tr style=\"text-align: right;\">\n",
       "      <th></th>\n",
       "      <th>id</th>\n",
       "      <th>winner_topic</th>\n",
       "      <th>winner_topic_score</th>\n",
       "      <th>second_place_topic</th>\n",
       "      <th>second_topic_score</th>\n",
       "      <th>third_place_topic</th>\n",
       "      <th>third_topic_score</th>\n",
       "      <th>fourth_place_topic</th>\n",
       "      <th>fourth_topic_score</th>\n",
       "      <th>fifth_place_topic</th>\n",
       "      <th>fifth_topic_score</th>\n",
       "    </tr>\n",
       "  </thead>\n",
       "  <tbody>\n",
       "    <tr>\n",
       "      <th>3</th>\n",
       "      <td>5121.0</td>\n",
       "      <td>3</td>\n",
       "      <td>0.545819</td>\n",
       "      <td>0</td>\n",
       "      <td>0.261384</td>\n",
       "      <td>2</td>\n",
       "      <td>0.077477</td>\n",
       "      <td>1</td>\n",
       "      <td>0.058901</td>\n",
       "      <td>4</td>\n",
       "      <td>0.056418</td>\n",
       "    </tr>\n",
       "    <tr>\n",
       "      <th>4</th>\n",
       "      <td>5178.0</td>\n",
       "      <td>4</td>\n",
       "      <td>0.506887</td>\n",
       "      <td>3</td>\n",
       "      <td>0.243414</td>\n",
       "      <td>2</td>\n",
       "      <td>0.191957</td>\n",
       "      <td>1</td>\n",
       "      <td>0.031026</td>\n",
       "      <td>0</td>\n",
       "      <td>0.026717</td>\n",
       "    </tr>\n",
       "    <tr>\n",
       "      <th>5</th>\n",
       "      <td>5238.0</td>\n",
       "      <td>2</td>\n",
       "      <td>0.422125</td>\n",
       "      <td>3</td>\n",
       "      <td>0.207136</td>\n",
       "      <td>1</td>\n",
       "      <td>0.197669</td>\n",
       "      <td>4</td>\n",
       "      <td>0.151856</td>\n",
       "      <td>0</td>\n",
       "      <td>0.021214</td>\n",
       "    </tr>\n",
       "    <tr>\n",
       "      <th>10</th>\n",
       "      <td>6848.0</td>\n",
       "      <td>4</td>\n",
       "      <td>0.657404</td>\n",
       "      <td>3</td>\n",
       "      <td>0.162985</td>\n",
       "      <td>2</td>\n",
       "      <td>0.116143</td>\n",
       "      <td>1</td>\n",
       "      <td>0.041097</td>\n",
       "      <td>0</td>\n",
       "      <td>0.022371</td>\n",
       "    </tr>\n",
       "    <tr>\n",
       "      <th>15</th>\n",
       "      <td>8490.0</td>\n",
       "      <td>4</td>\n",
       "      <td>0.407948</td>\n",
       "      <td>3</td>\n",
       "      <td>0.307177</td>\n",
       "      <td>1</td>\n",
       "      <td>0.176485</td>\n",
       "      <td>2</td>\n",
       "      <td>0.079301</td>\n",
       "      <td>0</td>\n",
       "      <td>0.029090</td>\n",
       "    </tr>\n",
       "  </tbody>\n",
       "</table>\n",
       "</div>"
      ],
      "text/plain": [
       "        id  winner_topic  winner_topic_score  second_place_topic  \\\n",
       "3   5121.0             3            0.545819                   0   \n",
       "4   5178.0             4            0.506887                   3   \n",
       "5   5238.0             2            0.422125                   3   \n",
       "10  6848.0             4            0.657404                   3   \n",
       "15  8490.0             4            0.407948                   3   \n",
       "\n",
       "    second_topic_score  third_place_topic  third_topic_score  \\\n",
       "3             0.261384                  2           0.077477   \n",
       "4             0.243414                  2           0.191957   \n",
       "5             0.207136                  1           0.197669   \n",
       "10            0.162985                  2           0.116143   \n",
       "15            0.307177                  1           0.176485   \n",
       "\n",
       "    fourth_place_topic  fourth_topic_score  fifth_place_topic  \\\n",
       "3                    1            0.058901                  4   \n",
       "4                    1            0.031026                  0   \n",
       "5                    4            0.151856                  0   \n",
       "10                   1            0.041097                  0   \n",
       "15                   2            0.079301                  0   \n",
       "\n",
       "    fifth_topic_score  \n",
       "3            0.056418  \n",
       "4            0.026717  \n",
       "5            0.021214  \n",
       "10           0.022371  \n",
       "15           0.029090  "
      ]
     },
     "execution_count": 63,
     "metadata": {},
     "output_type": "execute_result"
    }
   ],
   "source": [
    "sent_topics_df.head()"
   ]
  },
  {
   "cell_type": "markdown",
   "metadata": {},
   "source": [
    "## Modeling"
   ]
  },
  {
   "cell_type": "code",
   "execution_count": 71,
   "metadata": {},
   "outputs": [],
   "source": [
    "# Merging the initial DataFrame with features with the topics DataFrame\n",
    "df_model_en_desc_merged = pd.merge(left=df_model_en_desc, right=sent_topics_df, how='left', on='id')"
   ]
  },
  {
   "cell_type": "code",
   "execution_count": 72,
   "metadata": {},
   "outputs": [
    {
     "data": {
      "text/html": [
       "<div>\n",
       "<style scoped>\n",
       "    .dataframe tbody tr th:only-of-type {\n",
       "        vertical-align: middle;\n",
       "    }\n",
       "\n",
       "    .dataframe tbody tr th {\n",
       "        vertical-align: top;\n",
       "    }\n",
       "\n",
       "    .dataframe thead th {\n",
       "        text-align: right;\n",
       "    }\n",
       "</style>\n",
       "<table border=\"1\" class=\"dataframe\">\n",
       "  <thead>\n",
       "    <tr style=\"text-align: right;\">\n",
       "      <th></th>\n",
       "      <th>id</th>\n",
       "      <th>host_since</th>\n",
       "      <th>host_is_superhost</th>\n",
       "      <th>host_identity_verified</th>\n",
       "      <th>is_location_exact</th>\n",
       "      <th>accommodates</th>\n",
       "    </tr>\n",
       "  </thead>\n",
       "  <tbody>\n",
       "    <tr>\n",
       "      <th>0</th>\n",
       "      <td>2595</td>\n",
       "      <td>733294</td>\n",
       "      <td>0</td>\n",
       "      <td>1</td>\n",
       "      <td>0</td>\n",
       "      <td>2</td>\n",
       "    </tr>\n",
       "    <tr>\n",
       "      <th>1</th>\n",
       "      <td>3831</td>\n",
       "      <td>733383</td>\n",
       "      <td>0</td>\n",
       "      <td>1</td>\n",
       "      <td>1</td>\n",
       "      <td>3</td>\n",
       "    </tr>\n",
       "    <tr>\n",
       "      <th>2</th>\n",
       "      <td>5099</td>\n",
       "      <td>733440</td>\n",
       "      <td>0</td>\n",
       "      <td>0</td>\n",
       "      <td>0</td>\n",
       "      <td>2</td>\n",
       "    </tr>\n",
       "    <tr>\n",
       "      <th>3</th>\n",
       "      <td>5121</td>\n",
       "      <td>733441</td>\n",
       "      <td>0</td>\n",
       "      <td>0</td>\n",
       "      <td>0</td>\n",
       "      <td>2</td>\n",
       "    </tr>\n",
       "    <tr>\n",
       "      <th>4</th>\n",
       "      <td>5178</td>\n",
       "      <td>733469</td>\n",
       "      <td>0</td>\n",
       "      <td>0</td>\n",
       "      <td>1</td>\n",
       "      <td>2</td>\n",
       "    </tr>\n",
       "  </tbody>\n",
       "</table>\n",
       "</div>"
      ],
      "text/plain": [
       "     id  host_since  host_is_superhost  host_identity_verified  \\\n",
       "0  2595      733294                  0                       1   \n",
       "1  3831      733383                  0                       1   \n",
       "2  5099      733440                  0                       0   \n",
       "3  5121      733441                  0                       0   \n",
       "4  5178      733469                  0                       0   \n",
       "\n",
       "   is_location_exact  accommodates  \n",
       "0                  0             2  \n",
       "1                  1             3  \n",
       "2                  0             2  \n",
       "3                  0             2  \n",
       "4                  1             2  "
      ]
     },
     "execution_count": 72,
     "metadata": {},
     "output_type": "execute_result"
    }
   ],
   "source": [
    "df_model_en_desc_merged.iloc[:,0:6].head()"
   ]
  },
  {
   "cell_type": "code",
   "execution_count": 73,
   "metadata": {},
   "outputs": [
    {
     "data": {
      "text/plain": [
       "(27106, 57)"
      ]
     },
     "execution_count": 73,
     "metadata": {},
     "output_type": "execute_result"
    }
   ],
   "source": [
    "df_model_en_desc_merged.shape"
   ]
  },
  {
   "cell_type": "code",
   "execution_count": 74,
   "metadata": {},
   "outputs": [],
   "source": [
    "df_model_en_desc_merged = df_model_en_desc_merged.dropna()"
   ]
  },
  {
   "cell_type": "code",
   "execution_count": 75,
   "metadata": {},
   "outputs": [
    {
     "data": {
      "text/plain": [
       "(10307, 57)"
      ]
     },
     "execution_count": 75,
     "metadata": {},
     "output_type": "execute_result"
    }
   ],
   "source": [
    "df_model_en_desc_merged.shape"
   ]
  },
  {
   "cell_type": "markdown",
   "metadata": {},
   "source": [
    "### Understanding the topic that appears as winner the most"
   ]
  },
  {
   "cell_type": "code",
   "execution_count": 76,
   "metadata": {},
   "outputs": [
    {
     "name": "stdout",
     "output_type": "stream",
     "text": [
      "winner_topic\n",
      "0.0     232\n",
      "1.0     615\n",
      "2.0    3050\n",
      "3.0    2970\n",
      "4.0    3440\n",
      "Name: winner_topic, dtype: int64\n"
     ]
    },
    {
     "data": {
      "text/plain": [
       "<matplotlib.axes._subplots.AxesSubplot at 0x7fbb7fc35470>"
      ]
     },
     "execution_count": 76,
     "metadata": {},
     "output_type": "execute_result"
    },
    {
     "data": {
      "image/png": "[encoded data removed]",
      "text/plain": [
       "<Figure size 576x396 with 1 Axes>"
      ]
     },
     "metadata": {},
     "output_type": "display_data"
    }
   ],
   "source": [
    "df = df_model_en_desc_merged.groupby('winner_topic')['winner_topic'].size()\n",
    "print(df)\n",
    "df.plot(kind='bar')"
   ]
  },
  {
   "cell_type": "markdown",
   "metadata": {},
   "source": [
    "### Creating features X"
   ]
  },
  {
   "cell_type": "code",
   "execution_count": 77,
   "metadata": {},
   "outputs": [],
   "source": [
    "X = df_model_en_desc_merged.iloc[:, 1:]\n",
    "X = X.loc[:, X.columns != 'price']\n",
    "X = X.loc[:, X.columns != 'content']\n",
    "X = X.loc[:, X.columns != 'content_lang']"
   ]
  },
  {
   "cell_type": "markdown",
   "metadata": {},
   "source": [
    "### Creating target y"
   ]
  },
  {
   "cell_type": "code",
   "execution_count": 78,
   "metadata": {},
   "outputs": [],
   "source": [
    "y = df_model_en_desc_merged.price"
   ]
  },
  {
   "cell_type": "code",
   "execution_count": null,
   "metadata": {},
   "outputs": [],
   "source": [
    "## Split train - test sets"
   ]
  },
  {
   "cell_type": "code",
   "execution_count": 79,
   "metadata": {},
   "outputs": [],
   "source": [
    "# X_train, X_test, y_train, y_test = train_test_split(X, y, test_size=0.2)"
   ]
  },
  {
   "cell_type": "code",
   "execution_count": 80,
   "metadata": {},
   "outputs": [],
   "source": [
    "# Creating a list of features to use as labels in FeatureImportances\n",
    "features=list()\n",
    "\n",
    "for col in df_model_en_desc_merged.columns:\n",
    "    features.append(col)\n",
    "\n",
    "# Removing price and id from labels\n",
    "features.remove('price')\n",
    "features.remove('content')\n",
    "features.remove('content_lang')\n",
    "features.remove('id')"
   ]
  },
  {
   "cell_type": "code",
   "execution_count": 81,
   "metadata": {},
   "outputs": [
    {
     "data": {
      "text/plain": [
       "((8245, 53), 53, (8245,))"
      ]
     },
     "execution_count": 81,
     "metadata": {},
     "output_type": "execute_result"
    }
   ],
   "source": [
    "# X_train.shape, len(features), y_train.shape"
   ]
  },
  {
   "cell_type": "markdown",
   "metadata": {},
   "source": [
    "### Creating a Cross-Validation Strategy"
   ]
  },
  {
   "cell_type": "code",
   "execution_count": 96,
   "metadata": {},
   "outputs": [],
   "source": [
    "# Create a cross-validation strategy\n",
    "cv = StratifiedKFold(n_splits=12, random_state=42)"
   ]
  },
  {
   "cell_type": "markdown",
   "metadata": {},
   "source": [
    "## Evaluating multiple Regressors"
   ]
  },
  {
   "cell_type": "code",
   "execution_count": 99,
   "metadata": {},
   "outputs": [
    {
     "data": {
      "image/png": "[encoded data removed]",
      "text/plain": [
       "<Figure size 432x288 with 1 Axes>"
      ]
     },
     "metadata": {
      "needs_background": "light"
     },
     "output_type": "display_data"
    },
    {
     "data": {
      "image/png": "[encoded data removed]",
      "text/plain": [
       "<Figure size 432x288 with 1 Axes>"
      ]
     },
     "metadata": {
      "needs_background": "light"
     },
     "output_type": "display_data"
    },
    {
     "data": {
      "image/png": "[encoded data removed]",
      "text/plain": [
       "<Figure size 432x288 with 1 Axes>"
      ]
     },
     "metadata": {
      "needs_background": "light"
     },
     "output_type": "display_data"
    },
    {
     "data": {
      "image/png": "[encoded data removed]",
      "text/plain": [
       "<Figure size 432x288 with 1 Axes>"
      ]
     },
     "metadata": {
      "needs_background": "light"
     },
     "output_type": "display_data"
    },
    {
     "data": {
      "image/png": "[encoded data removed]",
      "text/plain": [
       "<Figure size 432x288 with 1 Axes>"
      ]
     },
     "metadata": {
      "needs_background": "light"
     },
     "output_type": "display_data"
    },
    {
     "data": {
      "image/png": "[encoded data removed]",
      "text/plain": [
       "<Figure size 432x288 with 1 Axes>"
      ]
     },
     "metadata": {
      "needs_background": "light"
     },
     "output_type": "display_data"
    }
   ],
   "source": [
    "regressors = {\n",
    "    \"support vector machine\": SVR(),\n",
    "    \"multilayer perceptron\": MLPRegressor(),\n",
    "    \"nearest neighbors\": KNeighborsRegressor(),\n",
    "    \"bayesian ridge\": BayesianRidge(),\n",
    "    \"linear regression\": LinearRegression(),\n",
    "    \"random forest\": RandomForestRegressor(),\n",
    "}\n",
    "\n",
    "for _, regressor in regressors.items():\n",
    "#     visualizer = ResidualsPlot(regressor)\n",
    "#     visualizer.fit(X_train, y_train)\n",
    "#     visualizer.score(X_test, y_test)\n",
    "#     visualizer.show()\n",
    "    # Instantiate the classification model and visualizer\n",
    "\n",
    "    visualizer = CVScores(regressor, cv=cv)\n",
    "    visualizer.fit(X, y)\n",
    "    visualizer.show()"
   ]
  },
  {
   "cell_type": "markdown",
   "metadata": {},
   "source": [
    "## Feature Importance of Baseline Random Forest"
   ]
  },
  {
   "cell_type": "code",
   "execution_count": 93,
   "metadata": {},
   "outputs": [
    {
     "data": {
      "image/png": "[encoded data removed]",
      "text/plain": [
       "<Figure size 1080x1080 with 1 Axes>"
      ]
     },
     "metadata": {
      "needs_background": "light"
     },
     "output_type": "display_data"
    },
    {
     "data": {
      "text/plain": [
       "<matplotlib.axes._subplots.AxesSubplot at 0x7fbbf7420cc0>"
      ]
     },
     "execution_count": 93,
     "metadata": {},
     "output_type": "execute_result"
    }
   ],
   "source": [
    "viz = FeatureImportances(regressors['random forest'], labels=features, size=(1080, 1080))\n",
    "viz.fit(X_train, y_train)\n",
    "\n",
    "# Note: the FeatureImportances visualizer is a model visualizer,\n",
    "# not a feature visualizer, so it doesn't have a transform method!\n",
    "viz.show()"
   ]
  }
 ],
 "metadata": {
  "kernelspec": {
   "display_name": "capst_kernel",
   "language": "python",
   "name": "capst_kernel"
  },
  "language_info": {
   "codemirror_mode": {
    "name": "ipython",
    "version": 3
   },
   "file_extension": ".py",
   "mimetype": "text/x-python",
   "name": "python",
   "nbconvert_exporter": "python",
   "pygments_lexer": "ipython3",
   "version": "3.6.10"
  }
 },
 "nbformat": 4,
 "nbformat_minor": 4
}
